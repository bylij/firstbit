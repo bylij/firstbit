{
 "cells": [
  {
   "cell_type": "code",
   "execution_count": 11,
   "id": "fd4a40b9",
   "metadata": {},
   "outputs": [
    {
     "data": {
      "text/plain": [
       "[1, 2, 'hello', 'world']"
      ]
     },
     "execution_count": 11,
     "metadata": {},
     "output_type": "execute_result"
    }
   ],
   "source": [
    "l = [1, 2, 'hello', 'world'] # 列表中可以同时含有整型和字符串类型的元素\n",
    "l"
   ]
  },
  {
   "cell_type": "code",
   "execution_count": 12,
   "id": "424c3268",
   "metadata": {},
   "outputs": [
    {
     "data": {
      "text/plain": [
       "('jason', 22)"
      ]
     },
     "execution_count": 12,
     "metadata": {},
     "output_type": "execute_result"
    }
   ],
   "source": [
    "tup = ('jason', 22) # 元组中也可以同时含有整型和字符串类型的元素\n",
    "tup"
   ]
  },
  {
   "cell_type": "code",
   "execution_count": 13,
   "id": "740a49f4",
   "metadata": {},
   "outputs": [
    {
     "data": {
      "text/plain": [
       "[1, 2, 3, 40]"
      ]
     },
     "execution_count": 13,
     "metadata": {},
     "output_type": "execute_result"
    }
   ],
   "source": [
    "l = [1, 2, 3, 4]\n",
    "l[3] = 40 # 列表是可变的，这里将第四个元素进行更改\n",
    "l"
   ]
  },
  {
   "cell_type": "code",
   "execution_count": 14,
   "id": "002bfb8a",
   "metadata": {},
   "outputs": [
    {
     "ename": "TypeError",
     "evalue": "'tuple' object does not support item assignment",
     "output_type": "error",
     "traceback": [
      "\u001b[31m---------------------------------------------------------------------------\u001b[39m",
      "\u001b[31mTypeError\u001b[39m                                 Traceback (most recent call last)",
      "\u001b[36mCell\u001b[39m\u001b[36m \u001b[39m\u001b[32mIn[14]\u001b[39m\u001b[32m, line 2\u001b[39m\n\u001b[32m      1\u001b[39m tup = (\u001b[32m1\u001b[39m, \u001b[32m2\u001b[39m, \u001b[32m3\u001b[39m, \u001b[32m4\u001b[39m)\n\u001b[32m----> \u001b[39m\u001b[32m2\u001b[39m \u001b[43mtup\u001b[49m\u001b[43m[\u001b[49m\u001b[32;43m3\u001b[39;49m\u001b[43m]\u001b[49m = \u001b[32m40\u001b[39m \u001b[38;5;66;03m# 元组是不可变的，这里的操作将会报错\u001b[39;00m\n",
      "\u001b[31mTypeError\u001b[39m: 'tuple' object does not support item assignment"
     ]
    }
   ],
   "source": [
    "tup = (1, 2, 3, 4)\n",
    "tup[3] = 40 # 元组是不可变的，这里的操作将会报错"
   ]
  },
  {
   "cell_type": "code",
   "execution_count": 15,
   "id": "78c5936c",
   "metadata": {},
   "outputs": [
    {
     "data": {
      "text/plain": [
       "(1, 2, 3, 4, 5)"
      ]
     },
     "execution_count": 15,
     "metadata": {},
     "output_type": "execute_result"
    }
   ],
   "source": [
    "tup = (1, 2, 3, 4)\n",
    "new_tup = tup + (5,) # 创建新的元组并将旧的元组进行拷贝，然后在末尾添加一个新元素，注意这里 (5,) 被理解为一个单一元素的元组\n",
    "# print(type((5)), type((5,))) # 这里是对上面的说明：(5) 被理解为一个整型，(5,) 则被理解为一个元组\n",
    "new_tup"
   ]
  },
  {
   "cell_type": "code",
   "execution_count": 16,
   "id": "402e3399",
   "metadata": {},
   "outputs": [
    {
     "data": {
      "text/plain": [
       "[1, 2, 3, 4, 5]"
      ]
     },
     "execution_count": 16,
     "metadata": {},
     "output_type": "execute_result"
    }
   ],
   "source": [
    "l = [1, 2, 3, 4]\n",
    "l.append(5) # 相比之下，可以在原有列表上直接附加元素\n",
    "l"
   ]
  },
  {
   "cell_type": "code",
   "execution_count": 17,
   "id": "5e763a0c",
   "metadata": {},
   "outputs": [
    {
     "data": {
      "text/plain": [
       "4"
      ]
     },
     "execution_count": 17,
     "metadata": {},
     "output_type": "execute_result"
    }
   ],
   "source": [
    "l = [1, 2, 3, 4]\n",
    "l[-1] # python 支持负数索引，-1 代表最后一个元素，-2 代表倒数第二个元素，这是一种循环索引模式，保证永不越界"
   ]
  },
  {
   "cell_type": "code",
   "execution_count": 18,
   "id": "669c2b3d",
   "metadata": {},
   "outputs": [
    {
     "data": {
      "text/plain": [
       "4"
      ]
     },
     "execution_count": 18,
     "metadata": {},
     "output_type": "execute_result"
    }
   ],
   "source": [
    "tup = (1, 2, 3, 4)\n",
    "tup[-1] # 元组同样支持负数索引"
   ]
  },
  {
   "cell_type": "code",
   "execution_count": 19,
   "id": "14059598",
   "metadata": {},
   "outputs": [
    {
     "data": {
      "text/plain": [
       "[2, 3]"
      ]
     },
     "execution_count": 19,
     "metadata": {},
     "output_type": "execute_result"
    }
   ],
   "source": [
    "l = [1, 2, 3, 4]\n",
    "l[1:3] # 列表支持切片操作，注意 a:b 代表截取索引 a 到索引 b-1 的元素，因此这里代表截取索引 1 到索引 2 的元素"
   ]
  },
  {
   "cell_type": "code",
   "execution_count": 20,
   "id": "03256908",
   "metadata": {},
   "outputs": [
    {
     "data": {
      "text/plain": [
       "(2, 3)"
      ]
     },
     "execution_count": 20,
     "metadata": {},
     "output_type": "execute_result"
    }
   ],
   "source": [
    "tup = (1, 2, 3, 4)\n",
    "tup[1:3] # 元组同样支持切片操作"
   ]
  },
  {
   "cell_type": "code",
   "execution_count": 21,
   "id": "0e96ebaf",
   "metadata": {},
   "outputs": [
    {
     "data": {
      "text/plain": [
       "[[1, 2, 3], [4, 5, 6]]"
      ]
     },
     "execution_count": 21,
     "metadata": {},
     "output_type": "execute_result"
    }
   ],
   "source": [
    "l =[[1, 2, 3], [4, 5, 6]] # 列表支持嵌套，其中的元素也可以是列表\n",
    "l"
   ]
  },
  {
   "cell_type": "code",
   "execution_count": 22,
   "id": "b6db94ad",
   "metadata": {},
   "outputs": [
    {
     "data": {
      "text/plain": [
       "[[1, 2, 3], (4, 5, 6)]"
      ]
     },
     "execution_count": 22,
     "metadata": {},
     "output_type": "execute_result"
    }
   ],
   "source": [
    "l = [[1, 2, 3], (4, 5, 6)] # 元组可以嵌套在列表中\n",
    "l"
   ]
  },
  {
   "cell_type": "code",
   "execution_count": 23,
   "id": "e9580290",
   "metadata": {},
   "outputs": [
    {
     "data": {
      "text/plain": [
       "((1, 2, 3), (4, 5, 6))"
      ]
     },
     "execution_count": 23,
     "metadata": {},
     "output_type": "execute_result"
    }
   ],
   "source": [
    "tup = ((1, 2, 3), (4, 5, 6)) # 元组同样支持嵌套\n",
    "tup"
   ]
  },
  {
   "cell_type": "code",
   "execution_count": 24,
   "id": "437cec81",
   "metadata": {},
   "outputs": [
    {
     "data": {
      "text/plain": [
       "((1, 2, 3), [4, 5, 6])"
      ]
     },
     "execution_count": 24,
     "metadata": {},
     "output_type": "execute_result"
    }
   ],
   "source": [
    "tup = ((1, 2, 3), [4, 5, 6]) # 列表也可以嵌套在元组中\n",
    "tup"
   ]
  },
  {
   "cell_type": "code",
   "execution_count": 25,
   "id": "d1ccd921",
   "metadata": {},
   "outputs": [
    {
     "data": {
      "text/plain": [
       "[1, 2, 3]"
      ]
     },
     "execution_count": 25,
     "metadata": {},
     "output_type": "execute_result"
    }
   ],
   "source": [
    "list((1, 2, 3)) # 将元组转化为列表"
   ]
  },
  {
   "cell_type": "code",
   "execution_count": 26,
   "id": "6620110e",
   "metadata": {},
   "outputs": [
    {
     "data": {
      "text/plain": [
       "(1, 2, 3)"
      ]
     },
     "execution_count": 26,
     "metadata": {},
     "output_type": "execute_result"
    }
   ],
   "source": [
    "tuple([1, 2, 3]) # 将列表转化为元组"
   ]
  },
  {
   "cell_type": "code",
   "execution_count": 27,
   "id": "d118b60a",
   "metadata": {},
   "outputs": [
    {
     "data": {
      "text/plain": [
       "2"
      ]
     },
     "execution_count": 27,
     "metadata": {},
     "output_type": "execute_result"
    }
   ],
   "source": [
    "l = [3, 2, 3, 7, 8, 1]\n",
    "l.count(3) # 列表内建函数，统计一个元素的个数"
   ]
  },
  {
   "cell_type": "code",
   "execution_count": 28,
   "id": "90f43fbf",
   "metadata": {},
   "outputs": [
    {
     "data": {
      "text/plain": [
       "3"
      ]
     },
     "execution_count": 28,
     "metadata": {},
     "output_type": "execute_result"
    }
   ],
   "source": [
    "l.index(7) # 列表内建函数，返回元素的索引"
   ]
  },
  {
   "cell_type": "code",
   "execution_count": 29,
   "id": "4e887e06",
   "metadata": {},
   "outputs": [
    {
     "ename": "ValueError",
     "evalue": "100 is not in list",
     "output_type": "error",
     "traceback": [
      "\u001b[31m---------------------------------------------------------------------------\u001b[39m",
      "\u001b[31mValueError\u001b[39m                                Traceback (most recent call last)",
      "\u001b[36mCell\u001b[39m\u001b[36m \u001b[39m\u001b[32mIn[29]\u001b[39m\u001b[32m, line 1\u001b[39m\n\u001b[32m----> \u001b[39m\u001b[32m1\u001b[39m \u001b[43ml\u001b[49m\u001b[43m.\u001b[49m\u001b[43mindex\u001b[49m\u001b[43m(\u001b[49m\u001b[32;43m100\u001b[39;49m\u001b[43m)\u001b[49m \u001b[38;5;66;03m# 元素不存在直接报错\u001b[39;00m\n",
      "\u001b[31mValueError\u001b[39m: 100 is not in list"
     ]
    }
   ],
   "source": [
    "l.index(100) # 元素不存在直接报错"
   ]
  },
  {
   "cell_type": "code",
   "execution_count": 30,
   "id": "92dd1be1",
   "metadata": {},
   "outputs": [
    {
     "data": {
      "text/plain": [
       "[1, 8, 7, 3, 2, 3]"
      ]
     },
     "execution_count": 30,
     "metadata": {},
     "output_type": "execute_result"
    }
   ],
   "source": [
    "l.reverse() # 列表内建函数，将列表原地逆序\n",
    "l"
   ]
  },
  {
   "cell_type": "code",
   "execution_count": 31,
   "id": "945ec020",
   "metadata": {},
   "outputs": [
    {
     "data": {
      "text/plain": [
       "[1, 2, 3, 3, 7, 8]"
      ]
     },
     "execution_count": 31,
     "metadata": {},
     "output_type": "execute_result"
    }
   ],
   "source": [
    "l.sort() # 列表内建函数，将列表原地排序\n",
    "l"
   ]
  },
  {
   "cell_type": "code",
   "execution_count": 32,
   "id": "816c962f",
   "metadata": {},
   "outputs": [
    {
     "data": {
      "text/plain": [
       "2"
      ]
     },
     "execution_count": 32,
     "metadata": {},
     "output_type": "execute_result"
    }
   ],
   "source": [
    "tup = (3, 2, 3, 7, 8, 1)\n",
    "tup.count(3) # 元组同样有内建的统计函数"
   ]
  },
  {
   "cell_type": "code",
   "execution_count": 33,
   "id": "d26e08fe",
   "metadata": {},
   "outputs": [
    {
     "data": {
      "text/plain": [
       "3"
      ]
     },
     "execution_count": 33,
     "metadata": {},
     "output_type": "execute_result"
    }
   ],
   "source": [
    "tup.index(7) # 元组内建的查询函数"
   ]
  },
  {
   "cell_type": "code",
   "execution_count": null,
   "id": "6cb18e8f",
   "metadata": {},
   "outputs": [
    {
     "data": {
      "text/plain": [
       "(1, 8, 7, 3, 2, 3)"
      ]
     },
     "execution_count": 36,
     "metadata": {},
     "output_type": "execute_result"
    }
   ],
   "source": [
    "tuple(reversed(tup)) # 元组不存在内建的逆序函数，只能使用外部函数"
   ]
  },
  {
   "cell_type": "code",
   "execution_count": 38,
   "id": "096c1de7",
   "metadata": {},
   "outputs": [
    {
     "data": {
      "text/plain": [
       "(1, 2, 3, 3, 7, 8)"
      ]
     },
     "execution_count": 38,
     "metadata": {},
     "output_type": "execute_result"
    }
   ],
   "source": [
    "tuple(sorted(tup)) # 元组不存在内建的排序函数，只能使用外部函数"
   ]
  },
  {
   "cell_type": "code",
   "execution_count": 2,
   "id": "b0897625",
   "metadata": {},
   "outputs": [
    {
     "data": {
      "text/plain": [
       "[1, 8, 7, 3, 2, 3]"
      ]
     },
     "execution_count": 2,
     "metadata": {},
     "output_type": "execute_result"
    }
   ],
   "source": [
    "l = [3, 2, 3, 7, 8, 1]\n",
    "reversed_l = list(reversed(l)) # 这个外部函数同样支持列表\n",
    "reversed_l"
   ]
  },
  {
   "cell_type": "code",
   "execution_count": 3,
   "id": "b32aee22",
   "metadata": {},
   "outputs": [
    {
     "data": {
      "text/plain": [
       "False"
      ]
     },
     "execution_count": 3,
     "metadata": {},
     "output_type": "execute_result"
    }
   ],
   "source": [
    "reversed_l is l # 与内建函数不同，外部函数将会创建一个新的列表而不是原地操作"
   ]
  },
  {
   "cell_type": "code",
   "execution_count": 4,
   "id": "6a8842a3",
   "metadata": {},
   "outputs": [
    {
     "data": {
      "text/plain": [
       "[1, 2, 3, 3, 7, 8]"
      ]
     },
     "execution_count": 4,
     "metadata": {},
     "output_type": "execute_result"
    }
   ],
   "source": [
    "sorted_l = list(sorted(l)) # 外部函数同样支持列表排序\n",
    "sorted_l"
   ]
  },
  {
   "cell_type": "code",
   "execution_count": null,
   "id": "76a86835",
   "metadata": {},
   "outputs": [
    {
     "data": {
      "text/plain": [
       "False"
      ]
     },
     "execution_count": 47,
     "metadata": {},
     "output_type": "execute_result"
    }
   ],
   "source": [
    "sorted_l is l # 外部函数不进行原地排序，而是创建新的列表"
   ]
  },
  {
   "cell_type": "code",
   "execution_count": 71,
   "id": "c4fb720f",
   "metadata": {},
   "outputs": [
    {
     "data": {
      "text/plain": [
       "72"
      ]
     },
     "execution_count": 71,
     "metadata": {},
     "output_type": "execute_result"
    }
   ],
   "source": [
    "l = [1, 2, 3]\n",
    "l.__sizeof__() # 列表是动态的，其底层存储与元组不同"
   ]
  },
  {
   "cell_type": "code",
   "execution_count": 63,
   "id": "13d152a3",
   "metadata": {},
   "outputs": [
    {
     "data": {
      "text/plain": [
       "48"
      ]
     },
     "execution_count": 63,
     "metadata": {},
     "output_type": "execute_result"
    }
   ],
   "source": [
    "tup = (1, 2, 3)\n",
    "tup.__sizeof__() # 元组是静态的，其底层存储与列表不同"
   ]
  },
  {
   "cell_type": "code",
   "execution_count": 84,
   "id": "6aae8978",
   "metadata": {},
   "outputs": [
    {
     "data": {
      "text/plain": [
       "40"
      ]
     },
     "execution_count": 84,
     "metadata": {},
     "output_type": "execute_result"
    }
   ],
   "source": [
    "l = []\n",
    "l.__sizeof__() # 空列表的空间占用"
   ]
  },
  {
   "cell_type": "code",
   "execution_count": 85,
   "id": "6af6295c",
   "metadata": {},
   "outputs": [
    {
     "data": {
      "text/plain": [
       "72"
      ]
     },
     "execution_count": 85,
     "metadata": {},
     "output_type": "execute_result"
    }
   ],
   "source": [
    "l.append(1)\n",
    "l.__sizeof__() # 插入元素后空间的增长情况"
   ]
  },
  {
   "cell_type": "code",
   "execution_count": 86,
   "id": "1f45a137",
   "metadata": {},
   "outputs": [
    {
     "data": {
      "text/plain": [
       "104"
      ]
     },
     "execution_count": 86,
     "metadata": {},
     "output_type": "execute_result"
    }
   ],
   "source": [
    "l.append(2)\n",
    "l.append(3)\n",
    "l.append(4)\n",
    "l.append(5)\n",
    "l.__sizeof__() # 继续插入元素并观察空间的增长情况"
   ]
  },
  {
   "cell_type": "code",
   "execution_count": 59,
   "id": "62e58416",
   "metadata": {},
   "outputs": [
    {
     "name": "stdout",
     "output_type": "stream",
     "text": [
      "20000000 loops, best of 5: 18.4 nsec per loop\n",
      "5000000 loops, best of 5: 62.2 nsec per loop\n"
     ]
    }
   ],
   "source": [
    "# 对比查看元组和列表的初始化性能，可以看到元组初始化要快很多\n",
    "!python -m timeit \"x=(1, 2, 3, 4, 5, 6)\"\n",
    "!python -m timeit \"x=[1, 2, 3, 4, 5, 6]\""
   ]
  },
  {
   "cell_type": "code",
   "execution_count": 58,
   "id": "5b2c070e",
   "metadata": {},
   "outputs": [
    {
     "name": "stdout",
     "output_type": "stream",
     "text": [
      "10000000 loops, best of 5: 21.2 nsec per loop\n",
      "10000000 loops, best of 5: 21.3 nsec per loop\n"
     ]
    }
   ],
   "source": [
    "# 对比查看元组和列表的索引性能，可以看到两者相差无几\n",
    "!python -m timeit -s \"x=(1, 2, 3, 4, 5, 6)\" \"y=x[3]\"\n",
    "!python -m timeit -s \"x=[1, 2, 3, 4, 5, 6]\" \"y=x[3]\""
   ]
  }
 ],
 "metadata": {
  "kernelspec": {
   "display_name": "ai.dev",
   "language": "python",
   "name": "python3"
  },
  "language_info": {
   "codemirror_mode": {
    "name": "ipython",
    "version": 3
   },
   "file_extension": ".py",
   "mimetype": "text/x-python",
   "name": "python",
   "nbconvert_exporter": "python",
   "pygments_lexer": "ipython3",
   "version": "3.12.10"
  }
 },
 "nbformat": 4,
 "nbformat_minor": 5
}
