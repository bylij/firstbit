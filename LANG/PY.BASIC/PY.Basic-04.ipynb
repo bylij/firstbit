{
 "cells": [
  {
   "cell_type": "code",
   "execution_count": null,
   "id": "e9b1a7ff",
   "metadata": {},
   "outputs": [
    {
     "data": {
      "text/plain": [
       "True"
      ]
     },
     "execution_count": 5,
     "metadata": {},
     "output_type": "execute_result"
    }
   ],
   "source": [
    "d1 = {'name':'jason', 'age':20, 'gender':'male'} # 字面量语法初始化\n",
    "d2 = dict({'name':'jason', 'age':20, 'gender':'male'}) # 构造函数初始化，并拷贝已有字典\n",
    "d3 = dict([('name', 'jason'), ('age', 20), ('gender', 'male')]) # 构造函数初始化，转化已有列表（需满足格式要求）\n",
    "d4 = dict(name='jason', age=20, gender='male') # 构造函数初始化，使用字面键值对\n",
    "d1 == d2 == d3 == d4"
   ]
  },
  {
   "cell_type": "code",
   "execution_count": 7,
   "id": "25eeb290",
   "metadata": {},
   "outputs": [
    {
     "data": {
      "text/plain": [
       "True"
      ]
     },
     "execution_count": 7,
     "metadata": {},
     "output_type": "execute_result"
    }
   ],
   "source": [
    "s1 = {1, 2, 3} # 字面量语法\n",
    "s2 = set({1, 2, 3}) # 构造函数初始化，拷贝已有集合\n",
    "s3 = set([1, 2, 3]) # 构造函数初始化，转化已有列表\n",
    "s1 == s2 == s3"
   ]
  },
  {
   "cell_type": "code",
   "execution_count": 9,
   "id": "843ac6f8",
   "metadata": {},
   "outputs": [
    {
     "data": {
      "text/plain": [
       "{1, 5.0, 'hello'}"
      ]
     },
     "execution_count": 9,
     "metadata": {},
     "output_type": "execute_result"
    }
   ],
   "source": [
    "s = {1, 'hello', 5.0} # 集合也支持不同类型元素混用\n",
    "s"
   ]
  },
  {
   "cell_type": "code",
   "execution_count": 11,
   "id": "0226fa27",
   "metadata": {},
   "outputs": [
    {
     "data": {
      "text/plain": [
       "'jason'"
      ]
     },
     "execution_count": 11,
     "metadata": {},
     "output_type": "execute_result"
    }
   ],
   "source": [
    "d = {'name':'jason', 'age':20}\n",
    "d['name'] # 字典支持以键值索引"
   ]
  },
  {
   "cell_type": "code",
   "execution_count": 13,
   "id": "e22cad8c",
   "metadata": {},
   "outputs": [
    {
     "ename": "KeyError",
     "evalue": "'location'",
     "output_type": "error",
     "traceback": [
      "\u001b[31m---------------------------------------------------------------------------\u001b[39m",
      "\u001b[31mKeyError\u001b[39m                                  Traceback (most recent call last)",
      "\u001b[36mCell\u001b[39m\u001b[36m \u001b[39m\u001b[32mIn[13]\u001b[39m\u001b[32m, line 1\u001b[39m\n\u001b[32m----> \u001b[39m\u001b[32m1\u001b[39m \u001b[43md\u001b[49m\u001b[43m[\u001b[49m\u001b[33;43m'\u001b[39;49m\u001b[33;43mlocation\u001b[39;49m\u001b[33;43m'\u001b[39;49m\u001b[43m]\u001b[49m \u001b[38;5;66;03m# 键值不存在直接报错\u001b[39;00m\n",
      "\u001b[31mKeyError\u001b[39m: 'location'"
     ]
    }
   ],
   "source": [
    "d['location'] # 键值不存在直接报错"
   ]
  },
  {
   "cell_type": "code",
   "execution_count": 15,
   "id": "f072eca5",
   "metadata": {},
   "outputs": [
    {
     "data": {
      "text/plain": [
       "'jason'"
      ]
     },
     "execution_count": 15,
     "metadata": {},
     "output_type": "execute_result"
    }
   ],
   "source": [
    "d = {'name':'jason', 'key':20}\n",
    "d.get('name') # 通过内建函数索引键值"
   ]
  },
  {
   "cell_type": "code",
   "execution_count": null,
   "id": "a5e92f18",
   "metadata": {},
   "outputs": [],
   "source": [
    "d.get('location') # 键值不存在不会报错，默认返回 None"
   ]
  },
  {
   "cell_type": "code",
   "execution_count": 19,
   "id": "aeb11309",
   "metadata": {},
   "outputs": [
    {
     "data": {
      "text/plain": [
       "-1"
      ]
     },
     "execution_count": 19,
     "metadata": {},
     "output_type": "execute_result"
    }
   ],
   "source": [
    "d.get('location', -1) # 可以指定键值不存在时的返回值"
   ]
  },
  {
   "cell_type": "code",
   "execution_count": 23,
   "id": "d28d4b88",
   "metadata": {},
   "outputs": [
    {
     "ename": "TypeError",
     "evalue": "'set' object is not subscriptable",
     "output_type": "error",
     "traceback": [
      "\u001b[31m---------------------------------------------------------------------------\u001b[39m",
      "\u001b[31mTypeError\u001b[39m                                 Traceback (most recent call last)",
      "\u001b[36mCell\u001b[39m\u001b[36m \u001b[39m\u001b[32mIn[23]\u001b[39m\u001b[32m, line 2\u001b[39m\n\u001b[32m      1\u001b[39m s = {\u001b[32m1\u001b[39m, \u001b[32m2\u001b[39m, \u001b[32m3\u001b[39m}\n\u001b[32m----> \u001b[39m\u001b[32m2\u001b[39m \u001b[43ms\u001b[49m\u001b[43m[\u001b[49m\u001b[32;43m0\u001b[39;49m\u001b[43m]\u001b[49m \u001b[38;5;66;03m# 与列表和元组不同，集合不支持位置索引\u001b[39;00m\n",
      "\u001b[31mTypeError\u001b[39m: 'set' object is not subscriptable"
     ]
    }
   ],
   "source": [
    "s = {1, 2, 3}\n",
    "s[0] # 与列表和元组不同，集合不支持位置索引"
   ]
  },
  {
   "cell_type": "code",
   "execution_count": 29,
   "id": "bf3c84b7",
   "metadata": {},
   "outputs": [
    {
     "data": {
      "text/plain": [
       "True"
      ]
     },
     "execution_count": 29,
     "metadata": {},
     "output_type": "execute_result"
    }
   ],
   "source": [
    "s = {1, 2, 3}\n",
    "1 in s # 判断集合包含对象"
   ]
  },
  {
   "cell_type": "code",
   "execution_count": 30,
   "id": "3158de2f",
   "metadata": {},
   "outputs": [
    {
     "data": {
      "text/plain": [
       "False"
      ]
     },
     "execution_count": 30,
     "metadata": {},
     "output_type": "execute_result"
    }
   ],
   "source": [
    "10 in s # 判断集合包含对象"
   ]
  },
  {
   "cell_type": "code",
   "execution_count": 31,
   "id": "199ae394",
   "metadata": {},
   "outputs": [
    {
     "data": {
      "text/plain": [
       "True"
      ]
     },
     "execution_count": 31,
     "metadata": {},
     "output_type": "execute_result"
    }
   ],
   "source": [
    "d = {'name':'jason', 'age':20}\n",
    "'name' in d # 判断字典包含键值"
   ]
  },
  {
   "cell_type": "code",
   "execution_count": 32,
   "id": "64baa0ed",
   "metadata": {},
   "outputs": [
    {
     "data": {
      "text/plain": [
       "False"
      ]
     },
     "execution_count": 32,
     "metadata": {},
     "output_type": "execute_result"
    }
   ],
   "source": [
    "'location' in d # 判断字典包含键值"
   ]
  },
  {
   "cell_type": "code",
   "execution_count": 41,
   "id": "b3691622",
   "metadata": {},
   "outputs": [
    {
     "data": {
      "text/plain": [
       "{'name': 'jason', 'age': 20, 'gender': 'male', 'dob': '1999-02-01'}"
      ]
     },
     "execution_count": 41,
     "metadata": {},
     "output_type": "execute_result"
    }
   ],
   "source": [
    "d = {'name':'jason', 'age':20}\n",
    "d['gender'] = 'male' # 增加键值对\n",
    "d['dob'] = '1999-02-01' # 增加键值对\n",
    "d"
   ]
  },
  {
   "cell_type": "code",
   "execution_count": 42,
   "id": "3fe21e39",
   "metadata": {},
   "outputs": [
    {
     "data": {
      "text/plain": [
       "{'name': 'jason', 'age': 20, 'gender': 'male', 'dob': '1998-01-01'}"
      ]
     },
     "execution_count": 42,
     "metadata": {},
     "output_type": "execute_result"
    }
   ],
   "source": [
    "d['dob'] = '1998-01-01' # 修改已有键值索引到的数值\n",
    "d"
   ]
  },
  {
   "cell_type": "code",
   "execution_count": 43,
   "id": "e5c863ca",
   "metadata": {},
   "outputs": [
    {
     "data": {
      "text/plain": [
       "{'name': 'jason', 'age': 20, 'gender': 'male'}"
      ]
     },
     "execution_count": 43,
     "metadata": {},
     "output_type": "execute_result"
    }
   ],
   "source": [
    "d.pop('dob') # 通过内建函数删除键值对\n",
    "d"
   ]
  },
  {
   "cell_type": "code",
   "execution_count": 45,
   "id": "721cde87",
   "metadata": {},
   "outputs": [
    {
     "data": {
      "text/plain": [
       "{1, 2, 3, 4}"
      ]
     },
     "execution_count": 45,
     "metadata": {},
     "output_type": "execute_result"
    }
   ],
   "source": [
    "s = {1, 2, 3}\n",
    "s.add(4) # 通过内建函数添加元素\n",
    "s"
   ]
  },
  {
   "cell_type": "code",
   "execution_count": 46,
   "id": "b71d4b82",
   "metadata": {},
   "outputs": [
    {
     "data": {
      "text/plain": [
       "{1, 2, 3}"
      ]
     },
     "execution_count": 46,
     "metadata": {},
     "output_type": "execute_result"
    }
   ],
   "source": [
    "s.remove(4) # 通过内建函数删除元素\n",
    "s"
   ]
  },
  {
   "cell_type": "code",
   "execution_count": 55,
   "id": "9a7e914a",
   "metadata": {},
   "outputs": [
    {
     "data": {
      "text/plain": [
       "[('a', 2), ('b', 1), ('c', 3)]"
      ]
     },
     "execution_count": 55,
     "metadata": {},
     "output_type": "execute_result"
    }
   ],
   "source": [
    "d = {'b':1, 'a':2, 'c':3}\n",
    "d_sorted_by_key = sorted(d.items(), key=lambda x:x[0]) # 通过外部函数排序，指定键为依据\n",
    "d_sorted_by_key"
   ]
  },
  {
   "cell_type": "code",
   "execution_count": 54,
   "id": "2a077e8c",
   "metadata": {},
   "outputs": [
    {
     "data": {
      "text/plain": [
       "False"
      ]
     },
     "execution_count": 54,
     "metadata": {},
     "output_type": "execute_result"
    }
   ],
   "source": [
    "d_sorted_by_key is d # 外部函数会创建新的对象实例"
   ]
  },
  {
   "cell_type": "code",
   "execution_count": 57,
   "id": "09d0e91a",
   "metadata": {},
   "outputs": [
    {
     "data": {
      "text/plain": [
       "[('b', 1), ('a', 2), ('c', 3)]"
      ]
     },
     "execution_count": 57,
     "metadata": {},
     "output_type": "execute_result"
    }
   ],
   "source": [
    "d_sorted_by_val = sorted(d.items(), key=lambda x:x[1]) # 通过外部函数排序，指定值为依据\n",
    "d_sorted_by_val"
   ]
  },
  {
   "cell_type": "code",
   "execution_count": 59,
   "id": "6abc55a6",
   "metadata": {},
   "outputs": [
    {
     "data": {
      "text/plain": [
       "False"
      ]
     },
     "execution_count": 59,
     "metadata": {},
     "output_type": "execute_result"
    }
   ],
   "source": [
    "d_sorted_by_val is d # 外部函数会创建新的对象实例"
   ]
  },
  {
   "cell_type": "code",
   "execution_count": 69,
   "id": "87f8d884",
   "metadata": {},
   "outputs": [
    {
     "data": {
      "text/plain": [
       "30"
      ]
     },
     "execution_count": 69,
     "metadata": {},
     "output_type": "execute_result"
    }
   ],
   "source": [
    "def find_product_price(products, product_id):\n",
    "    for id, price in products: # 通过列表遍历的方式查找\n",
    "        if id == product_id:\n",
    "            return price\n",
    "    return None\n",
    "\n",
    "products = [\n",
    "    (143121312, 100),\n",
    "    (432314553, 30),\n",
    "    (32421912367, 150),\n",
    "]\n",
    "\n",
    "find_product_price(products, 432314553)"
   ]
  },
  {
   "cell_type": "code",
   "execution_count": 73,
   "id": "ff88249c",
   "metadata": {},
   "outputs": [
    {
     "data": {
      "text/plain": [
       "30"
      ]
     },
     "execution_count": 73,
     "metadata": {},
     "output_type": "execute_result"
    }
   ],
   "source": [
    "products = {\n",
    "    143121312: 100,\n",
    "    432314553: 30,\n",
    "    32421912367: 150,\n",
    "}\n",
    "\n",
    "products[432314553] # 直接以字典键值索引的方式查找"
   ]
  },
  {
   "cell_type": "code",
   "execution_count": 76,
   "id": "f7c17e3a",
   "metadata": {},
   "outputs": [
    {
     "data": {
      "text/plain": [
       "3"
      ]
     },
     "execution_count": 76,
     "metadata": {},
     "output_type": "execute_result"
    }
   ],
   "source": [
    "def find_unique_price_with_list(products):\n",
    "    unique_price_list = []\n",
    "    for _, price in products:\n",
    "        if price not in unique_price_list: # 需要显示的判断去重\n",
    "            unique_price_list.append(price)\n",
    "    return len(unique_price_list)\n",
    "\n",
    "products = [\n",
    "    (143121312, 100),\n",
    "    (432314553, 30),\n",
    "    (32421912367, 150),\n",
    "    (937153201, 30),\n",
    "]\n",
    "\n",
    "find_unique_price_with_list(products)"
   ]
  },
  {
   "cell_type": "code",
   "execution_count": 79,
   "id": "1cbcfd29",
   "metadata": {},
   "outputs": [
    {
     "data": {
      "text/plain": [
       "3"
      ]
     },
     "execution_count": 79,
     "metadata": {},
     "output_type": "execute_result"
    }
   ],
   "source": [
    "def find_unique_price_with_set(products):\n",
    "    unique_price_set = set()\n",
    "    for _, price in products:\n",
    "        unique_price_set.add(price) # 集合自动去重\n",
    "    return len(unique_price_set)\n",
    "\n",
    "products = [\n",
    "    (143121312, 100),\n",
    "    (432314553, 30),\n",
    "    (32421912367, 150),\n",
    "    (937153201, 30),\n",
    "]\n",
    "\n",
    "find_unique_price_with_set(products)"
   ]
  },
  {
   "cell_type": "code",
   "execution_count": 84,
   "id": "c368a9d3",
   "metadata": {},
   "outputs": [
    {
     "name": "stdout",
     "output_type": "stream",
     "text": [
      "time elasped with list: 55.804353799670935\n"
     ]
    }
   ],
   "source": [
    "import time\n",
    "id = [x for x in range(0, 100000)]\n",
    "price = [x for x in range(200000, 300000)]\n",
    "products = list(zip(id, price))\n",
    "\n",
    "# 计算基于列表的去重时间\n",
    "start_with_list = time.perf_counter()\n",
    "find_unique_price_with_list(products)\n",
    "end_with_list = time.perf_counter()\n",
    "print('time elasped with list: {}'.format(end_with_list - start_with_list))"
   ]
  },
  {
   "cell_type": "code",
   "execution_count": 83,
   "id": "73d1bd5a",
   "metadata": {},
   "outputs": [
    {
     "name": "stdout",
     "output_type": "stream",
     "text": [
      "time elapsed with set: 0.014355400577187538\n"
     ]
    }
   ],
   "source": [
    "# 计算基于集合的去重时间\n",
    "start_with_set = time.perf_counter()\n",
    "find_unique_price_with_set(products)\n",
    "end_with_set = time.perf_counter()\n",
    "print(\"time elapsed with set: {}\".format(end_with_set - start_with_set))"
   ]
  },
  {
   "cell_type": "code",
   "execution_count": 90,
   "id": "a88bf5e1",
   "metadata": {},
   "outputs": [
    {
     "data": {
      "text/plain": [
       "{(1,): 2}"
      ]
     },
     "execution_count": 90,
     "metadata": {},
     "output_type": "execute_result"
    }
   ],
   "source": [
    "{(1,):2} # 元组可以作为键"
   ]
  },
  {
   "cell_type": "code",
   "execution_count": 92,
   "id": "b87c00c5",
   "metadata": {},
   "outputs": [
    {
     "ename": "TypeError",
     "evalue": "unhashable type: 'list'",
     "output_type": "error",
     "traceback": [
      "\u001b[31m---------------------------------------------------------------------------\u001b[39m",
      "\u001b[31mTypeError\u001b[39m                                 Traceback (most recent call last)",
      "\u001b[36mCell\u001b[39m\u001b[36m \u001b[39m\u001b[32mIn[92]\u001b[39m\u001b[32m, line 1\u001b[39m\n\u001b[32m----> \u001b[39m\u001b[32m1\u001b[39m {[\u001b[32m1\u001b[39m,]:\u001b[32m2\u001b[39m} \u001b[38;5;66;03m# 列表不能作为键\u001b[39;00m\n",
      "\u001b[31mTypeError\u001b[39m: unhashable type: 'list'"
     ]
    }
   ],
   "source": [
    "{[1,]:2} # 列表不能作为键"
   ]
  }
 ],
 "metadata": {
  "kernelspec": {
   "display_name": "ai.dev",
   "language": "python",
   "name": "python3"
  },
  "language_info": {
   "codemirror_mode": {
    "name": "ipython",
    "version": 3
   },
   "file_extension": ".py",
   "mimetype": "text/x-python",
   "name": "python",
   "nbconvert_exporter": "python",
   "pygments_lexer": "ipython3",
   "version": "3.12.10"
  }
 },
 "nbformat": 4,
 "nbformat_minor": 5
}
