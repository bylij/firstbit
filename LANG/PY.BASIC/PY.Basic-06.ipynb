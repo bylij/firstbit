{
 "cells": [
  {
   "cell_type": "code",
   "execution_count": null,
   "id": "cb9fb519",
   "metadata": {},
   "outputs": [
    {
     "name": "stdout",
     "output_type": "stream",
     "text": [
      "authorizing...\n",
      "Welcome to the matrix Mr. jason.\n"
     ]
    }
   ],
   "source": [
    "name = input('your name:') # 等待输入\n",
    "gender = input('you are a boy?(y/n)') # 等待输入\n",
    "\n",
    "welcome_str = 'Welcome to the matrix {prefix} {name}.'\n",
    "welcome_dic = {\n",
    "    'prefix': 'Mr.' if gender == 'y' else 'Mrs.',\n",
    "    'name': name\n",
    "}\n",
    "\n",
    "print('authorizing...')\n",
    "print(welcome_str.format(**welcome_dic)) # ** 将字典结构"
   ]
  },
  {
   "cell_type": "code",
   "execution_count": 5,
   "id": "f9622102",
   "metadata": {},
   "outputs": [
    {
     "name": "stdout",
     "output_type": "stream",
     "text": [
      "a + b = 1020\n"
     ]
    }
   ],
   "source": [
    "a = input()\n",
    "b = input()\n",
    "\n",
    "print('a + b = {}'.format(a + b)) # 这里获得以为结果，因为获得的输入都是字符串而不是整型"
   ]
  },
  {
   "cell_type": "code",
   "execution_count": 6,
   "id": "875d6b92",
   "metadata": {},
   "outputs": [
    {
     "name": "stdout",
     "output_type": "stream",
     "text": [
      "type of a is <class 'str'>, type of b is <class 'str'>\n"
     ]
    }
   ],
   "source": [
    "print('type of a is {}, type of b is {}'.format(type(a), type(b)))"
   ]
  },
  {
   "cell_type": "code",
   "execution_count": 7,
   "id": "f4ac00e4",
   "metadata": {},
   "outputs": [
    {
     "name": "stdout",
     "output_type": "stream",
     "text": [
      "a + b = 30\n"
     ]
    }
   ],
   "source": [
    "print('a + b = {}'.format(int(a) + int(b))) # 转化为整型后可获得预期结果"
   ]
  },
  {
   "cell_type": "code",
   "execution_count": 14,
   "id": "cdfc35bf",
   "metadata": {},
   "outputs": [],
   "source": [
    "import re\n",
    "\n",
    "def parse(text):\n",
    "    # 使用正则表达式去除标点符号和换行符\n",
    "    text = re.sub(r'[^\\w ]', ' ', text)\n",
    "    \n",
    "    # 转化为小写\n",
    "    text = text.lower()\n",
    "    \n",
    "    # 生成所有单词的列表\n",
    "    word_list = text.split(' ')\n",
    "    \n",
    "    # 去除空白单词\n",
    "    word_list = filter(None, word_list)\n",
    "\n",
    "    # 生成词频字典\n",
    "    word_cnt = {}\n",
    "    for word in word_list:\n",
    "        if word not in word_cnt:\n",
    "            word_cnt[word] = 0\n",
    "        word_cnt[word] += 1\n",
    "    \n",
    "    # 按词频排序\n",
    "    sorted_word_cnt = sorted(word_cnt.items(), key=lambda x:x[1], reverse=True)\n",
    "\n",
    "    return sorted_word_cnt\n"
   ]
  },
  {
   "cell_type": "code",
   "execution_count": 19,
   "id": "bbfca2b4",
   "metadata": {},
   "outputs": [],
   "source": [
    "with open('in.txt', 'r') as fin: # 打开文件，以只读模式\n",
    "    text = fin.read() # 调用内建函数读取文件\n",
    "\n",
    "word_and_freq = parse(text)\n",
    "\n",
    "with open('out.txt', 'w') as fout: # 打开文件，以只写模式\n",
    "    for word, freq in word_and_freq:\n",
    "        fout.write('{} {}\\n'.format(word, freq)) # 调用内建函数写入文件"
   ]
  },
  {
   "cell_type": "code",
   "execution_count": 26,
   "id": "0f60bf2f",
   "metadata": {},
   "outputs": [
    {
     "name": "stdout",
     "output_type": "stream",
     "text": [
      "json serialization ...\n",
      "type of params_str = <class 'str'>, params_str = {\"symbol\": \"123456\", \"type\": \"limit\", \"price\": 123.4, \"amount\": 23}\n"
     ]
    }
   ],
   "source": [
    "import json\n",
    "\n",
    "params = {\n",
    "    'symbol': '123456',\n",
    "    'type': 'limit',\n",
    "    'price': 123.4,\n",
    "    'amount': 23\n",
    "}\n",
    "\n",
    "params_str = json.dumps(params)\n",
    "\n",
    "print('json serialization ...')\n",
    "print('type of params_str = {}, params_str = {}'.format(type(params_str), params_str))"
   ]
  },
  {
   "cell_type": "code",
   "execution_count": 27,
   "id": "3954d0b1",
   "metadata": {},
   "outputs": [
    {
     "name": "stdout",
     "output_type": "stream",
     "text": [
      "json deserialization\n",
      "type of original_params = <class 'dict'>, original_params = {'symbol': '123456', 'type': 'limit', 'price': 123.4, 'amount': 23}\n"
     ]
    }
   ],
   "source": [
    "original_params = json.loads(params_str)\n",
    "\n",
    "print('json deserialization')\n",
    "print('type of original_params = {}, original_params = {}'.format(type(original_params), original_params))"
   ]
  },
  {
   "cell_type": "code",
   "execution_count": 29,
   "id": "a74d4d9a",
   "metadata": {},
   "outputs": [
    {
     "name": "stdout",
     "output_type": "stream",
     "text": [
      "json deserialization ...\n",
      "type of original_params = <class 'dict'>, original_params = {'symbol': '123456', 'type': 'limit', 'price': 123.4, 'amount': 23}\n"
     ]
    }
   ],
   "source": [
    "import json\n",
    "\n",
    "params = {\n",
    "    'symbol': '123456',\n",
    "    'type': 'limit',\n",
    "    'price': 123.4,\n",
    "    'amount': 23,\n",
    "}\n",
    "\n",
    "with open('params.json', 'w') as fout:\n",
    "    json.dump(params, fout)\n",
    "\n",
    "with open('params.json', 'r') as fin:\n",
    "    original_params = json.load(fin)\n",
    "\n",
    "print('json deserialization ...')\n",
    "print('type of original_params = {}, original_params = {}'.format(type(original_params), original_params))"
   ]
  }
 ],
 "metadata": {
  "kernelspec": {
   "display_name": "ai.dev",
   "language": "python",
   "name": "python3"
  },
  "language_info": {
   "codemirror_mode": {
    "name": "ipython",
    "version": 3
   },
   "file_extension": ".py",
   "mimetype": "text/x-python",
   "name": "python",
   "nbconvert_exporter": "python",
   "pygments_lexer": "ipython3",
   "version": "3.12.10"
  }
 },
 "nbformat": 4,
 "nbformat_minor": 5
}
