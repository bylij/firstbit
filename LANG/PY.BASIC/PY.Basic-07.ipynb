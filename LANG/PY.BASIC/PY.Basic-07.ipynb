{
 "cells": [
  {
   "cell_type": "code",
   "execution_count": null,
   "id": "1491451c",
   "metadata": {},
   "outputs": [],
   "source": [
    "# y = |x|\n",
    "if x < 0:\n",
    "    y = -x\n",
    "else:\n",
    "    y = x"
   ]
  },
  {
   "cell_type": "code",
   "execution_count": null,
   "id": "9086d81a",
   "metadata": {},
   "outputs": [],
   "source": [
    "if id == 0:\n",
    "    print('red')\n",
    "elif id == 1:\n",
    "    print('yellow')\n",
    "else:\n",
    "    print('green')"
   ]
  },
  {
   "cell_type": "code",
   "execution_count": null,
   "id": "039a054e",
   "metadata": {},
   "outputs": [
    {
     "name": "stdout",
     "output_type": "stream",
     "text": [
      "s is empty\n"
     ]
    }
   ],
   "source": [
    "s = ''\n",
    "if not s: # 字符串判空\n",
    "    print('s is empty')"
   ]
  },
  {
   "cell_type": "code",
   "execution_count": 7,
   "id": "342ba6dd",
   "metadata": {},
   "outputs": [
    {
     "name": "stdout",
     "output_type": "stream",
     "text": [
      "l is empty\n"
     ]
    }
   ],
   "source": [
    "l = []\n",
    "if not l: # 列表判空\n",
    "    print('l is empty')"
   ]
  },
  {
   "cell_type": "code",
   "execution_count": 11,
   "id": "e1257c5e",
   "metadata": {},
   "outputs": [
    {
     "name": "stdout",
     "output_type": "stream",
     "text": [
      "t is empty\n"
     ]
    }
   ],
   "source": [
    "t = tuple()\n",
    "if not t: # 元组判空\n",
    "    print('t is empty')"
   ]
  },
  {
   "cell_type": "code",
   "execution_count": 12,
   "id": "ab3a3f98",
   "metadata": {},
   "outputs": [
    {
     "name": "stdout",
     "output_type": "stream",
     "text": [
      "d is empty\n"
     ]
    }
   ],
   "source": [
    "d = {}\n",
    "if not d:\n",
    "    print('d is empty')"
   ]
  },
  {
   "cell_type": "code",
   "execution_count": 13,
   "id": "66f3be3c",
   "metadata": {},
   "outputs": [
    {
     "name": "stdout",
     "output_type": "stream",
     "text": [
      "s is empty\n"
     ]
    }
   ],
   "source": [
    "s = set()\n",
    "if not s:\n",
    "    print('s is empty')"
   ]
  },
  {
   "cell_type": "code",
   "execution_count": 14,
   "id": "dfbad942",
   "metadata": {},
   "outputs": [
    {
     "name": "stdout",
     "output_type": "stream",
     "text": [
      "1\n",
      "2\n",
      "3\n",
      "4\n"
     ]
    }
   ],
   "source": [
    "l = [1, 2, 3, 4]\n",
    "for item in l: # 循环遍历\n",
    "    print(item)"
   ]
  },
  {
   "cell_type": "code",
   "execution_count": 16,
   "id": "da899a5c",
   "metadata": {},
   "outputs": [
    {
     "name": "stdout",
     "output_type": "stream",
     "text": [
      "name\n",
      "dob\n",
      "gender\n"
     ]
    }
   ],
   "source": [
    "d = {'name': 'jason', 'dob': '2000-01-01', 'gender': 'male'}\n",
    "for k in d: # 字典默认只遍历键\n",
    "    print(k)"
   ]
  },
  {
   "cell_type": "code",
   "execution_count": 18,
   "id": "51c10918",
   "metadata": {},
   "outputs": [
    {
     "name": "stdout",
     "output_type": "stream",
     "text": [
      "jason\n",
      "2000-01-01\n",
      "male\n"
     ]
    }
   ],
   "source": [
    "for v in d.values(): # 通过内建函数获取数值并遍历\n",
    "    print(v)"
   ]
  },
  {
   "cell_type": "code",
   "execution_count": 20,
   "id": "1fb6d97e",
   "metadata": {},
   "outputs": [
    {
     "name": "stdout",
     "output_type": "stream",
     "text": [
      "name jason\n",
      "dob 2000-01-01\n",
      "gender male\n"
     ]
    }
   ],
   "source": [
    "for k, v in d.items(): # 通过内建函数获得键值对并遍历\n",
    "    print(k, v)"
   ]
  },
  {
   "cell_type": "code",
   "execution_count": 23,
   "id": "b9f3d3f0",
   "metadata": {},
   "outputs": [
    {
     "name": "stdout",
     "output_type": "stream",
     "text": [
      "1\n",
      "2\n",
      "3\n",
      "4\n",
      "5\n",
      "6\n",
      "7\n"
     ]
    }
   ],
   "source": [
    "l = [1, 2, 3, 4, 5, 6, 7]\n",
    "for i in range(0, len(l)): # 通过位置索引遍历列表\n",
    "    print(l[i])"
   ]
  },
  {
   "cell_type": "code",
   "execution_count": 25,
   "id": "188f03a3",
   "metadata": {},
   "outputs": [
    {
     "name": "stdout",
     "output_type": "stream",
     "text": [
      "1\n",
      "2\n",
      "3\n",
      "4\n",
      "5\n"
     ]
    }
   ],
   "source": [
    "l = [1, 2, 3, 4, 5, 6, 7]\n",
    "for index, value in enumerate(l): # 通过内建函数同时获得索引和数值\n",
    "    if index < 5:\n",
    "        print(value)"
   ]
  },
  {
   "cell_type": "code",
   "execution_count": null,
   "id": "c0dc9ddd",
   "metadata": {},
   "outputs": [],
   "source": [
    "# 不使用 continue 时的嵌套逻辑\n",
    "for name, price in name_price.items():\n",
    "    if price < 1000:\n",
    "        if name in name_color:\n",
    "            for color in name_color[name]:\n",
    "                if color != 'red':\n",
    "                    print('name: {}, color: {}'.format(name, color))\n",
    "        else:\n",
    "            print('name: {}, color: {}'.format(name, 'None'))"
   ]
  },
  {
   "cell_type": "code",
   "execution_count": null,
   "id": "64473c79",
   "metadata": {},
   "outputs": [],
   "source": [
    "# 采用 continue 简化嵌套格式\n",
    "for name, price in name_price.itmes():\n",
    "    if price >= 1000:\n",
    "        continue\n",
    "    if name not in name_color:\n",
    "        print('name: {}, color: {}'.format(name, 'None'))\n",
    "        continue\n",
    "    for color in name_color[name]:\n",
    "        if color != 'red':\n",
    "            print('name: {}, color: {}'.format(name, color))"
   ]
  },
  {
   "cell_type": "code",
   "execution_count": 32,
   "id": "56e1bfb8",
   "metadata": {},
   "outputs": [
    {
     "name": "stdout",
     "output_type": "stream",
     "text": [
      "1\n",
      "2\n",
      "3\n",
      "4\n"
     ]
    }
   ],
   "source": [
    "l = [1, 2, 3, 4]\n",
    "index = 0\n",
    "while index < len(l): # 采用 while 的循环风格，注意与 for 循环的区别\n",
    "    print(l[index])\n",
    "    index += 1"
   ]
  },
  {
   "cell_type": "code",
   "execution_count": null,
   "id": "93171d53",
   "metadata": {},
   "outputs": [],
   "source": [
    "# 精细化逻辑控制的 while 循环\n",
    "while True:\n",
    "    try:\n",
    "        text = input('Please enter your questions, enter \"q\" to quit')\n",
    "        if text == 'q':\n",
    "            break\n",
    "        print(text)\n",
    "    except Exception as err:\n",
    "        print('Encountered error: {}'.format(err))\n",
    "        break"
   ]
  },
  {
   "cell_type": "code",
   "execution_count": null,
   "id": "d43c78ba",
   "metadata": {},
   "outputs": [],
   "source": [
    "i = 0\n",
    "while i < 100000: # while 循环风格\n",
    "    i += 1"
   ]
  },
  {
   "cell_type": "code",
   "execution_count": 35,
   "id": "30a5e4a3",
   "metadata": {},
   "outputs": [],
   "source": [
    "for i in range(0, 100000): # 等价的 for 循环\n",
    "    pass"
   ]
  },
  {
   "cell_type": "code",
   "execution_count": null,
   "id": "854317e0",
   "metadata": {},
   "outputs": [],
   "source": [
    "# 条件与循环服用的生成表达式\n",
    "y = [value * 2 + 5 if value > 0 else -value * 2 + 5 for value in x]"
   ]
  },
  {
   "cell_type": "code",
   "execution_count": 38,
   "id": "f87eb895",
   "metadata": {},
   "outputs": [
    {
     "data": {
      "text/plain": [
       "['Today', 'Sunday']"
      ]
     },
     "execution_count": 38,
     "metadata": {},
     "output_type": "execute_result"
    }
   ],
   "source": [
    "text = ' Today, is, Sunday'\n",
    "text_list = [s.strip() for s in text.split(',') if len(s) > 3] # 具体复合使用的例子\n",
    "text_list"
   ]
  }
 ],
 "metadata": {
  "kernelspec": {
   "display_name": "ai.dev",
   "language": "python",
   "name": "python3"
  },
  "language_info": {
   "codemirror_mode": {
    "name": "ipython",
    "version": 3
   },
   "file_extension": ".py",
   "mimetype": "text/x-python",
   "name": "python",
   "nbconvert_exporter": "python",
   "pygments_lexer": "ipython3",
   "version": "3.12.10"
  }
 },
 "nbformat": 4,
 "nbformat_minor": 5
}
