{
 "cells": [
  {
   "cell_type": "code",
   "execution_count": null,
   "id": "a51a064d",
   "metadata": {},
   "outputs": [],
   "source": [
    "if name is not None # 语法错误：if 语句需要冒号结尾\n",
    "    print(name)"
   ]
  },
  {
   "cell_type": "code",
   "execution_count": null,
   "id": "5ba65b52",
   "metadata": {},
   "outputs": [
    {
     "ename": "ZeroDivisionError",
     "evalue": "division by zero",
     "output_type": "error",
     "traceback": [
      "\u001b[31m---------------------------------------------------------------------------\u001b[39m",
      "\u001b[31mZeroDivisionError\u001b[39m                         Traceback (most recent call last)",
      "\u001b[36mCell\u001b[39m\u001b[36m \u001b[39m\u001b[32mIn[1]\u001b[39m\u001b[32m, line 1\u001b[39m\n\u001b[32m----> \u001b[39m\u001b[32m1\u001b[39m \u001b[32;43m10\u001b[39;49m\u001b[43m \u001b[49m\u001b[43m/\u001b[49m\u001b[43m \u001b[49m\u001b[32;43m0\u001b[39;49m\n",
      "\u001b[31mZeroDivisionError\u001b[39m: division by zero"
     ]
    }
   ],
   "source": [
    "10 / 0 # 除零异常"
   ]
  },
  {
   "cell_type": "code",
   "execution_count": null,
   "id": "23a04ba5",
   "metadata": {},
   "outputs": [
    {
     "ename": "NameError",
     "evalue": "name 'order' is not defined",
     "output_type": "error",
     "traceback": [
      "\u001b[31m---------------------------------------------------------------------------\u001b[39m",
      "\u001b[31mNameError\u001b[39m                                 Traceback (most recent call last)",
      "\u001b[36mCell\u001b[39m\u001b[36m \u001b[39m\u001b[32mIn[2]\u001b[39m\u001b[32m, line 1\u001b[39m\n\u001b[32m----> \u001b[39m\u001b[32m1\u001b[39m \u001b[43morder\u001b[49m * \u001b[32m2\u001b[39m\n",
      "\u001b[31mNameError\u001b[39m: name 'order' is not defined"
     ]
    }
   ],
   "source": [
    "order * 2 # 对象为定义异常"
   ]
  },
  {
   "cell_type": "code",
   "execution_count": null,
   "id": "e215648f",
   "metadata": {},
   "outputs": [
    {
     "name": "stdout",
     "output_type": "stream",
     "text": [
      "division by zero\n"
     ]
    }
   ],
   "source": [
    "# 捕获除零异常\n",
    "try:\n",
    "    10 / 0\n",
    "except Exception as err:\n",
    "    print(err)"
   ]
  },
  {
   "cell_type": "code",
   "execution_count": null,
   "id": "f2936d87",
   "metadata": {},
   "outputs": [
    {
     "name": "stdout",
     "output_type": "stream",
     "text": [
      "name 'order' is not defined\n"
     ]
    }
   ],
   "source": [
    "# 捕获对象未定义异常\n",
    "try:\n",
    "    order * 2\n",
    "except Exception as err:\n",
    "    print(err)"
   ]
  },
  {
   "cell_type": "code",
   "execution_count": 16,
   "id": "36727745",
   "metadata": {},
   "outputs": [
    {
     "name": "stdout",
     "output_type": "stream",
     "text": [
      "Sum is 400\n"
     ]
    }
   ],
   "source": [
    "try:\n",
    "    s = input('Please enter two numbers separated by comma: ')\n",
    "    num1 = s.split(',')[0]\n",
    "    num2 = s.split(',')[1]\n",
    "    print('Sum is {}'.format(int(num1) + int(num2)))\n",
    "except Exception as err: # 捕获所有异常\n",
    "    print(err)"
   ]
  },
  {
   "cell_type": "code",
   "execution_count": null,
   "id": "74c9b5db",
   "metadata": {},
   "outputs": [
    {
     "ename": "IndexError",
     "evalue": "list index out of range",
     "output_type": "error",
     "traceback": [
      "\u001b[31m---------------------------------------------------------------------------\u001b[39m",
      "\u001b[31mIndexError\u001b[39m                                Traceback (most recent call last)",
      "\u001b[36mCell\u001b[39m\u001b[36m \u001b[39m\u001b[32mIn[15]\u001b[39m\u001b[32m, line 4\u001b[39m\n\u001b[32m      2\u001b[39m     s = \u001b[38;5;28minput\u001b[39m(\u001b[33m'\u001b[39m\u001b[33mPlease enter two numbers separated by comma: \u001b[39m\u001b[33m'\u001b[39m)\n\u001b[32m      3\u001b[39m     num1 = s.split(\u001b[33m'\u001b[39m\u001b[33m,\u001b[39m\u001b[33m'\u001b[39m)[\u001b[32m0\u001b[39m]\n\u001b[32m----> \u001b[39m\u001b[32m4\u001b[39m     num2 = \u001b[43ms\u001b[49m\u001b[43m.\u001b[49m\u001b[43msplit\u001b[49m\u001b[43m(\u001b[49m\u001b[33;43m'\u001b[39;49m\u001b[33;43m,\u001b[39;49m\u001b[33;43m'\u001b[39;49m\u001b[43m)\u001b[49m\u001b[43m[\u001b[49m\u001b[32;43m1\u001b[39;49m\u001b[43m]\u001b[49m\n\u001b[32m      5\u001b[39m     \u001b[38;5;28mprint\u001b[39m(\u001b[33m'\u001b[39m\u001b[33mSum is \u001b[39m\u001b[38;5;132;01m{}\u001b[39;00m\u001b[33m'\u001b[39m.format(\u001b[38;5;28mint\u001b[39m(num1) + \u001b[38;5;28mint\u001b[39m(num2)))\n\u001b[32m      6\u001b[39m \u001b[38;5;28;01mexcept\u001b[39;00m \u001b[38;5;167;01mValueError\u001b[39;00m \u001b[38;5;28;01mas\u001b[39;00m err:\n",
      "\u001b[31mIndexError\u001b[39m: list index out of range"
     ]
    }
   ],
   "source": [
    "try:\n",
    "    s = input('Please enter two numbers separated by comma: ')\n",
    "    num1 = s.split(',')[0]\n",
    "    num2 = s.split(',')[1]\n",
    "    print('Sum is {}'.format(int(num1) + int(num2)))\n",
    "except ValueError as err: # 仅捕获值错误异常\n",
    "    print('Value Error: {}'.format(err))"
   ]
  },
  {
   "cell_type": "code",
   "execution_count": 21,
   "id": "60883fb6",
   "metadata": {},
   "outputs": [
    {
     "ename": "ValueError",
     "evalue": "invalid literal for int() with base 10: 'a'",
     "output_type": "error",
     "traceback": [
      "\u001b[31m---------------------------------------------------------------------------\u001b[39m",
      "\u001b[31mValueError\u001b[39m                                Traceback (most recent call last)",
      "\u001b[36mCell\u001b[39m\u001b[36m \u001b[39m\u001b[32mIn[21]\u001b[39m\u001b[32m, line 5\u001b[39m\n\u001b[32m      3\u001b[39m     num1 = s.split(\u001b[33m'\u001b[39m\u001b[33m,\u001b[39m\u001b[33m'\u001b[39m)[\u001b[32m0\u001b[39m]\n\u001b[32m      4\u001b[39m     num2 = s.split(\u001b[33m'\u001b[39m\u001b[33m,\u001b[39m\u001b[33m'\u001b[39m)[\u001b[32m1\u001b[39m]\n\u001b[32m----> \u001b[39m\u001b[32m5\u001b[39m     \u001b[38;5;28mprint\u001b[39m(\u001b[33m'\u001b[39m\u001b[33mSum is \u001b[39m\u001b[38;5;132;01m{}\u001b[39;00m\u001b[33m'\u001b[39m.format(\u001b[38;5;28;43mint\u001b[39;49m\u001b[43m(\u001b[49m\u001b[43mnum1\u001b[49m\u001b[43m)\u001b[49m + \u001b[38;5;28mint\u001b[39m(num2)))\n\u001b[32m      6\u001b[39m \u001b[38;5;28;01mexcept\u001b[39;00m \u001b[38;5;167;01mIndexError\u001b[39;00m \u001b[38;5;28;01mas\u001b[39;00m err: \u001b[38;5;66;03m# 仅捕获索引错误异常\u001b[39;00m\n\u001b[32m      7\u001b[39m     \u001b[38;5;28mprint\u001b[39m(\u001b[33m'\u001b[39m\u001b[33mIndex Error: \u001b[39m\u001b[38;5;132;01m{}\u001b[39;00m\u001b[33m'\u001b[39m.format(err))\n",
      "\u001b[31mValueError\u001b[39m: invalid literal for int() with base 10: 'a'"
     ]
    }
   ],
   "source": [
    "try:\n",
    "    s = input('Please enter two numbers separated by comma: ')\n",
    "    num1 = s.split(',')[0]\n",
    "    num2 = s.split(',')[1]\n",
    "    print('Sum is {}'.format(int(num1) + int(num2)))\n",
    "except IndexError as err: # 仅捕获索引错误异常\n",
    "    print('Index Error: {}'.format(err))"
   ]
  },
  {
   "cell_type": "code",
   "execution_count": 20,
   "id": "f70e4ccd",
   "metadata": {},
   "outputs": [
    {
     "name": "stdout",
     "output_type": "stream",
     "text": [
      "Error: invalid literal for int() with base 10: 'a'\n"
     ]
    }
   ],
   "source": [
    "try:\n",
    "    s = input('Please enter two numbers separated by comma: ')\n",
    "    num1 = s.split(',')[0]\n",
    "    num2 = s.split(',')[1]\n",
    "    print('Sum is {}'.format(int(num1) + int(num2)))\n",
    "except (ValueError, IndexError) as err: # 捕获两种异常\n",
    "    print('Error: {}'.format(err))"
   ]
  },
  {
   "cell_type": "code",
   "execution_count": null,
   "id": "db9c70d9",
   "metadata": {},
   "outputs": [],
   "source": [
    "try:\n",
    "    s = input('Please enter two numbers separated by comma: ')\n",
    "    num1 = s.split(',')[0]\n",
    "    num2 = s.split(',')[1]\n",
    "    print('Sum is {}'.format(int(num1) + int(num2)))\n",
    "except ValueError as err: # 捕获值错误异常\n",
    "    print('Value Error: {}'.format(err))\n",
    "except IndexError as err: # 捕获索引错误异常\n",
    "    print('Index Error: {}'.format(err))"
   ]
  },
  {
   "cell_type": "code",
   "execution_count": null,
   "id": "da006b56",
   "metadata": {},
   "outputs": [],
   "source": [
    "try:\n",
    "    s = input('Please enter two numbers separated by comma: ')\n",
    "    num1 = s.split(',')[0]\n",
    "    num2 = s.split(',')[1]\n",
    "    print('Sum is {}'.format(int(num1) + int(num2)))\n",
    "except ValueError as err: # 捕获值错误异常\n",
    "    print('Value Error: {}'.format(err))\n",
    "except IndexError as err: # 捕获索引错误异常\n",
    "    print('Index Error: {}'.format(err))\n",
    "except Exception as err: # 所有其他异常\n",
    "    print('Other Error: {}'.format(err))"
   ]
  },
  {
   "cell_type": "code",
   "execution_count": null,
   "id": "c71ec27f",
   "metadata": {},
   "outputs": [],
   "source": [
    "# 完整的 try-except-finally 块\n",
    "try:\n",
    "    f = open('not.exist', 'r')\n",
    "except OSError as err:\n",
    "    print('OS Error: {}'.format(err))\n",
    "except:\n",
    "    print('Othter Error')\n",
    "finally:\n",
    "    f.close()"
   ]
  },
  {
   "cell_type": "code",
   "execution_count": 25,
   "id": "169b68b9",
   "metadata": {},
   "outputs": [
    {
     "name": "stdout",
     "output_type": "stream",
     "text": [
      "invalid input value: -1\n"
     ]
    }
   ],
   "source": [
    "class MyInputError(Exception): # 自定义异常，继承自 Exception\n",
    "    '''Exception raised when there're errors in input'''\n",
    "    def __init__(self, value):\n",
    "        self.value = value\n",
    "    def __str__(self): # err 信息的来源\n",
    "        return ('invalid input value: {}'.format(self.value))\n",
    "\n",
    "try:\n",
    "    raise MyInputError(-1)\n",
    "except MyInputError as err:\n",
    "    print(err)"
   ]
  },
  {
   "cell_type": "code",
   "execution_count": null,
   "id": "d52061a3",
   "metadata": {},
   "outputs": [],
   "source": [
    "import json\n",
    "\n",
    "try:\n",
    "    raw_data = queryDB(uid)\n",
    "    json.loads(raw_data) # 无法保障外部输入的情况下需要进行异常处理\n",
    "except JSONDecodeError as err:\n",
    "    print('JSONDecoderError: {}'.format(err))"
   ]
  },
  {
   "cell_type": "code",
   "execution_count": 27,
   "id": "6774edd7",
   "metadata": {},
   "outputs": [
    {
     "name": "stdout",
     "output_type": "stream",
     "text": [
      "KeyError: 'dob'\n"
     ]
    }
   ],
   "source": [
    "d = {'name': 'jason', 'age': 20}\n",
    "# 滥用异常的例子\n",
    "try:\n",
    "    value = d['dob']\n",
    "except KeyError as err:\n",
    "    print('KeyError: {}'.format(err))"
   ]
  },
  {
   "cell_type": "code",
   "execution_count": 28,
   "id": "c47208ab",
   "metadata": {},
   "outputs": [],
   "source": [
    "# 使用简单的判断流程\n",
    "if 'dob' in d:\n",
    "    value = d['dob']"
   ]
  }
 ],
 "metadata": {
  "kernelspec": {
   "display_name": "ai.dev",
   "language": "python",
   "name": "python3"
  },
  "language_info": {
   "codemirror_mode": {
    "name": "ipython",
    "version": 3
   },
   "file_extension": ".py",
   "mimetype": "text/x-python",
   "name": "python",
   "nbconvert_exporter": "python",
   "pygments_lexer": "ipython3",
   "version": "3.12.10"
  }
 },
 "nbformat": 4,
 "nbformat_minor": 5
}
