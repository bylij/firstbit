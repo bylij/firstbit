{
 "cells": [
  {
   "cell_type": "code",
   "execution_count": 3,
   "id": "866a20ae",
   "metadata": {},
   "outputs": [
    {
     "name": "stdout",
     "output_type": "stream",
     "text": [
      "Got a message: Hello World!\n"
     ]
    }
   ],
   "source": [
    "def myfunc(message): # 函数定义\n",
    "    print('Got a message: {}'.format(message))\n",
    "\n",
    "myfunc('Hello World!')"
   ]
  },
  {
   "cell_type": "code",
   "execution_count": null,
   "id": "4044a7aa",
   "metadata": {},
   "outputs": [],
   "source": [
    "def func(param1, param2, ...): # 函数定义模板\n",
    "    statements\n",
    "    return/yield value # 可选的返回"
   ]
  },
  {
   "cell_type": "code",
   "execution_count": null,
   "id": "027ea7c8",
   "metadata": {},
   "outputs": [
    {
     "name": "stdout",
     "output_type": "stream",
     "text": [
      "a + b = 3\n"
     ]
    }
   ],
   "source": [
    "def mysum(a, b): # 两个数相加\n",
    "    return a + b\n",
    "\n",
    "print('a + b = {}'.format(mysum(1, 2)))"
   ]
  },
  {
   "cell_type": "code",
   "execution_count": 7,
   "id": "cfa1f180",
   "metadata": {},
   "outputs": [
    {
     "data": {
      "text/plain": [
       "278"
      ]
     },
     "execution_count": 7,
     "metadata": {},
     "output_type": "execute_result"
    }
   ],
   "source": [
    "def find_largest_element(l): # 查找列表中的最大值\n",
    "    if not isinstance(l, list):\n",
    "        print('input is not a list')\n",
    "        return\n",
    "    if len(l) == 0:\n",
    "        print('list is empty')\n",
    "        return\n",
    "    largest_element = l[0]\n",
    "    for element in l:\n",
    "        if element > largest_element:\n",
    "            largest_element = element\n",
    "    return largest_element\n",
    "\n",
    "find_largest_element([-1, 0, 18, 188, 278])"
   ]
  },
  {
   "cell_type": "code",
   "execution_count": null,
   "id": "6d12ae28",
   "metadata": {},
   "outputs": [
    {
     "ename": "NameError",
     "evalue": "name 'myfunc1' is not defined",
     "output_type": "error",
     "traceback": [
      "\u001b[31m---------------------------------------------------------------------------\u001b[39m",
      "\u001b[31mNameError\u001b[39m                                 Traceback (most recent call last)",
      "\u001b[36mCell\u001b[39m\u001b[36m \u001b[39m\u001b[32mIn[9]\u001b[39m\u001b[32m, line 1\u001b[39m\n\u001b[32m----> \u001b[39m\u001b[32m1\u001b[39m \u001b[43mmyfunc1\u001b[49m(\u001b[33m'\u001b[39m\u001b[33mHello World!\u001b[39m\u001b[33m'\u001b[39m)\n\u001b[32m      2\u001b[39m \u001b[38;5;28;01mdef\u001b[39;00m\u001b[38;5;250m \u001b[39m\u001b[34mmyfunc1\u001b[39m(message):\n\u001b[32m      3\u001b[39m     \u001b[38;5;28mprint\u001b[39m(\u001b[33m'\u001b[39m\u001b[33mGot a message: \u001b[39m\u001b[38;5;132;01m{}\u001b[39;00m\u001b[33m'\u001b[39m.format(message))\n",
      "\u001b[31mNameError\u001b[39m: name 'myfunc1' is not defined"
     ]
    }
   ],
   "source": [
    "myfunc1('Hello World!') # 此处函数未定义\n",
    "def myfunc1(message):\n",
    "    print('Got a message: {}'.format(message))"
   ]
  },
  {
   "cell_type": "code",
   "execution_count": null,
   "id": "183a69c8",
   "metadata": {},
   "outputs": [
    {
     "name": "stdout",
     "output_type": "stream",
     "text": [
      "Got a message: Hello World!\n"
     ]
    }
   ],
   "source": [
    "def func(message):\n",
    "    sub_func(message) # 函数调用发起时该函数已被定义\n",
    "\n",
    "def sub_func(message):\n",
    "    print('Got a message: {}'.format(message))\n",
    "\n",
    "func('Hello World!')"
   ]
  },
  {
   "cell_type": "code",
   "execution_count": null,
   "id": "1c6b7b01",
   "metadata": {},
   "outputs": [
    {
     "ename": "NameError",
     "evalue": "name 'sub_func1' is not defined",
     "output_type": "error",
     "traceback": [
      "\u001b[31m---------------------------------------------------------------------------\u001b[39m",
      "\u001b[31mNameError\u001b[39m                                 Traceback (most recent call last)",
      "\u001b[36mCell\u001b[39m\u001b[36m \u001b[39m\u001b[32mIn[12]\u001b[39m\u001b[32m, line 4\u001b[39m\n\u001b[32m      1\u001b[39m \u001b[38;5;28;01mdef\u001b[39;00m\u001b[38;5;250m \u001b[39m\u001b[34mfunc1\u001b[39m(message):\n\u001b[32m      2\u001b[39m     sub_func1(message) \u001b[38;5;66;03m# 函数调用发起时该函数已被定义\u001b[39;00m\n\u001b[32m----> \u001b[39m\u001b[32m4\u001b[39m \u001b[43mfunc1\u001b[49m\u001b[43m(\u001b[49m\u001b[33;43m'\u001b[39;49m\u001b[33;43mHello World!\u001b[39;49m\u001b[33;43m'\u001b[39;49m\u001b[43m)\u001b[49m\n\u001b[32m      6\u001b[39m \u001b[38;5;28;01mdef\u001b[39;00m\u001b[38;5;250m \u001b[39m\u001b[34msub_func1\u001b[39m(message):\n\u001b[32m      7\u001b[39m     \u001b[38;5;28mprint\u001b[39m(\u001b[33m'\u001b[39m\u001b[33mGot a message: \u001b[39m\u001b[38;5;132;01m{}\u001b[39;00m\u001b[33m'\u001b[39m.format(message))\n",
      "\u001b[36mCell\u001b[39m\u001b[36m \u001b[39m\u001b[32mIn[12]\u001b[39m\u001b[32m, line 2\u001b[39m, in \u001b[36mfunc1\u001b[39m\u001b[34m(message)\u001b[39m\n\u001b[32m      1\u001b[39m \u001b[38;5;28;01mdef\u001b[39;00m\u001b[38;5;250m \u001b[39m\u001b[34mfunc1\u001b[39m(message):\n\u001b[32m----> \u001b[39m\u001b[32m2\u001b[39m     \u001b[43msub_func1\u001b[49m(message)\n",
      "\u001b[31mNameError\u001b[39m: name 'sub_func1' is not defined"
     ]
    }
   ],
   "source": [
    "def func1(message):\n",
    "    sub_func1(message) # 对比之下：函数调用发起时该函数定义语句尚未执行，函数未定必报错\n",
    "\n",
    "func1('Hello World!')\n",
    "\n",
    "def sub_func1(message):\n",
    "    print('Got a message: {}'.format(message))"
   ]
  },
  {
   "cell_type": "code",
   "execution_count": null,
   "id": "64e0cf4e",
   "metadata": {},
   "outputs": [],
   "source": [
    "def func(param = 0): # 参数可以指定默认值\n",
    "    pass"
   ]
  },
  {
   "cell_type": "code",
   "execution_count": 15,
   "id": "ce7737f8",
   "metadata": {},
   "outputs": [
    {
     "data": {
      "text/plain": [
       "[1, 2, 3, 4]"
      ]
     },
     "execution_count": 15,
     "metadata": {},
     "output_type": "execute_result"
    }
   ],
   "source": [
    "mysum([1, 2], [3, 4]) # 函数原生支持泛型，甚至支持列表这样的高级数据类型"
   ]
  },
  {
   "cell_type": "code",
   "execution_count": null,
   "id": "9aa29e86",
   "metadata": {},
   "outputs": [
    {
     "data": {
      "text/plain": [
       "'Hello, World!'"
      ]
     },
     "execution_count": 16,
     "metadata": {},
     "output_type": "execute_result"
    }
   ],
   "source": [
    "mysum('Hello', ', World!') # 也支持字符串"
   ]
  },
  {
   "cell_type": "code",
   "execution_count": 18,
   "id": "389e7f89",
   "metadata": {},
   "outputs": [
    {
     "ename": "TypeError",
     "evalue": "can only concatenate list (not \"str\") to list",
     "output_type": "error",
     "traceback": [
      "\u001b[31m---------------------------------------------------------------------------\u001b[39m",
      "\u001b[31mTypeError\u001b[39m                                 Traceback (most recent call last)",
      "\u001b[36mCell\u001b[39m\u001b[36m \u001b[39m\u001b[32mIn[18]\u001b[39m\u001b[32m, line 1\u001b[39m\n\u001b[32m----> \u001b[39m\u001b[32m1\u001b[39m \u001b[43mmysum\u001b[49m\u001b[43m(\u001b[49m\u001b[43m[\u001b[49m\u001b[32;43m1\u001b[39;49m\u001b[43m,\u001b[49m\u001b[43m \u001b[49m\u001b[32;43m2\u001b[39;49m\u001b[43m]\u001b[49m\u001b[43m,\u001b[49m\u001b[43m \u001b[49m\u001b[33;43m'\u001b[39;49m\u001b[33;43mHello\u001b[39;49m\u001b[33;43m'\u001b[39;49m\u001b[43m)\u001b[49m \u001b[38;5;66;03m# 受函数实现的限制：列表和字符串不能直接相加\u001b[39;00m\n",
      "\u001b[36mCell\u001b[39m\u001b[36m \u001b[39m\u001b[32mIn[4]\u001b[39m\u001b[32m, line 2\u001b[39m, in \u001b[36mmysum\u001b[39m\u001b[34m(a, b)\u001b[39m\n\u001b[32m      1\u001b[39m \u001b[38;5;28;01mdef\u001b[39;00m\u001b[38;5;250m \u001b[39m\u001b[34mmysum\u001b[39m(a, b):\n\u001b[32m----> \u001b[39m\u001b[32m2\u001b[39m     \u001b[38;5;28;01mreturn\u001b[39;00m \u001b[43ma\u001b[49m\u001b[43m \u001b[49m\u001b[43m+\u001b[49m\u001b[43m \u001b[49m\u001b[43mb\u001b[49m\n",
      "\u001b[31mTypeError\u001b[39m: can only concatenate list (not \"str\") to list"
     ]
    }
   ],
   "source": [
    "mysum([1, 2], 'Hello') # 受函数实现的限制：列表和字符串不能直接相加"
   ]
  },
  {
   "cell_type": "code",
   "execution_count": 20,
   "id": "e9570714",
   "metadata": {},
   "outputs": [
    {
     "name": "stdout",
     "output_type": "stream",
     "text": [
      "Hello\n",
      "World\n"
     ]
    }
   ],
   "source": [
    "def func1():\n",
    "    print('Hello')\n",
    "    def func2(): # 函数的嵌套定义\n",
    "        print('World')\n",
    "    func2()\n",
    "\n",
    "func1()"
   ]
  },
  {
   "cell_type": "code",
   "execution_count": 22,
   "id": "63159954",
   "metadata": {},
   "outputs": [
    {
     "ename": "NameError",
     "evalue": "name 'func2' is not defined",
     "output_type": "error",
     "traceback": [
      "\u001b[31m---------------------------------------------------------------------------\u001b[39m",
      "\u001b[31mNameError\u001b[39m                                 Traceback (most recent call last)",
      "\u001b[36mCell\u001b[39m\u001b[36m \u001b[39m\u001b[32mIn[22]\u001b[39m\u001b[32m, line 1\u001b[39m\n\u001b[32m----> \u001b[39m\u001b[32m1\u001b[39m \u001b[43mfunc2\u001b[49m() \u001b[38;5;66;03m# 嵌套定义的内部函数不可见\u001b[39;00m\n",
      "\u001b[31mNameError\u001b[39m: name 'func2' is not defined"
     ]
    }
   ],
   "source": [
    "func2() # 嵌套定义的内部函数不可见"
   ]
  },
  {
   "cell_type": "code",
   "execution_count": null,
   "id": "c4d8fa34",
   "metadata": {},
   "outputs": [],
   "source": [
    "def connect_DB():\n",
    "    def get_DB_config(): # 将不需要暴露的函数隐藏在嵌套定义中\n",
    "        return host, username, password\n",
    "    conn = connector.connect(get_DB_config())\n",
    "    return conn"
   ]
  },
  {
   "cell_type": "code",
   "execution_count": 32,
   "id": "3fb3a83e",
   "metadata": {},
   "outputs": [
    {
     "data": {
      "text/plain": [
       "3628800"
      ]
     },
     "execution_count": 32,
     "metadata": {},
     "output_type": "execute_result"
    }
   ],
   "source": [
    "def factorial(input):\n",
    "    if not isinstance(input, int):\n",
    "        raise Exception('{} is not a integer'.format(input))\n",
    "    if input < 0:\n",
    "        raise Exception('{} is negative'.format(input))\n",
    "    \n",
    "    def inner_factorial(input): # 内部函数例子\n",
    "        if input <= 1:\n",
    "            return 1\n",
    "        return input * inner_factorial(input - 1)\n",
    "    \n",
    "    return inner_factorial(input)\n",
    "\n",
    "factorial(10)"
   ]
  },
  {
   "cell_type": "code",
   "execution_count": 34,
   "id": "786fbbf7",
   "metadata": {},
   "outputs": [
    {
     "ename": "NameError",
     "evalue": "name 'local_var' is not defined",
     "output_type": "error",
     "traceback": [
      "\u001b[31m---------------------------------------------------------------------------\u001b[39m",
      "\u001b[31mNameError\u001b[39m                                 Traceback (most recent call last)",
      "\u001b[36mCell\u001b[39m\u001b[36m \u001b[39m\u001b[32mIn[34]\u001b[39m\u001b[32m, line 4\u001b[39m\n\u001b[32m      1\u001b[39m \u001b[38;5;28;01mdef\u001b[39;00m\u001b[38;5;250m \u001b[39m\u001b[34mfunc_local_var\u001b[39m():\n\u001b[32m      2\u001b[39m     local_var = [] \u001b[38;5;66;03m# 局部对象外部不可见\u001b[39;00m\n\u001b[32m----> \u001b[39m\u001b[32m4\u001b[39m \u001b[43mlocal_var\u001b[49m\n",
      "\u001b[31mNameError\u001b[39m: name 'local_var' is not defined"
     ]
    }
   ],
   "source": [
    "def func_local_var():\n",
    "    local_var = [] # 局部对象外部不可见\n",
    "\n",
    "local_var"
   ]
  },
  {
   "cell_type": "code",
   "execution_count": 60,
   "id": "d9ee141b",
   "metadata": {},
   "outputs": [
    {
     "ename": "UnboundLocalError",
     "evalue": "cannot access local variable 'MIN_VALUE' where it is not associated with a value",
     "output_type": "error",
     "traceback": [
      "\u001b[31m---------------------------------------------------------------------------\u001b[39m",
      "\u001b[31mUnboundLocalError\u001b[39m                         Traceback (most recent call last)",
      "\u001b[36mCell\u001b[39m\u001b[36m \u001b[39m\u001b[32mIn[60]\u001b[39m\u001b[32m, line 6\u001b[39m\n\u001b[32m      3\u001b[39m \u001b[38;5;28;01mdef\u001b[39;00m\u001b[38;5;250m \u001b[39m\u001b[34mvalid_check\u001b[39m(value):\n\u001b[32m      4\u001b[39m     MIN_VALUE += \u001b[32m1\u001b[39m \u001b[38;5;66;03m# 这里直接改变同名的全局变量\u001b[39;00m\n\u001b[32m----> \u001b[39m\u001b[32m6\u001b[39m \u001b[43mvalid_check\u001b[49m\u001b[43m(\u001b[49m\u001b[32;43m5\u001b[39;49m\u001b[43m)\u001b[49m\n",
      "\u001b[36mCell\u001b[39m\u001b[36m \u001b[39m\u001b[32mIn[60]\u001b[39m\u001b[32m, line 4\u001b[39m, in \u001b[36mvalid_check\u001b[39m\u001b[34m(value)\u001b[39m\n\u001b[32m      3\u001b[39m \u001b[38;5;28;01mdef\u001b[39;00m\u001b[38;5;250m \u001b[39m\u001b[34mvalid_check\u001b[39m(value):\n\u001b[32m----> \u001b[39m\u001b[32m4\u001b[39m     \u001b[43mMIN_VALUE\u001b[49m += \u001b[32m1\u001b[39m\n",
      "\u001b[31mUnboundLocalError\u001b[39m: cannot access local variable 'MIN_VALUE' where it is not associated with a value"
     ]
    }
   ],
   "source": [
    "MIN_VALUE = 1\n",
    "MAX_VALUE = 10\n",
    "def valid_check(value):\n",
    "    MIN_VALUE += 1 # 这里直接改变同名的全局变量\n",
    "\n",
    "valid_check(5)"
   ]
  },
  {
   "cell_type": "code",
   "execution_count": 42,
   "id": "dc7778a2",
   "metadata": {},
   "outputs": [],
   "source": [
    "MIN_VALUE = 1\n",
    "MAX_VALUE = 10\n",
    "def valid_check(value):\n",
    "    global MIN_VALUE # 显示声明这个变量就是之前定义的全局变量\n",
    "    MIN_VALUE += 1\n",
    "\n",
    "valid_check(5)"
   ]
  },
  {
   "cell_type": "code",
   "execution_count": 47,
   "id": "45dc5439",
   "metadata": {},
   "outputs": [
    {
     "name": "stdout",
     "output_type": "stream",
     "text": [
      "MIN_VALUE = 3\n",
      "MIN_VALUE = 1\n"
     ]
    }
   ],
   "source": [
    "MIN_VALUE = 1\n",
    "MAX_VALUE = 10\n",
    "def valid_check(value):\n",
    "    MIN_VALUE = 3 # 局部变量覆盖同名全局变量\n",
    "    print('MIN_VALUE = {}'.format(MIN_VALUE))\n",
    "\n",
    "valid_check(5)\n",
    "print('MIN_VALUE = {}'.format(MIN_VALUE)) # 全局变量的值并没有被改变"
   ]
  },
  {
   "cell_type": "code",
   "execution_count": null,
   "id": "5a8f9836",
   "metadata": {},
   "outputs": [
    {
     "ename": "UnboundLocalError",
     "evalue": "cannot access local variable 'value' where it is not associated with a value",
     "output_type": "error",
     "traceback": [
      "\u001b[31m---------------------------------------------------------------------------\u001b[39m",
      "\u001b[31mUnboundLocalError\u001b[39m                         Traceback (most recent call last)",
      "\u001b[36mCell\u001b[39m\u001b[36m \u001b[39m\u001b[32mIn[59]\u001b[39m\u001b[32m, line 8\u001b[39m\n\u001b[32m      5\u001b[39m     inner()\n\u001b[32m      6\u001b[39m     \u001b[38;5;28mprint\u001b[39m(\u001b[33m'\u001b[39m\u001b[33mvalue = \u001b[39m\u001b[38;5;132;01m{}\u001b[39;00m\u001b[33m'\u001b[39m.format(value))\n\u001b[32m----> \u001b[39m\u001b[32m8\u001b[39m \u001b[43moutter\u001b[49m\u001b[43m(\u001b[49m\u001b[43m)\u001b[49m\n",
      "\u001b[36mCell\u001b[39m\u001b[36m \u001b[39m\u001b[32mIn[59]\u001b[39m\u001b[32m, line 5\u001b[39m, in \u001b[36moutter\u001b[39m\u001b[34m()\u001b[39m\n\u001b[32m      3\u001b[39m \u001b[38;5;28;01mdef\u001b[39;00m\u001b[38;5;250m \u001b[39m\u001b[34minner\u001b[39m():\n\u001b[32m      4\u001b[39m     value += \u001b[32m1\u001b[39m \u001b[38;5;66;03m# 同样的，嵌套的内部函数不能直接使用外部函数中定义的变量\u001b[39;00m\n\u001b[32m----> \u001b[39m\u001b[32m5\u001b[39m \u001b[43minner\u001b[49m\u001b[43m(\u001b[49m\u001b[43m)\u001b[49m\n\u001b[32m      6\u001b[39m \u001b[38;5;28mprint\u001b[39m(\u001b[33m'\u001b[39m\u001b[33mvalue = \u001b[39m\u001b[38;5;132;01m{}\u001b[39;00m\u001b[33m'\u001b[39m.format(value))\n",
      "\u001b[36mCell\u001b[39m\u001b[36m \u001b[39m\u001b[32mIn[59]\u001b[39m\u001b[32m, line 4\u001b[39m, in \u001b[36moutter.<locals>.inner\u001b[39m\u001b[34m()\u001b[39m\n\u001b[32m      3\u001b[39m \u001b[38;5;28;01mdef\u001b[39;00m\u001b[38;5;250m \u001b[39m\u001b[34minner\u001b[39m():\n\u001b[32m----> \u001b[39m\u001b[32m4\u001b[39m     \u001b[43mvalue\u001b[49m += \u001b[32m1\u001b[39m\n",
      "\u001b[31mUnboundLocalError\u001b[39m: cannot access local variable 'value' where it is not associated with a value"
     ]
    }
   ],
   "source": [
    "def outter():\n",
    "    value = 0\n",
    "    def inner():\n",
    "        value += 1 # 同样的，嵌套的内部函数不能以直接改变外部函数中定义的变量\n",
    "    inner()\n",
    "    print('value = {}'.format(value))\n",
    "\n",
    "outter()"
   ]
  },
  {
   "cell_type": "code",
   "execution_count": 56,
   "id": "63a8081b",
   "metadata": {},
   "outputs": [
    {
     "name": "stdout",
     "output_type": "stream",
     "text": [
      "value = 1\n"
     ]
    }
   ],
   "source": [
    "def outter():\n",
    "    value = 0\n",
    "    def inner():\n",
    "        nonlocal value # 声明变量就是外部函数中定义的同名变量\n",
    "        value += 1\n",
    "    inner()\n",
    "    print('value = {}'.format(value))\n",
    "\n",
    "outter()"
   ]
  },
  {
   "cell_type": "code",
   "execution_count": null,
   "id": "b92cf01e",
   "metadata": {},
   "outputs": [
    {
     "name": "stdout",
     "output_type": "stream",
     "text": [
      "square(2) = 4, cube(3) = 27\n"
     ]
    }
   ],
   "source": [
    "def nth_power(exponent):\n",
    "    def exponent_of(base):\n",
    "        return base ** exponent\n",
    "    return exponent_of # 闭包：返回内部函数\n",
    "\n",
    "square = nth_power(2) # 可以认为这里是真正完成了内部函数的定义执行\n",
    "cube = nth_power(3)\n",
    "\n",
    "print('square(2) = {}, cube(3) = {}'.format(square(2), cube(3)))"
   ]
  },
  {
   "cell_type": "code",
   "execution_count": 64,
   "id": "9523f1df",
   "metadata": {},
   "outputs": [
    {
     "name": "stdout",
     "output_type": "stream",
     "text": [
      "4\n",
      "27\n"
     ]
    }
   ],
   "source": [
    "def nth_power_rewrite(base, exponent): # 作为对比：不采用闭包的实现\n",
    "    return base ** exponent\n",
    "\n",
    "print(nth_power_rewrite(2, 2))\n",
    "print(nth_power_rewrite(3, 3))"
   ]
  }
 ],
 "metadata": {
  "kernelspec": {
   "display_name": "ai.dev",
   "language": "python",
   "name": "python3"
  },
  "language_info": {
   "codemirror_mode": {
    "name": "ipython",
    "version": 3
   },
   "file_extension": ".py",
   "mimetype": "text/x-python",
   "name": "python",
   "nbconvert_exporter": "python",
   "pygments_lexer": "ipython3",
   "version": "3.12.10"
  }
 },
 "nbformat": 4,
 "nbformat_minor": 5
}
