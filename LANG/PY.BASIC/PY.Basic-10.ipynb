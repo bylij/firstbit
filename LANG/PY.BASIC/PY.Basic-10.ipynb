{
 "cells": [
  {
   "cell_type": "code",
   "execution_count": null,
   "id": "23279eaf",
   "metadata": {},
   "outputs": [],
   "source": [
    "lambda argument1, argument2, argument3, ... : expression # 匿名函数的标准形式，它更像一个表达式"
   ]
  },
  {
   "cell_type": "code",
   "execution_count": 2,
   "id": "112b1a8c",
   "metadata": {},
   "outputs": [
    {
     "data": {
      "text/plain": [
       "100"
      ]
     },
     "execution_count": 2,
     "metadata": {},
     "output_type": "execute_result"
    }
   ],
   "source": [
    "square = lambda x: x ** 2 # 匿名函数定义\n",
    "square(10)"
   ]
  },
  {
   "cell_type": "code",
   "execution_count": 3,
   "id": "b6cde282",
   "metadata": {},
   "outputs": [
    {
     "data": {
      "text/plain": [
       "100"
      ]
     },
     "execution_count": 3,
     "metadata": {},
     "output_type": "execute_result"
    }
   ],
   "source": [
    "def square(x): # 作为对比的常规函数\n",
    "    return x ** 2\n",
    "\n",
    "square(10)"
   ]
  },
  {
   "cell_type": "code",
   "execution_count": 12,
   "id": "3eb51b43",
   "metadata": {},
   "outputs": [
    {
     "data": {
      "text/plain": [
       "[0, 1, 4, 9, 16, 25, 36, 49, 64, 81]"
      ]
     },
     "execution_count": 12,
     "metadata": {},
     "output_type": "execute_result"
    }
   ],
   "source": [
    "[(lambda x: x*x)(x) for x in range(0, 10)] # 匿名函数可以使用在列表生成中"
   ]
  },
  {
   "cell_type": "code",
   "execution_count": 13,
   "id": "6d96e366",
   "metadata": {},
   "outputs": [
    {
     "data": {
      "text/plain": [
       "[(2, -1), (3, 0), (9, 10), (1, 20)]"
      ]
     },
     "execution_count": 13,
     "metadata": {},
     "output_type": "execute_result"
    }
   ],
   "source": [
    "l = [(1, 20), (3, 0), (9, 10), (2, -1)]\n",
    "l = sorted(l, key=lambda x: x[1]) # 匿名函数作为函数参数\n",
    "l"
   ]
  },
  {
   "cell_type": "code",
   "execution_count": null,
   "id": "e07f8a8a",
   "metadata": {},
   "outputs": [
    {
     "data": {
      "text/plain": [
       "[1, 4, 9, 16, 25]"
      ]
     },
     "execution_count": 21,
     "metadata": {},
     "output_type": "execute_result"
    }
   ],
   "source": [
    "squared = map(lambda x: x*x, [1, 2, 3, 4, 5]) # 匿名函数一次性使用\n",
    "list(squared)"
   ]
  },
  {
   "cell_type": "code",
   "execution_count": 23,
   "id": "74cc7ec7",
   "metadata": {},
   "outputs": [
    {
     "data": {
      "text/plain": [
       "[1, 4, 9, 16, 25]"
      ]
     },
     "execution_count": 23,
     "metadata": {},
     "output_type": "execute_result"
    }
   ],
   "source": [
    "def square(x):\n",
    "    return x*x\n",
    "\n",
    "squared = map(square, [1, 2, 3, 4, 5]) # 使用常规函数需要额外定义\n",
    "list(squared)"
   ]
  },
  {
   "cell_type": "code",
   "execution_count": null,
   "id": "0fe92c55",
   "metadata": {},
   "outputs": [
    {
     "name": "stdout",
     "output_type": "stream",
     "text": [
      "pressed\n",
      "pressed\n",
      "pressed\n",
      "pressed\n"
     ]
    }
   ],
   "source": [
    "from tkinter import Button, mainloop\n",
    "\n",
    "button = Button(\n",
    "    text='This is a button',\n",
    "    command=lambda : print('pressed') # 匿名函数的一次性使用\n",
    ")\n",
    "\n",
    "button.pack()\n",
    "mainloop()"
   ]
  },
  {
   "cell_type": "code",
   "execution_count": null,
   "id": "93cee0a7",
   "metadata": {},
   "outputs": [
    {
     "name": "stdout",
     "output_type": "stream",
     "text": [
      "pressed\n",
      "pressed\n",
      "pressed\n",
      "pressed\n"
     ]
    }
   ],
   "source": [
    "from tkinter import Button, mainloop\n",
    "\n",
    "def print_message():\n",
    "    print('pressed')\n",
    "\n",
    "button = Button(\n",
    "    text='This is a button',\n",
    "    command=print_message # 常规函数需要额外定义\n",
    ")\n",
    "\n",
    "button.pack()\n",
    "mainloop()"
   ]
  },
  {
   "cell_type": "code",
   "execution_count": null,
   "id": "55c81ce3",
   "metadata": {},
   "outputs": [
    {
     "data": {
      "text/plain": [
       "[2, 4, 6, 8, 10]"
      ]
     },
     "execution_count": 26,
     "metadata": {},
     "output_type": "execute_result"
    }
   ],
   "source": [
    "def batch_double(l): # 标准风格，原地修改\n",
    "    for index in range(0, len(l)):\n",
    "        l[index] *= 2\n",
    "    return l\n",
    "\n",
    "batch_double([1, 2, 3, 4, 5])"
   ]
  },
  {
   "cell_type": "code",
   "execution_count": null,
   "id": "a6ba1c23",
   "metadata": {},
   "outputs": [
    {
     "data": {
      "text/plain": [
       "[2, 4, 6, 8, 10]"
      ]
     },
     "execution_count": 29,
     "metadata": {},
     "output_type": "execute_result"
    }
   ],
   "source": [
    "def batch_double_pure(l): # 函数式风格，不修改已有对象\n",
    "    new_list = []\n",
    "    for item in l:\n",
    "        new_list.append(item*2)\n",
    "    return new_list\n",
    "\n",
    "batch_double_pure([1, 2, 3, 4, 5])"
   ]
  },
  {
   "cell_type": "code",
   "execution_count": null,
   "id": "0616a946",
   "metadata": {},
   "outputs": [
    {
     "data": {
      "text/plain": [
       "[2, 4, 6, 8, 10]"
      ]
     },
     "execution_count": 30,
     "metadata": {},
     "output_type": "execute_result"
    }
   ],
   "source": [
    "l = map(lambda x:x*2, [1, 2, 3, 4, 5]) # 直接调用内部定义的纯函数\n",
    "list(l)"
   ]
  },
  {
   "cell_type": "code",
   "execution_count": null,
   "id": "44dfdd0a",
   "metadata": {},
   "outputs": [
    {
     "name": "stdout",
     "output_type": "stream",
     "text": [
      "2000000 loops, best of 5: 152 nsec per loop\n"
     ]
    }
   ],
   "source": [
    "# 性能评估：调用高度优化的内部函数\n",
    "!python -m timeit -s \"x=range(1000000)\" \"map(lambda x: x*2, x)\""
   ]
  },
  {
   "cell_type": "code",
   "execution_count": null,
   "id": "e4041db4",
   "metadata": {},
   "outputs": [
    {
     "name": "stdout",
     "output_type": "stream",
     "text": [
      "5 loops, best of 5: 71.2 msec per loop\n"
     ]
    }
   ],
   "source": [
    "# 性能评估：使用列表展开生成语法\n",
    "!python -m timeit -s \"x=range(1000000)\" \"[n*2 for n in x]\""
   ]
  },
  {
   "cell_type": "code",
   "execution_count": null,
   "id": "4bf51668",
   "metadata": {},
   "outputs": [
    {
     "name": "stdout",
     "output_type": "stream",
     "text": [
      "5 loops, best of 5: 79.5 msec per loop\n"
     ]
    }
   ],
   "source": [
    "# 性能评估：循环插入列表的方法\n",
    "!python -m timeit -s \"x=range(1000000)\" \"l=[]\" \"for i in x: l.append(i*2)\""
   ]
  },
  {
   "cell_type": "code",
   "execution_count": 36,
   "id": "c2d8e4dd",
   "metadata": {},
   "outputs": [
    {
     "data": {
      "text/plain": [
       "[1, 2, 3]"
      ]
     },
     "execution_count": 36,
     "metadata": {},
     "output_type": "execute_result"
    }
   ],
   "source": [
    "l = [1, 2, 3, 4, 5]\n",
    "new_list = filter(lambda x: x <= 3, l) # 调用基于条件过滤的内部纯函数\n",
    "list(new_list)"
   ]
  },
  {
   "cell_type": "code",
   "execution_count": 40,
   "id": "d87f6683",
   "metadata": {},
   "outputs": [
    {
     "data": {
      "text/plain": [
       "5050"
      ]
     },
     "execution_count": 40,
     "metadata": {},
     "output_type": "execute_result"
    }
   ],
   "source": [
    "from functools import reduce\n",
    "l = [x for x in range(1, 101)]\n",
    "reduce(lambda x, y: x+y, l) # 调用累积迭代操作的内部纯函数"
   ]
  },
  {
   "cell_type": "code",
   "execution_count": 50,
   "id": "4f7f0ff5",
   "metadata": {},
   "outputs": [
    {
     "data": {
      "text/plain": [
       "{'ben': 30, 'mike': 10, 'lucy': 2}"
      ]
     },
     "execution_count": 50,
     "metadata": {},
     "output_type": "execute_result"
    }
   ],
   "source": [
    "d = {'mike': 10, 'lucy': 2, 'ben': 30}\n",
    "dict(sorted(d.items(), key=lambda kv: kv[1], reverse=True)) # dict 作为参数默认会被理解为列表，这里使用 dict.items() 强制键值对的裂解方式"
   ]
  }
 ],
 "metadata": {
  "kernelspec": {
   "display_name": "ai.dev",
   "language": "python",
   "name": "python3"
  },
  "language_info": {
   "codemirror_mode": {
    "name": "ipython",
    "version": 3
   },
   "file_extension": ".py",
   "mimetype": "text/x-python",
   "name": "python",
   "nbconvert_exporter": "python",
   "pygments_lexer": "ipython3",
   "version": "3.12.10"
  }
 },
 "nbformat": 4,
 "nbformat_minor": 5
}
