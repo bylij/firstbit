{
 "cells": [
  {
   "cell_type": "code",
   "execution_count": null,
   "id": "a12afdcd",
   "metadata": {},
   "outputs": [
    {
     "name": "stdout",
     "output_type": "stream",
     "text": [
      "Harry Potter\n",
      "J. K. Rowling\n",
      "76\n"
     ]
    }
   ],
   "source": [
    "class Document: # 类定义\n",
    "    def __init__(self, title, author, context): # 构造函数\n",
    "        self.title = title\n",
    "        self.author = author\n",
    "        self.__context = context # 双下划线开头的是私有属性\n",
    "\n",
    "    def get_context_length(self):\n",
    "        return len(self.context)\n",
    "\n",
    "    def intercept_context(self, length):\n",
    "        self.__context = self.__context[0:length]\n",
    "\n",
    "harry_potter_book = Document('Harry Potter', 'J. K. Rowling', '... Forever Do not believe any thing is capable of thinking independenty ...')\n",
    "\n",
    "print(harry_potter_book.title)\n",
    "print(harry_potter_book.author)\n",
    "print(harry_potter_book.get_context_length())"
   ]
  },
  {
   "cell_type": "code",
   "execution_count": 4,
   "id": "8d1d8c93",
   "metadata": {},
   "outputs": [
    {
     "name": "stdout",
     "output_type": "stream",
     "text": [
      "10\n"
     ]
    },
    {
     "ename": "AttributeError",
     "evalue": "'Document' object has no attribute '__context'",
     "output_type": "error",
     "traceback": [
      "\u001b[31m---------------------------------------------------------------------------\u001b[39m",
      "\u001b[31mAttributeError\u001b[39m                            Traceback (most recent call last)",
      "\u001b[36mCell\u001b[39m\u001b[36m \u001b[39m\u001b[32mIn[4]\u001b[39m\u001b[32m, line 3\u001b[39m\n\u001b[32m      1\u001b[39m harry_potter_book.intercept_context(\u001b[32m10\u001b[39m)\n\u001b[32m      2\u001b[39m \u001b[38;5;28mprint\u001b[39m(harry_potter_book.get_context_length())\n\u001b[32m----> \u001b[39m\u001b[32m3\u001b[39m \u001b[38;5;28mprint\u001b[39m(\u001b[43mharry_potter_book\u001b[49m\u001b[43m.\u001b[49m\u001b[43m__context\u001b[49m) \u001b[38;5;66;03m# 这里访问私有属性报错\u001b[39;00m\n",
      "\u001b[31mAttributeError\u001b[39m: 'Document' object has no attribute '__context'"
     ]
    }
   ],
   "source": [
    "harry_potter_book.intercept_context(10)\n",
    "print(harry_potter_book.get_context_length())\n",
    "print(harry_potter_book.__context) # 这里访问私有属性报错"
   ]
  },
  {
   "cell_type": "code",
   "execution_count": null,
   "id": "f9b239ce",
   "metadata": {},
   "outputs": [
    {
     "name": "stdout",
     "output_type": "stream",
     "text": [
      "7\n",
      "Welcome! The context for this book is indeed nothing.\n"
     ]
    }
   ],
   "source": [
    "class Document:\n",
    "\n",
    "    WELCOME_STR = 'Welcome! The context for this book is {}.' # 常量字符串\n",
    "\n",
    "    def __init__(self, title, author, context):\n",
    "        self.title = title\n",
    "        self.author = author\n",
    "        self.__context = context\n",
    "    \n",
    "    @classmethod\n",
    "    def create_empty_book(cls, title, author): # 类函数，实现另一个版本的构造函数\n",
    "        return cls(title=title, author=author, context='nothing')\n",
    "    \n",
    "    def get_context_length(self): # 普通成员函数\n",
    "        return len(self.__context)\n",
    "    \n",
    "    @staticmethod\n",
    "    def get_welcome(context): # 静态函数，不操作具体实例\n",
    "        return Document.WELCOME_STR.format(context)\n",
    "\n",
    "empty_book = Document.create_empty_book('What Every Man Thinks About Apart from Sex.', 'Professor Sheridan Simove')\n",
    "print(empty_book.get_context_length())\n",
    "print(empty_book.get_welcome('indeed nothing'))"
   ]
  },
  {
   "cell_type": "code",
   "execution_count": 20,
   "id": "cb99e0e5",
   "metadata": {},
   "outputs": [
    {
     "name": "stdout",
     "output_type": "stream",
     "text": [
      "Document class init called\n",
      "parent class init called\n",
      "Video class init called\n",
      "parent class init called\n",
      "<class 'object'>\n",
      "<class 'object'>\n",
      "Harry Potter(Book)\n",
      "Harry Potter(Movie)\n",
      "76\n",
      "120\n"
     ]
    }
   ],
   "source": [
    "class Entity: # 父类\n",
    "    def __init__(self, object_type):\n",
    "        print('parent class init called')\n",
    "        self.object_type = object\n",
    "    \n",
    "    def get_context_length(self):\n",
    "        raise Exception('not implemented')\n",
    "    \n",
    "    def print_title(self):\n",
    "        print(self.title)\n",
    "\n",
    "class Document(Entity): # 子类1\n",
    "    def __init__(self, title, author, context):\n",
    "        print('Document class init called')\n",
    "        Entity.__init__(self, 'Document') # 需要显示调用父类构造\n",
    "        self.title = title\n",
    "        self.author = author\n",
    "        self.__context = context\n",
    "    \n",
    "    def get_context_length(self):\n",
    "        return len(self.__context)\n",
    "\n",
    "class Video(Entity): # 子类2\n",
    "    def __init__(self, title, author, video_length):\n",
    "        print('Video class init called')\n",
    "        Entity.__init__(self, 'Video') # 需要显示调用父类构造\n",
    "        self.title = title\n",
    "        self.author = author\n",
    "        self.__video_length = video_length\n",
    "    \n",
    "    def get_context_length(self):\n",
    "        return self.__video_length\n",
    "\n",
    "harry_potter_book = Document('Harry Potter(Book)', 'J. K. Rowling', '... Forever Do not believe any thing is capable of thinking independenty ...')\n",
    "harry_potter_movie = Video('Harry Potter(Movie)', 'J. K. Rowling', 120)\n",
    "\n",
    "print(harry_potter_book.object_type)\n",
    "print(harry_potter_movie.object_type)\n",
    "\n",
    "harry_potter_book.print_title()\n",
    "harry_potter_movie.print_title()\n",
    "\n",
    "print(harry_potter_book.get_context_length())\n",
    "print(harry_potter_movie.get_context_length())"
   ]
  },
  {
   "cell_type": "code",
   "execution_count": 22,
   "id": "ca397118",
   "metadata": {},
   "outputs": [
    {
     "name": "stdout",
     "output_type": "stream",
     "text": [
      "Harry Potter\n"
     ]
    }
   ],
   "source": [
    "from abc import ABCMeta, abstractmethod\n",
    "\n",
    "class Entity(metaclass=ABCMeta):\n",
    "    @abstractmethod\n",
    "    def get_title(self): # 接口函数\n",
    "        pass\n",
    "\n",
    "    @abstractmethod\n",
    "    def set_title(self): # 接口函数\n",
    "        pass\n",
    "\n",
    "class Document(Entity):\n",
    "    def get_title(self):\n",
    "        return self.title\n",
    "    \n",
    "    def set_title(self, title):\n",
    "        self.title = title\n",
    "\n",
    "document = Document()\n",
    "document.set_title('Harry Potter')\n",
    "print(document.get_title())"
   ]
  },
  {
   "cell_type": "code",
   "execution_count": 24,
   "id": "92c22f42",
   "metadata": {},
   "outputs": [
    {
     "ename": "TypeError",
     "evalue": "Can't instantiate abstract class Entity without an implementation for abstract methods 'get_title', 'set_title'",
     "output_type": "error",
     "traceback": [
      "\u001b[31m---------------------------------------------------------------------------\u001b[39m",
      "\u001b[31mTypeError\u001b[39m                                 Traceback (most recent call last)",
      "\u001b[36mCell\u001b[39m\u001b[36m \u001b[39m\u001b[32mIn[24]\u001b[39m\u001b[32m, line 1\u001b[39m\n\u001b[32m----> \u001b[39m\u001b[32m1\u001b[39m entity = \u001b[43mEntity\u001b[49m\u001b[43m(\u001b[49m\u001b[43m)\u001b[49m \u001b[38;5;66;03m# 尝试实例化抽象类，这里报错\u001b[39;00m\n",
      "\u001b[31mTypeError\u001b[39m: Can't instantiate abstract class Entity without an implementation for abstract methods 'get_title', 'set_title'"
     ]
    }
   ],
   "source": [
    "entity = Entity() # 尝试实例化抽象类，这里报错"
   ]
  }
 ],
 "metadata": {
  "kernelspec": {
   "display_name": "ai.dev",
   "language": "python",
   "name": "python3"
  },
  "language_info": {
   "codemirror_mode": {
    "name": "ipython",
    "version": 3
   },
   "file_extension": ".py",
   "mimetype": "text/x-python",
   "name": "python",
   "nbconvert_exporter": "python",
   "pygments_lexer": "ipython3",
   "version": "3.12.10"
  }
 },
 "nbformat": 4,
 "nbformat_minor": 5
}
