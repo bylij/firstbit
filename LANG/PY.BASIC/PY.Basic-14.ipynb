{
 "cells": [
  {
   "cell_type": "code",
   "execution_count": null,
   "id": "e4ba9249",
   "metadata": {},
   "outputs": [],
   "source": [
    "{'name': 'mike', 'dob': '1999-01-01', 'gender': 'male'}"
   ]
  },
  {
   "cell_type": "code",
   "execution_count": null,
   "id": "a92dfa0c",
   "metadata": {},
   "outputs": [],
   "source": [
    "entries = [\n",
    "    ['--', '--', '--'],\n",
    "    [-230273521, 'dob', '1999-01-01'],\n",
    "    ['--', '--', '--'],\n",
    "    ['--', '--', '--'],\n",
    "    [1231236123, 'name', 'mike'],\n",
    "    ['--', '--', '--'],\n",
    "    [9371539127, 'gender', 'male'],\n",
    "]"
   ]
  },
  {
   "cell_type": "code",
   "execution_count": null,
   "id": "8c9c05b0",
   "metadata": {},
   "outputs": [],
   "source": [
    "indices = [None, 1, None, None, 0, None, 2]\n",
    "entries = [\n",
    "    [1231236123, 'name', 'mike'],\n",
    "    [-230273521, 'dob', '1999-01-01'],\n",
    "    [9371539127, 'gender', 'male'],\n",
    "]"
   ]
  },
  {
   "cell_type": "code",
   "execution_count": null,
   "id": "e1ecdd53",
   "metadata": {},
   "outputs": [
    {
     "name": "stdout",
     "output_type": "stream",
     "text": [
      "1\n"
     ]
    }
   ],
   "source": [
    "e = 1\n",
    "\n",
    "try:\n",
    "    1 / 0\n",
    "except ZeroDivisionError as e: # 1. 这里对象 e 被重新赋值并在 except 语句块结束后对象被释放\n",
    "    pass\n",
    "\n",
    "print(e) # 2. 这里引用了已经被释放的对象"
   ]
  },
  {
   "cell_type": "code",
   "execution_count": null,
   "id": "e5b0ff2c",
   "metadata": {},
   "outputs": [
    {
     "name": "stdout",
     "output_type": "stream",
     "text": [
      "1\n"
     ]
    }
   ],
   "source": [
    "x = 1\n",
    "\n",
    "def func():\n",
    "    print(x)  # 未检测到 Mutation，可以直接访问全局对象\n",
    "\n",
    "func()"
   ]
  },
  {
   "cell_type": "code",
   "execution_count": null,
   "id": "65aa9d12",
   "metadata": {},
   "outputs": [
    {
     "ename": "UnboundLocalError",
     "evalue": "cannot access local variable 'x' where it is not associated with a value",
     "output_type": "error",
     "traceback": [
      "\u001b[31m---------------------------------------------------------------------------\u001b[39m",
      "\u001b[31mUnboundLocalError\u001b[39m                         Traceback (most recent call last)",
      "\u001b[36mCell\u001b[39m\u001b[36m \u001b[39m\u001b[32mIn[10]\u001b[39m\u001b[32m, line 7\u001b[39m\n\u001b[32m      4\u001b[39m     \u001b[38;5;28mprint\u001b[39m(x)\n\u001b[32m      5\u001b[39m     x += \u001b[32m1\u001b[39m  \u001b[38;5;66;03m# 修改模式下：这里全局对象不可见，而局部对象未分配\u001b[39;00m\n\u001b[32m----> \u001b[39m\u001b[32m7\u001b[39m \u001b[43mfunc\u001b[49m\u001b[43m(\u001b[49m\u001b[43m)\u001b[49m\n",
      "\u001b[36mCell\u001b[39m\u001b[36m \u001b[39m\u001b[32mIn[10]\u001b[39m\u001b[32m, line 4\u001b[39m, in \u001b[36mfunc\u001b[39m\u001b[34m()\u001b[39m\n\u001b[32m      3\u001b[39m \u001b[38;5;28;01mdef\u001b[39;00m\u001b[38;5;250m \u001b[39m\u001b[34mfunc\u001b[39m():\n\u001b[32m----> \u001b[39m\u001b[32m4\u001b[39m     \u001b[38;5;28mprint\u001b[39m(\u001b[43mx\u001b[49m)\n\u001b[32m      5\u001b[39m     x += \u001b[32m1\u001b[39m\n",
      "\u001b[31mUnboundLocalError\u001b[39m: cannot access local variable 'x' where it is not associated with a value"
     ]
    }
   ],
   "source": [
    "x = 1\n",
    "\n",
    "def func():\n",
    "    print(x)  # 检测到后面的 Mutation：则全局对象不可见，而此时局部对象未分配\n",
    "    x += 1\n",
    "\n",
    "func()"
   ]
  },
  {
   "cell_type": "code",
   "execution_count": null,
   "id": "1a42ea8c",
   "metadata": {},
   "outputs": [
    {
     "name": "stdout",
     "output_type": "stream",
     "text": [
      "1\n"
     ]
    }
   ],
   "source": [
    "x = 1\n",
    "\n",
    "def func():\n",
    "    global x  # 显示声明全局对象，更新默认 Mutation 检查行为\n",
    "    print(x)\n",
    "    x += 1\n",
    "\n",
    "func()"
   ]
  },
  {
   "cell_type": "code",
   "execution_count": null,
   "id": "5c7d1167",
   "metadata": {},
   "outputs": [
    {
     "data": {
      "text/plain": [
       "[1, 2]"
      ]
     },
     "execution_count": 9,
     "metadata": {},
     "output_type": "execute_result"
    }
   ],
   "source": [
    "x = [1]\n",
    "\n",
    "def func():\n",
    "    x.append(2)  # 解释器不对函数调用做深层 Mutation 检测\n",
    "\n",
    "func()\n",
    "x"
   ]
  },
  {
   "cell_type": "code",
   "execution_count": null,
   "id": "fb9fd6f0",
   "metadata": {},
   "outputs": [
    {
     "ename": "UnboundLocalError",
     "evalue": "cannot access local variable 'x' where it is not associated with a value",
     "output_type": "error",
     "traceback": [
      "\u001b[31m---------------------------------------------------------------------------\u001b[39m",
      "\u001b[31mUnboundLocalError\u001b[39m                         Traceback (most recent call last)",
      "\u001b[36mCell\u001b[39m\u001b[36m \u001b[39m\u001b[32mIn[13]\u001b[39m\u001b[32m, line 6\u001b[39m\n\u001b[32m      3\u001b[39m \u001b[38;5;28;01mdef\u001b[39;00m\u001b[38;5;250m \u001b[39m\u001b[34mfunc\u001b[39m():\n\u001b[32m      4\u001b[39m     x += [\u001b[32m2\u001b[39m]\n\u001b[32m----> \u001b[39m\u001b[32m6\u001b[39m \u001b[43mfunc\u001b[49m\u001b[43m(\u001b[49m\u001b[43m)\u001b[49m\n",
      "\u001b[36mCell\u001b[39m\u001b[36m \u001b[39m\u001b[32mIn[13]\u001b[39m\u001b[32m, line 4\u001b[39m, in \u001b[36mfunc\u001b[39m\u001b[34m()\u001b[39m\n\u001b[32m      3\u001b[39m \u001b[38;5;28;01mdef\u001b[39;00m\u001b[38;5;250m \u001b[39m\u001b[34mfunc\u001b[39m():\n\u001b[32m----> \u001b[39m\u001b[32m4\u001b[39m     \u001b[43mx\u001b[49m += [\u001b[32m2\u001b[39m]\n",
      "\u001b[31mUnboundLocalError\u001b[39m: cannot access local variable 'x' where it is not associated with a value"
     ]
    }
   ],
   "source": [
    "x = [1]\n",
    "\n",
    "def func():\n",
    "    x += [2]  # 字面语法的情况下，解释器介入 Mutation 检测\n",
    "\n",
    "func()"
   ]
  },
  {
   "cell_type": "code",
   "execution_count": null,
   "id": "8f87e412",
   "metadata": {},
   "outputs": [
    {
     "name": "stdout",
     "output_type": "stream",
     "text": [
      "[1, 2]\n"
     ]
    }
   ],
   "source": [
    "x = [1]\n",
    "\n",
    "def func():\n",
    "    global x  # 同样显示声明全局对象，修改默认的 Mutation 检测行为\n",
    "    x += [2]\n",
    "\n",
    "func()\n",
    "print(x)"
   ]
  }
 ],
 "metadata": {
  "kernelspec": {
   "display_name": "ai.dev",
   "language": "python",
   "name": "python3"
  },
  "language_info": {
   "codemirror_mode": {
    "name": "ipython",
    "version": 3
   },
   "file_extension": ".py",
   "mimetype": "text/x-python",
   "name": "python",
   "nbconvert_exporter": "python",
   "pygments_lexer": "ipython3",
   "version": "3.12.10"
  }
 },
 "nbformat": 4,
 "nbformat_minor": 5
}
