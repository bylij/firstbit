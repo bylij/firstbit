{
 "cells": [
  {
   "cell_type": "code",
   "execution_count": 1,
   "id": "1fcff1f2",
   "metadata": {},
   "outputs": [
    {
     "data": {
      "text/plain": [
       "(140710304987576, 140710304987576)"
      ]
     },
     "execution_count": 1,
     "metadata": {},
     "output_type": "execute_result"
    }
   ],
   "source": [
    "a = 1\n",
    "b = a  # 这里是直接引用赋值，不创建新对象\n",
    "\n",
    "id(a), id(b)"
   ]
  },
  {
   "cell_type": "code",
   "execution_count": 2,
   "id": "92c07695",
   "metadata": {},
   "outputs": [
    {
     "data": {
      "text/plain": [
       "True"
      ]
     },
     "execution_count": 2,
     "metadata": {},
     "output_type": "execute_result"
    }
   ],
   "source": [
    "b is a"
   ]
  },
  {
   "cell_type": "code",
   "execution_count": null,
   "id": "ab14ccd2",
   "metadata": {},
   "outputs": [
    {
     "data": {
      "text/plain": [
       "2"
      ]
     },
     "execution_count": 3,
     "metadata": {},
     "output_type": "execute_result"
    }
   ],
   "source": [
    "a += 1  # 这里是新建对象并重新进行引用赋值，因此 a 指向了新对象\n",
    "a"
   ]
  },
  {
   "cell_type": "code",
   "execution_count": null,
   "id": "cfbe7c76",
   "metadata": {},
   "outputs": [
    {
     "data": {
      "text/plain": [
       "1"
      ]
     },
     "execution_count": 4,
     "metadata": {},
     "output_type": "execute_result"
    }
   ],
   "source": [
    "b  # 变量 b 引用的还是就对象"
   ]
  },
  {
   "cell_type": "code",
   "execution_count": null,
   "id": "bc1e6822",
   "metadata": {},
   "outputs": [
    {
     "data": {
      "text/plain": [
       "False"
      ]
     },
     "execution_count": 5,
     "metadata": {},
     "output_type": "execute_result"
    }
   ],
   "source": [
    "b is a  # 可以看到：a 和 b 已经指向不同的对象了"
   ]
  },
  {
   "cell_type": "code",
   "execution_count": 7,
   "id": "09815d7e",
   "metadata": {},
   "outputs": [
    {
     "data": {
      "text/plain": [
       "[1, 2, 3]"
      ]
     },
     "execution_count": 7,
     "metadata": {},
     "output_type": "execute_result"
    }
   ],
   "source": [
    "l1 = [1, 2, 3]\n",
    "l2 = l1  # 还是直接的引用赋值\n",
    "\n",
    "l2"
   ]
  },
  {
   "cell_type": "code",
   "execution_count": null,
   "id": "d5f07b50",
   "metadata": {},
   "outputs": [
    {
     "data": {
      "text/plain": [
       "True"
      ]
     },
     "execution_count": 8,
     "metadata": {},
     "output_type": "execute_result"
    }
   ],
   "source": [
    "l2 is l1  # l2 和 l1 的引用值相同"
   ]
  },
  {
   "cell_type": "code",
   "execution_count": null,
   "id": "5ade4ad3",
   "metadata": {},
   "outputs": [
    {
     "data": {
      "text/plain": [
       "[1, 2, 3, 4]"
      ]
     },
     "execution_count": 9,
     "metadata": {},
     "output_type": "execute_result"
    }
   ],
   "source": [
    "l1.append(4)  # 不会新建对象，在原对象上直接更新，l1 引用值不变\n",
    "l1"
   ]
  },
  {
   "cell_type": "code",
   "execution_count": null,
   "id": "04d6be1e",
   "metadata": {},
   "outputs": [
    {
     "data": {
      "text/plain": [
       "[1, 2, 3, 4]"
      ]
     },
     "execution_count": 10,
     "metadata": {},
     "output_type": "execute_result"
    }
   ],
   "source": [
    "l2  # l2 和 l1 指向同一个对象，因此内容同步更新"
   ]
  },
  {
   "cell_type": "code",
   "execution_count": null,
   "id": "5fe698b4",
   "metadata": {},
   "outputs": [
    {
     "data": {
      "text/plain": [
       "True"
      ]
     },
     "execution_count": 11,
     "metadata": {},
     "output_type": "execute_result"
    }
   ],
   "source": [
    "l2 is l1  # 引用值相同"
   ]
  },
  {
   "cell_type": "code",
   "execution_count": null,
   "id": "7f2a6f1b",
   "metadata": {},
   "outputs": [
    {
     "data": {
      "text/plain": [
       "[1, 2, 3, 4, 5]"
      ]
     },
     "execution_count": 12,
     "metadata": {},
     "output_type": "execute_result"
    }
   ],
   "source": [
    "l1 += [5]  # 字面量语法同样原地更新\n",
    "l1"
   ]
  },
  {
   "cell_type": "code",
   "execution_count": 13,
   "id": "bf1def53",
   "metadata": {},
   "outputs": [
    {
     "data": {
      "text/plain": [
       "[1, 2, 3, 4, 5]"
      ]
     },
     "execution_count": 13,
     "metadata": {},
     "output_type": "execute_result"
    }
   ],
   "source": [
    "l2"
   ]
  },
  {
   "cell_type": "code",
   "execution_count": 14,
   "id": "9d6f7934",
   "metadata": {},
   "outputs": [
    {
     "data": {
      "text/plain": [
       "True"
      ]
     },
     "execution_count": 14,
     "metadata": {},
     "output_type": "execute_result"
    }
   ],
   "source": [
    "l2 is l1"
   ]
  },
  {
   "cell_type": "code",
   "execution_count": null,
   "id": "ce5b6675",
   "metadata": {},
   "outputs": [
    {
     "ename": "NameError",
     "evalue": "name 'l1' is not defined",
     "output_type": "error",
     "traceback": [
      "\u001b[31m---------------------------------------------------------------------------\u001b[39m",
      "\u001b[31mNameError\u001b[39m                                 Traceback (most recent call last)",
      "\u001b[36mCell\u001b[39m\u001b[36m \u001b[39m\u001b[32mIn[15]\u001b[39m\u001b[32m, line 2\u001b[39m\n\u001b[32m      1\u001b[39m \u001b[38;5;28;01mdel\u001b[39;00m l1\n\u001b[32m----> \u001b[39m\u001b[32m2\u001b[39m \u001b[43ml1\u001b[49m\n",
      "\u001b[31mNameError\u001b[39m: name 'l1' is not defined"
     ]
    }
   ],
   "source": [
    "del l1  # 变量被删除\n",
    "l1"
   ]
  },
  {
   "cell_type": "code",
   "execution_count": null,
   "id": "8239df61",
   "metadata": {},
   "outputs": [
    {
     "data": {
      "text/plain": [
       "[1, 2, 3, 4, 5]"
      ]
     },
     "execution_count": 16,
     "metadata": {},
     "output_type": "execute_result"
    }
   ],
   "source": [
    "l2  # 引用的对象仍然可访问"
   ]
  },
  {
   "cell_type": "code",
   "execution_count": null,
   "id": "108c0ae0",
   "metadata": {},
   "outputs": [
    {
     "name": "stdout",
     "output_type": "stream",
     "text": [
      "140710304987576\n",
      "140710304987576\n"
     ]
    }
   ],
   "source": [
    "def func(b):  # 变量赋值传递，由于 python 的所有数据都是对象，因此本质上是对象引用传递\n",
    "    print(id(b))\n",
    "\n",
    "a = 1\n",
    "print(id(a))\n",
    "func(a)"
   ]
  },
  {
   "cell_type": "code",
   "execution_count": null,
   "id": "a2228bd4",
   "metadata": {},
   "outputs": [
    {
     "name": "stdout",
     "output_type": "stream",
     "text": [
      "140710304987576\n",
      "140710304987608\n"
     ]
    }
   ],
   "source": [
    "def func(b):\n",
    "    b = 2  # python 中整型、字符串等基础类型为不可变量，变更赋值会创建新对象，因此这里 b 的引用值变更了\n",
    "    print(id(b))\n",
    "\n",
    "a = 1\n",
    "print(id(a))\n",
    "func(a)"
   ]
  },
  {
   "cell_type": "code",
   "execution_count": null,
   "id": "c59daeb5",
   "metadata": {},
   "outputs": [
    {
     "data": {
      "text/plain": [
       "[1, 2, 3, 4]"
      ]
     },
     "execution_count": 21,
     "metadata": {},
     "output_type": "execute_result"
    }
   ],
   "source": [
    "def func(l2):\n",
    "    l2.append(4)  # 原地更新列表内容\n",
    "\n",
    "l1 = [1, 2, 3]\n",
    "func(l1)\n",
    "l1"
   ]
  },
  {
   "cell_type": "code",
   "execution_count": null,
   "id": "8c734766",
   "metadata": {},
   "outputs": [
    {
     "data": {
      "text/plain": [
       "[1, 2, 3, 4]"
      ]
     },
     "execution_count": 24,
     "metadata": {},
     "output_type": "execute_result"
    }
   ],
   "source": [
    "def func(l2):\n",
    "    l2 += [4]  # += 运算与 append 的结果一致，在原地直接更新列表内容，没有新创建对象\n",
    "\n",
    "l1 = [1, 2, 3]\n",
    "func(l1)\n",
    "l1"
   ]
  },
  {
   "cell_type": "code",
   "execution_count": null,
   "id": "7bce903a",
   "metadata": {},
   "outputs": [
    {
     "name": "stdout",
     "output_type": "stream",
     "text": [
      "1379625511104\n",
      "1379625764992\n"
     ]
    }
   ],
   "source": [
    "def func(l2):\n",
    "    print(id(l2))\n",
    "    l2 = l2 + [4]  # 这里的结果是新创建了对象并更改了对象引用而没有修改原对象，说明这里与 += 语义不同\n",
    "    print(id(l2))\n",
    "\n",
    "func(l2)"
   ]
  },
  {
   "cell_type": "code",
   "execution_count": null,
   "id": "b7a4e765",
   "metadata": {},
   "outputs": [
    {
     "data": {
      "text/plain": [
       "[1, 2, 3, 4]"
      ]
     },
     "execution_count": 27,
     "metadata": {},
     "output_type": "execute_result"
    }
   ],
   "source": [
    "def func(l2):\n",
    "    l2 = l2 + [4]\n",
    "    return l2\n",
    "\n",
    "l1 = [1, 2, 3]\n",
    "l1 = func(l1)  # 将函数返回的引用值对 l1 变量进行引用赋值更新\n",
    "l1"
   ]
  },
  {
   "cell_type": "code",
   "execution_count": 30,
   "id": "9ff9ffa0",
   "metadata": {},
   "outputs": [
    {
     "ename": "IndentationError",
     "evalue": "unindent does not match any outer indentation level (<string>, line 3)",
     "output_type": "error",
     "traceback": [
      "  \u001b[36mFile \u001b[39m\u001b[32m<string>:3\u001b[39m\n\u001b[31m    \u001b[39m\u001b[31md['b'] = 20\u001b[39m\n               ^\n\u001b[31mIndentationError\u001b[39m\u001b[31m:\u001b[39m unindent does not match any outer indentation level\n"
     ]
    }
   ],
   "source": [
    "def func(d):\n",
    "    d['a'] = 10\n",
    "  d['b'] = 20\n",
    "\n",
    "d = {'a': 1, 'b': 2}\n",
    "func(d)\n",
    "print(d)"
   ]
  }
 ],
 "metadata": {
  "kernelspec": {
   "display_name": "ai.dev",
   "language": "python",
   "name": "python3"
  },
  "language_info": {
   "codemirror_mode": {
    "name": "ipython",
    "version": 3
   },
   "file_extension": ".py",
   "mimetype": "text/x-python",
   "name": "python",
   "nbconvert_exporter": "python",
   "pygments_lexer": "ipython3",
   "version": "3.12.10"
  }
 },
 "nbformat": 4,
 "nbformat_minor": 5
}
