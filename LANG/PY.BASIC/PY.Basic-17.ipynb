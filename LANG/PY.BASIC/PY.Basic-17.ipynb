{
 "cells": [
  {
   "cell_type": "code",
   "execution_count": 1,
   "id": "548dd48f",
   "metadata": {},
   "outputs": [
    {
     "name": "stdout",
     "output_type": "stream",
     "text": [
      "Got a message: Hello, World!\n"
     ]
    }
   ],
   "source": [
    "def func(message):\n",
    "    print('Got a message: {}'.format(message))\n",
    "\n",
    "send_message = func  # 将函数对象赋值给变量\n",
    "send_message('Hello, World!')"
   ]
  },
  {
   "cell_type": "code",
   "execution_count": null,
   "id": "1ae53948",
   "metadata": {},
   "outputs": [
    {
     "name": "stdout",
     "output_type": "stream",
     "text": [
      "Got a message: Hello, World!\n"
     ]
    }
   ],
   "source": [
    "def get_message(message):\n",
    "    return 'Got a message: ' + message\n",
    "\n",
    "def root_call(func, message):  # 函数对象作为参数\n",
    "    print(func(message))\n",
    "\n",
    "root_call(get_message, 'Hello, World!')"
   ]
  },
  {
   "cell_type": "code",
   "execution_count": null,
   "id": "c1cc17b6",
   "metadata": {},
   "outputs": [
    {
     "name": "stdout",
     "output_type": "stream",
     "text": [
      "3\n"
     ]
    }
   ],
   "source": [
    "def binary_sum(a, b):  # 内部函数\n",
    "    return a + b\n",
    "\n",
    "def sum(func, a, b):  # 包装函数\n",
    "    return func(a, b)\n",
    "\n",
    "print(sum(binary_sum, 1, 2))"
   ]
  },
  {
   "cell_type": "code",
   "execution_count": null,
   "id": "5236fb9b",
   "metadata": {},
   "outputs": [
    {
     "name": "stdout",
     "output_type": "stream",
     "text": [
      "Got a message: Hello, World!\n"
     ]
    }
   ],
   "source": [
    "def func(message):\n",
    "    def get_message(message):  # 函数嵌套定义\n",
    "        print('Got a message: {}'.format(message))\n",
    "    return get_message(message)\n",
    "\n",
    "func('Hello, World!')"
   ]
  },
  {
   "cell_type": "code",
   "execution_count": 5,
   "id": "de8be3b1",
   "metadata": {},
   "outputs": [
    {
     "name": "stdout",
     "output_type": "stream",
     "text": [
      "Got a message: Hello, World!\n"
     ]
    }
   ],
   "source": [
    "def func_closure():\n",
    "    def get_message(message):\n",
    "        print('Got a message: {}'.format(message))\n",
    "    return get_message  # 函数闭包\n",
    "\n",
    "send_message = func_closure()\n",
    "send_message('Hello, World!')"
   ]
  },
  {
   "cell_type": "code",
   "execution_count": null,
   "id": "8952eec7",
   "metadata": {},
   "outputs": [
    {
     "name": "stdout",
     "output_type": "stream",
     "text": [
      "wrapper of decorator\n",
      "Hello, World!\n"
     ]
    }
   ],
   "source": [
    "def decorator(func):\n",
    "    def wrapper():\n",
    "        print('wrapper of decorator')\n",
    "        func()  # 闭包函数可以访问外部函数的参数和变量\n",
    "    return wrapper  # 这里是函数闭包\n",
    "\n",
    "def greeting():\n",
    "    print('Hello, World!')\n",
    "\n",
    "greet = decorator(greeting)  # 这里 greet 指向内部函数 wrapper, wrapper 对 greeting 函数进行包装\n",
    "greet()"
   ]
  },
  {
   "cell_type": "code",
   "execution_count": 14,
   "id": "fbd452e1",
   "metadata": {},
   "outputs": [
    {
     "name": "stdout",
     "output_type": "stream",
     "text": [
      "wrapper start\n",
      "Hello, World!\n",
      "wrapper end\n"
     ]
    }
   ],
   "source": [
    "def decorator(func):\n",
    "    def wrapper():\n",
    "        print('wrapper start')\n",
    "        func()\n",
    "        print('wrapper end')\n",
    "    return wrapper  # 返回内部函数作为闭包\n",
    "\n",
    "@decorator  # 这里相当于 greeting = decorator(greeting)\n",
    "def greeting():\n",
    "    print('Hello, World!')\n",
    "\n",
    "greeting()"
   ]
  },
  {
   "cell_type": "code",
   "execution_count": 17,
   "id": "8174c7aa",
   "metadata": {},
   "outputs": [
    {
     "name": "stdout",
     "output_type": "stream",
     "text": [
      "wrapper start\n",
      "Hello, World!\n",
      "wrapper end\n"
     ]
    }
   ],
   "source": [
    "def decorator(func):\n",
    "    def wrapper(message):\n",
    "        print('wrapper start')\n",
    "        func(message)\n",
    "        print('wrapper end')\n",
    "    return wrapper\n",
    "\n",
    "@decorator  # 相当于 greeting = decorator(greeting) 使得 greeting 指向内部函数 wrapper\n",
    "def greeting(message):\n",
    "    print(message)\n",
    "\n",
    "greeting('Hello, World!')"
   ]
  },
  {
   "cell_type": "code",
   "execution_count": 24,
   "id": "bf8b8746",
   "metadata": {},
   "outputs": [
    {
     "name": "stdout",
     "output_type": "stream",
     "text": [
      "wrapper start\n",
      "Hello, World!\n",
      "wrapper end\n",
      "wrapper start\n",
      "Jim: Hello, World!\n",
      "wrapper end\n"
     ]
    }
   ],
   "source": [
    "def decorator(func):\n",
    "    def wrapper(*args, **kwargs):  # 支持任意参数个数\n",
    "        print('wrapper start')\n",
    "        func(*args, **kwargs)\n",
    "        print('wrapper end')\n",
    "    return wrapper\n",
    "\n",
    "@decorator\n",
    "def greeting(message):\n",
    "    print(message)\n",
    "\n",
    "@decorator\n",
    "def celebrate(name, message):\n",
    "    print('{}: {}'.format(name, message))\n",
    "\n",
    "greeting('Hello, World!')\n",
    "celebrate('Jim', 'Hello, World!')"
   ]
  },
  {
   "cell_type": "code",
   "execution_count": 28,
   "id": "58173822",
   "metadata": {},
   "outputs": [
    {
     "name": "stdout",
     "output_type": "stream",
     "text": [
      "wrapper of decorator\n",
      "Hello, World!\n",
      "wrapper of decorator\n",
      "Hello, World!\n",
      "wrapper of decorator\n",
      "Hello, World!\n",
      "wrapper of decorator\n",
      "Hello, World!\n",
      "wrapper of decorator\n",
      "Hello, World!\n"
     ]
    }
   ],
   "source": [
    "def repeat(num):\n",
    "    def decorator(func):\n",
    "        def wrapper(*args, **kwargs):\n",
    "            for i in range(num):\n",
    "                print('wrapper of decorator')\n",
    "                func(*args, **kwargs)\n",
    "        return wrapper  # 返回第二层内部函数\n",
    "    return decorator  # 返回第一层内部函数\n",
    "\n",
    "@repeat(5)\n",
    "def greeting(message):\n",
    "    print(message)\n",
    "\n",
    "greeting('Hello, World!')"
   ]
  },
  {
   "cell_type": "code",
   "execution_count": null,
   "id": "576ae04b",
   "metadata": {},
   "outputs": [
    {
     "data": {
      "text/plain": [
       "'wrapper'"
      ]
     },
     "execution_count": 29,
     "metadata": {},
     "output_type": "execute_result"
    }
   ],
   "source": [
    "greeting.__name__  # 函数元信息已经改变，greeting 指向 wrapper 函数"
   ]
  },
  {
   "cell_type": "code",
   "execution_count": 30,
   "id": "86945101",
   "metadata": {},
   "outputs": [
    {
     "name": "stdout",
     "output_type": "stream",
     "text": [
      "Help on function wrapper in module __main__:\n",
      "\n",
      "wrapper(*args, **kwargs)\n",
      "\n"
     ]
    }
   ],
   "source": [
    "help(greeting)"
   ]
  },
  {
   "cell_type": "code",
   "execution_count": 34,
   "id": "3bb68b37",
   "metadata": {},
   "outputs": [
    {
     "name": "stdout",
     "output_type": "stream",
     "text": [
      "wrapper of decorator\n",
      "Hello, World!\n"
     ]
    }
   ],
   "source": [
    "import functools\n",
    "\n",
    "def decorator(func):\n",
    "    @functools.wraps(func)  # 修正装饰器对被修饰函数元信息的更改的问题\n",
    "    def wrapper(*args, **kwargs):\n",
    "        print('wrapper of decorator')\n",
    "        func(*args, **kwargs)\n",
    "    return wrapper\n",
    "\n",
    "@decorator\n",
    "def greet(message):\n",
    "    print(message)\n",
    "\n",
    "greet('Hello, World!')"
   ]
  },
  {
   "cell_type": "code",
   "execution_count": 35,
   "id": "cc5d6007",
   "metadata": {},
   "outputs": [
    {
     "data": {
      "text/plain": [
       "'greet'"
      ]
     },
     "execution_count": 35,
     "metadata": {},
     "output_type": "execute_result"
    }
   ],
   "source": [
    "greet.__name__"
   ]
  },
  {
   "cell_type": "code",
   "execution_count": 37,
   "id": "a28ec47f",
   "metadata": {},
   "outputs": [
    {
     "name": "stdout",
     "output_type": "stream",
     "text": [
      "num of calls is: 1\n",
      "Hello, World!\n"
     ]
    }
   ],
   "source": [
    "class Count:\n",
    "    def __init__(self, func):\n",
    "        self.func = func\n",
    "        self.num_calls = 0\n",
    "    \n",
    "    def __call__(self, *args, **kwargs):\n",
    "        self.num_calls += 1\n",
    "        print('num of calls is: {}'.format(self.num_calls))\n",
    "        return self.func(*args, **kwargs)\n",
    "\n",
    "@Count\n",
    "def example():\n",
    "    print('Hello, World!')\n",
    "\n",
    "example()"
   ]
  },
  {
   "cell_type": "code",
   "execution_count": 38,
   "id": "3b7bc653",
   "metadata": {},
   "outputs": [
    {
     "name": "stdout",
     "output_type": "stream",
     "text": [
      "num of calls is: 2\n",
      "Hello, World!\n"
     ]
    }
   ],
   "source": [
    "example()"
   ]
  },
  {
   "cell_type": "code",
   "execution_count": null,
   "id": "29fbb8f9",
   "metadata": {},
   "outputs": [],
   "source": [
    "@decorator1\n",
    "@decorator2\n",
    "@decorator3\n",
    "def func():\n",
    "    ..."
   ]
  },
  {
   "cell_type": "code",
   "execution_count": 42,
   "id": "f0650d13",
   "metadata": {},
   "outputs": [
    {
     "name": "stdout",
     "output_type": "stream",
     "text": [
      "execute decorator1\n",
      "execute decorator2\n",
      "Hello, World!\n"
     ]
    }
   ],
   "source": [
    "import functools\n",
    "\n",
    "def decorator1(func):\n",
    "    @functools.wraps(func)\n",
    "    def wrapper(*args, **kwargs):\n",
    "        print('execute decorator1')\n",
    "        func(*args, **kwargs)\n",
    "    return wrapper\n",
    "\n",
    "def decorator2(func):\n",
    "    @functools.wraps(func)\n",
    "    def wrapper(*args, **kwargs):\n",
    "        print('execute decorator2')\n",
    "        func(*args, **kwargs)\n",
    "    return wrapper\n",
    "\n",
    "@decorator1\n",
    "@decorator2\n",
    "def greet(message):\n",
    "    print(message)\n",
    "\n",
    "greet('Hello, World!')"
   ]
  },
  {
   "cell_type": "code",
   "execution_count": null,
   "id": "6063a597",
   "metadata": {},
   "outputs": [],
   "source": [
    "import functools\n",
    "\n",
    "def authenticate(func):  # 认证装饰器：进行操作前先进行登录认证\n",
    "    @functools.wraps(func)\n",
    "    def wrapper(*args, **kwargs):\n",
    "        request = args[0]\n",
    "        if check_user_logged_in(request):\n",
    "            return func(*args, **kwargs)\n",
    "        else:\n",
    "            raise Exception('Authentication failure')\n",
    "        func(*args, **kwargs)\n",
    "    return wrapper\n",
    "\n",
    "@authenticate\n",
    "def post_comment(request, ...):\n",
    "    ..."
   ]
  },
  {
   "cell_type": "code",
   "execution_count": null,
   "id": "9db81937",
   "metadata": {},
   "outputs": [
    {
     "name": "stdout",
     "output_type": "stream",
     "text": [
      "calculating ...\n",
      "calculate_similarity took 0.12619979679584503 ms to execute\n"
     ]
    }
   ],
   "source": [
    "import functools\n",
    "import time\n",
    "\n",
    "def log_execution_time(func):  # 用于日志记录的装饰器\n",
    "    @functools.wraps(func)\n",
    "    def wrapper(*args, **kwargs):\n",
    "        time_start = time.perf_counter()\n",
    "        res = func(*args, **kwargs)\n",
    "        time_end = time.perf_counter()\n",
    "        print('{} took {} ms to execute'.format(func.__name__, (time_end - time_start) * 1000))\n",
    "        return res\n",
    "    return wrapper\n",
    "\n",
    "@log_execution_time\n",
    "def calculate_similarity(items):\n",
    "    print('calculating ...')\n",
    "\n",
    "calculate_similarity(None)"
   ]
  },
  {
   "cell_type": "code",
   "execution_count": null,
   "id": "c42bb21c",
   "metadata": {},
   "outputs": [],
   "source": [
    "import functools\n",
    "\n",
    "def validation_check(func):  # 参数检查装饰器\n",
    "    @functools.wraps(func)\n",
    "    def wrapper(*args, **kwargs):\n",
    "        ... # 检查参数合理性\n",
    "    return wrapper\n",
    "\n",
    "@validation_check\n",
    "def neural_network_traning(param1, param2, ...):\n",
    "    ..."
   ]
  },
  {
   "cell_type": "code",
   "execution_count": null,
   "id": "1fa8bf88",
   "metadata": {},
   "outputs": [],
   "source": [
    "@lru_cache\n",
    "def check(param1, param2, ...):  # 缓存参数检查结果，可以大大减少反复调用带来的开销\n",
    "    ..."
   ]
  },
  {
   "cell_type": "code",
   "execution_count": 75,
   "id": "43fbda16",
   "metadata": {},
   "outputs": [
    {
     "ename": "ValueError",
     "evalue": "not integers",
     "output_type": "error",
     "traceback": [
      "\u001b[31m---------------------------------------------------------------------------\u001b[39m",
      "\u001b[31mValueError\u001b[39m                                Traceback (most recent call last)",
      "\u001b[36mCell\u001b[39m\u001b[36m \u001b[39m\u001b[32mIn[75]\u001b[39m\u001b[32m, line 16\u001b[39m\n\u001b[32m     12\u001b[39m \u001b[38;5;129m@int_check\u001b[39m\n\u001b[32m     13\u001b[39m \u001b[38;5;28;01mdef\u001b[39;00m\u001b[38;5;250m \u001b[39m\u001b[34msum\u001b[39m(a, b):\n\u001b[32m     14\u001b[39m     \u001b[38;5;28;01mreturn\u001b[39;00m a + b\n\u001b[32m---> \u001b[39m\u001b[32m16\u001b[39m \u001b[38;5;28;43msum\u001b[39;49m\u001b[43m(\u001b[49m\u001b[33;43m'\u001b[39;49m\u001b[33;43ma\u001b[39;49m\u001b[33;43m'\u001b[39;49m\u001b[43m,\u001b[49m\u001b[43m \u001b[49m\u001b[32;43m2\u001b[39;49m\u001b[43m)\u001b[49m\n",
      "\u001b[36mCell\u001b[39m\u001b[36m \u001b[39m\u001b[32mIn[75]\u001b[39m\u001b[32m, line 9\u001b[39m, in \u001b[36mint_check.<locals>.wrapper\u001b[39m\u001b[34m(*args, **kwargs)\u001b[39m\n\u001b[32m      7\u001b[39m     \u001b[38;5;28;01mreturn\u001b[39;00m func(*args, **kwargs)\n\u001b[32m      8\u001b[39m \u001b[38;5;28;01melse\u001b[39;00m:\n\u001b[32m----> \u001b[39m\u001b[32m9\u001b[39m     \u001b[38;5;28;01mraise\u001b[39;00m \u001b[38;5;167;01mValueError\u001b[39;00m(\u001b[33m'\u001b[39m\u001b[33mnot integers\u001b[39m\u001b[33m'\u001b[39m)\n",
      "\u001b[31mValueError\u001b[39m: not integers"
     ]
    }
   ],
   "source": [
    "import functools\n",
    "\n",
    "def int_check(func):\n",
    "    @functools.wraps(func)\n",
    "    def wrapper(*args, **kwargs):\n",
    "        if isinstance(args[0], int) and isinstance(args[1], int):\n",
    "            return func(*args, **kwargs)\n",
    "        else:\n",
    "            raise ValueError('not integers')\n",
    "    return wrapper\n",
    "\n",
    "@int_check\n",
    "def sum(a, b):\n",
    "    return a + b\n",
    "\n",
    "sum('a', 2)"
   ]
  }
 ],
 "metadata": {
  "kernelspec": {
   "display_name": "ai.dev",
   "language": "python",
   "name": "python3"
  },
  "language_info": {
   "codemirror_mode": {
    "name": "ipython",
    "version": 3
   },
   "file_extension": ".py",
   "mimetype": "text/x-python",
   "name": "python",
   "nbconvert_exporter": "python",
   "pygments_lexer": "ipython3",
   "version": "3.12.10"
  }
 },
 "nbformat": 4,
 "nbformat_minor": 5
}
