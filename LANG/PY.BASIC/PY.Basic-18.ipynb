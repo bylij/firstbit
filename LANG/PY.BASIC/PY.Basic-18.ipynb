{
 "cells": [
  {
   "cell_type": "code",
   "execution_count": 1,
   "id": "55338ef2",
   "metadata": {},
   "outputs": [],
   "source": [
    "import yaml\n",
    "\n",
    "class Monster(yaml.YAMLObject):\n",
    "    yaml_tag = u'!Monster'\n",
    "    \n",
    "    def __init__(self, name, hp, ac, attacks):\n",
    "        self.name = name\n",
    "        self.hp = hp\n",
    "        self.ac = ac\n",
    "        self.attacks = attacks\n",
    "    \n",
    "    def __repr__(self):\n",
    "        return '{}(name={!r}, hp={!r}, ac={!r}, attacks={!r})'.format(\n",
    "            self.__class__.__name__, self.name, self.hp, self.ac, self.attacks)"
   ]
  },
  {
   "cell_type": "code",
   "execution_count": 8,
   "id": "80526daa",
   "metadata": {},
   "outputs": [
    {
     "data": {
      "text/plain": [
       "{'name': 'Cave spider',\n",
       " 'hp': ['2', '6'],\n",
       " 'ac': '16',\n",
       " 'attacks': ['BITE', 'HURT']}"
      ]
     },
     "execution_count": 8,
     "metadata": {},
     "output_type": "execute_result"
    }
   ],
   "source": [
    "yaml.load('''\n",
    "--- !Monster\n",
    "name: Cave spider\n",
    "hp: [2, 6]  # 2d6\n",
    "ac: 16\n",
    "attacks: [BITE, HURT]\n",
    "''', yaml.BaseLoader)"
   ]
  },
  {
   "cell_type": "code",
   "execution_count": 12,
   "id": "f374596b",
   "metadata": {},
   "outputs": [
    {
     "name": "stdout",
     "output_type": "stream",
     "text": [
      "!Monster\n",
      "ac: 16\n",
      "attacks:\n",
      "- BITE\n",
      "- HURT\n",
      "hp:\n",
      "- 3\n",
      "- 6\n",
      "name: Cave lizard\n",
      "\n"
     ]
    }
   ],
   "source": [
    "print(yaml.dump(Monster(name='Cave lizard', hp=[3, 6], ac=16, attacks=['BITE', 'HURT'])))"
   ]
  },
  {
   "cell_type": "code",
   "execution_count": null,
   "id": "50e3a325",
   "metadata": {},
   "outputs": [],
   "source": [
    "registry = {}\n",
    "\n",
    "def add_constructor(target_class):\n",
    "    registry[target_class.yaml_tag] = target_class"
   ]
  },
  {
   "cell_type": "code",
   "execution_count": null,
   "id": "3066d664",
   "metadata": {},
   "outputs": [],
   "source": [
    "# add_constructor(Monster)  # 手动注册"
   ]
  },
  {
   "cell_type": "code",
   "execution_count": null,
   "id": "bc00f5ad",
   "metadata": {},
   "outputs": [],
   "source": [
    "class YAMLObjectMetaclass(type):\n",
    "    def __init__(cls, name, bases, kwds):\n",
    "        super(YAMLObjectMetaclass, cls).__init__(name, bases, kwds)\n",
    "        if 'yaml_tag' in kwds and kwds['yaml_tag'] is not None:\n",
    "            cls.yaml_loader.add_constructor(cls.yaml_tag, cls.from_yaml)\n",
    "\n",
    "class YAMLObject(metaclass=YAMLObjectMetaclass):\n",
    "    yaml_loader = Loader"
   ]
  },
  {
   "cell_type": "code",
   "execution_count": 20,
   "id": "32231b35",
   "metadata": {},
   "outputs": [
    {
     "data": {
      "text/plain": [
       "object"
      ]
     },
     "execution_count": 20,
     "metadata": {},
     "output_type": "execute_result"
    }
   ],
   "source": [
    "class MyClass:\n",
    "    pass\n",
    "\n",
    "MyClass.__base__"
   ]
  },
  {
   "cell_type": "code",
   "execution_count": null,
   "id": "16d8a444",
   "metadata": {},
   "outputs": [
    {
     "data": {
      "text/plain": [
       "type"
      ]
     },
     "execution_count": 21,
     "metadata": {},
     "output_type": "execute_result"
    }
   ],
   "source": [
    "type(MyClass)  # MyClass 是 type 的实例"
   ]
  },
  {
   "cell_type": "code",
   "execution_count": 24,
   "id": "2a9a4a4f",
   "metadata": {},
   "outputs": [
    {
     "data": {
      "text/plain": [
       "type"
      ]
     },
     "execution_count": 24,
     "metadata": {},
     "output_type": "execute_result"
    }
   ],
   "source": [
    "type(object)  # object 是 type 的实例"
   ]
  },
  {
   "cell_type": "code",
   "execution_count": null,
   "id": "fe82b9fe",
   "metadata": {},
   "outputs": [
    {
     "data": {
      "text/plain": [
       "__main__.MyClass"
      ]
     },
     "execution_count": 22,
     "metadata": {},
     "output_type": "execute_result"
    }
   ],
   "source": [
    "type(MyClass())  # MyClass() 是 MyClass 的实例"
   ]
  },
  {
   "cell_type": "code",
   "execution_count": null,
   "id": "755b6414",
   "metadata": {},
   "outputs": [],
   "source": [
    "class MyClass:\n",
    "    data = 1\n",
    "\n",
    "# 本质是一系列 type 的方法调用：\n",
    "class = type(classname, superclasses, attributedict)\n",
    "type.__new__(typeclass, classname, superclasses, attributedict)\n",
    "type.__init__(class, classname, superclasses, attributedict)"
   ]
  },
  {
   "cell_type": "code",
   "execution_count": 25,
   "id": "e89df335",
   "metadata": {},
   "outputs": [
    {
     "data": {
      "text/plain": [
       "(__main__.MyClass, <__main__.MyClass at 0x1706881a990>)"
      ]
     },
     "execution_count": 25,
     "metadata": {},
     "output_type": "execute_result"
    }
   ],
   "source": [
    "class MyClass:\n",
    "    data = 1\n",
    "\n",
    "inst = MyClass()\n",
    "MyClass, inst"
   ]
  },
  {
   "cell_type": "code",
   "execution_count": 26,
   "id": "c100ad97",
   "metadata": {},
   "outputs": [
    {
     "data": {
      "text/plain": [
       "1"
      ]
     },
     "execution_count": 26,
     "metadata": {},
     "output_type": "execute_result"
    }
   ],
   "source": [
    "inst.data"
   ]
  },
  {
   "cell_type": "code",
   "execution_count": null,
   "id": "88ea16d9",
   "metadata": {},
   "outputs": [
    {
     "data": {
      "text/plain": [
       "(__main__.MyClass, <__main__.MyClass at 0x17067dff830>, 1)"
      ]
     },
     "execution_count": 28,
     "metadata": {},
     "output_type": "execute_result"
    }
   ],
   "source": [
    "MyClass = type('MyClass', (), {'data': 1})  # 这里与 class 声明的效果一致\n",
    "\n",
    "inst = MyClass()\n",
    "MyClass, inst, inst.data"
   ]
  },
  {
   "cell_type": "code",
   "execution_count": 34,
   "id": "4c71cb5a",
   "metadata": {},
   "outputs": [
    {
     "data": {
      "text/plain": [
       "(__main__.MyClass, <__main__.MyClass at 0x17068923470>, 1)"
      ]
     },
     "execution_count": 34,
     "metadata": {},
     "output_type": "execute_result"
    }
   ],
   "source": [
    "# class = type(classname, superclasses, attributedict)\n",
    "\n",
    "# 通过设置 metaclass 可以变为由对应 metaclass 来替换 type，metaclass 为 type 子类\n",
    "class MyMeta(type):\n",
    "    pass\n",
    "\n",
    "# class MyClass(metaclass=MyMeta):\n",
    "#    data = 1\n",
    "\n",
    "# 这里相当于采用 MyMeta 替换默认的 type 来定义 MyClass 类型\n",
    "MyClass = MyMeta('MyClass', (), {'data': 1})\n",
    "\n",
    "inst = MyClass()\n",
    "MyClass, inst, inst.data"
   ]
  }
 ],
 "metadata": {
  "kernelspec": {
   "display_name": "ai.dev",
   "language": "python",
   "name": "python3"
  },
  "language_info": {
   "codemirror_mode": {
    "name": "ipython",
    "version": 3
   },
   "file_extension": ".py",
   "mimetype": "text/x-python",
   "name": "python",
   "nbconvert_exporter": "python",
   "pygments_lexer": "ipython3",
   "version": "3.12.10"
  }
 },
 "nbformat": 4,
 "nbformat_minor": 5
}
