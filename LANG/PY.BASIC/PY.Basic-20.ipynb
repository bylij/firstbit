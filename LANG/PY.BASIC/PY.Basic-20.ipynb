{
 "cells": [
  {
   "cell_type": "code",
   "execution_count": null,
   "id": "57a0a51a",
   "metadata": {},
   "outputs": [],
   "source": [
    "import time\n",
    "\n",
    "def crawl_page(url):\n",
    "    print('crawling {}'.format(url))\n",
    "    sleep_time = int(url.split('_')[-1])\n",
    "    time.sleep(sleep_time)\n",
    "    print('OK {}'.format(url))\n",
    "\n",
    "def main(urls):\n",
    "    for url in urls:\n",
    "        crawl_page(url)\n",
    "\n",
    "%time main(['url_1', 'url_2', 'url_3', 'url_4'])"
   ]
  },
  {
   "cell_type": "code",
   "execution_count": null,
   "id": "4ddfa949",
   "metadata": {},
   "outputs": [
    {
     "name": "stdout",
     "output_type": "stream",
     "text": [
      "crawling url_1\n",
      "OK url_1\n",
      "crawling url_2\n",
      "OK url_2\n",
      "crawling url_3\n",
      "OK url_3\n",
      "crawling url_4\n",
      "OK url_4\n",
      "CPU times: total: 0 ns\n",
      "Wall time: 10 s\n"
     ]
    }
   ],
   "source": [
    "import asyncio\n",
    "import nest_asyncio\n",
    "\n",
    "nest_asyncio.apply()\n",
    "\n",
    "async def crawl_page(url):\n",
    "    print('crawling {}'.format(url))\n",
    "    sleep_time = int(url.split('_')[-1])\n",
    "    await asyncio.sleep(sleep_time)\n",
    "    print('OK {}'.format(url))\n",
    "\n",
    "async def main(urls):\n",
    "    for url in urls:\n",
    "        await crawl_page(url)  # 仍然是同步执行\n",
    "\n",
    "%time asyncio.run(main(['url_1', 'url_2', 'url_3', 'url_4']))"
   ]
  },
  {
   "cell_type": "code",
   "execution_count": 7,
   "id": "80cb5b5c",
   "metadata": {},
   "outputs": [
    {
     "name": "stdout",
     "output_type": "stream",
     "text": [
      "<function crawl_page at 0x00000240C259C0E0>\n",
      "<function main at 0x00000240C259CA40>\n"
     ]
    }
   ],
   "source": [
    "print(crawl_page)\n",
    "print(main)"
   ]
  },
  {
   "cell_type": "code",
   "execution_count": 14,
   "id": "997e4fa1",
   "metadata": {},
   "outputs": [
    {
     "name": "stdout",
     "output_type": "stream",
     "text": [
      "crawling url_1\n",
      "crawling url_2\n",
      "crawling url_3\n",
      "crawling url_4\n",
      "OK url_1\n",
      "OK url_2\n",
      "OK url_3\n",
      "OK url_4\n",
      "CPU times: total: 15.6 ms\n",
      "Wall time: 4.02 s\n"
     ]
    }
   ],
   "source": [
    "import asyncio\n",
    "\n",
    "async def crawl_page(url):\n",
    "    print('crawling {}'.format(url))\n",
    "    sleep_time = int(url.split('_')[-1])\n",
    "    await asyncio.sleep(sleep_time)\n",
    "    print('OK {}'.format(url))\n",
    "\n",
    "async def main(urls):\n",
    "    tasks = [asyncio.create_task(crawl_page(url)) for url in urls]  # 通过任务实现异步并发，这里已经开始执行\n",
    "    for task in tasks:\n",
    "       await task  # 这里是为了等待任务结束\n",
    "\n",
    "%time asyncio.run(main(['url_1', 'url_2', 'url_3', 'url_4']))"
   ]
  },
  {
   "cell_type": "code",
   "execution_count": 17,
   "id": "4fdd729b",
   "metadata": {},
   "outputs": [
    {
     "name": "stdout",
     "output_type": "stream",
     "text": [
      "crawling url_1\n",
      "crawling url_2\n",
      "crawling url_3\n",
      "crawling url_4\n",
      "OK url_1\n",
      "OK url_2\n",
      "OK url_3\n",
      "OK url_4\n",
      "CPU times: total: 0 ns\n",
      "Wall time: 4.01 s\n"
     ]
    }
   ],
   "source": [
    "import asyncio\n",
    "\n",
    "async def crawl_page(url):\n",
    "    print('crawling {}'.format(url))\n",
    "    sleep_time = int(url.split('_')[-1])\n",
    "    await asyncio.sleep(sleep_time)\n",
    "    print('OK {}'.format(url))\n",
    "\n",
    "async def main(urls):\n",
    "    tasks = [asyncio.create_task(crawl_page(url)) for url in urls]\n",
    "    await asyncio.gather(*tasks)  # 等待所有任务结束，*tasks 解包列表\n",
    "\n",
    "%time asyncio.run(main(['url_1', 'url_2', 'url_3', 'url_4']))"
   ]
  },
  {
   "cell_type": "code",
   "execution_count": 28,
   "id": "5c6d54bf",
   "metadata": {},
   "outputs": [
    {
     "name": "stdout",
     "output_type": "stream",
     "text": [
      "work1 start\n",
      "work1 done\n",
      "awaited worker1\n",
      "work2 start\n",
      "work2 done\n",
      "awaited worker2\n",
      "CPU times: total: 0 ns\n",
      "Wall time: 3.01 s\n"
     ]
    }
   ],
   "source": [
    "import asyncio\n",
    "\n",
    "async def worker1():\n",
    "    print('work1 start')\n",
    "    await asyncio.sleep(1)\n",
    "    print('work1 done')\n",
    "\n",
    "async def worker2():\n",
    "    print('work2 start')\n",
    "    await asyncio.sleep(2)\n",
    "    print('work2 done')\n",
    "\n",
    "async def main():\n",
    "    await worker1()\n",
    "    print('awaited worker1')\n",
    "    await worker2()\n",
    "    print('awaited worker2')\n",
    "\n",
    "%time asyncio.run(main())"
   ]
  },
  {
   "cell_type": "code",
   "execution_count": 30,
   "id": "acf83054",
   "metadata": {},
   "outputs": [
    {
     "name": "stdout",
     "output_type": "stream",
     "text": [
      "before awaited\n",
      "work1 start\n",
      "work2 start\n",
      "work1 done\n",
      "awaited task1\n",
      "work2 done\n",
      "awaited task2\n",
      "CPU times: total: 0 ns\n",
      "Wall time: 2.01 s\n"
     ]
    }
   ],
   "source": [
    "import asyncio\n",
    "\n",
    "async def worker1():\n",
    "    print('work1 start')\n",
    "    await asyncio.sleep(1)\n",
    "    print('work1 done')\n",
    "\n",
    "async def worker2():\n",
    "    print('work2 start')\n",
    "    await asyncio.sleep(2)\n",
    "    print('work2 done')\n",
    "\n",
    "async def main():\n",
    "    task1 = asyncio.create_task(worker1())\n",
    "    task2 = asyncio.create_task(worker2())\n",
    "    print('before awaited')\n",
    "    # await asyncio.gather(task1, task2)\n",
    "    # print('awaited tasks')\n",
    "    await task1\n",
    "    print('awaited task1')\n",
    "    await task2\n",
    "    print('awaited task2')\n",
    "\n",
    "%time asyncio.run(main())"
   ]
  },
  {
   "cell_type": "code",
   "execution_count": 35,
   "id": "5ed92ecd",
   "metadata": {},
   "outputs": [
    {
     "name": "stdout",
     "output_type": "stream",
     "text": [
      "[1, ZeroDivisionError('division by zero'), CancelledError('')]\n",
      "CPU times: total: 0 ns\n",
      "Wall time: 2.01 s\n"
     ]
    }
   ],
   "source": [
    "import asyncio\n",
    "\n",
    "async def worker1():\n",
    "    await asyncio.sleep(1)\n",
    "    return 1\n",
    "\n",
    "async def worker2():\n",
    "    await asyncio.sleep(2)\n",
    "    return 2 / 0\n",
    "\n",
    "async def worker3():\n",
    "    await asyncio.sleep(3)\n",
    "    return 3\n",
    "\n",
    "async def main():\n",
    "    task1 = asyncio.create_task(worker1())\n",
    "    task2 = asyncio.create_task(worker2())\n",
    "    task3 = asyncio.create_task(worker3())\n",
    "\n",
    "    await asyncio.sleep(2)\n",
    "    task3.cancel()\n",
    "\n",
    "    res = await asyncio.gather(task1, task2, task3, return_exceptions=True)\n",
    "    print(res)\n",
    "\n",
    "%time asyncio.run(main())"
   ]
  },
  {
   "cell_type": "code",
   "execution_count": 12,
   "id": "a8f41333",
   "metadata": {},
   "outputs": [
    {
     "name": "stdout",
     "output_type": "stream",
     "text": [
      "producer1 put a val: 2\n",
      "producer2 put a val: 7\n",
      "consumer1 get a val: 2\n",
      "consumer2 get a val: 7\n",
      "producer1 put a val: 5\n",
      "producer2 put a val: 10\n",
      "consumer2 get a val: 5\n",
      "consumer1 get a val: 10\n",
      "producer1 put a val: 1\n",
      "producer2 put a val: 7\n",
      "consumer1 get a val: 1\n",
      "consumer2 get a val: 7\n",
      "producer1 put a val: 7\n",
      "producer2 put a val: 10\n",
      "consumer2 get a val: 7\n",
      "consumer1 get a val: 10\n",
      "producer1 put a val: 5\n",
      "producer2 put a val: 7\n",
      "consumer1 get a val: 5\n",
      "consumer2 get a val: 7\n",
      "CPU times: total: 0 ns\n",
      "Wall time: 10 s\n"
     ]
    }
   ],
   "source": [
    "import asyncio\n",
    "import random\n",
    "\n",
    "import nest_asyncio\n",
    "nest_asyncio.apply()\n",
    "\n",
    "async def consumer(queue, id):\n",
    "    while True:\n",
    "        val = await queue.get()\n",
    "        print('{} get a val: {}'.format(id, val))\n",
    "        await asyncio.sleep(1)\n",
    "\n",
    "async def producer(queue, id):\n",
    "    for i in range(5):\n",
    "        val = random.randint(1, 10)\n",
    "        await queue.put(val)\n",
    "        print('{} put a val: {}'.format(id, val))\n",
    "        await asyncio.sleep(1)\n",
    "\n",
    "async def main():\n",
    "    queue = asyncio.Queue()\n",
    "\n",
    "    consumer1 = asyncio.create_task(consumer(queue, 'consumer1'))\n",
    "    consumer2 = asyncio.create_task(consumer(queue, 'consumer2'))\n",
    "\n",
    "    producer1 = asyncio.create_task(producer(queue, 'producer1'))\n",
    "    producer2 = asyncio.create_task(producer(queue, 'producer2'))\n",
    "\n",
    "    await asyncio.sleep(10)\n",
    "    consumer1.cancel()\n",
    "    consumer2.cancel()\n",
    "\n",
    "    await asyncio.gather(consumer1, consumer2, producer1, producer2, return_exceptions=True)\n",
    "\n",
    "%time asyncio.run(main())"
   ]
  },
  {
   "cell_type": "code",
   "execution_count": 4,
   "id": "17967c50",
   "metadata": {},
   "outputs": [
    {
     "ename": "AttributeError",
     "evalue": "'NoneType' object has no attribute 'find_all'",
     "output_type": "error",
     "traceback": [
      "\u001b[31m---------------------------------------------------------------------------\u001b[39m",
      "\u001b[31mAttributeError\u001b[39m                            Traceback (most recent call last)",
      "\u001b[36mFile \u001b[39m\u001b[32m<timed eval>:1\u001b[39m\n",
      "\u001b[36mCell\u001b[39m\u001b[36m \u001b[39m\u001b[32mIn[4]\u001b[39m\u001b[32m, line 10\u001b[39m, in \u001b[36mmain\u001b[39m\u001b[34m()\u001b[39m\n\u001b[32m      7\u001b[39m init_soup = BeautifulSoup(init_page, \u001b[33m'\u001b[39m\u001b[33mhtml.parser\u001b[39m\u001b[33m'\u001b[39m)\n\u001b[32m      9\u001b[39m all_movies = init_soup.find(\u001b[33m'\u001b[39m\u001b[33mdiv\u001b[39m\u001b[33m'\u001b[39m, id_=\u001b[33m'\u001b[39m\u001b[33mshowing-soon\u001b[39m\u001b[33m'\u001b[39m)\n\u001b[32m---> \u001b[39m\u001b[32m10\u001b[39m \u001b[38;5;28;01mfor\u001b[39;00m each_movie \u001b[38;5;129;01min\u001b[39;00m \u001b[43mall_movies\u001b[49m\u001b[43m.\u001b[49m\u001b[43mfind_all\u001b[49m(\u001b[33m'\u001b[39m\u001b[33mdiv\u001b[39m\u001b[33m'\u001b[39m):\n\u001b[32m     11\u001b[39m     all_a_tag = each_movie.find_all(\u001b[33m'\u001b[39m\u001b[33ma\u001b[39m\u001b[33m'\u001b[39m)\n\u001b[32m     12\u001b[39m     all_li_tag = each_movie.find_all(\u001b[33m'\u001b[39m\u001b[33mli\u001b[39m\u001b[33m'\u001b[39m)\n",
      "\u001b[31mAttributeError\u001b[39m: 'NoneType' object has no attribute 'find_all'"
     ]
    }
   ],
   "source": [
    "import requests\n",
    "from bs4 import BeautifulSoup\n",
    "\n",
    "def main():\n",
    "    url = 'https://movie.douban.com/cinema/later/beijing/'\n",
    "    init_page = requests.get(url).content\n",
    "    init_soup = BeautifulSoup(init_page, 'html.parser')\n",
    "\n",
    "    all_movies = init_soup.find('div', id_='showing-soon')\n",
    "    for each_movie in all_movies.find_all('div'):\n",
    "        all_a_tag = each_movie.find_all('a')\n",
    "        all_li_tag = each_movie.find_all('li')\n",
    "\n",
    "        movie_name = all_a_tag[1].text\n",
    "        url_to_fetch = all_a_tag[1]['href']\n",
    "        movie_date = all_li_tag[0].text\n",
    "\n",
    "        response_item = requests.get(url_to_fetch).content\n",
    "        soup_item = BeautifulSoup(response_item, 'html.parser')\n",
    "        img_tag = soup_item.find('img')\n",
    "\n",
    "        print('{} {} {}'.format(movie_name, movie_date, img_tag['src']))\n",
    "\n",
    "%time main()"
   ]
  }
 ],
 "metadata": {
  "kernelspec": {
   "display_name": "ai.dev",
   "language": "python",
   "name": "python3"
  },
  "language_info": {
   "codemirror_mode": {
    "name": "ipython",
    "version": 3
   },
   "file_extension": ".py",
   "mimetype": "text/x-python",
   "name": "python",
   "nbconvert_exporter": "python",
   "pygments_lexer": "ipython3",
   "version": "3.12.10"
  }
 },
 "nbformat": 4,
 "nbformat_minor": 5
}
