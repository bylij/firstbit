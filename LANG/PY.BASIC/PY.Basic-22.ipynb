{
 "cells": [
  {
   "cell_type": "code",
   "execution_count": 1,
   "id": "aeaf2281",
   "metadata": {},
   "outputs": [],
   "source": [
    "sites = [\n",
    "    'https://www.zgbk.com/ecph/subject?SiteID=1&ID=42416',\n",
    "    'https://www.zgbk.com/ecph/subject?SiteID=1&ID=42417',\n",
    "    'https://www.zgbk.com/ecph/subject?SiteID=1&ID=42418',\n",
    "    'https://www.zgbk.com/ecph/subject?SiteID=1&ID=42419',\n",
    "    'https://www.zgbk.com/ecph/subject?SiteID=1&ID=42420',\n",
    "    'https://www.zgbk.com/ecph/subject?SiteID=1&ID=42421',\n",
    "    'https://www.zgbk.com/ecph/subject?SiteID=1&ID=42422',\n",
    "    'https://www.zgbk.com/ecph/subject?SiteID=1&ID=42423',\n",
    "    'https://www.zgbk.com/ecph/subject?SiteID=1&ID=42424',\n",
    "    'https://www.zgbk.com/ecph/subject?SiteID=1&ID=42425',\n",
    "    'https://www.zgbk.com/ecph/subject?SiteID=1&ID=42426',\n",
    "    'https://www.zgbk.com/ecph/subject?SiteID=1&ID=42427',\n",
    "    'https://www.zgbk.com/ecph/subject?SiteID=1&ID=42428',\n",
    "    'https://www.zgbk.com/ecph/words?SiteID=1&ID=635890&SubID=60819',\n",
    "    'https://www.zgbk.com/ecph/words?SiteID=1&ID=236286&SubID=61175',\n",
    "    'https://www.zgbk.com/ecph/words?SiteID=1&ID=38664&SubID=43458',\n",
    "]"
   ]
  },
  {
   "cell_type": "code",
   "execution_count": 18,
   "id": "73c7e2bb",
   "metadata": {},
   "outputs": [
    {
     "name": "stdout",
     "output_type": "stream",
     "text": [
      "Read 60167 from https://www.zgbk.com/ecph/subject?SiteID=1&ID=42417\n",
      "Read 60167 from https://www.zgbk.com/ecph/subject?SiteID=1&ID=42421\n",
      "Read 60167 from https://www.zgbk.com/ecph/subject?SiteID=1&ID=42426\n",
      "Read 60166 from https://www.zgbk.com/ecph/subject?SiteID=1&ID=42424\n",
      "Read 60166 from https://www.zgbk.com/ecph/subject?SiteID=1&ID=42422\n",
      "Read 60166 from https://www.zgbk.com/ecph/subject?SiteID=1&ID=42418\n",
      "Read 60167 from https://www.zgbk.com/ecph/subject?SiteID=1&ID=42419\n",
      "Read 60166 from https://www.zgbk.com/ecph/subject?SiteID=1&ID=42420\n",
      "Read 60167 from https://www.zgbk.com/ecph/subject?SiteID=1&ID=42427\n",
      "Read 60167 from https://www.zgbk.com/ecph/subject?SiteID=1&ID=42428\n",
      "Read 60166 from https://www.zgbk.com/ecph/subject?SiteID=1&ID=42425\n",
      "Read 60166 from https://www.zgbk.com/ecph/subject?SiteID=1&ID=42423\n",
      "Read 58859 from https://www.zgbk.com/ecph/words?SiteID=1&ID=38664&SubID=43458\n",
      "Read 60094 from https://www.zgbk.com/ecph/words?SiteID=1&ID=635890&SubID=60819\n",
      "Read 60166 from https://www.zgbk.com/ecph/subject?SiteID=1&ID=42416\n",
      "Read 60449 from https://www.zgbk.com/ecph/words?SiteID=1&ID=236286&SubID=61175\n",
      "Download 16 sites in 0.2506913999095559 seconds\n"
     ]
    }
   ],
   "source": [
    "# 异步并发版本\n",
    "import requests\n",
    "import asyncio\n",
    "import aiohttp\n",
    "import time\n",
    "\n",
    "import nest_asyncio\n",
    "nest_asyncio.apply()\n",
    "\n",
    "async def download_page(url):\n",
    "    async with aiohttp.ClientSession() as session:\n",
    "        async with session.get(url) as resp:\n",
    "            print('Read {} from {}'.format(len(await resp.text()), url))\n",
    "\n",
    "async def download_all(sites):\n",
    "    tasks = [asyncio.create_task(download_page(url)) for url in sites]\n",
    "    await asyncio.gather(*tasks)\n",
    "\n",
    "async def main():\n",
    "    start_time = time.perf_counter()\n",
    "    # await download_all(sites)\n",
    "    asyncio.run(download_all(sites))\n",
    "    end_time = time.perf_counter()\n",
    "    print('Download {} sites in {} seconds'.format(len(sites), end_time - start_time))\n",
    "\n",
    "if __name__ == '__main__':\n",
    "    asyncio.run(main())"
   ]
  },
  {
   "cell_type": "code",
   "execution_count": null,
   "id": "2334eb33",
   "metadata": {},
   "outputs": [],
   "source": [
    "if io_bound:\n",
    "    if io_slow:\n",
    "        print('use asyncio')\n",
    "    else:\n",
    "        print('use multithread')\n",
    "else:\n",
    "    print('use multithread')"
   ]
  },
  {
   "cell_type": "code",
   "execution_count": 19,
   "id": "b6d6469e",
   "metadata": {},
   "outputs": [
    {
     "name": "stdout",
     "output_type": "stream",
     "text": [
      "333333283333335000000\n",
      "333333383333335000000\n",
      "333333483333355000001\n",
      "333333583333395000005\n",
      "333333683333455000014\n",
      "333333783333535000030\n",
      "333333883333635000055\n",
      "333333983333755000091\n",
      "333334083333895000140\n",
      "333334183334055000204\n",
      "333334283334235000285\n",
      "333334383334435000385\n",
      "333334483334655000506\n",
      "333334583334895000650\n",
      "333334683335155000819\n",
      "333334783335435001015\n",
      "333334883335735001240\n",
      "333334983336055001496\n",
      "333335083336395001785\n",
      "333335183336755002109\n",
      "Calculate takes 19.437007000669837 senconds\n"
     ]
    }
   ],
   "source": [
    "import time\n",
    "\n",
    "def cpu_bound(num):\n",
    "    print(sum([i * i for i in range(0, num)]))\n",
    "\n",
    "def calc_sums(nums):\n",
    "    for num in nums:\n",
    "        cpu_bound(num)\n",
    "\n",
    "def main():\n",
    "    nums = [10000000 + i for i in range(20)]\n",
    "    start_time = time.perf_counter()\n",
    "    calc_sums(nums)\n",
    "    end_time = time.perf_counter()\n",
    "    print('Calculate takes {} senconds'.format(end_time - start_time))\n",
    "\n",
    "if __name__ == '__main__':\n",
    "    main()"
   ]
  },
  {
   "cell_type": "code",
   "execution_count": null,
   "id": "29e2f3ee",
   "metadata": {},
   "outputs": [
    {
     "name": "stdout",
     "output_type": "stream",
     "text": [
      "subprocess error\n"
     ]
    },
    {
     "ename": "SystemExit",
     "evalue": "1",
     "output_type": "error",
     "traceback": [
      "An exception has occurred, use %tb to see the full traceback.\n",
      "\u001b[31mSystemExit\u001b[39m\u001b[31m:\u001b[39m 1\n"
     ]
    }
   ],
   "source": [
    "# JUPYTER 环境下执行多进程存在问题\n",
    "import time\n",
    "import concurrent.futures\n",
    "import sys\n",
    "\n",
    "def cpu_bound(num):\n",
    "    return sum(i * i for i in range(num))\n",
    "\n",
    "def calc_sums(nums):\n",
    "    with concurrent.futures.ProcessPoolExecutor(max_workers=5) as executor:\n",
    "        futures = [executor.submit(cpu_bound, num)  for num in nums]\n",
    "        for future in concurrent.futures.as_completed(futures):\n",
    "            try:\n",
    "                print(future.result())\n",
    "            except:\n",
    "                print('subprocess error')\n",
    "                sys.exit(1)\n",
    "\n",
    "def main():\n",
    "    nums = [10000000 + i for i in range(20)]\n",
    "    start_time = time.perf_counter()\n",
    "    calc_sums(nums)\n",
    "    end_time = time.perf_counter()\n",
    "    print('Calculate takes {} senconds'.format(end_time - start_time))\n",
    "\n",
    "if __name__ == '__main__':\n",
    "    main()"
   ]
  },
  {
   "cell_type": "code",
   "execution_count": 18,
   "id": "e89c44ae",
   "metadata": {},
   "outputs": [
    {
     "name": "stdout",
     "output_type": "stream",
     "text": [
      "Writing cpu_bound.py\n"
     ]
    }
   ],
   "source": [
    "%%writefile cpu_bound.py\n",
    "def cpu_bound(num):\n",
    "    return sum(i * i for i in range(num))"
   ]
  },
  {
   "cell_type": "code",
   "execution_count": 19,
   "id": "4206e55c",
   "metadata": {},
   "outputs": [
    {
     "name": "stdout",
     "output_type": "stream",
     "text": [
      "333333283333335000000\n",
      "333333383333335000000\n",
      "333333483333355000001\n",
      "333333583333395000005\n",
      "333333683333455000014\n",
      "333333783333535000030\n",
      "333333883333635000055\n",
      "333333983333755000091\n",
      "333334083333895000140\n",
      "333334183334055000204\n",
      "333334283334235000285\n",
      "333334383334435000385\n",
      "333334483334655000506\n",
      "333334583334895000650\n",
      "333334683335155000819\n",
      "333334783335435001015\n",
      "333334883335735001240\n",
      "333334983336055001496\n",
      "333335083336395001785\n",
      "333335183336755002109\n",
      "Calculate takes 7.1526327999308705 senconds\n"
     ]
    }
   ],
   "source": [
    "import time\n",
    "import concurrent.futures\n",
    "import sys\n",
    "\n",
    "# 导入外部模块内的函数作为进程函数\n",
    "from cpu_bound import cpu_bound\n",
    "\n",
    "def calc_sums(nums):\n",
    "    with concurrent.futures.ProcessPoolExecutor(max_workers=5) as executor:\n",
    "        futures = [executor.submit(cpu_bound, num)  for num in nums]\n",
    "        for future in concurrent.futures.as_completed(futures):\n",
    "            try:\n",
    "                print(future.result())\n",
    "            except:\n",
    "                print('subprocess error')\n",
    "                sys.exit(1)\n",
    "\n",
    "def main():\n",
    "    nums = [10000000 + i for i in range(20)]\n",
    "    start_time = time.perf_counter()\n",
    "    calc_sums(nums)\n",
    "    end_time = time.perf_counter()\n",
    "    print('Calculate takes {} senconds'.format(end_time - start_time))\n",
    "\n",
    "if __name__ == '__main__':\n",
    "    main()"
   ]
  },
  {
   "cell_type": "code",
   "execution_count": 20,
   "id": "53abafb5",
   "metadata": {},
   "outputs": [],
   "source": [
    "# 清除中间文件\n",
    "!rm cpu_bound.py"
   ]
  }
 ],
 "metadata": {
  "kernelspec": {
   "display_name": "ai.dev",
   "language": "python",
   "name": "python3"
  },
  "language_info": {
   "codemirror_mode": {
    "name": "ipython",
    "version": 3
   },
   "file_extension": ".py",
   "mimetype": "text/x-python",
   "name": "python",
   "nbconvert_exporter": "python",
   "pygments_lexer": "ipython3",
   "version": "3.12.10"
  }
 },
 "nbformat": 4,
 "nbformat_minor": 5
}
