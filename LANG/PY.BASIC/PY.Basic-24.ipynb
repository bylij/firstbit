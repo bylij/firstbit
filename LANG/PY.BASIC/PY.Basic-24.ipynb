{
 "cells": [
  {
   "cell_type": "code",
   "execution_count": 1,
   "id": "47e920d8",
   "metadata": {},
   "outputs": [],
   "source": [
    "import os\n",
    "import psutil\n",
    "\n",
    "def show_memory_info(hint):\n",
    "    pid = os.getpid()\n",
    "    p = psutil.Process(pid)\n",
    "\n",
    "    info = p.memory_full_info()\n",
    "    memory = info.uss / 1024. / 1024\n",
    "    print('{} memory used: {} MB'.format(hint, memory))"
   ]
  },
  {
   "cell_type": "code",
   "execution_count": 3,
   "id": "79d46f8e",
   "metadata": {},
   "outputs": [
    {
     "name": "stdout",
     "output_type": "stream",
     "text": [
      "init memory used: 59.82421875 MB\n",
      "a created memory used: 443.30078125 MB\n",
      "fini memory used: 62.95703125 MB\n"
     ]
    }
   ],
   "source": [
    "def func():\n",
    "    show_memory_info('init')\n",
    "    a = [i for i in range(10000000)]\n",
    "    show_memory_info('a created')\n",
    "\n",
    "func()\n",
    "show_memory_info('fini')"
   ]
  },
  {
   "cell_type": "code",
   "execution_count": null,
   "id": "6fe2446a",
   "metadata": {},
   "outputs": [
    {
     "name": "stdout",
     "output_type": "stream",
     "text": [
      "init memory used: 56.203125 MB\n",
      "a created memory used: 438.55859375 MB\n",
      "fini memory used: 438.55859375 MB\n"
     ]
    }
   ],
   "source": [
    "def func():\n",
    "    global a  # 声明为全局变量，函数返回后变量不释放\n",
    "    show_memory_info('init')\n",
    "    a = [i for i in range(10000000)]\n",
    "    show_memory_info('a created')\n",
    "\n",
    "func()\n",
    "show_memory_info('fini')"
   ]
  },
  {
   "cell_type": "code",
   "execution_count": 8,
   "id": "95fafdd3",
   "metadata": {},
   "outputs": [
    {
     "name": "stdout",
     "output_type": "stream",
     "text": [
      "init memory used: 820.91796875 MB\n",
      "a created memory used: 1205.61328125 MB\n",
      "fini memory used: 823.3046875 MB\n"
     ]
    }
   ],
   "source": [
    "def func():\n",
    "    show_memory_info('init')\n",
    "    a = [i for i in range(10000000)]\n",
    "    show_memory_info('a created')\n",
    "    return a  # 返回变量可能增加引用计数，阻止局部对象的释放\n",
    "\n",
    "func()  # 无实际赋值引用计数没有增加\n",
    "show_memory_info('fini')"
   ]
  },
  {
   "cell_type": "code",
   "execution_count": null,
   "id": "a095eacd",
   "metadata": {},
   "outputs": [
    {
     "name": "stdout",
     "output_type": "stream",
     "text": [
      "init memory used: 438.42578125 MB\n",
      "a created memory used: 821.39453125 MB\n",
      "fini memory used: 821.39453125 MB\n"
     ]
    }
   ],
   "source": [
    "def func():\n",
    "    show_memory_info('init')\n",
    "    a = [i for i in range(10000000)]\n",
    "    show_memory_info('a created')\n",
    "    return a  # 返回变量可能增加引用计数，阻止局部对象的释放\n",
    "\n",
    "b = func()  # 实际赋值后引用计数增加\n",
    "show_memory_info('fini')"
   ]
  },
  {
   "cell_type": "code",
   "execution_count": null,
   "id": "b77d7a18",
   "metadata": {},
   "outputs": [
    {
     "data": {
      "text/plain": [
       "2"
      ]
     },
     "execution_count": 4,
     "metadata": {},
     "output_type": "execute_result"
    }
   ],
   "source": [
    "import sys\n",
    "\n",
    "a = []  # 变量赋值，引用计数+1\n",
    "sys.getrefcount(a)  # 函数参数赋值，引用计数+1"
   ]
  },
  {
   "cell_type": "code",
   "execution_count": null,
   "id": "c1714950",
   "metadata": {},
   "outputs": [
    {
     "name": "stdout",
     "output_type": "stream",
     "text": [
      "3\n"
     ]
    },
    {
     "data": {
      "text/plain": [
       "2"
      ]
     },
     "execution_count": 11,
     "metadata": {},
     "output_type": "execute_result"
    }
   ],
   "source": [
    "import sys\n",
    "\n",
    "a = []  # 变量赋值，引用计数+1\n",
    "\n",
    "def func(a):\n",
    "    print(sys.getrefcount(a))  # 函数参数赋值，引用计数+1\n",
    "    # 函数返回：参数带来的引用计数增加将会复位，应用计数-1\n",
    "\n",
    "func(a)  # 函数参数赋值，引用计数+1\n",
    "sys.getrefcount(a)"
   ]
  },
  {
   "cell_type": "code",
   "execution_count": null,
   "id": "1912c0a6",
   "metadata": {},
   "outputs": [
    {
     "name": "stdout",
     "output_type": "stream",
     "text": [
      "2\n",
      "3\n"
     ]
    }
   ],
   "source": [
    "import sys\n",
    "\n",
    "a = []  # 引用计数+1\n",
    "\n",
    "print(sys.getrefcount(a))  # 引用计数+1\n",
    "\n",
    "b = a  # 引用计数+1\n",
    "\n",
    "print(sys.getrefcount(a))  # 这里针对同一个对象第二次调用 sys.getrefcount 不会再增加引用计数"
   ]
  },
  {
   "cell_type": "code",
   "execution_count": 18,
   "id": "ce1e6264",
   "metadata": {},
   "outputs": [
    {
     "name": "stdout",
     "output_type": "stream",
     "text": [
      "2\n",
      "3\n",
      "8\n"
     ]
    }
   ],
   "source": [
    "import sys\n",
    "\n",
    "a = []  # 引用计数+1\n",
    "\n",
    "print(sys.getrefcount(a))  # 引用计数+1\n",
    "\n",
    "b = a  # 引用计数+1\n",
    "\n",
    "print(sys.getrefcount(a))  # 同一个对象二次调用不增加引用计数\n",
    "\n",
    "c = b  # 引用计数+1\n",
    "d = b  # 引用计数+1\n",
    "e = c  # 引用计数+1\n",
    "f = e  # 引用计数+1\n",
    "g = d  # 引用计数+1\n",
    "\n",
    "print(sys.getrefcount(a))  # 同一个对象再次调用不增加引用计数"
   ]
  },
  {
   "cell_type": "code",
   "execution_count": 5,
   "id": "fe51a8fd",
   "metadata": {},
   "outputs": [
    {
     "name": "stdout",
     "output_type": "stream",
     "text": [
      "init memory used: 54.62109375 MB\n",
      "a created memory used: 92.41796875 MB\n",
      "a deleted memory used: 54.73046875 MB\n"
     ]
    }
   ],
   "source": [
    "import gc\n",
    "\n",
    "show_memory_info('init')\n",
    "\n",
    "a = [i for i in range(1000000)]\n",
    "\n",
    "show_memory_info('a created')\n",
    "\n",
    "del a\n",
    "gc.collect()\n",
    "\n",
    "show_memory_info('a deleted')"
   ]
  },
  {
   "cell_type": "code",
   "execution_count": null,
   "id": "7ccd431d",
   "metadata": {},
   "outputs": [
    {
     "ename": "NameError",
     "evalue": "name 'a' is not defined",
     "output_type": "error",
     "traceback": [
      "\u001b[31m---------------------------------------------------------------------------\u001b[39m",
      "\u001b[31mNameError\u001b[39m                                 Traceback (most recent call last)",
      "\u001b[36mCell\u001b[39m\u001b[36m \u001b[39m\u001b[32mIn[6]\u001b[39m\u001b[32m, line 1\u001b[39m\n\u001b[32m----> \u001b[39m\u001b[32m1\u001b[39m \u001b[38;5;28mprint\u001b[39m(\u001b[43ma\u001b[49m)\n",
      "\u001b[31mNameError\u001b[39m: name 'a' is not defined"
     ]
    }
   ],
   "source": [
    "print(a)  # 已经销毁"
   ]
  },
  {
   "cell_type": "code",
   "execution_count": null,
   "id": "6892ba90",
   "metadata": {},
   "outputs": [
    {
     "name": "stdout",
     "output_type": "stream",
     "text": [
      "init memory used: 62.84375 MB\n",
      "a, b created memory used: 828.16796875 MB\n",
      "fini memory used: 828.16796875 MB\n"
     ]
    }
   ],
   "source": [
    "def func():\n",
    "    show_memory_info('init')\n",
    "    a = [i for i in range(10000000)]\n",
    "    b = [i for i in range(10000000)]\n",
    "    show_memory_info('a, b created')\n",
    "    a.append(b)  # 循环引用\n",
    "    b.append(a)  # 循环引用\n",
    "    # 函数返回，a 和 b 变量本身释放，但相应的对象由于循环引用导致引用计数不归零，对象不会释放\n",
    "\n",
    "func()\n",
    "show_memory_info('fini')"
   ]
  },
  {
   "cell_type": "code",
   "execution_count": null,
   "id": "39d5bb4c",
   "metadata": {},
   "outputs": [
    {
     "name": "stdout",
     "output_type": "stream",
     "text": [
      "init memory used: 63.88671875 MB\n",
      "a, b created memory used: 828.48046875 MB\n",
      "fini memory used: 828.48046875 MB\n",
      "gc memory used: 63.8125 MB\n"
     ]
    }
   ],
   "source": [
    "import gc\n",
    "\n",
    "def func():\n",
    "    show_memory_info('init')\n",
    "    a = [i for i in range(10000000)]\n",
    "    b = [i for i in range(10000000)]\n",
    "    show_memory_info('a, b created')\n",
    "    a.append(b)  # 循环引用\n",
    "    b.append(a)  # 循环引用\n",
    "    # 函数返回，a 和 b 变量本身释放，但相应的对象由于循环引用导致引用计数不归零，对象不会释放\n",
    "\n",
    "func()\n",
    "show_memory_info('fini')\n",
    "\n",
    "gc.collect()  # 强制执行 GC，gc 会通过标记清除等算法识别 '孤立对象' 并释放\n",
    "show_memory_info('gc')"
   ]
  },
  {
   "cell_type": "code",
   "execution_count": 25,
   "id": "57446f09",
   "metadata": {},
   "outputs": [
    {
     "name": "stdout",
     "output_type": "stream",
     "text": [
      "Graph written to C:\\Users\\kduser\\AppData\\Local\\Temp\\objgraph-rhxrmpxg.dot (8 nodes)\n",
      "Graph viewer (xdot) not found, generating a png instead\n",
      "Image generated as C:\\Users\\kduser\\AppData\\Local\\Temp\\objgraph-rhxrmpxg.png\n"
     ]
    }
   ],
   "source": [
    "import objgraph\n",
    "\n",
    "a = [1, 2, 3]\n",
    "b = [4, 5, 6]\n",
    "\n",
    "a.append(b)\n",
    "b.append(a)\n",
    "\n",
    "objgraph.show_refs([a, b])"
   ]
  },
  {
   "cell_type": "code",
   "execution_count": 28,
   "id": "94a51f7e",
   "metadata": {},
   "outputs": [
    {
     "name": "stdout",
     "output_type": "stream",
     "text": [
      "Graph written to C:\\Users\\kduser\\AppData\\Local\\Temp\\objgraph-1z82jyff.dot (18 nodes)\n",
      "Graph viewer (xdot) and image renderer (dot) not found, not doing anything else\n"
     ]
    }
   ],
   "source": [
    "import objgraph\n",
    "\n",
    "a = [1, 2, 3]\n",
    "b = [4, 5, 6]\n",
    "\n",
    "a.append(b)\n",
    "b.append(a)\n",
    "\n",
    "objgraph.show_backrefs([a, b])"
   ]
  }
 ],
 "metadata": {
  "kernelspec": {
   "display_name": "ai.dev",
   "language": "python",
   "name": "python3"
  },
  "language_info": {
   "codemirror_mode": {
    "name": "ipython",
    "version": 3
   },
   "file_extension": ".py",
   "mimetype": "text/x-python",
   "name": "python",
   "nbconvert_exporter": "python",
   "pygments_lexer": "ipython3",
   "version": "3.12.10"
  }
 },
 "nbformat": 4,
 "nbformat_minor": 5
}
