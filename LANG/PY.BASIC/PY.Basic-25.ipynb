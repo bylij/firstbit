{
 "cells": [
  {
   "cell_type": "code",
   "execution_count": 1,
   "id": "2858fea7",
   "metadata": {},
   "outputs": [
    {
     "data": {
      "text/plain": [
       "[1, [...]]"
      ]
     },
     "execution_count": 1,
     "metadata": {},
     "output_type": "execute_result"
    }
   ],
   "source": [
    "x = [1]\n",
    "x.append(x)\n",
    "x"
   ]
  },
  {
   "cell_type": "code",
   "execution_count": 3,
   "id": "81561d36",
   "metadata": {},
   "outputs": [
    {
     "name": "stdout",
     "output_type": "stream",
     "text": [
      "Graph written to C:\\Users\\kduser\\AppData\\Local\\Temp\\objgraph-j79vys4u.dot (2 nodes)\n",
      "Graph viewer (xdot) not found, generating a png instead\n",
      "Image generated as C:\\Users\\kduser\\AppData\\Local\\Temp\\objgraph-j79vys4u.png\n"
     ]
    }
   ],
   "source": [
    "import objgraph\n",
    "\n",
    "objgraph.show_refs([x])"
   ]
  },
  {
   "cell_type": "code",
   "execution_count": 6,
   "id": "ae2fa7b8",
   "metadata": {},
   "outputs": [
    {
     "data": {
      "text/plain": [
       "2"
      ]
     },
     "execution_count": 6,
     "metadata": {},
     "output_type": "execute_result"
    }
   ],
   "source": [
    "len(x)  # 两个元素：一个整数，一个列表"
   ]
  },
  {
   "cell_type": "code",
   "execution_count": null,
   "id": "1de78ebb",
   "metadata": {},
   "outputs": [],
   "source": [
    "def post_comment(request, ...):\n",
    "    if not authenticate(request):\n",
    "        raise Exception('must log in first')\n",
    "\n",
    "def post_moment(request, ...):\n",
    "    if not authenticate(request):\n",
    "        raise Exception('must log in first')"
   ]
  },
  {
   "cell_type": "code",
   "execution_count": null,
   "id": "84bf36fc",
   "metadata": {},
   "outputs": [],
   "source": [
    "@authenticate\n",
    "def post_comment(request, ...):\n",
    "    ...\n",
    "\n",
    "@authenticate\n",
    "def post_moment(request, ...):\n",
    "    ..."
   ]
  }
 ],
 "metadata": {
  "kernelspec": {
   "display_name": "ai.dev",
   "language": "python",
   "name": "python3"
  },
  "language_info": {
   "codemirror_mode": {
    "name": "ipython",
    "version": 3
   },
   "file_extension": ".py",
   "mimetype": "text/x-python",
   "name": "python",
   "nbconvert_exporter": "python",
   "pygments_lexer": "ipython3",
   "version": "3.12.10"
  }
 },
 "nbformat": 4,
 "nbformat_minor": 5
}
