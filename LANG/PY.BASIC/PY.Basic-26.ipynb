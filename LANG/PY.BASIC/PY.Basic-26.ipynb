{
 "cells": [
  {
   "cell_type": "code",
   "execution_count": null,
   "id": "e07e76f7",
   "metadata": {},
   "outputs": [],
   "source": [
    "# 不好的标识符命名\n",
    "if a <= 0:\n",
    "    return\n",
    "elif a > b:\n",
    "    return\n",
    "else:\n",
    "    b -= a"
   ]
  },
  {
   "cell_type": "code",
   "execution_count": null,
   "id": "e8a0617c",
   "metadata": {},
   "outputs": [],
   "source": [
    "# 推荐的标识符命名\n",
    "if transfer_amount <= 0:\n",
    "    raise Exception('...')\n",
    "elif transfer_amount > balance:\n",
    "    raise Exception('...')\n",
    "else:\n",
    "    balance -= transfer_amount"
   ]
  },
  {
   "cell_type": "code",
   "execution_count": null,
   "id": "9ac12873",
   "metadata": {},
   "outputs": [],
   "source": [
    "# 不规范的引入方法\n",
    "from mypkg import obj\n",
    "from mypkg import func\n",
    "\n",
    "func([1, 2, 3])"
   ]
  },
  {
   "cell_type": "code",
   "execution_count": null,
   "id": "5a7fd8e5",
   "metadata": {},
   "outputs": [],
   "source": [
    "# 推荐的引入方法：引入只到模块这一层面，不能直接引入模块中的对象、类或函数\n",
    "import mypkg\n",
    "\n",
    "mypkg.func([1, 2, 3])"
   ]
  },
  {
   "cell_type": "code",
   "execution_count": null,
   "id": "c8dbc3ac",
   "metadata": {},
   "outputs": [],
   "source": [
    "result = [(x, y) for x in range(10) for y in range(5) if x + y > 10]\n",
    "result"
   ]
  },
  {
   "cell_type": "code",
   "execution_count": null,
   "id": "1c5edd54",
   "metadata": {},
   "outputs": [],
   "source": [
    "result = []\n",
    "for x in range(10):\n",
    "    for y in range(5):\n",
    "        if x + y > 10:\n",
    "            result.append((x, y))\n",
    "\n",
    "result"
   ]
  },
  {
   "cell_type": "code",
   "execution_count": null,
   "id": "a90ebc91",
   "metadata": {},
   "outputs": [],
   "source": [
    "x = 27\n",
    "y = 27\n",
    "print(x is y)\n",
    "\n",
    "x = 721\n",
    "y = 721\n",
    "print(x is y)"
   ]
  },
  {
   "cell_type": "code",
   "execution_count": null,
   "id": "7aec7af9",
   "metadata": {},
   "outputs": [],
   "source": [
    "x = 27\n",
    "y = 27\n",
    "print(x == y)\n",
    "\n",
    "x = 721\n",
    "y = 721\n",
    "print(x == y)"
   ]
  },
  {
   "cell_type": "code",
   "execution_count": null,
   "id": "52206185",
   "metadata": {},
   "outputs": [],
   "source": [
    "class MyObject:\n",
    "    def __eq__(self, other):\n",
    "        if other:\n",
    "            return self.field == other.field\n",
    "        return False\n",
    "\n",
    "x = MyObject()\n",
    "x == None"
   ]
  },
  {
   "cell_type": "code",
   "execution_count": null,
   "id": "6e6eeb79",
   "metadata": {},
   "outputs": [],
   "source": [
    "def pay(name, salary=None):\n",
    "    if not salary:  # 不推荐的假值判断\n",
    "        salary = 11\n",
    "    print(name, 'is compensated', salary, 'dollars')"
   ]
  },
  {
   "cell_type": "code",
   "execution_count": null,
   "id": "aaba1f09",
   "metadata": {},
   "outputs": [],
   "source": [
    "def pay(name, salary=None):\n",
    "    if salary is not None:  # 推荐的判假风格\n",
    "        salary = 11\n",
    "    print(name, 'is compensated', salary, 'dollars')"
   ]
  },
  {
   "cell_type": "code",
   "execution_count": null,
   "id": "3fe0ebec",
   "metadata": {},
   "outputs": [],
   "source": [
    "adict = {i: i * 2 for i in range(10000000)}\n",
    "\n",
    "for key in adict.keys():  # 新建临时列表\n",
    "    print('{} = {}'.format(key, adict[key]))"
   ]
  },
  {
   "cell_type": "code",
   "execution_count": null,
   "id": "b153cca1",
   "metadata": {},
   "outputs": [],
   "source": [
    "adict = {i: i * 2 for i in range(10000000)}\n",
    "\n",
    "for key in adict:  # 直接返回 key 列表\n",
    "    print('{} = {}'.format(key, adict[key]))"
   ]
  }
 ],
 "metadata": {
  "kernelspec": {
   "display_name": "ai.dev",
   "language": "python",
   "name": "python3"
  },
  "language_info": {
   "codemirror_mode": {
    "name": "ipython",
    "version": 3
   },
   "file_extension": ".py",
   "mimetype": "text/x-python",
   "name": "python",
   "nbconvert_exporter": "python",
   "pygments_lexer": "ipython3",
   "version": "3.12.10"
  }
 },
 "nbformat": 4,
 "nbformat_minor": 5
}
