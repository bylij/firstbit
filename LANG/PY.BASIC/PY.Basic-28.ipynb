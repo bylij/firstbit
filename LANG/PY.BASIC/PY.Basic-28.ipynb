{
 "cells": [
  {
   "cell_type": "code",
   "execution_count": 1,
   "id": "345d668c",
   "metadata": {},
   "outputs": [
    {
     "ename": "AssertionError",
     "evalue": "",
     "output_type": "error",
     "traceback": [
      "\u001b[31m---------------------------------------------------------------------------\u001b[39m",
      "\u001b[31mAssertionError\u001b[39m                            Traceback (most recent call last)",
      "\u001b[36mCell\u001b[39m\u001b[36m \u001b[39m\u001b[32mIn[1]\u001b[39m\u001b[32m, line 1\u001b[39m\n\u001b[32m----> \u001b[39m\u001b[32m1\u001b[39m \u001b[38;5;28;01massert\u001b[39;00m \u001b[32m1\u001b[39m == \u001b[32m2\u001b[39m\n",
      "\u001b[31mAssertionError\u001b[39m: "
     ]
    }
   ],
   "source": [
    "assert 1 == 2"
   ]
  },
  {
   "cell_type": "code",
   "execution_count": 4,
   "id": "461165f9",
   "metadata": {},
   "outputs": [
    {
     "ename": "AssertionError",
     "evalue": "",
     "output_type": "error",
     "traceback": [
      "\u001b[31m---------------------------------------------------------------------------\u001b[39m",
      "\u001b[31mAssertionError\u001b[39m                            Traceback (most recent call last)",
      "\u001b[36mCell\u001b[39m\u001b[36m \u001b[39m\u001b[32mIn[4]\u001b[39m\u001b[32m, line 2\u001b[39m\n\u001b[32m      1\u001b[39m \u001b[38;5;28;01mif\u001b[39;00m __debug__:\n\u001b[32m----> \u001b[39m\u001b[32m2\u001b[39m     \u001b[38;5;28;01mif\u001b[39;00m \u001b[38;5;129;01mnot\u001b[39;00m \u001b[32m1\u001b[39m == \u001b[32m2\u001b[39m: \u001b[38;5;28;01mraise\u001b[39;00m \u001b[38;5;167;01mAssertionError\u001b[39;00m\n",
      "\u001b[31mAssertionError\u001b[39m: "
     ]
    }
   ],
   "source": [
    "if __debug__:\n",
    "    if not 1 == 2: raise AssertionError"
   ]
  },
  {
   "cell_type": "code",
   "execution_count": 5,
   "id": "44dad603",
   "metadata": {},
   "outputs": [
    {
     "ename": "AssertionError",
     "evalue": "assertion is wrong",
     "output_type": "error",
     "traceback": [
      "\u001b[31m---------------------------------------------------------------------------\u001b[39m",
      "\u001b[31mAssertionError\u001b[39m                            Traceback (most recent call last)",
      "\u001b[36mCell\u001b[39m\u001b[36m \u001b[39m\u001b[32mIn[5]\u001b[39m\u001b[32m, line 1\u001b[39m\n\u001b[32m----> \u001b[39m\u001b[32m1\u001b[39m \u001b[38;5;28;01massert\u001b[39;00m \u001b[32m1\u001b[39m == \u001b[32m2\u001b[39m, \u001b[33m'\u001b[39m\u001b[33massertion is wrong\u001b[39m\u001b[33m'\u001b[39m\n",
      "\u001b[31mAssertionError\u001b[39m: assertion is wrong"
     ]
    }
   ],
   "source": [
    "assert 1 == 2, 'assertion is wrong'"
   ]
  },
  {
   "cell_type": "code",
   "execution_count": 6,
   "id": "089a348d",
   "metadata": {},
   "outputs": [
    {
     "ename": "AssertionError",
     "evalue": "assertion is wrong",
     "output_type": "error",
     "traceback": [
      "\u001b[31m---------------------------------------------------------------------------\u001b[39m",
      "\u001b[31mAssertionError\u001b[39m                            Traceback (most recent call last)",
      "\u001b[36mCell\u001b[39m\u001b[36m \u001b[39m\u001b[32mIn[6]\u001b[39m\u001b[32m, line 2\u001b[39m\n\u001b[32m      1\u001b[39m \u001b[38;5;28;01mif\u001b[39;00m __debug__:\n\u001b[32m----> \u001b[39m\u001b[32m2\u001b[39m     \u001b[38;5;28;01mif\u001b[39;00m \u001b[38;5;129;01mnot\u001b[39;00m \u001b[32m1\u001b[39m == \u001b[32m2\u001b[39m: \u001b[38;5;28;01mraise\u001b[39;00m \u001b[38;5;167;01mAssertionError\u001b[39;00m(\u001b[33m'\u001b[39m\u001b[33massertion is wrong\u001b[39m\u001b[33m'\u001b[39m)\n",
      "\u001b[31mAssertionError\u001b[39m: assertion is wrong"
     ]
    }
   ],
   "source": [
    "if __debug__:\n",
    "    if not 1 == 2: raise AssertionError('assertion is wrong')"
   ]
  },
  {
   "cell_type": "code",
   "execution_count": 7,
   "id": "00345ce5",
   "metadata": {},
   "outputs": [
    {
     "name": "stderr",
     "output_type": "stream",
     "text": [
      "<>:2: SyntaxWarning: assertion is always true, perhaps remove parentheses?\n",
      "<>:2: SyntaxWarning: assertion is always true, perhaps remove parentheses?\n",
      "C:\\Users\\Baoyu\\AppData\\Local\\Temp\\ipykernel_40192\\3293696721.py:2: SyntaxWarning: assertion is always true, perhaps remove parentheses?\n",
      "  assert(1 == 2, 'This should fail')\n"
     ]
    }
   ],
   "source": [
    "# 错误语法\n",
    "assert(1 == 2, 'This should fail')"
   ]
  },
  {
   "cell_type": "code",
   "execution_count": 8,
   "id": "f1999ab0",
   "metadata": {},
   "outputs": [
    {
     "ename": "AssertionError",
     "evalue": "This should fail",
     "output_type": "error",
     "traceback": [
      "\u001b[31m---------------------------------------------------------------------------\u001b[39m",
      "\u001b[31mAssertionError\u001b[39m                            Traceback (most recent call last)",
      "\u001b[36mCell\u001b[39m\u001b[36m \u001b[39m\u001b[32mIn[8]\u001b[39m\u001b[32m, line 2\u001b[39m\n\u001b[32m      1\u001b[39m \u001b[38;5;66;03m# 正确的语法\u001b[39;00m\n\u001b[32m----> \u001b[39m\u001b[32m2\u001b[39m \u001b[38;5;28;01massert\u001b[39;00m \u001b[32m1\u001b[39m == \u001b[32m2\u001b[39m, \u001b[33m'\u001b[39m\u001b[33mThis should fail\u001b[39m\u001b[33m'\u001b[39m\n",
      "\u001b[31mAssertionError\u001b[39m: This should fail"
     ]
    }
   ],
   "source": [
    "# 正确的语法\n",
    "assert 1 == 2, 'This should fail'"
   ]
  },
  {
   "cell_type": "code",
   "execution_count": 10,
   "id": "1169d43d",
   "metadata": {},
   "outputs": [],
   "source": [
    "def apply_discount(price, discount):\n",
    "    update_price = price * (1 - discount)\n",
    "    assert 0 <= update_price <= price, 'price should be greater or equal to 0 and less or equal to origin price'\n",
    "    return update_price"
   ]
  },
  {
   "cell_type": "code",
   "execution_count": 11,
   "id": "75d1fce2",
   "metadata": {},
   "outputs": [
    {
     "data": {
      "text/plain": [
       "80.0"
      ]
     },
     "execution_count": 11,
     "metadata": {},
     "output_type": "execute_result"
    }
   ],
   "source": [
    "apply_discount(100, 0.2)"
   ]
  },
  {
   "cell_type": "code",
   "execution_count": 12,
   "id": "2cb77a4f",
   "metadata": {},
   "outputs": [
    {
     "ename": "AssertionError",
     "evalue": "price should be greater or equal to 0 and less or equal to origin price",
     "output_type": "error",
     "traceback": [
      "\u001b[31m---------------------------------------------------------------------------\u001b[39m",
      "\u001b[31mAssertionError\u001b[39m                            Traceback (most recent call last)",
      "\u001b[36mCell\u001b[39m\u001b[36m \u001b[39m\u001b[32mIn[12]\u001b[39m\u001b[32m, line 1\u001b[39m\n\u001b[32m----> \u001b[39m\u001b[32m1\u001b[39m \u001b[43mapply_discount\u001b[49m\u001b[43m(\u001b[49m\u001b[32;43m100\u001b[39;49m\u001b[43m,\u001b[49m\u001b[43m \u001b[49m\u001b[32;43m2\u001b[39;49m\u001b[43m)\u001b[49m\n",
      "\u001b[36mCell\u001b[39m\u001b[36m \u001b[39m\u001b[32mIn[10]\u001b[39m\u001b[32m, line 3\u001b[39m, in \u001b[36mapply_discount\u001b[39m\u001b[34m(price, discount)\u001b[39m\n\u001b[32m      1\u001b[39m \u001b[38;5;28;01mdef\u001b[39;00m\u001b[38;5;250m \u001b[39m\u001b[34mapply_discount\u001b[39m(price, discount):\n\u001b[32m      2\u001b[39m     update_price = price * (\u001b[32m1\u001b[39m - discount)\n\u001b[32m----> \u001b[39m\u001b[32m3\u001b[39m     \u001b[38;5;28;01massert\u001b[39;00m \u001b[32m0\u001b[39m <= update_price <= price, \u001b[33m'\u001b[39m\u001b[33mprice should be greater or equal to 0 and less or equal to origin price\u001b[39m\u001b[33m'\u001b[39m\n\u001b[32m      4\u001b[39m     \u001b[38;5;28;01mreturn\u001b[39;00m update_price\n",
      "\u001b[31mAssertionError\u001b[39m: price should be greater or equal to 0 and less or equal to origin price"
     ]
    }
   ],
   "source": [
    "apply_discount(100, 2)"
   ]
  },
  {
   "cell_type": "code",
   "execution_count": 13,
   "id": "a87a4f6b",
   "metadata": {},
   "outputs": [],
   "source": [
    "def calc_average_price(total_sales, num_sales):\n",
    "    assert num_sales > 0, 'number of sales should be greater than 0'\n",
    "    return total_sales / num_sales"
   ]
  },
  {
   "cell_type": "code",
   "execution_count": 14,
   "id": "2b3762d8",
   "metadata": {},
   "outputs": [],
   "source": [
    "def func(input):\n",
    "    assert isinstance(input, list), 'input must be type of list'\n",
    "    # 下面的操作都是基于一个前提：input 是 list\n",
    "    if len(input) == 1:\n",
    "        ...\n",
    "    elif len(input) == 2:\n",
    "        ...\n",
    "    else:\n",
    "        ..."
   ]
  },
  {
   "cell_type": "code",
   "execution_count": null,
   "id": "2d8c62ea",
   "metadata": {},
   "outputs": [],
   "source": [
    "def func(input):\n",
    "    if isinstance(input, list):\n",
    "        ...\n",
    "    else:\n",
    "        ..."
   ]
  },
  {
   "cell_type": "code",
   "execution_count": null,
   "id": "87dcc72b",
   "metadata": {},
   "outputs": [],
   "source": [
    "# 错误示范\n",
    "def delete_course(user, course_id):\n",
    "    assert user_is_admin(user), 'user must be admin'\n",
    "    assert course_exist(course_id), 'course id must exist'\n",
    "    delete(course_id)"
   ]
  },
  {
   "cell_type": "code",
   "execution_count": null,
   "id": "56b4aa6f",
   "metadata": {},
   "outputs": [],
   "source": [
    "# 正确示范\n",
    "def delete_course(user, course_id):\n",
    "    if not user_is_admin(user):\n",
    "        raise Exception('user must be admin')\n",
    "    if not course_exist(course_id):\n",
    "        raise Exception('course id must exist')\n",
    "    delete(course_id)"
   ]
  },
  {
   "cell_type": "code",
   "execution_count": null,
   "id": "356928ec",
   "metadata": {},
   "outputs": [],
   "source": [
    "# 错误示范\n",
    "def read_and_process(path):\n",
    "    assert file_exist(path), 'file must exist'\n",
    "    with open(path) as f:\n",
    "        ..."
   ]
  },
  {
   "cell_type": "code",
   "execution_count": null,
   "id": "9474ba43",
   "metadata": {},
   "outputs": [],
   "source": [
    "# 正确示范\n",
    "def read_and_process(path):\n",
    "    if not file_exist(path):\n",
    "        raise Exception('file must exist')\n",
    "    with open(path) as f:\n",
    "        ..."
   ]
  },
  {
   "cell_type": "code",
   "execution_count": null,
   "id": "84270cd2",
   "metadata": {},
   "outputs": [],
   "source": [
    "# 错误示范\n",
    "def read_and_process(path):\n",
    "    assert file_exist(path), 'file must exist'\n",
    "    with open(path) as f:\n",
    "        ..."
   ]
  },
  {
   "cell_type": "code",
   "execution_count": null,
   "id": "71106493",
   "metadata": {},
   "outputs": [],
   "source": [
    "# 正确示范\n",
    "def read_and_process(path):\n",
    "    try:\n",
    "        with open(path) as f:\n",
    "            ...\n",
    "    except Exception as e:\n",
    "        ..."
   ]
  }
 ],
 "metadata": {
  "kernelspec": {
   "display_name": "ai.dev",
   "language": "python",
   "name": "python3"
  },
  "language_info": {
   "codemirror_mode": {
    "name": "ipython",
    "version": 3
   },
   "file_extension": ".py",
   "mimetype": "text/x-python",
   "name": "python",
   "nbconvert_exporter": "python",
   "pygments_lexer": "ipython3",
   "version": "3.12.10"
  }
 },
 "nbformat": 4,
 "nbformat_minor": 5
}
