{
 "cells": [
  {
   "cell_type": "code",
   "execution_count": null,
   "id": "41fc87c0",
   "metadata": {},
   "outputs": [],
   "source": [
    "for x in range(10000000):\n",
    "    f = open('test.txt', 'w')  # 错误示范：只打开文件而不关闭会导致资源泄露\n",
    "    f.write('hello {}'.format(x))"
   ]
  },
  {
   "cell_type": "code",
   "execution_count": null,
   "id": "72816d00",
   "metadata": {},
   "outputs": [],
   "source": [
    "for x in range(10000000):\n",
    "    with open('test.txt', 'w') as f:  # 通过上下文管理器自动关闭文件\n",
    "        f.write('hello {}'.format(x))"
   ]
  },
  {
   "cell_type": "code",
   "execution_count": null,
   "id": "bb290b38",
   "metadata": {},
   "outputs": [],
   "source": [
    "import threading\n",
    "\n",
    "lock = threading.Lock\n",
    "try:\n",
    "    lock.acquire()\n",
    "    ...\n",
    "finally:\n",
    "    lock.release()"
   ]
  },
  {
   "cell_type": "code",
   "execution_count": null,
   "id": "d2ceb8b2",
   "metadata": {},
   "outputs": [],
   "source": [
    "lock = threading.Lock()\n",
    "with lock:  # 通过上下文管理器自动释放锁\n",
    "    ..."
   ]
  },
  {
   "cell_type": "code",
   "execution_count": 3,
   "id": "fdf4d4d8",
   "metadata": {},
   "outputs": [
    {
     "name": "stdout",
     "output_type": "stream",
     "text": [
      "calling __enter__ method\n",
      "ready to write to file\n",
      "calling __exit__ method\n"
     ]
    }
   ],
   "source": [
    "class FileManager:\n",
    "    def __init__(self, name, mode):\n",
    "        self.name = name\n",
    "        self.mode = mode\n",
    "        self.file = None\n",
    "    \n",
    "    def __enter__(self,):\n",
    "        print('calling __enter__ method')\n",
    "        self.file = open(self.name, self.mode)\n",
    "        return self.file\n",
    "    \n",
    "    def __exit__(self, exc_type, exec_val, exc_tb):\n",
    "        print('calling __exit__ method')\n",
    "        if self.file:\n",
    "            self.file.close()\n",
    "\n",
    "with FileManager('test.txt', 'w') as f:\n",
    "    print('ready to write to file')\n",
    "    f.write('Hello, World!')\n"
   ]
  },
  {
   "cell_type": "code",
   "execution_count": 9,
   "id": "057363ae",
   "metadata": {},
   "outputs": [
    {
     "name": "stdout",
     "output_type": "stream",
     "text": [
      "__init__ called\n",
      "__enter__ called\n",
      "__exit__ called\n",
      "exc_type: <class 'RuntimeError'>\n",
      "exc_value: RT-error raised\n",
      "exc_traceback: <traceback object at 0x00000210D8F6E140>:\n"
     ]
    }
   ],
   "source": [
    "class Foo:\n",
    "    def __init__(self):\n",
    "        print('__init__ called')\n",
    "    \n",
    "    def __enter__(self):\n",
    "        print('__enter__ called')\n",
    "        return self\n",
    "    \n",
    "    def __exit__(self, exc_type, exc_val, exc_tb):\n",
    "        print('__exit__ called')\n",
    "        if exc_type:\n",
    "            print(f'exc_type: {exc_type}')\n",
    "            print(f'exc_value: {exc_val}')\n",
    "            print(f'exc_traceback: {exc_tb}:')\n",
    "        return True  # 这里返回 True 代表异常已处理，返回 False 异常会继续抛出\n",
    "\n",
    "with Foo() as foo:\n",
    "    raise RuntimeError('RT-error raised').with_traceback(None)"
   ]
  },
  {
   "cell_type": "code",
   "execution_count": null,
   "id": "1e55f4af",
   "metadata": {},
   "outputs": [],
   "source": [
    "class DBConnectionManager:\n",
    "    def __init__(self, hostname, port):\n",
    "        self.hostname = hostname\n",
    "        self.port = port\n",
    "        self.connection = None\n",
    "    \n",
    "    def __enter__(self):\n",
    "        self.connection = DBClient(self.hostname, self.port)\n",
    "        return self\n",
    "    \n",
    "    def __exit__(self, exc_type, exc_val, exc_tb):\n",
    "        if self.connection != None:\n",
    "            self.connection.close()\n",
    "\n",
    "with DBConnectionManager('localhost', '8080') as db:\n",
    "    ..."
   ]
  },
  {
   "cell_type": "code",
   "execution_count": 11,
   "id": "94c637ea",
   "metadata": {},
   "outputs": [
    {
     "name": "stdout",
     "output_type": "stream",
     "text": [
      "file opened\n",
      "file closed\n"
     ]
    }
   ],
   "source": [
    "from contextlib import contextmanager\n",
    "\n",
    "@contextmanager\n",
    "def file_manager(name, mode):\n",
    "    try:\n",
    "        f = open(name, mode)\n",
    "        print('file opened')\n",
    "        yield f\n",
    "    finally:\n",
    "        f.close()\n",
    "        print('file closed')\n",
    "\n",
    "with file_manager('test.txt', 'w') as f:\n",
    "    f.write('hello world')"
   ]
  }
 ],
 "metadata": {
  "kernelspec": {
   "display_name": "ai.dev",
   "language": "python",
   "name": "python3"
  },
  "language_info": {
   "codemirror_mode": {
    "name": "ipython",
    "version": 3
   },
   "file_extension": ".py",
   "mimetype": "text/x-python",
   "name": "python",
   "nbconvert_exporter": "python",
   "pygments_lexer": "ipython3",
   "version": "3.12.10"
  }
 },
 "nbformat": 4,
 "nbformat_minor": 5
}
