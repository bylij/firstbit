{
 "cells": [
  {
   "cell_type": "code",
   "execution_count": null,
   "id": "d69fe029",
   "metadata": {},
   "outputs": [],
   "source": [
    "import unittest\n",
    "\n",
    "# 目标函数\n",
    "def sort(l):\n",
    "    s = len(l)\n",
    "    for i in range(0, s):\n",
    "        for j in range(i + 1, s):\n",
    "            if l[i] > l[j]:\n",
    "                t = l[i]\n",
    "                l[i] = l[j]\n",
    "                l[j] = t\n",
    "\n",
    "# 继承 TestCase 编写单元测试\n",
    "class TestSort(unittest.TestCase):\n",
    "\n",
    "    # 以 test 开都的函数将会被测试执行\n",
    "    def test_sort(self):\n",
    "        l = [3, 4, 1, 5, 6]\n",
    "        sort(l)\n",
    "        # 断言结果预期\n",
    "        self.assertEqual(l, [1, 3, 4, 5, 6])\n",
    "    \n",
    "    def test_hello(self):\n",
    "        print('hello')\n",
    "\n",
    "\n",
    "if __name__ == '__main__':\n",
    "    unittest.main(argv=['first-arg-is-ignore'], exit=False)"
   ]
  },
  {
   "cell_type": "code",
   "execution_count": null,
   "id": "e35f1248",
   "metadata": {},
   "outputs": [],
   "source": [
    "import unittest\n",
    "from unittest.mock import MagicMock\n",
    "\n",
    "\n",
    "class A(unittest.TestCase):\n",
    "    def m1(self):\n",
    "        val = self.m2()\n",
    "        self.m3(val)\n",
    "    \n",
    "    def m2(self):\n",
    "        pass\n",
    "\n",
    "    def m3(self, val):\n",
    "        pass\n",
    "\n",
    "    def test_m1(self):\n",
    "        a = A()\n",
    "        a.m2 = MagicMock(return_value='custom_val')\n",
    "        a.m3 = MagicMock()\n",
    "        a.m1()\n",
    "        self.assertTrue(a.m2.called)\n",
    "        a.m3.assert_called_with('custom_val')\n",
    "\n",
    "\n",
    "if __name__ == '__main__':\n",
    "    unittest.main(argv=['first-arg-is-ignore'], exit=False)"
   ]
  },
  {
   "cell_type": "code",
   "execution_count": null,
   "id": "a890402b",
   "metadata": {},
   "outputs": [],
   "source": [
    "from unittest.mock import MagicMock\n",
    "\n",
    "# side_effect 提供一种动态机制\n",
    "def side_effect(arg):\n",
    "    if arg < 0:\n",
    "        return 1\n",
    "    else:\n",
    "        return 2\n",
    "\n",
    "\n",
    "mock = MagicMock()\n",
    "# 设置 side_effect 函数\n",
    "mock.side_effect=side_effect\n",
    "\n",
    "mock(-1)"
   ]
  },
  {
   "cell_type": "code",
   "execution_count": null,
   "id": "1e4db391",
   "metadata": {},
   "outputs": [],
   "source": [
    "mock(1)"
   ]
  },
  {
   "cell_type": "code",
   "execution_count": null,
   "id": "4e18190a",
   "metadata": {},
   "outputs": [],
   "source": [
    "from unittest.mock import patch\n",
    "import unittest\n",
    "\n",
    "# 目标函数\n",
    "def sort(l):\n",
    "    s = len(l)\n",
    "    for i in range(0, s):\n",
    "        for j in range(i + 1, s):\n",
    "            if l[i] > l[j]:\n",
    "                t = l[i]\n",
    "                l[i] = l[j]\n",
    "                l[j] = t\n",
    "    return l\n",
    "\n",
    "\n",
    "class A(unittest.TestCase):\n",
    "\n",
    "    @patch('__main__.sort')  # patch 外部函数 sort 为 mock_sort\n",
    "    def test_sort(self, mock_sort):\n",
    "        mock_sort.return_value = [2, 2, 3, 4, 5]\n",
    "\n",
    "        l = [3, 2, 5, 4, 1]\n",
    "        result = sort(l)\n",
    "        assert result == [2, 2, 3, 4, 5]\n",
    "        mock_sort.assert_called_with(l)\n",
    "\n",
    "if __name__ == '__main__':\n",
    "    unittest.main(argv=['first-arg-is-ignore'], exit=False)"
   ]
  },
  {
   "cell_type": "code",
   "execution_count": 12,
   "id": "343cc6b8",
   "metadata": {},
   "outputs": [
    {
     "name": "stderr",
     "output_type": "stream",
     "text": [
      ".\n",
      "----------------------------------------------------------------------\n",
      "Ran 1 test in 0.001s\n",
      "\n",
      "OK\n"
     ]
    }
   ],
   "source": [
    "from unittest.mock import patch\n",
    "import unittest\n",
    "\n",
    "\n",
    "class A(unittest.TestCase):\n",
    "\n",
    "    def m1(self):\n",
    "        print('m1 called')\n",
    "\n",
    "    def test_m1(self):\n",
    "        with patch.object(A, 'm1', lambda x: None):  # patch 类方法 m1\n",
    "            a = A()\n",
    "            a.m1()\n",
    "\n",
    "if __name__ == '__main__':\n",
    "    unittest.main(argv=['first-arg-is-ignore'], exit=False)"
   ]
  }
 ],
 "metadata": {
  "kernelspec": {
   "display_name": "ai.dev",
   "language": "python",
   "name": "python3"
  },
  "language_info": {
   "codemirror_mode": {
    "name": "ipython",
    "version": 3
   },
   "file_extension": ".py",
   "mimetype": "text/x-python",
   "name": "python",
   "nbconvert_exporter": "python",
   "pygments_lexer": "ipython3",
   "version": "3.12.10"
  }
 },
 "nbformat": 4,
 "nbformat_minor": 5
}
