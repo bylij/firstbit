{
 "cells": [
  {
   "cell_type": "code",
   "execution_count": null,
   "id": "d69fe029",
   "metadata": {},
   "outputs": [],
   "source": [
    "import unittest\n",
    "\n",
    "# 目标函数\n",
    "def sort(l):\n",
    "    s = len(l)\n",
    "    for i in range(0, s):\n",
    "        for j in range(i + 1, s):\n",
    "            if l[i] > l[j]:\n",
    "                t = l[i]\n",
    "                l[i] = l[j]\n",
    "                l[j] = t\n",
    "\n",
    "# 继承 TestCase 编写单元测试\n",
    "class TestSort(unittest.TestCase):\n",
    "\n",
    "    # 以 test 开都的函数将会被测试执行\n",
    "    def test_sort(self):\n",
    "        l = [3, 4, 1, 5, 6]\n",
    "        sort(l)\n",
    "        # 断言结果预期\n",
    "        self.assertEqual(l, [1, 3, 4, 5, 6])\n",
    "    \n",
    "    def test_hello(self):\n",
    "        print('hello')\n",
    "\n",
    "\n",
    "if __name__ == '__main__':\n",
    "    unittest.main(argv=['first-arg-is-ignore'], exit=False)"
   ]
  },
  {
   "cell_type": "code",
   "execution_count": null,
   "id": "e35f1248",
   "metadata": {},
   "outputs": [],
   "source": [
    "import unittest\n",
    "from unittest.mock import MagicMock\n",
    "\n",
    "\n",
    "class A(unittest.TestCase):\n",
    "    def m1(self):\n",
    "        val = self.m2()\n",
    "        self.m3(val)\n",
    "    \n",
    "    def m2(self):\n",
    "        pass\n",
    "\n",
    "    def m3(self, val):\n",
    "        pass\n",
    "\n",
    "    def test_m1(self):\n",
    "        a = A()\n",
    "        a.m2 = MagicMock(return_value='custom_val')\n",
    "        a.m3 = MagicMock()\n",
    "        a.m1()\n",
    "        self.assertTrue(a.m2.called)\n",
    "        a.m3.assert_called_with('custom_val')\n",
    "\n",
    "\n",
    "if __name__ == '__main__':\n",
    "    unittest.main(argv=['first-arg-is-ignore'], exit=False)"
   ]
  },
  {
   "cell_type": "code",
   "execution_count": null,
   "id": "a890402b",
   "metadata": {},
   "outputs": [],
   "source": [
    "from unittest.mock import MagicMock\n",
    "\n",
    "# side_effect 提供一种动态机制\n",
    "def side_effect(arg):\n",
    "    if arg < 0:\n",
    "        return 1\n",
    "    else:\n",
    "        return 2\n",
    "\n",
    "\n",
    "mock = MagicMock()\n",
    "# 设置 side_effect 函数\n",
    "mock.side_effect=side_effect\n",
    "\n",
    "mock(-1)"
   ]
  },
  {
   "cell_type": "code",
   "execution_count": null,
   "id": "1e4db391",
   "metadata": {},
   "outputs": [],
   "source": [
    "mock(1)"
   ]
  },
  {
   "cell_type": "code",
   "execution_count": null,
   "id": "4e18190a",
   "metadata": {},
   "outputs": [],
   "source": [
    "from unittest.mock import patch\n",
    "import unittest\n",
    "\n",
    "# 目标函数\n",
    "def sort(l):\n",
    "    s = len(l)\n",
    "    for i in range(0, s):\n",
    "        for j in range(i + 1, s):\n",
    "            if l[i] > l[j]:\n",
    "                t = l[i]\n",
    "                l[i] = l[j]\n",
    "                l[j] = t\n",
    "    return l\n",
    "\n",
    "\n",
    "class A(unittest.TestCase):\n",
    "\n",
    "    @patch('__main__.sort')  # patch 外部函数 sort 为 mock_sort\n",
    "    def test_sort(self, mock_sort):\n",
    "        mock_sort.return_value = [2, 2, 3, 4, 5]\n",
    "\n",
    "        l = [3, 2, 5, 4, 1]\n",
    "        result = sort(l)\n",
    "        assert result == [2, 2, 3, 4, 5]\n",
    "        mock_sort.assert_called_with(l)\n",
    "\n",
    "if __name__ == '__main__':\n",
    "    unittest.main(argv=['first-arg-is-ignore'], exit=False)"
   ]
  },
  {
   "cell_type": "code",
   "execution_count": 12,
   "id": "343cc6b8",
   "metadata": {},
   "outputs": [
    {
     "name": "stderr",
     "output_type": "stream",
     "text": [
      ".\n",
      "----------------------------------------------------------------------\n",
      "Ran 1 test in 0.001s\n",
      "\n",
      "OK\n"
     ]
    }
   ],
   "source": [
    "from unittest.mock import patch\n",
    "import unittest\n",
    "\n",
    "\n",
    "class A(unittest.TestCase):\n",
    "\n",
    "    def m1(self):\n",
    "        print('m1 called')\n",
    "\n",
    "    def test_m1(self):\n",
    "        with patch.object(A, 'm1', lambda x: None):  # patch 类方法 m1\n",
    "            a = A()\n",
    "            a.m1()\n",
    "\n",
    "if __name__ == '__main__':\n",
    "    unittest.main(argv=['first-arg-is-ignore'], exit=False)"
   ]
  },
  {
   "cell_type": "code",
   "execution_count": 47,
   "id": "c7dd3390",
   "metadata": {},
   "outputs": [
    {
     "name": "stdout",
     "output_type": "stream",
     "text": [
      "Writing test_basic.py\n"
     ]
    }
   ],
   "source": [
    "%%file test_basic.py\n",
    "\n",
    "\n",
    "def add(a, b):\n",
    "    return a + b\n",
    "\n",
    "\n",
    "def test_add():\n",
    "    assert add(1, 2) == 3\n",
    "\n",
    "\n",
    "def test_list_reverse():\n",
    "    l = [1, 2, 3, 4]\n",
    "    l_reversed = l[::-1]\n",
    "    assert l_reversed == [4, 3, 2, 1]"
   ]
  },
  {
   "cell_type": "code",
   "execution_count": 48,
   "id": "b27c06e3",
   "metadata": {},
   "outputs": [
    {
     "name": "stdout",
     "output_type": "stream",
     "text": [
      "\u001b[1m============================= test session starts =============================\u001b[0m\n",
      "platform win32 -- Python 3.12.10, pytest-8.4.1, pluggy-1.6.0 -- D:\\.SUBSYSTEM\\MINIFORGE-25.3.0\\envs\\ai.dev\\python.exe\n",
      "cachedir: .pytest_cache\n",
      "rootdir: c:\\Users\\kduser\\.local\\src\\firstbit\\LANG\\PY.BASIC\n",
      "plugins: anyio-4.9.0\n",
      "\u001b[1mcollecting ... \u001b[0mcollected 2 items\n",
      "\n",
      "test_basic.py::test_add \u001b[32mPASSED\u001b[0m\u001b[32m                                           [ 50%]\u001b[0m\n",
      "test_basic.py::test_list_reverse \u001b[32mPASSED\u001b[0m\u001b[32m                                  [100%]\u001b[0m\n",
      "\n",
      "\u001b[32m============================== \u001b[32m\u001b[1m2 passed\u001b[0m\u001b[32m in 0.04s\u001b[0m\u001b[32m ==============================\u001b[0m\n"
     ]
    }
   ],
   "source": [
    "!pytest test_basic.py -v\n",
    "!rm test_basic.py"
   ]
  },
  {
   "cell_type": "code",
   "execution_count": 58,
   "id": "11deabde",
   "metadata": {},
   "outputs": [
    {
     "name": "stdout",
     "output_type": "stream",
     "text": [
      "Writing test_parametrize.py\n"
     ]
    }
   ],
   "source": [
    "%%file test_parametrize.py\n",
    "import pytest\n",
    "\n",
    "def add(a, b):\n",
    "    return a + b\n",
    "\n",
    "@pytest.mark.parametrize('a, b, expected', [\n",
    "    (1, 1, 2),\n",
    "    (2, 3, 5),\n",
    "    (0, 0, 0),\n",
    "    (-1, -2, -3),\n",
    "    (-1, 1, 0),\n",
    "])\n",
    "def test_add_with_params(a, b, expected):\n",
    "    assert add(a, b) == expected"
   ]
  },
  {
   "cell_type": "code",
   "execution_count": 59,
   "id": "fae375f1",
   "metadata": {},
   "outputs": [
    {
     "name": "stdout",
     "output_type": "stream",
     "text": [
      "\u001b[1m============================= test session starts =============================\u001b[0m\n",
      "platform win32 -- Python 3.12.10, pytest-8.4.1, pluggy-1.6.0 -- D:\\.SUBSYSTEM\\MINIFORGE-25.3.0\\envs\\ai.dev\\python.exe\n",
      "cachedir: .pytest_cache\n",
      "rootdir: c:\\Users\\kduser\\.local\\src\\firstbit\\LANG\\PY.BASIC\n",
      "plugins: anyio-4.9.0\n",
      "\u001b[1mcollecting ... \u001b[0mcollected 5 items\n",
      "\n",
      "test_parametrize.py::test_add_with_params[1-1-2] \u001b[32mPASSED\u001b[0m\u001b[32m                  [ 20%]\u001b[0m\n",
      "test_parametrize.py::test_add_with_params[2-3-5] \u001b[32mPASSED\u001b[0m\u001b[32m                  [ 40%]\u001b[0m\n",
      "test_parametrize.py::test_add_with_params[0-0-0] \u001b[32mPASSED\u001b[0m\u001b[32m                  [ 60%]\u001b[0m\n",
      "test_parametrize.py::test_add_with_params[-1--2--3] \u001b[32mPASSED\u001b[0m\u001b[32m               [ 80%]\u001b[0m\n",
      "test_parametrize.py::test_add_with_params[-1-1-0] \u001b[32mPASSED\u001b[0m\u001b[32m                 [100%]\u001b[0m\n",
      "\n",
      "\u001b[32m============================== \u001b[32m\u001b[1m5 passed\u001b[0m\u001b[32m in 0.04s\u001b[0m\u001b[32m ==============================\u001b[0m\n"
     ]
    }
   ],
   "source": [
    "!pytest test_parametrize.py -v\n",
    "!rm test_parametrize.py"
   ]
  },
  {
   "cell_type": "code",
   "execution_count": 95,
   "id": "506694bb",
   "metadata": {},
   "outputs": [
    {
     "name": "stdout",
     "output_type": "stream",
     "text": [
      "Writing test_fixture.py\n"
     ]
    }
   ],
   "source": [
    "%%file test_fixture.py\n",
    "import pytest\n",
    "\n",
    "@pytest.fixture\n",
    "def database():\n",
    "    db = {'users': ['Alice', 'Bob']}\n",
    "    yield db  # pytest 会完成清理\n",
    "\n",
    "def test_user_count(database):  # fixture 自动注入\n",
    "    assert len(database['users']) == 2\n",
    "\n",
    "def test_user_exist(database):  # fixture 自动注入\n",
    "    assert 'Alice' in database['users']"
   ]
  },
  {
   "cell_type": "code",
   "execution_count": 96,
   "id": "5cee54d5",
   "metadata": {},
   "outputs": [
    {
     "name": "stdout",
     "output_type": "stream",
     "text": [
      "\u001b[1m============================= test session starts =============================\u001b[0m\n",
      "platform win32 -- Python 3.12.10, pytest-8.4.1, pluggy-1.6.0\n",
      "rootdir: c:\\Users\\kduser\\.local\\src\\firstbit\\LANG\\PY.BASIC\n",
      "plugins: anyio-4.9.0, cov-6.2.1\n",
      "collected 2 items\n",
      "\n",
      "test_fixture.py \u001b[32m.\u001b[0m\u001b[32m.\u001b[0m\u001b[32m                                                       [100%]\u001b[0m\n",
      "\n",
      "\u001b[32m============================== \u001b[32m\u001b[1m2 passed\u001b[0m\u001b[32m in 0.04s\u001b[0m\u001b[32m ==============================\u001b[0m\n"
     ]
    }
   ],
   "source": [
    "!pytest test_fixture.py\n",
    "!rm test_fixture.py"
   ]
  },
  {
   "cell_type": "code",
   "execution_count": 1,
   "id": "d9d1ec9d",
   "metadata": {},
   "outputs": [
    {
     "name": "stdout",
     "output_type": "stream",
     "text": [
      "Writing test_coverage.py\n"
     ]
    }
   ],
   "source": [
    "%%file test_coverage.py\n",
    "import pytest\n",
    "\n",
    "@pytest.fixture\n",
    "def database():\n",
    "    db = {'users': ['Alice', 'Bob']}\n",
    "    yield db  # pytest 会完成清理\n",
    "\n",
    "def test_user_count(database):  # fixture 自动注入\n",
    "    assert len(database['users']) == 2\n",
    "\n",
    "def test_user_exist(database):  # fixture 自动注入\n",
    "    assert 'Alice' in database['users']"
   ]
  },
  {
   "cell_type": "code",
   "execution_count": 2,
   "id": "82ae2424",
   "metadata": {},
   "outputs": [
    {
     "name": "stdout",
     "output_type": "stream",
     "text": [
      "\u001b[1m============================= test session starts =============================\u001b[0m\n",
      "platform win32 -- Python 3.12.10, pytest-8.4.1, pluggy-1.6.0\n",
      "rootdir: c:\\Users\\kduser\\.local\\src\\firstbit\\LANG\\PY.BASIC\n",
      "plugins: anyio-4.9.0, cov-6.2.1\n",
      "collected 2 items\n",
      "\n",
      "test_coverage.py \u001b[32m.\u001b[0m\u001b[32m.\u001b[0m\u001b[32m                                                      [100%]\u001b[0m\n",
      "\n",
      "=============================== tests coverage ================================\n",
      "______________ coverage: platform win32, python 3.12.10-final-0 _______________\n",
      "\n",
      "Name               Stmts   Miss  Cover\n",
      "--------------------------------------\n",
      "test_coverage.py       9      0   100%\n",
      "--------------------------------------\n",
      "TOTAL                  9      0   100%\n",
      "\u001b[32m============================== \u001b[32m\u001b[1m2 passed\u001b[0m\u001b[32m in 0.12s\u001b[0m\u001b[32m ==============================\u001b[0m\n"
     ]
    }
   ],
   "source": [
    "!pytest --cov test_coverage --cov-report=term\n",
    "!rm test_coverage.py"
   ]
  },
  {
   "cell_type": "code",
   "execution_count": 6,
   "id": "83ebff9d",
   "metadata": {},
   "outputs": [
    {
     "name": "stdout",
     "output_type": "stream",
     "text": [
      "Writing test_exception.py\n"
     ]
    }
   ],
   "source": [
    "%%file test_exception.py\n",
    "import pytest\n",
    "\n",
    "def divide(a, b):\n",
    "    if b == 0:\n",
    "        raise ValueError('divide by zero')\n",
    "    return a / b\n",
    "\n",
    "def test_divide_by_zero():\n",
    "    with pytest.raises(ValueError, match='divide by zeror'):\n",
    "        divide(1, 0)"
   ]
  },
  {
   "cell_type": "code",
   "execution_count": 7,
   "id": "936c0a20",
   "metadata": {},
   "outputs": [
    {
     "name": "stdout",
     "output_type": "stream",
     "text": [
      "\u001b[1m============================= test session starts =============================\u001b[0m\n",
      "platform win32 -- Python 3.12.10, pytest-8.4.1, pluggy-1.6.0 -- D:\\.SUBSYSTEM\\MINIFORGE-25.3.0\\envs\\ai.dev\\python.exe\n",
      "cachedir: .pytest_cache\n",
      "rootdir: c:\\Users\\kduser\\.local\\src\\firstbit\\LANG\\PY.BASIC\n",
      "plugins: anyio-4.9.0, cov-6.2.1\n",
      "\u001b[1mcollecting ... \u001b[0mcollected 1 item\n",
      "\n",
      "test_exception.py::test_divide_by_zero \u001b[31mFAILED\u001b[0m\u001b[31m                            [100%]\u001b[0m\n",
      "\n",
      "================================== FAILURES ===================================\n",
      "\u001b[31m\u001b[1m_____________________________ test_divide_by_zero _____________________________\u001b[0m\n",
      "\n",
      "    \u001b[0m\u001b[94mdef\u001b[39;49;00m\u001b[90m \u001b[39;49;00m\u001b[92mtest_divide_by_zero\u001b[39;49;00m():\u001b[90m\u001b[39;49;00m\n",
      "        \u001b[94mwith\u001b[39;49;00m pytest.raises(\u001b[96mValueError\u001b[39;49;00m, match=\u001b[33m'\u001b[39;49;00m\u001b[33mdivide by zeror\u001b[39;49;00m\u001b[33m'\u001b[39;49;00m):\u001b[90m\u001b[39;49;00m\n",
      ">           divide(\u001b[94m1\u001b[39;49;00m, \u001b[94m0\u001b[39;49;00m)\u001b[90m\u001b[39;49;00m\n",
      "\n",
      "\u001b[1m\u001b[31mtest_exception.py\u001b[0m:10: \n",
      "_ _ _ _ _ _ _ _ _ _ _ _ _ _ _ _ _ _ _ _ _ _ _ _ _ _ _ _ _ _ _ _ _ _ _ _ _ _ _ _\n",
      "\n",
      "a = 1, b = 0\n",
      "\n",
      "    \u001b[0m\u001b[94mdef\u001b[39;49;00m\u001b[90m \u001b[39;49;00m\u001b[92mdivide\u001b[39;49;00m(a, b):\u001b[90m\u001b[39;49;00m\n",
      "        \u001b[94mif\u001b[39;49;00m b == \u001b[94m0\u001b[39;49;00m:\u001b[90m\u001b[39;49;00m\n",
      ">           \u001b[94mraise\u001b[39;49;00m \u001b[96mValueError\u001b[39;49;00m(\u001b[33m'\u001b[39;49;00m\u001b[33mdivide by zero\u001b[39;49;00m\u001b[33m'\u001b[39;49;00m)\u001b[90m\u001b[39;49;00m\n",
      "\u001b[1m\u001b[31mE           ValueError: divide by zero\u001b[0m\n",
      "\n",
      "\u001b[1m\u001b[31mtest_exception.py\u001b[0m:5: ValueError\n",
      "\n",
      "\u001b[33mDuring handling of the above exception, another exception occurred:\u001b[0m\n",
      "\n",
      "    \u001b[0m\u001b[94mdef\u001b[39;49;00m\u001b[90m \u001b[39;49;00m\u001b[92mtest_divide_by_zero\u001b[39;49;00m():\u001b[90m\u001b[39;49;00m\n",
      ">       \u001b[94mwith\u001b[39;49;00m pytest.raises(\u001b[96mValueError\u001b[39;49;00m, match=\u001b[33m'\u001b[39;49;00m\u001b[33mdivide by zeror\u001b[39;49;00m\u001b[33m'\u001b[39;49;00m):\u001b[90m\u001b[39;49;00m\n",
      "             ^^^^^^^^^^^^^^^^^^^^^^^^^^^^^^^^^^^^^^^^^^^^^^^^^^\u001b[90m\u001b[39;49;00m\n",
      "\u001b[1m\u001b[31mE       AssertionError: Regex pattern did not match.\u001b[0m\n",
      "\u001b[1m\u001b[31mE        Regex: 'divide by zeror'\u001b[0m\n",
      "\u001b[1m\u001b[31mE        Input: 'divide by zero'\u001b[0m\n",
      "\n",
      "\u001b[1m\u001b[31mtest_exception.py\u001b[0m:9: AssertionError\n",
      "\u001b[36m\u001b[1m=========================== short test summary info ===========================\u001b[0m\n",
      "\u001b[31mFAILED\u001b[0m test_exception.py::\u001b[1mtest_divide_by_zero\u001b[0m - AssertionError: Regex pattern did not match.\n",
      "\u001b[31m============================== \u001b[31m\u001b[1m1 failed\u001b[0m\u001b[31m in 0.18s\u001b[0m\u001b[31m ==============================\u001b[0m\n"
     ]
    }
   ],
   "source": [
    "!pytest test_exception.py -v\n",
    "!rm test_exception.py"
   ]
  },
  {
   "cell_type": "code",
   "execution_count": 14,
   "id": "803fda29",
   "metadata": {},
   "outputs": [
    {
     "name": "stdout",
     "output_type": "stream",
     "text": [
      "Writing test_skip.py\n"
     ]
    }
   ],
   "source": [
    "%%file test_skip.py\n",
    "import pytest\n",
    "import sys\n",
    "\n",
    "@pytest.mark.skip(reason='Not implemented yet')\n",
    "def test_unfinished():\n",
    "    pass\n",
    "\n",
    "@pytest.mark.skipif(sys.version_info < (3, 14), reason='Python 3.14+ required')\n",
    "def test_python_feature():\n",
    "    assert sys.version_info >= (3, 14)"
   ]
  },
  {
   "cell_type": "code",
   "execution_count": 15,
   "id": "f4ed9021",
   "metadata": {},
   "outputs": [
    {
     "name": "stdout",
     "output_type": "stream",
     "text": [
      "\u001b[1m============================= test session starts =============================\u001b[0m\n",
      "platform win32 -- Python 3.12.10, pytest-8.4.1, pluggy-1.6.0 -- D:\\.SUBSYSTEM\\MINIFORGE-25.3.0\\envs\\ai.dev\\python.exe\n",
      "cachedir: .pytest_cache\n",
      "rootdir: c:\\Users\\kduser\\.local\\src\\firstbit\\LANG\\PY.BASIC\n",
      "plugins: anyio-4.9.0, cov-6.2.1\n",
      "\u001b[1mcollecting ... \u001b[0mcollected 2 items\n",
      "\n",
      "test_skip.py::test_unfinished \u001b[33mSKIPPED\u001b[0m (Not implemented yet)\u001b[32m              [ 50%]\u001b[0m\n",
      "test_skip.py::test_python_feature \u001b[33mSKIPPED\u001b[0m (Python 3.14+ required)\u001b[33m        [100%]\u001b[0m\n",
      "\n",
      "\u001b[33m============================= \u001b[33m\u001b[1m2 skipped\u001b[0m\u001b[33m in 0.03s\u001b[0m\u001b[33m ==============================\u001b[0m\n"
     ]
    }
   ],
   "source": [
    "!pytest test_skip.py -v\n",
    "!rm test_skip.py"
   ]
  },
  {
   "cell_type": "code",
   "execution_count": 16,
   "id": "9ef64271",
   "metadata": {},
   "outputs": [
    {
     "name": "stdout",
     "output_type": "stream",
     "text": [
      "Writing test_xdist.py\n"
     ]
    }
   ],
   "source": [
    "%%file test_xdist.py\n",
    "import pytest\n",
    "import sys\n",
    "\n",
    "@pytest.mark.skip(reason='Not implemented yet')\n",
    "def test_unfinished():\n",
    "    pass\n",
    "\n",
    "@pytest.mark.skipif(sys.version_info < (3, 14), reason='Python 3.14+ required')\n",
    "def test_python_feature():\n",
    "    assert sys.version_info >= (3, 14)"
   ]
  },
  {
   "cell_type": "code",
   "execution_count": 4,
   "id": "c2964c7c",
   "metadata": {},
   "outputs": [
    {
     "name": "stdout",
     "output_type": "stream",
     "text": [
      "\u001b[1m============================= test session starts =============================\u001b[0m\n",
      "platform win32 -- Python 3.12.10, pytest-8.4.1, pluggy-1.6.0 -- D:\\.SUBSYSTEM\\MINIFORGE-25.3.0\\envs\\ai.dev\\python.exe\n",
      "cachedir: .pytest_cache\n",
      "rootdir: c:\\Users\\kduser\\.local\\src\\firstbit\\LANG\\PY.BASIC\n",
      "plugins: anyio-4.9.0, cov-6.2.1, xdist-3.8.0\n",
      "created: 2/2 workers\n",
      "2 workers [2 items]\n",
      "\n",
      "scheduling tests via LoadScheduling\n",
      "\n",
      "test_xdist.py::test_python_feature \n",
      "test_xdist.py::test_unfinished \n",
      "[gw1]\u001b[36m [ 50%] \u001b[0m\u001b[33mSKIPPED\u001b[0m test_xdist.py::test_python_feature \n",
      "[gw0]\u001b[36m [100%] \u001b[0m\u001b[33mSKIPPED\u001b[0m test_xdist.py::test_unfinished \n",
      "\n",
      "\u001b[33m============================= \u001b[33m\u001b[1m2 skipped\u001b[0m\u001b[33m in 1.74s\u001b[0m\u001b[33m ==============================\u001b[0m\n"
     ]
    }
   ],
   "source": [
    "!pytest test_xdist.py -v -n 2\n",
    "!rm test_xdist.py"
   ]
  },
  {
   "cell_type": "code",
   "execution_count": 5,
   "id": "b182c372",
   "metadata": {},
   "outputs": [
    {
     "name": "stdout",
     "output_type": "stream",
     "text": [
      "Writing test_mark.py\n"
     ]
    }
   ],
   "source": [
    "%%file test_mark.py\n",
    "import pytest\n",
    "import time\n",
    "\n",
    "@pytest.mark.long\n",
    "def test_running_long():\n",
    "    time.sleep(2)\n",
    "    assert True\n",
    "\n",
    "@pytest.mark.short\n",
    "def test_running_short():\n",
    "    assert True"
   ]
  },
  {
   "cell_type": "code",
   "execution_count": 9,
   "id": "a64d30b0",
   "metadata": {},
   "outputs": [
    {
     "name": "stdout",
     "output_type": "stream",
     "text": [
      "\u001b[1m============================= test session starts =============================\u001b[0m\n",
      "platform win32 -- Python 3.12.10, pytest-8.4.1, pluggy-1.6.0 -- D:\\.SUBSYSTEM\\MINIFORGE-25.3.0\\envs\\ai.dev\\python.exe\n",
      "cachedir: .pytest_cache\n",
      "rootdir: c:\\Users\\kduser\\.local\\src\\firstbit\\LANG\\PY.BASIC\n",
      "plugins: anyio-4.9.0, cov-6.2.1, xdist-3.8.0\n",
      "\u001b[1mcollecting ... \u001b[0mcollected 2 items / 1 deselected / 1 selected\n",
      "\n",
      "test_mark.py::test_running_long \u001b[32mPASSED\u001b[0m\u001b[32m                                   [100%]\u001b[0m\n",
      "\n",
      "\u001b[32m======================= \u001b[32m\u001b[1m1 passed\u001b[0m, \u001b[33m1 deselected\u001b[0m\u001b[32m in 2.03s\u001b[0m\u001b[32m =======================\u001b[0m\n"
     ]
    }
   ],
   "source": [
    "!pytest test_mark.py -v -m long -W ignore\n",
    "!rm test_mark.py"
   ]
  }
 ],
 "metadata": {
  "kernelspec": {
   "display_name": "ai.dev",
   "language": "python",
   "name": "python3"
  },
  "language_info": {
   "codemirror_mode": {
    "name": "ipython",
    "version": 3
   },
   "file_extension": ".py",
   "mimetype": "text/x-python",
   "name": "python",
   "nbconvert_exporter": "python",
   "pygments_lexer": "ipython3",
   "version": "3.12.10"
  }
 },
 "nbformat": 4,
 "nbformat_minor": 5
}
