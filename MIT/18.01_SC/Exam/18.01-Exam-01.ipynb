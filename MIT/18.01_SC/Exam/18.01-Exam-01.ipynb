{
 "cells": [
  {
   "cell_type": "markdown",
   "metadata": {},
   "source": [
    ">https://ocw.mit.edu/courses/18-01sc-single-variable-calculus-fall-2010/resources/mit18_01scf10_exam1/"
   ]
  },
  {
   "cell_type": "markdown",
   "metadata": {},
   "source": [
    "### 问题1\n",
    "- (a) $f^\\prime(x)=(\\frac{x}{1-x^2})^\\prime=\\frac{x^\\prime \\cdot (1-x^2)-x \\cdot (1-x^2)^\\prime}{(1-x^2)^2}=\\frac{1-x^2-x \\cdot (-2x)}{(1-x^2)^2}=\\frac{1+x^2}{(1-x^2)^2}$\n",
    "- (b) $f^\\prime(x)=(\\ln{\\cos{x}-\\frac{1}{2}\\sin^2{x}})^\\prime\\\\\n",
    "=\\frac{1}{\\cos{x}} \\cdot (\\cos{x})^\\prime - \\frac{1}{2} \\cdot 2 \\cdot (\\sin{x})^\\prime\\\\\n",
    "=\\frac{-\\sin{x}}{\\cos{x}}-\\cos{x}=-\\tan{x}-\\cos{x}$\n",
    "- (c) $f^\\prime(x)=(xe^x)^\\prime=x^\\prime \\cdot e^x+x \\cdot (e^x)^\\prime=e^x+xe^x$  \n",
    "$f^{\\prime\\prime}(x)=(e^x+xe^x)=e^x+(xe^x)^\\prime=e^x+(e^x+xe^x)=2e^x+xe^x$  \n",
    "... 最终可得 $f^{(5)}(x)=5e^x+xe^x$"
   ]
  },
  {
   "cell_type": "markdown",
   "metadata": {},
   "source": [
    "### 问题2\n",
    "- $x^{2/3}+y^{2/3}=4$ 隐式微分得 $\\frac{2}{3} \\cdot x^{-1/3}+\\frac{2}{3} \\cdot y^{-1/3} \\cdot y^\\prime=0 \\implies y^\\prime=-\\sqrt[3]{\\frac{y}{x}}$  \n",
    "带入 $(-\\sqrt{27}, 1)$ 得切线斜率 $m=-\\sqrt[3]{\\frac{1}{-\\sqrt{27}}}=\\frac{1}{\\sqrt{3}}$ 得到切线点斜公式 $y-1=\\frac{1}{\\sqrt{3}}(x+\\sqrt{27})$  \n",
    "简化后 $y=\\frac{x}{\\sqrt{3}}+4$"
   ]
  },
  {
   "cell_type": "markdown",
   "metadata": {},
   "source": [
    "### 问题3\n",
    "- 求导的 $y^\\prime=3t^2-3=3(t-1)(t+1)$  \n",
    "可知 $y(t)$ 在 $t=1$ 点为极点，当 $t \\lt 1$ 时 $y(t)$ 不断减小，$t \\gt 1$ 时 $y(t)$ 不断增大  \n",
    "因此,前三秒的距离需要分为两段求和 $d=|y(1)-y(0)|+|y(3)-y(1)|=|1-3|+|21-1|=22$"
   ]
  },
  {
   "cell_type": "markdown",
   "metadata": {},
   "source": [
    "### 问题4\n",
    "- 符号描述 $(f \\cdot g)^\\prime=f^\\prime \\cdot g+f \\cdot g^\\prime$  \n",
    "$(f(x)g(x))^\\prime=\\lim\\limits_{\\Delta{x} \\to 0}\\frac{f(x+\\Delta{x})g(x+\\Delta{x})-f(x)g(x)}{\\Delta{x}}\\\\\n",
    "=\\lim\\limits_{\\Delta{x} \\to 0}\\frac{f(x+\\Delta{x})g(x+\\Delta{x})-f(x)g(x+\\Delta{x})+f(x)g(x+\\Delta{x})-f(x)g(x)}{\\Delta{x}}\\\\\n",
    "=\\lim\\limits_{\\Delta{x} \\to 0}[\\frac{f(x+\\Delta{x})-f(x)}{\\Delta{x}} \\cdot g(x+\\Delta{x})+f(x) \\cdot \\frac{g(x+\\Delta{x})-g(x)}{\\Delta{x}}]\\\\\n",
    "=\\lim\\limits_{\\Delta{x} \\to 0}\\frac{f(x+\\Delta{x})-f(x)}{\\Delta{x}} \\cdot g(x)+f(x)\\lim\\limits_{\\Delta{x} \\to 0}\\frac{g(x+\\Delta{x})-g(x)}{\\Delta{x}}\\\\\n",
    "=f^\\prime(x)g(x)+f(x)g^\\prime(x)$"
   ]
  },
  {
   "cell_type": "markdown",
   "metadata": {},
   "source": [
    "### 问题5\n",
    "- $f(x)$ 可导，得 $\\begin{cases}(\\tan^{-1}{x})^\\prime|_{x=0}=(ax^2+bx+c)^\\prime|_{x=0}\\\\(ax^2+bx+c)^\\prime|_{x=2}=(x^3-\\frac{1}{4}x^2+5)^\\prime|_{x=2}\\end{cases} \\implies \\begin{cases}(\\frac{1}{1+x^2}|_{x=0}=(2ax+b)|_{x=0}\\\\2ax+b|_{x=2}=3x^2-\\frac{1}{2}x|_{x=2}\\end{cases} \\implies \\begin{cases}b=1\\\\4a+b=11\\end{cases}$ $\\textcircled{1}$  \n",
    "- $f(x)$ 可导则连续，得 $\\begin{cases}\\tan^{-1}{x}|_{x=0}=ax^2+bx+c|_{x=0}\\\\ax^2+bx+c|_{x=2}=x^3-\\frac{1}{4}x^2+5|_{x=2}\\end{cases} \\implies \\begin{cases}c=0\\\\4a+2b+c=12\\end{cases}$ $\\textcircled{2}$  \n",
    "结合 $\\textcircled{1}$ 和 $\\textcircled{2}$ 可得 $\\begin{cases}a=\\frac{5}{2}\\\\b=1\\\\c=0\\end{cases}$ 满足条件"
   ]
  },
  {
   "cell_type": "markdown",
   "metadata": {},
   "source": [
    "### 问题6\n",
    "- (a) 令 $x=0$ 得 $f(y)=f(0)+f(y)+0+0 \\implies f(0)=0$\n",
    "- (b) $f^\\prime(0)=\\lim\\limits_{\\Delta{x} \\to 0}\\frac{f(0+\\Delta{x})-f(0)}{\\Delta{x}}=\\lim\\limits_{\\Delta{x} \\to 0}\\frac{f(\\Delta{x})}{\\Delta{x}}=1$\n",
    "- (c) $f^\\prime(x)=\\lim\\limits_{\\Delta{x} \\to 0}\\frac{f(x+\\Delta{x})-f(x)}{\\Delta{x}}\\\\\n",
    "=\\lim\\limits_{\\Delta{x} \\to 0}\\frac{f(x)+f(\\Delta{x})+x^2\\Delta{x}+x(\\Delta{x})^2-f(x)}{\\Delta{x}}\\\\\n",
    "=\\lim\\limits_{\\Delta{x} \\to 0}(\\frac{f(\\Delta{x})}{\\Delta{x}}+x^2+x\\Delta{x})\\\\\n",
    "=\\lim\\limits_{\\Delta{x} \\to 0}\\frac{f(\\Delta{x})}{\\Delta{x}}+x^2\\\\\n",
    "=1+x^2$"
   ]
  }
 ],
 "metadata": {
  "language_info": {
   "name": "python"
  }
 },
 "nbformat": 4,
 "nbformat_minor": 2
}
