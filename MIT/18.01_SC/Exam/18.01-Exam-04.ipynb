{
 "cells": [
  {
   "cell_type": "markdown",
   "metadata": {},
   "source": [
    ">https://ocw.mit.edu/courses/18-01sc-single-variable-calculus-fall-2010/resources/mit18_01scf10_exam4/"
   ]
  },
  {
   "cell_type": "markdown",
   "metadata": {},
   "source": [
    "### 问题1\n",
    "- 采用部分积分法，$u=\\ln{t}$ 且 $v^\\prime=t^{\\frac{1}{2}} \\implies v=\\frac{2}{3}t^{\\frac{3}{2}}$  \n",
    "根据 $\\int{uv^\\prime}=uv-\\int{u^\\prime v}$ 可得 $\\int_1^4{\\sqrt{t}\\ln{t}dt}=\\left[\\ln{t} \\cdot \\frac{2}{3}t^{\\frac{3}{2}}\\right]_1^4-\\int_1^4{\\frac{1}{t} \\cdot \\frac{2}{3}t^{\\frac{3}{2}}dt}=\\frac{32}{3}\\ln{2}-\\int_1^4{\\frac{2}{3}t^{\\frac{1}{2}}dt}=\\frac{32}{3}\\ln{2}-\\left[\\frac{4}{9}t^{\\frac{3}{2}}\\right]_1^4=\\frac{32}{3}\\ln{2}-\\frac{28}{9}$"
   ]
  },
  {
   "cell_type": "markdown",
   "metadata": {},
   "source": [
    "### 问题2\n",
    "- 设 $u=\\sec^2{\\theta} \\implies du=2\\sec{\\theta} \\cdot (\\sec{\\theta})^\\prime=2\\sec{\\theta} \\cdot \\sec{\\theta}\\tan{\\theta}=2\\sec^2{\\theta}\\tan{\\theta} \\implies \\sec^2{\\theta}\\tan{\\theta}=\\frac{1}{2}du$  \n",
    "其中 $\\theta$ 由 $0$ 到 $\\frac{\\pi}{4}$ 可得 $u$ 由 $1$ 到 $2$  \n",
    "$\\int_0^{\\pi/4}{\\tan^4{\\theta}\\sec^6{\\theta}d\\theta}=\\int_0^{\\pi/4}{\\tan^3{\\theta}\\sec^4{\\theta} \\cdot \\sec^2{\\theta}\\tan{\\theta}d\\theta}\\\\\n",
    "=\\int_1^2{(u-1)^{3/2}u^2 \\cdot \\frac{1}{2}du}\\\\\n",
    "=\\frac{1}{2}\\int_1^2{u^2(u-1)^{3/2}du}\\\\\n",
    "=\\frac{1}{2}(\\left[u^2 \\cdot \\frac{2}{5}(u-1)^{5/2}\\right]_1^2-\\int_1^2{2u \\cdot \\frac{2}{5}(u-1)^{5/2}du})\\\\\n",
    "=\\frac{1}{2} \\cdot \\frac{8}{5}-\\frac{1}{2} \\cdot \\frac{4}{5}\\int_1^2{u(u-1)^{5/2}du}\\\\\n",
    "=\\frac{4}{5}-\\frac{2}{5}(\\left[u \\cdot \\frac{2}{7}(u-1)^{7/2}\\right]_1^2-\\int_1^2{\\frac{2}{7}(u-1)^{7/2}du})\\\\\n",
    "=\\frac{4}{5}-\\frac{2}{5}(\\frac{4}{7}-\\left[\\frac{2}{7} \\cdot \\frac{2}{9}(u-1)^{9/2}\\right]_1^2)\\\\\n",
    "=\\frac{4}{5}-\\frac{2}{5}(\\frac{4}{7}-\\frac{2}{7} \\cdot \\frac{2}{9})\\\\\n",
    "=\\frac{188}{315}$"
   ]
  },
  {
   "cell_type": "markdown",
   "metadata": {},
   "source": [
    "### 问题3\n",
    "- $\\frac{10}{(x-1)(x^2+9)}=\\frac{A}{x-1}+\\frac{Bx+C}{x^2+9}$ 采用遮蔽法及代入法可得 $A=1, B=-1, C=-1$  \n",
    "因此 $\\int{\\frac{10}{(x-1)(x^2+9)}dx}=\\int{(\\frac{1}{x-1}-\\frac{x+1}{x^2+9})dx}\\\\\n",
    "=\\int{(\\frac{1}{x-1}-\\frac{x}{x^2+9}-\\frac{1}{x^2+9})dx}\\\\\n",
    "=\\int{\\frac{dx}{x-1}}-\\int{\\frac{xdx}{x^2+9}}-\\int{\\frac{dx}{x^2+9}}\\\\\n",
    "=\\ln|x-1|-\\frac{1}{2}\\ln(x^2+9)-\\int{\\frac{dx}{x^2+9}}$ $\\textcircled{1}$  \n",
    "针对 $\\int{\\frac{dx}{x^2+9}}$ 设 $x=3\\tan{u} \\implies dx=3\\sec^2{u}du$ 带入得 $\\int{\\frac{dx}{x^2+9}}=\\int{\\frac{3\\sec^2{u}du}{9\\tan^2{u}+9}}=\\int{\\frac{3\\sec^2{u}du}{9\\sec^2{u}}}=\\int{\\frac{du}{3}}=\\frac{1}{3}u+C=\\frac{1}{3}\\arctan{\\frac{x}{3}}+C$  \n",
    "带回 $\\textcircled{1}$ 得 $\\ln|x-1|-\\frac{1}{2}\\ln(x^2+9)-\\frac{1}{3}\\arctan{\\frac{x}{3}}+C^\\prime$"
   ]
  },
  {
   "cell_type": "markdown",
   "metadata": {},
   "source": [
    "### 问题4\n",
    "- $\\int{\\frac{1}{(5-4x-x^2)^{5/2}}dx}=\\int{\\frac{1}{[9-(x+2)^2]^{5/2}}dx}$ 设 $x+2=3\\sin{\\theta} \\implies dx=3\\cos{\\theta}d\\theta$  \n",
    "带入得 $\\int{\\frac{1}{[9-(x+2)^2]^{5/2}}dx}=\\int{\\frac{3\\cos{\\theta}d\\theta}{(9-9\\sin^2{\\theta})^{5/2}}}=\\int{\\frac{3\\cos{\\theta}d\\theta}{(9\\cos^2{\\theta})^{5/2}}}=\\int{\\frac{3\\cos{\\theta}d\\theta}{3^5\\cos^5{\\theta}}}=\\frac{1}{3^4}\\int{\\sec^4{\\theta}d\\theta}=\\frac{1}{3^4}\\int{\\sec^2{\\theta}(\\tan^2{\\theta}+1)d\\theta}$  \n",
    "设 $u=\\tan{\\theta} \\implies du=\\sec^2{\\theta}d\\theta$ 带入得 $\\int{\\sec^2{\\theta}(\\tan^2{\\theta}+1)d\\theta}=\\int{(u^2+1)du}=\\frac{1}{3}u^3+u+C_1$  \n",
    "带回 $u=\\tan{\\theta}=\\frac{x+2}{\\sqrt{5-4x-x^2}}$ 得原算式为 $\\int{\\frac{1}{(5-4x-x^2)^{5/2}}dx}=\\frac{1}{3^4}(\\frac{1}{3}(\\frac{x+2}{\\sqrt{5-4x-x^2}})^3+\\frac{x+2}{\\sqrt{5-4x-x^2}})+C=\\frac{3^{-5}(x+2)^3}{(5-4x-x^2)^{3/2}}+\\frac{3^{-4}(x+2)}{(5-4x-x^2)^{1/2}}+C$"
   ]
  },
  {
   "cell_type": "markdown",
   "metadata": {},
   "source": [
    "### 问题5\n",
    "- a) $ds=\\sqrt{dx^2+dy^2}=\\sqrt{(\\frac{dx}{dy})^2+1}dy \\implies S=\\int_1^4{\\sqrt{(\\frac{dx}{dy})^2+1}dy}$  \n",
    "由 $x=y+y^3 \\implies \\frac{dx}{dy}=1+3y^2$ 带入得 $S=\\int_1^4{\\sqrt{(1+3y^2)^2+1}dy}$\n",
    "- b) $dA=2\\pi y \\cdot ds\\\\\n",
    "=2\\pi \\cdot a\\sin^3{t} \\cdot \\sqrt{(dx)^2+(dy)^2}\\\\\n",
    "=2a\\pi\\sin^3{t} \\cdot \\sqrt{(3a\\cos^2{t} \\cdot -\\sin{t}dt)^2+(3a\\sin^2{t} \\cdot \\cos{t}dt)^2}\\\\\n",
    "=2a\\pi\\sin^3{t} \\cdot \\sqrt{\\cos^4{t}\\sin^2{t}+\\sin^4{t}\\cos^2{t}} \\cdot (3adt)\\\\\n",
    "=6a^2\\pi\\sin^3{t} \\cdot \\sqrt{\\cos^2{t}\\sin^2{t}(\\cos^2{t}+\\sin^2{t})}dt\\\\\n",
    "=6a^2\\pi\\sin^3{t} \\cdot \\sqrt{\\cos^2{t}\\sin^2{t}}dt\\\\\n",
    "=6a^2\\pi\\sin^3{t} \\cdot \\cos{t}\\sin{t}dt（0 \\le t \\le \\frac{\\pi}{2} \\implies \\cos{t} \\le 0, \\sin{t} \\le 0）\\\\\n",
    "=6a^2\\pi\\sin^4{t}\\cos{t}dt\\\\\n",
    "\\implies A=\\int_0^{\\pi/2}{6a^2\\pi\\sin^4{t}\\cos{t}dt}=6a^2\\pi\\int_0^{\\pi/2}{\\sin^4{t}\\cos{t}dt}$"
   ]
  }
 ],
 "metadata": {
  "language_info": {
   "name": "python"
  }
 },
 "nbformat": 4,
 "nbformat_minor": 2
}
