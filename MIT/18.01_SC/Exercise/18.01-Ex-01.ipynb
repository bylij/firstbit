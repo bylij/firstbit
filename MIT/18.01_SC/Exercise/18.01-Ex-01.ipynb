{
 "cells": [
  {
   "cell_type": "markdown",
   "metadata": {},
   "source": [
    ">https://ocw.mit.edu/courses/18-01sc-single-variable-calculus-fall-2010/resources/mit18_01scf10_ex01prb/  \n",
    ">工具 https://ocw.mit.edu/ans7870/18/18.01SC/f10/mathlets/secantApproximation.html"
   ]
  },
  {
   "cell_type": "markdown",
   "metadata": {},
   "source": [
    "### 问题1\n",
    "- (a) 0.53，0.16，-0.41，-0.59\n",
    "- (b) -0.16\n",
    "- (c) $\\Delta{x} \\in$ (-0.08, 0.10)"
   ]
  },
  {
   "cell_type": "markdown",
   "metadata": {},
   "source": [
    "### 问题2\n",
    "- (a) -0.88，-0.97，-0.97，-0.88\n",
    "- (b) -1.00\n",
    "- (c) $\\Delta{x} \\in$ (-0.46, 0.46)"
   ]
  },
  {
   "cell_type": "markdown",
   "metadata": {},
   "source": [
    "### 问题3\n",
    "- (a) -0.59，-0.41，0.16，0.53\n",
    "- (b) -0.16\n",
    "- (c) $\\Delta{x} \\in$ (-0.10, 0.08)"
   ]
  },
  {
   "cell_type": "markdown",
   "metadata": {},
   "source": [
    "### 问题4\n",
    "- (a) 不相同\n",
    "- (b) 当 $x$ 点所在曲线附近的弯曲度越高时，就需要更小的 $\\Delta{x}$ 才能满足要求"
   ]
  }
 ],
 "metadata": {
  "language_info": {
   "name": "python"
  }
 },
 "nbformat": 4,
 "nbformat_minor": 2
}
