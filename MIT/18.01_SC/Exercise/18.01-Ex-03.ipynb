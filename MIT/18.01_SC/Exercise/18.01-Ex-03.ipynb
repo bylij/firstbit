{
 "cells": [
  {
   "cell_type": "markdown",
   "metadata": {},
   "source": [
    ">https://ocw.mit.edu/courses/18-01sc-single-variable-calculus-fall-2010/resources/mit18_01scf10_ex03prb/"
   ]
  },
  {
   "cell_type": "markdown",
   "metadata": {},
   "source": [
    "### 问题1\n",
    "- $f^\\prime(1)=-10 \\cdot 1+60=50$  \n",
    "$f^\\prime(1) \\gt 0$ 表示一月结束时账户余额将会增加，因此二月的账户余额将会大于一月"
   ]
  },
  {
   "cell_type": "markdown",
   "metadata": {},
   "source": [
    "### 问题2\n",
    "- $f^\\prime(10)=-10 \\cdot 10+60=-40$  \n",
    "$f^\\prime(10) \\lt 0$ 表示十月结束时账户余额将会减少，因此全年来看账户余额不会持续增加"
   ]
  },
  {
   "cell_type": "markdown",
   "metadata": {},
   "source": [
    "### 问题3\n",
    "- 余额函数 $f(t)=-5t^2+60t+120=-5(t-6)^2+300$，当 $t=6$ 时（即六月）余额取得最大值  \n",
    "$f^\\prime(t=6)=-10 \\cdot 6+60=0$"
   ]
  }
 ],
 "metadata": {
  "language_info": {
   "name": "python"
  }
 },
 "nbformat": 4,
 "nbformat_minor": 2
}
