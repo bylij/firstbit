{
 "cells": [
  {
   "cell_type": "markdown",
   "metadata": {},
   "source": [
    ">https://ocw.mit.edu/courses/18-01sc-single-variable-calculus-fall-2010/resources/mit18_01scf10_ex04prb/"
   ]
  },
  {
   "cell_type": "markdown",
   "metadata": {},
   "source": [
    "### 问题\n",
    "- 函数在 $x=0$ 点连续，则 $\\lim\\limits_{x \\to 0^-}\\sin{2x}=\\lim\\limits_{x \\to 0^+}(ax+b)=\\sin{(2 \\cdot 0)}$，可得 $b=0$  \n",
    "函数在 $x=0$ 点不可导，则直线 $ax+b$ 的斜率不等于 $\\sin{2x}$ 在该点处的导数，即 $a \\ne (\\sin{2x})^\\prime|_{x=0}$，可得 $a \\ne 2\\cos{2 \\cdot 0}=2$  \n",
    "结论：$a \\ne 2$ 且 $b=0$ 满足要求"
   ]
  }
 ],
 "metadata": {
  "language_info": {
   "name": "python"
  }
 },
 "nbformat": 4,
 "nbformat_minor": 2
}
