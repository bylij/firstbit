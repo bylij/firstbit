{
 "cells": [
  {
   "cell_type": "markdown",
   "metadata": {},
   "source": [
    ">https://ocw.mit.edu/courses/18-01sc-single-variable-calculus-fall-2010/resources/mit18_01scf10_ex05prb/"
   ]
  },
  {
   "cell_type": "markdown",
   "metadata": {},
   "source": [
    "### 问题1\n",
    "- 函数定义域为 [0, $\\infty$)，只能使用右极限  \n",
    "$\\lim\\limits_{x \\to 0^+}\\sqrt{x}=0$"
   ]
  },
  {
   "cell_type": "markdown",
   "metadata": {},
   "source": [
    "### 问题2\n",
    "- 函数在 $x=-1$ 点不连续，且在两侧靠近该点时分别向正、负无穷方向延申，需要使用单侧极限  \n",
    "$\\lim\\limits_{x \\to -1^-}\\frac{1}{x+1}=-\\infty$，$\\lim\\limits_{x \\to -1^+}\\frac{1}{x+1}=\\infty$"
   ]
  },
  {
   "cell_type": "markdown",
   "metadata": {},
   "source": [
    "### 问题3\n",
    "- 函数在 $x=1$ 点不连续，但在两侧靠近该点时同时向正无穷方向延申，可以使用双侧极限  \n",
    "$\\lim\\limits_{x \\to 1}\\frac{1}{(x-1)^4}=\\infty$"
   ]
  },
  {
   "cell_type": "markdown",
   "metadata": {},
   "source": [
    "### 问题4\n",
    "- 函数在 $x=0$ 点连续，可以使用双侧极限  \n",
    "$\\lim\\limits_{x \\to 0}|\\sin{x}|=0$"
   ]
  },
  {
   "cell_type": "markdown",
   "metadata": {},
   "source": [
    "### 问题5\n",
    "- 函数在 $x=0$ 点为跳跃型不连续，需要使用单侧极限  \n",
    "$\\lim\\limits_{x \\to 0^-}\\frac{|x|}{x}=-1$，$\\lim\\limits_{x \\to 0^+}\\frac{|x|}{x}=1$"
   ]
  }
 ],
 "metadata": {
  "language_info": {
   "name": "python"
  }
 },
 "nbformat": 4,
 "nbformat_minor": 2
}
