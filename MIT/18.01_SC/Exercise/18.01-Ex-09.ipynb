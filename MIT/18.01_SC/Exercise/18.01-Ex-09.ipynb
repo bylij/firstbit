{
 "cells": [
  {
   "cell_type": "markdown",
   "metadata": {},
   "source": [
    ">https://ocw.mit.edu/courses/18-01sc-single-variable-calculus-fall-2010/resources/mit18_01scf10_ex09prb/"
   ]
  },
  {
   "cell_type": "markdown",
   "metadata": {},
   "source": [
    "### 问题\n",
    "- a) 函数在 $x=0$ 点可导，则 $(ax^2+bx+6)^\\prime|_{x=0}=(2x^5+3x^4+4x^2+5x+6)^\\prime|_{x=0}$，即 $2ax+b|_{x=0}=10x^4+12x^3+8x+5|_{x=0}$  \n",
    "可得 $b=5$，$a \\in \\mathbb{R}$\n",
    "- b) 函数在 $x=1$ 点可导，则 $(ax^2+bx+6)^\\prime|_{x=1}=(2x^5+3x^4+4x^2+5x+6)^\\prime|_{x=1}$，即 $2ax+b|_{x=1}=10x^4+12x^3+8x+5|_{x=1}$  \n",
    "可得 $2a+b=35$ $\\textcircled{1}$  \n",
    "可导必连续，因此函数在 $x=1$ 点连续，则 $f(1)=a \\cdot 1^2+b \\cdot 1+6 = \\lim\\limits_{x \\to 1^+}(2x^5+3x^4+4x^2+5x+6)$  \n",
    "可得 $a+b=14$ $\\textcircled{2}$  \n",
    "结合 $\\textcircled{1}$，$\\textcircled{2}$ 两个算式得到 $a=21, b=-7$"
   ]
  }
 ],
 "metadata": {
  "language_info": {
   "name": "python"
  }
 },
 "nbformat": 4,
 "nbformat_minor": 2
}
