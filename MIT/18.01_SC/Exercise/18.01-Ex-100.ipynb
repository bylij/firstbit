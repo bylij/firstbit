{
 "cells": [
  {
   "cell_type": "markdown",
   "metadata": {},
   "source": [
    ">https://ocw.mit.edu/courses/18-01sc-single-variable-calculus-fall-2010/resources/mit18_01scf10_ex100prb/"
   ]
  },
  {
   "cell_type": "markdown",
   "metadata": {},
   "source": [
    "### 问题\n",
    "- a) $f(x)=\\arctan(5x)\\\\\n",
    "\\implies f^\\prime(x)=5((5x)^2+1)^{-1}\\\\\n",
    "\\implies f^{\\prime\\prime}(x)=5(-1)((5x)^2+1)^{-2} \\cdot 2(5x) \\cdot 5=5(-1)(50x)((5x)^2+1)^{-2}\\\\\n",
    "\\implies f^{\\prime\\prime\\prime}(x)=5(-1)(-2)(50x)^2((5x)^2+1)^{-3}\\\\\n",
    "\\implies f^{\\prime\\prime\\prime\\prime}(x)=5(-1)(-2)(-3)(50x)^3((5x)^2+1)^{-4}\\\\\n",
    "... ...\\\\\n",
    "\\implies f^{(n)}(x)=5(-1)^{n-1}(n-1)!(50x)^{n-1}((5x)^2+1)^{-n}=5(-50x)^{n-1}(n-1)!((5x)^2+1)^{-n}$ 其中 $n \\ge 1$ 且 $0!=1$  \n",
    "可知 $x=0$ 时，从二阶导数开始均为 $0$，为了得到更好得近似，这里不直接从 $0$ 展开泰勒公式，而是更通用的在 $x=c$ 处展开  \n",
    "$f(x)=f(c)+f^\\prime(c)(x-c)+\\frac{f^{\\prime\\prime}}{2!}(x-c)^2+\\frac{f^{\\prime\\prime\\prime}}{3!}(x-c)^3+...\\\\\n",
    "=\\arctan{5c}+\\sum\\limits_{n=1}^\\infty\\left[\\frac{f^{(n)}(c)}{n!}(x-c)^n\\right]\\\\\n",
    "=\\arctan{5c}+\\sum\\limits_{n=1}^\\infty\\left[\\frac{5(-50c)^{n-1}(n-1)!((5c)^2+1)^{-n}}{n!}(x-c)^n\\right]\\\\\n",
    "=\\arctan{5c}+\\sum\\limits_{n=1}^\\infty\\left[\\frac{5(-50c)^{n-1}}{n(25c^2+1)^n}(x-c)^n\\right]$\n",
    "- b) 将 $\\sin{x}$ 在 $x=0$ 处泰勒展开得 $\\sin{x}=x-\\frac{x^3}{3!}+\\frac{x^5}{5!}-\\frac{x^7}{7!}+...$  \n",
    "可得 $\\sin{x^2}=x^2-\\frac{(x^2)^3}{3!}+\\frac{(x^2)^5}{5!}-\\frac{(x^2)^7}{7!}+...=\\sum\\limits_{n=0}^\\infty\\left[\\frac{(-1)^n}{(2n+1)!}x^{4n+2}\\right]$  \n",
    "逐项积分 $\\int{\\sin{x^2}dx}=C+\\sum\\limits_{n=0}^\\infty\\left[\\frac{(-1)^n}{(2n+1)!} \\cdot \\frac{x^{4n+3}}{4n+3}\\right]=C+\\sum\\limits_{n=0}^\\infty\\left[\\frac{(-1)^n}{(2n+1)!(4n+3)}x^{4n+3}\\right]$  \n",
    "则 $\\int_0^1{\\sin{x^2}dx}=\\left[\\sum\\limits_{n=0}^\\infty\\left[\\frac{(-1)^n}{(2n+1)!(4n+3)}x^{4n+3}\\right]\\right]_0^1=\\sum\\limits_{n=0}^\\infty\\left[\\frac{(-1)^n}{(2n+1)!(4n+3)}\\right]=\\frac{1}{3}-\\frac{1}{3! \\cdot 7}+\\frac{1}{5! \\cdot 11}-\\frac{1}{7! \\cdot 15}+...$"
   ]
  }
 ],
 "metadata": {
  "language_info": {
   "name": "python"
  }
 },
 "nbformat": 4,
 "nbformat_minor": 2
}
