{
 "cells": [
  {
   "cell_type": "markdown",
   "metadata": {},
   "source": [
    ">https://ocw.mit.edu/courses/18-01sc-single-variable-calculus-fall-2010/resources/mit18_01scf10_ex101prb/"
   ]
  },
  {
   "cell_type": "markdown",
   "metadata": {},
   "source": [
    "### 问题\n",
    "- a) $f(0)=0$ 且 $f(-x)=\\frac{e^{(-x)}-e^{-(-x)}}{2}=\\frac{e^{-x}-e^x}{2}=-f(x)$ 函数过原点且为奇函数  \n",
    "$f^\\prime(x)=\\frac{e^x+e^{-x}}{2} \\gt 0$ 函数不断递增  \n",
    "$f^{\\prime\\prime}(x)=\\frac{e^x-e^{-x}}{2}$ 可得函数在 $x=0$ 处为闪点，$x \\gt 0$ 时 $f^{\\prime\\prime} \\gt 0$ 函数下凹，同理函数在 $x \\lt 0$ 时上凸  \n",
    "具体图形已在草纸上绘制，这里省略\n",
    "- b) 设 $u=e^x \\implies y=\\frac{u-1/u}{2} \\implies u-\\frac{1}{u}=2y \\implies u^2-2yu-1=0$ 解得 $u=\\frac{2y \\pm \\sqrt{(2y)^2-(-1)}}{2}=y \\pm \\sqrt{y^2+1}$ 取 $u=y+\\sqrt{y^2+1}$ (因为 $u=e^x \\gt 0$)  \n",
    "由 $e^x=y+\\sqrt{y^2+1} \\implies x=\\ln{(y+\\sqrt{y^2+1})}$ 因此逆函数为 $\\sinh^{-1}(x)=\\ln{(x+\\sqrt{x^2+1})}$ 定义域为整个实数域 $\\mathbb{R}$  \n",
    "由逆函数和原函数图像关于直线 $y=x$ 镜像对称的特性很容易绘制函数图像，这里省略\n",
    "- c) $\\frac{d}{dx}\\sinh^{-1}(x)=\\ln{(x+\\sqrt{x^2+1})}^\\prime\\\\\n",
    "=\\frac{1}{x+\\sqrt{x^2+1}} \\cdot (x+\\sqrt{x^2+1})^\\prime\\\\\n",
    "=\\frac{1}{x+\\sqrt{x^2+1}} \\cdot (1+\\frac{1}{2} \\cdot \\frac{1}{\\sqrt{x^2+1}} \\cdot 2x)\\\\\n",
    "=\\frac{1}{x+\\sqrt{x^2+1}} \\cdot (1+\\frac{x}{\\frac{1}{\\sqrt{x^2+1}}})\\\\\n",
    "=\\frac{1}{x+\\sqrt{x^2+1}} \\cdot \\frac{\\sqrt{x^2+1}+x}{\\sqrt{x^2+1}}\\\\\n",
    "=\\frac{1}{\\sqrt{x^2+1}}$\n",
    "- d) $\\frac{d}{dx}\\sinh^{-1}(x)=\\frac{1}{\\sqrt{1+x^2}} \\implies \\frac{d}{dx}\\sinh^{-1}(\\frac{x}{a})=\\frac{1}{\\sqrt{1+(\\frac{x}{a})^2}}=\\frac{|a|}{\\sqrt{a^2+x^2}}$  \n",
    "可得 $\\int{\\frac{dx}{\\sqrt{a^2+x^2}}}=\\frac{1}{|a|}\\int{\\frac{|a|dx}{\\sqrt{a^2+x^2}}}=\\frac{1}{|a|}\\sinh^{-1}(\\frac{x}{a})+C=\\frac{1}{|a|}\\ln{(\\frac{x}{a}+\\sqrt{(\\frac{x}{a})^2+1})}+C$"
   ]
  }
 ],
 "metadata": {
  "language_info": {
   "name": "python"
  }
 },
 "nbformat": 4,
 "nbformat_minor": 2
}
