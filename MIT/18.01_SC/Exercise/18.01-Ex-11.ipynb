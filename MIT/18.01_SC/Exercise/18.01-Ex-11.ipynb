{
 "cells": [
  {
   "cell_type": "markdown",
   "metadata": {},
   "source": [
    ">https://ocw.mit.edu/courses/18-01sc-single-variable-calculus-fall-2010/resources/mit18_01scf10_ex11prb/"
   ]
  },
  {
   "cell_type": "markdown",
   "metadata": {},
   "source": [
    "### 问题\n",
    "- a) $(\\frac{x^3}{x+1})^\\prime=\\frac{(x^3)^\\prime \\cdot (x+1) - x^3 \\cdot (x+1)^\\prime}{(x+1)^2}=\\frac{3x^2 \\cdot (x+1) - x^3}{(x+1)^2}=\\frac{2x^3+3x^2}{(x+1)^2}$\n",
    "- b) $(x^3 \\cdot (x+1)^{-1})^\\prime\\\\\n",
    "=(x^3)^\\prime \\cdot (x+1)^{-1}+x^3 \\cdot ((x+1)^{-1})^\\prime\\\\\n",
    "=3x^2 \\cdot (x+1)^{-1}+x^3 \\cdot -1 \\cdot (x+1)^{-2} \\cdot (x+1)^\\prime\\\\\n",
    "=\\frac{3x^2}{x+1}-\\frac{x^3}{(x+1)^2}\\\\\n",
    "=\\frac{3x^2(x+1)-x^3}{(x+1)^2}\\\\\n",
    "=\\frac{2x^3+3x^2}{(x+1)^2}$\n",
    "- c) $(u \\cdot v^{-1})^\\prime\\\\\n",
    "=u^\\prime \\cdot v^{-1}+u \\cdot (v^{-1})^\\prime\\\\\n",
    "=\\frac{u^\\prime}{v}+u \\cdot -1 \\cdot v^{-2} \\cdot v^\\prime\\\\\n",
    "=\\frac{u^\\prime \\cdot v - u \\cdot v^\\prime}{v^2}$"
   ]
  }
 ],
 "metadata": {
  "language_info": {
   "name": "python"
  }
 },
 "nbformat": 4,
 "nbformat_minor": 2
}
