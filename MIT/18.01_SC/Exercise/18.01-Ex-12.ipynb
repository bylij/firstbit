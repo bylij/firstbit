{
 "cells": [
  {
   "cell_type": "markdown",
   "metadata": {},
   "source": [
    ">https://ocw.mit.edu/courses/18-01sc-single-variable-calculus-fall-2010/resources/mit18_01scf10_ex12prb/  \n",
    ">工具 https://ocw.mit.edu/ans7870/18/18.01SC/f10/mathlets/creatingDerivative.html"
   ]
  },
  {
   "cell_type": "markdown",
   "metadata": {},
   "source": [
    "### 问题\n",
    "- a) 函数 $f(x)=\\sin{x}$ 和 $f(x)=\\cos{x}$ 满足要求\n",
    "- b) $\\sin{x}+\\cos{x}$ 或 $\\sin{x}-\\cos{x}$"
   ]
  }
 ],
 "metadata": {
  "language_info": {
   "name": "python"
  }
 },
 "nbformat": 4,
 "nbformat_minor": 2
}
