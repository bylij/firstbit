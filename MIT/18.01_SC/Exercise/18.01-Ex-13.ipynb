{
 "cells": [
  {
   "cell_type": "markdown",
   "metadata": {},
   "source": [
    ">https://ocw.mit.edu/courses/18-01sc-single-variable-calculus-fall-2010/resources/mit18_01scf10_ex13prb/"
   ]
  },
  {
   "cell_type": "markdown",
   "metadata": {},
   "source": [
    "### 问题\n",
    "- $(x^2+4y^2)^\\prime=1^\\prime \\implies 2x+8y \\cdot y^\\prime=0 \\implies y^\\prime = -\\frac{x}{4y}$ $\\textcircled{1}$  \n",
    "$(x+4y \\cdot y^\\prime)^\\prime=0^\\prime \\implies 1+4(y^\\prime \\cdot y^\\prime+y \\cdot (y^\\prime)^\\prime)=0 \\implies 1+4((y^\\prime)^2+y \\cdot y^{\\prime\\prime})=0$  \n",
    "将 $\\textcircled{1}$ 带入上面的式子得 $y^{\\prime\\prime}=\\frac{1}{y} \\cdot (-\\frac{1}{4}-\\frac{x^2}{16y^2})=-\\frac{4y^2+x^2}{16y^3}=-\\frac{1}{16y^3}$ $\\textcircled{2}$  \n",
    "由 $x^2+4y^2=1$ 得 $y=\\pm \\frac{\\sqrt{1-x^2}}{2}$ 带入到 $\\textcircled{2}$ 最终得 $y^{\\prime\\prime}=\\pm \\frac{1}{2\\sqrt{(1-x^2)^3}}$"
   ]
  }
 ],
 "metadata": {
  "language_info": {
   "name": "python"
  }
 },
 "nbformat": 4,
 "nbformat_minor": 2
}
