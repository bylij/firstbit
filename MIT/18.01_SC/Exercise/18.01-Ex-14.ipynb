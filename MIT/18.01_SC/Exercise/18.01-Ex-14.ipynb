{
 "cells": [
  {
   "cell_type": "markdown",
   "metadata": {},
   "source": [
    ">https://ocw.mit.edu/courses/18-01sc-single-variable-calculus-fall-2010/resources/mit18_01scf10_ex14prb/"
   ]
  },
  {
   "cell_type": "markdown",
   "metadata": {},
   "source": [
    "### 问题\n",
    "- a) $(y^2-x^2)^\\prime=0 \\implies 2y \\cdot y^\\prime-2x=0 \\implies y^\\prime=\\frac{x}{y}$  \n",
    "由 $y^2-x^2=1$ 得 $y=\\pm \\sqrt{1+x^2}$ 带入最终得 $y^\\prime=\\pm \\frac{x}{\\sqrt{1+x^2}}$\n",
    "- b) 当 $y=-1, x=1$ 时，根据曲线图像预估斜率范围 $(-1, 0)$，$y \\lt 0$ 则 (a) 中结果取 $y^\\prime=-\\frac{x}{\\sqrt{1+x^2}}=-\\frac{1}{\\sqrt{2}}$ 满足预估\n",
    "- c) $y \\gt 0$ 得 $y=\\sqrt{1+x^2}=(1+x^2)^{\\frac{1}{2}}$，求导 $y^\\prime=\\frac{1}{2} \\cdot (1+x^2)^{-\\frac{1}{2}} \\cdot (1+x^2)^\\prime=\\frac{x}{\\sqrt{1+x^2}}$ 这符合 (a) 中的结果"
   ]
  }
 ],
 "metadata": {
  "language_info": {
   "name": "python"
  }
 },
 "nbformat": 4,
 "nbformat_minor": 2
}
