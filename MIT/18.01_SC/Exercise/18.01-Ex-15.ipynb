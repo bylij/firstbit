{
 "cells": [
  {
   "cell_type": "markdown",
   "metadata": {},
   "source": [
    ">https://ocw.mit.edu/courses/18-01sc-single-variable-calculus-fall-2010/resources/mit18_01scf10_ex15prb/"
   ]
  },
  {
   "cell_type": "markdown",
   "metadata": {},
   "source": [
    "### 问题\n",
    "- a) 逆函数 $f^{-1}(x)=\\sqrt{x}, x \\gt 0$  \n",
    "由 $y=\\sqrt{x}$ 得 $y^2=x \\implies (y^2)^\\prime=x^\\prime \\implies 2y \\cdot y^\\prime=1 \\implies y^\\prime=\\frac{1}{2y}=\\frac{1}{2\\sqrt{x}}$\n",
    "- b) 对 $y=\\sqrt{x}=x^{\\frac{1}{2}}$ 直接求导 $y^\\prime=\\frac{1}{2} \\cdot x^{-\\frac{1}{2}}=\\frac{1}{2\\sqrt{x}}$ 与 (a) 中结果一致"
   ]
  }
 ],
 "metadata": {
  "language_info": {
   "name": "python"
  }
 },
 "nbformat": 4,
 "nbformat_minor": 2
}
