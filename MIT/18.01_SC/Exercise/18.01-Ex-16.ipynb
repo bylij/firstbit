{
 "cells": [
  {
   "cell_type": "markdown",
   "metadata": {},
   "source": [
    ">https://ocw.mit.edu/courses/18-01sc-single-variable-calculus-fall-2010/resources/mit18_01scf10_ex16prb/"
   ]
  },
  {
   "cell_type": "markdown",
   "metadata": {},
   "source": [
    "### 问题1\n",
    "- $r=0.05, k=12$ 计算 $APR=(1+\\frac{0.05}{12})^{12}-1 \\approx 5.116\\%$  \n",
    "$r=0.05, k=365$ 计算 $APR=(1+\\frac{0.05}{365})^{365}-1 \\approx 5.127\\%$"
   ]
  },
  {
   "cell_type": "markdown",
   "metadata": {},
   "source": [
    "### 问题2\n",
    "- $r=0.1, k=12$ 计算 $APR=(1+\\frac{0.1}{12})^{12}-1 \\approx 10.471\\%$  \n",
    "$r=0.1, k=26$ 计算 $APR=(1+\\frac{0.1}{26})^{26}-1 \\approx 10.496\\%$  \n",
    "$r=0.1, k=365$ 计算 $APR=(1+\\frac{0.1}{365})^365-1 \\approx 10.516\\%$"
   ]
  }
 ],
 "metadata": {
  "language_info": {
   "name": "python"
  }
 },
 "nbformat": 4,
 "nbformat_minor": 2
}
