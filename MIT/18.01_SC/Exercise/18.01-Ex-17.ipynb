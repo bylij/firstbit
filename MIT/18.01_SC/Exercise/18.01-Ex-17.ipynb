{
 "cells": [
  {
   "cell_type": "markdown",
   "metadata": {},
   "source": [
    ">https://ocw.mit.edu/courses/18-01sc-single-variable-calculus-fall-2010/resources/mit18_01scf10_ex17prb/"
   ]
  },
  {
   "cell_type": "markdown",
   "metadata": {},
   "source": [
    "### 问题1\n",
    "- $\\ln{(y+1)}+\\ln{(y−1)}=2x+\\ln{x}\\\\\n",
    "\\implies \\ln{(y+1)(y-1)}=2x+\\ln{x}\\\\\n",
    "\\implies \\ln{(y^2-1)}=2x+\\ln{x}\\\\\n",
    "\\implies y^2-1=e^{2x+\\ln{x}}=e^{2x} \\cdot e^{\\ln{x}}\\\\\n",
    "\\implies y^2=1+xe^{2x}$  \n",
    "由 $y+1 \\gt 0$ 且 $y-1 \\gt 0$ 得 $y \\gt 1$  \n",
    "取 $y=\\sqrt{1+xe^{2x}}$"
   ]
  },
  {
   "cell_type": "markdown",
   "metadata": {},
   "source": [
    "### 问题2\n",
    "- $\\log{(y+1)}=x^2+\\log{(y−1)}\\\\\n",
    "\\implies \\log{(y+1)}-\\log{(y-1)}=x^2\\\\\n",
    "\\implies \\log{\\frac{y+1}{y-1}}=x^2\\\\\n",
    "\\implies \\frac{y+1}{y-1}=10^{x^2}$  \n",
    "解得 $y=\\frac{10^{x^2}+1}{10^{x^2}-1}$"
   ]
  },
  {
   "cell_type": "markdown",
   "metadata": {},
   "source": [
    "### 问题3\n",
    "- $2\\ln{y}=\\ln{(y+1)}+x\\\\\n",
    "\\implies \\ln{y^2}-\\ln{(y+1)}=x\\\\\n",
    "\\implies \\ln{\\frac{y^2}{y+1}}=x\\\\\n",
    "\\implies \\frac{y^2}{y+1}=e^x\\\\\n",
    "\\implies y^2-e^xy-e^x=0\\\\\n",
    "\\implies y=\\frac{e^x \\pm \\sqrt{(e^x)^2+4e^x}}{2}$  \n",
    "由 $y \\gt 0$ 且 $y+1 \\gt 0$ 得 $y \\gt 0$，取 $y=\\frac{e^x+\\sqrt{e^{2x}+4e^x}}{2}$"
   ]
  },
  {
   "cell_type": "markdown",
   "metadata": {},
   "source": [
    "### 问题4\n",
    "- $\\frac{e^x+e^{-x}}{e^x-e^{-x}}=y\\\\\n",
    "\\implies e^x+\\frac{1}{e^x}=y(e^x-\\frac{1}{e^x})=ye^x-\\frac{y}{e^x}\\\\\n",
    "\\implies \\frac{y+1}{e^x}=(y-1)e^x\\\\\n",
    "\\implies (e^x)^2=e^{2x}=\\frac{y+1}{y-1}\\\\\n",
    "\\implies 2x=ln{\\frac{y+1}{y-1}}\\\\\n",
    "\\implies x=\\frac{1}{2}\\ln{\\frac{y+1}{y-1}}$"
   ]
  },
  {
   "cell_type": "markdown",
   "metadata": {},
   "source": [
    "### 问题5\n",
    "- $y=e^x+e^{-x}=e^x+\\frac{1}{e^x}\\\\\n",
    "\\implies (e^x)^2-ye^x+1=0$  \n",
    "解得 $e^x=\\frac{y \\pm \\sqrt{y^2-4}}{2} \\implies x=ln{\\frac{y \\pm \\sqrt{y^2-4}}{2}}$"
   ]
  }
 ],
 "metadata": {
  "language_info": {
   "name": "python"
  }
 },
 "nbformat": 4,
 "nbformat_minor": 2
}
