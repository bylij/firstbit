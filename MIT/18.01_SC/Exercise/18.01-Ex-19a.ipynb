{
 "cells": [
  {
   "cell_type": "markdown",
   "metadata": {},
   "source": [
    ">https://ocw.mit.edu/courses/18-01sc-single-variable-calculus-fall-2010/resources/mit18_01scf10_ex19aprb/"
   ]
  },
  {
   "cell_type": "markdown",
   "metadata": {},
   "source": [
    "### 问题1\n",
    "- $\\lim\\limits_{n \\to \\infty}(1+\\frac{1}{n})^{3n}=(\\lim\\limits_{n \\to \\infty}(1+\\frac{1}{n})^n)^3=e^3$"
   ]
  },
  {
   "cell_type": "markdown",
   "metadata": {},
   "source": [
    "### 问题2\n",
    "- $\\lim\\limits_{n \\to \\infty}(1+\\frac{2}{n})^{5n}=\\lim\\limits_{n \\to \\infty}(1+\\frac{2}{n})^{\\frac{n}{2} \\cdot 10}=(\\lim\\limits_{\\frac{n}{2} \\to \\infty}(1+\\frac{2}{n})^{\\frac{n}{2}})^{10}=e^{10}$"
   ]
  },
  {
   "cell_type": "markdown",
   "metadata": {},
   "source": [
    "### 问题3\n",
    "- $\\lim\\limits_{n \\to \\infty}(1+\\frac{1}{2n})^{5n}=\\lim\\limits_{n \\to \\infty}(1+\\frac{1}{2n})^{2n \\cdot \\frac{5}{2}}=(\\lim\\limits_{2n \\to \\infty}(1+\\frac{1}{2n})^{2n})^{\\frac{5}{2}}=e^{\\frac{5}{2}}$"
   ]
  }
 ],
 "metadata": {
  "language_info": {
   "name": "python"
  }
 },
 "nbformat": 4,
 "nbformat_minor": 2
}
