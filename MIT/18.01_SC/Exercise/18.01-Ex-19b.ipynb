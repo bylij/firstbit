{
 "cells": [
  {
   "cell_type": "markdown",
   "metadata": {},
   "source": [
    ">https://ocw.mit.edu/courses/18-01sc-single-variable-calculus-fall-2010/resources/mit18_01scf10_ex19bprb/"
   ]
  },
  {
   "cell_type": "markdown",
   "metadata": {},
   "source": [
    "### 问题1\n",
    "- $APR_c=\\lim\\limits_{k \\to \\infty}(1+\\frac{r}{k})^k-1=\\lim\\limits_{\\frac{k}{r} \\to \\infty}(1+\\frac{r}{k})^{\\frac{k}{r} \\cdot r}-1=e^r-1$  \n",
    "$r=0.05$，$APR_c \\approx 5.127\\%$"
   ]
  },
  {
   "cell_type": "markdown",
   "metadata": {},
   "source": [
    "### 问题2\n",
    "- $r=0.1$，$APR_c \\approx 10.517\\%$"
   ]
  }
 ],
 "metadata": {
  "language_info": {
   "name": "python"
  }
 },
 "nbformat": 4,
 "nbformat_minor": 2
}
