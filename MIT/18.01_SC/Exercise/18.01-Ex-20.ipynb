{
 "cells": [
  {
   "cell_type": "markdown",
   "metadata": {},
   "source": [
    ">https://ocw.mit.edu/courses/18-01sc-single-variable-calculus-fall-2010/resources/mit18_01scf10_ex20prb/"
   ]
  },
  {
   "cell_type": "markdown",
   "metadata": {},
   "source": [
    "### 问题\n",
    "- $\\sinh{(x+y)}\\\\\n",
    "=\\frac{e^{(x+y)}-e^{-(x+y)}}{2}\\\\\n",
    "=\\frac{1}{2} \\cdot (e^x \\cdot e^y-e^{-x} \\cdot e^{-y})\\\\\n",
    "=\\frac{1}{2} \\cdot \\frac{1}{2} \\cdot (e^x \\cdot e^y-e^{-x} \\cdot e^{-y}+e^x \\cdot e^y-e^{-x} \\cdot e^{-y})\\\\\n",
    "=\\frac{1}{2} \\cdot \\frac{1}{2} \\cdot [(e^x \\cdot e^y-e^{-x} \\cdot e^{-y}+e^x \\cdot e^{-y}-e^{-x} \\cdot e^y)+(e^x \\cdot e^y-e^{-x} \\cdot e^{-y}-e^x \\cdot e^{-y}+e^{-x} \\cdot e^y)]\\\\\n",
    "=\\frac{1}{2} \\cdot [(e^x \\cdot \\frac{e^y+e^{-y}}{2}-e^{-x} \\cdot \\frac{e^{-y}+e^y}{2})+(e^x \\cdot \\frac{e^y-e^{-y}}{2}+e^{-x} \\cdot \\frac{e^y-e^{-y}}{2})]\\\\\n",
    "=\\frac{1}{2} \\cdot [(e^x-e^{-x}) \\cdot \\frac{e^y+e^{-y}}{2}+(e^x+e^{-x}) \\cdot \\frac{e^y-e^{-y}}{2}]\\\\\n",
    "=\\frac{e^x-e^{-x}}{2} \\cdot \\frac{e^y+e^{-y}}{2}+\\frac{e^x+e^{-x}}{2} \\cdot \\frac{e^y-e^{-y}}{2}\\\\\n",
    "=\\sinh{x} \\cdot \\cosh{y}+\\cosh{x} \\cdot \\sinh{y}$  \n",
    "同理可得 $\\cosh(x+y)=\\sinh{x} \\cdot \\sinh{y}+\\cosh{x} \\cdot \\cosh{y}$"
   ]
  }
 ],
 "metadata": {
  "language_info": {
   "name": "python"
  }
 },
 "nbformat": 4,
 "nbformat_minor": 2
}
