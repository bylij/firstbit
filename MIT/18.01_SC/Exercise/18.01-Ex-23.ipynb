{
 "cells": [
  {
   "cell_type": "markdown",
   "metadata": {},
   "source": [
    ">https://ocw.mit.edu/courses/18-01sc-single-variable-calculus-fall-2010/resources/mit18_01scf10_ex23prb/"
   ]
  },
  {
   "cell_type": "markdown",
   "metadata": {},
   "source": [
    "### 问题\n",
    "- $\\sin{x} \\approx x$ 在 $x=0$ 处  \n",
    "$\\sin0.01 \\approx 0.01$ 对比计算器结果 0.0099  \n",
    "$\\sin0.1 \\approx 0.1$ 对比计算器结果 0.099  \n",
    "$\\sin1 \\approx 1$ 对比计算器结果 0.84"
   ]
  }
 ],
 "metadata": {
  "language_info": {
   "name": "python"
  }
 },
 "nbformat": 4,
 "nbformat_minor": 2
}
