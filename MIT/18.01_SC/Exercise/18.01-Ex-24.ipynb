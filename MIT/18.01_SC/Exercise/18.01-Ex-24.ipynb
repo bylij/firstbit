{
 "cells": [
  {
   "cell_type": "markdown",
   "metadata": {},
   "source": [
    ">https://ocw.mit.edu/courses/18-01sc-single-variable-calculus-fall-2010/resources/mit18_01scf10_ex24prb/"
   ]
  },
  {
   "cell_type": "markdown",
   "metadata": {},
   "source": [
    "### 问题\n",
    "- $f(x) \\cdot g(x)=f^\\prime(x) \\cdot g(x)+f(x) \\cdot g^\\prime(x)\\\\\n",
    "\\implies f(x) \\cdot g(x) \\approx f(0) \\cdot g(0)+[f^\\prime(0) \\cdot g(0)+f(0) \\cdot g^\\prime(0)]x$ $\\textcircled{1}$  \n",
    "$f(x) \\approx f(0)+f^\\prime(0)x, g(x) \\approx g(0)+g^\\prime(0)x\\\\\n",
    "\\implies f(x) \\cdot g(x) \\approx (f(0)+f^\\prime(0)x)(g(0)+g^\\prime(0)x)\\\\\n",
    "=f(0) \\cdot g(0)+[f^\\prime(0) \\cdot g(0)+f(0) \\cdot g^\\prime(0)]x+f^\\prime(0)g^\\prime(0)x^2\\\\\n",
    "\\approx \\cdot g(0)+[f^\\prime(0) \\cdot g(0)+f(0) \\cdot g^\\prime(0)]x$ 与 $\\textcircled{1}$ 一致，命题成立  \n",
    "以上均满足 $x \\approx 0$"
   ]
  }
 ],
 "metadata": {
  "language_info": {
   "name": "python"
  }
 },
 "nbformat": 4,
 "nbformat_minor": 2
}
