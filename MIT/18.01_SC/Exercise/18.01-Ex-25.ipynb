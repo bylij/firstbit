{
 "cells": [
  {
   "cell_type": "markdown",
   "metadata": {},
   "source": [
    ">https://ocw.mit.edu/courses/18-01sc-single-variable-calculus-fall-2010/resources/mit18_01scf10_ex25prb/"
   ]
  },
  {
   "cell_type": "markdown",
   "metadata": {},
   "source": [
    "### 问题\n",
    "- $e^x \\approx 1+x+\\frac{x^2}{2}$  \n",
    "$e^{.01} \\approx 1.01005$ 对比计算器结果 $1.010050167$  \n",
    "$e^{0.1} \\approx 1.105$ 对比计算器结果 $1.10517$  \n",
    "$e \\approx 2$  对比计算器结果 $2.71828$"
   ]
  }
 ],
 "metadata": {
  "language_info": {
   "name": "python"
  }
 },
 "nbformat": 4,
 "nbformat_minor": 2
}
