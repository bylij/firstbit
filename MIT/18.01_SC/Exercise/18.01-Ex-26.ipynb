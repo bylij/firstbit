{
 "cells": [
  {
   "cell_type": "markdown",
   "metadata": {},
   "source": [
    ">https://ocw.mit.edu/courses/18-01sc-single-variable-calculus-fall-2010/resources/mit18_01scf10_ex26prb/"
   ]
  },
  {
   "cell_type": "markdown",
   "metadata": {},
   "source": [
    "### 问题\n",
    "- a) $A^{\\prime\\prime\\prime}=a_3 \\cdot 3 \\cdot 2 \\cdot 1=6a_3 \\implies a_3=\\frac{A^{\\prime\\prime\\prime}(0)}{6}\\\\\n",
    "\\implies A(x) \\approx A(0)+A^\\prime(0)x+\\frac{A^{\\prime\\prime}(0)}{2}x^2+\\frac{A^{\\prime\\prime\\prime}(0)}{6}x^3$\n",
    "- b) $A^{(n)}(x)=a_n \\cdot n!$\n",
    "- c) $f(x) \\approx f(0)+f^\\prime(0)x+\\frac{f^{\\prime\\prime}(0)}{2}x^2+...+\\frac{f^{(n-1)}}{(n-1)!}x^{n-1}+\\frac{f^{(n)}}{n!}x^{n}$"
   ]
  }
 ],
 "metadata": {
  "language_info": {
   "name": "python"
  }
 },
 "nbformat": 4,
 "nbformat_minor": 2
}
