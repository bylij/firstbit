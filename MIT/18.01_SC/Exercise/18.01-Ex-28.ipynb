{
 "cells": [
  {
   "cell_type": "markdown",
   "metadata": {},
   "source": [
    ">https://ocw.mit.edu/courses/18-01sc-single-variable-calculus-fall-2010/resources/mit18_01scf10_ex28prb/  \n",
    ">（工具）https://ocw.mit.edu/ans7870/18/18.01SC/f10/mathlets/graphFeatures.html"
   ]
  },
  {
   "cell_type": "markdown",
   "metadata": {},
   "source": [
    "### 问题\n",
    "- $a=-0.20, b=1.8, c=-1.8, d=0$  \n",
    "可以通过更改 $d$ 的取值而获得不同的曲线，因为 $d$ 的取值不影响 $f^\\prime(x)$ 和 $f^{\\prime\\prime}$ 的值，即不会影响曲线的上升下降以及弯曲度朝向的特性"
   ]
  }
 ],
 "metadata": {
  "language_info": {
   "name": "python"
  }
 },
 "nbformat": 4,
 "nbformat_minor": 2
}
