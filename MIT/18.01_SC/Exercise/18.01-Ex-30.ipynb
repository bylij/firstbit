{
 "cells": [
  {
   "cell_type": "markdown",
   "metadata": {},
   "source": [
    ">https://ocw.mit.edu/courses/18-01sc-single-variable-calculus-fall-2010/resources/mit18_01scf10_ex30prb/"
   ]
  },
  {
   "cell_type": "markdown",
   "metadata": {},
   "source": [
    "### 问题\n",
    "- 限制条件 $V=\\pi r^2h$  \n",
    "$S=2\\pi rh+2\\pi r^2=2\\pi r \\cdot \\frac{V}{\\pi r^2}+2\\pi r^2=\\frac{2V}{r}+2\\pi r^2\\\\\n",
    "\\implies S^\\prime=-\\frac{2V}{r^2}+4\\pi r$  \n",
    "由 $S^\\prime=0 \\implies r=\\sqrt[3]{\\frac{V}{2\\pi}}$ 为极点  \n",
    "验证 $S(r=0^+)=\\infty, S(r=\\infty)=\\infty$ 可知 $S$ 在极点取得最小值  \n",
    "$r=\\sqrt[3]{\\frac{1000}{2\\pi}}=\\frac{10}{\\sqrt[3]{2\\pi}} \\approx 5.419, h=\\frac{20}{\\sqrt[3]{2\\pi}} \\approx 10.838$"
   ]
  }
 ],
 "metadata": {
  "language_info": {
   "name": "python"
  }
 },
 "nbformat": 4,
 "nbformat_minor": 2
}
