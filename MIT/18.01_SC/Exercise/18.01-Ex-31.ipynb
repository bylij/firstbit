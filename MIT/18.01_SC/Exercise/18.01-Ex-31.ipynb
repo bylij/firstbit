{
 "cells": [
  {
   "cell_type": "markdown",
   "metadata": {},
   "source": [
    ">https://ocw.mit.edu/courses/18-01sc-single-variable-calculus-fall-2010/resources/mit18_01scf10_ex31prb/"
   ]
  },
  {
   "cell_type": "markdown",
   "metadata": {},
   "source": [
    "### 问题\n",
    "- 限制条件 $V=\\frac{2}{3}\\pi r^3+\\pi r^2h \\implies V^\\prime=0=\\frac{2}{3}\\pi \\cdot 3r^2+\\pi (2rh+r^2h^\\prime) \\implies h^\\prime=-\\frac{2r+2h}{r}$ $\\textcircled{1}$\n",
    "- a) $S=3\\pi r^2+2\\pi rh \\implies S^\\prime=6\\pi r+2\\pi (h+rh^\\prime)$  \n",
    "将 $\\textcircled{1}$ 带入得 $S^\\prime=2\\pi (r-h)$ 可得 $r=h$ 为极点  \n",
    "$V=\\frac{2}{3}\\pi r^3+\\pi r^2h \\implies h=\\frac{V-\\frac{2}{3}\\pi r^3}{\\pi r^2}$ 带入 $S$ 得 $S=\\frac{2V}{r}+\\frac{5}{3}\\pi r^2$ 验证 $S(0^+)=\\infty, S(\\infty)=\\infty$  \n",
    "则 $S$ 在极点取得最小值，$r=h$ 的谷仓最优\n",
    "- b) $S=2\\pi r^2+2\\pi rh \\implies S^\\prime=4\\pi r+2\\pi (h+rh^\\prime)$  \n",
    "将 $\\textcircled{1}$ 带入得 $S^\\prime=-2\\pi h$ 可知 $S$ 在 $h=0$ 时取得最小值，此时 $r=\\sqrt[3]{\\frac{3V}{2\\pi}}$"
   ]
  }
 ],
 "metadata": {
  "language_info": {
   "name": "python"
  }
 },
 "nbformat": 4,
 "nbformat_minor": 2
}
