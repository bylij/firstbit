{
 "cells": [
  {
   "cell_type": "markdown",
   "metadata": {},
   "source": [
    ">https://ocw.mit.edu/courses/18-01sc-single-variable-calculus-fall-2010/resources/mit18_01scf10_ex33prb/"
   ]
  },
  {
   "cell_type": "markdown",
   "metadata": {},
   "source": [
    "### 问题\n",
    "- $f(x)=x^3$ 且 $x_0 > 0$  \n",
    "可知 $f^\\prime(x)=3x^2$  \n",
    "根据牛顿法 $x_1=x_0-\\frac{f(x_0)}{f^\\prime(x_0)}=x_0-\\frac{x_0^3}{3x_0^2}=\\frac{2}{3}x_0$  \n",
    "$x_2=x_1-\\frac{f(x_1)}{f^\\prime(x_1)}=x_1-\\frac{x_1^3}{3x_1^2}=\\frac{2}{3}x_1=(\\frac{2}{3})^2x_0$  \n",
    "...  \n",
    "$x_n=(\\frac{2}{3})^nx_0 \\gt 0$  \n",
    "当 $n \\to \\infty$ 时 $x_n \\to 0$ 但是无法取得 0，命题成立"
   ]
  }
 ],
 "metadata": {
  "language_info": {
   "name": "python"
  }
 },
 "nbformat": 4,
 "nbformat_minor": 2
}
