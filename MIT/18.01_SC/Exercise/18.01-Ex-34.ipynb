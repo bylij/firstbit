{
 "cells": [
  {
   "cell_type": "markdown",
   "metadata": {},
   "source": [
    ">https://ocw.mit.edu/courses/18-01sc-single-variable-calculus-fall-2010/resources/mit18_01scf10_ex34prb/"
   ]
  },
  {
   "cell_type": "markdown",
   "metadata": {},
   "source": [
    "### 问题\n",
    "- 差值公式 $diff=\\frac{f^{(n)}(c)-f^{(n)}(a)}{n!}(b-a)^n$  \n",
    "$f(x)=x^3+2x+1 \\implies f^\\prime(x)=3x^2+2 \\implies f^{\\prime\\prime}(x)=6x$  \n",
    "$f(1)=4, f^\\prime(1)=5, f^{\\prime\\prime}=6$  \n",
    "二次近似 $f(3) \\approx f(1)+f^\\prime(1)(3-1)+\\frac{f^{\\prime\\prime}(1)}{2}(3-1)^2=26$  \n",
    "中值定理 $f(3)=f(1)+f^\\prime(1)(3-1)+\\frac{f^{\\prime\\prime}(c)}{2}(3-1)^2=14+12c$，可得差值为 $14+12c=26=12(c-1)$ $\\textcircled{1}$  \n",
    "由差值公式 $diff=\\frac{f^{(2)}(c)-f^{(2)}(1)}{2!}(3-1)^2=\\frac{f^{\\prime\\prime}(c)-f^{\\prime\\prime}(1)}{2!}(3-1)^2=\\frac{6c-6}{2} \\cdot 2^2=12(c-1)$ 与 $\\textcircled{1}$ 一致\n"
   ]
  }
 ],
 "metadata": {
  "language_info": {
   "name": "python"
  }
 },
 "nbformat": 4,
 "nbformat_minor": 2
}
