{
 "cells": [
  {
   "cell_type": "markdown",
   "metadata": {},
   "source": [
    ">https://ocw.mit.edu/courses/18-01sc-single-variable-calculus-fall-2010/resources/mit18_01scf10_ex35prb/"
   ]
  },
  {
   "cell_type": "markdown",
   "metadata": {},
   "source": [
    "### 问题\n",
    "- 设 $f(x)=\\sin{x}$ 根据 MVT 得 $\\frac{\\sin{b}-\\sin{a}}{b-a}=f^\\prime(c)=\\cos{c}, c \\in (a, b)$，$(a \\lt b)$  \n",
    "因此 $\\frac{|\\sin{b}-\\sin{a}|}{|b-a|}=|\\cos{c}| \\le 1 \\implies |\\sin{b}-\\sin{a}| \\le |b-a|$"
   ]
  }
 ],
 "metadata": {
  "language_info": {
   "name": "python"
  }
 },
 "nbformat": 4,
 "nbformat_minor": 2
}
