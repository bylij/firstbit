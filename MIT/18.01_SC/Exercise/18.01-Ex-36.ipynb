{
 "cells": [
  {
   "cell_type": "markdown",
   "metadata": {},
   "source": [
    ">https://ocw.mit.edu/courses/18-01sc-single-variable-calculus-fall-2010/resources/mit18_01scf10_ex36prb/"
   ]
  },
  {
   "cell_type": "markdown",
   "metadata": {},
   "source": [
    "### 问题\n",
    "- $x_0$ 是固定点，可知 $P(x_0)=x_0$  \n",
    "带入 $P(x_0+\\Delta{x})-P(x_0)=P^\\prime(x_0)\\Delta{x}$ 可得 $P(x_0+\\Delta{x})-x_0=P^\\prime(x_0)\\Delta{x} \\implies |P(x_0+\\Delta{x})-x_0|=|P^\\prime(x_0)||\\Delta{x}|$ 由于 $|P^\\prime(x_0)| \\lt 1$  \n",
    "可得 $|P(x_0+\\Delta{x})-x_0| \\lt |\\Delta{x}|$  \n",
    "同理 $P(P(x_0+\\Delta{x}))-P(x_0)=P^\\prime(x_0)(P(x_0+\\Delta{x})-x_0) \\implies |P(P(x_0+\\Delta{x}))-x_0| \\lt |P(x_0+\\Delta{x})-x_0|$  \n",
    "同理 $P(P(P(x_0+\\Delta{x})))-P(x_0)=P^\\prime(x_0)(P(P(x_0+\\Delta{x}))-x_0) \\implies |P(P(P(x_0+\\Delta{x})))-x_0| \\lt |P(P(x_0+\\Delta{x}))-x_0|$  \n",
    "同理 ... ...  \n",
    "可得 $... ... \\lt |P(P(P(x_0+\\Delta{x})))-x_0| \\lt |P(P(x_0+\\Delta{x}))-x_0| \\lt |P(x_0+\\Delta{x})-x_0| \\lt |\\Delta{x}|$  \n",
    "即后面每一轮迭代结果与 $x_0$ 的距离越来越小，根据定义证明 $x_0$ 是牵引点\n",
    "\n",
    "由 $P(x)=x \\implies ax(b-x)=x \\implies x_1=0, x_2=\\frac{ab-1}{a}$  \n",
    "$P^\\prime(x)=ab-2ax \\implies |P^\\prime(x_1=0)|=|ab|>1$ 可这 $x_1=0$ 不是牵引点  \n",
    "$|P^\\prime(x_2=\\frac{ab-1}{a})|=|2-ab|$ 由 $|2-ab| \\lt 1 \\implies 1 \\lt ab \\lt 3$ 其中 $1 \\lt ab$ 是已知条件，因此满足 $ab lt 3$ 时 $x_2=\\frac{ab-1}{a}$ 时引力点，而 $ab \\ge 3$ 时不是"
   ]
  }
 ],
 "metadata": {
  "language_info": {
   "name": "python"
  }
 },
 "nbformat": 4,
 "nbformat_minor": 2
}
