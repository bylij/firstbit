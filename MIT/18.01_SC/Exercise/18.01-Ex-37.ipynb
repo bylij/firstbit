{
 "cells": [
  {
   "cell_type": "markdown",
   "metadata": {},
   "source": [
    ">https://ocw.mit.edu/courses/18-01sc-single-variable-calculus-fall-2010/resources/mit18_01scf10_ex37prb/"
   ]
  },
  {
   "cell_type": "markdown",
   "metadata": {},
   "source": [
    "### 问题\n",
    "- a) $\\int{(f+g)(x)}dx=\\int{f(x)}dx+\\int{g(x)}dx$\n",
    "- b) $\\int{[f^\\prime(x)g(x)+f(x)g^\\prime(x)}]dx=f(x)g(x)$"
   ]
  }
 ],
 "metadata": {
  "language_info": {
   "name": "python"
  }
 },
 "nbformat": 4,
 "nbformat_minor": 2
}
