{
 "cells": [
  {
   "cell_type": "markdown",
   "metadata": {},
   "source": [
    ">https://ocw.mit.edu/courses/18-01sc-single-variable-calculus-fall-2010/resources/mit18_01scf10_ex38prb/"
   ]
  },
  {
   "cell_type": "markdown",
   "metadata": {},
   "source": [
    "### 问题\n",
    "- a) $u=\\tan{x} \\implies du=\\sec^2{x}dx \\implies \\int{\\tan{x}\\sec^2{x}}dx=\\int{u}du=\\frac{1}{2}u^2+C=\\frac{1}{2}\\tan^2{x}+C$\n",
    "- b) $v=\\sec{x} \\implies dv=\\tan{x}\\sec{x}dx \\implies \\int{\\tan{x}\\sec^2{x}}dx=\\int{\\sec{x} \\cdot \\tan{x}\\sec{x}}dx=\\int{v}dv=\\frac{1}{2}v^2+C=\\frac{1}{2}\\sec^2{x}+C$\n",
    "- c) 两种方法结果一致，因为 $\\frac{1}{2}\\tan^2{x}-\\frac{1}{2}\\sec^2{x}=\\frac{1}{2}(\\frac{\\sin^2{x}}{\\cos^2{x}}-\\frac{1}{\\cos^2{x}})=-\\frac{1}{2}$ 是常数  \n",
    "对比来说，第一种方法更直观，第二种方法需要将 $sec^2{x}$ 拆开处理"
   ]
  }
 ],
 "metadata": {
  "language_info": {
   "name": "python"
  }
 },
 "nbformat": 4,
 "nbformat_minor": 2
}
