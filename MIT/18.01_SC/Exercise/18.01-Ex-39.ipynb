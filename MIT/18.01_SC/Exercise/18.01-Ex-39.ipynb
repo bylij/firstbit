{
 "cells": [
  {
   "cell_type": "markdown",
   "metadata": {},
   "source": [
    ">https://ocw.mit.edu/courses/18-01sc-single-variable-calculus-fall-2010/resources/mit18_01scf10_ex39prb/"
   ]
  },
  {
   "cell_type": "markdown",
   "metadata": {},
   "source": [
    "### 问题\n",
    "- a) $y^{\\prime\\prime}=\\frac{1}{3}e^x \\implies 4y^{\\prime\\prime}-y=4 \\cdot \\frac{1}{3}e^x-e^x=e^x$ 验证通过\n",
    "- b) $y^\\prime=-\\frac{1}{x^2}, y^{\\prime\\prime}=\\frac{2}{x^3} \\implies x^2y^{\\prime\\prime}+3xy^\\prime+y=x^2 \\cdot (\\frac{2}{x^3})+3x \\cdot (-\\frac{1}{x^2})+\\frac{1}{x}=0$ 验证通过"
   ]
  }
 ],
 "metadata": {
  "language_info": {
   "name": "python"
  }
 },
 "nbformat": 4,
 "nbformat_minor": 2
}
