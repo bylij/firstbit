{
 "cells": [
  {
   "cell_type": "markdown",
   "metadata": {},
   "source": [
    ">https://ocw.mit.edu/courses/18-01sc-single-variable-calculus-fall-2010/resources/mit18_01scf10_ex40prb/"
   ]
  },
  {
   "cell_type": "markdown",
   "metadata": {},
   "source": [
    "### 问题\n",
    "- a) $\\frac{dy}{dx}=ry \\implies \\frac{dy}{y}=rdx \\implies \\int{\\frac{dy}{y}}=\\int{rdx} \\implies \\ln{|y|}=rx+C \\implies y=Ae^{rx}, (A \\ne 0)$\n",
    "- b) $\\frac{dy}{dx}=ry(s-y) \\implies \\frac{dy}{y(s-y)}=rdx \\implies \\int{\\frac{dy}{y(s-y)}}=\\int{rdx} \\implies \\frac{1}{s}\\ln{|\\frac{y}{s-y}|}=rx+C \\implies y=\\frac{s \\cdot Ae^{srx}}{1+Ae^{srx}}, (A \\ne 0)$\n"
   ]
  }
 ],
 "metadata": {
  "language_info": {
   "name": "python"
  }
 },
 "nbformat": 4,
 "nbformat_minor": 2
}
