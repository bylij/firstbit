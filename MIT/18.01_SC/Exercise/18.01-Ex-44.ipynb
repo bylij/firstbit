{
 "cells": [
  {
   "cell_type": "markdown",
   "metadata": {},
   "source": [
    ">https://ocw.mit.edu/courses/18-01sc-single-variable-calculus-fall-2010/resources/mit18_01scf10_ex44prb/"
   ]
  },
  {
   "cell_type": "markdown",
   "metadata": {},
   "source": [
    "### 问题\n",
    "- a) $\\Sigma_{k=1}^5{k^2}=1^2+2^2+3^2+4^2+5^2=55$\n",
    "- b) $\\Sigma_{k=1}^3{(2k)^2}=2^2+4^2+6^2=56$\n",
    "- c) $\\Sigma_{n=1}^4{(-1)^nn}=-1+2-3+4=2$\n",
    "- d) $\\Sigma_{k=0}^5{2^k}=2^0+2^1+2^2+2^3+2^4+2^5=63$"
   ]
  }
 ],
 "metadata": {
  "language_info": {
   "name": "python"
  }
 },
 "nbformat": 4,
 "nbformat_minor": 2
}
