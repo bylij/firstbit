{
 "cells": [
  {
   "cell_type": "markdown",
   "metadata": {},
   "source": [
    ">https://ocw.mit.edu/courses/18-01sc-single-variable-calculus-fall-2010/resources/mit18_01scf10_ex46prb/"
   ]
  },
  {
   "cell_type": "markdown",
   "metadata": {},
   "source": [
    "### 问题\n",
    "- $\\Delta{x}=\\frac{2-0}{6}=\\frac{1}{3}$ 函数 $f(x)=3x+2$ 分别取分割的左右边界为小矩形的高，可得积分的上下界  \n",
    "$\\Sigma_{i=0}^5{f(i\\Delta{x})\\Delta{x}} \\lt \\int_0^2{f(x)dx} \\lt \\Sigma_{i=1}^6{f(i\\Delta{x})\\Delta{x}} \\implies \\int_0^2{(3x+2))dx} \\in (9, 11)$  \n",
    "再进一步，黎曼和采用小矩形的左右边界的中心点带入函数 $f(x)$ 计算高，可得 $\\int_0^2{(3x+2))dx} \\approx \\Sigma_{i=0}^5{\\frac{f(i\\Delta{x})+f((i+1)\\Delta{x})}{2}}\\Delta{x}=10$  \n",
    "采取黎曼和这种 “取中心点” 的方式比取左右边界的计算方式的误差更低"
   ]
  }
 ],
 "metadata": {
  "language_info": {
   "name": "python"
  }
 },
 "nbformat": 4,
 "nbformat_minor": 2
}
