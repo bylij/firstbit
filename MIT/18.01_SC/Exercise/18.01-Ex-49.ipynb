{
 "cells": [
  {
   "cell_type": "markdown",
   "metadata": {},
   "source": [
    ">https://ocw.mit.edu/courses/18-01sc-single-variable-calculus-fall-2010/resources/mit18_01scf10_ex49prb/"
   ]
  },
  {
   "cell_type": "markdown",
   "metadata": {},
   "source": [
    "### 问题\n",
    "- a) 令 $u=3x+4 \\implies du=3dx \\implies \\int_0^4{\\sqrt{3x+4}dx}=\\int_4^{16}{\\frac{\\sqrt{u}}{3}du}=\\frac{2}{9}u^{\\frac{3}{2}}|_4^{16}=\\frac{2}{9}(16^{\\frac{3}{2}}-4^{\\frac{3}{2}})=\\frac{112}{9}$\n",
    "- b) 令 $u=x^2+1 \\implies du=2xdx \\implies \\int_1^3{\\frac{x}{x^2+1}dx=\\int_2^{10}{\\frac{du}{2u}}}=\\frac{1}{2}\\int_2^{10}{\\frac{du}{u}}=\\frac{1}{2}(\\ln{u}|_2^{10})=\\frac{\\ln{10}-\\ln{2}}{2}=\\frac{\\ln{5}}{2}$\n",
    "- c) 令 $u=\\sin{x} \\implies du=\\cos{x}dx \\implies \\int_0^{\\frac{\\pi}{2}}{\\sin^5{x}\\cos{x}dx}=\\int_0^1{u^5du}=\\frac{u^6}{6}|_0^1=\\frac{1^6}{6}-0=\\frac{1}{6}$"
   ]
  }
 ],
 "metadata": {
  "language_info": {
   "name": "python"
  }
 },
 "nbformat": 4,
 "nbformat_minor": 2
}
