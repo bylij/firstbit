{
 "cells": [
  {
   "cell_type": "markdown",
   "metadata": {},
   "source": [
    ">https://ocw.mit.edu/courses/18-01sc-single-variable-calculus-fall-2010/resources/mit18_01scf10_ex50prb/"
   ]
  },
  {
   "cell_type": "markdown",
   "metadata": {},
   "source": [
    "### 问题\n",
    "令 $F^\\prime(x)=\\frac{1}{x}$\n",
    "- a) 根据 FTC1 可得 $\\int_1^5{\\frac{1}{x}dx}=F(5)-F(1)$ $\\textcircled{1}$  \n",
    "根据 MVT 可得 $F(5)-F(1)=F^\\prime(c)(5-1)=\\frac{4}{c}$ $\\textcircled{2}$ 其中 $c \\in (1, 5)$  \n",
    "综合 $\\textcircled{1}$ 和 $\\textcircled{2}$ 可得 $\\int_1^5{\\frac{1}{x}dx}=\\frac{4}{c}$ 由 $1 \\lt c \\lt 5 \\implies \\frac{4}{5} \\lt \\int_1^5{\\frac{1}{x}dx} \\lt \\frac{4}{1}=4$\n",
    "- b) $\\int_1^5{\\frac{1}{x}dx}=\\ln{x}|_1^5=\\ln{5}-\\ln{1}=\\ln{5}$\n",
    "- c) $\\ln{5} \\approx 1.6 \\in (\\frac{4}{5}, 4)$ 可知 a) 中预测的上下界是正确的，但是范围跨度较大"
   ]
  }
 ],
 "metadata": {
  "language_info": {
   "name": "python"
  }
 },
 "nbformat": 4,
 "nbformat_minor": 2
}
