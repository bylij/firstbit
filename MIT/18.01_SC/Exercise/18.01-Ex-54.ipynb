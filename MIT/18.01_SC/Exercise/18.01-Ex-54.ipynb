{
 "cells": [
  {
   "cell_type": "markdown",
   "metadata": {},
   "source": [
    ">https://ocw.mit.edu/courses/18-01sc-single-variable-calculus-fall-2010/resources/mit18_01scf10_ex54prb/"
   ]
  },
  {
   "cell_type": "markdown",
   "metadata": {},
   "source": [
    "### 问题\n",
    "- a) $a\\int_{1/x}^1{\\frac{1}{t}dt}=a \\cdot \\ln{t}|_{1/x}^1=a(\\ln{1}-\\ln{x^{-1}})=a(0+\\ln{x})=a\\ln{x}$ $\\textcircled{1}$  \n",
    "$\\int_{(1/x)^a}^1{\\frac{1}{t}dt}=\\ln{t}|_{(1/x)^a}^1=\\ln{1}-\\ln{(1/x)^a}=0-\\ln{x^{-a}}=a\\ln{x}$ $\\textcircled{2}$  \n",
    "结合 $\\textcircled{1}$ 和 $\\textcircled{2}$ 可证命题成立\n",
    "- b) 由 a) 中结论可得 $\\int_{(1/x)^a}^1{\\frac{1}{t}dt}:\\int_{1/x}^1{\\frac{1}{t}dt}=a:1$  \n",
    "从定积分的几何定义来看，两个积分分别代表曲线 $\\frac{1}{x}$ 和 $x$ 轴在区间 $((1/x)^a, 1)$ 内的面积与在区间 $(1/x, 1)$ 内的面积   \n",
    "可以看到面积与左边界的指数成正比\n",
    "- c) $(0, 1)$ 区间内的面积 $A=\\lim\\limits_{x \\to \\infty}{\\int_{1/x}^1{\\frac{1}{t}dt}}=\\lim\\limits_{x \\to \\infty}{\\ln{t}|_{1/x}^1}=\\lim\\limits_{x \\to \\infty}{\\ln{x}}=\\infty$  \n",
    "可知这个面积是一个无穷大值，从另一方面看曲线 $\\frac{1}{x}$ 与 $y$ 轴无线接近但不相交，这导致 $(0, 1)$ 区间的图形不封闭"
   ]
  }
 ],
 "metadata": {
  "language_info": {
   "name": "python"
  }
 },
 "nbformat": 4,
 "nbformat_minor": 2
}
