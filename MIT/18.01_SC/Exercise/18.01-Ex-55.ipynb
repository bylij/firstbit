{
 "cells": [
  {
   "cell_type": "markdown",
   "metadata": {},
   "source": [
    ">https://ocw.mit.edu/courses/18-01sc-single-variable-calculus-fall-2010/resources/mit18_01scf10_ex55prb/"
   ]
  },
  {
   "cell_type": "markdown",
   "metadata": {},
   "source": [
    "### 问题\n",
    "- a) $\\int_a^b{f(x)dx}=\\int_a^b{\\lambda e^{-\\lambda x}dx}=-e^{-\\lambda x}|_a^b=-e^{-\\lambda b}-(-e^{-\\lambda a})=e^{-\\lambda a}-e^{-\\lambda b}$\n",
    "- b) $\\int_a^b{f(x)dx}=\\int_a^0{f(x)dx}+\\int_0^b{f(x)dx}=\\int_a^0{0dx}+\\int_0^b{\\lambda e^{-\\lambda x}dx}=0+-e^{-\\lambda x}|_0^b=1-e^{-\\lambda b}$\n",
    "- c) $\\int_a^b{f(x)dx}=\\int_a^b{0dx}=0$"
   ]
  }
 ],
 "metadata": {
  "language_info": {
   "name": "python"
  }
 },
 "nbformat": 4,
 "nbformat_minor": 2
}
