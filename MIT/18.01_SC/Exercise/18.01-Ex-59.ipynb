{
 "cells": [
  {
   "cell_type": "markdown",
   "metadata": {},
   "source": [
    ">https://ocw.mit.edu/courses/18-01sc-single-variable-calculus-fall-2010/resources/mit18_01scf10_ex59prb/"
   ]
  },
  {
   "cell_type": "markdown",
   "metadata": {},
   "source": [
    "### 问题\n",
    "- 采用圆盘法的变形（空心圆盘法）可得 $dV=[\\pi \\cdot (6-x)^2-\\pi \\cdot 2^2]dy \\implies V=\\int_0^2{[\\pi \\cdot (6-x)^2-\\pi \\cdot 2^2]dy}=\\pi\\int_0^2{(x^2-12x+32)dy}$  \n",
    "将 $y=\\sqrt{x} \\implies x=y^2$ 带入得 $V=\\pi\\int_0^2{(y^4-12y^2+32)dy}=\\pi \\cdot (\\frac{y^5}{5}-4y^3+32y)|_0^2=\\frac{192}{5}\\pi$"
   ]
  }
 ],
 "metadata": {
  "language_info": {
   "name": "python"
  }
 },
 "nbformat": 4,
 "nbformat_minor": 2
}
