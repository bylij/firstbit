{
 "cells": [
  {
   "cell_type": "markdown",
   "metadata": {},
   "source": [
    ">https://ocw.mit.edu/courses/18-01sc-single-variable-calculus-fall-2010/resources/mit18_01scf10_ex60prb/"
   ]
  },
  {
   "cell_type": "markdown",
   "metadata": {},
   "source": [
    "### 问题\n",
    "- a) $avg(A)=\\frac{1}{T-0}\\int_0^T{A(t)dt}=\\frac{1}{T}\\int_0^T{A_0e^{rt}dt}=\\frac{1}{T} \\cdot \\frac{A_0}{r}e^{rt}|_0^T=\\frac{A_0}{rT}(e^{rT}-1)$\n",
    "- b) 带入具体数值得 $avg(A_1)=\\frac{100}{.05}(e^{.05}-1) \\approx 102.5422 \\gt 100$ 数值代表存放在银行一年后的账户金额，对比原始金额有增长（即产生了利息）具备合理性"
   ]
  }
 ],
 "metadata": {
  "language_info": {
   "name": "python"
  }
 },
 "nbformat": 4,
 "nbformat_minor": 2
}
