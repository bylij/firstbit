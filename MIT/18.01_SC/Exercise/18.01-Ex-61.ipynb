{
 "cells": [
  {
   "cell_type": "markdown",
   "metadata": {},
   "source": [
    ">https://ocw.mit.edu/courses/18-01sc-single-variable-calculus-fall-2010/resources/mit18_01scf10_ex61prb/"
   ]
  },
  {
   "cell_type": "markdown",
   "metadata": {},
   "source": [
    "### 问题\n",
    "- 考虑 $x$ 坐标，$dA=(4-y)dx=(4-(x-1)^2)dx=-x^2+2x+3 \\implies \\bar{x}=\\frac{\\int_{-1}^3{x(-x^2+2x+3)dx}}{\\int_{-1}^3{(-x^2+2x+3)dx}}=\\frac{-\\frac{x^4}{4}+\\frac{2x^3}{3}+\\frac{3x^2}{2}|_{-1}^3}{-\\frac{x^3}{3}+x^2+3x|_{-1}^3}=\\frac{32/3}{32/3}=1$  \n",
    "- 考虑 $y$ 坐标，$dA=[(1+\\sqrt{y})-(1-\\sqrt{y})]dy=2\\sqrt{y}dy \\implies \\bar{y}=\\frac{\\int_0^4{y \\cdot 2\\sqrt{y}dy}}{\\int_0^4{2\\sqrt{y}dy}}=\\frac{\\frac{4}{5}y^{5/2}|_0^4}{\\frac{4}{3}y^{3/2}|_0^4}=\\frac{12}{5}$  \n",
    "可得质心 $(\\bar{x}, \\bar{y})=(1, \\frac{12}{5})$"
   ]
  }
 ],
 "metadata": {
  "language_info": {
   "name": "python"
  }
 },
 "nbformat": 4,
 "nbformat_minor": 2
}
