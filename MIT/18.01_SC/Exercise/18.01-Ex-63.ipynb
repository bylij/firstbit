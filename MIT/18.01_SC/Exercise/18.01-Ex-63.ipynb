{
 "cells": [
  {
   "cell_type": "markdown",
   "metadata": {},
   "source": [
    ">https://ocw.mit.edu/courses/18-01sc-single-variable-calculus-fall-2010/resources/mit18_01scf10_ex63prb/"
   ]
  },
  {
   "cell_type": "markdown",
   "metadata": {},
   "source": [
    "### 问题\n",
    "- a) 0.93750\n",
    "- b) 0.72656\n",
    "- c) $\\int_{-1}^2{(x^3-2x)dx}=\\frac{x^4}{4}-x^2|_{-1}^2=0.75$  \n",
    "可以看到 $12$ 等分的 中位黎曼和 求得值更精确  \n",
    "因为梯形法虽然需要更多的信息，在相同等份的情况下也只比黎曼和法多使用一个信息；相对的，将等份的数量提高为双倍却可以确实的提供更多的信息从而提高精度"
   ]
  }
 ],
 "metadata": {
  "language_info": {
   "name": "python"
  }
 },
 "nbformat": 4,
 "nbformat_minor": 2
}
