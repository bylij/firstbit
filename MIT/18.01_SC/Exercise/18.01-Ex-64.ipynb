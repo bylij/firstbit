{
 "cells": [
  {
   "cell_type": "markdown",
   "metadata": {},
   "source": [
    ">https://ocw.mit.edu/courses/18-01sc-single-variable-calculus-fall-2010/resources/mit18_01scf10_ex64prb/"
   ]
  },
  {
   "cell_type": "markdown",
   "metadata": {},
   "source": [
    "### 问题\n",
    "- a) 将 $(60, 72)$ 区间等分为 $6$ 份，可得 $\\Delta{x}=\\frac{72-60}{6}=2$  \n",
    "采用辛普森法则 $\\int_{60}^{72}{h(x)dx} \\approx \\frac{\\Delta{x}}{3}(h(60)+4h(62)+2h(64)+4h(66)+2h(68)+4h(70)+h(72))\\\\\n",
    "=\\frac{2}{3} \\cdot \\frac{1}{2.8\\sqrt{2\\pi}}(e^{-9^2/5.6}+4e^{-7^2/5.6}+2e^{-5^2/5.6}+4e^{-3^2/5.6}+2e^{-1^2/5.6}+4e^{-1^2/5.6}+e^{-3^2/5.6})\\\\\n",
    "\\approx 0.574167$\n",
    "- b) 将 $x=100$ 设为上限，因为 $100$ 人类身高在英尺以上的概率非常低，将 $(96, 100)$ 区间等分为 $2$ 份，得 $\\Delta{x}=\\frac{100-96}{2}=2$  \n",
    "采用辛普森法则 $\\int_{96}^{100}{h(x)dx} \\approx \\frac{\\Delta{x}}{3}(h(96)+4h(98)+h(100))\\\\\n",
    "=\\frac{2}{3} \\cdot \\frac{1}{2.8\\sqrt{2\\pi}}(e^{-27^2/5.6}+4e^{-29^2/5.6}+e^{-31^2/5.6})\\\\\n",
    "\\approx 2.76583 \\times 10^{-58}$"
   ]
  }
 ],
 "metadata": {
  "language_info": {
   "name": "python"
  }
 },
 "nbformat": 4,
 "nbformat_minor": 2
}
