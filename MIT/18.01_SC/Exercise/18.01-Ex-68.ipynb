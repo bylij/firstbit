{
 "cells": [
  {
   "cell_type": "markdown",
   "metadata": {},
   "source": [
    ">https://ocw.mit.edu/courses/18-01sc-single-variable-calculus-fall-2010/resources/mit18_01scf10_ex68prb/"
   ]
  },
  {
   "cell_type": "markdown",
   "metadata": {},
   "source": [
    "### 问题\n",
    "- $\\int{\\cos^3{(2x)}dx}=\\int{\\cos^2{(2x)}\\cos{(2x)}dx}=\\int{(1-\\sin^2{(2x)})\\cos{(2x)}dx}$ $\\textcircled{1}$  \n",
    "设 $u=\\sin{(2x)} \\implies du=2\\cos{(2x)}dx \\implies \\cos{(2x)}dx=\\frac{1}{2}du$ 带入 $\\textcircled{1}$ 可得 $\\int{\\cos^3{(2x)}dx}=\\int{\\frac{1-u^2}{2}du}=\\frac{u}{2}-\\frac{u^3}{6}+C$"
   ]
  }
 ],
 "metadata": {
  "language_info": {
   "name": "python"
  }
 },
 "nbformat": 4,
 "nbformat_minor": 2
}
