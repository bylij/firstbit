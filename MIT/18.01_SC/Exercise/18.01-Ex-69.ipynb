{
 "cells": [
  {
   "cell_type": "markdown",
   "metadata": {},
   "source": [
    ">https://ocw.mit.edu/courses/18-01sc-single-variable-calculus-fall-2010/resources/mit18_01scf10_ex69prb/"
   ]
  },
  {
   "cell_type": "markdown",
   "metadata": {},
   "source": [
    "### 问题\n",
    "- $\\int{\\sin^4{x}\\cos^2{x}dx}=\\int{\\sin^2{x}(\\sin{x}\\cos{x})^2dx}\\\\\n",
    "=\\int{\\frac{1-\\cos{(2x)}}{2}(\\frac{\\sin{(2x)}}{2})^2dx}\\\\\n",
    "=\\frac{1}{8}\\int{(\\sin^2{(2x)}-\\sin^2{(2x)}\\cos{(2x)})dx}\\\\\n",
    "=\\frac{1}{8}(\\int{\\sin^2{(2x)}dx}+\\int{\\sin^2{(2x)}\\cos{(2x)}dx})$ $\\textcircled{1}$  \n",
    "下面分部分进行计算：  \n",
    "$\\int{\\sin^2{(2x)}dx}=\\int{\\frac{1-\\cos{(4x)}}{2}dx}=\\frac{1}{2}x-\\frac{1}{8}\\sin{(4x)}+C_1$  \n",
    "针对 $\\int{\\sin^2{(2x)}\\cos{(2x)}dx}$ 部分，设 $u=\\sin{(2x)} \\implies du=2\\cos{(2x)}dx \\implies \\cos{(2x)}dx=\\frac{1}{2}du \\implies \\int{\\sin^2{(2x)}\\cos{(2x)}dx}=\\int{\\frac{u^2}{2}du}=\\frac{u^3}{6}+C_2=\\frac{\\sin^3{(2x)}}{6}+C_2$  \n",
    "综合两部分，带入 $\\textcircled{1}$ 得到 $\\int{\\sin^4{x}\\cos^2{x}dx}=\\frac{1}{16}x-\\frac{1}{64}\\sin{(4x)}+\\frac{1}{48}\\sin^3{(2x)}+C$"
   ]
  }
 ],
 "metadata": {
  "language_info": {
   "name": "python"
  }
 },
 "nbformat": 4,
 "nbformat_minor": 2
}
