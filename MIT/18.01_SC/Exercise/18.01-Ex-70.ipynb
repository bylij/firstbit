{
 "cells": [
  {
   "cell_type": "markdown",
   "metadata": {},
   "source": [
    ">https://ocw.mit.edu/courses/18-01sc-single-variable-calculus-fall-2010/resources/mit18_01scf10_ex70prb/"
   ]
  },
  {
   "cell_type": "markdown",
   "metadata": {},
   "source": [
    "### 问题\n",
    "- $0 \\le x \\le b \\implies 0 \\le a\\cos{\\theta} \\le b \\implies \\cos^{-1}{\\frac{b}{a}} \\le \\theta \\le \\frac{\\pi}{2}$  这里设 $\\theta_0=\\cos^{-1}{\\frac{b}{a}}$  \n",
    "由 $x=a\\cos{\\theta} \\implies dx=-a\\sin{\\theta}d\\theta$  \n",
    "可得 $\\int_0^b{\\sqrt{a^2-x^2}dx}=\\int_{\\theta_0}^{\\frac{\\pi}{2}}{\\sqrt{a^2-a^2\\cos^2{\\theta}} \\cdot (-a\\sin{\\theta})d\\theta}\\\\\n",
    "=\\int_{\\theta_0}^{\\frac{\\pi}{2}}{a\\sin{\\theta} \\cdot (-a\\sin{\\theta})d\\theta}\\\\\n",
    "=-a^2\\int_{\\theta_0}^{\\frac{\\pi}{2}}\\sin^2{\\theta}d\\theta\\\\\n",
    "=-a^2\\int_{\\theta_0}^{\\frac{\\pi}{2}}\\frac{1-\\cos{(2\\theta)}}{2}d\\theta\\\\\n",
    "=-a^2 \\cdot (\\frac{\\theta}{2}-\\frac{\\sin{(2\\theta)}}{4}|_{\\theta_0}^{\\frac{\\pi}{2}})\\\\\n",
    "=a^2(\\frac{\\theta_0}{2}-\\frac{\\pi}{4}-\\frac{\\sin{2\\theta_0}}{4})$  \n",
    "其中 $\\theta_0=\\cos^{-1}{\\frac{b}{a}}$"
   ]
  }
 ],
 "metadata": {
  "language_info": {
   "name": "python"
  }
 },
 "nbformat": 4,
 "nbformat_minor": 2
}
