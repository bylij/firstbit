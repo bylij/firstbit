{
 "cells": [
  {
   "cell_type": "markdown",
   "metadata": {},
   "source": [
    ">https://ocw.mit.edu/courses/18-01sc-single-variable-calculus-fall-2010/resources/mit18_01scf10_ex71prb/"
   ]
  },
  {
   "cell_type": "markdown",
   "metadata": {},
   "source": [
    "### 问题\n",
    "- $\\int{\\tan^3{(x)}dx}=\\int{\\frac{\\sin^3{x}}{\\cos^3{x}}dx}=\\int{\\frac{\\sin^2{x} \\cdot \\sin{x}}{\\cos^3{x}}dx}=\\int{\\frac{1-\\cos^2{x}}{\\cos^3{x}}\\sin{x}dx}$ $\\textcircled{1}$  \n",
    "设 $u=\\cos{x} \\implies du=\\sin{x}dx \\implies \\sin{x}dx=-du$ 带入到 $\\textcircled{1}$ 得 $\\int{\\tan^3{(x)}dx}=\\int{\\frac{1-u^2}{u^3} \\cdot (-du)}=\\int{(\\frac{1}{u}-\\frac{1}{u^3})du}=\\ln{|u|}+\\frac{1}{2u^2}+C$  \n",
    "将 $u=\\cos{x}$ 反带回得 $\\int{\\tan^3{(x)}dx}=\\ln{|\\cos{x}|}+\\frac{1}{2\\cos^2{x}}+C$"
   ]
  }
 ],
 "metadata": {
  "language_info": {
   "name": "python"
  }
 },
 "nbformat": 4,
 "nbformat_minor": 2
}
