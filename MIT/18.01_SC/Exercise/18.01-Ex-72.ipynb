{
 "cells": [
  {
   "cell_type": "markdown",
   "metadata": {},
   "source": [
    ">https://ocw.mit.edu/courses/18-01sc-single-variable-calculus-fall-2010/resources/mit18_01scf10_ex72prb/"
   ]
  },
  {
   "cell_type": "markdown",
   "metadata": {},
   "source": [
    "### 问题\n",
    "- $x=3\\sec{\\theta} \\implies dx=3\\sec{\\theta}\\tan{\\theta}d\\theta \\implies \\int{x\\sqrt{x^2-9}dx}\\\\\n",
    "=\\int{3\\sec{\\theta} \\cdot \\sqrt{9\\sec^2{\\theta}-9} \\cdot 3\\sec{\\theta}\\tan{\\theta}d\\theta}\\\\\n",
    "=\\int{3\\sec{\\theta} \\cdot 3\\tan{\\theta} \\cdot 3\\sec{\\theta}\\tan{\\theta}d\\theta}\\\\\n",
    "=27\\int{\\tan^2{\\theta}\\sec^2{\\theta}d\\theta}$  \n",
    "设 $u=\\tan{\\theta} \\implies du=\\sec^2{\\theta}d\\theta$ 带入得 $\\int{x\\sqrt{x^2-9}dx}=27\\int{\\tan^2{\\theta}\\sec^2{\\theta}d\\theta}=27\\int{u^2du}=27 \\cdot \\frac{u^3}{3}+C=9u^3+C=9tan^3{\\theta}+C$ $\\textcircled{1}$  \n",
    "由 $x=3\\sec{\\theta} \\implies \\sec{\\theta}=\\frac{x}{3} \\implies \\tan{\\theta}=\\frac{\\sqrt{x^2-9}}{3}$ 带入 $\\textcircled{1}$ 得 $\\int{x\\sqrt{x^2-9}dx}=\\frac{(\\sqrt{x^2-9})^3}{3}+C$ $\\textcircled{2}$  \n",
    "验证：$u=x^2 \\implies du=2xdx \\implies xdx=\\frac{1}{2}du \\implies \\int{x\\sqrt{x^2-9}dx}=\\int{\\sqrt{u-9} \\cdot \\frac{1}{2}du}=\\int{\\frac{\\sqrt{u-9}}{2}du}=\\frac{1}{2} \\cdot \\frac{2}{3}(u-9)^{\\frac{3}{2}}+C=\\frac{(\\sqrt{x^2-9})^3}{3}+C$ 与三角代换的结果 $\\textcircled{2}$ 一致"
   ]
  }
 ],
 "metadata": {
  "language_info": {
   "name": "python"
  }
 },
 "nbformat": 4,
 "nbformat_minor": 2
}
