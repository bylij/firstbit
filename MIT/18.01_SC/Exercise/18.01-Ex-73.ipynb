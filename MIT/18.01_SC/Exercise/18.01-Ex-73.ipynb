{
 "cells": [
  {
   "cell_type": "markdown",
   "metadata": {},
   "source": [
    ">https://ocw.mit.edu/courses/18-01sc-single-variable-calculus-fall-2010/resources/mit18_01scf10_ex73prb/"
   ]
  },
  {
   "cell_type": "markdown",
   "metadata": {},
   "source": [
    "### 问题\n",
    "- $\\int{\\frac{dx}{\\sqrt{2x-x^2}}}=\\int{\\frac{dx}{\\sqrt{1-(x-1)^2}}}$  \n",
    "设 $x-1=\\cos{\\theta} \\implies dx=-\\sin{\\theta}d\\theta$ 带入得 $\\int{\\frac{dx}{\\sqrt{2x-x^2}}}=\\int{\\frac{-\\sin{\\theta}d\\theta}{\\sqrt{1-\\cos^2{\\theta}}}}=\\int{\\frac{-\\sin{\\theta}d\\theta}{\\sin{\\theta}}}=\\int{-d\\theta}=-\\theta+C$  \n",
    "由 $x-1=\\cos{\\theta} \\implies \\theta=\\cos^{-1}{(x-1)}$ 带入得 $\\int{\\frac{dx}{\\sqrt{2x-x^2}}}=-\\cos^{-1}{(x-1)}+C$"
   ]
  }
 ],
 "metadata": {
  "language_info": {
   "name": "python"
  }
 },
 "nbformat": 4,
 "nbformat_minor": 2
}
