{
 "cells": [
  {
   "cell_type": "markdown",
   "metadata": {},
   "source": [
    ">https://ocw.mit.edu/courses/18-01sc-single-variable-calculus-fall-2010/resources/mit18_01scf10_ex74prb/"
   ]
  },
  {
   "cell_type": "markdown",
   "metadata": {},
   "source": [
    "### 问题\n",
    "- 分解 $\\frac{x^2+2x+3}{(x+1)(x+2)(x+3)}=\\frac{A}{x+1}+\\frac{B}{x+2}+\\frac{C}{x+3}$  \n",
    "采用遮盖发得 $A=\\frac{(-1)^2+2(-1)+3}{(-1+2)(-1+3)}=1, B=\\frac{(-2)^2+2(-2)+3}{(-2+1)(-2+3)}=-3, C=\\frac{(-3)^2+2(-3)+3}{(-3+1)(-3+2)}=3$  \n",
    "可得 $\\int{\\frac{x^2+2x+3}{(x+1)(x+2)(x+3)}dx}=\\int{(\\frac{1}{x+1}-\\frac{3}{x+2}+\\frac{3}{x+3})dx}=\\int{\\frac{1}{x+1}dx}-\\int{\\frac{3}{x+2}dx}+\\int{\\frac{3}{x+3}dx}=\\ln{|x+1|}-3\\ln{|x+2|}+3\\ln{|x+3|}+C$"
   ]
  }
 ],
 "metadata": {
  "language_info": {
   "name": "python"
  }
 },
 "nbformat": 4,
 "nbformat_minor": 2
}
