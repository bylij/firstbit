{
 "cells": [
  {
   "cell_type": "markdown",
   "metadata": {},
   "source": [
    ">https://ocw.mit.edu/courses/18-01sc-single-variable-calculus-fall-2010/resources/mit18_01scf10_ex75aprb/"
   ]
  },
  {
   "cell_type": "markdown",
   "metadata": {},
   "source": [
    "### 问题\n",
    "- 拆分 $\\frac{x-11}{(x^2+9)(x+2)}=\\frac{A}{x+2}+\\frac{Bx+C}{x^2+9}$ 通过掩盖法和带入法求得 $A=-1, B=1, C=-1$  \n",
    "可得 $\\int{\\frac{x-11}{(x^2+9)(x+2)}dx}=\\int{(-\\frac{1}{x+2}+\\frac{x-1}{x^2+9})dx}=-\\int{\\frac{1}{x+2}dx}+\\int{\\frac{x}{x^2+9}dx}-\\int{\\frac{1}{x^2+9}dx}$  \n",
    "针对 $\\int{\\frac{1}{x^2+9}dx}$ 设 $x=3\\tan{\\theta} \\implies dx=3\\sec^2{\\theta}d\\theta \\implies \\int{\\frac{1}{x^2+9}dx}=\\int{\\frac{3\\sec^2{\\theta}d\\theta}{9\\tan^2{\\theta}+9}}=\\int{\\frac{3\\sec^2{\\theta}d\\theta}{9\\sec^2{\\theta}}}=\\int{\\frac{d\\theta}{3}}=\\frac{\\theta}{3}+C_1=\\frac{1}{3}\\tan^{-1}{\\frac{x}{3}}+C_1$  \n",
    "可得 $\\int{\\frac{x-11}{(x^2+9)(x+2)}dx}=-\\int{\\frac{1}{x+2}dx}+\\int{\\frac{x}{x^2+9}dx}-\\int{\\frac{1}{x^2+9}dx}=-\\ln{|x+2|}+\\frac{1}{2}\\ln{(x^2+9)}-\\frac{1}{3}\\tan^{-1}{\\frac{x}{3}}+C$"
   ]
  }
 ],
 "metadata": {
  "language_info": {
   "name": "python"
  }
 },
 "nbformat": 4,
 "nbformat_minor": 2
}
