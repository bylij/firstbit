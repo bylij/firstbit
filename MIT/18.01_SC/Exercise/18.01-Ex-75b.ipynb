{
 "cells": [
  {
   "cell_type": "markdown",
   "metadata": {},
   "source": [
    ">https://ocw.mit.edu/courses/18-01sc-single-variable-calculus-fall-2010/resources/mit18_01scf10_ex75bprb/"
   ]
  },
  {
   "cell_type": "markdown",
   "metadata": {},
   "source": [
    "### 问题\n",
    "- 拆分 $\\frac{x^3}{x^2-1}=x+\\frac{x}{x^2-1}=x+\\frac{x}{(x-1)(x+1)}$  \n",
    "拆分 $\\frac{x}{(x-1)(x+1)}=\\frac{A}{x-1}+\\frac{B}{x+1}$ 利用掩盖法可得 $A=\\frac{1}{2}, B=\\frac{1}{2}$  \n",
    "可得 $\\frac{x^3}{x^2-1}=x+\\frac{1}{2(x-1)}+\\frac{1}{2(x+1)}$  \n",
    "可得 $\\int{\\frac{x^3}{x^2-1}dx}=\\int{(x+\\frac{1}{2(x-1)}+\\frac{1}{2(x+1)})dx}=\\int{xdx}+\\int{\\frac{1}{2(x-1)}dx}+\\int{\\frac{1}{2(x+1)}dx}=\\frac{x^2}{2}+\\frac{\\ln{|x-1|}}{2}+\\frac{\\ln{|x+1|}}{2}+C$"
   ]
  }
 ],
 "metadata": {
  "language_info": {
   "name": "python"
  }
 },
 "nbformat": 4,
 "nbformat_minor": 2
}
