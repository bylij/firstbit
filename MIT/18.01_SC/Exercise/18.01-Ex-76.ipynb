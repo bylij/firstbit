{
 "cells": [
  {
   "cell_type": "markdown",
   "metadata": {},
   "source": [
    ">https://ocw.mit.edu/courses/18-01sc-single-variable-calculus-fall-2010/resources/mit18_01scf10_ex76prb/"
   ]
  },
  {
   "cell_type": "markdown",
   "metadata": {},
   "source": [
    "### 问题\n",
    "- 采用部分积分法，应用公式 $\\int{uv^\\prime}=uv-\\int{u^\\prime v}$ 针对本题，再每次迭代中都选择 $x$ 的幂次为 $u$，选择 $\\cos{x}$ 或 $\\sin{x}$ 作为 $v^\\prime$  \n",
    "可得 $\\int{x^4\\cos{x}dx}=x^4\\sin{x}-4\\int{x^3\\sin{x}dx}\\\\\n",
    "=x^4\\sin{x}-4(x^3(-\\cos{x})-3\\int{x^2(-\\cos{x})dx})\\\\\n",
    "=x^4\\sin{x}-4(x^3(-\\cos{x})-3(x^2(-\\sin{x})-2\\int{x(-\\sin{x})dx}))\\\\\n",
    "=x^4\\sin{x}-4(x^3(-\\cos{x})-3(x^2(-\\sin{x})-2(x\\cos{x}-\\int{\\cos{x}dx})))\\\\\n",
    "=x^4\\sin{x}-4(x^3(-\\cos{x})-3(x^2(-\\sin{x})-2(x\\cos{x}-\\sin{x}+C_1)))$  \n",
    "化简得 $\\int{x^4\\cos{x}dx}=(x^4-12x^2+24)\\sin{x}+(4x^3-24x)\\cos{x}+C$"
   ]
  }
 ],
 "metadata": {
  "language_info": {
   "name": "python"
  }
 },
 "nbformat": 4,
 "nbformat_minor": 2
}
