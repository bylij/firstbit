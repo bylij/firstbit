{
 "cells": [
  {
   "cell_type": "markdown",
   "metadata": {},
   "source": [
    ">https://ocw.mit.edu/courses/18-01sc-single-variable-calculus-fall-2010/resources/mit18_01scf10_ex78prb/"
   ]
  },
  {
   "cell_type": "markdown",
   "metadata": {},
   "source": [
    "### 问题\n",
    "- $\\Delta{s} \\approx \\sqrt{(\\Delta{x})^2+(\\Delta{y})^2} \\implies ds=\\sqrt{(dx)^2+(dy)^2}=\\sqrt{1+(\\frac{dy}{dx})^2}dx$  \n",
    "针对曲线 $y=\\ln{x}$ 可得在 $[\\frac{1}{10}, 1]$ 区间的定积分 $\\int_{\\frac{1}{10}}^1{\\sqrt{1+(\\frac{d\\ln{x}}{dx})^2}dx}=\\int_{\\frac{1}{10}}^1{\\sqrt{1+\\frac{1}{x^2}}dx}$"
   ]
  }
 ],
 "metadata": {
  "language_info": {
   "name": "python"
  }
 },
 "nbformat": 4,
 "nbformat_minor": 2
}
