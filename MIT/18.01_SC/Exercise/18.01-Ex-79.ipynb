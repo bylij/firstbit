{
 "cells": [
  {
   "cell_type": "markdown",
   "metadata": {},
   "source": [
    ">https://ocw.mit.edu/courses/18-01sc-single-variable-calculus-fall-2010/resources/mit18_01scf10_ex79prb/"
   ]
  },
  {
   "cell_type": "markdown",
   "metadata": {},
   "source": [
    "### 问题\n",
    "- $dS=2\\pi xds=2\\pi x\\sqrt{1+(\\frac{de^x}{dx})^2}dx=2\\pi x\\sqrt{1+(e^x)^2}dx \\implies S=\\int_0^1{2\\pi x\\sqrt{1+(e^x)^2}dx}$"
   ]
  }
 ],
 "metadata": {
  "language_info": {
   "name": "python"
  }
 },
 "nbformat": 4,
 "nbformat_minor": 2
}
