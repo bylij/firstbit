{
 "cells": [
  {
   "cell_type": "markdown",
   "metadata": {},
   "source": [
    ">https://ocw.mit.edu/courses/18-01sc-single-variable-calculus-fall-2010/resources/mit18_01scf10_ex80prb/"
   ]
  },
  {
   "cell_type": "markdown",
   "metadata": {},
   "source": [
    "### 问题\n",
    "- a) 以原点为起点向外扩散的逆时针螺旋线\n",
    "- b) $ds=\\sqrt{(dx)^2+(dy)^2}=\\sqrt{(\\frac{dx}{dt})^2+(\\frac{dy}{dt})^2}dt=\\sqrt{(\\cos{t}-t\\sin{t})^2+(\\sin{t}+t\\cos{t})^2}dt=\\sqrt{1+t^2}dt \\implies \\frac{ds}{dt}=\\sqrt{1+t^2}$  \n",
    "可得 $\\int_0^{4\\pi}{\\frac{ds}{dt}dt}=\\int_0^{4\\pi}{\\sqrt{1+t^2}dt}$"
   ]
  }
 ],
 "metadata": {
  "language_info": {
   "name": "python"
  }
 },
 "nbformat": 4,
 "nbformat_minor": 2
}
