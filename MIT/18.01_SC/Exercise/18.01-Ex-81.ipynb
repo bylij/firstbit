{
 "cells": [
  {
   "cell_type": "markdown",
   "metadata": {},
   "source": [
    ">https://ocw.mit.edu/courses/18-01sc-single-variable-calculus-fall-2010/resources/mit18_01scf10_ex81prb/"
   ]
  },
  {
   "cell_type": "markdown",
   "metadata": {},
   "source": [
    "### 问题\n",
    "- a) 根据 FTC2 及 $y^\\prime(0)=0$ 得 $y^\\prime(t)=\\int_0^t{y^{\\prime\\prime}(T)dT}=\\int_0^t{-9.8dT}=-9.8t$  \n",
    "由不定积分得 $y(t)=\\int{y^{\\prime}(t)dt}=\\int{-9.8tdt}=-9.8t^2/2+C=-4.9t^2+C$ 结合 $y(0)=5 \\implies C=5 \\implies y(t)=5-4.9t^2$\n",
    "- b) $x(t)=t, y(t)=5-4.9t^2$ 其中 $0 \\le t \\le \\frac{5\\sqrt{2}}{7}$\n",
    "- c) $ds=\\sqrt{(dx)^2+(dy)^2} \\implies \\frac{ds}{dt}=\\sqrt{(\\frac{dx}{dt})^2+(\\frac{dy}{dt})^2}=\\sqrt{1+(-9.8t)^2}=\\sqrt{1+9.8^2t^2}$ 其中 $0 \\le t \\le \\frac{5\\sqrt{2}}{7}$"
   ]
  }
 ],
 "metadata": {
  "language_info": {
   "name": "python"
  }
 },
 "nbformat": 4,
 "nbformat_minor": 2
}
