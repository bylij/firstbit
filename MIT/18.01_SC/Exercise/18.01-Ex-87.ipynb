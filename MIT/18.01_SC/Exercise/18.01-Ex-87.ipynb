{
 "cells": [
  {
   "cell_type": "markdown",
   "metadata": {},
   "source": [
    ">https://ocw.mit.edu/courses/18-01sc-single-variable-calculus-fall-2010/resources/mit18_01scf10_ex87prb/"
   ]
  },
  {
   "cell_type": "markdown",
   "metadata": {},
   "source": [
    "### 问题\n",
    "- a) $\\sin{x} \\approx x, \\cos{x} \\approx 1$  \n",
    "带入得 $\\lim\\limits_{x \\to 0}\\frac{\\sin{x}}{1-\\cos{x}}=\\lim\\limits_{x \\to 0}\\frac{x}{1-1}$ 仍然得到 $\\frac{0}{0}$ 形式的极限\n",
    "- b) $\\sin{x} \\approx x, \\cos{x} \\approx 1-\\frac{x^2}{2}$  \n",
    "带如得 $\\lim\\limits_{x \\to 0}\\frac{\\sin{x}}{1-\\cos{x}}=\\lim\\limits_{x \\to 0}\\frac{x}{1-(1-\\frac{x^2}{2})}=\\lim\\limits_{x \\to 0}\\frac{x}{\\frac{x^2}{2}}=\\lim\\limits_{x \\to 0}\\frac{2}{x}=\\infty$"
   ]
  }
 ],
 "metadata": {
  "language_info": {
   "name": "python"
  }
 },
 "nbformat": 4,
 "nbformat_minor": 2
}
