{
 "cells": [
  {
   "cell_type": "markdown",
   "metadata": {},
   "source": [
    ">https://ocw.mit.edu/courses/18-01sc-single-variable-calculus-fall-2010/resources/mit18_01scf10_ex88prb/"
   ]
  },
  {
   "cell_type": "markdown",
   "metadata": {},
   "source": [
    "### 问题\n",
    "- a) $\\lim\\limits_{x \\to +\\infty}\\frac{e^x}{x}=\\lim\\limits_{x \\to +\\infty}\\frac{(e^x)^\\prime}{x^\\prime}=\\lim\\limits_{x \\to +\\infty}\\frac{e^x}{1}=\\lim\\limits_{x \\to +\\infty}e^x=\\infty$\n",
    "- b) $\\lim\\limits_{x \\to +\\infty}\\frac{x}{e^x}=\\lim\\limits_{x \\to +\\infty}\\frac{x^\\prime}{(e^x)^\\prime}=\\lim\\limits_{x \\to +\\infty}\\frac{1}{e^x}=0$"
   ]
  }
 ],
 "metadata": {
  "language_info": {
   "name": "python"
  }
 },
 "nbformat": 4,
 "nbformat_minor": 2
}
