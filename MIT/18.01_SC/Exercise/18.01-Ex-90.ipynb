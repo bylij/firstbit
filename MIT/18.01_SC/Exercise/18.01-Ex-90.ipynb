{
 "cells": [
  {
   "cell_type": "markdown",
   "metadata": {},
   "source": [
    ">https://ocw.mit.edu/courses/18-01sc-single-variable-calculus-fall-2010/resources/mit18_01scf10_ex90prb/"
   ]
  },
  {
   "cell_type": "markdown",
   "metadata": {},
   "source": [
    "### 问题\n",
    "- $\\lim\\limits_{x \\to \\infty}x^{1/x}\\\\\n",
    "=e^{\\lim\\limits_{x \\to \\infty}\\ln{x^{1/x}}}\\\\\n",
    "=e^{\\lim\\limits_{x \\to \\infty}\\frac{\\ln{x}}{x}}\\\\\n",
    "=e^{\\lim\\limits_{x \\to \\infty}\\frac{(\\ln{x})^\\prime}{x^\\prime}}\\\\\n",
    "=e^{\\lim\\limits_{x \\to \\infty}\\frac{1/x}{1}}\\\\\n",
    "=e^{\\lim\\limits_{x \\to \\infty}\\frac{1}{x}}\\\\\n",
    "=e^0\\\\\n",
    "=1$"
   ]
  }
 ],
 "metadata": {
  "language_info": {
   "name": "python"
  }
 },
 "nbformat": 4,
 "nbformat_minor": 2
}
