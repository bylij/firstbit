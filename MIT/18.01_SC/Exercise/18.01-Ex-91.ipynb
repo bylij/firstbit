{
 "cells": [
  {
   "cell_type": "markdown",
   "metadata": {},
   "source": [
    ">https://ocw.mit.edu/courses/18-01sc-single-variable-calculus-fall-2010/resources/mit18_01scf10_ex91prb/"
   ]
  },
  {
   "cell_type": "markdown",
   "metadata": {},
   "source": [
    "### 问题\n",
    "- $\\int_1^{\\infty}{\\frac{dx}{(5x+2)^2}}=\\lim\\limits_{N \\to \\infty}\\int_1^N{\\frac{dx}{(5x+2)^2}}=\\lim\\limits_{N \\to \\infty}\\left[-\\frac{(5x+2)^{-1}}{5}\\right]_1^N=\\lim\\limits_{N \\to \\infty}(\\frac{1}{35}-\\frac{1}{5(5N+2)})=\\frac{1}{35}$"
   ]
  }
 ],
 "metadata": {
  "language_info": {
   "name": "python"
  }
 },
 "nbformat": 4,
 "nbformat_minor": 2
}
