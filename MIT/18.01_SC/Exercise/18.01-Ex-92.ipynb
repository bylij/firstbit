{
 "cells": [
  {
   "cell_type": "markdown",
   "metadata": {},
   "source": [
    ">https://ocw.mit.edu/courses/18-01sc-single-variable-calculus-fall-2010/resources/mit18_01scf10_ex92prb/"
   ]
  },
  {
   "cell_type": "markdown",
   "metadata": {},
   "source": [
    "### 问题\n",
    "$\\int_1^{\\infty}{\\frac{dx}{(5x+2)^2}} \\sim \\int_1^{\\infty}{\\frac{dx}{(5x)^2}}$  \n",
    "而 $\\int_1^{\\infty}{\\frac{dx}{(5x)^2}}=\\int_1^{\\infty}{\\frac{dx}{25x^2}}=\\left[-\\frac{x^{-1}}{25}\\right]_1^\\infty=\\frac{1}{25}$ 收敛  \n",
    "因此 $\\int_1^{\\infty}{\\frac{dx}{(5x+2)^2}}$ 收敛"
   ]
  }
 ],
 "metadata": {
  "language_info": {
   "name": "python"
  }
 },
 "nbformat": 4,
 "nbformat_minor": 2
}
