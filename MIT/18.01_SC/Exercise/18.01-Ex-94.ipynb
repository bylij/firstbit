{
 "cells": [
  {
   "cell_type": "markdown",
   "metadata": {},
   "source": [
    ">https://ocw.mit.edu/courses/18-01sc-single-variable-calculus-fall-2010/resources/mit18_01scf10_ex94prb/"
   ]
  },
  {
   "cell_type": "markdown",
   "metadata": {},
   "source": [
    "### 问题\n",
    "- a) $S_0=\\frac{1}{2^0}=1$ 而 $\\frac{2^{0+1}-1}{2^0}=\\frac{2-1}{1}=1$ 因此 $S_0=\\frac{2^{0+1}-1}{2^0}$ 成立\n",
    "- b) 当 $S_{N-1}=\\frac{2^{(N-1)+1}-1}{2^{(N-1)}}=\\frac{2^N-1}{2^{N-1}}$ 成立时，$S_{N-1}+\\frac{1}{2^N}=\\frac{2^N-1}{2^{N-1}}+\\frac{1}{2^N}=\\frac{(2^N-1) \\cdot 2+1}{2^N}=\\frac{2^{N+1}-1}{2^N}$，即 $S_N=\\frac{2^{N+1}-1}{2^N}$ 成立  \n",
    "至此，数学归纳法证明完成\n",
    "- c) $\\lim\\limits_{N \\to \\infty}S_N=\\lim\\limits_{N \\to \\infty}\\frac{2^{N+1}-1}{2^N}=\\lim\\limits_{N \\to \\infty}(2-\\frac{1}{2^N})=2$"
   ]
  }
 ],
 "metadata": {
  "language_info": {
   "name": "python"
  }
 },
 "nbformat": 4,
 "nbformat_minor": 2
}
