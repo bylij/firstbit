{
 "cells": [
  {
   "cell_type": "markdown",
   "metadata": {},
   "source": [
    ">https://ocw.mit.edu/courses/18-01sc-single-variable-calculus-fall-2010/resources/mit18_01scf10_ex95prb/"
   ]
  },
  {
   "cell_type": "markdown",
   "metadata": {},
   "source": [
    "### 问题\n",
    "- a) $a_n=\\frac{1}{\\sqrt[3]{n}} \\implies \\lim\\limits_{n \\to \\infty}\\frac{a_{n+1}}{a_n}=\\lim\\limits_{n \\to \\infty}\\frac{1/\\sqrt[3]{n+1}}{1/\\sqrt[3]{n}}=\\lim\\limits_{n \\to \\infty}\\sqrt[3]{\\frac{n}{n+1}}=\\lim\\limits_{n \\to \\infty}\\sqrt[3]{1-\\frac{1}{n+1}}=1$ 不能判断\n",
    "- b) $a_n=\\frac{(n!)^2}{(2n)!} \\implies \\lim\\limits_{n \\to \\infty}\\frac{a_{n+1}}{a_n}=\\lim\\limits_{n \\to \\infty}\\frac{((n+1)!)^2/(2n+2)!}{(n!)^2/(2n)!}=\\lim\\limits_{n \\to \\infty}\\left[\\frac{((n+1)!)^2}{(n!)^2} \\cdot \\frac{(2n)!}{(2n+2)!}\\right]=\\lim\\limits_{n \\to \\infty}\\left[(\\frac{(n+1)!}{n!})^2 \\cdot \\frac{(2n)!}{(2n)!(2n+1)(2n+2)}\\right]=\\lim\\limits_{n \\to \\infty}\\frac{(n+1)^2}{(2n+1)(2n+2)}=\\frac{1}{4} \\lt 1$ 级数是收敛的\n",
    "- c) $a_n=\\frac{(-3)^n}{n!}$ 并不满足 $a_n \\gt 0$ 总成立，不满足题目假设条件  \n",
    "但放开 $a_n \\gt 0$ 的条件进行验证，可知 $a_n$ 级数是收敛的"
   ]
  }
 ],
 "metadata": {
  "language_info": {
   "name": "python"
  }
 },
 "nbformat": 4,
 "nbformat_minor": 2
}
