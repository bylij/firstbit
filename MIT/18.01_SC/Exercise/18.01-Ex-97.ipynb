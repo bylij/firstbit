{
 "cells": [
  {
   "cell_type": "markdown",
   "metadata": {},
   "source": [
    ">https://ocw.mit.edu/courses/18-01sc-single-variable-calculus-fall-2010/resources/mit18_01scf10_ex97prb/"
   ]
  },
  {
   "cell_type": "markdown",
   "metadata": {},
   "source": [
    "### 问题\n",
    "- $a_n=\\frac{x^n}{n!} \\implies \\lim\\limits_{n \\to \\infty}\\frac{a_{n+1}}{a_n}=\\lim\\limits_{n \\to \\infty}\\frac{x}{n+1}=0$ (x 选定之后为常数)  \n",
    "级数的收敛半径为 $|x| \\lt R$ 其中 $R$ 为 $\\infty$"
   ]
  }
 ],
 "metadata": {
  "language_info": {
   "name": "python"
  }
 },
 "nbformat": 4,
 "nbformat_minor": 2
}
