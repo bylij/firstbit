{
 "cells": [
  {
   "cell_type": "markdown",
   "metadata": {},
   "source": [
    ">https://ocw.mit.edu/courses/18-01sc-single-variable-calculus-fall-2010/resources/mit18_01scf10_ex98prb/"
   ]
  },
  {
   "cell_type": "markdown",
   "metadata": {},
   "source": [
    "### 问题\n",
    "- $f(x)=e^x \\implies f^{(N+1)}(x)=e^x$ 这里 $c=0$  \n",
    "对于任意 $x \\in [-d, d] \\implies \\frac{1}{e^d} \\le e^x \\le e^d \\implies |f^{(N+1)}(x)| \\le e^d$ 即 $B=e^d$ 泰勒不等式前提条件成立  \n",
    "$rhs_N=\\frac{B}{(N+1)!}|x-c|^{N+1}=\\frac{e^d}{(N+1)!}|x|^{N+1} \\implies \\lim\\limits_{N \\to \\infty}rhs_N=\\lim\\limits_{N \\to \\infty}\\frac{e^d}{(N+1)!}|x|^{N+1}=0$ 满足 当 $N \\to \\infty$ 时 $rhs_N=0$  \n",
    "可知当 $N \\to \\infty$ 时 $|R_N(x)| \\le rhs_N=0$ 即 $N \\to \\infty$ 时 $R_N(x)=0 \\implies f(x)=\\lim\\limits_{N \\to \\infty}P_N(x)$ 命题成立"
   ]
  }
 ],
 "metadata": {
  "language_info": {
   "name": "python"
  }
 },
 "nbformat": 4,
 "nbformat_minor": 2
}
