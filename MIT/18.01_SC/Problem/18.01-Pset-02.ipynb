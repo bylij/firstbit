{
 "cells": [
  {
   "cell_type": "markdown",
   "metadata": {},
   "source": [
    ">https://ocw.mit.edu/courses/18-01sc-single-variable-calculus-fall-2010/resources/mit18_01sc_pset1prb-1/"
   ]
  },
  {
   "cell_type": "markdown",
   "metadata": {},
   "source": [
    "### 问题1F-3\n",
    "- $y=x^{\\frac{1}{n}} \\iff y^n=x$ 两侧同时微分得 $n \\cdot y \\cdot \\frac{dy}{dx}=1 \\implies \\frac{dy}{dx}=\\frac{1}{ny}=\\frac{1}{n \\cdot x^{\\frac{1}{n}}}$"
   ]
  },
  {
   "cell_type": "markdown",
   "metadata": {},
   "source": [
    "### 问题1F-5\n",
    "- $\\sin{x}+\\sin{y}=\\frac{1}{2}$ 两侧同时微分 $\\cos{x}+\\cos{y} \\cdot y^\\prime=0 \\implies y^\\prime=-\\frac{\\cos{x}}{\\cos{y}}$  \n",
    "由 $y^\\prime=0$ 得 $\\cos{x}=0, \\cos{y} \\ne 0$  \n",
    "由 $\\cos{x}=0$ 得 $\\sin{x}=\\pm 1$  \n",
    "当取 $\\sin{x}=-1$ 时得 $\\sin{y}=\\frac{1}{2}-(-1)=\\frac{3}{2} \\gt 1$ 不合理，因此 $\\sin{x}=1, \\sin{y}=-\\frac{1}{2}$  \n",
    "可得 $x=n \\cdot \\pi, n \\in \\mathbb{N}$；$y=m \\cdot 2\\pi-\\frac{\\pi}{2}, m \\in \\mathbb{N}$  \n",
    "所有满足条件的点的集合 $\\{(x, y)|x=n \\cdot \\pi, y=m \\cdot 2\\pi-\\frac{\\pi}{2}, m,n \\in \\mathbb{N}\\}$"
   ]
  },
  {
   "cell_type": "markdown",
   "metadata": {},
   "source": [
    "### 问题1F-8\n",
    "- a) $V=\\frac{1}{3}\\pi r^2h$ 隐式微分得 $0=\\frac{1}{3}\\pi((r^2)^\\prime \\cdot h+r^2 \\cdot h^\\prime) \\implies 0=2r \\cdot r^\\prime \\cdot h+r^2 \\implies r^\\prime=-\\frac{r}{2h}$  \n",
    "将 $r=\\sqrt{\\frac{3V}{\\pi h}}$ 带入得 $r^\\prime=-\\frac{1}{2h}\\sqrt{\\frac{3V}{\\pi h}}$\n",
    "- c) $c^2=a^2+b^2-2ab\\cos{\\theta}$ 隐式微分得 $0=(a^2)^\\prime+(b^2)^\\prime-2\\cos\\theta(a^\\prime \\cdot b+a \\cdot b^\\prime) \\implies 0=2a \\cdot a^\\prime+2b-2\\cos\\theta(a^\\prime \\cdot b+a)$  \n",
    "得 $a^\\prime=\\frac{a\\cos{\\theta}-b}{a-b\\cos{\\theta}}$ 带入 $a=b\\cos{\\theta} \\pm \\sqrt{c^2-b^2\\sin^2{\\theta}}$ 得 $a^\\prime=\\cos{\\theta} \\pm \\frac{b\\sin^2{\\theta}}{\\sqrt{c^2-b^2\\sin^2{\\theta}}}$"
   ]
  },
  {
   "cell_type": "markdown",
   "metadata": {},
   "source": [
    "### 问题1G-4\n",
    "- $y^{(n)}=(-1)^n \\cdot n! \\cdot (1+x)^{-(n+1)}$"
   ]
  },
  {
   "cell_type": "markdown",
   "metadata": {},
   "source": [
    "### 问题1G-5\n",
    "- b) $y=uv$  \n",
    "$y^\\prime=(uv)^\\prime=u^\\prime \\cdot v+u \\cdot v^\\prime$，$y^{\\prime\\prime}=(uv)^{\\prime\\prime}=u^{\\prime\\prime} \\cdot v+2u^\\prime v^\\prime+u \\cdot v^{\\prime\\prime}$，$y^{\\prime\\prime\\prime}=(uv)^{\\prime\\prime\\prime}=u^{\\prime\\prime\\prime} \\cdot v+3u^{\\prime\\prime} \\cdot v+3u \\cdot {v}^{\\prime\\prime}+u \\cdot v^{\\prime\\prime\\prime}$  \n",
    "以上结果经过 $Leibniz$ 公式验证正确  \n",
    "$x^p(1+x)^q\\\\\n",
    "=x^p(1^q+\\binom{q}{1} \\cdot 1^{q-1} \\cdot x^1+\\binom{q}{2} \\cdot 1^{q-2} \\cdot x^2+...+\\binom{q}{q-2} \\cdot 1^2 \\cdot x^{q-2}+\\binom{q}{q-1} \\cdot 1^1 \\cdot x^{q-1}+x^q)\\\\\n",
    "=x^p(1+\\binom{q}{1} \\cdot x^1+\\binom{q}{2} \\cdot x^2+...+\\binom{q}{q-2} \\cdot x^{q-2}+\\binom{q}{q-1} \\cdot x^{q-1}+x^q)\\\\\n",
    "=x^p+\\binom{q}{1} \\cdot x^{p+1}+\\binom{q}{2} \\cdot x^{p+2}+...+\\binom{q}{q-2} \\cdot x^{p+q-2}+\\binom{q}{q-1} \\cdot x^{p+q-1}+x^{p+q}$  \n",
    "则 $y^{(p+q)}\\\\\n",
    "=(x^p+\\binom{q}{1} \\cdot x^{p+1}+\\binom{q}{2} \\cdot x^{p+2}+...+\\binom{q}{q-2} \\cdot x^{p+q-2}+\\binom{q}{q-1} \\cdot x^{p+q-1}+x^{p+q})^{(p+q)}\\\\\n",
    "=[(x^p)^{(p)}+(\\binom{q}{1} \\cdot x^{p+1})^{(p)}+(\\binom{q}{2} \\cdot x^{p+2})^{(p)}+...+(\\binom{q}{q-2} \\cdot x^{p+q-2})^{(p)}+(\\binom{q}{q-1} \\cdot x^{p+q-1})^{(p)}+(x^{p+q})^{(p)}]^{(q)}\\\\\n",
    "=(p!+\\binom{q}{1} \\cdot p! \\cdot x+\\binom{q}{2} \\cdot p! \\cdot x^2+...+\\binom{q}{q-2} \\cdot p! \\cdot x^{q-2}+\\binom{q}{q-1} \\cdot x^{q-1}+p! \\cdot x^q)^{(q)}\\\\\n",
    "=p! \\cdot (1+\\binom{q}{1} \\cdot x+\\binom{q}{2} \\cdot x^2+...+\\binom{q}{q-2} \\cdot x^{q-2}+\\binom{q}{q-1} \\cdot x^{q-1}+x^q)^{(q)}\\\\\n",
    "=p! \\cdot (0+0+0+...+0+0+q!)\\\\\n",
    "=p! \\cdot q!$"
   ]
  },
  {
   "cell_type": "markdown",
   "metadata": {},
   "source": [
    ">https://ocw.mit.edu/courses/18-01sc-single-variable-calculus-fall-2010/resources/mit18_01sc_pset5prb/"
   ]
  },
  {
   "cell_type": "markdown",
   "metadata": {},
   "source": [
    "### 问题5A-1\n",
    "- a) $\\tan^{-1}{\\sqrt{3}}=\\frac{\\pi}{3}$\n",
    "- b) $\\sin^{-1}{\\frac{\\sqrt{3}}{2}}=\\frac{\\pi}{2}$\n",
    "- c) $\\sin{\\theta}=\\frac{5}{\\sqrt{26}}, \\cos{\\theta}=\\frac{1}{\\sqrt{26}}, \\sec{\\theta}=\\sqrt{26}$"
   ]
  },
  {
   "cell_type": "markdown",
   "metadata": {},
   "source": [
    "### 问题5A-3\n",
    "- f) $y=\\sin^{-1}(a/x) \\implies \\sin{y}=\\frac{a}{x}$  \n",
    "通过隐式微分得 $(\\sin{y})^\\prime \\cdot y^\\prime=(\\frac{a}{x})^\\prime \\implies \\cos{y} \\cdot y^\\prime=-\\frac{a}{x^2} \\implies y^\\prime=-\\frac{a}{x^2}  \\cdot \\sec{y}$  \n",
    "将 $\\sin{y}=\\frac{a}{x}$ 带入得 $y^\\prime=\\pm \\frac{a}{x\\sqrt{x^2-a^2}}$\n",
    "- g) $y=\\tan^{-1}{(x/\\sqrt{1-x^2})} \\implies \\tan{y}=\\frac{x}{\\sqrt{1-x^2}}$ $\\textcircled{1}$  \n",
    "通过隐式微分得 $\\sec^2{y} \\cdot y^\\prime=\\frac{1}{\\sqrt{(1-x^2)^3}} \\implies y^\\prime=\\frac{\\cos^2{y}}{\\sqrt{(1-x^2)^3}}$  \n",
    "将 $\\textcircled{1}$ 带入得 $y^\\prime=\\frac{1}{\\sqrt{1-x^2}}$\n",
    "- h) $y=\\sin^{-1}{\\sqrt{1-x}} \\implies \\sin{y}=\\sqrt{1-x}$ $\\textcircled{1}$  \n",
    "隐式微分得 $\\cos{y} \\cdot y^\\prime=-\\frac{1}{2\\sqrt{1-x}} \\implies y^\\prime=-\\frac{\\sec{y}}{2\\sqrt{1-x}}$  \n",
    "将 $\\textcircled{1}$ 带入得 $y^\\prime=-\\frac{1}{2\\sqrt{(1-x)|x|}}$"
   ]
  },
  {
   "cell_type": "markdown",
   "metadata": {},
   "source": [
    ">https://ocw.mit.edu/courses/18-01sc-single-variable-calculus-fall-2010/resources/mit18_01sc_pset1prb-1/"
   ]
  },
  {
   "cell_type": "markdown",
   "metadata": {},
   "source": [
    "### 问题1H-1\n",
    "- a) $y=y_0e^{−kt}=\\frac{y_0}{e^{kt}} \\implies e^{kt}=\\frac{y_0}{y} \\implies t=\\frac{ln{\\frac{y}{y_0}}}{k}$  \n",
    "将 $\\frac{y_0}{y}=2$ 带入得 $\\lambda=\\frac{\\ln{2}}{k}$\n",
    "- b) $y=y_0e^{−kt} \\implies \\ln{y}=\\ln{(y_0e^{-kt})}=\\ln{y_0}+\\ln{e^{-kt}}=\\ln{y_0}-kt$  \n",
    "由已知得 $\\ln{y_1}=\\ln{y_0}-kt_1$ $\\textcircled{1}$  \n",
    "$\\ln{y}=\\ln{y_0}-k(t_1+\\lambda)=\\ln{y_0}-kt_1-k\\lambda$  \n",
    "将 $\\textcircled{1}$ 带入得 $\\ln{y}=\\ln{y_1}-k\\lambda=\\ln{y_1}-\\ln{2}=\\ln{\\frac{y_1}{2}} \\implies y=\\frac{y_1}{2}$"
   ]
  },
  {
   "cell_type": "markdown",
   "metadata": {},
   "source": [
    "### 问题1H-2\n",
    "- $pH_{original}=-\\log_{10}[H^{+}]$  \n",
    "$pH_{diluted}=-\\log_{10}[H^{+}/2]=-(\\log_{10}[H^{+}]-\\log_{10}{2})=\\log_{10}{2}-\\log_{10}[H^{+}]=\\log_{10}{2}-pH_{original}$"
   ]
  },
  {
   "cell_type": "markdown",
   "metadata": {},
   "source": [
    "### 问题1H-3\n",
    "- a) $\\ln{(y+1)}+\\ln{(y−1)}=2x+\\ln{x}\\\\\n",
    "\\iff \\ln{(y+1)(y-1)}=\\ln{e^{2x}+\\ln{x}=\\ln{xe^{2x}}}\\\\\n",
    "\\iff \\ln{(y^2-1)}=\\ln{xe^{2x}}\\\\\n",
    "\\iff y^2-1=xe^{2x}$  \n",
    "解得 $y=\\pm \\sqrt{xe^{2x}+1}$ 由于 $y \\gt 1$ 取 $y=\\sqrt{xe^{2x}+1}$"
   ]
  },
  {
   "cell_type": "markdown",
   "metadata": {},
   "source": [
    "### 问题1H-5\n",
    "- b) $y=e^x+e^{-x}$  \n",
    "设 $u=e^x$ 由 $y=u+\\frac{1}{u} \\implies u^2-yu+1=0$ 解得 $u=\\frac{y \\pm \\sqrt{y^2-4}}{2}$ 即 $e^x=\\frac{y \\pm \\sqrt{y^2-4}}{2} \\implies x=\\ln{\\frac{y \\pm \\sqrt{y^2-4}}{2}}$"
   ]
  },
  {
   "cell_type": "markdown",
   "metadata": {},
   "source": [
    "### 问题1I-1\n",
    "- c) $(e^{-x^2})^\\prime=e^{-x^2} \\cdot (-x^2)^\\prime=e^{-x^2} \\cdot -1 \\cdot 2x=-2xe^{-x^2}$\n",
    "- d) $(x\\ln{x}-x)^\\prime=(x^\\prime \\cdot \\ln{x}+x \\cdot (\\ln{x})^\\prime)-1=(1 \\cdot \\ln{x}+x \\cdot \\frac{1}{x})-1=\\ln{x}$\n",
    "- e) $(\\ln{x^2})^\\prime=\\frac{1}{x^2} \\cdot (x^2)^\\prime=\\frac{1}{x^2} \\cdot 2x=\\frac{2}{x}$\n",
    "- f) $((\\ln{x})^2)^\\prime=2\\ln{x} \\cdot (\\ln{x})^\\prime=2\\ln{x} \\cdot \\frac{1}{x}=\\frac{2\\ln{x}}{x}$\n",
    "- m) 设 $u=\\frac{1-e^x}{1+e^x} \\implies \\ln{u}=\\ln{\\frac{1-e^x}{1+e^x}}=\\ln{(1-e^x)-\\ln{(1+e^x)}}\\\\\n",
    "\\implies \\frac{u^\\prime}{u}=\\frac{-e^x}{1-e^x}-\\frac{e^x}{1+e^x} \\implies u^\\prime=u \\cdot \\frac{-e^x(1+e^x)-e^x(1-e^x)}{(1-e^x)(1+e^x)}=\\frac{1-e^x}{1+e^x} \\cdot \\frac{-2e^x}{(1-e^x)(1+e^x)}=\\frac{-2e^x}{(1+e^x)^2}$"
   ]
  },
  {
   "cell_type": "markdown",
   "metadata": {},
   "source": [
    "### 问题1I-4\n",
    "- a) $\\lim\\limits_{n \\to \\infty}{(1+\\frac{1}{n})^{3n}}=e^3$"
   ]
  },
  {
   "cell_type": "markdown",
   "metadata": {},
   "source": [
    ">https://ocw.mit.edu/courses/18-01sc-single-variable-calculus-fall-2010/resources/mit18_01sc_pset5prb/"
   ]
  },
  {
   "cell_type": "markdown",
   "metadata": {},
   "source": [
    "### 问题5A-5\n",
    "- a) 函数 $\\sinh{x}=\\frac{e^x-e^{-x}}{2}$ 不存在临界点；拐点为原点，$x \\lt 0$ 时曲线下凹，$x \\gt 0$ 时曲线上凹；$\\lim\\limits_{x \\to \\infty}{\\sinh{x}}=\\infty$ 且 $\\lim\\limits_{x \\to -\\infty}{\\sinh{x}}=-\\infty$\n",
    "- b) 设 $u=e^x$ 由 $y=\\frac{u-u^{-1}}{2}$ 得 $u^2-2yu-1=0$  \n",
    "解得 $u=\\frac{2y \\pm \\sqrt{4y^2+4}}{2}=y \\pm \\sqrt{y^2+1}$ 由于 $u=e^x \\gt 0$ 取 $e^x=y \\pm \\sqrt{y^2+1} \\implies x=\\ln{(y+\\sqrt{y^2+1})}$  \n",
    "因此 $\\sinh^{-1}{x}=\\ln{(x+\\sqrt{x^2+1})}$"
   ]
  }
 ],
 "metadata": {
  "language_info": {
   "name": "python"
  }
 },
 "nbformat": 4,
 "nbformat_minor": 2
}
