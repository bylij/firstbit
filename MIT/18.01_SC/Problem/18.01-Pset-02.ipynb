{
 "cells": [
  {
   "cell_type": "markdown",
   "metadata": {},
   "source": [
    ">https://ocw.mit.edu/courses/18-01sc-single-variable-calculus-fall-2010/resources/mit18_01sc_pset1prb-1/"
   ]
  },
  {
   "cell_type": "markdown",
   "metadata": {},
   "source": [
    "### 问题1F-3\n",
    "- $y=x^{\\frac{1}{n}} \\iff y^n=x$ 两侧同时微分得 $n \\cdot y \\cdot \\frac{dy}{dx}=1 \\implies \\frac{dy}{dx}=\\frac{1}{ny}=\\frac{1}{n \\cdot x^{\\frac{1}{n}}}$"
   ]
  },
  {
   "cell_type": "markdown",
   "metadata": {},
   "source": [
    "### 问题1F-5\n",
    "- $\\sin{x}+\\sin{y}=\\frac{1}{2}$ 两侧同时微分 $\\cos{x}+\\cos{y} \\cdot y^\\prime=0 \\implies y^\\prime=-\\frac{\\cos{x}}{\\cos{y}}$  \n",
    "由 $y^\\prime=0$ 得 $\\cos{x}=0, \\cos{y} \\ne 0$  \n",
    "由 $\\cos{x}=0$ 得 $\\sin{x}=\\pm 1$  \n",
    "当取 $\\sin{x}=-1$ 时得 $\\sin{y}=\\frac{1}{2}-(-1)=\\frac{3}{2} \\gt 1$ 不合理，因此 $\\sin{x}=1, \\sin{y}=-\\frac{1}{2}$  \n",
    "可得 $x=n \\cdot \\pi, n \\in \\mathbb{N}$；$y=m \\cdot 2\\pi-\\frac{\\pi}{2}, m \\in \\mathbb{N}$  \n",
    "所有满足条件的点的集合 $\\{(x, y)|x=n \\cdot \\pi, y=m \\cdot 2\\pi-\\frac{\\pi}{2}, m,n \\in \\mathbb{N}\\}$"
   ]
  }
 ],
 "metadata": {
  "language_info": {
   "name": "python"
  }
 },
 "nbformat": 4,
 "nbformat_minor": 2
}
