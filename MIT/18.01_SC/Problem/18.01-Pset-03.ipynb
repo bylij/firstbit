{
 "cells": [
  {
   "cell_type": "markdown",
   "metadata": {},
   "source": [
    ">https://ocw.mit.edu/courses/18-01sc-single-variable-calculus-fall-2010/resources/mit18_01sc_pset2prb/"
   ]
  },
  {
   "cell_type": "markdown",
   "metadata": {},
   "source": [
    "### 问题2A-1\n",
    "- $f(x)=\\sqrt{a+bx}=[a(1+\\frac{b}{a}x)]^{\\frac{1}{2}}=\\sqrt{a}[(1+\\frac{b}{a}x)^{\\frac{1}{2}}] \\approx \\sqrt{a}(1+\\frac{1}{2}(\\frac{b}{a}x))=\\sqrt{a}+\\frac{b}{2\\sqrt{a}}x$  \n",
    "$f^\\prime(x)=\\frac{1}{2} \\cdot (a+bx)^{-\\frac{1}{2}} \\cdot b$  \n",
    "则 $f(0)=\\sqrt{a}, f^\\prime(0)=\\frac{b}{2\\sqrt{a}}$ 由 $f(x) \\approx f(0)+f^\\prime(0)x \\implies f(x) \\approx \\sqrt{a}+\\frac{b}{2\\sqrt{a}}x$"
   ]
  },
  {
   "cell_type": "markdown",
   "metadata": {},
   "source": [
    "### 问题2A-3\n",
    "- $f(x)=\\frac{(1+x)^{3/2}}{1+2x}=(1+x)^{3/2}(1+2x)^{-1} \\approx (1+\\frac{3}{2}x)(1-2x)=1-\\frac{x}{2}-3x^2 \\approx 1-\\frac{x}{2}$"
   ]
  },
  {
   "cell_type": "markdown",
   "metadata": {},
   "source": [
    "### 问题2A-6\n",
    "- $(\\tan{\\theta})^\\prime=\\sec^2{\\theta}, (\\tan{\\theta})^{\\prime\\prime}=2\\tan{\\theta}\\sec^2{\\theta}$  \n",
    "可得 $\\tan{0}=0, (\\tan{0})^\\prime=1, (\\tan{0})^{\\prime\\prime}=0$  \n",
    "由 $f(x) \\approx f(0)+f^\\prime(0)x+\\frac{f^{\\prime\\prime}(0)}{2}x^2 \\implies \\tan{x} \\approx x$"
   ]
  },
  {
   "cell_type": "markdown",
   "metadata": {},
   "source": [
    "### 问题2A-11\n",
    "- $pv^k=C\\\\\n",
    "\\implies p=Cv^{-k}\\\\\n",
    "\\implies p^\\prime=-kCv^{-(k+1)}\\\\\n",
    "\\implies p^{\\prime\\prime}=k(k+1)Cv^{-(k+2)}$  \n",
    "可得 $p \\approx Cv_0^{-k}-kCv^{-(k+1)} \\cdot \\vec{D}v+\\frac{k(k+1)Cv^{-(k+2)}}{2} \\cdot (\\vec{D}v)^2$"
   ]
  },
  {
   "cell_type": "markdown",
   "metadata": {},
   "source": [
    "### 问题2A-12\n",
    "- a) $\\frac{e^x}{1-x}=e^x(1-x)^{-1} \\approx (1+x+\\frac{1}{2}x^2)(1+x+x^2) \\approx 1+2x+\\frac{5}{2}x^2$\n",
    "- d) $f(x)=ln\\cos{x} \\implies f^\\prime(x)=-\\tan{x} \\implies f^{\\prime\\prime}=-\\sec^2{x}$  \n",
    "可得 $f(0)=0, f^\\prime(0)=0, f^{\\prime\\prime}=-1$  \n",
    "可得 $ln\\cos{x} \\approx -\\frac{1}{2}x^2$\n",
    "- e) $f(x)=x\\ln{x} \\implies f^\\prime(x)=\\ln{x}+1 \\implies f^{\\prime\\prime}=\\frac{1}{x}$  \n",
    "可得 $f(1)=0, f^\\prime(1)=1, f^{\\prime\\prime}=1$  \n",
    "可得 $x\\ln{x} \\approx (x-1)+\\frac{1}{2}(x-1)^2=-\\frac{1}{2}+\\frac{1}{2}x^2$"
   ]
  },
  {
   "cell_type": "markdown",
   "metadata": {},
   "source": [
    "### 问题2B-2\n",
    "- a) $x=0$\n",
    "- e) 不存在\n",
    "- h) 不存在"
   ]
  },
  {
   "cell_type": "markdown",
   "metadata": {},
   "source": [
    "### 问题2B-4\n",
    "- 已在草纸上绘制，这里省略"
   ]
  },
  {
   "cell_type": "markdown",
   "metadata": {},
   "source": [
    "### 问题2B-6\n",
    "- a) $f(x)=\\frac{1}{3}x^3-x$\n",
    "- b) 已在草纸上绘制，这里省略"
   ]
  },
  {
   "cell_type": "markdown",
   "metadata": {},
   "source": [
    "### 问题2B-7\n",
    "- a) $f^\\prime(x)=\\lim\\limits_{\\Delta{x} \\to 0}\\frac{f(x+\\Delta{x})-f(x)}{\\Delta{x}}$  \n",
    "$f(x)$ 是递增函数 $\\implies f(x+\\Delta{x}) \\ge f(x) \\implies f(x+\\Delta{x})-f(x) \\ge 0 \\implies f^\\prime(x) \\ge 0 \\implies f^\\prime(a) \\ge 0$\n",
    "- b) $f(x)=\\sqrt{x}$ 在 $x=0$ 点 $f^\\prime(0)=0$"
   ]
  }
 ],
 "metadata": {
  "language_info": {
   "name": "python"
  }
 },
 "nbformat": 4,
 "nbformat_minor": 2
}
