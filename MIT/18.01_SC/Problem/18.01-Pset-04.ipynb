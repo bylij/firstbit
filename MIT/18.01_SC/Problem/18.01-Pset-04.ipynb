{
 "cells": [
  {
   "cell_type": "markdown",
   "metadata": {},
   "source": [
    ">https://ocw.mit.edu/courses/18-01sc-single-variable-calculus-fall-2010/resources/mit18_01sc_pset2prb-1/"
   ]
  },
  {
   "cell_type": "markdown",
   "metadata": {},
   "source": [
    "### 问题2C-1\n",
    "- $V=(12-2x)^2x \\implies V^\\prime=12(x-2)(x-6)$  \n",
    "由于 $0 \\lt x \\lt 6$ 可知 $x=2$ 为极点  \n",
    "验证 $V(x=0^+)=0, V(x=6^-)=0$ 可知极点取最大值  \n",
    "即在边角裁掉的方块边长为 $2$ 时盒子的体积最大"
   ]
  },
  {
   "cell_type": "markdown",
   "metadata": {},
   "source": [
    "### 问题2C-2\n",
    "- 设围栏部分相等的边长为 $x$，另一个边为 $y$  \n",
    "限制条件 $S=xy$  \n",
    "$L=2x+y=2x+\\frac{S}{x} \\implies L^\\prime=2-\\frac{S}{x^2}$ 可得极点 $x=\\sqrt{\\frac{S}{2}}=\\sqrt{\\frac{20000}{2}}=100$  \n",
    "验证 $L(x=0^+)=\\infty, L(x=\\infty)=\\infty$ 可知在极点取得最小值 $L=2x+\\frac{S}{x}=400$  \n",
    "即最短的围栏尺寸为 200 英尺"
   ]
  },
  {
   "cell_type": "markdown",
   "metadata": {},
   "source": [
    "### 问题2C-4\n",
    "- 设盒子的长为 $l$，底边长为 $s$  \n",
    "限制条件 $l+4s=108$  \n",
    "$V=s^2l=s^2(108-4s) \\implies V^\\prime=12s(18-s)$  \n",
    "由于 $0 \\lt s \\lt 21.6$ 可知极点为 $s=18$，极值为 $V=18^2 \\cdot (108-4 \\cdot 18)=11664$  \n",
    "验证 $V(s=0^+)=0, V(s=21.6) \\approx 10077 \\lt 11664$ 可得在极点取得最大值  \n",
    "盒子的最大尺寸为 $36 \\times 18 \\times 18$，最大体积为 $11664$ 立方英尺"
   ]
  },
  {
   "cell_type": "markdown",
   "metadata": {},
   "source": [
    "### 问题2C-10\n",
    "- 问题错误，应该为 $\\frac{\\cos{\\alpha}}{\\cos{\\beta}}=\\frac{5}{2}$"
   ]
  },
  {
   "cell_type": "markdown",
   "metadata": {},
   "source": [
    "### 问题2C-13\n",
    "- a) 设单价 $x$，卖出 $y$ 张票  \n",
    "由已知得 $y=100+\\frac{2}{5}(200-x)$ $\\textcircled{1}$，限制条件 $0 \\le y \\le 100 \\implies 200 \\le x \\le 450$  \n",
    "销售额 $R=xy$ 带入 $\\textcircled{1}$ 得 $R=x(100+\\frac{2}{5}(200-x))=180x-\\frac{2}{5}x^2 \\implies R^\\prime=180-\\frac{4}{5}x$  \n",
    "由 $R^\\prime=0$ 得到极点 $x=225$ 取得极值 $R=20250$  \n",
    "验证 $R(200)=20000 \\lt 20250, R(450)=0$ 可知在极点取得最大值，即票价 $225$ 美元取得的销售额最大"
   ]
  },
  {
   "cell_type": "markdown",
   "metadata": {},
   "source": [
    "- b) 限制条件 $x=10^5(10-\\frac{p}{2})$ 由 $0 \\le x \\le 8 \\times 10^5 \\implies p \\in [4, 20]$  \n",
    "收益 $R=xp-x(10-\\frac{x}{10^5})=10^5(10-\\frac{p}{2})p-x(10-\\frac{x}{10^5}) \\implies R^\\prime=10^5(10-p)$ 可得极点 $p=10$ 极值为 $R=2.5 \\times 10^6$  \n",
    "验证 $p=4, x=8 \\times 10^5$ 时 $R=1.6 \\times 10^6 \\lt 2.5 \\times 10^6$，当 $p=20, x=0$ 时 $R=0$  \n",
    "可知在极点处取得最大值，因此电价为每千瓦时 $10$ 美分时取得最大收益 "
   ]
  },
  {
   "cell_type": "markdown",
   "metadata": {},
   "source": [
    "### 问题2E-2\n",
    "- 示意图如下  \n",
    "![](data:image/png;base64,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)  \n",
    "已知 $\\frac{d\\theta}{dt}=\\frac{2\\pi}{3}$  \n",
    "$s=4\\tan{\\theta} \\implies v=\\frac{ds}{dt}=4 \\cdot \\frac{d\\tan{\\theta}}{dt}=4 \\cdot \\sec^2{\\theta} \\cdot \\frac{d\\theta}{dt}=\\frac{8\\pi}{3}\\sec^2{\\theta}$  \n",
    "光线与海岸线夹角 $60^\\circ$ 则 $\\theta=30^\\circ$  带入得 $v=\\frac{8\\pi}{3}\\sec^2{30^\\circ}=2\\pi$ 英里/分"
   ]
  },
  {
   "cell_type": "markdown",
   "metadata": {},
   "source": [
    "### 问题2E-3\n",
    "- 已知 $v_1=v_2=30$  \n",
    "$s=\\sqrt{(v_2t)^2+[v_1(\\frac{1}{6}+t)]^2}=\\sqrt{(30t)^2+[30(\\frac{1}{6}+t)]^2} \\implies v=\\frac{ds}{dt}=\\frac{60t+5}{\\sqrt{t^2+(t+\\frac{1}{6})^2}}$  \n",
    "带入 $t=10/30=\\frac{1}{3}$ 得到 $v=\\frac{150}{\\sqrt{13}} \\approx 41.6$ 英里/时"
   ]
  },
  {
   "cell_type": "markdown",
   "metadata": {},
   "source": [
    "### 问题2E-5\n",
    "- $x^2+10^2=y^2$ 已知 $\\frac{dy}{dt}=4$  \n",
    "$x^2+10^2=y^2 \\implies 2x \\cdot \\frac{dx}{dt}=2y \\cdot \\frac{dy}{dt} \\implies \\frac{dx}{dt}=\\frac{y}{x} \\cdot \\frac{dy}{dt}=\\frac{4y}{x}$ $\\textcircled{1}$  \n",
    "$x=20 \\implies y=10\\sqrt{5}$ 带入 $\\textcircled{1}$ 得 $v=\\frac{dx}{dt}=2\\sqrt{5}$ 英尺/秒"
   ]
  },
  {
   "cell_type": "markdown",
   "metadata": {},
   "source": [
    "### 问题2E-7\n",
    "- $V=4 \\cdot \\frac{h}{2}[0.5+(0.5+2h)]=2h+4h^2 \\implies \\frac{dV}{dt}=2 \\cdot \\frac{dh}{dt}+8h \\cdot \\frac{dh}{dt} \\implies \\frac{dh}{dt}=\\frac{dV}{dt}/(2+8h)$  \n",
    "带入 $\\frac{dV}{dt}=1, h=0.5$ 得 $v=\\frac{dh}{dt}=\\frac{1}{6}$ 米/秒"
   ]
  },
  {
   "cell_type": "markdown",
   "metadata": {},
   "source": [
    "### 问题2F-1\n",
    "- a) 已在草纸上绘制，这里省略  \n",
    "$y^\\prime=-\\sin{x}-1 \\le 0$ 是递减函数，因此 $\\cos{x}-x=0$ 仅有一个根  \n",
    "$\\cos{\\frac{\\pi}{6}}-\\frac{\\pi}{6} \\approx 0.342 \\gt 0$ 且 $\\cos{\\frac{\\pi}{4}}-\\frac{\\pi}{4} \\approx -0.078 \\lt 0$ 可知根的范围 $\\frac{\\pi}{6} \\lt x \\lt \\frac{\\pi}{4}$\n",
    "- b) 取 $x_0=\\frac{\\pi}{4} \\implies x_1=x_0-\\frac{f(x_0)}{f^\\prime(x_0)}=\\frac{\\pi}{4}-\\frac{\\cos{\\frac{\\pi}{4}}-\\frac{\\pi}{4}}{-\\sin{\\frac{\\pi}{4}}-1} \\approx 0.739$\n",
    "- c) 大于 $10$ 轮迭代，牛顿法更快"
   ]
  }
 ],
 "metadata": {
  "language_info": {
   "name": "python"
  }
 },
 "nbformat": 4,
 "nbformat_minor": 2
}
