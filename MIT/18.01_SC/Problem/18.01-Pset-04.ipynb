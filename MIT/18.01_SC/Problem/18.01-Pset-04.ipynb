{
 "cells": [
  {
   "cell_type": "markdown",
   "metadata": {},
   "source": [
    ">https://ocw.mit.edu/courses/18-01sc-single-variable-calculus-fall-2010/resources/mit18_01sc_pset2prb-1/"
   ]
  },
  {
   "cell_type": "markdown",
   "metadata": {},
   "source": [
    "### 问题2C-1\n",
    "- $V=(12-2x)^2x \\implies V^\\prime=12(x-2)(x-6)$  \n",
    "由于 $0 \\lt x \\lt 6$ 可知 $x=2$ 为极点  \n",
    "验证 $V(x=0^+)=0, V(x=6^-)=0$ 可知极点取最大值  \n",
    "即在边角裁掉的方块边长为 $2$ 时盒子的体积最大"
   ]
  },
  {
   "cell_type": "markdown",
   "metadata": {},
   "source": [
    "### 问题2C-2\n",
    "- 设围栏部分相等的边长为 $x$，另一个边为 $y$  \n",
    "限制条件 $S=xy$  \n",
    "$L=2x+y=2x+\\frac{S}{x} \\implies L^\\prime=2-\\frac{S}{x^2}$ 可得极点 $x=\\sqrt{\\frac{S}{2}}=\\sqrt{\\frac{20000}{2}}=100$  \n",
    "验证 $L(x=0^+)=\\infty, L(x=\\infty)=\\infty$ 可知在极点取得最小值 $L=2x+\\frac{S}{x}=400$  \n",
    "即最短的围栏尺寸为 200 英尺"
   ]
  },
  {
   "cell_type": "markdown",
   "metadata": {},
   "source": [
    "### 问题2C-4\n",
    "- 设盒子的长为 $l$，底边长为 $s$  \n",
    "限制条件 $l+4s=108$  \n",
    "$V=s^2l=s^2(108-4s) \\implies V^\\prime=12s(18-s)$  \n",
    "由于 $0 \\lt s \\lt 21.6$ 可知极点为 $s=18$，极值为 $V=18^2 \\cdot (108-4 \\cdot 18)=11664$  \n",
    "验证 $V(s=0^+)=0, V(s=21.6) \\approx 10077 \\lt 11664$ 可得在极点取得最大值  \n",
    "盒子的最大尺寸为 $36 \\times 18 \\times 18$，最大体积为 $11664$ 立方英尺"
   ]
  },
  {
   "cell_type": "markdown",
   "metadata": {},
   "source": [
    "### 问题2C-10\n",
    "- 问题错误，应该为 $\\frac{\\cos{\\alpha}}{\\cos{\\beta}}=\\frac{5}{2}$"
   ]
  },
  {
   "cell_type": "markdown",
   "metadata": {},
   "source": [
    "### 问题2C-13\n",
    "- a) 设单价 $x$，卖出 $y$ 张票  \n",
    "由已知得 $y=100+\\frac{2}{5}(200-x)$ $\\textcircled{1}$，限制条件 $0 \\le y \\le 100 \\implies 200 \\le x \\le 450$  \n",
    "销售额 $R=xy$ 带入 $\\textcircled{1}$ 得 $R=x(100+\\frac{2}{5}(200-x))=180x-\\frac{2}{5}x^2 \\implies R^\\prime=180-\\frac{4}{5}x$  \n",
    "由 $R^\\prime=0$ 得到极点 $x=225$ 取得极值 $R=20250$  \n",
    "验证 $R(200)=20000 \\lt 20250, R(450)=0$ 可知在极点取得最大值，即票价 $225$ 美元取得的销售额最大"
   ]
  },
  {
   "cell_type": "markdown",
   "metadata": {},
   "source": [
    "- b) "
   ]
  }
 ],
 "metadata": {
  "language_info": {
   "name": "python"
  }
 },
 "nbformat": 4,
 "nbformat_minor": 2
}
