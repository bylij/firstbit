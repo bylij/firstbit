{
 "cells": [
  {
   "cell_type": "markdown",
   "metadata": {},
   "source": [
    ">https://ocw.mit.edu/courses/18-01sc-single-variable-calculus-fall-2010/resources/mit18_01sc_pset2prb-2/"
   ]
  },
  {
   "cell_type": "markdown",
   "metadata": {},
   "source": [
    "### 问题2G-1\n",
    "- b) $f(x)=\\ln{x} \\implies f^\\prime(x)=\\frac{1}{x}$  \n",
    "根据 MVT $f^\\prime(c)=\\frac{f(b)-f(a)}{b-a}=\\frac{\\ln{2}-\\ln{1}}{2-1}=\\ln{2} \\implies \\frac{1}{c}=\\ln{2} \\implies c=\\frac{1}{\\ln{2}}$"
   ]
  },
  {
   "cell_type": "markdown",
   "metadata": {},
   "source": [
    "### 问题2G-2\n",
    "- b) 设 $f(x)=\\sqrt{1+x}-(1+\\frac{x}{2}) \\implies f^\\prime(x)=\\frac{1}{2\\sqrt{1+x}}-\\frac{1}{2}=\\frac{1}{2}(\\frac{1}{\\sqrt{1+x}}-1)$  \n",
    "由 $x \\gt 0$ 可得 $f^\\prime(x) \\lt 0$ 根据 MVT 得 $x \\gt 0 \\implies f(x) \\lt f(0) \\implies \\sqrt{1+x}-(1+\\frac{x}{2}) \\lt 0 \\implies \\sqrt{1+x} \\lt 1+\\frac{x}{2}$"
   ]
  },
  {
   "cell_type": "markdown",
   "metadata": {},
   "source": [
    "### 问题2G-5\n",
    "- a) 根据 MVT 存在 $a \\lt m \\lt b$ 满足 $f^\\prime(m)=\\frac{f(b)-f(a)}{b-a}=0$，同理存在 $b \\lt n \\lt c$ 满足 $f^\\prime(n)=\\frac{f(c)-f(b)}{c-b}=0$  \n",
    "针对函数 $f^\\prime(x)$ 根据 MVT 存在 $m \\lt p \\lt n$ 满足 $f^{\\prime\\prime}(p)=\\frac{f^\\prime(n)-f^\\prime(m)}{n-m}=0$ 同时满足 $a \\lt p \\lt c$ 命题成立\n",
    "- b) $f(x)=(x-a)(x-b)(x-c) \\implies f^{\\prime\\prime}=6x-2(a+b+c)$ 由 $f^{\\prime\\prime}(p)=0 \\implies p=\\frac{a+b+c}{3}$  \n",
    "验证 $p-a=\\frac{a+b+c}{3}-a=\\frac{b+c-2a}{3} \\gt 0 \\implies p \\gt a$  \n",
    "验证 $p-c=\\frac{a+b+c}{3}-c=\\frac{a+b-2c}{3} \\lt 0 \\implies p \\lt c$  \n",
    "因此 $p=\\frac{a+b+c}{3}$ 满足条件"
   ]
  },
  {
   "cell_type": "markdown",
   "metadata": {},
   "source": [
    "### 问题2G-6\n",
    "- a) 根据 MVT $f(x_2)-f(x_1)=f^\\prime(p)(x_2-x_1)$ 其中 $a \\le x_1 \\lt x_2 \\le b$  \n",
    "对于任意这样 $[a, b]$ 区间内的两点，必然存在一点 $p$ 满足上面的等式，而 $f^\\prime(p) \\gt 0$ 总是成立，可得 $f(x_2)-f(x_1) \\gt 0 \\implies f(x_2) \\gt f(x_1)$  \n",
    "即区间内任意两点 $x_2 \\gt x_1$ 都满足 $f(x_2) \\gt f(x_1)$ 因此函数递增\n",
    "- b) 根据 MVT $f(x_2)-f(x_1)=f^\\prime(p)(x_2-x_1)$ 其中 $a \\le x_1 \\lt x_2 \\le b$  \n",
    "对于任意这样 $[a, b]$ 区间内的两点，必然存在一点 $p$ 满足上面的等式，而 $f^\\prime(p)=0$ 总是成立，可得 $f(x_2)-f(x_1)=0 \\implies f(x_2)=f(x_1)$  \n",
    "即区间内任意两点 $x_2 \\ne x_1$ 都满足 $f(x_2)=f(x_1)$ 因此函数是常函数"
   ]
  },
  {
   "cell_type": "markdown",
   "metadata": {},
   "source": [
    " >https://ocw.mit.edu/courses/18-01sc-single-variable-calculus-fall-2010/resources/mit18_01sc_pset3prb/"
   ]
  },
  {
   "cell_type": "markdown",
   "metadata": {},
   "source": [
    "### 问题3A-1\n",
    "- d) $d(e^{3x}\\sin{x})=(3e^{3x}\\sin{x}+e^{3x}\\cos{x})dx$\n",
    "- e) $\\sqrt{x}+\\sqrt{y}=1 \\implies \\frac{1}{2} \\cdot \\frac{1}{\\sqrt{x}}+\\frac{1}{2} \\cdot \\frac{1}{\\sqrt{y}} \\cdot \\frac{dy}{dx}=0 \\implies \\frac{dy}{dx}=-\\frac{\\sqrt{y}}{\\sqrt{x}}=\\frac{\\sqrt{x}-1}{\\sqrt{x}}=(1-\\frac{1}{\\sqrt{x}}) \\implies dy=(1-\\frac{1}{\\sqrt{x}})dx$"
   ]
  },
  {
   "cell_type": "markdown",
   "metadata": {},
   "source": [
    "### 问题3A-2\n",
    "- a) $\\int{(2x^4+3x^2+x+8)dx}=\\frac{2}{5}x^5+x^3+\\frac{1}{2}x^2+8x+C$\n",
    "- c) $\\int{\\sqrt{8+9x}dx}=\\frac{2}{27}\\sqrt{(8+9x)^3}+C$\n",
    "- e) $\\int{\\frac{x}{\\sqrt{8-2x^2}}dx}=-\\frac{\\sqrt{8-2x^2}}{2}+C$\n",
    "- g) $\\int{7x^4e^{x^5}dx}=\\frac{7}{5}e^{x^5}+C$\n",
    "- i) $\\int{\\frac{dx}{3x+2}}=\\frac{1}{3}\\ln{|3x+2|}+C$\n",
    "- k) $\\int{\\frac{x}{x+5}dx}=\\int{(1-\\frac{5}{x+5})dx}=\\int{dx}-\\int{\\frac{5}{x+5}dx}=x-\\ln{|x+5|}+C$"
   ]
  },
  {
   "cell_type": "markdown",
   "metadata": {},
   "source": [
    "### 问题3A-3\n",
    "- a) $\\int{\\sin{(5x)}dx}=-\\frac{1}{5}\\cos{5x}+C$\n",
    "- c) $\\int{\\cos^2(x)\\sin{x}dx}=-\\frac{1}{3}\\cos^3{x}+C$\n",
    "- e) $\\int{\\sec^2{(x/5)}dx}=5\\tan{(x/5)}+C$\n",
    "- g) 设 $u=\\sec{x} \\implies du=\\sec{x}\\tan{x}dx$  \n",
    "则 $\\int{\\sec^9{x}\\tan{x}dx}=\\int{u^8du}=\\frac{1}{9}u^9+C=\\frac{1}{9}\\sec^9{x}+C$"
   ]
  },
  {
   "cell_type": "markdown",
   "metadata": {},
   "source": [
    "### 问题3F-1\n",
    "- c) $dy/dx=3/\\sqrt{y} \\implies \\sqrt{y}dy=3dx \\implies \\int{\\sqrt{y}dy}=\\int{3dx} \\implies \\frac{2}{3}y^{3/2}=3x+C \\implies y=\\sqrt[3]{\\frac{9}{4}(3x+C)^2}$\n",
    "- d) $dy/dx=xy^2 \\implies \\frac{dy}{y^2}=xdx \\implies \\int{\\frac{dy}{y^2}}=\\int{xdx} \\implies -\\frac{1}{y}=\\frac{1}{2}x^2+C \\implies y=-\\frac{2}{x^2+A}$"
   ]
  },
  {
   "cell_type": "markdown",
   "metadata": {},
   "source": [
    "### 问题3F-2\n",
    "- a) $dy/dx=4xy \\implies \\frac{dy}{y}=4xdx \\implies \\int{\\frac{dy}{y}}=\\int{4xdx}\\implies \\ln{|y|}=2x^2+C \\implies y=Ae^{2x^2}$  \n",
    "将 $y(1)=3$ 带入 $3=Ae^{2} \\implies A=\\frac{3}{e^2} \\implies y=3e^{2x^2-2}$  \n",
    "得 $y(3)=3e^{2 \\cdot 3^2-2}=3e^{16}$\n",
    "- e) $dy/dx=e^y \\implies e^{-y}dy=dx \\implies \\int{e^{-y}dy}=\\int{dx} \\implies -e^{-y}=x+C \\implies y=-\\ln{[-(x+C)]}$  \n",
    "将 $y(3)=0$ 带入 $0=-\\ln{[-(3+C)]} \\implies C=-4 \\implies y=-\\ln{(4-x)}$  \n",
    "得 $y(0)=-\\ln{4}$  \n",
    "由 $4-x \\gt 0$ 得 $x \\lt 4$ 使得 $y$ 有定义"
   ]
  },
  {
   "cell_type": "markdown",
   "metadata": {},
   "source": [
    "### 问题3F-4\n",
    "- b) $dT/dt=k(T_e-T) \\implies \\frac{dT}{T_e-T}=kdt \\implies \\int{\\frac{dT}{T_e-T}}=\\int{kdt} \\implies -\\ln{|T_e-T|}=kt+C \\implies T=T_e-Ae^{-kt}$  \n",
    "带入 $T(0)=T_0$ 得 $T_0=T_e-Ae^0 \\implies A=T_e-T_0$  \n",
    "可得 $T=T_e-(T_e-T_0)e^{-kt}$\n",
    "- c) $\\lim\\limits_{t \\to \\infty}e^{-kt}=0 \\implies \\lim\\limits_{t \\to \\infty}T=T_e+0=T_e$\n",
    "- d) 由 $T=T_e-(T_e-T_0)e^{-kt}$ 得 $k=\\frac{1}{t}\\ln{\\frac{T_0-T_e}{T-T_e}}=\\frac{1}{8}\\ln{\\frac{680-40}{200-40}}=\\frac{\\ln{2}}{4}$  \n",
    "同理 $t=\\frac{1}{k}\\ln{\\frac{T_0-T_e}{T-T_e}}=\\frac{4}{\\ln{2}}\\ln{\\frac{680-40}{50-40}}=24$，即冷却到 $50^\\circ$ 需要 $24$ 小时"
   ]
  },
  {
   "cell_type": "markdown",
   "metadata": {},
   "source": [
    "### 问题3F-8\n",
    "- b) 设 $P=(x, y)$ 可知 $P$点切线在 $x$轴截距为 $2x$ 即切线经过 $(2x, 0)$点，通过切线斜率建立微分方程 $\\frac{dy}{dx}=\\frac{0-y}{2x-x}=-\\frac{y}{x}$  \n",
    "$\\frac{dy}{dx}=-\\frac{y}{x} \\implies \\frac{dy}{y}=-\\frac{dx}{x} \\implies \\int{\\frac{dy}{y}}=\\int{-\\frac{dx}{x}} \\implies \\ln{y}=-\\ln{x}+C\\\\\n",
    "\\implies y=Ae^{-ln{x}}=\\frac{A}{x}$ 其中 $A \\gt 0$ 为常数"
   ]
  }
 ],
 "metadata": {
  "language_info": {
   "name": "python"
  }
 },
 "nbformat": 4,
 "nbformat_minor": 2
}
