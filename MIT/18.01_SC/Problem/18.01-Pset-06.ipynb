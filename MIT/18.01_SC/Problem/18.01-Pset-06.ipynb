{
 "cells": [
  {
   "cell_type": "markdown",
   "metadata": {},
   "source": [
    ">https://ocw.mit.edu/courses/18-01sc-single-variable-calculus-fall-2010/resources/mit18_01sc_pset3prb-1/"
   ]
  },
  {
   "cell_type": "markdown",
   "metadata": {},
   "source": [
    "### 问题3B-2\n",
    "- a) $\\Sigma_{i=2}^7{(-1)^i(2i-1)}$\n",
    "- b) $\\Sigma_{i=1}^n{\\frac{1}{i^2}}$"
   ]
  },
  {
   "cell_type": "markdown",
   "metadata": {},
   "source": [
    "### 问题3B-3\n",
    "- b) 上黎曼和 $(-1)^2+1^2+2^2+3^2$  \n",
    "下黎曼和 $0^2+0^2+1^2+2^2$  \n",
    "左黎曼和 $(-1)^2+0^2+1^2+2^2$  \n",
    "右黎曼和 $0^2+1^2+2^2+3^2$"
   ]
  },
  {
   "cell_type": "markdown",
   "metadata": {},
   "source": [
    "### 问题3B-4\n",
    "- a) $\\Sigma_{i=1}^n{(i \\cdot \\frac{b}{n})^2\\frac{b}{n}}-\\Sigma_{i=0}^{n-1}{(i \\cdot \\frac{b}{n})^2\\frac{b}{n}}=\\frac{b}{n}(n \\cdot \\frac{b}{n})^2-\\frac{b}{n}(0 \\cdot \\frac{b}{n})^2=\\frac{b^3}{n}$"
   ]
  },
  {
   "cell_type": "markdown",
   "metadata": {},
   "source": [
    "### 问题3B-5\n",
    "- $\\lim\\limits_{n \\to \\infty}{\\frac{\\sin{(b/n)}+\\sin{(2b/n)}+...+\\sin{((n-1)b/n)}+\\sin{(nb/n)}}{n}}=\\frac{1}{b}\\lim\\limits_{n \\to \\infty}{\\Sigma_{i=1}^n{\\sin{(i \\cdot \\frac{b}{n})}\\frac{b}{n}}}=\\frac{1}{b}\\int_0^b{\\sin{x}dx}=\\frac{1}{b}(-\\cos{x}|_0^b)=\\frac{1-\\cos{b}}{b}$"
   ]
  },
  {
   "cell_type": "markdown",
   "metadata": {},
   "source": [
    ">https://ocw.mit.edu/courses/18-01sc-single-variable-calculus-fall-2010/resources/mit18_01sc_pset4prb/"
   ]
  },
  {
   "cell_type": "markdown",
   "metadata": {},
   "source": [
    "### 问题4J-1\n",
    "- 首先采用黎曼和来思考，将直径 $1$ 米 高 $100$ 米的圆柱进行水平方向分割，由下到上等分成 $n$ 小份，每份的厚度 $\\Delta{x}=\\frac{100}{n}$ 为一个较小的值  \n",
    "则其中每一份水的体积为 $V_i=\\pi \\cdot (\\frac{1}{2})^2 \\cdot \\Delta{x}=\\frac{\\pi}{4} \\cdot \\frac{100}{n}$，第 $i$ 份水离地面距离 $d_i=100-i \\cdot \\Delta{x}=100-i \\cdot \\frac{100}{n}$  \n",
    "根据题意，抽出第 $i$ 份水需要的能量 $E_i \\approx k \\cdot V_i \\cdot d_i=k \\cdot \\frac{\\pi}{4} \\cdot \\frac{100}{n} \\cdot (100-i \\cdot \\frac{100}{n})$ (这里每份水的厚度值很小，可以近似计算)  \n",
    "可得排除所有水需要能量 $E=E_1+E_2+...+E_n-1+E_n \\approx \\Sigma_{i=1}^n[k \\cdot \\frac{\\pi}{4} \\cdot \\frac{100}{n} \\cdot (100-i \\cdot \\frac{100}{n})]$  \n",
    "当 $n \\to \\infty$ 可得 $E=\\lim\\limits_{n \\to \\infty}[k \\cdot \\frac{\\pi}{4} \\cdot \\frac{100}{n} \\cdot (100-i \\cdot \\frac{100}{n})]=\\frac{k\\pi}{4}\\int_0^{100}{(100-x)dx}$"
   ]
  },
  {
   "cell_type": "markdown",
   "metadata": {},
   "source": [
    ">https://ocw.mit.edu/courses/18-01sc-single-variable-calculus-fall-2010/resources/mit18_01sc_pset3prb-1/"
   ]
  },
  {
   "cell_type": "markdown",
   "metadata": {},
   "source": [
    "### 问题3C-1\n",
    "- 根据积分的几何定义 $S=\\int_3^6{\\frac{1}{\\sqrt{x-2}}dx}=2\\sqrt{x-2}|_3^6=2(\\sqrt{4}-\\sqrt{1})=2$"
   ]
  },
  {
   "cell_type": "markdown",
   "metadata": {},
   "source": [
    "### 问题3C-2\n",
    "- a) $\\int_0^2{\\sqrt{3x+5}dx}=\\frac{2}{9}(3x+5)^{3/2}|_0^2=\\frac{2}{9}[(\\sqrt{3 \\cdot 2+5})^3-(\\sqrt{3 \\cdot 0+5})^3]=\\frac{2}{9}(11\\sqrt{11}-5\\sqrt{5})$"
   ]
  },
  {
   "cell_type": "markdown",
   "metadata": {},
   "source": [
    "### 问题3C-3\n",
    "- a) 令 $u=x^2+1 \\implies du=2xdx \\implies \\int_1^2{\\frac{xdx}{x^2+1}}=\\int_2^5{\\frac{1}{2} \\cdot \\frac{du}{u}}=\\frac{1}{2} \\cdot \\ln{u}|_2^5=\\frac{1}{2}(\\ln{5}-\\ln{2})=\\frac{\\ln{5/2}}{2}$"
   ]
  },
  {
   "cell_type": "markdown",
   "metadata": {},
   "source": [
    "### 问题3C-5\n",
    "- a) 选取 $[0, \\pi]$ 区间，根据定积分的几何定义 $S=\\int_0^\\pi{\\sin{x}dx}=-\\cos{x}|_0^\\pi=-\\cos{\\pi}-(-\\cos{0})=2$"
   ]
  },
  {
   "cell_type": "markdown",
   "metadata": {},
   "source": [
    "### 问题3E-6\n",
    "- b) $x \\in[0, \\pi] \\implies \\sin{x} \\in [0, 1] \\implies \\sin^2{x}-\\sin{x}=\\sin{x}(\\sin{x}-1) \\le 0 \\implies \\sin^2{x} \\le \\sin{x}$ 在 $x=0, \\frac{\\pi}{2}, \\pi$ 处相等，其余位置 $\\sin^2{x} \\lt \\sin{x}$  \n",
    "可得 $\\int_0^\\pi{\\sin^2{x}dx} \\lt \\int_0^\\pi{\\sin{x}dx}=-\\cos{x}|_0^\\pi=2$\n",
    "- c) $x \\in [10, 20] \\implies \\sqrt{x^2+1} \\gt \\sqrt{x^2}=x \\implies \\int_{10}^{20}{\\sqrt{x^2+1}dx} \\gt \\int_{10}^{20}{xdx}=\\frac{x^2}{2}|_{10}^{20}=\\frac{20^2}{2}-\\frac{10^2}{2}=150$"
   ]
  },
  {
   "cell_type": "markdown",
   "metadata": {},
   "source": [
    ">https://ocw.mit.edu/courses/18-01sc-single-variable-calculus-fall-2010/resources/mit18_01sc_pset4prb/"
   ]
  },
  {
   "cell_type": "markdown",
   "metadata": {},
   "source": [
    "### 问题4J-2\n",
    "- 采用黎曼和分析法，将 $1$ 小时（即 $60$ 分钟）等分为 $n$ 小份，每小份的时间片长 $\\Delta{t}=\\frac{60}{n}$ 由于切分时间片很小，可以近似得到第 $i$ 个时间片的时刻 $t_i \\approx i \\cdot \\Delta{t}=i \\cdot \\frac{60}{n}$  \n",
    "则第 $i$ 个时间片内产生的辐射 $R_i \\approx x_0e^{-k(i \\cdot t_i} \\cdot \\frac{60}{n} \\cdot r=rx_0e^{-k(i \\cdot \\frac{60}{n})}\\frac{60}{n}$  \n",
    "得到黎曼和 $R=R_1+R_2+...+R_n \\approx \\Sigma_{i=1}^n{rx_0e^{-k(i \\cdot \\frac{60}{n})}\\frac{60}{n}}$  \n",
    "取 $n \\to \\infty$ 可得 $R=\\lim\\limits_{i=1}^n{rx_0e^{-k(i \\cdot \\frac{60}{n})}\\frac{60}{n}}=rx_0\\int_0^{60}{e^{-kt}dt}=rx_0(-\\frac{1}{k}e^{-kt}|_0^{60})=-\\frac{rx_0}{k}(e^{-60k}-1)=\\frac{rx_0}{k}(1-e^{-60k})$"
   ]
  }
 ],
 "metadata": {
  "language_info": {
   "name": "python"
  }
 },
 "nbformat": 4,
 "nbformat_minor": 2
}
