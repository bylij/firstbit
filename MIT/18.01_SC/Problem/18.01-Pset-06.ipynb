{
 "cells": [
  {
   "cell_type": "markdown",
   "metadata": {},
   "source": [
    ">https://ocw.mit.edu/courses/18-01sc-single-variable-calculus-fall-2010/resources/mit18_01sc_pset3prb-1/"
   ]
  },
  {
   "cell_type": "markdown",
   "metadata": {},
   "source": [
    "### 问题3B-2\n",
    "- a) $\\Sigma_{i=2}^7{(-1)^i(2i-1)}$\n",
    "- b) $\\Sigma_{i=1}^n{\\frac{1}{i^2}}$"
   ]
  },
  {
   "cell_type": "markdown",
   "metadata": {},
   "source": [
    "### 问题3B-3\n",
    "- b) 上黎曼和 $(-1)^2+1^2+2^2+3^2$  \n",
    "下黎曼和 $0^2+0^2+1^2+2^2$  \n",
    "左黎曼和 $(-1)^2+0^2+1^2+2^2$  \n",
    "右黎曼和 $0^2+1^2+2^2+3^2$"
   ]
  },
  {
   "cell_type": "markdown",
   "metadata": {},
   "source": [
    "### 问题3B-4\n",
    "- a) $\\Sigma_{i=1}^n{(i \\cdot \\frac{b}{n})^2\\frac{b}{n}}-\\Sigma_{i=0}^{n-1}{(i \\cdot \\frac{b}{n})^2\\frac{b}{n}}=\\frac{b}{n}(n \\cdot \\frac{b}{n})^2-\\frac{b}{n}(0 \\cdot \\frac{b}{n})^2=\\frac{b^3}{n}$"
   ]
  },
  {
   "cell_type": "markdown",
   "metadata": {},
   "source": [
    "### 问题3B-5\n",
    "- $\\lim\\limits_{n \\to \\infty}{\\frac{\\sin{(b/n)}+\\sin{(2b/n)}+...+\\sin{((n-1)b/n)}+\\sin{(nb/n)}}{n}}=\\frac{1}{b}\\lim\\limits_{n \\to \\infty}{\\Sigma_{i=1}^n{\\sin{(i \\cdot \\frac{b}{n})}\\frac{b}{n}}}=\\frac{1}{b}\\int_0^b{\\sin{x}dx}=\\frac{1}{b}(-\\cos{x}|_0^b)=\\frac{1-\\cos{b}}{b}$"
   ]
  },
  {
   "cell_type": "markdown",
   "metadata": {},
   "source": [
    ">https://ocw.mit.edu/courses/18-01sc-single-variable-calculus-fall-2010/resources/mit18_01sc_pset4prb/"
   ]
  },
  {
   "cell_type": "markdown",
   "metadata": {},
   "source": [
    "### 问题4J-1\n",
    "- 首先采用黎曼和来思考，将直径 $1$ 米 高 $100$ 米的圆柱进行水平方向分割，由下到上等分成 $n$ 小份，每份的厚度 $\\Delta{x}=\\frac{100}{n}$ 为一个较小的值  \n",
    "则其中每一份水的体积为 $V_i=\\pi \\cdot (\\frac{1}{2})^2 \\cdot \\Delta{x}=\\frac{\\pi}{4} \\cdot \\frac{100}{n}$，第 $i$ 份水离地面距离 $d_i=100-i \\cdot \\Delta{x}=100-i \\cdot \\frac{100}{n}$  \n",
    "根据题意，抽出第 $i$ 份水需要的能量 $E_i \\approx k \\cdot V_i \\cdot d_i=k \\cdot \\frac{\\pi}{4} \\cdot \\frac{100}{n} \\cdot (100-i \\cdot \\frac{100}{n})$ (这里每份水的厚度值很小，可以近似计算)  \n",
    "可得排除所有水需要能量 $E=E_1+E_2+...+E_n-1+E_n \\approx \\Sigma_{i=1}^n[k \\cdot \\frac{\\pi}{4} \\cdot \\frac{100}{n} \\cdot (100-i \\cdot \\frac{100}{n})]$  \n",
    "当 $n \\to \\infty$ 可得 $E=\\lim\\limits_{n \\to \\infty}[k \\cdot \\frac{\\pi}{4} \\cdot \\frac{100}{n} \\cdot (100-i \\cdot \\frac{100}{n})]=\\frac{k\\pi}{4}\\int_0^{100}{(100-x)dx}$"
   ]
  },
  {
   "cell_type": "markdown",
   "metadata": {},
   "source": [
    ">https://ocw.mit.edu/courses/18-01sc-single-variable-calculus-fall-2010/resources/mit18_01sc_pset3prb-1/"
   ]
  },
  {
   "cell_type": "markdown",
   "metadata": {},
   "source": [
    "### 问题3C-1\n",
    "- "
   ]
  },
  {
   "cell_type": "markdown",
   "metadata": {},
   "source": [
    "### 问题3C-2\n",
    "- a)"
   ]
  },
  {
   "cell_type": "markdown",
   "metadata": {},
   "source": [
    "### 问题3C-3\n",
    "- a)"
   ]
  },
  {
   "cell_type": "markdown",
   "metadata": {},
   "source": [
    "### 问题3C-5\n",
    "- a)"
   ]
  },
  {
   "cell_type": "markdown",
   "metadata": {},
   "source": [
    "### 问题3E-6\n",
    "- b)\n",
    "- c)"
   ]
  }
 ],
 "metadata": {
  "language_info": {
   "name": "python"
  }
 },
 "nbformat": 4,
 "nbformat_minor": 2
}
