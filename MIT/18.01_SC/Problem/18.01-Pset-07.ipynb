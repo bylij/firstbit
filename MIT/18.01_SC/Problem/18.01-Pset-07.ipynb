{
 "cells": [
  {
   "cell_type": "markdown",
   "metadata": {},
   "source": [
    ">https://ocw.mit.edu/courses/18-01sc-single-variable-calculus-fall-2010/resources/mit18_01sc_pset4prb-1/"
   ]
  },
  {
   "cell_type": "markdown",
   "metadata": {},
   "source": [
    "### 问题4B-2\n",
    "- e) 采用层壳法 $dV=2\\pi x \\cdot y \\cdot dx\\\\\n",
    "\\implies V=\\int_0^2{2\\pi xydx}=2\\pi\\int_0^2{x(2x-x^2)dx}=2\\pi \\cdot (\\frac{2}{3}x^3-\\frac{x^4}{4})|_0^2=\\frac{8\\pi}{3}$\n",
    "- g) 采用层壳法 $dV=2\\pi x \\cdot y \\cdot dx\\\\\n",
    "\\implies V=\\int_0^a{2\\pi x \\cdot y \\cdot dx}=\\int_0^a{2\\pi x\\sqrt{ax}dx}=2\\pi\\sqrt{a}\\int_0^a{x^{3/2}dx}=2\\pi\\sqrt{a} \\cdot (\\frac{2}{5}x^{5/2})|_0^a=\\frac{4\\pi}{5}a^3$"
   ]
  },
  {
   "cell_type": "markdown",
   "metadata": {},
   "source": [
    "### 问题4B-5\n",
    "- 采用圆盘法 $dV=\\pi y^2dx\\\\\n",
    "\\implies V^\\prime=2V=2\\int_0^{a/2}{\\pi y^2dx}=2\\pi\\int_0^{a/2}{(\\sqrt{3}x)^2dx}=2\\pi \\cdot x^3|_0^{a/2}=\\frac{a^3}{4}\\pi$"
   ]
  },
  {
   "cell_type": "markdown",
   "metadata": {},
   "source": [
    "### 问题4C-2\n",
    "- 采用层壳法 $dV=2\\pi x \\cdot y \\cdot dx\\\\\n",
    "\\implies V=\\int_0^1{2\\pi xydx}=2\\pi\\int_0^1{x \\cdot x^2dx}=2\\pi \\cdot \\frac{x^3}{3}|_0^1=\\frac{2\\pi}{3}$"
   ]
  },
  {
   "cell_type": "markdown",
   "metadata": {},
   "source": [
    "### 问题4C-3\n",
    "- 采用层壳法 $dV=2\\pi x \\cdot (1-y) \\cdot dx\\\\\n",
    "\\implies V=\\int_0^1{2\\pi x(1-y)dx}=2\\pi\\int_0^1{x(1-\\sqrt{x})dx}=2\\pi \\cdot (\\frac{x^2}{2}-\\frac{2}{5}x^{5/2})|_0^1=\\frac{\\pi}{5}$  \n",
    "- 采用圆盘法 $dV=\\pi x^2 \\cdot dy\\\\\n",
    "\\implies V=\\int_0^1{\\pi x^2dy}=\\pi\\int_0^1{(y^2)^2dy}=\\pi\\int_0^1{y^4dy}=\\pi \\cdot \\frac{y^5}{5}|_0^1=\\frac{\\pi}{5}$"
   ]
  },
  {
   "cell_type": "markdown",
   "metadata": {},
   "source": [
    "### 问题4J-3\n",
    "- 采用层壳法 $dm=\\rho \\cdot dV$ 其中 $\\rho=\\frac{k}{1+r^2}$ 而 $dV=2\\pi r \\cdot D \\cdot dr$  \n",
    "可得 $dm=\\frac{k}{1+r^2} \\cdot 2\\pi r \\cdot D \\cdot dr=2\\pi kD \\cdot \\frac{r}{1+r^2}dr\\\\\n",
    "\\implies m=\\int_0^R{\\frac{k}{1+r^2} \\cdot 2\\pi r \\cdot D \\cdot dr}=2\\pi kD\\int_0^R{\\frac{r}{1+r^2}dr}=2\\pi kD \\cdot \\sqrt{1+r^2}|_0^R=2\\pi kD\\sqrt{1+R^2}$"
   ]
  }
 ],
 "metadata": {
  "language_info": {
   "name": "python"
  }
 },
 "nbformat": 4,
 "nbformat_minor": 2
}
