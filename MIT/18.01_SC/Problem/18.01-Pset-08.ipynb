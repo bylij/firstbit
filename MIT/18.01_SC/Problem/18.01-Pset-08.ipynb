{
 "cells": [
  {
   "cell_type": "markdown",
   "metadata": {},
   "source": [
    ">https://ocw.mit.edu/courses/18-01sc-single-variable-calculus-fall-2010/resources/mit18_01sc_pset4prb-2/"
   ]
  },
  {
   "cell_type": "markdown",
   "metadata": {},
   "source": [
    "### 问题4D-2\n",
    "- $\\frac{1}{2a-a}\\int_a^{2a}{\\frac{1}{x}dx}=\\frac{1}{a} \\cdot \\ln{x}|_a^{2a}=\\frac{1}{a} \\cdot (\\ln{2a}-\\ln{a})=\\frac{1}{a} \\cdot \\ln{\\frac{2a}{a}}=\\frac{\\ln{2}}{a}$ 命题成立"
   ]
  },
  {
   "cell_type": "markdown",
   "metadata": {},
   "source": [
    "### 问题4D-3\n",
    "- 平均速度 $\\bar{v}=\\frac{s(b)-s(a)}{b-a}$  \n",
    "速度函数 $v(t)=\\frac{dx}{dt}=\\frac{d}{dt}s(t) \\implies avg(v)=\\frac{1}{b-a}\\int_a^b{v(t)dt}=\\frac{1}{b-a}\\int_a^b{\\frac{d}{dt}s(t)dt}=\\frac{1}{b-a} \\cdot s(t)|_a^b=\\frac{s(b)-s(a)}{b-a}=\\bar{v}$ 命题成立"
   ]
  },
  {
   "cell_type": "markdown",
   "metadata": {},
   "source": [
    "### 问题4D-5\n",
    "- $g(x)=\\frac{1}{x-0}\\int_0^x{f(t)dt}\\\\\n",
    "\\implies \\int_0^x{f(t)dt}=xg(x)\\\\\n",
    "\\implies f(x)=\\frac{d}{dx}\\int_0^x{f(t)dt}=\\frac{d}{dx}(xg(x))=x^\\prime \\cdot g(x)+x \\cdot g^\\prime(x)=g(x)+xg^\\prime(x)$"
   ]
  }
 ],
 "metadata": {
  "language_info": {
   "name": "python"
  }
 },
 "nbformat": 4,
 "nbformat_minor": 2
}
