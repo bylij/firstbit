{
 "cells": [
  {
   "cell_type": "markdown",
   "metadata": {},
   "source": [
    ">https://ocw.mit.edu/courses/18-01sc-single-variable-calculus-fall-2010/resources/mit18_01sc_pset5prb-1/"
   ]
  },
  {
   "cell_type": "markdown",
   "metadata": {},
   "source": [
    "### 问题5B-9\n",
    "- $\\int{e^x(1+e^x)^{-1/3}dx}=\\frac{3}{2}(1+e^x)^{2/3}+C$\n"
   ]
  },
  {
   "cell_type": "markdown",
   "metadata": {},
   "source": [
    "### 问题5B-11\n",
    "- $\\int{\\sec^2{9x}dx}=\\frac{1}{9}\\tan{9x}+C$"
   ]
  },
  {
   "cell_type": "markdown",
   "metadata": {},
   "source": [
    "### 问题5B-13\n",
    "- 设 $u=x^3 \\implies du=3x^2dx \\implies x^2dx=\\frac{du}{3} \\implies \\int{\\frac{x^2dx}{1+x^6}}=\\int{\\frac{\\frac{1}{3}du}{1+u^2}}=\\frac{1}{3}\\tan^{-1}{u}+C=\\frac{1}{3}\\tan^{-1}{x^3}+C$"
   ]
  },
  {
   "cell_type": "markdown",
   "metadata": {},
   "source": [
    "### 问题5B-16\n",
    "- 设 $u=\\tan^{-1}{x} \\implies x=\\tan{u} \\implies dx=\\sec^2{u}du$ 同时 $-1 \\le x \\le 1 \\implies -\\frac{\\pi}{4} \\le u=\\tan^{-1}{x} \\le \\frac{\\pi}{4}$  \n",
    "可得 $\\int_{-1}^1{\\frac{tan^{-1}{x}dx}{1+x^2}}=\\int_{-\\frac{\\pi}{4}}^{\\frac{\\pi}{4}}{\\frac{u \\cdot \\sec^2{u}du}{1+\\tan^2{u}}}=\\int_{-\\frac{\\pi}{4}}^{\\frac{\\pi}{4}}{\\frac{u\\sec^2{u}du}{\\sec^2{u}}}=\\int_{-\\frac{\\pi}{4}}^{\\frac{\\pi}{4}}{udu}=\\frac{u^2}{2}|_{-\\frac{\\pi}{4}}^{\\frac{\\pi}{4}}=0$"
   ]
  },
  {
   "cell_type": "markdown",
   "metadata": {},
   "source": [
    "### 问题5C-5\n",
    "- $\\int{\\sin^3{x}\\cos^2{x}dx}=\\int{\\sin{x}\\sin^2{x}\\cos^2{x}dx}=\\int{\\sin{x}(1-\\cos^2{x})\\cos^2{x}dx}$  \n",
    "设 $u=\\cos{x} \\implies du=-\\sin{x}dx \\implies \\sin{x}dx=-du$ 带入得 $\\int{\\sin^3{x}\\cos^2{x}dx}=\\int{(1-u^2)u^2 \\cdot -du}=\\int{(u^4-u^2)du}=\\frac{u^5}{5}-\\frac{u^3}{3}+C=\\frac{\\cos^5{x}}{5}-\\frac{\\cos^3{x}}{3}+C$"
   ]
  },
  {
   "cell_type": "markdown",
   "metadata": {},
   "source": [
    "### 问题5C-7\n",
    "- $\\int{\\sin^2{(4x)}\\cos^2{(4x)}dx}=\\int{(\\sin{(4x)}\\cos{(4x)})^2dx}=\\int{(\\frac{\\sin{(8x)}}{2})^2dx}=\\int{\\frac{\\sin^2{(8x)}}{4}dx}=\\int{\\frac{\\frac{1-\\cos{(16x)}}{2}}{4}}dx=\\int{\\frac{1-\\cos{(16x)}}{8}dx}=\\frac{x}{8}-\\frac{\\sin{(16x)}}{128}+C$"
   ]
  },
  {
   "cell_type": "markdown",
   "metadata": {},
   "source": [
    "### 问题5C-9\n",
    "- $\\int{\\sin^3{x}\\sec^2{x}dx}=\\int{\\frac{\\sin^2{x} \\cdot \\sin{x}dx}{\\cos^2{x}}}=\\int{\\frac{(1-\\cos^2{x})\\sin{x}dx}{\\cos^2{x}}}$  \n",
    "设 $u=\\cos{x} \\implies du=-\\sin{x}dx \\implies \\sin{x}dx=-du$ 带入得 $\\int{\\sin^3{x}\\sec^2{x}dx}=\\int{\\frac{(1-u^2) \\cdot (-du)}{u^2}}=\\int{(1-\\frac{1}{u^2})du}=u+\\frac{1}{u}+C=\\cos{x}+\\frac{1}{\\cos{x}}+C=\\cos{x}+\\sec{x}+C$"
   ]
  },
  {
   "cell_type": "markdown",
   "metadata": {},
   "source": [
    "### 问题5C-11\n",
    "- $\\int{\\sin{x}\\cos{(2x)}dx}=\\int{\\sin{x}(2\\cos^2{x}-1)dx}$  \n",
    "设 $u=\\cos{x} \\implies du=-\\sin{x}dx$ 带入得 $\\int{\\sin{x}\\cos{(2x)}dx}=\\int{(2u^2-1) \\cdot (-du)}=\\int{(1-2u^2)du}=u-\\frac{2}{3}u^3+C=\\cos{x}-\\frac{2}{3}\\cos^3{x}+C$"
   ]
  },
  {
   "cell_type": "markdown",
   "metadata": {},
   "source": [
    "### 问题5D-1\n",
    "- 设 $x=a\\sin{\\theta} \\implies dx=a\\cos{\\theta}d\\theta \\implies \\int{\\frac{dx}{(a^2-x^2)^{3/2}}}=\\int{\\frac{a\\cos{\\theta}d\\theta}{(a^2-a^2\\sin^2{\\theta})^{3/2}}}=\\int{\\frac{a\\cos{\\theta}d\\theta}{(a^2\\cos^2{\\theta})^{3/2}}}=\\int{\\frac{a\\cos{\\theta}d\\theta}{a^3\\cos^3{\\theta}}}=\\int{\\frac{d\\theta}{a^2\\cos^2{\\theta}}}=\\int{\\frac{\\sec^2{\\theta}}{a^2}d\\theta}=\\frac{\\tan{\\theta}}{a^2}+C$  \n",
    "由 $x=a\\sin{\\theta} \\implies \\tan{\\theta}=\\frac{x}{\\sqrt{a^2-x^2}}$ 代入得 $\\int{\\frac{dx}{(a^2-x^2)^{3/2}}}=\\frac{x}{a^2\\sqrt{a^2-x^2}}+C$"
   ]
  },
  {
   "cell_type": "markdown",
   "metadata": {},
   "source": [
    "### 问题5D-2\n",
    "- 设 $x=a\\sin{\\theta} \\implies dx=a\\cos{\\theta}d\\theta \\implies \\int{\\frac{x^3dx}{\\sqrt{a^2-x^2}}}=\\int{\\frac{a^3\\sin^3{\\theta} \\cdot (a\\cos{\\theta})d\\theta}{\\sqrt{a^2-a^2\\sin^2{\\theta}}}}=\\int{\\frac{a^3\\sin^3{\\theta} \\cdot (a\\cos{\\theta})d\\theta}{a\\cos{\\theta}}}=\\int{a^3\\sin^3{\\theta}d\\theta}=a^3\\int{(1-\\cos^2{\\theta})\\sin{\\theta}d\\theta}$  \n",
    "设 $u=\\cos{\\theta} \\implies du=-\\sin{\\theta}d\\theta \\implies \\sin{\\theta}d\\theta=-du$ 带入得 $\\int{\\frac{x^3dx}{\\sqrt{a^2-x^2}}}=a^3\\int{(1-\\cos^2{\\theta})\\sin{\\theta}d\\theta}=a^3\\int{(1-u^2) \\cdot (-du))}=a^3\\int{(u^2-1)du}=a^3(\\frac{u^3}{3}-u)+C$  \n",
    "将 $u=\\cos{\\theta}$ 反带入得 $\\int{\\frac{x^3dx}{\\sqrt{a^2-x^2}}}=a^3(\\frac{\\cos^3{\\theta}}{3}-\\cos{\\theta})+C$  \n",
    "由 $x=a\\sin{\\theta} \\implies \\cos{\\theta}=\\frac{\\sqrt{a^2-x^2}}{a}$ 代入得 $\\int{\\frac{x^3dx}{\\sqrt{a^2-x^2}}}=a^3(\\frac{(\\sqrt{a^2-x^2})^3}{3a^3}-\\frac{\\sqrt{a^2-x^2}}{a})+C=\\frac{(\\sqrt{a^2-x^2})^3}{3}-a^2\\sqrt{a^2-x^2}+C$"
   ]
  },
  {
   "cell_type": "markdown",
   "metadata": {},
   "source": [
    "### 问题5D-7\n",
    "- 设 $x=a\\sec{\\theta} \\implies dx=a\\sec{\\theta}\\tan{\\theta}d\\theta\\\\\n",
    "\\implies \\int{\\frac{\\sqrt{x^2-a^2}dx}{x^2}}\\\\\n",
    "=\\int{\\frac{\\sqrt{a^2\\sec^2{\\theta}-a^2} \\cdot a\\sec{\\theta}\\tan{\\theta}d\\theta}{a^2\\sec^2{\\theta}}}\\\\\n",
    "=\\int{\\frac{a\\tan{\\theta} \\cdot a\\sec{\\theta}\\tan{\\theta}d\\theta}{a^2\\sec^2{\\theta}}}\\\\\n",
    "=\\int{\\frac{\\tan^2{\\theta}d\\theta}{\\sec{\\theta}}}\\\\\n",
    "=\\int{\\frac{\\sec^2{\\theta}-1}{\\sec{\\theta}}d\\theta}\\\\\n",
    "=\\int{(\\sec{\\theta}-\\frac{1}{\\sec{\\theta}})d\\theta}\\\\\n",
    "=\\int{(\\sec{\\theta}-\\cos{\\theta})d\\theta}\\\\\n",
    "=\\int{\\sec{\\theta}d\\theta}-\\int{\\cos{\\theta}d\\theta}\\\\\n",
    "=\\ln{|\\sec{\\theta}+\\tan{\\theta}|}-\\sin{\\theta}+C$  \n",
    "由 $x=a\\sec{\\theta} \\implies \\sin{\\theta}=\\frac{\\sqrt{x^2-a^2}}{x}, \\tan{\\theta}=\\frac{\\sqrt{x^2-a^2}}{a}$ 带入得 $\\int{\\frac{\\sqrt{x^2-a^2}dx}{x^2}}=\\ln{|\\frac{x}{a}+\\frac{\\sqrt{x^2-a^2}}{a}|}-\\frac{\\sqrt{x^2-a^2}}{x}+C$"
   ]
  },
  {
   "cell_type": "markdown",
   "metadata": {},
   "source": [
    "### 问题5D-10\n",
    "- $\\int{\\frac{dx}{(x^2+4x+13)^{3/2}}}=\\int{\\frac{dx}{[(x+2)^2+9]^{3/2}}}$  \n",
    "设 $x+2=3\\tan{\\theta} \\implies dx=3\\sec^2{\\theta}d\\theta$  \n",
    "带入得 $\\int{\\frac{dx}{(x^2+4x+13)^{3/2}}}=\\int{\\frac{3\\sec^2{\\theta}d\\theta}{(9\\tan^2{\\theta}+9)^{3/2}}}=\\int{\\frac{3\\sec^2{\\theta}d\\theta}{(9\\sec^2{\\theta})^{3/2}}}=\\int{\\frac{3\\sec^2{\\theta}d\\theta}{(3\\sec{\\theta})^3}}=\\int{\\frac{d\\theta}{9\\sec{\\theta}}}=\\int{\\frac{\\cos{\\theta}}{9}d\\theta}=\\frac{\\sin{\\theta}}{9}+C$  \n",
    "由 $x+2=3\\tan{\\theta} \\implies \\sin{\\theta}=\\frac{x+2}{\\sqrt{(x+2)^2+9}}=\\frac{x+2}{\\sqrt{x^2+4x+13}}$  \n",
    "带入得 $\\int{\\frac{dx}{(x^2+4x+13)^{3/2}}}=\\frac{x+2}{9\\sqrt{x^2+4x+13}}+C$"
   ]
  }
 ],
 "metadata": {
  "language_info": {
   "name": "python"
  }
 },
 "nbformat": 4,
 "nbformat_minor": 2
}
