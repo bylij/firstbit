{
 "cells": [
  {
   "cell_type": "markdown",
   "metadata": {},
   "source": [
    ">https://ocw.mit.edu/courses/18-01sc-single-variable-calculus-fall-2010/resources/mit18_01sc_pset5prb-2/"
   ]
  },
  {
   "cell_type": "markdown",
   "metadata": {},
   "source": [
    "### 问题5E-2\n",
    "- 拆分 $\\frac{x}{(x-2)(x+3)}=\\frac{A}{x-2}+\\frac{B}{x+3}$ 通过掩盖法得 $A=\\frac{2}{5}, B=\\frac{3}{5}$  \n",
    "可得 $\\int{\\frac{xdx}{(x-2)(x+3)}}=\\int{(\\frac{2}{5(x-2)}+\\frac{3}{5(x+3)})dx}=\\int{\\frac{2dx}{5(x-2)}}+\\int{\\frac{3dx}{5(x+3)}}=\\frac{2}{5}\\ln{|x-2|}+\\frac{3}{5}\\ln{|x+3|}+C$"
   ]
  },
  {
   "cell_type": "markdown",
   "metadata": {},
   "source": [
    "### 问题5E-3\n",
    "- 拆分 $\\frac{x}{(x^2-4)(x+3)}=\\frac{x}{(x-2)(x+2)(x+3)}=\\frac{A}{x-2}+\\frac{B}{x+2}+\\frac{C}{x+3}$ 通过掩盖法得 $A=\\frac{1}{10}, B=\\frac{1}{2}, C=-\\frac{3}{5}$  \n",
    "可得 $\\int{\\frac{xdx}{(x^2-4)(x+3)}}=\\int{(\\frac{1}{10(x-2)}+\\frac{1}{2(x+2)}-\\frac{3}{5(x+3)})dx}=\\int{\\frac{dx}{10(x-2)}}+\\int{\\frac{dx}{2(x+2)}}-\\int{\\frac{3dx}{5(x+3)}}=\\frac{1}{10}\\ln{|x-2|}+\\frac{1}{2}\\ln{|x+2|}-\\frac{3}{5}\\ln{|x+3|}+C$"
   ]
  },
  {
   "cell_type": "markdown",
   "metadata": {},
   "source": [
    "### 问题5E-5\n",
    "- 拆分 $\\frac{3x+2}{x(x+1)^2}=\\frac{A}{x}+\\frac{B}{x+1}+\\frac{C}{(x+1)^2}$ 通过掩盖法和代入法得 $A=2, B=-2, C=1$  \n",
    "可得 $\\int{\\frac{3x+2}{x(x+1)^2}dx}=\\int{(\\frac{2}{x}-\\frac{2}{x+1}+\\frac{1}{(x+1)^2})dx}=\\int{\\frac{2dx}{x}}-\\int{\\frac{2dx}{x+1}}+\\int{\\frac{dx}{(x+1)^2}}=2\\ln{|x|}-2\\ln{|x+1|}-\\frac{1}{x+1}+C$"
   ]
  },
  {
   "cell_type": "markdown",
   "metadata": {},
   "source": [
    "### 问题5E-6\n",
    "- 拆分 $\\frac{2x-9}{(x^2+9)(x+2)}=\\frac{A}{x+2}+\\frac{Bx+C}{x^2+9}$ 通过掩盖法和代入法得 $A=-1, B=1, C=0$  \n",
    "可得 $\\int{\\frac{2x-9}{(x^2+9)(x+2)}dx}=\\int{(-\\frac{1}{x+2}+\\frac{x}{x^2+9})dx}=-\\int{\\frac{dx}{x+2}}+\\int{\\frac{xdx}{x^2+9}}=-\\ln{|x+2|}+\\frac{1}{2}\\ln{(x^2+9)}+C$"
   ]
  },
  {
   "cell_type": "markdown",
   "metadata": {},
   "source": [
    "### 问题5E-10\n",
    "- h) $\\int{\\frac{(x^2+1)dx}{x^2+2x+2}}=\\int{(1-\\frac{2x+1}{x^2+2x+2})dx}=\\int{(1-\\frac{2x+2}{x^2+2x+2}+\\frac{1}{x^2+2x+2})dx}=\\int{dx}-\\int{\\frac{(2x+2)dx}{x^2+2x+2}}+\\int{\\frac{dx}{x^2+2x+2}}$  \n",
    "针对 $\\int{\\frac{dx}{x^2+2x+2}}=\\int{\\frac{dx}{(x+1)^2+1}}$ 设 $x+1=\\tan{\\theta} \\implies dx=\\sec^2{\\theta}d\\theta \\implies \\int{\\frac{dx}{x^2+2x+2}}=\\int{\\frac{\\sec^2{\\theta}d\\theta}{\\tan^2{\\theta}+1}}=\\int{\\frac{\\sec^2{\\theta}d\\theta}{\\sec^2{\\theta}}}=\\int{d\\theta}=\\theta+C_1=\\tan^{-1}{(x+1)}+C_1$  \n",
    "带入得 $\\int{\\frac{(x^2+1)dx}{x^2+2x+2}}=\\int{dx}-\\int{\\frac{(2x+2)dx}{x^2+2x+2}}+\\int{\\frac{dx}{x^2+2x+2}}=x-\\ln{|x^2+2x+2|}+\\tan^{-1}{(x+1)}+C$"
   ]
  },
  {
   "cell_type": "markdown",
   "metadata": {},
   "source": [
    "### 问题5F-1\n",
    "- a) 针对 $\\int{x^a\\ln{x}dx}$ 另 $u=\\ln{x}, v^\\prime=x^a \\implies v=\\frac{x^{a+1}}{a+1}$  \n",
    "根据部分积分公式 $\\int{uv^\\prime}=uv-\\int{u^\\prime v} \\implies \\int{x^a\\ln{x}dx}=\\ln{x} \\cdot \\frac{x^{a+1}}{a+1}-\\int{\\frac{1}{x}\\frac{x^{a+1}}{a+1}dx}=\\frac{x^{a+1}}{a+1}\\ln{x}-\\int{\\frac{x^adx}{a+1}}=\\frac{x^{a+1}}{a+1}\\ln{x}-\\frac{x^{a+1}}{(a+1)^2}+C$"
   ]
  },
  {
   "cell_type": "markdown",
   "metadata": {},
   "source": [
    "### 问题5F-2\n",
    "- d) 针对 $\\int{x^ne^{ax}dx}$ 取 $u=x^n, v^\\prime=e^{ax} \\implies v=\\frac{e^{ax}}{a}$  \n",
    "根据部分积分公式 $\\int{uv^\\prime}=uv-\\int{u^\\prime v} \\implies \\int{x^ne^{ax}dx}=x^n \\cdot \\frac{e^{ax}}{a}-\\int{nx^{n-1}}\\frac{e^{ax}}{a}dx=\\frac{x^ne^{ax}}{a}-\\frac{n}{a}\\int{x^{n-1}e^{ax}dx}$"
   ]
  },
  {
   "cell_type": "markdown",
   "metadata": {},
   "source": [
    "### 问题5F-2\n",
    "- b) $\\int{x^2e^xdx}=x^2e^x-\\int{2xe^xdx}=x^2e^x-2(xe^x-\\int{e^xdx})=x^2e^x-2(xe^x-e^x+C_1)=(x^2-2x+2)e^x+C$"
   ]
  },
  {
   "cell_type": "markdown",
   "metadata": {},
   "source": [
    "### 问题5F-3\n",
    "- 设 $u=\\sin^{-1}{(4x)} \\implies 4x=\\sin{u} \\implies 4dx=\\cos{u}du \\implies dx=\\frac{1}{4}\\cos{u}du$  \n",
    "带入得 $\\int{\\sin^{-1}{(4x)}dx}=\\int{u \\cdot \\frac{1}{4}\\cos{u}du}=\\frac{1}{4}\\int{u\\cos{u}du}=\\frac{1}{4}(u\\sin{u}-\\int{\\sin{u}du)}=\\frac{1}{4}u\\sin{u}+\\frac{1}{4}\\cos{u}+C$  \n",
    "由 $u=\\sin^{-1}{(4x)} \\implies \\sin{u}=4x \\implies \\cos{u}=\\sqrt{1-(4x)^2}=\\sqrt{1-16x^2}$  \n",
    "带入得 $\\int{\\sin^{-1}{(4x)}dx}=\\frac{1}{4}u\\sin{u}+\\frac{1}{4}\\cos{u}+C=\\frac{1}{4} \\cdot \\sin^{-1}{(4x)} \\cdot 4x+\\frac{\\sqrt{1-16x^2}}{4}+C=x\\sin^{-1}{(4x)}+\\frac{\\sqrt{1-16x^2}}{4}+C$"
   ]
  }
 ],
 "metadata": {
  "language_info": {
   "name": "python"
  }
 },
 "nbformat": 4,
 "nbformat_minor": 2
}
