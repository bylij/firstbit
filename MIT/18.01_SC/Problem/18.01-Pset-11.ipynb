{
 "cells": [
  {
   "cell_type": "markdown",
   "metadata": {},
   "source": [
    ">https://ocw.mit.edu/courses/18-01sc-single-variable-calculus-fall-2010/resources/mit18_01sc_pset4prb-3/"
   ]
  },
  {
   "cell_type": "markdown",
   "metadata": {},
   "source": [
    "### 问题4E-2\n",
    "- $x^2=(t+\\frac{1}{t})^2=t^2+2+\\frac{1}{t^2}$ 且 $y^2=(t-\\frac{1}{t})^2=t^2-2+\\frac{1}{t^2}$  \n",
    "可得 $x^2-y^2=(t^2+2+\\frac{1}{t^2})-(t^2-2+\\frac{1}{t^2})=4$"
   ]
  },
  {
   "cell_type": "markdown",
   "metadata": {},
   "source": [
    "### 问题4E-3\n",
    "- $(x-1)^2+(y-4)^2=\\sin^2{t}+\\cos^2{t}=1$"
   ]
  },
  {
   "cell_type": "markdown",
   "metadata": {},
   "source": [
    "### 问题4E-8\n",
    "- 以钟表中心为原点，水平和竖直方向为坐标轴，时间 $t$ 以小时为单位，$0 \\le t \\le 1$ 可得参数方程\n",
    "$\\begin{cases}x(t)=t\\cos{(\\frac{\\pi}{2}-\\frac{\\pi}{6}t)}\\\\y(t)=t\\sin{(\\frac{\\pi}{2}-\\frac{\\pi}{6}t)}\\end{cases}$"
   ]
  },
  {
   "cell_type": "markdown",
   "metadata": {},
   "source": [
    "### 问题4F-1\n",
    "- d) $y=\\frac{1}{3}(2+x^2)^{3/2} \\implies y^\\prime=x\\sqrt{x^2+2}$  \n",
    "可得 $s=\\int_1^2{\\sqrt{1+(y^\\prime)^2}dx}=\\int_1^2{\\sqrt{1+(x\\sqrt{x^2+2})^2}dx}=\\int_1^2{\\sqrt{1+x^4+2x^2}dx}=\\int_1^2{\\sqrt{(x^2+1)^2}dx}=\\int_1^2{(x^2+1)dx}=(\\frac{x^3}{3}+x)|_1^2=\\frac{10}{3}$"
   ]
  },
  {
   "cell_type": "markdown",
   "metadata": {},
   "source": [
    "### 问题4F-4\n",
    "- $s=\\int_0^2{\\sqrt{(\\frac{dx}{dt})^2+(\\frac{dy}{dt})^2}dt}=\\int_0^2{\\sqrt{(2t)^2+(3t^2)^2}dt}=\\int_0^2{\\sqrt{4t^2+9t^4}dt}=\\int_0^2{t\\sqrt{4+9t^2}dt}=\\frac{(9t^2+4)^{3/2}}{27}|_0^2=\\frac{80\\sqrt{10}-8}{27}$"
   ]
  },
  {
   "cell_type": "markdown",
   "metadata": {},
   "source": [
    "### 问题4F-5\n",
    "- $\\begin{cases}x(t)=t+\\frac{1}{t}\\\\y(t)=t-\\frac{1}{t}\\end{cases} \\implies s=\\int_1^2{\\sqrt{(\\frac{dx}{dt})^2+(\\frac{dy}{dt})^2}dt}=\\int_1^2{\\sqrt{(1-\\frac{1}{t^2})^2+(1+\\frac{1}{t^2})^2}dt}=\\int_1^2{\\sqrt{(1-\\frac{1}{t^2})^2+(1+\\frac{1}{t^2})^2}dt}=\\int_1^2{\\sqrt{2+\\frac{2}{t^4}}dt}$"
   ]
  },
  {
   "cell_type": "markdown",
   "metadata": {},
   "source": [
    "### 问题4F-8\n",
    "- $s=\\int_0^{10}{\\sqrt{(\\frac{dx}{dt})^2+(\\frac{dy}{dt})^2}dt}=\\int_0^{10}{\\sqrt{(e^t\\cos{t}-e^t\\sin{t})^2+(e^t\\sin{t}+e^t\\cos{t})^2}dt}=\\int_0^{10}{\\sqrt{2(e^t)^2}dt}=\\int_0^{10}{\\sqrt{2}e^tdt}=\\sqrt{2}e^t|_0^{10}=\\sqrt{2}e^{10}-\\sqrt{2}$"
   ]
  },
  {
   "cell_type": "markdown",
   "metadata": {},
   "source": [
    "### 问题4G-2\n",
    "- $A=\\int_0^{1/2}{2\\pi yds}=\\int_0^{1/2}{2\\pi y\\sqrt{1+(y^\\prime)^2}dx}=\\int_0^{1/2}{2\\pi(1-2x)\\sqrt{1+(-2)^2}dx}=2\\sqrt{5}\\pi\\int_0^{1/2}{(1-2x)dx}=2\\sqrt{5}\\pi \\cdot (x-x^2)|_0^{1/2}=\\frac{\\sqrt{5}\\pi}{2}$"
   ]
  },
  {
   "cell_type": "markdown",
   "metadata": {},
   "source": [
    "### 问题4G-5\n",
    "- $A=\\int_0^4{2\\pi xds}=\\int_0^4{2\\pi x\\sqrt{1+(y^\\prime)^2}dx}=\\int_0^4{2\\pi x\\sqrt{1+(2x)^2}dx}=2\\pi\\int_0^4{x\\sqrt{1+4x^2}dx}=2\\pi \\cdot \\frac{(1+4x^2)^{3/2}}{12}|_0^4=\\frac{(65\\sqrt{65}-1)\\pi}{6}$"
   ]
  }
 ],
 "metadata": {
  "language_info": {
   "name": "python"
  }
 },
 "nbformat": 4,
 "nbformat_minor": 2
}
