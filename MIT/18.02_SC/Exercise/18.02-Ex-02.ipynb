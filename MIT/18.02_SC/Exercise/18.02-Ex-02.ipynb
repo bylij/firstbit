{
 "cells": [
  {
   "cell_type": "markdown",
   "metadata": {},
   "source": [
    ">https://ocw.mit.edu/courses/18-02sc-multivariable-calculus-fall-2010/resources/mit18_02sc_pb_2_quest/"
   ]
  },
  {
   "cell_type": "markdown",
   "metadata": {},
   "source": [
    "### 问题1\n",
    "- a) $<1, 2, -4> \\cdot <2, 3, 5>=1 \\cdot 2+2 \\cdot 3+(-4) \\cdot 5=-12$\n",
    "- b) $\\cos{\\theta}=\\frac{\\vec{a} \\cdot \\vec{b}}{|\\vec{a}| \\cdot |\\vec{b}|}=\\frac{-12}{|\\vec{a}| \\cdot |\\vec{b}|} \\lt 0$ 因此夹角 $\\theta$ 为钝角"
   ]
  },
  {
   "cell_type": "markdown",
   "metadata": {},
   "source": [
    "### 问题2\n",
    "- $\\vec{A} \\cdot \\vec{B}=|\\vec{A}||\\vec{B}|\\cos{\\theta} \\implies |\\vec{A}|=\\frac{\\vec{A} \\cdot \\vec{B}}{|\\vec{B}|\\cos{\\theta}}=\\frac{6}{\\sqrt{2^2+2^2+1^2} \\cdot \\cos{60^o}}=4$"
   ]
  },
  {
   "cell_type": "markdown",
   "metadata": {},
   "source": [
    "### 问题3\n",
    "- $\\cos{\\theta}=\\frac{\\vec{A} \\cdot \\vec{B}}{|\\vec{A}||\\vec{B}|}=0 \\implies \\theta=90^o$"
   ]
  }
 ],
 "metadata": {
  "language_info": {
   "name": "python"
  }
 },
 "nbformat": 4,
 "nbformat_minor": 2
}
