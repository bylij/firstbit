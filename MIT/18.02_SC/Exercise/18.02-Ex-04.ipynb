{
 "cells": [
  {
   "cell_type": "markdown",
   "metadata": {},
   "source": [
    ">https://ocw.mit.edu/courses/18-02sc-multivariable-calculus-fall-2010/resources/mit18_02sc_pb_4_quest/"
   ]
  },
  {
   "cell_type": "markdown",
   "metadata": {},
   "source": [
    "### 问题1\n",
    "- a)\n",
    "  + (i) $\\vec{A}$ 在 $\\vec{B}$ 上的投影 $\\vec{A} \\cdot \\frac{\\vec{B}}{|\\vec{B}|}=<1, 3> \\cdot \\frac{<3, 4>}{\\sqrt{3^2+4^2}}=3$\n",
    "  + (ii) $\\vec{B}$ 在 $\\vec{A}$ 上的投影  $\\vec{B} \\cdot \\frac{\\vec{A}}{|\\vec{A}|}=<3, 4> \\cdot \\frac{<1, 3>}{\\sqrt{1^2+3^2}}=\\frac{15}{\\sqrt{10}}$\n",
    "- b) $\\vec{A}$ 在 $\\vec{B}$ 上的投影 $\\vec{A} \\cdot \\frac{\\vec{B}}{|\\vec{B}|}=<3, 5, 7> \\cdot \\frac{<3, 4, 0>}{\\sqrt{3^2+4^2+0^2}}=\\frac{29}{5}$"
   ]
  },
  {
   "cell_type": "markdown",
   "metadata": {},
   "source": [
    "### 问题2\n",
    "- $\\vec{A}$ 在 $\\vec{B}$ 上投影为 $0$，$\\vec{A} \\cdot \\vec{B}=0 \\implies <a, 2> \\cdot <1, 3>=a \\cdot 1+2 \\cdot 3=0 \\implies a=-6$  \n",
    "$\\vec{A}$ 在 $\\vec{B}$ 上投影小于 $0$，$\\vec{A} \\cdot \\vec{B} \\lt 0 \\implies a \\lt -6$"
   ]
  },
  {
   "cell_type": "markdown",
   "metadata": {},
   "source": [
    "### 问题3\n",
    "- $90^\\circ$"
   ]
  }
 ],
 "metadata": {
  "language_info": {
   "name": "python"
  }
 },
 "nbformat": 4,
 "nbformat_minor": 2
}
