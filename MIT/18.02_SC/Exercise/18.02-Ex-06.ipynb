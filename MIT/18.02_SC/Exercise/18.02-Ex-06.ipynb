{
 "cells": [
  {
   "cell_type": "markdown",
   "metadata": {},
   "source": [
    ">https://ocw.mit.edu/courses/18-02sc-multivariable-calculus-fall-2010/resources/mit18_02sc_pb_6_quest/"
   ]
  },
  {
   "cell_type": "markdown",
   "metadata": {},
   "source": [
    "### 问题1\n",
    "- $\\begin{vmatrix}1&2&3\\\\4&5&6\\\\7&8&9\\end{vmatrix}=1 \\cdot \\begin{vmatrix}5&6\\\\8&9\\end{vmatrix}-2 \\cdot \\begin{vmatrix}4&6\\\\7&9\\end{vmatrix}+3 \\cdot \\begin{vmatrix}4&5\\\\7&8\\end{vmatrix}=(5 \\cdot 9-6 \\cdot8)-2 \\cdot (4 \\cdot 9-6 \\cdot 7)+3 \\cdot (4 \\cdot 8-5 \\cdot 7)=0$"
   ]
  },
  {
   "cell_type": "markdown",
   "metadata": {},
   "source": [
    "### 问题2\n",
    "- $\\begin{vmatrix}2&1&-5\\\\0&0&4\\\\3&1&2\\end{vmatrix}=2 \\cdot \\begin{vmatrix}0&4\\\\1&2\\end{vmatrix}-1 \\cdot\\begin{vmatrix}0&4\\\\3&2\\end{vmatrix}+(-5) \\cdot \\begin{vmatrix}0&0\\\\3&1\\end{vmatrix}=2 \\cdot (-4)-1 \\cdot (-12)-5 \\cdot 0=4$"
   ]
  },
  {
   "cell_type": "markdown",
   "metadata": {},
   "source": [
    "### 问题3\n",
    "- $\\begin{vmatrix}1&2&3&4\\\\0&0&6&0\\\\1&0&2&0\\\\1&5&1&2\\end{vmatrix}=1 \\cdot \\begin{vmatrix}0&6&0\\\\0&2&0\\\\5&1&2\\end{vmatrix}-2 \\cdot \\begin{vmatrix}0&6&0\\\\1&2&0\\\\1&1&2\\end{vmatrix}+3 \\cdot \\begin{vmatrix}0&0&0\\\\1&0&0\\\\1&5&2\\end{vmatrix}-4 \\cdot \\begin{vmatrix}0&0&6\\\\1&0&2\\\\1&5&1\\end{vmatrix}\\\\\n",
    "=1 \\cdot (-6) \\cdot \\begin{vmatrix}0&0\\\\5&2\\end{vmatrix}-2 \\cdot (-6) \\cdot \\begin{vmatrix}1&0\\\\1&2\\end{vmatrix}+3 \\cdot 0-4 \\cdot 6 \\cdot \\begin{vmatrix}1&0\\\\1&5\\end{vmatrix}\\\\\n",
    "=1 \\cdot (-6) \\cdot 0+12 \\cdot 2+0-24 \\cdot 5\\\\\n",
    "=-96$"
   ]
  }
 ],
 "metadata": {
  "language_info": {
   "name": "python"
  }
 },
 "nbformat": 4,
 "nbformat_minor": 2
}
