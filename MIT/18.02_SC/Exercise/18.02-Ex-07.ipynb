{
 "cells": [
  {
   "cell_type": "markdown",
   "metadata": {},
   "source": [
    ">https://ocw.mit.edu/courses/18-02sc-multivariable-calculus-fall-2010/resources/mit18_02sc_pb_7_quest/"
   ]
  },
  {
   "cell_type": "markdown",
   "metadata": {},
   "source": [
    "### 问题1\n",
    "- a) $V=|\\det(<1,2,4>,<2,0,0>,<1,5,2>)|\\\\\n",
    "=|\\begin{vmatrix}1&2&4\\\\2&0&0\\\\1&5&2\\end{vmatrix}|\\\\\n",
    "=|1 \\cdot \\begin{vmatrix}0&0\\\\5&2\\end{vmatrix}-2 \\cdot \\begin{vmatrix}2&0\\\\1&2\\end{vmatrix}+4 \\cdot \\begin{vmatrix}2&0\\\\1&5\\end{vmatrix}|\\\\\n",
    "=|1 \\cdot 0-2 \\cdot 4+4 \\cdot 10|\\\\\n",
    "=32$"
   ]
  },
  {
   "cell_type": "markdown",
   "metadata": {},
   "source": [
    "### 问题2\n",
    "- 三个原点向量同平面"
   ]
  }
 ],
 "metadata": {
  "language_info": {
   "name": "python"
  }
 },
 "nbformat": 4,
 "nbformat_minor": 2
}
