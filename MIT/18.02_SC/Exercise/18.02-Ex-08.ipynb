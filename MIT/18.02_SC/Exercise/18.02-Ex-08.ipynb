{
 "cells": [
  {
   "cell_type": "markdown",
   "metadata": {},
   "source": [
    ">https://ocw.mit.edu/courses/18-02sc-multivariable-calculus-fall-2010/resources/mit18_02sc_pb_8_quest/"
   ]
  },
  {
   "cell_type": "markdown",
   "metadata": {},
   "source": [
    "### 问题1\n",
    "- a) $<1,3,1> \\times <2,-1,5>=\\begin{vmatrix}\\hat{i}&\\hat{j}&\\hat{k}\\\\1&3&1\\\\2&-1&5\\end{vmatrix}=<16,-3,-7>$\n",
    "- b) $(\\hat{i}+2\\hat{j}) \\times (2\\hat{i}-3\\hat{j})=\\begin{vmatrix}\\hat{i}&\\hat{j}&\\hat{k}\\\\1&2&0\\\\2&-3&0\\end{vmatrix}=-7\\hat{k}$"
   ]
  },
  {
   "cell_type": "markdown",
   "metadata": {},
   "source": [
    "### 问题2\n",
    "- 已知以 $(1, 2, 1)$ 为起点的两个向量 $\\vec{a}=<2,-1,5>, \\vec{b}=<1,3,1>$  \n",
    "根据向量叉积的定理 $S=|\\vec{a} \\times \\vec{b}|=|\\begin{vmatrix}\\hat{i}&\\hat{j}&\\hat{k}\\\\2&-1&5\\\\1&3&1\\end{vmatrix}|=|<-16,3,7>|=\\sqrt{(-16)^2+3^2+7^2}=\\sqrt{314}$"
   ]
  }
 ],
 "metadata": {
  "language_info": {
   "name": "python"
  }
 },
 "nbformat": 4,
 "nbformat_minor": 2
}
