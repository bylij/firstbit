{
 "cells": [
  {
   "cell_type": "markdown",
   "metadata": {},
   "source": [
    ">https://ocw.mit.edu/courses/18-02sc-multivariable-calculus-fall-2010/resources/mit18_02sc_pb_9_quest/"
   ]
  },
  {
   "cell_type": "markdown",
   "metadata": {},
   "source": [
    "### 问题1\n",
    "- 设平面上任一点 $P=(x, y, z)$  \n",
    "可得 $\\det(\\overrightarrow{P_1P}, \\overrightarrow{P_1P_2}, \\overrightarrow{P_1P_3})=0 \\implies \\begin{vmatrix}x-1&y&z-1\\\\-1&1&0\\\\0&1&-1\\end{vmatrix}=0\\\\\n",
    "\\implies (x-1) \\cdot \\begin{vmatrix}1&0\\\\1&-1\\end{vmatrix}-y \\cdot \\begin{vmatrix}-1&0\\\\0&-1\\end{vmatrix}+(z-1) \\cdot \\begin{vmatrix}-1&1\\\\0&1\\end{vmatrix}=0\\\\\n",
    "\\implies (x-1) \\cdot (-1)-y \\cdot 1+(z-1) \\cdot (-1)=0\\\\\n",
    "\\implies x+y+z=2$ 即为平面方程"
   ]
  }
 ],
 "metadata": {
  "language_info": {
   "name": "python"
  }
 },
 "nbformat": 4,
 "nbformat_minor": 2
}
