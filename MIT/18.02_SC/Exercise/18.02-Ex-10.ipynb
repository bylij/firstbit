{
 "cells": [
  {
   "cell_type": "markdown",
   "metadata": {},
   "source": [
    ">https://ocw.mit.edu/courses/18-02sc-multivariable-calculus-fall-2010/resources/mit18_02sc_pb_10_quest/"
   ]
  },
  {
   "cell_type": "markdown",
   "metadata": {},
   "source": [
    "### 问题1\n",
    "- (i) $AA=\\begin{pmatrix}1&3\\\\4&5\\end{pmatrix}\\begin{pmatrix}1&3\\\\4&5\\end{pmatrix}=\\begin{pmatrix}13&18\\\\24&37\\end{pmatrix}$\n",
    "- (ii) $AB=\\begin{pmatrix}1&3\\\\4&5\\end{pmatrix}\\begin{pmatrix}1&1&1\\\\4&5&6\\end{pmatrix}=\\begin{pmatrix}13&16&19\\\\24&29&34\\end{pmatrix}$\n",
    "- (iv) $AE=\\begin{pmatrix}1&3\\\\4&5\\end{pmatrix}\\begin{pmatrix}3\\\\5\\end{pmatrix}=\\begin{pmatrix}18\\\\37\\end{pmatrix}$\n",
    "- (v) $DA=\\begin{pmatrix}3&0\\\\0&3\\end{pmatrix}\\begin{pmatrix}1&3\\\\4&5\\end{pmatrix}=\\begin{pmatrix}3&9\\\\12&15\\end{pmatrix}$\n",
    "- (vi) $CE=\\begin{pmatrix}1&4\\\\1&5\\\\1&6\\end{pmatrix}\\begin{pmatrix}3\\\\5\\end{pmatrix}=\\begin{pmatrix}17\\\\20\\\\23\\end{pmatrix}$\n",
    "- (viii) $A+D=\\begin{pmatrix}1&3\\\\4&5\\end{pmatrix}+\\begin{pmatrix}3&0\\\\0&3\\end{pmatrix}=\\begin{pmatrix}4&3\\\\4&8\\end{pmatrix}$"
   ]
  },
  {
   "cell_type": "markdown",
   "metadata": {},
   "source": [
    "### 问题2\n",
    "- $B=\\begin{pmatrix}0\\\\1\\\\0\\end{pmatrix}$"
   ]
  },
  {
   "cell_type": "markdown",
   "metadata": {},
   "source": [
    "### 问题3\n",
    "- $\\begin{pmatrix}2&3&5\\\\0&2&1\\\\1&-2&0\\end{pmatrix}\\begin{pmatrix}x\\\\y\\\\z\\end{pmatrix}=\\begin{pmatrix}2\\\\1\\\\3\\end{pmatrix}$"
   ]
  }
 ],
 "metadata": {
  "language_info": {
   "name": "python"
  }
 },
 "nbformat": 4,
 "nbformat_minor": 2
}
