{
 "cells": [
  {
   "cell_type": "markdown",
   "metadata": {},
   "source": [
    ">https://ocw.mit.edu/courses/18-02sc-multivariable-calculus-fall-2010/resources/mit18_02sc_pb_11_quest/"
   ]
  },
  {
   "cell_type": "markdown",
   "metadata": {},
   "source": [
    "### 问题1\n",
    "- a) $Av=\\begin{pmatrix}\\frac{1}{\\sqrt{2}}&-\\frac{1}{\\sqrt{2}}\\\\\\frac{1}{\\sqrt{2}}&\\frac{1}{\\sqrt{2}}\\end{pmatrix}\\begin{pmatrix}x\\\\y\\end{pmatrix}=\\begin{pmatrix}\\frac{x-y}{\\sqrt{2}}\\\\\\frac{x+y}{\\sqrt{2}}\\end{pmatrix} \\implies |Av|=\\sqrt{(\\frac{x-y}{\\sqrt{2}})^2+(\\frac{x+y}{\\sqrt{2}})^2}=\\sqrt{x^2+y^2}$ 长度没变\n",
    "- b) $\\cos{\\theta}=\\frac{\\vec{v} \\cdot \\overrightarrow{Av}}{|\\vec{v}||\\overrightarrow{Av}|}=\\frac{<x,y> \\cdot <\\frac{x-y}{\\sqrt{2}},\\frac{x+y}{\\sqrt{2}}>}{\\sqrt{x^2+y^2} \\cdot \\sqrt{x^2+y^2}}=\\frac{1}{\\sqrt{2}} \\implies \\theta=\\cos^{-1}\\frac{1}{\\sqrt{2}}=\\frac{\\pi}{4}$\n",
    "- c) $v \\times Av=\\begin{pmatrix}\\hat{i}&\\hat{j}&\\hat{k}\\\\x&y&0\\\\\\frac{x-y}{\\sqrt{2}}&\\frac{x+y}{\\sqrt{2}}&0\\end{pmatrix}=\\frac{x^2+y^2}{\\sqrt{2}}\\hat{k}$ 叉积向量是 $z$轴正方向，根据右手定则可知 $Av$ 在 $v$ 逆时针 $\\frac{\\pi}{4}$ 方向"
   ]
  }
 ],
 "metadata": {
  "language_info": {
   "name": "python"
  }
 },
 "nbformat": 4,
 "nbformat_minor": 2
}
