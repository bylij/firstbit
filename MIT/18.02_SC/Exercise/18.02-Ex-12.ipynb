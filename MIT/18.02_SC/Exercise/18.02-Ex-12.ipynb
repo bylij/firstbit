{
 "cells": [
  {
   "cell_type": "markdown",
   "metadata": {},
   "source": [
    ">https://ocw.mit.edu/courses/18-02sc-multivariable-calculus-fall-2010/resources/mit18_02sc_pb_12_quest/"
   ]
  },
  {
   "cell_type": "markdown",
   "metadata": {},
   "source": [
    "### 问题1\n",
    "- a) $det(A)=\\begin{vmatrix}1&2&1\\\\1&4&0\\\\2&1&5\\end{vmatrix}=1\\begin{vmatrix}4&0\\\\1&5\\end{vmatrix}-2\\begin{vmatrix}1&0\\\\2&5\\end{vmatrix}+1\\begin{vmatrix}1&4\\\\2&1\\end{vmatrix}=3$  \n",
    "$minors(A)=\\begin{pmatrix}20&5&-7\\\\9&3&-3\\\\-4&-1&2\\end{pmatrix} \\implies cofactors(A)=\\begin{pmatrix}20&-5&-7\\\\-9&3&3\\\\-4&1&2\\end{pmatrix} \\implies adj(A)=\\begin{pmatrix}20&-9&-4\\\\-5&3&1\\\\-7&3&2\\end{pmatrix}$  \n",
    "$A^{-1}=\\frac{1}{det(A)}adj(A)=\\frac{1}{3}\\begin{pmatrix}20&-9&-4\\\\-5&3&1\\\\-7&3&2\\end{pmatrix}=\\begin{pmatrix}20/3&-3&-4/3\\\\-5/3&1&1/3\\\\-7/3&1&2/3\\end{pmatrix}$\n",
    "- b) $\\begin{pmatrix}x\\\\y\\\\z\\end{pmatrix}=A^{-1}\\begin{pmatrix}1\\\\0\\\\3\\end{pmatrix}=\\begin{pmatrix}20/3&-3&-4/3\\\\-5/3&1&1/3\\\\-7/3&1&2/3\\end{pmatrix}\\begin{pmatrix}1\\\\0\\\\3\\end{pmatrix}=\\begin{pmatrix}8/3\\\\-2/3\\\\-1/3\\end{pmatrix}$"
   ]
  },
  {
   "cell_type": "markdown",
   "metadata": {},
   "source": [
    "### 问题2\n",
    "- a) $A=\\begin{pmatrix}a&b\\\\c&d\\end{pmatrix}$  \n",
    "$det(A)=\\begin{vmatrix}a&b\\\\c&d\\end{vmatrix}=ad-bc$  \n",
    "$minors(A)=\\begin{pmatrix}d&c\\\\b&a\\end{pmatrix} \\implies cofactors(A)=\\begin{pmatrix}d&-c\\\\-b&a\\end{pmatrix} \\implies adj(A)=\\begin{pmatrix}d&-b\\\\-c&a\\end{pmatrix}$  \n",
    "$A^{-1}=\\frac{1}{det(A)}adj(A)=\\frac{1}{ad-bc}\\begin{pmatrix}d&-b\\\\-c&a\\end{pmatrix}=\\begin{pmatrix}d/ad-bc&-b/ad-bc\\\\-c/ad-bc&a/ad-bc\\end{pmatrix}$\n",
    "- c) $\\begin{pmatrix}6&5\\\\1&2\\end{pmatrix}^{-1}=\\frac{1}{7}\\begin{pmatrix}2&-5\\\\-1&6\\end{pmatrix}=\\begin{pmatrix}2/7&-5/7\\\\-1/7&6/7\\end{pmatrix}$"
   ]
  }
 ],
 "metadata": {
  "language_info": {
   "name": "python"
  }
 },
 "nbformat": 4,
 "nbformat_minor": 2
}
