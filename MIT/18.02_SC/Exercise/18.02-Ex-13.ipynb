{
 "cells": [
  {
   "cell_type": "markdown",
   "metadata": {},
   "source": [
    ">https://ocw.mit.edu/courses/18-02sc-multivariable-calculus-fall-2010/resources/mit18_02sc_pb_13_quest/"
   ]
  },
  {
   "cell_type": "markdown",
   "metadata": {},
   "source": [
    "### 问题1\n",
    "- 法向量 $\\vec{N}=\\overrightarrow{P_1P_2} \\times \\overrightarrow{P_1P_3}=<-1,1,0> \\times <0,1,-1>=\\begin{vmatrix}\\hat{i}&\\hat{j}&\\hat{k}\\\\-1&1&0\\\\0&1&-1\\end{vmatrix}=<-1,-1,-1>$  \n",
    "将点 $P_1=(1, 0, 1)$ 带入 $-x-y-z=d$ 得 $d=-2$ 可得平面公式 $x+y+z=2$"
   ]
  },
  {
   "cell_type": "markdown",
   "metadata": {},
   "source": [
    "### 问题2\n",
    "- 两点斜率 $Slop=\\frac{1-2}{3-1}=-\\frac{1}{2}$ 可得法向量 $\\vec{N}=<1, 2>$  \n",
    "法点公式 $(x-1)+2(y-2)=0$"
   ]
  }
 ],
 "metadata": {
  "language_info": {
   "name": "python"
  }
 },
 "nbformat": 4,
 "nbformat_minor": 2
}
