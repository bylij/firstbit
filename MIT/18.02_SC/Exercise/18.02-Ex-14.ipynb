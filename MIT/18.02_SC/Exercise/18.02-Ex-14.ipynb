{
 "cells": [
  {
   "cell_type": "markdown",
   "metadata": {},
   "source": [
    ">https://ocw.mit.edu/courses/18-02sc-multivariable-calculus-fall-2010/resources/mit18_02sc_pb_14_quest/"
   ]
  },
  {
   "cell_type": "markdown",
   "metadata": {},
   "source": [
    "### 问题1\n",
    "- 设平面上一点 $B=(a, b, c)$ 为点 $A=(1, 0, 0)$ 在平面上的投影，可知 $\\overrightarrow{AB}$ 垂直于平面，而平面法向量 $\\vec{N}=<2,1,-2>$  \n",
    "$\\overrightarrow{AB}=<a-1,b,c> // \\vec{N} \\implies <a-1,b,c>=C<2,1,-2> \\implies \\begin{cases}a-1=2C\\\\b=C\\\\c=-2C\\end{cases}$ C为常量  \n",
    "将 $(a, b, c)$ 带入平面公式可得 $C=-\\frac{2}{9} \\implies \\overrightarrow{AB}=<-\\frac{4}{9},-\\frac{2}{9},\\frac{4}{9}>$  \n",
    "$A$ 到平面距离 $|\\overrightarrow{AB}|=\\sqrt{(-\\frac{4}{9})^2+(-\\frac{2}{9})^2+(\\frac{4}{9})^2}=\\frac{2}{3}$"
   ]
  },
  {
   "cell_type": "markdown",
   "metadata": {},
   "source": [
    "### 问题2\n",
    "- 直线斜率 $-2$ 则法向量 $\\vec{N}=<2,1>$  \n",
    "设原点 $O=(0, 0)$ 在直线的投影为 $B$，$\\overrightarrow{OB} // \\vec{N} \\implies B=(2C, C)$ C为常数  \n",
    "将 B 点坐标带入直线方程得 $C=\\frac{2}{5} \\implies \\overrightarrow{OB}=<\\frac{4}{5}, \\frac{2}{5}>$  \n",
    "原点到直线距离 $|\\overrightarrow{OB}|=\\sqrt{(\\frac{4}{5})^2+(\\frac{2}{5})^2}=\\frac{2}{\\sqrt{5}}$"
   ]
  }
 ],
 "metadata": {
  "language_info": {
   "name": "python"
  }
 },
 "nbformat": 4,
 "nbformat_minor": 2
}
