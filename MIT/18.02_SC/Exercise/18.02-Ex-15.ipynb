{
 "cells": [
  {
   "cell_type": "markdown",
   "metadata": {},
   "source": [
    ">https://ocw.mit.edu/courses/18-02sc-multivariable-calculus-fall-2010/resources/mit18_02sc_pb_15_quest/"
   ]
  },
  {
   "cell_type": "markdown",
   "metadata": {},
   "source": [
    "### 问题1\n",
    "- a) $\\begin{cases}x+y-z=0\\\\x+y-z=1\\\\x+y-z=2\\end{cases}$\n",
    "- b) $\\begin{cases}x+y-z=0\\\\x+y-z=1\\\\2x+y-z=2\\end{cases}$\n",
    "- c) $\\begin{cases}x-z=0\\\\x+2z=3\\\\2x-z=1\\end{cases}$"
   ]
  }
 ],
 "metadata": {
  "language_info": {
   "name": "python"
  }
 },
 "nbformat": 4,
 "nbformat_minor": 2
}
