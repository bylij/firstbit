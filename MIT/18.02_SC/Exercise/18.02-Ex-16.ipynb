{
 "cells": [
  {
   "cell_type": "markdown",
   "metadata": {},
   "source": [
    ">https://ocw.mit.edu/courses/18-02sc-multivariable-calculus-fall-2010/resources/mit18_02sc_pb_16_quest/"
   ]
  },
  {
   "cell_type": "markdown",
   "metadata": {},
   "source": [
    "### 问题1\n",
    "- a) $A=\\begin{pmatrix}1&1&2\\\\2&1&1\\\\3&1&6\\end{pmatrix}$  \n",
    "$det(A)=\\begin{vmatrix}1&1&2\\\\2&1&1\\\\3&1&6\\end{vmatrix}=-6 \\ne 0 \\implies \\begin{pmatrix}x\\\\y\\\\z\\end{pmatrix}=A^{-1}\\begin{pmatrix}0\\\\0\\\\0\\end{pmatrix}=\\begin{pmatrix}0\\\\0\\\\0\\end{pmatrix}$\n",
    "- b) $A=\\begin{pmatrix}1&1&2\\\\2&1&4\\\\3&1&6\\end{pmatrix}$  \n",
    "$det(A)=\\begin{vmatrix}1&1&2\\\\2&1&4\\\\3&1&6\\end{vmatrix}=0$ 不能通过 $A^{-1}$ 求解方程  \n",
    "方程最终解 $\\begin{cases}x+2z=0\\\\y=0\\end{cases}$ 是这条直线上的所有点，有无穷多个解"
   ]
  }
 ],
 "metadata": {
  "language_info": {
   "name": "python"
  }
 },
 "nbformat": 4,
 "nbformat_minor": 2
}
