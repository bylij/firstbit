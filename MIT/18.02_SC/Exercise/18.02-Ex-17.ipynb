{
 "cells": [
  {
   "cell_type": "markdown",
   "metadata": {},
   "source": [
    ">https://ocw.mit.edu/courses/18-02sc-multivariable-calculus-fall-2010/resources/mit18_02sc_pb_17_quest/"
   ]
  },
  {
   "cell_type": "markdown",
   "metadata": {},
   "source": [
    "### 问题1\n",
    "- $\\begin{cases}x(t)=1+2t\\\\y(t)=1-3t\\\\z(t)=2-t\\end{cases}$"
   ]
  },
  {
   "cell_type": "markdown",
   "metadata": {},
   "source": [
    "### 问题2\n",
    "- 直线与两个平面的法向量均垂直，通过两个法向量叉积可以求得直线的方向向量  \n",
    "$\\vec{d}=<1,1,1> \\times <1,2,3>=\\begin{vmatrix}\\hat{i}&\\hat{j}&\\hat{k}\\\\1&1&1\\\\1&2&3\\end{vmatrix}=<1,-2,1>$  \n",
    "可知点 $(0, 1, 0)$ 同时满足两个方程，可知直线通过该点  \n",
    "$\\begin{cases}x(t)=t\\\\y(t)=1-2t\\\\z(t)=t\\end{cases}$"
   ]
  }
 ],
 "metadata": {
  "language_info": {
   "name": "python"
  }
 },
 "nbformat": 4,
 "nbformat_minor": 2
}
