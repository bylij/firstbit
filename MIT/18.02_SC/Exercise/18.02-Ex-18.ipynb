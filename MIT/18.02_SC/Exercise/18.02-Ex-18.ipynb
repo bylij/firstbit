{
 "cells": [
  {
   "cell_type": "markdown",
   "metadata": {},
   "source": [
    ">https://ocw.mit.edu/courses/18-02sc-multivariable-calculus-fall-2010/resources/mit18_02sc_pb_18_quest/"
   ]
  },
  {
   "cell_type": "markdown",
   "metadata": {},
   "source": [
    "### 问题1\n",
    "- 直线方向向量 $\\vec{d}=<0,-1,4>$ 可得直线参数方程 $\\begin{cases}x(t)=1\\\\y(t)=3-t\\\\z(t)=4t\\end{cases}$ $\\textcircled{1}$  \n",
    "平面方程 $det(<x,y,z>, <1,1,0>, <0,1,1>)=0 \\implies \\begin{vmatrix}x&y&z\\\\1&1&0\\\\0&1&1\\end{vmatrix}=0 \\implies x-y+z=0$  \n",
    "将 $\\textcircled{1}$ 带入平面方程得 $1-(3-t)+4t=0 \\implies t=\\frac{2}{5}$ 带回 $\\textcircled{1}$ 得到交点坐标 $(1, \\frac{13}{5}, \\frac{8}{5})$"
   ]
  }
 ],
 "metadata": {
  "language_info": {
   "name": "python"
  }
 },
 "nbformat": 4,
 "nbformat_minor": 2
}
