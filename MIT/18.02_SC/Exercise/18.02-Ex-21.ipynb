{
 "cells": [
  {
   "cell_type": "markdown",
   "metadata": {},
   "source": [
    ">https://ocw.mit.edu/courses/18-02sc-multivariable-calculus-fall-2010/resources/mit18_02sc_pb_21_quest/"
   ]
  },
  {
   "cell_type": "markdown",
   "metadata": {},
   "source": [
    "### 问题1\n",
    "- a) $\\vec{v}=\\frac{d\\vec{r}}{dt}=2t\\hat{i}+3t^2\\hat{j}$  \n",
    "$speed=|\\vec{v}|=\\sqrt{(2t)^2+(3t^2)^2}=\\sqrt{4t^2+9t^4}=t\\sqrt{4+9t^2}$  \n",
    "$\\vec{T}=\\frac{\\vec{v}}{|\\vec{v}|}=\\frac{2t\\hat{i}+3t^2\\hat{j}}{t\\sqrt{4+9t^2}}=\\frac{2}{\\sqrt{4+9t^2}}\\hat{i}+\\frac{3t}{\\sqrt{4+9t^2}}\\hat{j}$  \n",
    "$\\vec{a}=\\frac{d\\vec{v}}{dt}=2\\hat{i}+6t\\hat{j}$\n",
    "- b) $\\int_1^4t\\sqrt{4+9t^2}dt$"
   ]
  },
  {
   "cell_type": "markdown",
   "metadata": {},
   "source": [
    "### 问题2\n",
    "- a) $\\vec{r}=<3t+1,4t+3>$  \n",
    "$\\vec{v}=\\frac{d\\vec{r}}{dt}=<3,4>$  \n",
    "$speed=|\\vec{v}|=\\sqrt{3^2+4^2}=5$  \n",
    "$\\vec{T}=\\frac{\\vec{v}}{|\\vec{v}|}=<\\frac{3}{5},\\frac{4}{5}>$  \n",
    "$\\vec{a}=\\frac{d\\vec{v}}{dt}=\\vec{0}$\n",
    "- b) $s=\\int_0^2 5dt=10$"
   ]
  }
 ],
 "metadata": {
  "language_info": {
   "name": "python"
  }
 },
 "nbformat": 4,
 "nbformat_minor": 2
}
