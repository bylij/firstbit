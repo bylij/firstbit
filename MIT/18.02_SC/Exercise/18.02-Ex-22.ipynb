{
 "cells": [
  {
   "cell_type": "markdown",
   "metadata": {},
   "source": [
    ">https://ocw.mit.edu/courses/18-02sc-multivariable-calculus-fall-2010/resources/mit18_02sc_pb_22_quest/"
   ]
  },
  {
   "cell_type": "markdown",
   "metadata": {},
   "source": [
    "### 问题1\n",
    "- 设 $\\vec{r}=<r_1,r_2,...,r_n>$ 则 $\\frac{d\\vec{r}}{dt}=<\\frac{dr_1}{dt},\\frac{dr_2}{dt},...,\\frac{dr_n}{dt}>$  \n",
    "$\\frac{d\\vec{r}}{dt}=\\vec{0} \\implies \\frac{dr_1}{dt}=0,\\frac{dr_2}{dt},...,\\frac{dr_n}{dt}=0 \\implies r_1,r_2,...,r_n$ 全为常数  \n",
    "可得 $\\vec{r}=<r_1,r_2,...,r_n>$ 为常向量"
   ]
  }
 ],
 "metadata": {
  "language_info": {
   "name": "python"
  }
 },
 "nbformat": 4,
 "nbformat_minor": 2
}
