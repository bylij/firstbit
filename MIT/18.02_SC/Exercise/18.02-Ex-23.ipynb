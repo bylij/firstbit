{
 "cells": [
  {
   "cell_type": "markdown",
   "metadata": {},
   "source": [
    ">https://ocw.mit.edu/courses/18-02sc-multivariable-calculus-fall-2010/resources/mit18_02sc_pb_23_quest/"
   ]
  },
  {
   "cell_type": "markdown",
   "metadata": {},
   "source": [
    "### 问题1\n",
    "- $z=y^2-x^2$ 在 $xz$ 平面 $z=-x^2$ 为一个开口向下的抛物线  \n",
    "在 $yz$ 平面 $z=y^2$ 为一个开口向上的抛物线  \n",
    "在 $zy$ 平面 $y^2-x^2=0 \\implies |y|=|x|$ 外两条直线  \n",
    "具体已草纸上绘制，这里省略"
   ]
  }
 ],
 "metadata": {
  "language_info": {
   "name": "python"
  }
 },
 "nbformat": 4,
 "nbformat_minor": 2
}
