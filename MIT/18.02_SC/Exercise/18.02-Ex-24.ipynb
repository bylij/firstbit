{
 "cells": [
  {
   "cell_type": "markdown",
   "metadata": {},
   "source": [
    ">https://ocw.mit.edu/courses/18-02sc-multivariable-calculus-fall-2010/resources/mit18_02sc_pb_24_quest/"
   ]
  },
  {
   "cell_type": "markdown",
   "metadata": {},
   "source": [
    "### 问题1\n",
    "- $z=xy$ 分别取 $z=0, 1, 2, ...$ 可知 $xy$ 平面内的等高线过 $(0, 0)$ 点，占据一、三象限，由 $y=1/x, y=2/x, ...$ 这样的一些列双曲线由 $(0, 0)$ 点逐渐向外扩散，这些双曲线的边缘则收敛于坐标轴  \n",
    "具体已在草纸上绘制，这里省略"
   ]
  }
 ],
 "metadata": {
  "language_info": {
   "name": "python"
  }
 },
 "nbformat": 4,
 "nbformat_minor": 2
}
