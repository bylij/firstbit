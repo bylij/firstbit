{
 "cells": [
  {
   "cell_type": "markdown",
   "metadata": {},
   "source": [
    ">https://ocw.mit.edu/courses/18-02sc-multivariable-calculus-fall-2010/resources/mit18_02sc_pb_25_quest/"
   ]
  },
  {
   "cell_type": "markdown",
   "metadata": {},
   "source": [
    "### 问题1\n",
    "- a) $\\frac{\\partial{f}}{\\partial{x}}=e^{x^2+y^2} \\cdot 2x+2x+y, \\frac{\\partial{f}}{\\partial{y}}=e^{x^2+y^2} \\cdot 2y+2y+x+2$\n",
    "- b) $\\frac{\\partial^2{f}}{\\partial{x}\\partial{y}}=2x \\cdot (e^{x^2+y^2} \\cdot 2y)+1=4xye^{x^2+y^2}+1$  \n",
    "$\\frac{\\partial^2{f}}{\\partial{y}\\partial{x}}=2y \\cdot (e^{x^2+y^2} \\cdot 2x)+1=4xye^{x^2+y^2}+1$  \n",
    "因此 $\\frac{\\partial^2{f}}{\\partial{x}\\partial{y}}=\\frac{\\partial^2{f}}{\\partial{y}\\partial{x}}$\n",
    "- c) $\\frac{\\partial{f}}{\\partial{x}}(1, 3)=e^{1^2+3^2} \\cdot 2+2+3=5+2e^{10}$"
   ]
  }
 ],
 "metadata": {
  "language_info": {
   "name": "python"
  }
 },
 "nbformat": 4,
 "nbformat_minor": 2
}
