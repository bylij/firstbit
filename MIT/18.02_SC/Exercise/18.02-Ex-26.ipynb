{
 "cells": [
  {
   "cell_type": "markdown",
   "metadata": {},
   "source": [
    ">https://ocw.mit.edu/courses/18-02sc-multivariable-calculus-fall-2010/resources/mit18_02sc_pb_26_quest/"
   ]
  },
  {
   "cell_type": "markdown",
   "metadata": {},
   "source": [
    "### 问题1\n",
    "- $z=xy^2 \\implies f_x=\\frac{\\partial{z}}{\\partial{x}}=y^2, f_y=\\frac{\\partial{z}}{\\partial{y}}=2xy$  \n",
    "点 $(1, 1, 1)$ 附近的切面方程 $z=1+f_x(1, 1)(x-1)+f_y(1, 1)(y-1) \\implies z=1+1 \\cdot (x-1)+2 \\cdot (y-1) \\implies x+2y-z=2$"
   ]
  },
  {
   "cell_type": "markdown",
   "metadata": {},
   "source": [
    "### 问题2\n",
    "- $f_x=\\frac{\\partial{f}}{\\partial{x}}=e^x+1, f_y=\\frac{\\partial{f}}{\\partial{y}}=1$  \n",
    "函数在 $(0, 0)$ 点线性化 $f(x, y)=f(0, 0)+f_x(0, 0)x+f_y(0, 0)y \\implies f(x, y)=1+2x+y$"
   ]
  }
 ],
 "metadata": {
  "language_info": {
   "name": "python"
  }
 },
 "nbformat": 4,
 "nbformat_minor": 2
}
