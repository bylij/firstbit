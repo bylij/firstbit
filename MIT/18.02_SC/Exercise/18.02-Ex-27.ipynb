{
 "cells": [
  {
   "cell_type": "markdown",
   "metadata": {},
   "source": [
    ">https://ocw.mit.edu/courses/18-02sc-multivariable-calculus-fall-2010/resources/mit18_02sc_pb_27_quest/"
   ]
  },
  {
   "cell_type": "markdown",
   "metadata": {},
   "source": [
    "### 问题1\n",
    "- $f_x=6x^5+6, f_y=3y^2-12$，由 $f_x=f_y=0 \\implies x=-1, y=\\pm 2$  \n",
    "存在两个极点 $(-1, -2)$ 和 $(-1, 2)$"
   ]
  }
 ],
 "metadata": {
  "language_info": {
   "name": "python"
  }
 },
 "nbformat": 4,
 "nbformat_minor": 2
}
