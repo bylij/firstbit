{
 "cells": [
  {
   "cell_type": "markdown",
   "metadata": {},
   "source": [
    ">https://ocw.mit.edu/courses/18-02sc-multivariable-calculus-fall-2010/resources/mit18_02sc_pb_28_quest/"
   ]
  },
  {
   "cell_type": "markdown",
   "metadata": {},
   "source": [
    "### 问题1\n",
    "- 设目标直线 $y=ax+b$，根据 $E=\\Sigma{[y_i-(ax_i+b)]^2}\\\\\n",
    "\\implies E=[0-(a \\cdot 0+b)]^2+[2-(a \\cdot 1+b)]^2+[1-(a \\cdot 2+b)]^2+[4-(a \\cdot 3+b)]^2=b^2+(2-a-b)^2+(1-2a-b)^2+(4-3a-b)^2\\\\\n",
    "\\implies E_a=\\frac{\\partial{E}}{\\partial{a}}=2(2-a-b) \\cdot (-1)+2(1-2a-b) \\cdot (-2)+2(4-3a-b) \\cdot (-3)=28a+12b-32, \\\\\n",
    "E_b=\\frac{\\partial{E}}{\\partial{b}}=2b+2(2-a-b) \\cdot (-1)+2(1-2a-b) \\cdot (-1)+2(4-3a-b) \\cdot (-1)=12a+8b-14$  \n",
    "由 $E_a=E_b=0 \\implies \\begin{cases}28a+12b-12=0\\\\12a+8b-14=0\\end{cases}$ 解得极点 $(a=\\frac{11}{10}, b=\\frac{1}{10})$  \n",
    "评估函数 $E$ 在极点取得最小值（$a \\to \\infty$ 或 $b \\to \\infty$ 时，$E \\to \\infty$）  \n",
    "目标直线 $y=\\frac{11}{10}x+\\frac{1}{10}$"
   ]
  }
 ],
 "metadata": {
  "language_info": {
   "name": "python"
  }
 },
 "nbformat": 4,
 "nbformat_minor": 2
}
