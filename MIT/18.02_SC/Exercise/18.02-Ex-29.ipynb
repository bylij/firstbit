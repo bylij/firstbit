{
 "cells": [
  {
   "cell_type": "markdown",
   "metadata": {},
   "source": [
    ">https://ocw.mit.edu/courses/18-02sc-multivariable-calculus-fall-2010/resources/mit18_02sc_pb_29_quest/"
   ]
  },
  {
   "cell_type": "markdown",
   "metadata": {},
   "source": [
    "### 问题1\n",
    "- $w=(x^3+1)(y^3+1)$  \n",
    "$w_x=3x^2(y^3+1), w_y=3y^2(x^3+1)$ 由 $w_x=w_y=0 \\implies \\begin{cases}3x^2(y^3+1)=0\\\\3y^2(x^3+1)=0\\end{cases}$ 得驻点 $(0, 0)$ 和 $(-1, -1)$  \n",
    "$w_{xx}=6x(y^3+1), w_{yy}=6y(x^3+1), w_{xy}=9x^2y^2$  \n",
    "针对 $(0, 0)$ 驻点 $A=w_{xx}(0, 0)=0, C=w_{yy}(0, 0)=0, B=w_{xy}(0, 0)=0 \\implies AC-B^2=0$ 不能确定  \n",
    "针对 $(-1, -1)$ 驻点 $A=w_{xx}(-1, -1)=0, C=w_{yy}(-1, -1)=0, B=w_{xy}(-1, -1)=9 \\implies AC-B^2=-81 \\lt 0$ 该驻点为鞍点"
   ]
  }
 ],
 "metadata": {
  "language_info": {
   "name": "python"
  }
 },
 "nbformat": 4,
 "nbformat_minor": 2
}
