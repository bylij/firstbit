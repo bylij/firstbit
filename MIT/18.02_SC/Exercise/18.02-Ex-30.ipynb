{
 "cells": [
  {
   "cell_type": "markdown",
   "metadata": {},
   "source": [
    ">https://ocw.mit.edu/courses/18-02sc-multivariable-calculus-fall-2010/resources/mit18_02sc_pb_30_quest/"
   ]
  },
  {
   "cell_type": "markdown",
   "metadata": {},
   "source": [
    "### 问题1\n",
    "- $w=ze^{(x+y)} \\implies \\begin{cases}w_x=ze^{(x+y)}\\\\w_y=ze^{(x+y)}\\\\w_z=e^{(x+y)}\\end{cases} \\implies \\begin{cases}w_x(0, 0, 1)=1\\\\w_y(0, 0, 1)=1\\\\w_z(0, 0, 1)=1\\end{cases}$  \n",
    "$dw=w_xdx+w_ydy+w_zdz \\implies dw=dx+dy+dz$ 在 $(0, 0, 1)$ 点"
   ]
  },
  {
   "cell_type": "markdown",
   "metadata": {},
   "source": [
    "### 问题2\n",
    "- $\\frac{dw}{dt}=w_x\\frac{dx}{dt}+w_y\\frac{dy}{dt}+w_z\\frac{dz}{dt}=t^3e^{(t+t^2)}+t^3e^{(t+t^2)} \\cdot 2t+e^{(t+t^2)} \\cdot 3t^2=(2t^4+t^3+3t^2)e^{(t+t^2)}$  \n",
    "$\\frac{dw}{dt}|_{t=2}=(2 \\cdot 2^4+2^3+3 \\cdot 2^2)e^{(2+2^2)}=52e^6$"
   ]
  }
 ],
 "metadata": {
  "language_info": {
   "name": "python"
  }
 },
 "nbformat": 4,
 "nbformat_minor": 2
}
