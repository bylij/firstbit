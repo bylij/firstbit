{
 "cells": [
  {
   "cell_type": "markdown",
   "metadata": {},
   "source": [
    ">https://ocw.mit.edu/courses/18-02sc-multivariable-calculus-fall-2010/resources/mit18_02sc_pb_31_quest/"
   ]
  },
  {
   "cell_type": "markdown",
   "metadata": {},
   "source": [
    "### 问题1\n",
    "- a) $\\vec{r}(t)=<t\\cos{(2t)},t\\sin{(2t)}> \\implies \\begin{cases}x(t)=t\\cos{(2t)}\\\\y(t)=t\\sin{(2t)}\\end{cases} \\implies \\begin{cases}\\frac{dx}{dt}=\\cos{(2t)}-2t\\sin{(2t)}\\\\\\frac{dy}{dt}=\\sin{(2t)}+2t\\cos{(2t)}\\end{cases}$  \n",
    "$T=100e^{-(x^2+y^2)} \\implies \\begin{cases}T_x=100e^{-(x^2+y^2)} \\cdot (-2x)\\\\T_y=100e^{-(x^2+y^2)} \\cdot (-2y)\\end{cases} \\implies \\begin{cases}T_x=-200e^{-t^2}t\\cos{(2t)}\\\\T_y=-200e^{-t^2}t\\sin{(2t)}\\end{cases}$  \n",
    "$\\frac{dT}{dt}=T_x\\frac{dx}{dt}+T_y\\frac{dy}{dt}\\\\\n",
    "=-200e^{-t^2}t\\cos{(2t)} \\cdot (\\cos{(2t)}-2t\\sin{(2t)})-200e^{-t^2}t\\sin{(2t)} \\cdot (\\sin{(2t)}+2t\\cos{(2t)})\\\\\n",
    "=-200te^{-t^2}[\\cos^2{(2t)}-2t\\cos{(2t)}\\sin{(2t)}+\\sin^2{(2t)}+2t\\sin{(2t)}\\cos{(2t)}]\\\\\n",
    "=-200te^{-t^2}$\n",
    "- b) $T=100e^{-(x^2+y^2)} \\implies x^2+y^2=2\\ln{10}-\\ln{T} \\ge 0 \\implies 0 \\lt T \\le 100$ 可知函数的等值线为一组以原点为圆心的同心圆  \n",
    "$\\vec{r}(t)=<t\\cos{(2t)}, t\\sin{(2t)}> \\implies x^2+y^2=t^2$ 对于任意 $t$ 虫子的轨迹都在一个半径为 $t$ 的圆上，而随着 $t$ 值增大，对应的圆也在放大，可知轨迹为由远点开始的向外扩散的螺旋线  \n",
    "以上两图都在草纸上绘制，这里省略"
   ]
  },
  {
   "cell_type": "markdown",
   "metadata": {},
   "source": [
    "### 问题2\n",
    "- $\\frac{dw}{dt}=\\frac{\\partial{w}}{\\partial{x}}\\frac{dx}{dt}+\\frac{\\partial{w}}{\\partial{y}}\\frac{dy}{dt}$  \n",
    "$t=1 \\implies (x, y)=(1, 1) \\implies \\frac{dw}{dt}=3\\frac{dx}{dt}+\\frac{dy}{dt}=3 \\cdot 2t+3t^2=9$"
   ]
  }
 ],
 "metadata": {
  "language_info": {
   "name": "python"
  }
 },
 "nbformat": 4,
 "nbformat_minor": 2
}
