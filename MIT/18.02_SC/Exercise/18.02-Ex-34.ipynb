{
 "cells": [
  {
   "cell_type": "markdown",
   "metadata": {},
   "source": [
    ">https://ocw.mit.edu/courses/18-02sc-multivariable-calculus-fall-2010/resources/mit18_02sc_pb_40_quest/"
   ]
  },
  {
   "cell_type": "markdown",
   "metadata": {},
   "source": [
    "### 问题1\n",
    "- $w=(x^2+y^2)xy=x^3y+xy^3$  \n",
    "$\\frac{\\partial{w}}{\\partial{r}}=\\frac{\\partial{w}}{\\partial{x}}\\frac{\\partial{x}}{\\partial{r}}+\\frac{\\partial{w}}{\\partial{y}}\\frac{\\partial{y}}{\\partial{r}}\\\\\n",
    "=(3x^2y+y^3)\\cos{\\theta}+(x^3+3xy^2)\\sin{\\theta}\\\\\n",
    "=(3(r\\cos{\\theta})^2(r\\sin{\\theta})+(r\\sin{\\theta})^3)\\cos{\\theta}+((r\\cos{\\theta})^3+3(r\\cos{\\theta})(r\\sin{\\theta})^2)\\sin{\\theta}\\\\\n",
    "=3r^3\\cos^3{\\theta}\\sin{\\theta}+r^3\\sin^3{\\theta}\\cos{\\theta}+r^3\\cos^3{\\theta}\\sin{\\theta}+3r^3\\cos{\\theta}\\sin^3{\\theta}\\\\\n",
    "=3r^3\\cos{\\theta}\\sin{\\theta}(\\cos^2{\\theta}+\\sin^2{\\theta})+r^3\\cos{\\theta}\\sin{\\theta}(\\cos^2{\\theta}+\\sin^2{\\theta})\\\\\n",
    "=3r^3\\cos{\\theta}\\sin{\\theta}+r^3\\cos{\\theta}\\sin{\\theta}\\\\\n",
    "=4r^3\\cos{\\theta}\\sin{\\theta}$"
   ]
  },
  {
   "cell_type": "markdown",
   "metadata": {},
   "source": [
    "### 问题2\n",
    "- $\\frac{\\partial{w}}{\\partial{\\theta}}=\\frac{\\partial{w}}{\\partial{x}}\\frac{\\partial{x}}{\\partial{\\theta}}+\\frac{\\partial{w}}{\\partial{y}}\\frac{\\partial{y}}{\\partial{\\theta}}\\\\\n",
    "=(3x^2y+y^3) \\cdot (-r\\sin{\\theta})+(x^3+3xy^2) \\cdot (r\\cos{\\theta})\\\\\n",
    "=(3(r\\cos{\\theta})^2(r\\sin{\\theta})+(r\\sin{\\theta})^3)(-r\\sin{\\theta})+((r\\cos{\\theta})^3+3(r\\cos{\\theta})(r\\sin{\\theta})^2)(r\\cos{\\theta})\\\\\n",
    "=-3r^4\\cos^2{\\theta}\\sin^2{\\theta}-r^4\\sin^4{\\theta}+r^4\\cos^4{\\theta}+3r^4\\cos^2{\\theta}\\sin^2{\\theta}\\\\\n",
    "=r^4(\\cos^2{\\theta}-\\sin^2{\\theta})(\\cos^2{\\theta}+\\sin^2{\\theta})\\\\\n",
    "=r^4(\\cos^2{\\theta}-\\sin^2{\\theta})$  \n",
    "结合 问题1 得 $dw=\\frac{\\partial{w}}{\\partial{r}}dr+\\frac{\\partial{w}}{\\partial{\\theta}}d{\\theta}=(4r^3\\cos{\\theta}\\sin{\\theta})dr+(r^4(\\cos^2{\\theta}-\\sin^2{\\theta}))d\\theta$"
   ]
  },
  {
   "cell_type": "markdown",
   "metadata": {},
   "source": [
    "### 问题3\n",
    "- $\\frac{\\partial{w}}{\\partial{r}}(r=2, \\theta=\\frac{\\pi}{4})=4 \\cdot 2^3 \\cdot \\cos{\\frac{\\pi}{4}}\\sin{\\frac{\\pi}{4}}=16$"
   ]
  }
 ],
 "metadata": {
  "language_info": {
   "name": "python"
  }
 },
 "nbformat": 4,
 "nbformat_minor": 2
}
