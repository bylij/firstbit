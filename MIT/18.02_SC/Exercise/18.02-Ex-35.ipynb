{
 "cells": [
  {
   "cell_type": "markdown",
   "metadata": {},
   "source": [
    ">https://ocw.mit.edu/courses/18-02sc-multivariable-calculus-fall-2010/resources/mit18_02sc_pb_41_quest/"
   ]
  },
  {
   "cell_type": "markdown",
   "metadata": {},
   "source": [
    "### 问题1\n",
    "- $\\nabla w=<2x,10y>$"
   ]
  },
  {
   "cell_type": "markdown",
   "metadata": {},
   "source": [
    "### 问题2\n",
    "- $w(x_0, 0)=x_0^2$ 可得等值线 $x^2+5y^2=x_0^2$ 通过隐式微分 $2x+10y \\cdot y^\\prime=0 \\implies y^\\prime=-\\frac{x}{5y}$  \n",
    "可知 $(x_0, 0)$ 点等值线斜率 $y^\\prime=-\\infty$ 即该点切线平行于 $y$ 轴  \n",
    "$\\nabla w(x_0, 0)=<2x_0,0> \\implies \\nabla w(x_0, 0) \\cdot \\hat{j}=<2x_0, 0> \\cdot <0, 1>=0 \\implies \\nabla w(x_0, 0) \\perp \\hat{j}$  \n",
    "即 $(x_0, 0)$ 点的梯度向量垂直于 $y$ 轴，同时垂直于函数 $w$ 等值线在该点的切线"
   ]
  }
 ],
 "metadata": {
  "language_info": {
   "name": "python"
  }
 },
 "nbformat": 4,
 "nbformat_minor": 2
}
