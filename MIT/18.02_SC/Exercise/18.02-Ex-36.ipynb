{
 "cells": [
  {
   "cell_type": "markdown",
   "metadata": {},
   "source": [
    ">https://ocw.mit.edu/courses/18-02sc-multivariable-calculus-fall-2010/resources/mit18_02sc_pb_32_quest/"
   ]
  },
  {
   "cell_type": "markdown",
   "metadata": {},
   "source": [
    "### 问题1\n",
    "- $w=f(x, y) \\implies \\nabla w=<f_x,f_y>$  \n",
    "全微分方程 $dw=f_xdx+f_ydy$ 等高线上 $dw=0 \\implies f_xdx+f_ydy=0 \\implies \\frac{f_y}{f_x} \\cdot \\frac{dy}{dx}=-1$  \n",
    "其中 $\\frac{f_y}{f_x}$ 为梯度斜率，$\\frac{dy}{dx}$ 为等值线斜率，命题成立 "
   ]
  }
 ],
 "metadata": {
  "language_info": {
   "name": "python"
  }
 },
 "nbformat": 4,
 "nbformat_minor": 2
}
