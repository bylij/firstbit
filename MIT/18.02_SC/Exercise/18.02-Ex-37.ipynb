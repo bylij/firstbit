{
 "cells": [
  {
   "cell_type": "markdown",
   "metadata": {},
   "source": [
    ">https://ocw.mit.edu/courses/18-02sc-multivariable-calculus-fall-2010/resources/mit18_02sc_pb_44_quest/"
   ]
  },
  {
   "cell_type": "markdown",
   "metadata": {},
   "source": [
    "### 问题1\n",
    "- 设 $w=x^3+y^3+z^3$ 可将曲面 $x^3+y^3+z^3=32$ 看为函数 $w=32$ 的等值面  \n",
    "$\\nabla w=<3x^2, 3y^2, 3z^2>$ 由 $\\nabla w$ 垂直等值面的关系可得曲面在 $(1, 2, 3)$ 点的法向量为 $\\nabla w(1, 2, 3)=<3, 12, 27>$  \n",
    "由法点公式得切面方程 $3(x-1)+12(y-2)+27(z-3)=0$ 化简得 $x+4y+9z=36$"
   ]
  }
 ],
 "metadata": {
  "language_info": {
   "name": "python"
  }
 },
 "nbformat": 4,
 "nbformat_minor": 2
}
