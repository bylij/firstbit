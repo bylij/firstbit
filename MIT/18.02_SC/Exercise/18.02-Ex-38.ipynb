{
 "cells": [
  {
   "cell_type": "markdown",
   "metadata": {},
   "source": [
    ">https://ocw.mit.edu/courses/18-02sc-multivariable-calculus-fall-2010/resources/mit18_02sc_pb_45_quest/"
   ]
  },
  {
   "cell_type": "markdown",
   "metadata": {},
   "source": [
    "### 问题1\n",
    "- 沿梯度向量的反方向减小最快，$\\nabla T=<2x,4y,4z> \\implies \\hat{u}=dir(-\\nabla T)=\\frac{<-2,-4,-4>}{\\sqrt{2^2+4^2+4^2}}=<-\\frac{1}{3}, -\\frac{2}{3}, -\\frac{2}{3}>$  \n",
    "沿着 $\\hat{u}=<-\\frac{1}{3}, -\\frac{2}{3}, -\\frac{2}{3}>$ 方向温度值减小的最快  \n",
    "方向导数 $\\frac{dT}{ds}|_{\\hat{u}}=\\nabla T \\cdot \\hat{u}=<2, 4, 4> \\cdot <-\\frac{1}{3}, -\\frac{2}{3}, -\\frac{2}{3}>=-\\frac{18}{3}$"
   ]
  },
  {
   "cell_type": "markdown",
   "metadata": {},
   "source": [
    "### 问题2\n",
    "- 根据 问题1 $\\frac{dT}{ds}|_{\\hat{u}}=-\\frac{18}{3} \\implies dT=-\\frac{18}{3}ds$ 带入 $dT=-0.3$ 得 $ds=0.05$  \n",
    "即沿 $\\hat{u}$ 方向前进 $0.5$"
   ]
  }
 ],
 "metadata": {
  "language_info": {
   "name": "python"
  }
 },
 "nbformat": 4,
 "nbformat_minor": 2
}
