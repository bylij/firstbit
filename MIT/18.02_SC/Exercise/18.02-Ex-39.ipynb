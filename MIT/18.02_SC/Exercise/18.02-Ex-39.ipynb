{
 "cells": [
  {
   "cell_type": "markdown",
   "metadata": {},
   "source": [
    ">https://ocw.mit.edu/courses/18-02sc-multivariable-calculus-fall-2010/resources/mit18_02sc_pb_46_quest/"
   ]
  },
  {
   "cell_type": "markdown",
   "metadata": {},
   "source": [
    "### 问题1\n",
    "- 求函数 $f(x, y)=x^2+x+2y^2$ 最值，限制条件 $g(x, y)=x^2+y^2=1$  \n",
    "根据拉格朗日乘子法得 $\\begin{cases}\\nabla f=\\lambda \\nabla g\\\\g(x, y)=1\\end{cases} \\implies \\begin{cases}2x+1=\\lambda \\cdot 2x\\\\4y=\\lambda \\cdot 2y\\\\x^2+y^2=1\\end{cases}$ 解得 $(x,y)=(1, 0), (-1, 0), (\\frac{1}{2}, \\frac{\\sqrt{3}}{2}), (\\frac{1}{2}, -\\frac{\\sqrt{3}}{2})$  \n",
    "$f(1, 0)=2, f(-1, 0)=0, f(\\frac{1}{2}, \\frac{\\sqrt{3}}{2})=\\frac{9}{4}, f(\\frac{1}{2}, -\\frac{\\sqrt{3}}{2})=\\frac{9}{4}$ 可得最大值为 $\\frac{9}{4}$ 最小值为 $0$"
   ]
  },
  {
   "cell_type": "markdown",
   "metadata": {},
   "source": [
    "### 问题2\n",
    "- 根据拉格朗日乘子法得 $\\begin{cases}\\nabla f=\\lambda \\nabla g\\\\g(x, y)=1, (x,y \\ge 0)\\end{cases} \\implies \\begin{cases}2x-y=\\lambda \\cdot 2x\\\\-x+2y=\\lambda \\cdot 2y\\\\x^2+y^2=1\\\\x,y \\ge 0\\end{cases}$ 解得 $(x, y)=(\\frac{1}{\\sqrt{2}}, \\frac{1}{\\sqrt{2}})$  \n",
    "$f(\\frac{1}{\\sqrt{2}}, \\frac{1}{\\sqrt{2}})=\\frac{1}{2}$ 而 $f(x, y)=x^2-xy+y^2=1-xy$ 由 $x,y \\ge 0 \\implies xy \\ge 0 \\implies f(x, y)=1-xy \\le 0$  \n",
    "$f(1, 0)=1$ 或 $f(0, 1)=1$ 取得最大值 $1$，而拉格朗日乘子法获得最小值 $\\frac{1}{2}$"
   ]
  }
 ],
 "metadata": {
  "language_info": {
   "name": "python"
  }
 },
 "nbformat": 4,
 "nbformat_minor": 2
}
