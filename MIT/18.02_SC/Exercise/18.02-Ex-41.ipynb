{
 "cells": [
  {
   "cell_type": "markdown",
   "metadata": {},
   "source": [
    ">https://ocw.mit.edu/courses/18-02sc-multivariable-calculus-fall-2010/resources/mit18_02sc_pb_33_quest/"
   ]
  },
  {
   "cell_type": "markdown",
   "metadata": {},
   "source": [
    "### 问题1\n",
    "- 设抽屉正面底边、侧面底边、高分别为 $x, y, z$，抽屉容积 $V=xyz$ 抽屉造价 $R=2(2yz+xz)+xy+4xz=4yz+6xz+xy$ 限制条件 $R=72$ 求 $V$ 最大值  \n",
    "根据拉格朗日乘子法得 $\\begin{cases}\\nabla V=\\lambda \\nabla R\\\\R=72\\end{cases} \\implies \\begin{cases}yz=\\lambda(6z+y)\\\\xz=\\lambda(4z+x)\\\\xy=\\lambda(4y+6x)\\\\4yz+6xz+xy=72\\\\x,y,z \\gt 0\\end{cases}$ 解得 $(x, y, z)=(4, 6, 1)$  \n",
    "$f(4, 6, 1)=24$，任选一点如 $(1, 1, 7.1)$ 可得 $f(1, 1, 7.1)=7.1 \\lt 24$ 可知拉格朗日乘子法求得最大值  \n",
    "抽屉的尺寸为 $4英尺 \\times 6英尺 \\times 1英尺$ 可得最大容积"
   ]
  }
 ],
 "metadata": {
  "language_info": {
   "name": "python"
  }
 },
 "nbformat": 4,
 "nbformat_minor": 2
}
