{
 "cells": [
  {
   "cell_type": "markdown",
   "metadata": {},
   "source": [
    ">https://ocw.mit.edu/courses/18-02sc-multivariable-calculus-fall-2010/resources/mit18_02sc_pb_42_quest/"
   ]
  },
  {
   "cell_type": "markdown",
   "metadata": {},
   "source": [
    "### 问题1\n",
    "- $dw=(ze^y+e^z)dx+(zxe^y+e^z)dy+(xe^y+xe^z+ye^z)dz$"
   ]
  },
  {
   "cell_type": "markdown",
   "metadata": {},
   "source": [
    "### 问题2\n",
    "- 将 $\\begin{cases}x=t\\\\y=t^2\\\\z=t^3\\\\dx=dt\\\\dy=2tdt\\\\dz=3t^2dt\\end{cases}$ 带入 问题1 中结果得  \n",
    "$dw=(t^3e^{t^2}+e^{t^3})dt+(t^3te^{t^2}+e^{t^3}) \\cdot 2tdt+(te^{t^2}+te^{t^3}+t^2e^{t^3}) \\cdot 3t^2dt=[(4t^3+2t^5)e^{t^2}+(1+2t+3t^2+3t^4)e^{t^3}]dt$"
   ]
  },
  {
   "cell_type": "markdown",
   "metadata": {},
   "source": [
    "### 问题3\n",
    "- $g(x, y)=x^2y+xy^2 \\implies dg=g_xdx+g_ydy=(2xy+y^2)dx+(x^2+2xy)dy$  \n",
    "由 $g(x, y)=1 \\implies dg=0 \\implies (2xy+y^2)dx+(x^2+2xy)dy=0 \\implies dy=-\\frac{y^2+2xy}{x^2+2xy}dx$  \n",
    "结合 问题1 中结果得 $dw=[ze^y+e^z+(zxe^y+e^z) \\cdot (-\\frac{y^2+2xy}{x^2+2xy})]dx+... \\implies \\frac{\\partial{w}}{\\partial{x}}=ze^y+e^z-(zxe^y+e^z) \\cdot \\frac{y^2+2xy}{x^2+2xy}$"
   ]
  }
 ],
 "metadata": {
  "language_info": {
   "name": "python"
  }
 },
 "nbformat": 4,
 "nbformat_minor": 2
}
