{
 "cells": [
  {
   "cell_type": "markdown",
   "metadata": {},
   "source": [
    ">https://ocw.mit.edu/courses/18-02sc-multivariable-calculus-fall-2010/resources/mit18_02sc_pb_43_quest/"
   ]
  },
  {
   "cell_type": "markdown",
   "metadata": {},
   "source": [
    "### 问题1\n",
    "- $(\\frac{\\partial{w}}{\\partial{u}})_x=w_u \\cdot (\\frac{\\partial{u}}{\\partial{u}})_x+w_v \\cdot (\\frac{\\partial{v}}{\\partial{u}})_x=w_u \\cdot 1+w_v \\cdot 1=3u^2-v^2-2uv$  \n",
    "$(\\frac{\\partial{w}}{\\partial{x}})_u=w_u \\cdot (\\frac{\\partial{u}}{\\partial{x}})_u+w_v \\cdot (\\frac{\\partial{v}}{\\partial{x}})_u=w_u \\cdot 0+w_v \\cdot 1=-2uv$"
   ]
  },
  {
   "cell_type": "markdown",
   "metadata": {},
   "source": [
    "### 问题2\n",
    "- $dw=(3u^2-v^2)du+(-2uv)dv$ $\\textcircled{1}$  \n",
    "当 $x$ 为常量 $v=u+x \\implies dv=du$ 带入 $\\textcircled{1}$ 得 $dw=(3u^2-v^2)du+(-2uv)du=(3u^2-v^2-2uv)du \\implies (\\frac{\\partial{w}}{\\partial{u}})_x=3u^2-v^2-2uv$  \n",
    "当 $u$ 为常量 $du=0$ 且 $v=u+x \\implies dv=dx$ 将这些带入 $\\textcircled{1}$ 得 $dw=(3u^2-v^2) \\cdot 0+(-2uv)dx \\implies dw=-2uvdx \\implies (\\frac{\\partial{w}}{\\partial{x}})_u=-2uv$"
   ]
  }
 ],
 "metadata": {
  "language_info": {
   "name": "python"
  }
 },
 "nbformat": 4,
 "nbformat_minor": 2
}
