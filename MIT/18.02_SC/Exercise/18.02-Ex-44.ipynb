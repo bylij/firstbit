{
 "cells": [
  {
   "cell_type": "markdown",
   "metadata": {},
   "source": [
    ">https://ocw.mit.edu/courses/18-02sc-multivariable-calculus-fall-2010/resources/mit18_02sc_pb_34_quest/"
   ]
  },
  {
   "cell_type": "markdown",
   "metadata": {},
   "source": [
    "### 问题1\n",
    "- $g_x=(\\frac{\\partial{f}}{\\partial{x}})_y=f_x(\\frac{\\partial{x}}{\\partial{x}})_y+f_y(\\frac{\\partial{y}}{\\partial{x}})_y+f_z(\\frac{\\partial{z}}{\\partial{x}})_y=\\nabla f \\cdot <1,0,-3x^2>$  \n",
    "$g_y=(\\frac{\\partial{f}}{\\partial{y}})_x=f_x(\\frac{\\partial{x}}{\\partial{y}})_x+f_y(\\frac{\\partial{y}}{\\partial{y}})_x+f_z(\\frac{\\partial{z}}{\\partial{y}})_x=\\nabla f \\cdot <0,1,2y>$  \n",
    "将 $\\nabla f(1, 2, 3)=<1,-2,3>$ 及 $(x, y)=(1, 2)$ 带入得 $\\begin{cases}g_x=<1,-2,3> \\cdot <1,0,-3>=-8\\\\g_y=<1,-2,3> \\cdot <0,1,4>=10\\end{cases} \\implies \\nabla g(1, 2)=<-8,10>$"
   ]
  }
 ],
 "metadata": {
  "language_info": {
   "name": "python"
  }
 },
 "nbformat": 4,
 "nbformat_minor": 2
}
