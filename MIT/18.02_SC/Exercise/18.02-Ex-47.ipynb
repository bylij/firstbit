{
 "cells": [
  {
   "cell_type": "markdown",
   "metadata": {},
   "source": [
    ">https://ocw.mit.edu/courses/18-02sc-multivariable-calculus-fall-2010/resources/mit18_02sc_pb_35_quest/"
   ]
  },
  {
   "cell_type": "markdown",
   "metadata": {},
   "source": [
    "### 问题1\n",
    "- 按 $xy$ 平面直角坐标进行水平垂直分割，将区域 $R$ 分割为很多小块  \n",
    "每一小块的质量 $\\Delta{m}=\\delta(x, y) \\cdot \\Delta{A} \\implies dm=\\delta{x, y}dA \\implies m=\\iint_R{\\delta(x, y)dA}$  \n",
    "区域分块的示意图已经在草纸上绘制，这里省略"
   ]
  }
 ],
 "metadata": {
  "language_info": {
   "name": "python"
  }
 },
 "nbformat": 4,
 "nbformat_minor": 2
}
