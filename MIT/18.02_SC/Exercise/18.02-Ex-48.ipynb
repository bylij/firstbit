{
 "cells": [
  {
   "cell_type": "markdown",
   "metadata": {},
   "source": [
    ">https://ocw.mit.edu/courses/18-02sc-multivariable-calculus-fall-2010/resources/mit18_02sc_pb_48_quest/"
   ]
  },
  {
   "cell_type": "markdown",
   "metadata": {},
   "source": [
    "### 问题1\n",
    "$Mass(R)=\\iint_R{\\delta(x, y)dA}=\\int_0^1{\\int_{x^2}^{x+1}{xydy}dx}$  \n",
    "采用迭代积分法，内部积分 $\\int_{x^2}^{x+1}xydy=\\left[\\frac{1}{2}xy^2\\right]_{x^2}^{x+1}=\\frac{1}{2}x(x+1)^2-\\frac{1}{2}x(x^2)^2=\\frac{1}{2}(x^3+2x^2+x-x^5)$  \n",
    "外部积分 $\\int_0^1{\\frac{1}{2}(x^3+2x^2+x-x^5)dx}=\\frac{1}{2}\\left[\\frac{x^4}{4}+\\frac{2}{3}x^3+\\frac{x^2}{2}-\\frac{x^6}{6}\\right]_0^1=\\frac{5}{8}$  \n",
    "即 $Mass(R)=\\frac{5}{8}$"
   ]
  },
  {
   "cell_type": "markdown",
   "metadata": {},
   "source": [
    "### 问题2\n",
    "- 根据双重积分的几何定义可得 $V=\\iint_R{f(x, y)dA}$ 其中 $R$ 为 $xy$ 平面内 $(0, 0), (1, 0), (0, 1)$ 三点构成的三角形区域  \n",
    "可得 $V=\\int_0^1{\\int_0^{x-1}{f(x, y)dy}dx}$ $\\textcircled{1}$  \n",
    "平面 $z=f(x, y)$ 过三点 $(1, 0, 0), (0, 1, 0), (0, 0, 1)$ 可得平面方程 $x+y+z=1 \\implies z=f(x, y)=1-x-y$  \n",
    "带入 $\\textcircled{1}$ 得 $V=\\int_0^1{\\int_0^{x-1}{(1-x-y)dy}dx}=\\int_0^1{\\left[y-xy-\\frac{y^2}{2}\\right]_0^{1-x}dx}=\\int_0^1{\\frac{(1-x)^2}{2}dx}=\\frac{1}{2}\\int_0^1{(x^2-2x+1)dx}=\\frac{1}{2}\\left[\\frac{x^3}{3}-x^2+x\\right]_0^1=\\frac{1}{6}$"
   ]
  }
 ],
 "metadata": {
  "language_info": {
   "name": "python"
  }
 },
 "nbformat": 4,
 "nbformat_minor": 2
}
