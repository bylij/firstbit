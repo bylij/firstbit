{
 "cells": [
  {
   "cell_type": "markdown",
   "metadata": {},
   "source": [
    ">https://ocw.mit.edu/courses/18-02sc-multivariable-calculus-fall-2010/resources/mit18_02sc_pb_36_quest/"
   ]
  },
  {
   "cell_type": "markdown",
   "metadata": {},
   "source": [
    "### 问题1\n",
    "- 采用极坐标计算，带入 $\\begin{cases}x=r\\cos{\\theta}\\\\y=r\\sin{\\theta}\\\\dxdy=rdrd\\theta\\end{cases}$  \n",
    "可得 $\\iint_R{f(x, y)dxdy}=\\int_{-\\frac{\\pi}{2}}^{\\frac{\\pi}{2}}{\\int_0^{2\\cos{\\theta}}{\\frac{1}{\\sqrt{(r\\cos{\\theta})^2+(r\\sin{\\theta})^2}}rdr}d\\theta}\\\\\n",
    "=\\int_{-\\frac{\\pi}{2}}^{\\frac{\\pi}{2}}{\\int_0^{2\\cos{\\theta}}{\\frac{1}{r}rdr}d\\theta}\\\\\n",
    "=\\int_{-\\frac{\\pi}{2}}^{\\frac{\\pi}{2}}{\\int_0^{2\\cos{\\theta}}{dr}d\\theta}\\\\\n",
    "=\\int_{-\\frac{\\pi}{2}}^{\\frac{\\pi}{2}}{2\\cos{\\theta}d\\theta}\\\\\n",
    "=2\\left[\\sin{\\theta}\\right]_{-\\frac{\\pi}{2}}^{\\frac{\\pi}{2}}\\\\\n",
    "=4$"
   ]
  },
  {
   "cell_type": "markdown",
   "metadata": {},
   "source": [
    "### 问题2\n",
    "- $A=\\iint_R{dA}=\\int_0^{2\\pi}{\\int_0^{1+\\cos{\\theta}}{rdr}d\\theta}\\\\\n",
    "=\\int_0^{2\\pi}{[\\frac{r^2}{2}]_0^{1+\\cos{\\theta}}d\\theta}\\\\\n",
    "=\\int_0^{2\\pi}{\\frac{(1+\\cos{\\theta})^2}{2}d\\theta}\\\\\n",
    "=\\frac{1}{2}\\int_0^{2\\pi}{(\\cos^2{\\theta}+2\\cos{\\theta}+1)d\\theta}\\\\\n",
    "=\\frac{1}{2}\\int_0^{2\\pi}{(\\frac{1+\\cos{2\\theta}}{2}+2\\cos{\\theta}+1)d\\theta}\\\\\n",
    "=\\frac{1}{2}\\int_0^{2\\pi}{(\\frac{\\cos{2\\theta}}{2}+2\\cos{\\theta}+\\frac{3}{2})d\\theta}\\\\\n",
    "=\\frac{1}{2}\\left[\\frac{\\sin{2\\theta}}{4}+2\\sin{\\theta}+\\frac{3}{2}\\theta\\right]_0^{2\\pi}\\\\\n",
    "=\\frac{3\\pi}{2}$"
   ]
  }
 ],
 "metadata": {
  "language_info": {
   "name": "python"
  }
 },
 "nbformat": 4,
 "nbformat_minor": 2
}
