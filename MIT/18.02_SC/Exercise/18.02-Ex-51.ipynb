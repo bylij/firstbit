{
 "cells": [
  {
   "cell_type": "markdown",
   "metadata": {},
   "source": [
    ">https://ocw.mit.edu/courses/18-02sc-multivariable-calculus-fall-2010/resources/mit18_02sc_pb_51_quest/"
   ]
  },
  {
   "cell_type": "markdown",
   "metadata": {},
   "source": [
    "### 问题1\n",
    "- $Mass(R)=\\iint_R{\\delta(x, y)dA}\\\\\n",
    "=\\int_0^{\\frac{\\pi}{2}}{\\int_0^1{y \\cdot rdr}d\\theta}\\\\\n",
    "=\\int_0^{\\frac{\\pi}{2}}{\\int_0^1{r\\sin{\\theta} \\cdot rdr}d\\theta}\\\\\n",
    "=\\int_0^{\\frac{\\pi}{2}}{\\int_0^1{r^2\\sin{\\theta}dr}d\\theta}\\\\\n",
    "=\\int_0^{\\frac{\\pi}{2}}{\\left[\\frac{r^3}{3}\\sin{\\theta}\\right]_0^1d\\theta}\\\\\n",
    "=\\int_0^{\\frac{\\pi}{2}}{\\frac{\\sin{\\theta}}{3}d\\theta}\\\\\n",
    "=\\left[-\\frac{\\cos{\\theta}}{3}\\right]_0^{\\frac{\\pi}{2}}\\\\\n",
    "=\\frac{1}{3}$"
   ]
  },
  {
   "cell_type": "markdown",
   "metadata": {},
   "source": [
    "### 问题2\n",
    "- $\\bar{x}=\\frac{1}{Mass(R)}\\iint_R{x\\delta(x, y)dA}\\\\\n",
    "=3\\int_0^{\\frac{\\pi}{2}}{\\int_0^1{xy \\cdot rdr}d\\theta}\\\\\n",
    "=3\\int_0^{\\frac{\\pi}{2}}{\\int_0^1{r\\cos{\\theta} \\cdot r\\sin{\\theta} \\cdot rdr}d\\theta}\\\\\n",
    "=3\\int_0^{\\frac{\\pi}{2}}{\\int_0^1{r^3\\cos{\\theta}\\sin{\\theta}dr}d\\theta}\\\\\n",
    "=3\\int_0^{\\frac{\\pi}{2}}{\\left[\\frac{r^4}{4}\\cos{\\theta}\\sin{\\theta}\\right]_0^1d\\theta}\\\\\n",
    "=3\\int_0^{\\frac{\\pi}{2}}{\\frac{\\cos{\\theta}\\sin{\\theta}}{4}d\\theta}\\\\\n",
    "=3\\int_0^{\\frac{\\pi}{2}}{\\frac{\\sin{2\\theta}}{8}d\\theta}\\\\\n",
    "=3\\left[-\\frac{\\cos{2\\theta}}{16}\\right]_0^{\\frac{\\pi}{2}}\\\\\n",
    "=\\frac{3}{8}$  \n",
    "$\\bar{y}=\\frac{1}{Mass(R)}\\iint_R{y\\delta(x, y)dA}\\\\\n",
    "=3\\int_0^{\\frac{\\pi}{2}}{\\int_0^1{y^2 \\cdot rdr}d\\theta}\\\\\n",
    "=3\\int_0^{\\frac{\\pi}{2}}{\\int_0^1{(r\\sin{\\theta})^2 \\cdot rdr}d\\theta}\\\\\n",
    "=3\\int_0^{\\frac{\\pi}{2}}{\\int_0^1{r^3\\sin^2{\\theta}dr}d\\theta}\\\\\n",
    "=3\\int_0^{\\frac{\\pi}{2}}{\\left[\\frac{r^4}{4}\\sin^2{\\theta}\\right]_0^1d\\theta}\\\\\n",
    "=3\\int_0^{\\frac{\\pi}{2}}{\\frac{\\sin^2{\\theta}}{4}d\\theta}\\\\\n",
    "=3\\int_0^{\\frac{\\pi}{2}}{\\frac{1-\\cos{2\\theta}}{8}d\\theta}\\\\\n",
    "=3\\left[\\frac{\\theta}{8}-\\frac{\\sin{2\\theta}}{16}\\right]_0^{\\frac{\\pi}{2}}\\\\\n",
    "=\\frac{3\\pi}{16}$  \n",
    "因此质心坐标为 $(\\bar{x}, \\bar{y})=(\\frac{3}{8}, \\frac{3\\pi}{16})$"
   ]
  },
  {
   "cell_type": "markdown",
   "metadata": {},
   "source": [
    "### 问题3\n",
    "- $\\bar{D}=\\frac{1}{Area(R)}\\iint_R{ydA}$  \n",
    "其中 $Area(A)=\\iint_R{dA}=\\int_0^{\\frac{\\pi}{2}}{\\int_0^1{rdr}d\\theta}=\\int_0^{\\frac{\\pi}{2}}{\\left[\\frac{r^2}{2}\\right]_0^1d\\theta}=\\int_0^{\\frac{\\pi}{2}}{\\frac{1}{2}d\\theta}=\\left[\\frac{\\theta}{2}\\right]_0^{\\frac{\\pi}{2}}=\\frac{\\pi}{4}$ (这里也可以直接利用圆面积公式计算)  \n",
    "带入得 $\\bar{D}=\\frac{4}{\\pi}\\int_0^{\\frac{\\pi}{2}}{\\int_0^1{y \\cdot rdr}d\\theta}\\\\\n",
    "=\\frac{4}{\\pi}\\int_0^{\\frac{\\pi}{2}}{\\int_0^1{r\\sin{\\theta} \\cdot rdr}d\\theta}\\\\\n",
    "=\\frac{4}{\\pi}\\int_0^{\\frac{\\pi}{2}}{\\int_0^1{r^2\\sin{\\theta}dr}d\\theta}\\\\\n",
    "=\\frac{4}{\\pi}\\int_0^{\\frac{\\pi}{2}}{\\left[\\frac{r^3}{3}\\sin{\\theta}\\right]_0^1d\\theta}\\\\\n",
    "=\\frac{4}{\\pi}\\int_0^{\\frac{\\pi}{2}}{\\frac{\\sin{\\theta}}{3}d\\theta}\\\\\n",
    "=\\frac{4}{\\pi}\\left[-\\frac{\\cos{\\theta}}{3}\\right]_0^{\\frac{\\pi}{2}}\\\\\n",
    "=\\frac{4}{3\\pi}$"
   ]
  }
 ],
 "metadata": {
  "language_info": {
   "name": "python"
  }
 },
 "nbformat": 4,
 "nbformat_minor": 2
}
