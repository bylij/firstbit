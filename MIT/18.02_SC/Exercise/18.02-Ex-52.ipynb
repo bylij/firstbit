{
 "cells": [
  {
   "cell_type": "markdown",
   "metadata": {},
   "source": [
    ">https://ocw.mit.edu/courses/18-02sc-multivariable-calculus-fall-2010/resources/mit18_02sc_pb_37_quest/"
   ]
  },
  {
   "cell_type": "markdown",
   "metadata": {},
   "source": [
    "### 问题1\n",
    "- $\\Delta{I}=\\Delta{m}r^2=\\delta \\cdot \\Delta{A} \\cdot r^2 \\implies dI=r^2dA\\\\\n",
    "\\implies I=\\iint_R{r^2dA}\\\\\n",
    "=\\int_0^1{\\int_0^{\\sqrt{3}x}{(x^2+y^2)dy}dx}\\\\\n",
    "=\\int_0^1{\\left[x^2y+\\frac{y^3}{3}\\right]_0^{\\sqrt{3}x}dx}\\\\\n",
    "=\\int_0^1{2\\sqrt{3}x^3dx}\\\\\n",
    "=2\\sqrt{3}\\left[\\frac{x^4}{4}\\right]_0^1\\\\\n",
    "=\\frac{\\sqrt{3}}{2}$"
   ]
  }
 ],
 "metadata": {
  "language_info": {
   "name": "python"
  }
 },
 "nbformat": 4,
 "nbformat_minor": 2
}
