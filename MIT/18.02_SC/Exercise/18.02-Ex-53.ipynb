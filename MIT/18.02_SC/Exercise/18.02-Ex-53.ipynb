{
 "cells": [
  {
   "cell_type": "markdown",
   "metadata": {},
   "source": [
    ">https://ocw.mit.edu/courses/18-02sc-multivariable-calculus-fall-2010/resources/mit18_02sc_pb_53_quest/"
   ]
  },
  {
   "cell_type": "markdown",
   "metadata": {},
   "source": [
    "### 问题\n",
    "- 设 $u=x+y, v=2-x+y \\implies J=\\frac{\\partial(u, v)}{\\partial(x, y)}=\\begin{vmatrix}u_x&&u_y\\\\v_x&&v_y\\end{vmatrix}=\\begin{vmatrix}1&&1\\\\-1&&1\\end{vmatrix}=2 \\implies dudv=|J|dxdv=2dxdv \\implies dxdy=\\frac{1}{2}dudv$  \n",
    "由 $xy$ 坐标系转化为 $uv$ 坐标系之后  \n",
    "点 $(1, 0) \\rightarrow (1, 1)$  \n",
    "点 $(0, 1) \\rightarrow (1, 3)$  \n",
    "点 $(-1, 0) \\rightarrow (-1, 3)$  \n",
    "点 $(0, -1) \\rightarrow (-1, 1)$  \n",
    "可得 $\\iint_R{(\\frac{x+y}{2-x+y})^4dxdy}=\\int_1^3{\\int_{-1}^1{\\frac{u^4}{v^4} \\cdot \\frac{1}{2}du}dv}=\\int_1^3{\\int_{-1}^1{\\frac{u^4}{v^4} \\cdot \\frac{1}{2}du}dv}=\\int_1^3{\\left[\\frac{u^5}{10v^4}\\right]_{-1}^1dv}=\\int_1^3{\\frac{v^{-4}}{5}dv}=\\left[-\\frac{v^{-3}}{15}\\right]_1^3=\\frac{1}{15}(1-\\frac{1}{3^3})=\\frac{26}{405}$"
   ]
  }
 ],
 "metadata": {
  "language_info": {
   "name": "python"
  }
 },
 "nbformat": 4,
 "nbformat_minor": 2
}
