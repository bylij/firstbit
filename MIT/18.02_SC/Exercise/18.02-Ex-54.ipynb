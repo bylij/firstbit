{
 "cells": [
  {
   "cell_type": "markdown",
   "metadata": {},
   "source": [
    ">https://ocw.mit.edu/courses/18-02sc-multivariable-calculus-fall-2010/resources/mit18_02sc_pb_54_quest/"
   ]
  },
  {
   "cell_type": "markdown",
   "metadata": {},
   "source": [
    "### 问题1\n",
    "- $\\frac{\\partial(r, \\theta)}{\\partial(x, y)}=\\begin{vmatrix}r_x&&r_y\\\\\\theta_x&&\\theta_y\\end{vmatrix}$ $\\textcircled{1}$  \n",
    "$r_x=\\frac{1}{2}(x^2+y^2)^{-\\frac{1}{2}} \\cdot 2x=\\frac{x}{\\sqrt{x^2+y^2}}$  \n",
    "$r_y=\\frac{1}{2}(x^2+y^2)^{-\\frac{1}{2}} \\cdot 2y=\\frac{y}{\\sqrt{x^2+y^2}}$  \n",
    "$\\theta_x=\\frac{1}{(\\frac{y}{x})^2+1} \\cdot (-\\frac{y}{x^2})=\\frac{-y}{x^2+y^2}$  \n",
    "$\\theta_y=\\frac{1}{(\\frac{y}{x})^2+1} \\cdot \\frac{1}{x}=\\frac{x}{x^2+y^2}$  \n",
    "将上面带入 $\\textcircled{1}$ 得 $\\frac{\\partial(r, \\theta)}{\\partial(x, y)}=r_x\\theta_y-r_y\\theta_x=\\frac{x}{\\sqrt{x^2+y^2}} \\cdot \\frac{x}{x^2+y^2}-\\frac{y}{\\sqrt{x^2+y^2}} \\cdot \\frac{-y}{x^2+y^2}=\\frac{x^2+y^2}{(x^2+y^2)\\sqrt{x^2+y^2}}=\\frac{1}{\\sqrt{x^2+y^2}}=\\frac{1}{r}$"
   ]
  },
  {
   "cell_type": "markdown",
   "metadata": {},
   "source": [
    "### 问题2\n",
    "- $J=\\frac{\\partial(x, y)}{\\partial(u, r)}=\\begin{vmatrix}x_u&&x_r\\\\y_u&&y_r\\end{vmatrix}=\\begin{vmatrix}1&&0\\\\\\frac{-u}{\\sqrt{r^2-u^2}}&&\\frac{r}{\\sqrt{r^2-u^2}}\\end{vmatrix}=\\frac{r}{\\sqrt{r^2-u^2}} \\implies dxdy=|J|dudr=\\frac{|r|}{\\sqrt{r^2-u^2}}dudr$"
   ]
  }
 ],
 "metadata": {
  "language_info": {
   "name": "python"
  }
 },
 "nbformat": 4,
 "nbformat_minor": 2
}
