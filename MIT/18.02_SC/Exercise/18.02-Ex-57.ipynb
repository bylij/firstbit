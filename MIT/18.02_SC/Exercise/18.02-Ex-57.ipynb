{
 "cells": [
  {
   "cell_type": "markdown",
   "metadata": {},
   "source": [
    ">https://ocw.mit.edu/courses/18-02sc-multivariable-calculus-fall-2010/resources/mit18_02sc_pb_57_quest/"
   ]
  },
  {
   "cell_type": "markdown",
   "metadata": {},
   "source": [
    "### 问题1\n",
    "- 对于曲线 $C_1$ 可得 $\\begin{cases}x=t\\\\y=1\\end{cases} 0 \\le t \\le 1 \\implies \\begin{cases}dx=dt\\\\dy=0\\end{cases} \\implies \\int_{C_1}{ydx+(x+2y)dy}=\\int_0^1{dt}=1$ $\\textcircled{1}$  \n",
    "- 对于曲线 $-C_2$ 可得 $\\begin{cases}x=1\\\\y=t\\end{cases} 0 \\le t \\le 1 \\implies \\begin{cases}dx=0\\\\dy=1\\end{cases} \\implies \\int_{-C_2}{ydx+(x+2y)dy}=\\int_0^1{(1+2t)dt}=\\left[t+t^2\\right]_0^1=2\\\\\n",
    "\\implies \\int_{C_2}{ydx+(x+2y)dy}=-\\int_{-C_2}{ydx+(x+2y)dy}=-2$ $\\textcircled{2}$  \n",
    "综合 $\\textcircled{1}$ 和 $\\textcircled{2}$ 可得 $I=\\int_{C_1}{ydx+(x+2y)dy}+\\int_{C_2}{ydx+(x+2y)dy}=1+(-2)=-1$"
   ]
  },
  {
   "cell_type": "markdown",
   "metadata": {},
   "source": [
    "### 问题2\n",
    "- 已在草纸上绘制，这里省略  \n",
    "向量场中任一点处的向量都收束于原点，是一个向原点汇聚的向量场"
   ]
  }
 ],
 "metadata": {
  "language_info": {
   "name": "python"
  }
 },
 "nbformat": 4,
 "nbformat_minor": 2
}
