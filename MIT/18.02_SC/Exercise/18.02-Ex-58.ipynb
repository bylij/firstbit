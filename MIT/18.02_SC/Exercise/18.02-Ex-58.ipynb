{
 "cells": [
  {
   "cell_type": "markdown",
   "metadata": {},
   "source": [
    ">https://ocw.mit.edu/courses/18-02sc-multivariable-calculus-fall-2010/resources/mit18_02sc_pb_58_quest/"
   ]
  },
  {
   "cell_type": "markdown",
   "metadata": {},
   "source": [
    "### 问题1\n",
    "- $W=\\int_C{\\vec{F} \\cdot d\\vec{r}}$  \n",
    "其中 $\\vec{F}=<e^xy,0>$ 而 $x=2 \\implies dx=0 \\implies d\\vec{r}=<dx,dy>=<0,dy>$  \n",
    "可得 $\\vec{F} \\cdot d\\vec{r}=<e^xy,0> \\cdot <0, dy>=e^xy \\cdot 0+0 \\cdot dy=0 \\implies W=\\int_C{0}=0$"
   ]
  },
  {
   "cell_type": "markdown",
   "metadata": {},
   "source": [
    "### 问题2\n",
    "- $g(x, y)=5$ 为曲面 $g(x, y)$ 的等值线，梯度量具有与等值线垂直的几何属性，即 $\\nabla g \\perp C$，而 $d\\vec{r}=\\hat{T} \\cdot ds$ 其中 $\\hat{T}$ 为曲线 $C$ 任一点的切线方向，因此 $\\nabla g \\perp \\hat{T} \\implies \\nabla g \\cdot \\hat{T}=0$  \n",
    "可知 $\\int_C{\\vec{F} \\cdot d\\vec{r}}=\\int_C{\\vec{F} \\cdot \\hat{T} \\cdot ds}=\\int_C{0ds}=0$  \n",
    "或简单来说，由 $\\nabla g \\perp C$ 可知向量场 $\\nabla g$ 在曲线 $C$ 任一点上都不存在沿曲线方向的分量，即沿着曲线 $C$ 不会产生任何积累（如：不做功），因此可得积分为 $0$"
   ]
  }
 ],
 "metadata": {
  "language_info": {
   "name": "python"
  }
 },
 "nbformat": 4,
 "nbformat_minor": 2
}
