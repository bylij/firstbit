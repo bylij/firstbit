{
 "cells": [
  {
   "cell_type": "markdown",
   "metadata": {},
   "source": [
    ">https://ocw.mit.edu/courses/18-02sc-multivariable-calculus-fall-2010/resources/mit18_02sc_pb_38_quest/"
   ]
  },
  {
   "cell_type": "markdown",
   "metadata": {},
   "source": [
    "### 问题1\n",
    "- a) $\\vec{F}=<x,y>$ 向量场在弧线上任一点与弧线方向垂直，可知弧线上的积分为 $0$，仅需要计算直线上的积分  \n",
    "可得 $\\int_C{\\vec{F} \\cdot d\\vec{r}}=\\int_{C_1}{<x,y> \\cdot <dx,0>}=\\int_0^{5\\sqrt{2}}{xdx}=\\left[\\frac{x^2}{2}\\right]_0^{5\\sqrt{2}}=25$\n",
    "- b) 设直线为 $C_1$ 弧线为 $C_2$  \n",
    "$\\vec{F}=<0,x>$ 向量场与直线垂直，可知直线上的积分为 $0$，只需要计算弧线上的积分  \n",
    "得 $\\int_C{\\vec{F} \\cdot d\\vec{r}}=\\int_{C_2}{<0,x> \\cdot <dx,dy>}=\\int_{C_2}{xdy}$  \n",
    "设 $x=5\\sqrt{2}\\cos{\\theta}, y=5\\sqrt{2}\\sin{\\theta} \\implies dy=5\\sqrt{2}\\cos{\\theta}d\\theta$ 其中 $0 \\le \\theta \\le \\frac{\\pi}{4}$  \n",
    "因此 $\\int_C{\\vec{F} \\cdot d\\vec{r}}=\\int_0^{\\frac{\\pi}{4}}{5\\sqrt{2}\\cos{\\theta} \\cdot 5\\sqrt{2}\\cos{\\theta}d\\theta}=\\int_0^{\\frac{\\pi}{4}}{50\\cos^2{\\theta}d\\theta}=\\int_0^{\\frac{\\pi}{4}}{25(1+\\cos{2\\theta})d\\theta}=\\left[25\\theta+\\frac{25}{2}\\sin{2\\theta}\\right]_0^{\\frac{\\pi}{4}}=\\frac{25\\pi}{4}+\\frac{25}{2}$"
   ]
  }
 ],
 "metadata": {
  "language_info": {
   "name": "python"
  }
 },
 "nbformat": 4,
 "nbformat_minor": 2
}
