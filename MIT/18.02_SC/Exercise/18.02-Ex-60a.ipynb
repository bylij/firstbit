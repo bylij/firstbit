{
 "cells": [
  {
   "cell_type": "markdown",
   "metadata": {},
   "source": [
    ">https://ocw.mit.edu/courses/18-02sc-multivariable-calculus-fall-2010/resources/mit18_02sc_pb_39_quest/"
   ]
  },
  {
   "cell_type": "markdown",
   "metadata": {},
   "source": [
    "### 问题1\n",
    "- a) $\\vec{F}=\\nabla f=<f_x,f_y>=<y+e^x,x>$\n",
    "- b) i) 对于水平线 $C_1$ 设 $\\begin{cases}x(t)=t\\\\y(t)=0\\end{cases} 0 \\le t \\le 2 \\implies \\begin{cases}dx=dt\\\\dy=0\\end{cases} \\implies \\int_{C_1}{\\vec{F} \\cdot d\\vec{r}}=\\int_0^2{(0+e^t)dt+t \\cdot 0}=\\int_0^2e^tdt=e^2-1$  \n",
    "对于竖线 $C_2$ 设 $\\begin{cases}x(t)=2\\\\y(t)=t\\end{cases} 0 \\le t \\le 1 \\implies \\begin{cases}dx=0\\\\dy=dt\\end{cases} \\implies \\int_{C_2}{\\vec{F} \\cdot d\\vec{r}}=\\int_0^1{0+2dt}=\\int_0^1{2dt}=2$  \n",
    "可得 $\\int_C{\\vec{F} \\cdot d\\vec{r}}=\\int_{C_1}{\\vec{F} \\cdot d\\vec{r}}+\\int_{C_2}{\\vec{F} \\cdot d\\vec{r}}=e^2-1+2=e^2+1$  \n",
    "ii) 对于竖线 $C_1^\\prime$ 设 $\\begin{cases}x(t)=0\\\\y(t)=t\\end{cases} 0 \\le t \\le 1 \\implies \\begin{cases}dx=0\\\\dy=dt\\end{cases} \\implies \\int_{C_1^\\prime}{\\vec{F} \\cdot d\\vec{r}}=\\int_0^1{0+0 \\cdot dt}=0$  \n",
    "对于水平线 $C_2^\\prime$ 设 $\\begin{cases}x(t)=t\\\\y(t)=1\\end{cases} 0 \\le t \\le 2 \\implies \\begin{cases}dx=dt\\\\dy=0\\end{cases} \\implies \\int_{C_2^\\prime}{\\vec{F} \\cdot d\\vec{r}}=\\int_0^2{(1+e^t)dt+0}=\\int_0^2{(1+e^t)dt}=\\left[t+e^t\\right]_0^2=1+e^2$  \n",
    "iii) 对于直线 $C$ 设 $\\begin{cases}x(t)=2t\\\\y(t)=t\\end{cases} 0 \\le t \\le 1 \\implies \\begin{cases}dx=2dt\\\\dy=dt\\end{cases} \\implies \\int_C{\\vec{F} \\cdot d\\vec{r}}=\\int_0^1{(t+e^{2t}) \\cdot 2dt+(2t)dt}=\\int_0^1{(4t+2e^{2t})dt}=\\left[2t^2+e^{2t}\\right]_0^1=1+e^2$  \n",
    "- c) 由曲线积分的 FTC 可得 $\\int_C{\\vec{F} \\cdot d\\vec{r}}=\\int_C{\\nabla f \\cdot d\\vec{r}}=f(P_1)-f(P_0)=f(2, 1)-f(0, 0)=(2 \\cdot 1+e^2)-(0+e^0)=1+e^2$  \n",
    "可知 b) 中的结果符合曲线积分 FTC 的结论"
   ]
  }
 ],
 "metadata": {
  "language_info": {
   "name": "python"
  }
 },
 "nbformat": 4,
 "nbformat_minor": 2
}
