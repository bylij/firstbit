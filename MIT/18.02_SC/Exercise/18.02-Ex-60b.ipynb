{
 "cells": [
  {
   "cell_type": "markdown",
   "metadata": {},
   "source": [
    ">https://ocw.mit.edu/courses/18-02sc-multivariable-calculus-fall-2010/resources/mit18_02sc_pb_60_quest/"
   ]
  },
  {
   "cell_type": "markdown",
   "metadata": {},
   "source": [
    "### 问题1\n",
    "- 对于水平线 $C_1$，设 $\\begin{cases}x(t)=t\\\\y(t)=0\\end{cases} 0 \\le t \\le 1 \\implies \\begin{cases}dx=dt\\\\dy=0\\end{cases} \\implies \\int_{C_1}{-ydx+xdy}=\\int_0^1{0+0}=0$  \n",
    "对于竖直线 $C_2$，设 $\\begin{cases}x(t)=1\\\\y(t)=t\\end{cases} 0 \\le t \\le 1 \\implies \\begin{cases}dx=0\\\\dy=dt\\end{cases} \\implies \\int_{C_2}{-ydx+xdy}=\\int_0^1{0+dt}=\\int_0^1{dt}=1$  \n",
    "因此 $\\int_C{-ydx+xdy}=\\int_{C_1}{-ydx+xdy}+\\int_{C_2}{-ydx+xdy}=0+1=1$"
   ]
  },
  {
   "cell_type": "markdown",
   "metadata": {},
   "source": [
    "### 问题2\n",
    "- 对于水平线 $C_1^\\prime$，设 $\\begin{cases}x(t)=0\\\\y(t)=t\\end{cases} 0 \\le t \\le 1 \\implies \\begin{cases}dx=0\\\\dy=dt\\end{cases} \\implies \\int_{C_1}{-ydx+xdy}=\\int_0^1{0+0}=0$  \n",
    "对于竖直线 $C_2^\\prime$，设 $\\begin{cases}x(t)=t\\\\y(t)=1\\end{cases} 0 \\le t \\le 1 \\implies \\begin{cases}dx=dt\\\\dy=0\\end{cases} \\implies \\int_{C_2}{-ydx+xdy}=\\int_0^1{-dt+0}=\\int_0^1{-dt}=-1$  \n",
    "因此 $\\int_C{-ydx+xdy}=\\int_{C_1}{-ydx+xdy}+\\int_{C_2}{-ydx+xdy}=0+(-1)=-1$"
   ]
  },
  {
   "cell_type": "markdown",
   "metadata": {},
   "source": [
    "### 问题3\n",
    "- 预期中两个积分的结果不等，因为向量场 $\\vec{F}=<-y,x>$ 不是任何潜在函数 $f$ 的梯度向量（$\\frac{d}{dy}(-y)=-1 \\ne 1=\\frac{d}{dx}x$），积分依赖于具体路径，路径不同积分不等"
   ]
  },
  {
   "cell_type": "markdown",
   "metadata": {},
   "source": [
    "### 问题4\n",
    "- 设 $\\begin{cases}x(\\theta)=\\cos{\\theta}\\\\y(\\theta)=\\sin{\\theta}\\end{cases} 0 \\le \\theta \\le 2\\pi \\implies \\begin{cases}dx=-\\sin{\\theta}d\\theta\\\\dy=\\cos{\\theta}d\\theta\\end{cases} \\implies \\int_C{-ydx+xdy}=\\int_0^{2\\pi}{-sin{\\theta} \\cdot (-\\sin{\\theta}d\\theta)+\\cos{\\theta} \\cdot \\cos{\\theta}d\\theta}=\\int_0^{2\\pi}{(\\sin^2{\\theta}+\\cos^2{\\theta})d\\theta}=\\int_0^{2\\pi}{d\\theta}=2\\pi$"
   ]
  },
  {
   "cell_type": "markdown",
   "metadata": {},
   "source": [
    "### 问题5\n",
    "- 预期中积分结果不等于 $0$，因为向量场 $\\vec{F}=<-y,x>$ 不是保守场，因此在闭合曲线上的积分不为 $0$"
   ]
  },
  {
   "cell_type": "markdown",
   "metadata": {},
   "source": [
    "### 问题6\n",
    "- 对于水平线 $C_1$，设 $\\begin{cases}x(t)=t\\\\y(t)=0\\end{cases} 0 \\le t \\le 1 \\implies \\begin{cases}dx=dt\\\\dy=0\\end{cases} \\implies \\int_{C_1}{xdy}=\\int_0^1{0}=0$  \n",
    "对于竖直线 $C_2$，设 $\\begin{cases}x(t)=1\\\\y(t)=t\\end{cases} 0 \\le t \\le 1 \\implies \\begin{cases}dx=0\\\\dy=dt\\end{cases} \\implies \\int_{C_2}{xdy}=\\int_0^1{dt}=\\int_0^1{dt}=1$  \n",
    "因此 $\\int_C{-ydx+xdy}=\\int_{C_1}{xdy}+\\int_{C_2}{xdy}=0+1=1$"
   ]
  },
  {
   "cell_type": "markdown",
   "metadata": {},
   "source": [
    "### 问题7\n",
    "- 对于水平线 $C_1^\\prime$，设 $\\begin{cases}x(t)=0\\\\y(t)=t\\end{cases} 0 \\le t \\le 1 \\implies \\begin{cases}dx=0\\\\dy=dt\\end{cases} \\implies \\int_{C_1}{xdy}=\\int_0^1{0}=0$  \n",
    "对于竖直线 $C_2^\\prime$，设 $\\begin{cases}x(t)=t\\\\y(t)=1\\end{cases} 0 \\le t \\le 1 \\implies \\begin{cases}dx=dt\\\\dy=0\\end{cases} \\implies \\int_{C_2}{xdy}=\\int_0^1{0}=0$  \n",
    "因此 $\\int_C{-ydx+xdy}=\\int_{C_1}{-ydx+xdy}+\\int_{C_2}{-ydx+xdy}=0+0=0$"
   ]
  },
  {
   "cell_type": "markdown",
   "metadata": {},
   "source": [
    "### 问题8\n",
    "- 对于直线 $C$，设 $\\begin{cases}x(t)=t\\\\y(t)=t\\end{cases} 0 \\le t \\le 1 \\implies \\begin{cases}dx=dt\\\\dy=dt\\end{cases} \\implies \\int_C{xdy}=\\int_0^1{tdt}=\\frac{1}{2}$"
   ]
  },
  {
   "cell_type": "markdown",
   "metadata": {},
   "source": [
    "### 问题9\n",
    "- 向量场 $\\vec{F}=<0,x>$ 不是保守场，有问题7，8，9的结果可知向量场的积分依赖于具体路径，因此向量场不是任何潜在函数的梯度向量，也不是一个保守场  \n",
    "或者结合 问题6、7，向量场沿 $C_1$，$C_2$ 和 $-C$ 可以形成一个闭合区域，而向量场在这个闭合区域上的积分 $\\oint_{C^\\prime}=1-\\frac{1}{2}=\\frac{1}{2} \\ne 0$ 因此向量场不是保守场"
   ]
  }
 ],
 "metadata": {
  "language_info": {
   "name": "python"
  }
 },
 "nbformat": 4,
 "nbformat_minor": 2
}
