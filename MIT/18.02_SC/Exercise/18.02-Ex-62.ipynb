{
 "cells": [
  {
   "cell_type": "markdown",
   "metadata": {},
   "source": [
    ">https://ocw.mit.edu/courses/18-02sc-multivariable-calculus-fall-2010/resources/mit18_02sc_pb_62_quest/"
   ]
  },
  {
   "cell_type": "markdown",
   "metadata": {},
   "source": [
    "### 问题1\n",
    "基于 $\\vec{F}=<M,N>, M_y=N_x$ 来判断\n",
    "- a) 是\n",
    "- b) 是\n",
    "- c) 是"
   ]
  },
  {
   "cell_type": "markdown",
   "metadata": {},
   "source": [
    "### 问题2\n",
    "- $\\vec{F}=<M,N>=<xe^x+y,x> \\implies \\begin{cases}M_y=1\\\\N_x=1\\end{cases} \\implies M_y=N_x$ 且 $\\vec{F}$ 在全定域内内可导，因此 $\\vec{F}$ 是一个潜在函数 $f(x, y)$ 的梯度向量，因此命题成立  \n",
    "验证：假设 $\\begin{cases}f_x=xe^x+y\\\\f_y=x\\end{cases}$ 成立，由 $f_y=x \\implies f=xy+g(x) \\implies f_x=y+g^\\prime(x)$  \n",
    "匹配 $f_x=xe^x+y \\implies g^\\prime(x)=xe^x \\implies g(x)=\\int{xe^xdx}=xe^x-e^x+C$  \n",
    "可得 $f=xy+g(x)=xy+xe^x-e^x+C \\implies (xe^x+y)dx+xdy=df$ 是一个全微分"
   ]
  },
  {
   "cell_type": "markdown",
   "metadata": {},
   "source": [
    "### 问题3\n",
    "- a) $curl \\vec{F}=N_x-M_y=xe^x+e^x-0=xe^x+e^x$\n",
    "- b) $curl \\vec{F}=N_x-M_y=0-0=0$\n",
    "- c) $curl \\vec{F}=N_x-M_y=2xy-2xy=0$"
   ]
  }
 ],
 "metadata": {
  "language_info": {
   "name": "python"
  }
 },
 "nbformat": 4,
 "nbformat_minor": 2
}
