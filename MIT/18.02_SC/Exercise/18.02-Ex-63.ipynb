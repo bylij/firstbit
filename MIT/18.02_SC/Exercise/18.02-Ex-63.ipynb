{
 "cells": [
  {
   "cell_type": "markdown",
   "metadata": {},
   "source": [
    ">https://ocw.mit.edu/courses/18-02sc-multivariable-calculus-fall-2010/resources/mit18_02sc_pb_63_quest/"
   ]
  },
  {
   "cell_type": "markdown",
   "metadata": {},
   "source": [
    "### 问题1\n",
    "- 已知 $\\begin{cases}f_x=3x^2+6xy\\\\f_y=3x^2+6y\\end{cases}$，由 $f_x=3x^2+6xy \\implies f=x^3+3x^2y+g(y) \\implies f_y=3x^2+g^\\prime(y)$  \n",
    "匹配 $f_y=3x^2+6y \\implies g^\\prime(y)=6y \\implies g(y)=3y^2+C \\implies f=x^3+3x^2y+3y^2+C$"
   ]
  },
  {
   "cell_type": "markdown",
   "metadata": {},
   "source": [
    "### 问题2\n",
    "- $\\vec{F}=<M,N>=<x+xy^2,x^2y+3y^2> \\implies \\begin{cases}M_y=2xy\\\\N_x=2xy\\end{cases} \\implies M_y=N_x$ 且 $\\vec{F}$ 存在明确定义且可导，因此 $\\vec{F}$ 是一个潜在函数 $f(x, y)$ 的梯度向量  \n",
    "$\\begin{cases}f_x=x+xy^2\\\\f_y=x^2y+3y^2\\end{cases}$，由 $f_x=x+xy^2 \\implies f=\\frac{x^2}{2}+\\frac{x^2}{2}y^2+g(y) \\implies f_y=x^2y+g^\\prime(y)$ 匹配 $f_y=x^2y+3y^2 \\implies g^\\prime(y)=3y^2 \\implies g(y)=y^3+C$  \n",
    "可得 $f(x, y)=\\frac{x^2}{2}+\\frac{x^2}{2}y^2+y^3+C$"
   ]
  }
 ],
 "metadata": {
  "language_info": {
   "name": "python"
  }
 },
 "nbformat": 4,
 "nbformat_minor": 2
}
