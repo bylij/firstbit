{
 "cells": [
  {
   "cell_type": "markdown",
   "metadata": {},
   "source": [
    ">https://ocw.mit.edu/courses/18-02sc-multivariable-calculus-fall-2010/resources/mit18_02sc_pb_64_quest/"
   ]
  },
  {
   "cell_type": "markdown",
   "metadata": {},
   "source": [
    "### 问题\n",
    "- 任一点 $(x, y)$ 的位置向量 $\\vec{r}=<x, y>$ 对应于该点的速度方向向量 $\\hat{T}=\\frac{<-y,x>}{|\\vec{r}|}$  \n",
    "由线速度和角速度的关系得该点速度 $|\\vec{v}|=w \\cdot |\\vec{r}|$  \n",
    "可得任一点 $(x, y)$ 处的速度向量 $\\vec{F}=|\\vec{v}| \\cdot \\hat{T}=w \\cdot |\\vec{r}| \\cdot \\frac{<-y,x>}{|\\vec{r}|}=w \\cdot <-y,x>=<-wy,wx>$  \n",
    "可得 $curl(\\vec{F})=N_x-M_y=w-(-w)=2w$"
   ]
  }
 ],
 "metadata": {
  "language_info": {
   "name": "python"
  }
 },
 "nbformat": 4,
 "nbformat_minor": 2
}
