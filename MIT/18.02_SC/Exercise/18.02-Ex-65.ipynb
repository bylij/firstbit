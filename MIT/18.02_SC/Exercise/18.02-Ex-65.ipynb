{
 "cells": [
  {
   "cell_type": "markdown",
   "metadata": {},
   "source": [
    ">https://ocw.mit.edu/courses/18-02sc-multivariable-calculus-fall-2010/resources/mit18_02sc_pb_65_quest/"
   ]
  },
  {
   "cell_type": "markdown",
   "metadata": {},
   "source": [
    "### 问题1\n",
    "- 已知 $\\vec{F}=<M,N>=<-x^2y,xy^2> \\implies curl(\\vec{F})=N_x-My=y^2-(-x^2)=x^2+y^2$  \n",
    "根据格林定理 $\\oint_C{-x^2ydx+xy^2dy}=\\iint_R{curl(\\vec{F})dA}=\\iint_R{(x^2+y^2)dA}$  \n",
    "由于 $x^2+y^2 \\gt 0 \\implies \\iint_R{(x^2+y^2)dA} \\gt 0 \\implies \\oint_C{-x^2ydx+xy^2dy} \\gt 0$"
   ]
  },
  {
   "cell_type": "markdown",
   "metadata": {},
   "source": [
    "### 问题2\n",
    "- 直接计算：\n",
    "$\\oint_C{\\vec{F} \\cdot d\\vec{r}}=\\oint_C{2ydx+xdy}$  \n",
    "设 $\\begin{cases}x=\\cos{\\theta}\\\\y=\\sin{\\theta}\\end{cases} 0 \\le \\theta \\le 2\\pi \\implies \\begin{cases}dx=-\\sin{\\theta}d\\theta\\\\dy=\\cos{\\theta}d\\theta\\end{cases}$  \n",
    "带入得 $\\oint_C{2ydx+xdy}=\\int_0^{2\\pi}{2\\sin{\\theta} \\cdot (-\\sin{\\theta}d\\theta)+\\cos{\\theta} \\cdot \\cos{\\theta}d\\theta}\\\\\n",
    "=\\int_0^{2\\pi}{(-2\\sin^2{\\theta}+\\cos^2{\\theta})d\\theta}\\\\\n",
    "=\\int_0^{2\\pi}{(-2\\sin^2{\\theta}+1-\\sin^2{\\theta})d\\theta}\\\\\n",
    "=\\int_0^{2\\pi}{(1-3\\sin^2{\\theta})d\\theta}\\\\\n",
    "=\\int_0^{2\\pi}{(1-3 \\cdot \\frac{1-\\cos{2\\theta}}{2})d\\theta}\\\\\n",
    "=\\int_0^{2\\pi}{\\frac{3}{2}\\cos{2\\theta}-\\frac{1}{2}d\\theta}\\\\\n",
    "=\\left[\\frac{3}{4}\\sin{2\\theta}-\\frac{1}{2}\\theta\\right]_0^{2\\pi}\\\\\n",
    "=-\\pi$  \n",
    "格林公式法：  \n",
    "$\\oint_C{\\vec{F} \\cdot d\\vec{r}}=\\iint_C{curl \\vec{F}dA}=\\iint_R{curl \\vec{F}dA}$  \n",
    "$\\vec{F}=<M,N>=<2y,x> \\implies curl \\vec{F}=N_x-M_y=1-2=-1 \\implies \\iint_R{curl \\vec{F}dA}=\\iint_R{-1dA}=-\\iint_C{dA}=-Area(R)=-\\pi$"
   ]
  }
 ],
 "metadata": {
  "language_info": {
   "name": "python"
  }
 },
 "nbformat": 4,
 "nbformat_minor": 2
}
