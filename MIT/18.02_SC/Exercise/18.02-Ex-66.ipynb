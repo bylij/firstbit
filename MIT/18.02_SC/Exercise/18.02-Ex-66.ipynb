{
 "cells": [
  {
   "cell_type": "markdown",
   "metadata": {},
   "source": [
    ">https://ocw.mit.edu/courses/18-02sc-multivariable-calculus-fall-2010/resources/mit18_02sc_pb_66_quest/"
   ]
  },
  {
   "cell_type": "markdown",
   "metadata": {},
   "source": [
    "### 问题1\n",
    "- $\\vec{F}=<M,N>=<-\\frac{y}{r^2},\\frac{x}{r^2}>=<-\\frac{y}{x^2+y^2},\\frac{x}{x^2+y^2}>\\\\\n",
    "\\implies curl \\vec{F}=N_x-M_y=\\frac{(x^2+y^2)-x \\cdot 2x}{(x^2+y^2)^2}-\\frac{-(x^2+y^2)-(-y) \\cdot 2y}{(x^2+y^2)^2}=0$"
   ]
  },
  {
   "cell_type": "markdown",
   "metadata": {},
   "source": [
    "### 问题2\n",
    "- $\\oint_C{\\vec{F} \\cdot d\\vec{r}}=\\oint_C{-ydx+xdy}$  \n",
    "设 $\\begin{cases}x=\\cos{\\theta}\\\\y=\\sin{\\theta}\\end{cases}, 0 \\le \\theta \\le 2\\pi \\implies \\begin{cases}dx=-\\sin{\\theta}\\\\dy=\\cos{\\theta}\\end{cases}\\\\\n",
    "\\implies \\oint_C{-ydx+xdy}=\\int_0^{2\\pi}{-\\sin{\\theta} \\cdot (-\\sin{\\theta}d\\theta)+\\cos{\\theta} \\cdot \\cos{\\theta}d\\theta}=\\int_0^{2\\pi}{(\\sin^2{\\theta}+\\cos^2{\\theta})d\\theta}=\\int_0^{2\\pi}{d\\theta}=2\\pi$"
   ]
  },
  {
   "cell_type": "markdown",
   "metadata": {},
   "source": [
    "### 问题3\n",
    "- 对于任一点 $(x, y)$，以原点为圆心且经过 $(x, y)$ 点的圆在 $(x, y)$ 点处的法向量为 $<x, y>$，  \n",
    "而 $\\vec{F} \\cdot <x,y>=<-\\frac{y}{r^2},\\frac{x}{r^2}> \\cdot <x,y>=0 \\implies \\vec{F} \\perp <x, y>$ 即 $\\vec{F}$ 为 $(x, y)$ 点处圆的切线向量"
   ]
  },
  {
   "cell_type": "markdown",
   "metadata": {},
   "source": [
    "### 问题4\n",
    "- $\\theta_x=\\frac{1}{(\\frac{y}{x})^2+1} \\cdot (-\\frac{y}{x^2})=\\frac{-y}{x^2+y^2}=\\frac{-y}{r^2}$  \n",
    "$\\theta_y=\\frac{1}{(\\frac{y}{x})^2+1} \\cdot (\\frac{1}{x})=\\frac{x}{x^2+y^2}=\\frac{x}{r^2}$  \n",
    "可得 $\\nabla \\theta=<\\theta_x,\\theta_y>=<-\\frac{y}{r^2},\\frac{x}{r^2}>=\\vec{F}$"
   ]
  }
 ],
 "metadata": {
  "language_info": {
   "name": "python"
  }
 },
 "nbformat": 4,
 "nbformat_minor": 2
}
