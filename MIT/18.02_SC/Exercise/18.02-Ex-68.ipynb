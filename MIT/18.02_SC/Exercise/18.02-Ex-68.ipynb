{
 "cells": [
  {
   "cell_type": "markdown",
   "metadata": {},
   "source": [
    ">https://ocw.mit.edu/courses/18-02sc-multivariable-calculus-fall-2010/resources/mit18_02sc_pb_68_quest/"
   ]
  },
  {
   "cell_type": "markdown",
   "metadata": {},
   "source": [
    "### 问题1\n",
    "- $\\vec{F}=<M,N> \\implies \\oint_C{Mdx+Ndy}=\\oint_C{\\vec{F} \\cdot d\\vec{r}}$  \n",
    "由格林定理得 $\\oint_C{\\vec{F} \\cdot d\\vec{r}}=\\iint_R{curl(\\vec{F})dA}$ $\\textcircled{1}$  \n",
    "而极点转动惯量 $I=\\iint_R{\\delta \\cdot r^2dA}=\\iint_R{\\delta \\cdot (x^2+y^2)dA}$ 结合题意匹配 $\\textcircled{1}$ 可得 $\\delta \\cdot (x^2+y^2)=curl(\\vec{F})=N_x-M_y$  \n",
    "例如，可取 $\\begin{cases}N_x=\\delta \\cdot x^2\\\\M_y=-\\delta \\cdot y^2\\end{cases} \\implies \\begin{cases}M=-\\frac{\\delta}{3}y^3\\\\N=\\frac{\\delta}{3}x^3\\end{cases}$，或取 $\\begin{cases}N_x=\\delta \\cdot y^2\\\\M_y=-\\delta \\cdot x^2\\end{cases} \\implies \\begin{cases}M=-x^2y\\\\N=xy^2\\end{cases}$"
   ]
  }
 ],
 "metadata": {
  "language_info": {
   "name": "python"
  }
 },
 "nbformat": 4,
 "nbformat_minor": 2
}
