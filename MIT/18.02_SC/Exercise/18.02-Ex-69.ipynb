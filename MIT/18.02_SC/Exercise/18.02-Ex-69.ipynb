{
 "cells": [
  {
   "cell_type": "markdown",
   "metadata": {},
   "source": [
    ">https://ocw.mit.edu/courses/18-02sc-multivariable-calculus-fall-2010/resources/mit18_02sc_pb_69_quest/"
   ]
  },
  {
   "cell_type": "markdown",
   "metadata": {},
   "source": [
    "### 问题\n",
    "- $Flux=\\int_C{\\vec{F} \\cdot \\hat{n}ds}=\\int_C{<x^2,y> \\cdot <dy,-dx>}=\\int_C{-ydx+x^2dy}$  \n",
    "$C$ 为 $(0, 0)$ 到 $(1, 2)$ 的线段，设 $\\begin{cases}x(t)=t\\\\y(t)=2t\\end{cases}, 0 \\le t \\le 1 \\implies \\begin{cases}dx=dt\\\\dy=2dt\\end{cases}\\\\\n",
    "\\implies \\int_C{-ydx+x^2dy}=\\int_0^1{-2tdt+t^2 \\cdot 2dt}=\\int_0^1{(2t^2-2t)dt}=\\left[\\frac{2t^3}{3}-t^2\\right]_0^1=-\\frac{1}{3}$"
   ]
  }
 ],
 "metadata": {
  "language_info": {
   "name": "python"
  }
 },
 "nbformat": 4,
 "nbformat_minor": 2
}
