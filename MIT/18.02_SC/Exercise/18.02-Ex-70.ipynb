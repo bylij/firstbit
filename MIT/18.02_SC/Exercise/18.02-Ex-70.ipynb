{
 "cells": [
  {
   "cell_type": "markdown",
   "metadata": {},
   "source": [
    ">https://ocw.mit.edu/courses/18-02sc-multivariable-calculus-fall-2010/resources/mit18_02sc_pb_70_quest/"
   ]
  },
  {
   "cell_type": "markdown",
   "metadata": {},
   "source": [
    "### 问题1\n",
    "- $Flux=\\oint_C{\\vec{F} \\cdot \\hat{n}ds}\\\\\n",
    "=\\oint_C{g(r)<x,y> \\cdot <dy,-dx>}\\\\\n",
    "=g(a)\\oint_C{-ydx+xdy}\\\\\n",
    "=g(a) \\cdot (-\\iint_R{curl(<-y,x>)dA})（格林定理）\\\\\n",
    "=g(a) \\cdot (-\\iint_R2dA)\\\\\n",
    "=g(a) \\cdot (-2Area(R))（几何意义）\\\\\n",
    "=g(a) \\cdot (-2 \\cdot \\pi a^2)\\\\\n",
    "=-2\\pi a^2g(a)$"
   ]
  },
  {
   "cell_type": "markdown",
   "metadata": {},
   "source": [
    "### 问题2\n",
    "- 向量 $\\vec{F}=g(r)<-y,x>$ 为 $C$ 上切线方向，可知 $\\vec{F} \\perp \\hat{n} \\implies \\vec{F} \\cdot \\hat{n} \\implies Flux=\\oint_C{\\vec{F} \\cdot \\hat{n}ds}=\\oint_C{0ds}=0$"
   ]
  },
  {
   "cell_type": "markdown",
   "metadata": {},
   "source": [
    "### 问题3\n",
    "- 向量 $\\vec{F}=<3, 3> // C$ 因此通量 $Flux=0$"
   ]
  },
  {
   "cell_type": "markdown",
   "metadata": {},
   "source": [
    "### 问题4\n",
    "- 向量 $\\vec{F}=<-3,-3> // C$ 通量 $Flux=0$"
   ]
  }
 ],
 "metadata": {
  "language_info": {
   "name": "python"
  }
 },
 "nbformat": 4,
 "nbformat_minor": 2
}
