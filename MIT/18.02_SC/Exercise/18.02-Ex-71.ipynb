{
 "cells": [
  {
   "cell_type": "markdown",
   "metadata": {},
   "source": [
    ">https://ocw.mit.edu/courses/18-02sc-multivariable-calculus-fall-2010/resources/mit18_02sc_pb_71_quest/"
   ]
  },
  {
   "cell_type": "markdown",
   "metadata": {},
   "source": [
    "### 问题1\n",
    "- $\\vec{G}=<\\frac{1}{y}, -\\frac{x}{y^2}>$ 可得潜在函数 $f(x, y)=\\frac{x}{y}$ 满足 $\\vec{G}=\\nabla f \\implies \\frac{ydx-xdy}{y^2}=df$ 因此 $F$ 是全微分"
   ]
  }
 ],
 "metadata": {
  "language_info": {
   "name": "python"
  }
 },
 "nbformat": 4,
 "nbformat_minor": 2
}
