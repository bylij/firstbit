{
 "cells": [
  {
   "cell_type": "markdown",
   "metadata": {},
   "source": [
    ">https://ocw.mit.edu/courses/18-02sc-multivariable-calculus-fall-2010/resources/mit18_02sc_pb_72_quest/"
   ]
  },
  {
   "cell_type": "markdown",
   "metadata": {},
   "source": [
    "### 问题1\n",
    "- (b) 和 (c) 是简单连接区域"
   ]
  },
  {
   "cell_type": "markdown",
   "metadata": {},
   "source": [
    "### 问题2\n",
    "- 向量场 $\\vec{F}=<\\sin{(x^2+y^2)},\\cos{(x^2+y^2)}>$ 定义域为整个二维平面，向量场在定义域内连续可导  \n",
    "因此向量场在整个二维平面内有定义且连续可导，该区域为简单连接区域"
   ]
  },
  {
   "cell_type": "markdown",
   "metadata": {},
   "source": [
    "### 问题3\n",
    "- 向量场 $\\vec{F}=<|x|,0>$ 定义域为整个二维平面，由于 $|x|$ 在 $(0, 0)$ 点不可导，因此向量场在 $(0, 0)$  \n",
    "因此向量场在除去 $(0, 0)$ 点的二维平面区域内连续可导，该区域不是简单连接区域"
   ]
  },
  {
   "cell_type": "markdown",
   "metadata": {},
   "source": [
    "### 问题4\n",
    "- 向量场 $\\vec{F}=<\\frac{x}{x^2+y^2},\\frac{y}{x^2+y^2}>$ 在 $(0, 0)$ 点没有定义，在除去该点的二维平面内有定义且连续可导，区域不是简单连接区域"
   ]
  },
  {
   "cell_type": "markdown",
   "metadata": {},
   "source": [
    "### 问题5\n",
    "- 向量场 $\\vec{F}=<\\frac{1}{y}, -\\frac{x}{y^2}>$ 在 $y=0$ 即 $x$ 轴上没有定义，在除去 $x$ 轴之外的二维平面区域内有定义且连续可导  \n",
    "该区域为两个隔离的区域，每个区域为简单连接区域"
   ]
  },
  {
   "cell_type": "markdown",
   "metadata": {},
   "source": [
    "### 问题6\n",
    "- 向量场 $\\vec{F}=<\\sqrt{x^2-1},\\sqrt{y^2-1}>$ 的在满足 $\\begin{cases}|x| \\ge 1\\\\|y| \\ge 1\\end{cases}$ 的区域内有定义且连续可导  \n",
    "该区域是四个互相隔离的区域，每个单独的区域都是简单连接区域"
   ]
  }
 ],
 "metadata": {
  "language_info": {
   "name": "python"
  }
 },
 "nbformat": 4,
 "nbformat_minor": 2
}
