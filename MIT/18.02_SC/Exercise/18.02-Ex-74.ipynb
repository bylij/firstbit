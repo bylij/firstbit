{
 "cells": [
  {
   "cell_type": "markdown",
   "metadata": {},
   "source": [
    ">https://ocw.mit.edu/courses/18-02sc-multivariable-calculus-fall-2010/resources/mit18_02sc_pb_74_quest/"
   ]
  },
  {
   "cell_type": "markdown",
   "metadata": {},
   "source": [
    "### 问题1\n",
    "- $V=\\int_{-\\frac{1}{2}}^{\\frac{1}{2}}{\\int_{\\frac{1}{2}-\\sqrt{\\frac{1}{4}-x^2}}^{\\frac{1}{2}+\\sqrt{\\frac{1}{4}-x^2}}{\\int_{x^2+y^2}^y{dz}dy}dx}$  \n",
    "或者采用圆柱坐标 $V=\\int_0^\\pi{\\int_0^{\\sin{\\theta}}{\\int_{r^2}^{r\\sin{\\theta}}{dz}rdr}d\\theta}$"
   ]
  },
  {
   "cell_type": "markdown",
   "metadata": {},
   "source": [
    "### 问题2\n",
    "- 根据对称性 $\\bar{x}=\\bar{y}=0$  \n",
    "$\\bar{z}=\\frac{1}{Mass(D)}\\iiint_{D}z\\delta dV=\\frac{\\int_0^{2\\pi}{\\int_0^2{\\int_0^{\\sqrt{4-r^2}}{zdz}rdr}d\\theta}}{\\int_0^{2\\pi}{\\int_0^2{\\int_0^{\\sqrt{4-r^2}}{dz}rdr}d\\theta}}=\\frac{4\\pi}{16\\pi/3}=\\frac{3}{4}$  \n",
    "质心为 $(0, 0, \\frac{3}{4})$"
   ]
  }
 ],
 "metadata": {
  "language_info": {
   "name": "python"
  }
 },
 "nbformat": 4,
 "nbformat_minor": 2
}
