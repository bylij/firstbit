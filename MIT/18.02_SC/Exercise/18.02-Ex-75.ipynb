{
 "cells": [
  {
   "cell_type": "markdown",
   "metadata": {},
   "source": [
    ">https://ocw.mit.edu/courses/18-02sc-multivariable-calculus-fall-2010/resources/mit18_02sc_pb_75_quest/"
   ]
  },
  {
   "cell_type": "markdown",
   "metadata": {},
   "source": [
    "### 问题\n",
    "- $I=\\iiint_{D}{(x^2+y^2)dV}\\\\\n",
    "=\\int_0^{2\\pi}{\\int_0^1{\\int_{r^2}^1{r^2dz}rdr}d\\theta}\\\\\n",
    "=\\int_0^{2\\pi}{\\int_0^1{\\left[r^2z\\right]_{r^2}^1rdr}d\\theta}\\\\\n",
    "=\\int_0^{2\\pi}{\\int_0^1{(r^2-r^4)rdr}d\\theta}\\\\\n",
    "=\\int_0^{2\\pi}{\\int_0^1{(r^3-r^5)dr}d\\theta}\\\\\n",
    "=\\int_0^{2\\pi}{\\left[\\frac{r^4}{4}-\\frac{r^6}{6}\\right]_0^1d\\theta}\\\\\n",
    "=\\int_0^{2\\pi}{\\frac{1}{12}d\\theta}\\\\\n",
    "=\\frac{1}{12} \\cdot 2\\pi\\\\\n",
    "=\\frac{\\pi}{6}$"
   ]
  }
 ],
 "metadata": {
  "language_info": {
   "name": "python"
  }
 },
 "nbformat": 4,
 "nbformat_minor": 2
}
