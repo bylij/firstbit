{
 "cells": [
  {
   "cell_type": "markdown",
   "metadata": {},
   "source": [
    ">https://ocw.mit.edu/courses/18-02sc-multivariable-calculus-fall-2010/resources/mit18_02sc_pb_76_quest/"
   ]
  },
  {
   "cell_type": "markdown",
   "metadata": {},
   "source": [
    "### 问题1\n",
    "- $V=\\int_0^{2\\pi}{\\int_0^\\pi{\\int_0^a{\\rho^2\\sin{\\phi}d\\rho}d\\phi}d\\theta}=\\frac{4\\pi}{3}a^3$"
   ]
  },
  {
   "cell_type": "markdown",
   "metadata": {},
   "source": [
    "### 问题2\n",
    "- $V=\\int_0^{2\\pi}{\\int_0^\\alpha{\\int_0^a{\\rho^2\\sin{\\phi}d\\rho}d\\phi}d\\theta}=\\frac{2\\pi}{3}(1-\\cos{\\alpha})a^3$"
   ]
  },
  {
   "cell_type": "markdown",
   "metadata": {},
   "source": [
    "### 问题3\n",
    "- $V=\\int_0^{2\\pi}{\\int_0^{\\pi/4}{\\int_a^{a\\sqrt{2}}{\\rho^2\\sin{\\phi}d\\rho}d\\phi}d\\theta}=\\frac{(5\\sqrt{2}-6)\\pi}{3}a^3$"
   ]
  }
 ],
 "metadata": {
  "language_info": {
   "name": "python"
  }
 },
 "nbformat": 4,
 "nbformat_minor": 2
}
