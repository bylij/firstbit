{
 "cells": [
  {
   "cell_type": "markdown",
   "metadata": {},
   "source": [
    ">https://ocw.mit.edu/courses/18-02sc-multivariable-calculus-fall-2010/resources/mit18_02sc_pb_47_quest/"
   ]
  },
  {
   "cell_type": "markdown",
   "metadata": {},
   "source": [
    "### 问题1\n",
    "- $V=\\int_0^{2\\pi}{\\int_0^{\\pi/4}{\\int_{a\\sec{\\phi}}^{a\\sqrt{2}}{\\rho^2\\sin{\\phi}}d\\phi}d\\theta}=\\frac{(8\\sqrt{2}-11)\\pi}{6}a^3$"
   ]
  }
 ],
 "metadata": {
  "language_info": {
   "name": "python"
  }
 },
 "nbformat": 4,
 "nbformat_minor": 2
}
