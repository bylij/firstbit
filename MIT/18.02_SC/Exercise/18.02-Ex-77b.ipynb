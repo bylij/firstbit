{
 "cells": [
  {
   "cell_type": "markdown",
   "metadata": {},
   "source": [
    ">https://ocw.mit.edu/courses/18-02sc-multivariable-calculus-fall-2010/resources/mit18_02sc_pb_77_quest/"
   ]
  },
  {
   "cell_type": "markdown",
   "metadata": {},
   "source": [
    "### 问题\n",
    "- $\\begin{cases}x=\\rho\\sin{\\phi}\\cos{\\theta}\\\\y=\\rho\\sin{\\phi}\\sin{\\theta}\\\\z=\\rho\\cos{\\phi}\\end{cases} \\implies J=\\frac{\\partial(x, y, z)}{\\partial(\\rho, \\phi, \\theta)}=\\begin{vmatrix}x_{\\rho}&&x_{\\phi}&&x_{\\theta}\\\\y_{\\rho}&&y_{\\phi}&&y_{\\theta}\\\\z_{\\rho}&&z_{\\phi}&&z_{\\theta}\\end{vmatrix}=\\begin{vmatrix}x_{\\rho}&&x_{\\phi}&&x_{\\theta}\\\\y_{\\rho}&&y_{\\phi}&&y_{\\theta}\\\\z_{\\rho}&&z_{\\phi}&&0\\end{vmatrix}\\\\\n",
    "=x_{\\rho} \\cdot (-y_{\\theta}z_{\\phi})-x_{\\phi} \\cdot (-y_{\\theta}z_{\\rho})+x_{\\theta} \\cdot (y_{\\rho}z_{\\phi}-y_{\\phi}z_{\\rho})\\\\\n",
    "=\\sin{\\phi}\\cos{\\theta} \\cdot (-\\rho\\sin{\\phi}\\cos{\\theta} \\cdot -\\rho\\sin{\\phi})-\\rho\\cos{\\phi}\\cos{\\theta} \\cdot (-\\rho\\sin{\\phi}\\cos{\\theta} \\cdot \\cos{\\phi})+(-\\rho\\sin{\\phi}\\sin{\\theta})(\\sin{\\phi}\\sin{\\theta} \\cdot -\\rho\\sin{\\phi}-\\rho\\cos{\\phi}\\sin{\\theta} \\cdot \\cos{\\phi})\\\\\n",
    "=\\rho^2\\sin^3{\\phi}\\cos^2{\\theta}+\\rho^2\\sin{\\phi}\\cos^2{\\theta}\\cos^2{\\phi}+\\rho^2\\sin^3{\\phi}\\sin^2{\\theta}+\\rho^2\\sin{\\phi}\\sin^2{\\theta}\\cos^2{\\phi}\\\\\n",
    "=(\\rho^2\\sin^3{\\phi}\\cos^2{\\theta}+\\rho^2\\sin^3{\\phi}\\sin^2{\\theta})+(\\rho^2\\sin{\\phi}\\cos^2{\\theta}\\cos^2{\\phi}+\\rho^2\\sin{\\phi}\\sin^2{\\theta}\\cos^2{\\phi})\\\\\n",
    "=\\rho^2\\sin^3{\\phi}(\\cos^2{\\theta}+\\sin^2{\\theta})+\\rho^2\\sin{\\phi}\\cos^2{\\phi}(\\cos^2{\\theta}+\\sin^2{\\theta})\\\\\n",
    "=\\rho^2\\sin^3{\\phi}+\\rho^2\\sin{\\phi}\\cos^2{\\phi}\\\\\n",
    "=\\rho^2\\sin{\\phi}(\\sin^2{\\phi}+\\cos^2{\\phi})\\\\\n",
    "=\\rho^2\\sin{\\phi}$  \n",
    "可得 $dxdydz=J \\cdot d\\rho d\\phi d\\theta=\\rho^2\\sin{\\phi}d\\rho d\\phi d\\theta$"
   ]
  }
 ],
 "metadata": {
  "language_info": {
   "name": "python"
  }
 },
 "nbformat": 4,
 "nbformat_minor": 2
}
