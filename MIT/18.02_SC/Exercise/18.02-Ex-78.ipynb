{
 "cells": [
  {
   "cell_type": "markdown",
   "metadata": {},
   "source": [
    ">https://ocw.mit.edu/courses/18-02sc-multivariable-calculus-fall-2010/resources/mit18_02sc_pb_78_quest/"
   ]
  },
  {
   "cell_type": "markdown",
   "metadata": {},
   "source": [
    "### 问题\n",
    "$Vol(D)=\\iiint_D{dV}=\\int_0^{2\\pi}{\\int_0^\\pi{\\int_0^a{\\rho^2\\sin{\\phi}d\\rho}d\\phi}d\\theta}=\\int_0^{2\\pi}{\\int_0^\\pi{\\left[\\frac{\\rho^3}{3}\\sin{\\phi}\\right]_0^ad\\phi}d\\theta}=\\int_0^{2\\pi}{\\int_0^\\pi{\\frac{a^3}{3}\\sin{\\phi}d\\phi}d\\theta}=\\int_0^{2\\pi}{\\left[-\\frac{a^3}{3}\\cos{\\phi}\\right]_0^\\pi d\\theta}=\\int_0^{2\\pi}{\\frac{2a^3}{3}d\\theta}=\\frac{4\\pi}{3}a^3$  \n",
    "- a) $\\bar{d}=\\frac{1}{Vol(D)}\\iiint_D{\\sqrt{x^2+y^2+z^2}dV}=\\frac{1}{Vol(D)}\\int_0^{2\\pi}{\\int_0^\\pi{\\int_0^a{\\rho \\cdot \\rho^2\\sin{\\phi}d\\rho}d\\phi}d\\theta}=\\frac{a^4\\pi}{4a^3\\pi/3}=\\frac{3a}{4}$\n",
    "- b) 选择 $z$ 轴为固定直径所在直线  \n",
    "$\\bar{d}=\\frac{1}{Vol(D)}\\iiint_D{\\sqrt{x^2+y^2}dV}=\\frac{1}{Vol(D)}\\int_0^{2\\pi}{\\int_0^\\pi{\\int_0^a{\\rho\\sin{\\phi} \\cdot \\rho^2\\sin{\\phi}d\\rho}d\\phi}d\\theta}=\\frac{a^4\\pi^2/4}{4a^3\\pi/3}=\\frac{3a\\pi}{16}$\n",
    "- c) 选择 $xy$ 平面为经过极点的固定平面  \n",
    " $\\bar{d}=\\frac{1}{Vol(D)}\\iiint_D{zdV}=\\frac{1}{Vol(D)}\\int_0^{2\\pi}{\\int_0^\\pi{\\int_0^a{\\rho\\cos{\\phi} \\cdot \\rho^2\\sin{\\phi}d\\rho}d\\phi}d\\theta}=\\frac{0}{4a^3\\pi/3}=0$"
   ]
  }
 ],
 "metadata": {
  "language_info": {
   "name": "python"
  }
 },
 "nbformat": 4,
 "nbformat_minor": 2
}
