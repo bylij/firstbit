{
 "cells": [
  {
   "cell_type": "markdown",
   "metadata": {},
   "source": [
    ">https://ocw.mit.edu/courses/18-02sc-multivariable-calculus-fall-2010/resources/mit18_02sc_supprob1/"
   ]
  },
  {
   "cell_type": "markdown",
   "metadata": {},
   "source": [
    "## Part $\\mathrm{I}$"
   ]
  },
  {
   "cell_type": "markdown",
   "metadata": {},
   "source": [
    "### 问题1F-5\n",
    "- b) $A^2=\\begin{pmatrix}1&1\\\\0&1\\end{pmatrix}\\begin{pmatrix}1&1\\\\0&1\\end{pmatrix}=\\begin{pmatrix}1&2\\\\0&1\\end{pmatrix}$  \n",
    "$A^3=AA^2=\\begin{pmatrix}1&1\\\\0&1\\end{pmatrix}\\begin{pmatrix}1&2\\\\0&1\\end{pmatrix}=\\begin{pmatrix}1&3\\\\0&1\\end{pmatrix}$  \n",
    "$A^n=\\begin{pmatrix}1&n\\\\0&1\\end{pmatrix}$"
   ]
  },
  {
   "cell_type": "markdown",
   "metadata": {},
   "source": [
    "### 问题1F-8\n",
    "- a) $A=\\begin{pmatrix}2&-1&1\\\\3&0&1\\\\1&4&-1\\end{pmatrix}$"
   ]
  },
  {
   "cell_type": "markdown",
   "metadata": {},
   "source": [
    "### 问题1F-5\n",
    "- a) $A^2=\\begin{pmatrix}0&1\\\\1&1\\end{pmatrix}\\begin{pmatrix}0&1\\\\1&1\\end{pmatrix}=\\begin{pmatrix}1&1\\\\1&2\\end{pmatrix}$  \n",
    "$A^3=AA^2=\\begin{pmatrix}0&1\\\\1&1\\end{pmatrix}\\begin{pmatrix}1&1\\\\1&2\\end{pmatrix}=\\begin{pmatrix}1&2\\\\2&3\\end{pmatrix}$"
   ]
  },
  {
   "cell_type": "markdown",
   "metadata": {},
   "source": [
    "### 问题9\n",
    "- a) $A$ 的第 $i$ 行行向量 $A_i=<a_{i1},a_{i2},...,a_{in}>$，$A^{T}$ 的第 $i$ 列列向量 $A_i^T=<a_{i1},a_{i2},...,a_{in}>^T$  \n",
    "$I_n$ 的第 $i$ 行 第 $i$ 列的元素 $I_{ii}=A_i \\cdot A_i^T=1 \\implies a_{i_1}^2+a_{i_2}^2+...+a_{i_n}^2=1 \\implies |A_i|=\\sqrt{a_{i_1}^2+a_{i_2}^2+...+a_{i_n}^2}=1$  \n",
    "可知 $A$ 的任意行向量的模都为 $1$\n",
    "- b) 同理，$I_n$ 的第 $i$ 行 第 $j$ 列的元素 $I_{ij}(i \\ne j)=A_i \\cdot A_j^T=0 \\implies a_{i_1} \\cdot a_{j_1}+a_{i_2} \\cdot a_{j_2}+...+a_{i_n} \\cdot a_{j_n}=0 \\implies A_i \\cdot A_j=0 \\implies A_i \\perp A_j$  \n",
    "即 $A$ 的任意不同两行均为正交向量"
   ]
  },
  {
   "cell_type": "markdown",
   "metadata": {},
   "source": [
    "### 问题1G-3\n",
    "- $det(A)=\\begin{vmatrix}1&-1&1\\\\0&1&1\\\\-1&-1&2\\end{vmatrix}=3$  \n",
    "$minors(A)=\\begin{pmatrix}3&1&1\\\\-1&3&-2\\\\-2&1&1\\end{pmatrix} \\implies cofactors(A)=\\begin{pmatrix}3&-1&1\\\\1&3&2\\\\-2&-1&1\\end{pmatrix} \\implies adj(A)=\\begin{pmatrix}3&1&-2\\\\-1&3&-1\\\\1&2&1\\end{pmatrix}$  \n",
    "$A^{-1}=\\frac{1}{det(A)}adj(A)=\\frac{1}{3}\\begin{pmatrix}3&1&-2\\\\-1&3&-1\\\\1&2&1\\end{pmatrix}=\\begin{pmatrix}1&1/3&-2/3\\\\-1/3&1&-1/3\\\\1/3&2/3&1/3\\end{pmatrix}$  \n",
    "$x=A^{-1}b=\\begin{pmatrix}1&1/3&-2/3\\\\-1/3&1&-1/3\\\\1/3&2/3&1/3\\end{pmatrix}\\begin{pmatrix}2\\\\0\\\\3\\end{pmatrix}=\\begin{pmatrix}0\\\\-5/3\\\\5/3\\end{pmatrix}$"
   ]
  },
  {
   "cell_type": "markdown",
   "metadata": {},
   "source": [
    "### 问题1G-4\n",
    "- $\\begin{pmatrix}x_1\\\\x_2\\\\x_3\\end{pmatrix}=A^{-1}\\begin{pmatrix}y_1\\\\y_2\\\\y_3\\end{pmatrix}=\\begin{pmatrix}1&1/3&-2/3\\\\-1/3&1&-1/3\\\\1/3&2/3&1/3\\end{pmatrix}\\begin{pmatrix}y_1\\\\y_2\\\\y_3\\end{pmatrix}=\\begin{pmatrix}y_1+\\frac{1}{3}y_2-\\frac{2}{3}y_3\\\\-\\frac{1}{3}y_1+y_2-\\frac{1}{3}y_3\\\\\\frac{1}{3}y_1+\\frac{2}{3}y_2+\\frac{1}{3}y_3\\end{pmatrix}$"
   ]
  },
  {
   "cell_type": "markdown",
   "metadata": {},
   "source": [
    "### 问题1G-5\n",
    "- $(AB)(B^{-1}A^{-1})=ABB^{-1}A^{-1}=A(BB^{-1})A^{-1}=AIA^{-1}=AA^{-1}=I$  \n",
    "$(B^{-1}A^{-1})(AB)=B^{-1}A^{-1}AB=BIB^{-1}=BB^{-1}=I$  \n",
    "因此 $(AB)^{-1}=B^{-1}A^{-1}$"
   ]
  },
  {
   "cell_type": "markdown",
   "metadata": {},
   "source": [
    "### 问题1H-3\n",
    "- a) $A=\\begin{pmatrix}1&-1&1\\\\2&1&1\\\\-1&c&2\\end{pmatrix}$，$det(A)=0 \\implies det(\\begin{pmatrix}1&-1&1\\\\2&1&1\\\\-1&c&2\\end{pmatrix})=0 \\implies c=-8$\n",
    "- b) $\\begin{pmatrix}2&1\\\\0&-1\\end{pmatrix}\\begin{pmatrix}x\\\\y\\end{pmatrix}=c\\begin{pmatrix}x\\\\y\\end{pmatrix} \\implies \\begin{cases}2x+y=cx\\\\-y=cy\\end{cases} \\implies \\begin{cases}(2-c)x+y=0\\\\(c+1)y=0\\end{cases} \\implies \\begin{pmatrix}2-c&1\\\\0&c+1\\end{pmatrix}\\begin{pmatrix}x\\\\y\\end{pmatrix}=\\begin{pmatrix}0\\\\0\\end{pmatrix}$  \n",
    "$det(\\begin{pmatrix}2-c&1\\\\0&c+1\\end{pmatrix})=0 \\implies c=2, -1$\n",
    "- c) $\\begin{pmatrix}-2\\\\1\\\\3\\end{pmatrix}$\n",
    "- d) 对于 $c=2$ 存在解 $\\begin{pmatrix}1\\\\0\\end{pmatrix}$，对于 $c=-1$ 存在解 $\\begin{pmatrix}-1\\\\3\\end{pmatrix}$"
   ]
  },
  {
   "cell_type": "markdown",
   "metadata": {},
   "source": [
    "### 问题1H-7\n",
    "- a) $\\begin{cases}a\\cos{x_1}+b\\sin{x_1}=y_1\\\\a\\cos{x_2}+b\\sin{x_2}=y_2\\end{cases} \\textcircled{1} \\implies \\begin{pmatrix}\\cos{x_1}&\\sin{x_1}\\\\\\cos{x_2}&\\sin{x_2}\\end{pmatrix}\\begin{pmatrix}a\\\\b\\end{pmatrix}=\\begin{pmatrix}y_1\\\\y_2\\end{pmatrix}$  \n",
    "设 $A=\\begin{pmatrix}\\cos{x_1}&\\sin{x_1}\\\\\\cos{x_2}&\\sin{x_2}\\end{pmatrix}$，$det(A)=\\cos{x_1}\\sin{x_2}-\\sin{x_1}\\cos{x_2}=\\sin{(x_2-x_1)} \\ne 0$  \n",
    "因此方程 $\\textcircled{1}$ 有唯一解，命题得证\n",
    "- b) $n$ 为奇数时 $y_1+y_2=0$，$n$ 为偶数时 $y_1=y_2$"
   ]
  },
  {
   "cell_type": "markdown",
   "metadata": {},
   "source": [
    "### 问题1E-1\n",
    "- c) 设 $A=(1, 0, 1), B=(2, -1, 2), C=(-1, 3, 2)$  \n",
    "平面法向量 $\\vec{N}=\\overrightarrow{AB} \\times \\overrightarrow{AC}=<1,-1,1> \\times <-2,3,1>=\\begin{vmatrix}\\hat{i}&\\hat{j}&\\hat{k}\\\\1&-1&1\\\\-2&3&1\\end{vmatrix}=<-4,-3,1>$  \n",
    "法点方程 $-4(x-1)-3(y-0)+(z-1)=0$ 化简后 $4x+3y-z=3$\n",
    "- d) 平面三点 $A=(a, 0, 0), B=(0, b, 0), C=(0, 0, c)$  \n",
    "法向量 $\\vec{N}=\\overrightarrow{AB} \\times \\overrightarrow{AC}=<-a,b,0> \\times <-a,0,c>=\\begin{vmatrix}\\hat{i}&\\hat{j}&\\hat{k}\\\\-a&b&0\\\\-a&0&c\\end{vmatrix}=<bc,ac,ab>$  \n",
    "法点方程 $bc(x-a)+ac(y-0)+ab(z-0)=0$ 转化为指定形式 $\\frac{x}{a}+\\frac{y}{b}+\\frac{z}{c}=1$"
   ]
  },
  {
   "cell_type": "markdown",
   "metadata": {},
   "source": [
    "### 问题1E-2\n",
    "- 可以通过计算两平面法向量的夹角获得二面角  \n",
    "法向量分别为 $\\vec{N_1}=<2,-1,1>, \\vec{N_2}=<1,1,2>$  \n",
    "$\\cos{\\theta}=\\frac{\\vec{N_1} \\cdot \\vec{N_2}}{|\\vec{N_1}||\\vec{N_2}|}=\\frac{2 \\cdot 1+(-1) \\cdot 1+1 \\cdot 2}{\\sqrt{2^2+(-1)^2+1^2} \\cdot \\sqrt{1^2+1^2+2^2}}=\\frac{1}{2} \\implies \\theta=60^\\circ$"
   ]
  },
  {
   "cell_type": "markdown",
   "metadata": {},
   "source": [
    "### 问题1E-6\n",
    "- 法向量 $\\vec{N}=<a,b,c>$ 得单位法向量 $\\vec{n}=\\frac{\\vec{N}}{|\\vec{N}|}=\\frac{<a,b,c>}{|\\sqrt{a^2+b^2+c^2}|}$  \n",
    "平面上一点 $P=(x_0, y_0, z_0)$ 得到原点向量 $\\overrightarrow{OP}=<x_0,y_0,z_0>$  \n",
    "$D=\\overrightarrow{OP} \\cdot \\vec{n}=<x_0,y_0,z_0> \\cdot \\frac{<a,b,c>}{|\\sqrt{a^2+b^2+c^2}|}=\\frac{ax_0+by_0+cz_0}{|\\sqrt{a^2+b^2+c^2}|}=\\frac{d}{|\\sqrt{a^2+b^2+c^2}|}=\\frac{|d|}{|\\sqrt{a^2+b^2+c^2}|}$"
   ]
  },
  {
   "cell_type": "markdown",
   "metadata": {},
   "source": [
    "### 问题1E-1\n",
    "- a) $\\hat{i}+2\\hat{j}-2\\hat{k}$ 即为平面法向量，法点公式 $(x-2)+2(y-0)-2(z-(-1))=0 \\implies x+2y-2z=4$\n",
    "- b) 三点 $O=(0, 0, 0), A=(1, 1, 0), B=(2, -1, 3)$  \n",
    "法向量 $\\vec{N}=\\overrightarrow{OA} \\times \\overrightarrow{OB}=\\begin{vmatrix}\\hat{i}&\\hat{j}&\\hat{k}\\\\1&1&0\\\\2&-1&3\\end{vmatrix}=<3,-3,-3>$  \n",
    "法点方程 $3x-3y-3z=0 \\implies x-y-z=0$\n",
    "- e) 平面点 $A=(1, 0, 1), B=(0, 1, 1), C=(x, y, z) \\implies \\overrightarrow{AC}=<x-1,y,z-1>, \\overrightarrow{AB}=<-1,1,0>$  \n",
    "由已知 $det(\\overrightarrow{AC},\\overrightarrow{AB},<1,-1,2>)=0 \\implies \\begin{vmatrix}x-1&y&z-1\\\\-1&1&0\\\\1&-1&2\\end{vmatrix} \\implies (x-1) \\cdot 2-y \\cdot (-2)+(z-1) \\cdot 0=0 \\implies x+y=1$"
   ]
  },
  {
   "cell_type": "markdown",
   "metadata": {},
   "source": [
    "### 问题1E-3\n",
    "- a) $\\begin{cases}x=1+2t\\\\y=-t\\\\z=-1+3t\\end{cases}$\n",
    "- b) $\\begin{cases}x=2+t\\\\y=-1-t\\\\z=-1+2t\\end{cases}$\n",
    "- c) $\\begin{cases}x=1+at\\\\y=1+bt\\\\z=1+ct\\end{cases}$ 且 $a+2b-c=0$"
   ]
  },
  {
   "cell_type": "markdown",
   "metadata": {},
   "source": [
    "### 问题1E-5\n",
    "- 直线经过点 $(1, 1, -1)$ 并且平行平面法向量 $<1,2,-1>$ 可得参数方程 $\\begin{cases}x=1+t\\\\y=1+2t\\\\z=-1-t\\end{cases}$  \n",
    "带入平面 $2x-y+z=1 \\implies 2(1+t)-(1+2t)+(-1-t)=1 \\implies t=-1$ 带入参数方程得到交点 $(0, -1, 0)$"
   ]
  },
  {
   "cell_type": "markdown",
   "metadata": {},
   "source": [
    "## Part $\\mathrm{II}$"
   ]
  },
  {
   "cell_type": "markdown",
   "metadata": {},
   "source": [
    "### 问题1\n",
    "- a)\n",
    "- b)\n",
    "- c)"
   ]
  },
  {
   "cell_type": "markdown",
   "metadata": {},
   "source": [
    "### 问题2"
   ]
  },
  {
   "cell_type": "markdown",
   "metadata": {},
   "source": [
    "### 问题3"
   ]
  }
 ],
 "metadata": {
  "language_info": {
   "name": "python"
  }
 },
 "nbformat": 4,
 "nbformat_minor": 2
}
