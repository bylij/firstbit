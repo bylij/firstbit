{
 "cells": [
  {
   "cell_type": "markdown",
   "metadata": {},
   "source": [
    ">https://ocw.mit.edu/courses/18-02sc-multivariable-calculus-fall-2010/resources/mit18_02sc_supprob2/"
   ]
  },
  {
   "cell_type": "markdown",
   "metadata": {},
   "source": [
    "## Part $\\mathrm{I}$"
   ]
  },
  {
   "cell_type": "markdown",
   "metadata": {},
   "source": [
    "### 问题2C-1\n",
    "- a) $w=\\ln{xyz}\\\\\n",
    "\\implies dw=w_xdx+w_ydy+w_zdz\\\\\n",
    "=(\\frac{1}{xyz} \\cdot yz)dx+(\\frac{1}{xyz} \\cdot xz)dy+(\\frac{1}{xyz} \\cdot xy)dz\\\\\n",
    "=\\frac{dx}{x}+\\frac{dy}{y}+\\frac{dz}{z}$\n",
    "- d) $w=\\sin^{-1}\\frac{u}{t}\\\\\n",
    "\\implies dw=w_udu+w_tdt\\\\\n",
    "=(\\frac{1}{\\sqrt{1-(\\frac{u}{t})^2}} \\cdot \\frac{1}{t})du+(\\frac{1}{\\sqrt{1-(\\frac{u}{t})^2}} \\cdot -\\frac{u}{t^2})dt\\\\\n",
    "=\\frac{|t|du}{t\\sqrt{t^2-u^2}}-\\frac{udt}{|t|\\sqrt{t^2-u^2}}\\\\\n",
    "=\\frac{t^2du-tudt}{t|t|\\sqrt{t^2-u^2}}\\\\\n",
    "=\\frac{tdu-udt}{|t|\\sqrt{t^2-u^2}}$"
   ]
  },
  {
   "cell_type": "markdown",
   "metadata": {},
   "source": [
    "### 问题2C-2\n",
    "- 设三边 $x=5, y=10, z=20$ 体积为 $V$  \n",
    "$V=xyz\\\\\n",
    "\\implies dV=V_xdx+V_ydy+V_zdz\\\\\n",
    "=yzdx+xzdy+xydz\\\\\n",
    "=200dx+100dy+50dz\\\\\n",
    "=200 \\cdot 0.1+100 \\cdot 0.1+50 \\cdot 0.1\\\\\n",
    "=35$ 立方厘米  \n",
    "体积误差为 $\\pm 35$ 立方厘米"
   ]
  },
  {
   "cell_type": "markdown",
   "metadata": {},
   "source": [
    "### 问题2C-3\n",
    "- a) $A=\\frac{1}{2}ab\\sin{\\theta}\\\\\n",
    "\\implies dA=A_ada+A_bdb+A_{\\theta}d\\theta\\\\\n",
    "=\\frac{b\\sin{\\theta}}{2}da+\\frac{a\\sin{\\theta}}{2}db+\\frac{ab\\cos{\\theta}}{2}d\\theta$\n",
    "- b) $dw(a=1, b=2, \\theta=\\pi/6)=\\frac{da}{2}+\\frac{db}{4}+\\frac{\\sqrt{3}}{2}d\\theta$  \n",
    "由于 $\\frac{\\sqrt{3}}{2} \\gt \\frac{1}{2} \\gt \\frac{1}{4}$ 因此 $A$ 对于 $\\theta$ 的变化最敏感，对于 $b$ 最不敏感\n",
    "- c) $dw=\\frac{da}{2}+\\frac{db}{4}+\\frac{\\sqrt{3}}{2}d\\theta=(\\frac{1}{2}+\\frac{1}{4}+\\frac{\\sqrt{3}}{2}) \\cdot 0.02 \\approx 1.62$"
   ]
  },
  {
   "cell_type": "markdown",
   "metadata": {},
   "source": [
    "### 问题2C-5\n",
    "- a) $\\frac{1}{w}=\\frac{1}{t}+\\frac{1}{u}+\\frac{1}{v}\\\\\n",
    "\\implies -\\frac{1}{w^2}dw=-\\frac{1}{t^2}dt-\\frac{1}{u^2}du-\\frac{1}{v^2}dv\\\\\n",
    "\\implies dw=\\frac{w^2}{t^2}dt+\\frac{w^2}{u^2}du+\\frac{w^2}{v^2}dv$\n",
    "- b) $u^2+2v^2+3w^2=10\\\\\n",
    "\\implies 2udu+4vdv+6wdw=0\\\\\n",
    "\\implies dw=-\\frac{1}{3}du-\\frac{2}{3}dv$"
   ]
  },
  {
   "cell_type": "markdown",
   "metadata": {},
   "source": [
    "### 问题2C-1\n",
    "- b) $w=x^3y^2z\\\\\n",
    "\\implies dw=w_xdx+w_ydy+w_zdz\\\\\n",
    "=3x^2y^2zdx+2x^3yzdy+x^3y^2dz$\n",
    "- c) $z=\\frac{x-y}{x+y}=1-\\frac{2y}{x+y}\\\\\n",
    "\\implies dz=z_xdx+z_ydy\\\\\n",
    "=\\frac{2y}{(x+y)^2}dx-\\frac{2x}{(x+y)^2}dy$"
   ]
  }
 ],
 "metadata": {
  "language_info": {
   "name": "python"
  }
 },
 "nbformat": 4,
 "nbformat_minor": 2
}
