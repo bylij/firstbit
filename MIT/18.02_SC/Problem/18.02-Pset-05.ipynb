{
 "cells": [
  {
   "cell_type": "markdown",
   "metadata": {},
   "source": [
    ">https://ocw.mit.edu/courses/18-02sc-multivariable-calculus-fall-2010/resources/mit18_02sc_supprob2/"
   ]
  },
  {
   "cell_type": "markdown",
   "metadata": {},
   "source": [
    "## Part $\\mathrm{I}$"
   ]
  },
  {
   "cell_type": "markdown",
   "metadata": {},
   "source": [
    "### 问题2C-1\n",
    "- a) $w=\\ln{xyz}\\\\\n",
    "\\implies dw=w_xdx+w_ydy+w_zdz\\\\\n",
    "=(\\frac{1}{xyz} \\cdot yz)dx+(\\frac{1}{xyz} \\cdot xz)dy+(\\frac{1}{xyz} \\cdot xy)dz\\\\\n",
    "=\\frac{dx}{x}+\\frac{dy}{y}+\\frac{dz}{z}$\n",
    "- d) $w=\\sin^{-1}\\frac{u}{t}\\\\\n",
    "\\implies dw=w_udu+w_tdt\\\\\n",
    "=(\\frac{1}{\\sqrt{1-(\\frac{u}{t})^2}} \\cdot \\frac{1}{t})du+(\\frac{1}{\\sqrt{1-(\\frac{u}{t})^2}} \\cdot -\\frac{u}{t^2})dt\\\\\n",
    "=\\frac{|t|du}{t\\sqrt{t^2-u^2}}-\\frac{udt}{|t|\\sqrt{t^2-u^2}}\\\\\n",
    "=\\frac{t^2du-tudt}{t|t|\\sqrt{t^2-u^2}}\\\\\n",
    "=\\frac{tdu-udt}{|t|\\sqrt{t^2-u^2}}$"
   ]
  },
  {
   "cell_type": "markdown",
   "metadata": {},
   "source": [
    "### 问题2C-2\n",
    "- 设三边 $x=5, y=10, z=20$ 体积为 $V$  \n",
    "$V=xyz\\\\\n",
    "\\implies dV=V_xdx+V_ydy+V_zdz\\\\\n",
    "=yzdx+xzdy+xydz\\\\\n",
    "=200dx+100dy+50dz\\\\\n",
    "=200 \\cdot 0.1+100 \\cdot 0.1+50 \\cdot 0.1\\\\\n",
    "=35$ 立方厘米  \n",
    "体积误差为 $\\pm 35$ 立方厘米"
   ]
  },
  {
   "cell_type": "markdown",
   "metadata": {},
   "source": [
    "### 问题2C-3\n",
    "- a) $A=\\frac{1}{2}ab\\sin{\\theta}\\\\\n",
    "\\implies dA=A_ada+A_bdb+A_{\\theta}d\\theta\\\\\n",
    "=\\frac{b\\sin{\\theta}}{2}da+\\frac{a\\sin{\\theta}}{2}db+\\frac{ab\\cos{\\theta}}{2}d\\theta$\n",
    "- b) $dw(a=1, b=2, \\theta=\\pi/6)=\\frac{da}{2}+\\frac{db}{4}+\\frac{\\sqrt{3}}{2}d\\theta$  \n",
    "由于 $\\frac{\\sqrt{3}}{2} \\gt \\frac{1}{2} \\gt \\frac{1}{4}$ 因此 $A$ 对于 $\\theta$ 的变化最敏感，对于 $b$ 最不敏感\n",
    "- c) $dw=\\frac{da}{2}+\\frac{db}{4}+\\frac{\\sqrt{3}}{2}d\\theta=(\\frac{1}{2}+\\frac{1}{4}+\\frac{\\sqrt{3}}{2}) \\cdot 0.02 \\approx 1.62$"
   ]
  },
  {
   "cell_type": "markdown",
   "metadata": {},
   "source": [
    "### 问题2C-5\n",
    "- a) $\\frac{1}{w}=\\frac{1}{t}+\\frac{1}{u}+\\frac{1}{v}\\\\\n",
    "\\implies -\\frac{1}{w^2}dw=-\\frac{1}{t^2}dt-\\frac{1}{u^2}du-\\frac{1}{v^2}dv\\\\\n",
    "\\implies dw=\\frac{w^2}{t^2}dt+\\frac{w^2}{u^2}du+\\frac{w^2}{v^2}dv$\n",
    "- b) $u^2+2v^2+3w^2=10\\\\\n",
    "\\implies 2udu+4vdv+6wdw=0\\\\\n",
    "\\implies dw=-\\frac{1}{3}du-\\frac{2}{3}dv$"
   ]
  },
  {
   "cell_type": "markdown",
   "metadata": {},
   "source": [
    "### 问题2C-1\n",
    "- b) $w=x^3y^2z\\\\\n",
    "\\implies dw=w_xdx+w_ydy+w_zdz\\\\\n",
    "=3x^2y^2zdx+2x^3yzdy+x^3y^2dz$\n",
    "- c) $z=\\frac{x-y}{x+y}=1-\\frac{2y}{x+y}\\\\\n",
    "\\implies dz=z_xdx+z_ydy\\\\\n",
    "=\\frac{2y}{(x+y)^2}dx-\\frac{2x}{(x+y)^2}dy$"
   ]
  },
  {
   "cell_type": "markdown",
   "metadata": {},
   "source": [
    "### 问题2E-1\n",
    "- c) (i) $\\frac{dw}{dt}=\\frac{\\partial{w}}{\\partial{u}}\\frac{du}{dt}+\\frac{\\partial{w}}{\\partial{v}}\\frac{dv}{dt}\\\\\n",
    "=\\frac{2u}{u^2+v^2} \\cdot (-2\\sin{t})+\\frac{2v}{u^2+v^2} \\cdot 2\\cos{t}\\\\\n",
    "=\\frac{2 \\cdot 2\\cos{t}}{4\\cos^2{t}+4\\sin^2{t}} \\cdot (-2\\sin{t})+\\frac{2 \\cdot 2\\sin{t}}{4\\cos^2{t}+4\\sin^2{t}} \\cdot 2\\cos{t}\\\\\n",
    "=0$  \n",
    "(ii) $w=\\ln{(u^2+v^2)}=\\ln{(4\\cos^2{t}+4\\sin^2{t})}=\\ln{4} \\implies \\frac{dw}{dt}=0$"
   ]
  },
  {
   "cell_type": "markdown",
   "metadata": {},
   "source": [
    "### 问题2E-2\n",
    "- b) $\\frac{dw}{dt}=w_x\\frac{dx}{dt}+w_y\\frac{dy}{dt}=\\nabla w \\cdot <\\frac{dx}{dt}, \\frac{dy}{dt}>$ $\\textcircled{1}$  \n",
    "$t=0 \\implies (x, y)=(1, 0)$ 同时 $\\frac{dx}{dt}=-\\sin{t}=0, \\frac{dy}{dt}=\\cos{t}=1$ 带入到 $\\textcircled{1}$ 得 $\\frac{dw}{dt}=<2,3> \\cdot <0, 1>=3$\n",
    "- c) $t=1 \\implies (x, y, z)=(1, 1, 1)$ 同时 $\\frac{dx}{dt}=1, \\frac{dy}{dt}=2t=2, \\frac{dz}{dt}=3t^2=3$  \n",
    "则 $\\frac{df}{dt}=\\nabla f \\cdot <\\frac{dx}{dt},\\frac{dy}{dt},\\frac{dz}{dt}>=<1,-1,2> \\cdot <1,2,3>=5$"
   ]
  },
  {
   "cell_type": "markdown",
   "metadata": {},
   "source": [
    "### 问题2E-8\n",
    "- a) $\\frac{\\partial{w}}{\\partial{x}}=\\frac{df}{du}\\frac{\\partial{u}}{\\partial{x}}=\\frac{df}{du} \\cdot (-\\frac{y}{x^2})=-\\frac{y}{x^2}\\frac{df}{du}, \\frac{\\partial{w}}{\\partial{y}}=\\frac{df}{du}\\frac{\\partial{u}}{\\partial{y}}=\\frac{df}{du} \\cdot \\frac{1}{x}=\\frac{1}{x}\\frac{df}{du}$  \n",
    "可得 $x\\frac{\\partial{w}}{\\partial{x}}+y\\frac{\\partial{w}}{\\partial{y}}=x \\cdot -\\frac{y}{x^2}\\frac{df}{du}+y \\cdot \\frac{1}{x}\\frac{df}{du}=(-\\frac{y}{x}+\\frac{y}{x})\\frac{df}{du}=0$ 即满足微分方程"
   ]
  },
  {
   "cell_type": "markdown",
   "metadata": {},
   "source": [
    "### 问题2E-1\n",
    "- a) (i) $\\frac{dw}{dt}=w_x\\frac{dx}{dt}+w_y\\frac{dy}{dt}+w_z\\frac{dz}{dt}\\\\\n",
    "=yz \\cdot 1+xz \\cdot 2t+xy \\cdot 3t^2\\\\\n",
    "=t^2 \\cdot t^3+t \\cdot t^3 \\cdot 2t+t \\cdot t^2 \\cdot 3t^2\\\\\n",
    "=6t^5$  \n",
    "(ii) $w=xyz=t \\cdot t^2 \\cdot t^3=t^6 \\implies \\frac{dw}{dt}=6t^5$\n",
    "- b) (i) $\\frac{dw}{dt}=w_x\\frac{dx}{dt}+w_y\\frac{dy}{dt}\\\\\n",
    "=2x \\cdot (-\\sin{t})+(-2y) \\cdot \\cos{t}\\\\\n",
    "=2\\cos{t} \\cdot (-\\sin{t})-2\\sin{t} \\cdot \\cos{t}\\\\\n",
    "=-4\\cos{t}\\sin{t}$  \n",
    "(ii) $w=x^2-y^2=\\cos^2{t}-\\sin^2{t}=2\\cos{t} \\cdot (-\\sin{t})-2\\sin{t} \\cdot \\cos{t}=-4\\cos{t}\\sin{t}$"
   ]
  },
  {
   "cell_type": "markdown",
   "metadata": {},
   "source": [
    "### 问题2E-2\n",
    "- d) $\\frac{df}{dt}=\\nabla f \\cdot <\\frac{dx}{dt},\\frac{dy}{dt},\\frac{dz}{dt}>\\\n",
    "=<3x^2y,x^3+z,y> \\cdot <1,2t,3t^2>\\\\\n",
    "=<3t^4,2x^3,t^2> \\cdot <1,2t,3t^2>\\\\\n",
    "=10t^4$"
   ]
  },
  {
   "cell_type": "markdown",
   "metadata": {},
   "source": [
    "### 问题2E-4\n",
    "- $\\frac{\\partial{w}}{\\partial{u}}=w_x\\frac{\\partial{x}}{\\partial{u}}+w_y\\frac{\\partial{y}}{\\partial{u}}\\\\\n",
    "=<w_x, w_y> \\cdot <\\frac{\\partial{x}}{\\partial{u}},\\frac{\\partial{y}}{\\partial{u}}>\\\n",
    "=\\nabla w \\cdot <2u,v>\\\\\n",
    "=<2,3> \\cdot <2,1>\\\\\n",
    "=7$"
   ]
  },
  {
   "cell_type": "markdown",
   "metadata": {},
   "source": [
    "### 问题2E-5\n",
    "- a) $(w_r)^2+\\frac{1}{r^2}(w_\\theta)^2=(w_x\\frac{\\partial{x}}{\\partial{r}}+w_y\\frac{\\partial{y}}{\\partial{r}})^2+\\frac{1}{r^2}(w_x\\frac{\\partial{x}}{\\partial{\\theta}}+w_y\\frac{\\partial{y}}{\\partial{\\theta}})^2\\\\\n",
    "=(w_x\\cos{\\theta}+w_y\\sin{\\theta})^2+\\frac{1}{r^2}(w_x \\cdot -r\\sin{\\theta}+w_y \\cdot r\\cos{\\theta})^2\\\\\n",
    "=(w_x\\cos{\\theta}+w_y\\sin{\\theta})^2+\\frac{1}{r^2} \\cdot r^2(w_y\\cos{\\theta}-w_x\\sin{\\theta})^2\\\\\n",
    "=w_x^2\\cos^2{\\theta}+w_y^2\\sin^2{\\theta}+2w_xw_y\\cos{\\theta}\\sin{\\theta}+w_y^2\\cos^2{\\theta}+w_x^2\\sin^2{\\theta}-2w_yw_x\\cos{\\theta}\\sin{\\theta}\\\\\n",
    "=w_x^2(\\cos^2{\\theta}+\\sin^2{\\theta})+w_y^2(sin^2{\\theta}+\\cos^2{\\theta})\\\\\n",
    "=(w_x)^2+(w_y)^2$"
   ]
  },
  {
   "cell_type": "markdown",
   "metadata": {},
   "source": [
    "### 问题2E-7\n",
    "- $\\nabla f(u, v)=<f_u,f_v>=<f_xx_u+f_yy_u,f_xx_v+f_yy_v>$ $\\textcircled{1}$  \n",
    "$\\nabla f(x, y) \\cdot J=<f_x,f_y> \\cdot \\begin{pmatrix}x_u,x_v\\\\y_u,y_v\\end{pmatrix}=<f_xx_u+f_yy_u,f_xx_v+f_yy_v>$ $\\textcircled{2}$  \n",
    "结合 $\\textcircled{1}$ 和 $\\textcircled{2}$ 可证等式成立"
   ]
  },
  {
   "cell_type": "markdown",
   "metadata": {},
   "source": [
    "### 问题2D-1\n",
    "- a) $f(x, y)=x^3+2y^3 \\implies \\nabla f=<f_x,f_y>=<3x^2,6y^2>$  \n",
    "$\\nabla f(1, 1)=<3,6>$  \n",
    "$\\hat{u}=\\frac{\\vec{A}}{|\\vec{A}|}=<\\frac{1}{\\sqrt{2}},-\\frac{1}{\\sqrt{2}}>$  \n",
    "$\\frac{df}{ds}|_{\\hat{u}}=\\nabla f \\cdot \\hat{u}=<3,6> \\cdot <\\frac{1}{\\sqrt{2}},-\\frac{1}{\\sqrt{2}}>=-\\frac{3}{\\sqrt{2}}$\n",
    "- e) $f(u, v, w)=(u+2v+3w)^2 \\implies \\nabla f=<f_u,f_v,f_w>=<2(u+2v+3w),4(u+2v+3w),6(u+2v+3w)>$  \n",
    "$\\nabla f(1, -1, 1)=<4,8,12>$  \n",
    "$\\hat{u}=\\frac{\\vec{A}}{|\\vec{A}|}=<-\\frac{2}{3},\\frac{2}{3},-\\frac{1}{3}>$  \n",
    "$\\frac{df}{ds}|_{\\hat{u}}=\\nabla f \\cdot \\hat{u}=<4,8,12> \\cdot <-\\frac{2}{3},\\frac{2}{3},-\\frac{1}{3}>=-\\frac{4}{3}$"
   ]
  },
  {
   "cell_type": "markdown",
   "metadata": {},
   "source": [
    "### 问题2D-2\n",
    "- b) $\\nabla w=<w_x,w_y,w_z>=<y+z,x+z,x+y> \\implies \\nabla w(1, -1, 2)=<1,3,0>$  \n",
    "(i) $\\frac{dw}{ds}|_{\\hat{u}}=\\nabla w(1, -1, 2) \\cdot \\hat{u}=|<1,3,0>|\\cos{\\theta}=\\sqrt{10}\\cos{\\theta}$ 最大值 $\\sqrt{10}$ 最小值 $-\\sqrt{10}$  \n",
    "(ii) $\\theta=0$ 即 $\\nabla w$ 方向取得最大值，$\\theta=\\pi$ 即 $-\\nabla w$ 方向取得最小值  \n",
    "(iii) $\\frac{dw}{ds}|_{\\hat{u}}=0 \\implies \\sqrt{10}\\cos{\\theta}=0 \\implies \\theta=\\frac{\\pi}{2}$ 即与 $\\nabla w$ 垂直方向取 $0$"
   ]
  },
  {
   "cell_type": "markdown",
   "metadata": {},
   "source": [
    "### 问题2D-3\n",
    "- a) 曲面 $xy^2z^3=12$ 可以看作函数 $f(x, y, z)=xy^2z^3$ 在 $f=12$ 的等值面，其梯度向量 $\\nabla f=<f_x,f_y,f_z>=<y^2z^3,2xyz^3,3xy^2z^2>$  \n",
    "点 $(3, 2, 1)$ 处的梯度向量 $\\nabla f(3, 2, 1)=<4,12,36>$ 即为曲面在该点处的法向量  \n",
    "由法点公式得切面方程 $4(x-3)+12(y-2)+36(z-1)=0 \\implies x+3y+9z=18$"
   ]
  },
  {
   "cell_type": "markdown",
   "metadata": {},
   "source": [
    "### 问题2D-8\n",
    "- $P=30+(1+x)(2+y)e^z \\implies \\nabla P=<P_x,P_y,p_z>=<(2+y)e^z,(1+x)e^z,(1+x)(2+y)e^z>$  \n",
    "原点 $(0, 0, 0)$ 附近 $\\nabla P=<P_x,P_y,P_z> \\approx <2,1,2>$ 且 $P(0, 0, 0)=30+1 \\cdot 2 \\cdot e^0=32$  \n",
    "线性近似公式 $P \\approx P(0, 0, 0)+P_xx+P_yy+P_zz \\implies 31.1 \\approx 32+2x+y+2z \\implies 2x+y+2z \\approx -0.9$  \n",
    "得到限制条件 $g(x, y, z)=2x+y+2z=-0.9$，同时 $f(x, y, z)=x^2+y^2+z^2$ 欲求最小值  \n",
    "通过拉格朗日算子法得 $\\begin{cases}\\nabla f=\\lambda \\nabla g\\\\g(x, y, z)=-0.9\\end{cases} \\implies \\begin{cases}2x=2\\lambda\\\\2y=\\lambda\\\\2z=2\\lambda\\\\2x+y+2z=-0.9\\end{cases}$ 解得 $(x, y, z)=(-0.2, -0.1, -0.2)$  \n",
    "验证：  \n",
    "取平面 $2x+y+2z=-0.9$ 上任一点 $(0, -0.9, 0)$ 得原点向量 $\\vec{A}=<0, -0.9, 0>$，平面单位法向量 $\\hat{n}=\\frac{<2,1,2>}{\\sqrt{2^2+1^2+2^2}}=<\\frac{2}{3},\\frac{1}{3},\\frac{2}{3}>$  \n",
    "可得原点到平面距离 $|\\vec{A} \\cdot \\hat{n}|=|<0, -0.9, 0> \\cdot <\\frac{2}{3},\\frac{1}{3},\\frac{2}{3}>|=0.3$  \n",
    "而点 $(-0.2, -0.1, -0.2)$ 到原点距离 $\\sqrt{(-0.2)^2+(-0.1)^2+(-0.2)^2}=0.3$ 与上面原点到平面距离相等，满足离原点最近得条件  \n",
    "因此答案为 原点附近最近的点 $(-0.2, -0.1, -0.2)$ 压强约为 $31.1$"
   ]
  },
  {
   "cell_type": "markdown",
   "metadata": {},
   "source": [
    "### 问题2D-9\n",
    "- a) $A$ 点的梯度向量为垂直于该点切线朝向里的向量，已在草纸上绘图，此处省略\n",
    "- b) $B$ 点在等值线 $w=3$ 最上或最下点\n",
    "- c) $B$ 点在等值线 $w=3$ 最左或最右点\n",
    "- d) $P$ 点处对比水平和垂直方向上等值线的跨度，$\\frac{\\partial{w}}{\\partial{x}} \\approx \\frac{\\Delta{w}}{\\Delta{x}}=\\frac{-1}{1.5}=-\\frac{2}{3}$ 同时 $\\frac{\\partial{w}}{\\partial{y}} \\approx \\frac{\\Delta{w}}{\\Delta{y}}=\\frac{-1}{1}=-1$\n",
    "- e) 采用 d) 中类似方法预测 $Q$ 点 $\\frac{\\partial{w}}{\\partial{x}} \\approx \\frac{1}{2}, \\frac{\\partial{w}}{\\partial{y}} \\approx \\frac{1}{2} \\implies \\nabla w \\approx <\\frac{1}{2},\\frac{1}{2}> \\implies \\frac{dw}{ds}|_{\\hat{u}} \\approx \\nabla w \\cdot \\hat{u}=<\\frac{1}{2},\\frac{1}{2}> \\cdot \\frac{<1,1>}{\\sqrt{1^2+1^2}}=\\frac{1}{\\sqrt{2}}$\n",
    "- f) 利用 e) 中结果 $Q$ 点梯度向量 $\\nabla w \\approx <\\frac{1}{2}, \\frac{1}{2}> \\implies \\frac{dw}{ds}|_{\\hat{u}} \\approx <\\frac{1}{2}, \\frac{1}{2}> \\cdot \\frac{<1,-1>}{\\sqrt{1^2+(-1)^2}}=0$\n",
    "- g) 在等值线图中心位置 $\\nabla w=\\vec{0}$，此处为极大值点"
   ]
  },
  {
   "cell_type": "markdown",
   "metadata": {},
   "source": [
    "### 问题2D-1\n",
    "- b) $w=\\frac{xy}{z} \\implies \\nabla w=<w_x,w_y,w_z>=<\\frac{y}{z},\\frac{x}{z},-\\frac{xy}{z^2}>$  \n",
    "$\\nabla w(2, -1, 1)=<-1,2,2>$，$\\frac{dw}{ds}|_{\\hat{u}}=\\nabla w \\cdot \\hat{u}=<-1,2,2> \\cdot \\frac{<1,2,-2>}{\\sqrt{1^2+2^2+(-2)^2}}=-\\frac{1}{3}$\n",
    "- c) $z=x\\sin{y}+y\\cos{x} \\implies \\nabla z=<z_x,z_y>=<\\sin{y}-y\\sin{x},x\\cos{y}+\\cos{x}>$  \n",
    "$\\nabla z(0, \\pi/2)=<1,1>$，$\\frac{dw}{ds}|_{\\hat{u}}=\\nabla z \\cdot \\hat{u}=<1,1> \\cdot \\frac{<-3,4>}{\\sqrt{(-3)^2+(4)^2}}=\\frac{1}{5}$"
   ]
  },
  {
   "cell_type": "markdown",
   "metadata": {},
   "source": [
    "### 问题2D-2\n",
    "- a) $w=\\ln{(4x-3y)} \\implies \\nabla w=<w_x,w_y>=<\\frac{4}{4x-3y},-\\frac{3}{4x-3y}>$  \n",
    "$\\frac{dw}{ds}|_{\\hat{u}}=\\nabla w \\cdot \\hat{u}=|\\nabla w|\\cos{\\theta}=|<4,-3>|\\cos{\\theta}$ 其中 $\\theta$ 为 $\\nabla w$ 与 $\\hat{u}$ 的夹角  \n",
    "(i) $\\max{\\frac{dw}{ds}|_{\\hat{u}}}=|<4,-3>|=5, \\min{\\frac{dw}{ds}|_{\\hat{u}}}=-|<4,-3>|=-5$  \n",
    "(ii) 当 $\\hat{u}$ 与 $\\nabla w$ 同方向时取最大值，与 $\\nabla w$ 反方向时取最小值  \n",
    "(iii) $\\frac{dw}{ds}|_{\\hat{u}}=0 \\implies |<4,-3>|\\cos{\\theta} \\implies \\cos{\\theta}=0 \\implies \\theta=\\frac{\\pi}{2}$，即 $\\hat{u} \\perp \\nabla w$ 时满足条件"
   ]
  },
  {
   "cell_type": "markdown",
   "metadata": {},
   "source": [
    "### 问题2D-3\n",
    "- b) 曲面 $x^2+4y^2+9z^2=14$ 看作函数 $w=x^2+4y^2+9z^2$ 的 $w=14$ 的等值面，可得 $\\nabla w=<2x,8y,18z>$  \n",
    "$\\nabla w$ 垂直于等值面，可得 $(1, 1, 1)$ 点处的法向量 $\\vec{N}=\\nabla w(1, 1, 1)=<2,8,18>$  \n",
    "法点方程得平面 $2(x-1)+8(y-1)+18(z-1)=0 \\implies x+4y+9z=14$"
   ]
  },
  {
   "cell_type": "markdown",
   "metadata": {},
   "source": [
    "### 问题2D-4\n",
    "- a) $\\nabla T=<T_x,T_y>=<\\frac{2x}{x^2+y^2},\\frac{2y}{x^2+y^2}>$ 在 $P=(1, 2)$ 点，$\\nabla T(1, 2)=<\\frac{2}{5},\\frac{4}{5}>$ 方向温度增速最快，方向向量 $dir(\\nabla T)=<\\frac{1}{\\sqrt{5}},\\frac{2}{\\sqrt{5}}>$\n",
    "- b) $\\frac{dT}{ds}|_{\\hat{u}}=\\nabla T \\cdot dir(\\nabla T)=\\nabla T \\cdot \\frac{\\nabla T}{|\\nabla T|}=|\\nabla T| \\implies ds=\\frac{dT}{|\\nabla T|}=\\frac{.20}{\\sqrt{(\\frac{2}{5})^2+(\\frac{4}{5}})^2}=\\frac{1}{\\sqrt{20}} \\approx .22$\n",
    "- c) $\\frac{dT}{ds}|_{\\hat{u^\\prime}}=\\nabla T \\cdot \\vec{u^\\prime} \\implies ds=\\frac{dT}{\\nabla T \\cdot \\vec{u^\\prime}}=\\frac{.12}{<\\frac{2}{5},\\frac{4}{5}> \\cdot \\frac{<1,1>}{\\sqrt{1^2+1^2}}}=\\frac{\\sqrt{2}}{10} \\approx .14$\n",
    "- d) 与 $\\nabla T$ 垂直方向上 $dT=0$ 满足条件，$\\hat{u_1}=<-\\frac{2}{\\sqrt{5}}, \\frac{1}{\\sqrt{5}}>$ 或 $\\hat{u_2}=<\\frac{2}{\\sqrt{5}}, -\\frac{1}{\\sqrt{5}}>$ 的方向均可满足条件"
   ]
  },
  {
   "cell_type": "markdown",
   "metadata": {},
   "source": [
    "### 问题2D-5\n",
    "- a) 等温集合方程 $x^2+2y^2+2z^2=C$ 其中 $C$是常数，随着 $C$ 取不同的正整数，可以得到一系列椭圆球面，即等温集合为一组椭圆球面\n",
    "- b) $-\\nabla T$ 方向温度下降最快，$\\nabla T=<2x,4y,4z> \\implies -\\nabla T(1, 1, 1)=<-2, -4, -4> \\implies dir(-\\nabla T(1, 1, 1)=<-\\frac{1}{3},-\\frac{2}{3},-\\frac{2}{3}>)$ 即 $\\hat{u}=<-\\frac{1}{3},-\\frac{2}{3},-\\frac{2}{3}>$ 方向\n",
    "- c) $\\frac{dT}{ds}|_{\\hat{u}}=\\nabla T \\cdot \\hat{u} \\implies ds=\\frac{dT}{\\nabla T \\cdot \\hat{u}}=\\frac{-1.2}{<2, 4, 4> \\cdot <-\\frac{1}{3},-\\frac{2}{3},-\\frac{2}{3}>}=0.2$ 即沿着 b) 中方向向量走 0.2 温度下降 1.2\n",
    "- d) $\\frac{dT}{ds}|_{\\hat{u^\\prime}}=\\nabla T \\cdot \\hat{u^\\prime} \\implies ds=\\frac{dT}{\\nabla T \\cdot \\hat{u^\\prime}}=\\frac{.10}{<2,4,4> \\cdot \\frac{<1,-2,2>}{\\sqrt{1^2+(-2)^2+2^2}}}=.15$ 验证题目中向量方向走 0.15 温度增加 0.10"
   ]
  },
  {
   "cell_type": "markdown",
   "metadata": {},
   "source": [
    "### 问题2E-7\n",
    "- 前面已完成，这里省略"
   ]
  },
  {
   "cell_type": "markdown",
   "metadata": {},
   "source": [
    ">https://ocw.mit.edu/courses/18-02sc-multivariable-calculus-fall-2010/resources/mit18_02sc_pset5/"
   ]
  },
  {
   "cell_type": "markdown",
   "metadata": {},
   "source": [
    "## Part $\\mathrm{II}$"
   ]
  },
  {
   "cell_type": "markdown",
   "metadata": {},
   "source": [
    "### 问题1\n",
    "- a) $R=k\\frac{w}{r^4} \\implies \\Delta{R} \\approx R_w\\Delta{w}+R_r\\Delta{r}=\\frac{k}{r^4}\\Delta{w}-\\frac{4kw}{r^5}\\Delta{r}$\n",
    "- b) 利用 a) 中结果 $\\frac{\\Delta{R}}{R} \\approx \\frac{k}{r^4R}\\Delta{w}-\\frac{4kw}{r^5R}\\Delta{r}=\\frac{kw}{r^4R} \\cdot \\frac{\\Delta{w}}{w}-\\frac{4kw}{r^4R} \\cdot \\frac{\\Delta{r}}{r}=\\frac{kw}{r^4R}(\\frac{\\Delta{w}}{w}-4\\frac{\\Delta{r}}{r})$\n",
    "- c) 根据 b) 中结果，$\\frac{\\Delta{r}}{r}$ 的系数绝对值更大，因此影响也更大  \n",
    "$\\frac{\\Delta{w}}{w}$ 和 $\\frac{\\Delta{r}}{r}$ 的系数符号相反，因此要获得 $\\frac{\\Delta{R}}{R}$ 最大值 $\\Delta{w}$ 和 $\\Delta{r}$ 应取相反符号效果最好"
   ]
  },
  {
   "cell_type": "markdown",
   "metadata": {},
   "source": [
    "### 问题2\n",
    "- $\\frac{d}{dt}f(\\vec{r}(t), t)=\\frac{\\partial{f(x, y, z, t)}}{\\partial{t}}\\\\\n",
    "=f_x \\cdot \\frac{dx}{dt}+f_y \\cdot \\frac{dy}{dt}+f_z \\cdot \\frac{dz}{dt}+f_t \\cdot \\frac{dt}{dt}\\\\\n",
    "=<f_x,f_y,f_z> \\cdot <\\frac{dx}{dt},\\frac{dy}{dt},\\frac{dz}{dt}>+f_t \\cdot 1\\\\\n",
    "=\\nabla f \\cdot \\frac{d\\vec{r}}{dt}+f_t\\\\\n",
    "=\\nabla f \\cdot \\vec{v}+\\frac{\\partial{f}}{\\partial{t}}$"
   ]
  },
  {
   "cell_type": "markdown",
   "metadata": {},
   "source": [
    "### 问题3\n",
    "- 根据 问题2 $\\frac{D\\rho}{Dt}=\\frac{\\partial{\\rho}}{\\partial{t}}+\\nabla \\rho \\cdot \\vec{v}$  \n",
    "根据题意 $\\rho(x, y, z)=C \\implies \\nabla \\rho=<\\rho_x,\\rho_y,\\rho_z>=<0,0,0> \\implies \\frac{D\\rho}{Dt}=\\frac{\\partial{\\rho}}{\\partial{t}}+\\vec{0} \\cdot \\vec{v}=\\frac{\\partial{\\rho}}{\\partial{t}}$  \n",
    "因此 $\\frac{D\\rho}{Dt}=0 \\iff \\frac{\\partial{\\rho}}{\\partial{t}}=0$"
   ]
  }
 ],
 "metadata": {
  "language_info": {
   "name": "python"
  }
 },
 "nbformat": 4,
 "nbformat_minor": 2
}
