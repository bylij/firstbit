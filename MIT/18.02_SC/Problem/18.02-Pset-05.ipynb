{
 "cells": [
  {
   "cell_type": "markdown",
   "metadata": {},
   "source": [
    ">https://ocw.mit.edu/courses/18-02sc-multivariable-calculus-fall-2010/resources/mit18_02sc_supprob2/"
   ]
  },
  {
   "cell_type": "markdown",
   "metadata": {},
   "source": [
    "## Part $\\mathrm{I}$"
   ]
  },
  {
   "cell_type": "markdown",
   "metadata": {},
   "source": [
    "### 问题2C-1\n",
    "- a) $w=\\ln{xyz}\\\\\n",
    "\\implies dw=w_xdx+w_ydy+w_zdz\\\\\n",
    "=(\\frac{1}{xyz} \\cdot yz)dx+(\\frac{1}{xyz} \\cdot xz)dy+(\\frac{1}{xyz} \\cdot xy)dz\\\\\n",
    "=\\frac{dx}{x}+\\frac{dy}{y}+\\frac{dz}{z}$\n",
    "- d) $w=\\sin^{-1}\\frac{u}{t}\\\\\n",
    "\\implies dw=w_udu+w_tdt\\\\\n",
    "=(\\frac{1}{\\sqrt{1-(\\frac{u}{t})^2}} \\cdot \\frac{1}{t})du+(\\frac{1}{\\sqrt{1-(\\frac{u}{t})^2}} \\cdot -\\frac{u}{t^2})dt\\\\\n",
    "=\\frac{|t|du}{t\\sqrt{t^2-u^2}}-\\frac{udt}{|t|\\sqrt{t^2-u^2}}\\\\\n",
    "=\\frac{t^2du-tudt}{t|t|\\sqrt{t^2-u^2}}\\\\\n",
    "=\\frac{tdu-udt}{|t|\\sqrt{t^2-u^2}}$"
   ]
  },
  {
   "cell_type": "markdown",
   "metadata": {},
   "source": [
    "### 问题2C-2\n",
    "- 设三边 $x=5, y=10, z=20$ 体积为 $V$  \n",
    "$V=xyz\\\\\n",
    "\\implies dV=V_xdx+V_ydy+V_zdz\\\\\n",
    "=yzdx+xzdy+xydz\\\\\n",
    "=200dx+100dy+50dz\\\\\n",
    "=200 \\cdot 0.1+100 \\cdot 0.1+50 \\cdot 0.1\\\\\n",
    "=35$ 立方厘米  \n",
    "体积误差为 $\\pm 35$ 立方厘米"
   ]
  },
  {
   "cell_type": "markdown",
   "metadata": {},
   "source": [
    "### 问题2C-3\n",
    "- a) $A=\\frac{1}{2}ab\\sin{\\theta}\\\\\n",
    "\\implies dA=A_ada+A_bdb+A_{\\theta}d\\theta\\\\\n",
    "=\\frac{b\\sin{\\theta}}{2}da+\\frac{a\\sin{\\theta}}{2}db+\\frac{ab\\cos{\\theta}}{2}d\\theta$\n",
    "- b) $dw(a=1, b=2, \\theta=\\pi/6)=\\frac{da}{2}+\\frac{db}{4}+\\frac{\\sqrt{3}}{2}d\\theta$  \n",
    "由于 $\\frac{\\sqrt{3}}{2} \\gt \\frac{1}{2} \\gt \\frac{1}{4}$ 因此 $A$ 对于 $\\theta$ 的变化最敏感，对于 $b$ 最不敏感\n",
    "- c) $dw=\\frac{da}{2}+\\frac{db}{4}+\\frac{\\sqrt{3}}{2}d\\theta=(\\frac{1}{2}+\\frac{1}{4}+\\frac{\\sqrt{3}}{2}) \\cdot 0.02 \\approx 1.62$"
   ]
  },
  {
   "cell_type": "markdown",
   "metadata": {},
   "source": [
    "### 问题2C-5\n",
    "- a) $\\frac{1}{w}=\\frac{1}{t}+\\frac{1}{u}+\\frac{1}{v}\\\\\n",
    "\\implies -\\frac{1}{w^2}dw=-\\frac{1}{t^2}dt-\\frac{1}{u^2}du-\\frac{1}{v^2}dv\\\\\n",
    "\\implies dw=\\frac{w^2}{t^2}dt+\\frac{w^2}{u^2}du+\\frac{w^2}{v^2}dv$\n",
    "- b) $u^2+2v^2+3w^2=10\\\\\n",
    "\\implies 2udu+4vdv+6wdw=0\\\\\n",
    "\\implies dw=-\\frac{1}{3}du-\\frac{2}{3}dv$"
   ]
  },
  {
   "cell_type": "markdown",
   "metadata": {},
   "source": [
    "### 问题2C-1\n",
    "- b) $w=x^3y^2z\\\\\n",
    "\\implies dw=w_xdx+w_ydy+w_zdz\\\\\n",
    "=3x^2y^2zdx+2x^3yzdy+x^3y^2dz$\n",
    "- c) $z=\\frac{x-y}{x+y}=1-\\frac{2y}{x+y}\\\\\n",
    "\\implies dz=z_xdx+z_ydy\\\\\n",
    "=\\frac{2y}{(x+y)^2}dx-\\frac{2x}{(x+y)^2}dy$"
   ]
  },
  {
   "cell_type": "markdown",
   "metadata": {},
   "source": [
    "### 问题2E-1\n",
    "- c) (i) $\\frac{dw}{dt}=\\frac{\\partial{w}}{\\partial{u}}\\frac{du}{dt}+\\frac{\\partial{w}}{\\partial{v}}\\frac{dv}{dt}\\\\\n",
    "=\\frac{2u}{u^2+v^2} \\cdot (-2\\sin{t})+\\frac{2v}{u^2+v^2} \\cdot 2\\cos{t}\\\\\n",
    "=\\frac{2 \\cdot 2\\cos{t}}{4\\cos^2{t}+4\\sin^2{t}} \\cdot (-2\\sin{t})+\\frac{2 \\cdot 2\\sin{t}}{4\\cos^2{t}+4\\sin^2{t}} \\cdot 2\\cos{t}\\\\\n",
    "=0$  \n",
    "(ii) $w=\\ln{(u^2+v^2)}=\\ln{(4\\cos^2{t}+4\\sin^2{t})}=\\ln{4} \\implies \\frac{dw}{dt}=0$"
   ]
  },
  {
   "cell_type": "markdown",
   "metadata": {},
   "source": [
    "### 问题2E-2\n",
    "- b) $\\frac{dw}{dt}=w_x\\frac{dx}{dt}+w_y\\frac{dy}{dt}=\\nabla w \\cdot <\\frac{dx}{dt}, \\frac{dy}{dt}>$ $\\textcircled{1}$  \n",
    "$t=0 \\implies (x, y)=(1, 0)$ 同时 $\\frac{dx}{dt}=-\\sin{t}=0, \\frac{dy}{dt}=\\cos{t}=1$ 带入到 $\\textcircled{1}$ 得 $\\frac{dw}{dt}=<2,3> \\cdot <0, 1>=3$\n",
    "- c) $t=1 \\implies (x, y, z)=(1, 1, 1)$ 同时 $\\frac{dx}{dt}=1, \\frac{dy}{dt}=2t=2, \\frac{dz}{dt}=3t^2=3$  \n",
    "则 $\\frac{df}{dt}=\\nabla f \\cdot <\\frac{dx}{dt},\\frac{dy}{dt},\\frac{dz}{dt}>=<1,-1,2> \\cdot <1,2,3>=5$"
   ]
  },
  {
   "cell_type": "markdown",
   "metadata": {},
   "source": [
    "### 问题2E-8\n",
    "- a) $\\frac{\\partial{w}}{\\partial{x}}=\\frac{df}{du}\\frac{\\partial{u}}{\\partial{x}}=\\frac{df}{du} \\cdot (-\\frac{y}{x^2})=-\\frac{y}{x^2}\\frac{df}{du}, \\frac{\\partial{w}}{\\partial{y}}=\\frac{df}{du}\\frac{\\partial{u}}{\\partial{y}}=\\frac{df}{du} \\cdot \\frac{1}{x}=\\frac{1}{x}\\frac{df}{du}$  \n",
    "可得 $x\\frac{\\partial{w}}{\\partial{x}}+y\\frac{\\partial{w}}{\\partial{y}}=x \\cdot -\\frac{y}{x^2}\\frac{df}{du}+y \\cdot \\frac{1}{x}\\frac{df}{du}=(-\\frac{y}{x}+\\frac{y}{x})\\frac{df}{du}=0$ 即满足微分方程"
   ]
  },
  {
   "cell_type": "markdown",
   "metadata": {},
   "source": [
    "### 问题2E-1\n",
    "- a) (i) $\\frac{dw}{dt}=w_x\\frac{dx}{dt}+w_y\\frac{dy}{dt}+w_z\\frac{dz}{dt}\\\\\n",
    "=yz \\cdot 1+xz \\cdot 2t+xy \\cdot 3t^2\\\\\n",
    "=t^2 \\cdot t^3+t \\cdot t^3 \\cdot 2t+t \\cdot t^2 \\cdot 3t^2\\\\\n",
    "=6t^5$  \n",
    "(ii) $w=xyz=t \\cdot t^2 \\cdot t^3=t^6 \\implies \\frac{dw}{dt}=6t^5$\n",
    "- b) (i) $\\frac{dw}{dt}=w_x\\frac{dx}{dt}+w_y\\frac{dy}{dt}\\\\\n",
    "=2x \\cdot (-\\sin{t})+(-2y) \\cdot \\cos{t}\\\\\n",
    "=2\\cos{t} \\cdot (-\\sin{t})-2\\sin{t} \\cdot \\cos{t}\\\\\n",
    "=-4\\cos{t}\\sin{t}$  \n",
    "(ii) $w=x^2-y^2=\\cos^2{t}-\\sin^2{t}=2\\cos{t} \\cdot (-\\sin{t})-2\\sin{t} \\cdot \\cos{t}=-4\\cos{t}\\sin{t}$"
   ]
  },
  {
   "cell_type": "markdown",
   "metadata": {},
   "source": [
    "### 问题2E-2\n",
    "- d) $\\frac{df}{dt}=\\nabla f \\cdot <\\frac{dx}{dt},\\frac{dy}{dt},\\frac{dz}{dt}>\\\n",
    "=<3x^2y,x^3+z,y> \\cdot <1,2t,3t^2>\\\\\n",
    "=<3t^4,2x^3,t^2> \\cdot <1,2t,3t^2>\\\\\n",
    "=10t^4$"
   ]
  },
  {
   "cell_type": "markdown",
   "metadata": {},
   "source": [
    "### 问题2E-4\n",
    "- $\\frac{\\partial{w}}{\\partial{u}}=w_x\\frac{\\partial{x}}{\\partial{u}}+w_y\\frac{\\partial{y}}{\\partial{u}}\\\\\n",
    "=<w_x, w_y> \\cdot <\\frac{\\partial{x}}{\\partial{u}},\\frac{\\partial{y}}{\\partial{u}}>\\\n",
    "=\\nabla w \\cdot <2u,v>\\\\\n",
    "=<2,3> \\cdot <2,1>\\\\\n",
    "=7$"
   ]
  },
  {
   "cell_type": "markdown",
   "metadata": {},
   "source": [
    "### 问题2E-5\n",
    "- a) $(w_r)^2+\\frac{1}{r^2}(w_\\theta)^2=(w_x\\frac{\\partial{x}}{\\partial{r}}+w_y\\frac{\\partial{y}}{\\partial{r}})^2+\\frac{1}{r^2}(w_x\\frac{\\partial{x}}{\\partial{\\theta}}+w_y\\frac{\\partial{y}}{\\partial{\\theta}})^2\\\\\n",
    "=(w_x\\cos{\\theta}+w_y\\sin{\\theta})^2+\\frac{1}{r^2}(w_x \\cdot -r\\sin{\\theta}+w_y \\cdot r\\cos{\\theta})^2\\\\\n",
    "=(w_x\\cos{\\theta}+w_y\\sin{\\theta})^2+\\frac{1}{r^2} \\cdot r^2(w_y\\cos{\\theta}-w_x\\sin{\\theta})^2\\\\\n",
    "=w_x^2\\cos^2{\\theta}+w_y^2\\sin^2{\\theta}+2w_xw_y\\cos{\\theta}\\sin{\\theta}+w_y^2\\cos^2{\\theta}+w_x^2\\sin^2{\\theta}-2w_yw_x\\cos{\\theta}\\sin{\\theta}\\\\\n",
    "=w_x^2(\\cos^2{\\theta}+\\sin^2{\\theta})+w_y^2(sin^2{\\theta}+\\cos^2{\\theta})\\\\\n",
    "=(w_x)^2+(w_y)^2$"
   ]
  },
  {
   "cell_type": "markdown",
   "metadata": {},
   "source": [
    "### 问题2E-7\n",
    "- $\\nabla f(u, v)=<f_u,f_v>=<f_xx_u+f_yy_u,f_xx_v+f_yy_v>$ $\\textcircled{1}$  \n",
    "$\\nabla f(x, y) \\cdot J=<f_x,f_y> \\cdot \\begin{pmatrix}x_u,x_v\\\\y_u,y_v\\end{pmatrix}=<f_xx_u+f_yy_u,f_xx_v+f_yy_v>$ $\\textcircled{2}$  \n",
    "结合 $\\textcircled{1}$ 和 $\\textcircled{2}$ 可证等式成立"
   ]
  },
  {
   "cell_type": "markdown",
   "metadata": {},
   "source": [
    "### 问题2D-1\n",
    "- a) $f(x, y)=x^3+2y^3 \\implies \\nabla f=<f_x,f_y>=<3x^2,6y^2>$  \n",
    "$\\nabla f(1, 1)=<3,6>$  \n",
    "$\\hat{u}=\\frac{\\vec{A}}{|\\vec{A}|}=<\\frac{1}{\\sqrt{2}},-\\frac{1}{\\sqrt{2}}>$  \n",
    "$\\frac{df}{ds}|_{\\hat{u}}=\\nabla f \\cdot \\hat{u}=<3,6> \\cdot <\\frac{1}{\\sqrt{2}},-\\frac{1}{\\sqrt{2}}>=-\\frac{3}{\\sqrt{2}}$\n",
    "- e) $f(u, v, w)=(u+2v+3w)^2 \\implies \\nabla f=<f_u,f_v,f_w>=<2(u+2v+3w),4(u+2v+3w),6(u+2v+3w)>$  \n",
    "$\\nabla f(1, -1, 1)=<4,8,12>$  \n",
    "$\\hat{u}=\\frac{\\vec{A}}{|\\vec{A}|}=<-\\frac{2}{3},\\frac{2}{3},-\\frac{1}{3}>$  \n",
    "$\\frac{df}{ds}|_{\\hat{u}}=\\nabla f \\cdot \\hat{u}=<4,8,12> \\cdot <-\\frac{2}{3},\\frac{2}{3},-\\frac{1}{3}>=-\\frac{4}{3}$"
   ]
  },
  {
   "cell_type": "markdown",
   "metadata": {},
   "source": [
    "### 问题2D-2\n",
    "- b) $\\nabla w=<w_x,w_y,w_z>=<y+z,x+z,x+y> \\implies \\nabla w(1, -1, 2)=<1,3,0>$  \n",
    "(i) $\\frac{dw}{ds}|_{\\hat{u}}=\\nabla w(1, -1, 2) \\cdot \\hat{u}=|<1,3,0>|\\cos{\\theta}=\\sqrt{10}\\cos{\\theta}$ 最大值 $\\sqrt{10}$ 最小值 $-\\sqrt{10}$  \n",
    "(ii) $\\theta=0$ 即 $\\nabla w$ 方向取得最大值，$\\theta=\\pi$ 即 $-\\nabla w$ 方向取得最小值  \n",
    "(iii) $\\frac{dw}{ds}|_{\\hat{u}}=0 \\implies \\sqrt{10}\\cos{\\theta}=0 \\implies \\theta=\\frac{\\pi}{2}$ 即与 $\\nabla w$ 垂直方向取 $0$"
   ]
  },
  {
   "cell_type": "markdown",
   "metadata": {},
   "source": [
    "### 问题2D-3\n",
    "- a) 曲面 $xy^2z^3=12$ 可以看作函数 $f(x, y, z)=xy^2z^3$ 在 $f=12$ 的等值面，其梯度向量 $\\nabla f=<f_x,f_y,f_z>=<y^2z^3,2xyz^3,3xy^2z^2>$  \n",
    "点 $(3, 2, 1)$ 处的梯度向量 $\\nabla f(3, 2, 1)=<4,12,36>$ 即为曲面在该点处的法向量  \n",
    "由法点公式得切面方程 $4(x-3)+12(y-2)+36(z-1)=0 \\implies x+3y+9z=18$"
   ]
  },
  {
   "cell_type": "markdown",
   "metadata": {},
   "source": [
    "### 问题2D-8\n",
    "- $P=30+(1+x)(2+y)e^z \\implies \\nabla P=<P_x,P_y,p_z>=<(2+y)e^z,(1+x)e^z,(1+x)(2+y)e^z>$  \n",
    "原点 $(0, 0, 0)$ 附近 $\\nabla P=<P_x,P_y,P_z> \\approx <2,1,2>$ 且 $P(0, 0, 0)=30+1 \\cdot 2 \\cdot e^0=32$  \n",
    "线性近似公式 $P \\approx P(0, 0, 0)+P_xx+P_yy+P_zz \\implies 31.1 \\approx 32+2x+y+2z \\implies 2x+y+2z \\approx -0.9$  \n",
    "得到限制条件 $g(x, y, z)=2x+y+2z=-0.9$，同时 $f(x, y, z)=x^2+y^2+z^2$ 欲求最小值  \n",
    "通过拉格朗日算子法得 $\\begin{cases}\\nabla f=\\lambda \\nabla g\\\\g(x, y, z)=-0.9\\end{cases} \\implies \\begin{cases}2x=2\\lambda\\\\2y=\\lambda\\\\2z=2\\lambda\\\\2x+y+2z=-0.9\\end{cases}$ 解得 $(x, y, z)=(-0.2, -0.1, -0.2)$  \n",
    "验证：  \n",
    "取平面 $2x+y+2z=-0.9$ 上任一点 $(0, -0.9, 0)$ 得原点向量 $\\vec{A}=<0, -0.9, 0>$，平面单位法向量 $\\hat{n}=\\frac{<2,1,2>}{\\sqrt{2^2+1^2+2^2}}=<\\frac{2}{3},\\frac{1}{3},\\frac{2}{3}>$  \n",
    "可得原点到平面距离 $|\\vec{A} \\cdot \\hat{n}|=|<0, -0.9, 0> \\cdot <\\frac{2}{3},\\frac{1}{3},\\frac{2}{3}>|=0.3$  \n",
    "而点 $(-0.2, -0.1, -0.2)$ 到原点距离 $\\sqrt{(-0.2)^2+(-0.1)^2+(-0.2)^2}=0.3$ 与上面原点到平面距离相等，满足离原点最近得条件  \n",
    "因此答案为 原点附近最近的点 $(-0.2, -0.1, -0.2)$ 压强约为 $31.1$"
   ]
  },
  {
   "cell_type": "markdown",
   "metadata": {},
   "source": [
    "### 问题2D-9\n",
    "- a) $A$ 点的梯度向量为垂直于该点切线朝向里的向量，已在草纸上绘图，此处省略\n",
    "- b) $B$ 点在等值线 $w=3$ 最上或最下点\n",
    "- c) $B$ 点在等值线 $w=3$ 最左或最右点\n",
    "- d) $P$ 点处对比水平和垂直方向上等值线的跨度，$\\frac{\\partial{w}}{\\partial{x}} \\approx \\frac{\\Delta{w}}{\\Delta{x}}=\\frac{-1}{1.5}=-\\frac{2}{3}$ 同时 $\\frac{\\partial{w}}{\\partial{y}} \\approx \\frac{\\Delta{w}}{\\Delta{y}}=\\frac{-1}{1}=-1$\n",
    "- e) 采用 d) 中类似方法预测 $Q$ 点 $\\frac{\\partial{w}}{\\partial{x}} \\approx \\frac{1}{2}, \\frac{\\partial{w}}{\\partial{y}} \\approx \\frac{1}{2} \\implies \\nabla w \\approx <\\frac{1}{2},\\frac{1}{2}> \\implies \\frac{dw}{ds}|_{\\hat{u}} \\approx \\nabla w \\cdot \\hat{u}=<\\frac{1}{2},\\frac{1}{2}> \\cdot \\frac{<1,1>}{\\sqrt{1^2+1^2}}=\\frac{1}{\\sqrt{2}}$\n",
    "- f) 利用 e) 中结果 $Q$ 点梯度向量 $\\nabla w \\approx <\\frac{1}{2}, \\frac{1}{2}> \\implies \\frac{dw}{ds}|_{\\hat{u}} \\approx <\\frac{1}{2}, \\frac{1}{2}> \\cdot \\frac{<1,-1>}{\\sqrt{1^2+(-1)^2}}=0$\n",
    "- g) 在等值线图中心位置 $\\nabla w=\\vec{0}$，此处为极大值点"
   ]
  },
  {
   "cell_type": "markdown",
   "metadata": {},
   "source": [
    "### 问题2D-1\n",
    "- b) $w=\\frac{xy}{z} \\implies \\nabla w=<w_x,w_y,w_z>=<\\frac{y}{z},\\frac{x}{z},-\\frac{xy}{z^2}>$  \n",
    "$\\nabla w(2, -1, 1)=<-1,2,2>$，$\\frac{dw}{ds}|_{\\hat{u}}=\\nabla w \\cdot \\hat{u}=<-1,2,2> \\cdot \\frac{<1,2,-2>}{\\sqrt{1^2+2^2+(-2)^2}}=-\\frac{1}{3}$\n",
    "- c) $z=x\\sin{y}+y\\cos{x} \\implies \\nabla z=<z_x,z_y>=<\\sin{y}-y\\sin{x},x\\cos{y}+\\cos{x}>$  \n",
    "$\\nabla z(0, \\pi/2)=<1,1>$，$\\frac{dw}{ds}|_{\\hat{u}}=\\nabla z \\cdot \\hat{u}=<1,1> \\cdot \\frac{<-3,4>}{\\sqrt{(-3)^2+(4)^2}}=\\frac{1}{5}$"
   ]
  },
  {
   "cell_type": "markdown",
   "metadata": {},
   "source": [
    "### 问题2D-2\n",
    "- a) $w=\\ln{(4x-3y)} \\implies \\nabla w=<w_x,w_y>=<\\frac{4}{4x-3y},-\\frac{3}{4x-3y}>$  \n",
    "$\\frac{dw}{ds}|_{\\hat{u}}=\\nabla w \\cdot \\hat{u}=|\\nabla w|\\cos{\\theta}=|<4,-3>|\\cos{\\theta}$ 其中 $\\theta$ 为 $\\nabla w$ 与 $\\hat{u}$ 的夹角  \n",
    "(i) $\\max{\\frac{dw}{ds}|_{\\hat{u}}}=|<4,-3>|=5, \\min{\\frac{dw}{ds}|_{\\hat{u}}}=-|<4,-3>|=-5$  \n",
    "(ii) 当 $\\hat{u}$ 与 $\\nabla w$ 同方向时取最大值，与 $\\nabla w$ 反方向时取最小值  \n",
    "(iii) $\\frac{dw}{ds}|_{\\hat{u}}=0 \\implies |<4,-3>|\\cos{\\theta} \\implies \\cos{\\theta}=0 \\implies \\theta=\\frac{\\pi}{2}$，即 $\\hat{u} \\perp \\nabla w$ 时满足条件"
   ]
  },
  {
   "cell_type": "markdown",
   "metadata": {},
   "source": [
    "### 问题2D-3\n",
    "- b) 曲面 $x^2+4y^2+9z^2=14$ 看作函数 $w=x^2+4y^2+9z^2$ 的 $w=14$ 的等值面，可得 $\\nabla w=<2x,8y,18z>$  \n",
    "$\\nabla w$ 垂直于等值面，可得 $(1, 1, 1)$ 点处的法向量 $\\vec{N}=\\nabla w(1, 1, 1)=<2,8,18>$  \n",
    "法点方程得平面 $2(x-1)+8(y-1)+18(z-1)=0 \\implies x+4y+9z=14$"
   ]
  },
  {
   "cell_type": "markdown",
   "metadata": {},
   "source": [
    "### 问题2D-4\n",
    "- a) $\\nabla T=<T_x,T_y>=<\\frac{2x}{x^2+y^2},\\frac{2y}{x^2+y^2}>$ 在 $P=(1, 2)$ 点，$\\nabla T(1, 2)=<\\frac{2}{5},\\frac{4}{5}>$ 方向温度增速最快，方向向量 $dir(\\nabla T)=<\\frac{1}{\\sqrt{5}},\\frac{2}{\\sqrt{5}}>$\n",
    "- b) $\\frac{dT}{ds}|_{\\hat{u}}=\\nabla T \\cdot dir(\\nabla T)=\\nabla T \\cdot \\frac{\\nabla T}{|\\nabla T|}=|\\nabla T| \\implies ds=\\frac{dT}{|\\nabla T|}=\\frac{.20}{\\sqrt{(\\frac{2}{5})^2+(\\frac{4}{5}})^2}=\\frac{1}{\\sqrt{20}} \\approx .22$\n",
    "- c) $\\frac{dT}{ds}|_{\\hat{u^\\prime}}=\\nabla T \\cdot \\vec{u^\\prime} \\implies ds=\\frac{dT}{\\nabla T \\cdot \\vec{u^\\prime}}=\\frac{.12}{<\\frac{2}{5},\\frac{4}{5}> \\cdot \\frac{<1,1>}{\\sqrt{1^2+1^2}}}=\\frac{\\sqrt{2}}{10} \\approx .14$\n",
    "- d) 与 $\\nabla T$ 垂直方向上 $dT=0$ 满足条件，$\\hat{u_1}=<-\\frac{2}{\\sqrt{5}}, \\frac{1}{\\sqrt{5}}>$ 或 $\\hat{u_2}=<\\frac{2}{\\sqrt{5}}, -\\frac{1}{\\sqrt{5}}>$ 的方向均可满足条件"
   ]
  },
  {
   "cell_type": "markdown",
   "metadata": {},
   "source": [
    "### 问题2D-5\n",
    "- a) 等温集合方程 $x^2+2y^2+2z^2=C$ 其中 $C$是常数，随着 $C$ 取不同的正整数，可以得到一系列椭圆球面，即等温集合为一组椭圆球面\n",
    "- b) $-\\nabla T$ 方向温度下降最快，$\\nabla T=<2x,4y,4z> \\implies -\\nabla T(1, 1, 1)=<-2, -4, -4> \\implies dir(-\\nabla T(1, 1, 1)=<-\\frac{1}{3},-\\frac{2}{3},-\\frac{2}{3}>)$ 即 $\\hat{u}=<-\\frac{1}{3},-\\frac{2}{3},-\\frac{2}{3}>$ 方向\n",
    "- c) $\\frac{dT}{ds}|_{\\hat{u}}=\\nabla T \\cdot \\hat{u} \\implies ds=\\frac{dT}{\\nabla T \\cdot \\hat{u}}=\\frac{-1.2}{<2, 4, 4> \\cdot <-\\frac{1}{3},-\\frac{2}{3},-\\frac{2}{3}>}=0.2$ 即沿着 b) 中方向向量走 0.2 温度下降 1.2\n",
    "- d) $\\frac{dT}{ds}|_{\\hat{u^\\prime}}=\\nabla T \\cdot \\hat{u^\\prime} \\implies ds=\\frac{dT}{\\nabla T \\cdot \\hat{u^\\prime}}=\\frac{.10}{<2,4,4> \\cdot \\frac{<1,-2,2>}{\\sqrt{1^2+(-2)^2+2^2}}}=.15$ 验证题目中向量方向走 0.15 温度增加 0.10"
   ]
  },
  {
   "cell_type": "markdown",
   "metadata": {},
   "source": [
    "### 问题2E-7\n",
    "- 前面已完成，这里省略"
   ]
  },
  {
   "cell_type": "markdown",
   "metadata": {},
   "source": [
    ">https://ocw.mit.edu/courses/18-02sc-multivariable-calculus-fall-2010/resources/mit18_02sc_pset5/"
   ]
  },
  {
   "cell_type": "markdown",
   "metadata": {},
   "source": [
    "## Part $\\mathrm{II}$"
   ]
  },
  {
   "cell_type": "markdown",
   "metadata": {},
   "source": [
    "### 问题1\n",
    "- a) $R=k\\frac{w}{r^4} \\implies \\Delta{R} \\approx R_w\\Delta{w}+R_r\\Delta{r}=\\frac{k}{r^4}\\Delta{w}-\\frac{4kw}{r^5}\\Delta{r}$\n",
    "- b) 利用 a) 中结果 $\\frac{\\Delta{R}}{R} \\approx \\frac{k}{r^4R}\\Delta{w}-\\frac{4kw}{r^5R}\\Delta{r}=\\frac{kw}{r^4R} \\cdot \\frac{\\Delta{w}}{w}-\\frac{4kw}{r^4R} \\cdot \\frac{\\Delta{r}}{r}=\\frac{kw}{r^4R}(\\frac{\\Delta{w}}{w}-4\\frac{\\Delta{r}}{r})$\n",
    "- c) 根据 b) 中结果，$\\frac{\\Delta{r}}{r}$ 的系数绝对值更大，因此影响也更大  \n",
    "$\\frac{\\Delta{w}}{w}$ 和 $\\frac{\\Delta{r}}{r}$ 的系数符号相反，因此要获得 $\\frac{\\Delta{R}}{R}$ 最大值 $\\Delta{w}$ 和 $\\Delta{r}$ 应取相反符号效果最好"
   ]
  },
  {
   "cell_type": "markdown",
   "metadata": {},
   "source": [
    "### 问题2\n",
    "- $\\frac{d}{dt}f(\\vec{r}(t), t)=\\frac{\\partial{f(x, y, z, t)}}{\\partial{t}}\\\\\n",
    "=f_x \\cdot \\frac{dx}{dt}+f_y \\cdot \\frac{dy}{dt}+f_z \\cdot \\frac{dz}{dt}+f_t \\cdot \\frac{dt}{dt}\\\\\n",
    "=<f_x,f_y,f_z> \\cdot <\\frac{dx}{dt},\\frac{dy}{dt},\\frac{dz}{dt}>+f_t \\cdot 1\\\\\n",
    "=\\nabla f \\cdot \\frac{d\\vec{r}}{dt}+f_t\\\\\n",
    "=\\nabla f \\cdot \\vec{v}+\\frac{\\partial{f}}{\\partial{t}}$"
   ]
  },
  {
   "cell_type": "markdown",
   "metadata": {},
   "source": [
    "### 问题3\n",
    "- a) 根据 问题2 $\\frac{D\\rho}{Dt}=\\frac{\\partial{\\rho}}{\\partial{t}}+\\nabla \\rho \\cdot \\vec{v}$  \n",
    "根据题意 $\\rho(x, y, z)=C \\implies \\nabla \\rho=<\\rho_x,\\rho_y,\\rho_z>=<0,0,0> \\implies \\frac{D\\rho}{Dt}=\\frac{\\partial{\\rho}}{\\partial{t}}+\\vec{0} \\cdot \\vec{v}=\\frac{\\partial{\\rho}}{\\partial{t}}$  \n",
    "因此 $\\frac{D\\rho}{Dt}=0 \\iff \\frac{\\partial{\\rho}}{\\partial{t}}=0$\n",
    "- b) $\\rho(t)=C \\implies \\frac{\\partial{\\rho}}{\\partial{t}}=0$ 可得 $\\frac{D\\rho}{Dt}=0+\\nabla \\rho \\cdot \\vec{v}=\\nabla \\rho \\cdot \\vec{v}$  \n",
    "由 $\\frac{D\\rho}{Dt}=0 \\implies \\nabla \\rho \\cdot \\vec{v}=0 \\implies \\nabla \\rho \\perp \\vec{v}$ 即满足梯度向量垂直速度方向时满足条件\n",
    "- c) $\\vec{v}(t)=C \\implies \\vec{a}=\\frac{d\\vec{v}}{dt}=\\vec{0}$ 即加速度为 $0$ 便是流体流动速度为匀速（大小和方向均不变），因此流线为直线 $\\textcircled{1}$  \n",
    "由题意得 $\\rho_x=0 \\implies \\nabla \\rho=<0,\\rho_y>$ 即密度梯度向量为竖直方向，结合 b) 中结论 $\\nabla \\rho \\perp \\vec{v}$ 及 $\\textcircled{1}$ 可得流线为水平方向直线  \n",
    "![](data:image/png;base64,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)"
   ]
  },
  {
   "cell_type": "markdown",
   "metadata": {},
   "source": [
    "### 问题4\n",
    "- a) $f(x, y)=4-x-4y$ 是一个平面方程，在 $xz,yz,xy$ 平面内都为一条直线，在三维空间坐标系的第一象限内形成了一个四面体（四面均为三角形）  \n",
    "顶点坐标分别为 $(0, 0, 0), (4, 0, 0), (0, 0, 4), (0, 1, 0)$  \n",
    "已在草纸上绘制，这里省略\n",
    "- b) $\\nabla f=<f_x,f_y>=<-1,-4>$\n",
    "- c) 设点坐标为 $(x_0, y_0)$ 由题意得 $<x_0,y_0> // \\nabla f \\implies <x_0,y_0>=\\lambda \\cdot <-1, -4>$ $\\textcircled{1}$  \n",
    "同时点在等值线 $f(x, y)=0$ 上，满足 $0=4-x_0-4y_0$ $\\textcircled{1}$  \n",
    "结合 $\\textcircled{1}$ 和  $\\textcircled{2}$ 得 $\\begin{cases}x_0=\\lambda \\cdot (-1)\\\\y_0=\\lambda \\cdot (-4)\\\\4-x_0-4y_0=0\\end{cases}$ 解得 $(x_0, y_0)=(\\frac{4}{17}, \\frac{16}{17})$ 点坐标为 $(\\frac{4}{17}, \\frac{16}{17}, 0)$\n",
    "- d) $\\vec{w}=<-2, -1> \\implies \\hat{u}=\\frac{\\vec{w}}{|\\vec{w}|}=\\frac{<-2,-1>}{\\sqrt{(-2)^2+(-1)^2}}=<-\\frac{2}{\\sqrt{5}},-\\frac{1}{\\sqrt{5}}>$  \n",
    "可得 $\\frac{df}{ds}|_{\\hat{u}}=\\nabla f \\cdot \\hat{u}=<-1,-4> \\cdot <-\\frac{2}{\\sqrt{5}},-\\frac{1}{\\sqrt{5}}>=\\frac{6}{\\sqrt{5}}$\n",
    "- e) 在 $\\nabla f$ 方向的斜率三角形的顶点坐标为 $(0, 0, 0), (0, 0, 4)$ 以及 c) 中求得的等值线 $f(x, y)=0$ 与经过原点且在 $\\nabla f$ 方向上的直线的交点 $(\\frac{4}{17}, \\frac{16}{17}, 0)$  \n",
    "采用 c) 中相同的方法可以求得等值线 $f(x, y)=0$ 与过原点 $\\vec{w}$ 方向的交点，由 $\\begin{cases}x_1=\\lambda \\cdot (-2)\\\\y_1=\\lambda \\cdot (-1)\\\\4-x_1-4y_1=0\\end{cases}$ 解得 $(x_1, y_1)=(\\frac{4}{3}, \\frac{2}{3})$  \n",
    "可知 $\\vec{w}$ 方向上的斜率三角形的三个顶点为 $(0, 0, 0), (0, 0, 4), (\\frac{4}{3}, \\frac{2}{3}, 0)$  \n",
    "已在草纸上绘制，这里省略"
   ]
  }
 ],
 "metadata": {
  "language_info": {
   "name": "python"
  }
 },
 "nbformat": 4,
 "nbformat_minor": 2
}
