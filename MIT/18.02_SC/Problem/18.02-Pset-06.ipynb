{
 "cells": [
  {
   "cell_type": "markdown",
   "metadata": {},
   "source": [
    ">https://ocw.mit.edu/courses/18-02sc-multivariable-calculus-fall-2010/resources/mit18_02sc_supprob2/"
   ]
  },
  {
   "cell_type": "markdown",
   "metadata": {},
   "source": [
    "## Part $\\mathrm{I}$"
   ]
  },
  {
   "cell_type": "markdown",
   "metadata": {},
   "source": [
    "### 问题2I-1\n",
    "- a) 盒子体积 $V(x, y, z)=xyz, (x,y,z \\gt 0)$ 限制条件 $g(x, y, z)=x+2y+3z=18$ 求 $V$ 的最大值  \n",
    "根据拉格朗日乘子法 $\\begin{cases}\\nabla V=\\lambda \\nabla g\\\\g(x, y, z)=18, (x,y,z \\gt 0)\\end{cases} \\implies \\begin{cases}yz=\\lambda\\\\xz=2\\lambda\\\\xy=3\\lambda\\\\x+2y+3z=18\\\\x,y,z \\gt 0\\end{cases}$ 解得 $(x, y, z)=(6, 3, 2)$  \n",
    "$V(6, 3, 2)=6 \\cdot 3 \\cdot 2=36$ 而随意取平面一点 $(1, 1, 5) \\implies V(1, 1, 5)=5 \\lt 36$ 可知拉格朗日乘子法求得的为最大值点\n",
    "- b) 由拉格朗日乘子法得 $\\begin{cases}\\nabla V=\\lambda \\nabla g\\\\g(x, y, z)=12, (x,y,z \\gt 0)\\end{cases} \\implies \\begin{cases}yz=\\lambda \\cdot 2x\\\\xz=\\lambda \\cdot 4y\\\\xy=\\lambda \\cdot 8z\\\\x^2+2y^2+4z^2=12\\\\x,y,z \\gt 0\\end{cases}$ 解得 $(x ,y ,z)=(2, \\sqrt{2}, 1)$  \n",
    "$V(2, \\sqrt{2}, 1)=2\\sqrt{2}$ 而任取曲面上一点 $(1, 1, \\frac{3}{2}) \\implies V(1, 1, \\frac{3}{2}) \\lt 2\\sqrt{2}$ 可知上面所得点为最大值点"
   ]
  },
  {
   "cell_type": "markdown",
   "metadata": {},
   "source": [
    "### 问题2I-3\n",
    "- 设底边正面、底边侧面和高分别为 $x, y, z$ 可知所用板材总面积 $S=2yz+4xz+3xy$ 限制条件 $g(x, y, z)=xyz=1$  \n",
    "根据拉格朗日乘子法得 $\\begin{cases}\\nabla S=\\lambda \\nabla g\\\\g(x, y, z)=1, (x,y,z \\gt 0)\\end{cases} \\implies \\begin{cases}4z+3y=\\lambda yz\\\\2z+3x=\\lambda xz\\\\2y+4x=\\lambda xy\\\\x,y,z \\gt 0\\end{cases}$ 可得 $\\frac{2}{x}=\\frac{3}{z}=\\frac{4}{y} \\implies x:y:z=2:4:3$  \n",
    "此时可得 $(x, y, z)=(\\frac{1}{\\sqrt[3]{3}}, \\frac{2}{\\sqrt[3]{3}}, \\frac{3}{2\\sqrt[3]{3}}) \\implies S(\\frac{1}{\\sqrt[3]{3}}, \\frac{2}{\\sqrt[3]{3}}, \\frac{3}{2\\sqrt[3]{3}})=\\frac{18}{\\sqrt[3]{9}}$ 而任取一点 $(1, 1, 1) \\implies S(1, 1, 1)=9 \\gt \\frac{18}{\\sqrt[3]{9}}$ 可得拉格朗日乘子法求得最小值，因此答案比例为 $2:4:3$"
   ]
  },
  {
   "cell_type": "markdown",
   "metadata": {},
   "source": [
    "### 问题2I-2\n",
    "- 到原点的距离评估函数 $f(x, y, z)=x^2+y^2+z^2$ 限制条件 $g(x, y, z)=x^3y^2z=6\\sqrt{3}$ 其中 $x,y,z \\gt 0$ 求函数 $f$ 的最小值  \n",
    "由拉格朗日乘子法得 $\\begin{cases}\\nabla f=\\lambda \\nabla g\\\\g(x, y, z)=6\\sqrt{3}, (x,y,z \\gt 0)\\end{cases} \\implies \\begin{cases}2x=\\lambda \\cdot 3x^2y^2z\\\\2y=\\lambda \\cdot 2x^3yz\\\\2z=\\lambda \\cdot x^3y^2\\\\x^3y^2z=6\\sqrt{3}\\\\x,y,z \\gt 0\\end{cases}$ 解得 $(x, y, z)=(\\sqrt{3}, \\sqrt{2}, 1) \\implies f(\\sqrt{3}, \\sqrt{2}, 1)=6$  \n",
    "任取曲面上一点 $(1, 1, 6\\sqrt{3}) \\implies f(1, 1, 6\\sqrt{3})=110 \\gt 6$ 可知拉格朗日算子法求得最小值"
   ]
  },
  {
   "cell_type": "markdown",
   "metadata": {},
   "source": [
    "### 问题2I-4\n",
    "设底面正边、底面侧边、高分别为 $x, y, z$\n",
    "- a) 抽屉容积 $V=xyz$ 限制条件 $S=2(2yz+xz)+xy+4xz=4yz+6xz+xy=72$ 求 $V$ 最大值  \n",
    "根据拉格朗日乘子法 $\\begin{cases}\\nabla V=\\lambda \\nabla S\\\\S=72\\end{cases} \\implies \\begin{cases}yz=\\lambda \\cdot (6z+y)\\\\xz=\\lambda \\cdot (4z+x)\\\\xy=\\lambda \\cdot (4y+6x)\\\\4yz+6xz+xy=72\\end{cases}$ 解得 $(x, y, z)=(4, 6, 1)$\n",
    "- b) 用料面积 $S=2(2yz+xz)+xy+4xz=4yz+6xz+xy$ 限制条件 $V=xyz=24$ 求 $S$ 最小值  \n",
    "根据拉格朗日乘子法 $\\begin{cases}\\nabla S=\\lambda \\nabla V\\\\V=24\\end{cases} \\implies \\begin{cases}6z+y=\\lambda \\cdot yz\\\\4z+x=\\lambda \\cdot xz\\\\4y+6x=\\lambda \\cdot xy\\\\xyz=24\\end{cases}$ 解得 $(x, y, z)=(4, 6, 1)$  \n",
    "综合 a) 和 b) 来看，两者由拉格朗日乘子得出的方程组的前三项基本一致（乘子 $\\lambda$ 左右位置互换），第四项的限制条件不同，而最终结果相同"
   ]
  }
 ],
 "metadata": {
  "language_info": {
   "name": "python"
  }
 },
 "nbformat": 4,
 "nbformat_minor": 2
}
