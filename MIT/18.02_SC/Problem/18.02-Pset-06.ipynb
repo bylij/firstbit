{
 "cells": [
  {
   "cell_type": "markdown",
   "metadata": {},
   "source": [
    ">https://ocw.mit.edu/courses/18-02sc-multivariable-calculus-fall-2010/resources/mit18_02sc_supprob2/"
   ]
  },
  {
   "cell_type": "markdown",
   "metadata": {},
   "source": [
    "## Part $\\mathrm{I}$"
   ]
  },
  {
   "cell_type": "markdown",
   "metadata": {},
   "source": [
    "### 问题2I-1\n",
    "- a) 盒子体积 $V(x, y, z)=xyz, (x,y,z \\gt 0)$ 限制条件 $g(x, y, z)=x+2y+3z=18$ 求 $V$ 的最大值  \n",
    "根据拉格朗日乘子法 $\\begin{cases}\\nabla V=\\lambda \\nabla g\\\\g(x, y, z)=18, (x,y,z \\gt 0)\\end{cases} \\implies \\begin{cases}yz=\\lambda\\\\xz=2\\lambda\\\\xy=3\\lambda\\\\x+2y+3z=18\\\\x,y,z \\gt 0\\end{cases}$ 解得 $(x, y, z)=(6, 3, 2)$  \n",
    "$V(6, 3, 2)=6 \\cdot 3 \\cdot 2=36$ 而随意取平面一点 $(1, 1, 5) \\implies V(1, 1, 5)=5 \\lt 36$ 可知拉格朗日乘子法求得的为最大值点\n",
    "- b) 由拉格朗日乘子法得 $\\begin{cases}\\nabla V=\\lambda \\nabla g\\\\g(x, y, z)=12, (x,y,z \\gt 0)\\end{cases} \\implies \\begin{cases}yz=\\lambda \\cdot 2x\\\\xz=\\lambda \\cdot 4y\\\\xy=\\lambda \\cdot 8z\\\\x^2+2y^2+4z^2=12\\\\x,y,z \\gt 0\\end{cases}$ 解得 $(x ,y ,z)=(2, \\sqrt{2}, 1)$  \n",
    "$V(2, \\sqrt{2}, 1)=2\\sqrt{2}$ 而任取曲面上一点 $(1, 1, \\frac{3}{2}) \\implies V(1, 1, \\frac{3}{2}) \\lt 2\\sqrt{2}$ 可知上面所得点为最大值点"
   ]
  },
  {
   "cell_type": "markdown",
   "metadata": {},
   "source": [
    "### 问题2I-3\n",
    "- 设底边正面、底边侧面和高分别为 $x, y, z$ 可知所用板材总面积 $S=2yz+4xz+3xy$ 限制条件 $g(x, y, z)=xyz=1$  \n",
    "根据拉格朗日乘子法得 $\\begin{cases}\\nabla S=\\lambda \\nabla g\\\\g(x, y, z)=1, (x,y,z \\gt 0)\\end{cases} \\implies \\begin{cases}4z+3y=\\lambda yz\\\\2z+3x=\\lambda xz\\\\2y+4x=\\lambda xy\\\\x,y,z \\gt 0\\end{cases}$ 可得 $\\frac{2}{x}=\\frac{3}{z}=\\frac{4}{y} \\implies x:y:z=2:4:3$  \n",
    "此时可得 $(x, y, z)=(\\frac{1}{\\sqrt[3]{3}}, \\frac{2}{\\sqrt[3]{3}}, \\frac{3}{2\\sqrt[3]{3}}) \\implies S(\\frac{1}{\\sqrt[3]{3}}, \\frac{2}{\\sqrt[3]{3}}, \\frac{3}{2\\sqrt[3]{3}})=\\frac{18}{\\sqrt[3]{9}}$ 而任取一点 $(1, 1, 1) \\implies S(1, 1, 1)=9 \\gt \\frac{18}{\\sqrt[3]{9}}$ 可得拉格朗日乘子法求得最小值，因此答案比例为 $2:4:3$"
   ]
  },
  {
   "cell_type": "markdown",
   "metadata": {},
   "source": [
    "### 问题2I-2\n",
    "- 到原点的距离评估函数 $f(x, y, z)=x^2+y^2+z^2$ 限制条件 $g(x, y, z)=x^3y^2z=6\\sqrt{3}$ 其中 $x,y,z \\gt 0$ 求函数 $f$ 的最小值  \n",
    "由拉格朗日乘子法得 $\\begin{cases}\\nabla f=\\lambda \\nabla g\\\\g(x, y, z)=6\\sqrt{3}, (x,y,z \\gt 0)\\end{cases} \\implies \\begin{cases}2x=\\lambda \\cdot 3x^2y^2z\\\\2y=\\lambda \\cdot 2x^3yz\\\\2z=\\lambda \\cdot x^3y^2\\\\x^3y^2z=6\\sqrt{3}\\\\x,y,z \\gt 0\\end{cases}$ 解得 $(x, y, z)=(\\sqrt{3}, \\sqrt{2}, 1) \\implies f(\\sqrt{3}, \\sqrt{2}, 1)=6$  \n",
    "任取曲面上一点 $(1, 1, 6\\sqrt{3}) \\implies f(1, 1, 6\\sqrt{3})=110 \\gt 6$ 可知拉格朗日算子法求得最小值"
   ]
  },
  {
   "cell_type": "markdown",
   "metadata": {},
   "source": [
    "### 问题2I-4\n",
    "设底面正边、底面侧边、高分别为 $x, y, z$\n",
    "- a) 抽屉容积 $V=xyz$ 限制条件 $S=2(2yz+xz)+xy+4xz=4yz+6xz+xy=72$ 求 $V$ 最大值  \n",
    "根据拉格朗日乘子法 $\\begin{cases}\\nabla V=\\lambda \\nabla S\\\\S=72\\end{cases} \\implies \\begin{cases}yz=\\lambda \\cdot (6z+y)\\\\xz=\\lambda \\cdot (4z+x)\\\\xy=\\lambda \\cdot (4y+6x)\\\\4yz+6xz+xy=72\\end{cases}$ 解得 $(x, y, z)=(4, 6, 1)$\n",
    "- b) 用料面积 $S=2(2yz+xz)+xy+4xz=4yz+6xz+xy$ 限制条件 $V=xyz=24$ 求 $S$ 最小值  \n",
    "根据拉格朗日乘子法 $\\begin{cases}\\nabla S=\\lambda \\nabla V\\\\V=24\\end{cases} \\implies \\begin{cases}6z+y=\\lambda \\cdot yz\\\\4z+x=\\lambda \\cdot xz\\\\4y+6x=\\lambda \\cdot xy\\\\xyz=24\\end{cases}$ 解得 $(x, y, z)=(4, 6, 1)$  \n",
    "综合 a) 和 b) 来看，两者由拉格朗日乘子得出的方程组的前三项基本一致（乘子 $\\lambda$ 左右位置互换），第四项的限制条件不同，而最终结果相同"
   ]
  },
  {
   "cell_type": "markdown",
   "metadata": {},
   "source": [
    "### 问题2J-1\n",
    "- $w=x^2+y^2+z^2$ $\\textcircled{1}$ 其中 $z=x^2+y^2$ $\\textcircled{2}$  \n",
    "将 $\\textcircled{2}$ 带入 $\\textcircled{1}$ 得 $w=z+z^2$ 当 $z$ 保持不变时，$w$ 将保持不变，即 $dw=0 \\implies (\\frac{\\partial{w}}{\\partial{y}})_z=0$  \n",
    "由 $w=z+z^2 \\implies (\\frac{\\partial{w}}{\\partial{z}})_y=1+2z$"
   ]
  },
  {
   "cell_type": "markdown",
   "metadata": {},
   "source": [
    "### 问题2J-2\n",
    "- (i) 根据链式法则 $(\\frac{\\partial{w}}{\\partial{y}})_z=w_x(\\frac{\\partial{x}}{\\partial{y}})_z+w_y(\\frac{\\partial{y}}{\\partial{y}})_z+w_z(\\frac{\\partial{z}}{\\partial{y}})_z$ $\\textcircled{1}$  \n",
    "$z$ 保持不变时，通过 $z=x^2+y^2 \\implies 0=2xdx+2ydy \\implies (\\frac{\\partial{x}}{\\partial{y}})_z=-\\frac{y}{x}$  \n",
    "$z$ 保持不变时，$dz=0 \\implies (\\frac{\\partial{z}}{\\partial{y}})_z=0$  \n",
    "将上面的结果带入 $\\textcircled{1}$ 得 $(\\frac{\\partial{w}}{\\partial{y}})_z=2x \\cdot -\\frac{y}{x}+2y \\cdot 1+2z \\cdot 0=-2y+2y+0=0$  \n",
    "根据链式法则 $(\\frac{\\partial{w}}{\\partial{z}})_y=w_x(\\frac{\\partial{x}}{\\partial{z}})_y+w_y(\\frac{\\partial{y}}{\\partial{z}})_y+w_z(\\frac{\\partial{z}}{\\partial{z}})_y$ $\\textcircled{2}$  \n",
    "同上可得在 $y$ 保持不变时 $(\\frac{\\partial{x}}{\\partial{z}})_y=\\frac{1}{2x}, (\\frac{\\partial{y}}{\\partial{z}})_y=0$  \n",
    "带入到  $\\textcircled{2}$ 得 $(\\frac{\\partial{w}}{\\partial{z}})_y=2x \\cdot \\frac{1}{2x}+2y \\cdot 0+2z \\cdot 1=1+2z$  \n",
    "(ii) 由全微分方程得 $dw=w_xdx+w_ydy+w_zdz=2xdx+2ydy+2zdz$ $\\textcircled{3}$  \n",
    "$z$ 保持不变时，通过 $z=x^2+y^2 \\implies dz=2xdx+2ydy=0$ 将 $dz=0$ 和 $2xdx+2ydy=0$ 带入 $\\textcircled{3}$ 可得 $dw=0+0=0 \\implies (\\frac{\\partial{w}}{\\partial{y}})_z=0$  \n",
    "$y$ 保持不变时，通过 $z=x^2+y^2 \\implies dz=2xdx+2ydy=2xdx$ 且 $dy=0$ 将这些带入到 $\\textcircled{3}$ 可得 $dw=dz+2y \\cdot 0+2zdz=(1+2z)dz \\implies (\\frac{\\partial{w}}{\\partial{z}})_y=1+2z$"
   ]
  },
  {
   "cell_type": "markdown",
   "metadata": {},
   "source": [
    "### 问题2J-3\n",
    "- a) $w=x^3y−z^2t$ 且 $xy=zt$  \n",
    "根据链式法则 $(\\frac{\\partial{w}}{\\partial{t}})_{x,z}=w_x(\\frac{\\partial{x}}{\\partial{t}})_{x,z}+w_y(\\frac{\\partial{y}}{\\partial{t}})_{x,z}+w_z(\\frac{\\partial{z}}{\\partial{t}})_{x,z}$ $\\textcircled{1}$  \n",
    "$x,z$ 保持不变时，$dx=dz=0 \\implies (\\frac{\\partial{w}}{\\partial{t}})_{x,z}=w_x \\cdot 0+w_y(\\frac{\\partial{y}}{\\partial{t}})_{x,z}+w_z \\cdot 0=w_y(\\frac{\\partial{y}}{\\partial{t}})_{x,z}$ $\\textcircled{2}$  \n",
    "$x,z$ 保持不变时，$xy=zt \\implies xdy=zdt \\implies (\\frac{\\partial{y}}{\\partial{t}})_{x,z}=\\frac{z}{x}$ 带入 $\\textcircled{2}$ 得 $(\\frac{\\partial{w}}{\\partial{t}})_{x,z}=x^3 \\cdot \\frac{z}{x}=x^2z$"
   ]
  },
  {
   "cell_type": "markdown",
   "metadata": {},
   "source": [
    "### 问题2J-4\n",
    "- b) $w =x^3y−z^2t$ 且 $xy=zt$  \n",
    "由全微分公式得 $dw=w_xdx+w_ydy+w_zdz$ $\\textcircled{1}$  \n",
    "$x, y$ 保持不变时，$dx=dy=0 \\implies dw=w_x \\cdot 0+w_y \\cdot 0+w_zdz=w_zdz \\implies (\\frac{\\partial{w}}{\\partial{z}})_{x,y}=w_z=-2zt$"
   ]
  },
  {
   "cell_type": "markdown",
   "metadata": {},
   "source": [
    "### 问题2J-5\n",
    "- a) $S=S(p, v, T)$ 且满足理想气态方程 $pv=nRT$ 其中 $n, R$ 为常数  \n",
    "根据链式法则 $(\\frac{\\partial{S}}{\\partial{p}})_v=S_p(\\frac{\\partial{p}}{\\partial{p}})_v+S_v(\\frac{\\partial{v}}{\\partial{p}})_v+S_T(\\frac{\\partial{T}}{\\partial{p}})_v$ $\\textcircled{1}$  \n",
    "$v$ 保持不变时，$dv=0$ 且由 $pv=nRT \\implies vdp=nRdT \\implies (\\frac{\\partial{T}}{\\partial{p}})_v=\\frac{v}{nR}$  \n",
    "将这些带入 $\\textcircled{1}$ 得 $(\\frac{\\partial{S}}{\\partial{p}})_v=S_p \\cdot 1+S_v \\cdot 0+S_T \\cdot \\frac{v}{nR}=S_p+S_T\\frac{v}{nR}$"
   ]
  },
  {
   "cell_type": "markdown",
   "metadata": {},
   "source": [
    "### 问题2J-7\n",
    "- $df=f_xdx+f_ydy+f_zdz$ $\\textcircled{1}$  \n",
    "由 $z=x^2+y+1 \\implies dz=2xdx+dy \\implies dy=dz-2xdx$   \n",
    "带入 $\\textcircled{1}$ 得 $df=f_xdx+f_y(dz-2xdx)+f_zdz=(f_x-f_y \\cdot 2x)dx+(f_y+f_z)dz$  \n",
    "可得 $g_x=\\frac{\\partial{f}}{\\partial{x}}=f_x-f_y \\cdot 2x, g_y=\\frac{\\partial{f}}{\\partial{z}}=f_y+f_z \\implies \\nabla g=<g_x,g_y>=<f_x-f_y \\cdot 2x, f_y+f_z>$ $\\textcircled{2}$  \n",
    "由 $\\nabla f(1, -1, 1)=<2,1,-3> \\implies \\begin{cases}f_x(1, -1, 1)=2\\\\f_y(1, -1, 1)=1\\\\f_z(1, -1, 1)=-3\\end{cases}$  \n",
    "带入 $\\textcircled{2}$ 可得 $\\nabla g(1, 1)=<2-1 \\cdot 2,1-3>=<0,-2>$"
   ]
  },
  {
   "cell_type": "markdown",
   "metadata": {},
   "source": [
    "### 问题2J-3\n",
    "- b) $w=x^3y−z^2t$ 且 $xy=zt$  \n",
    "根据链式法则 $(\\frac{\\partial{w}}{\\partial{z}})_{x,y}=w_x(\\frac{\\partial{x}}{\\partial{z}})_{x,y}+w_y(\\frac{\\partial{y}}{\\partial{z}})_{x,y}+w_z(\\frac{\\partial{z}}{\\partial{z}})_{x,y}$ $\\textcircled{1}$  \n",
    "$x,y$ 保持不变时，$dx=dy=0 \\implies (\\frac{\\partial{x}}{\\partial{z}})=(\\frac{\\partial{y}}{\\partial{z}})=0$ 带入 $\\textcircled{1}$ 得 $(\\frac{\\partial{w}}{\\partial{z}})_{x,y}=w_x \\cdot 0+w_y \\cdot 0+w_z \\cdot 1=w_z=-2zt$"
   ]
  },
  {
   "cell_type": "markdown",
   "metadata": {},
   "source": [
    "### 问题2J-4\n",
    "- a) $w=x^3y−z^2t$ 且 $xy=zt$  \n",
    "由全微分公式得 $dw=w_xdx+w_ydy+w_zdz$ 当 $x,z$ 保持不变时 $dx=dz=0 \\implies dw=w_x \\cdot 0+w_ydy+w_z \\cdot 0=w_ydy=x^3dy$ $\\textcircled{1}$  \n",
    "$x, z$ 保持不变时，由 $xy=zt \\implies xdy=zdt \\implies dy=\\frac{z}{x}dt$ 带入 $\\textcircled{1}$ 得 $dw=x^3 \\cdot \\frac{z}{x}dt=x^2zdt \\implies (\\frac{\\partial{w}}{\\partial{t}})_{x,z}=x^2z$"
   ]
  },
  {
   "cell_type": "markdown",
   "metadata": {},
   "source": [
    "### 问题2J-6\n",
    "- a) $(\\frac{\\partial{w}}{\\partial{u}})_x=w_u(\\frac{\\partial{u}}{\\partial{u}})_x+w_v(\\frac{\\partial{v}}{\\partial{u}})=w_u \\cdot 1+w_v \\cdot 1=(3u^2-v^2)+(-2uv)=3u^2-v^2-2uv$  \n",
    "$(\\frac{\\partial{w}}{\\partial{x}})_u=w_u(\\frac{\\partial{u}}{\\partial{x}})_u+w_v(\\frac{\\partial{v}}{\\partial{x}})_u=w_u \\cdot 0+w_v \\cdot 1=w_v=-2uv$\n",
    "- b) $dw=w_udu+w_vdv$  \n",
    "当 $x$ 保持不变时 $v=u+x \\implies dv=du \\implies dw=w_udu+w_vdu=(w_u+wv)du \\implies (\\frac{\\partial{w}}{\\partial{u}})_x=w_u+w_v=(3u^2-v^2)+(-2uv)=3u^2-v^2-2uv$  \n",
    "当 $u$ 保持不变时 $dw=w_udu+w_vdv=w_u \\cdot 0+w_vdv=w_vdv$ 由 $v=u+x \\implies dv=dx \\implies dw=w_vdx \\implies (\\frac{\\partial{w}}{\\partial{x}})_u=w_v=-2uv$"
   ]
  }
 ],
 "metadata": {
  "language_info": {
   "name": "python"
  }
 },
 "nbformat": 4,
 "nbformat_minor": 2
}
