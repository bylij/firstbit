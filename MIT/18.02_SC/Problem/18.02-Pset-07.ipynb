{
 "cells": [
  {
   "cell_type": "markdown",
   "metadata": {},
   "source": [
    ">https://ocw.mit.edu/courses/18-02sc-multivariable-calculus-fall-2010/resources/mit18_02sc_supprob3/"
   ]
  },
  {
   "cell_type": "markdown",
   "metadata": {},
   "source": [
    "## Part $\\mathrm{I}$"
   ]
  },
  {
   "cell_type": "markdown",
   "metadata": {},
   "source": [
    "### 问题3A-2\n",
    "- c) i) $\\iint_R{dydx}=\\int_0^{\\sqrt{2}}{\\int_0^x{dy}dx}+\\int_{\\sqrt{2}}^2{\\int_0^{\\sqrt{4-x^2}}{dy}dx}$  \n",
    "ii) $\\iint_R{dxdy}=\\int_0^{\\sqrt{2}}{\\int_y^{\\sqrt{4-y^2}}{dx}dy}$"
   ]
  },
  {
   "cell_type": "markdown",
   "metadata": {},
   "source": [
    "### 问题3A-3\n",
    "- b) $\\iint_R{(2x+y^2)dA}=\\int_0^1{\\int_0^{1-y^2}{(2x+y^2)dx}dy}=\\int_0^1{\\left[x^2+xy^2\\right]_0^{1-y^2}dy}=\\int_0^1{(1-y^2)dy}=\\left[y-\\frac{y^3}{3}\\right]_0^1=\\frac{2}{3}$"
   ]
  },
  {
   "cell_type": "markdown",
   "metadata": {},
   "source": [
    "### 问题3A-4\n",
    "- c) $\\iint_R{(x^2-y^2)dA}=\\int_0^1{\\int_{-x}^x{(x^2-y^2)dy}dx}=\\int_0^1{\\left[x^2y-\\frac{y^3}{3}\\right]_{-x}^xdx}=\\int_0^1{\\frac{4}{3}x^3dx}=\\left[\\frac{x^4}{3}\\right]_0^1=\\frac{1}{3}$"
   ]
  },
  {
   "cell_type": "markdown",
   "metadata": {},
   "source": [
    "### 问题3A-5\n",
    "- a) $\\int_0^2{\\int_x^2{e^{-y^2}dy}dx}=\\int_0^2{\\int_0^y{e^{-y^2}dx}dy}=\\int_0^2{\\left[xe^{-y^2}\\right]_0^ydy}=\\int_0^2{ye^{-y^2}dy}=\\left[-\\frac{1}{2}e^{-y^2}\\right]_0^2=\\frac{1}{2}-\\frac{1}{2}e^{-4}$"
   ]
  },
  {
   "cell_type": "markdown",
   "metadata": {},
   "source": [
    "### 问题3A-1\n",
    "- a) $\\int_0^2{\\int_{-1}^1{(6x^2+2y)dy}dx}=\\int_0^2{\\left[6x^2y+y^2\\right]_{-1}^1dx}=\\int_0^2{12x^2dx}=\\left[4x^3\\right]_0^2=32$\n",
    "- b) $\\int_0^{\\frac{\\pi}{2}}{\\int_0^{\\pi}{(u\\sin{t}+t\\cos{u})dt}du}=\\int_0^{\\frac{\\pi}{2}}{\\left[-u\\cos{t}+\\frac{t^2}{2}\\cos{u}\\right]_0^{\\pi}du}=\\int_0^{\\frac{\\pi}{2}}{(2u+\\frac{\\pi^2}{2}\\cos{u})du}=\\left[u^2+\\frac{\\pi^2}{2}\\sin{u}\\right]_0^{\\frac{\\pi}{2}}=\\pi^2$\n",
    "- c) $\\int_0^1{\\int_{\\sqrt{x}}^{x^2}{2x^2ydy}dx}=\\int_0^1{\\left[x^2y^2\\right]_{\\sqrt{x}}^{x^2}dx}=\\int_0^1{(x^6-x^3)dx}=\\left[\\frac{x^7}{7}-\\frac{x^4}{4}\\right]_0^1=-\\frac{3}{28}$\n",
    "- d) $\\int_0^1{\\int_0^u{\\sqrt{u^2+4}dv}du}=\\int_0^1{\\left[v\\sqrt{u^2+4}\\right]_0^udu}=\\int_0^1{u\\sqrt{u^2+4}du}=\\left[\\frac{1}{3}(u^2+4)^{\\frac{3}{2}}\\right]_0^1=\\frac{5\\sqrt{5}-8}{3}$"
   ]
  },
  {
   "cell_type": "markdown",
   "metadata": {},
   "source": [
    "### 问题3A-2\n",
    "- a) i) $\\iint_R{dydx}=\\int_{-2}^0{\\int_{-x}^2{dy}dx}$，ii) $\\iint_R{dxdy}=\\int_0^2{\\int_{-y}^0{dx}dy}$\n",
    "- b) i) $\\iint_R{dydx}=\\int_0^2{\\int_0^{2x-x^2}{dy}dx}$，ii) $\\iint_R{dxdy}=\\int_0^1{\\int_{1-\\sqrt{1-y}}^{1+\\sqrt{1-y}}{dx}dy}$"
   ]
  },
  {
   "cell_type": "markdown",
   "metadata": {},
   "source": [
    "### 问题3A-3\n",
    "- a) $\\iint_R{xdA}=\\int_0^2{\\int_0^{1-\\frac{x}{2}}{xdy}dx}=\\int_0^2{\\left[xy\\right]_0^{1-\\frac{x}{2}}dx}=\\int_0^2{(x-\\frac{x^2}{2})dx}=\\left[\\frac{x^2}{2}-\\frac{x^3}{6}\\right]_0^2=\\frac{2}{3}$"
   ]
  },
  {
   "cell_type": "markdown",
   "metadata": {},
   "source": [
    "### 问题3A-4\n",
    "- b) $\\iint_R{xydA}=\\int_0^1{\\int_{x^2}^x{xydy}dx}=\\int_0^1{\\left[\\frac{xy^2}{2}\\right]_{x^2}^xdx}=\\int_0^1{(\\frac{x^3}{2}-\\frac{x^5}{2})dx}=\\left[\\frac{x^4}{8}-\\frac{x^6}{12}\\right]_0^1=\\frac{1}{24}$"
   ]
  },
  {
   "cell_type": "markdown",
   "metadata": {},
   "source": [
    "### 问题3A-5\n",
    "- b) $\\int_0^{1/4}{\\int_{\\sqrt{t}}^{1/2}{\\frac{e^u}{u}du}dt}=\\int_0^{1/2}{\\int_0^{u^2}{\\frac{e^u}{u}dt}du}=\\int_0^{1/2}{\\left[\\frac{e^u}{u}t\\right]_0^{u^2}du}=\\int_0^{1/2}{ue^udu}=\\left[ue^u-e^u\\right]_0^{1/2}=1-\\frac{\\sqrt{e}}{2}$\n",
    "- c) $\\int_0^1{\\int_{x^{1/3}}^1{\\frac{1}{1+u^4}du}dx}=\\int_0^1{\\int_0^{u^3}{\\frac{1}{1+u^4}dx}du}=\\int_0^1{\\left[\\frac{x}{1+u^4}\\right]_0^{u^3}du}=\\int_0^1{\\frac{u^3}{1+u^4}du}=\\left[\\frac{\\ln{(1+u^4)}}{4}\\right]_0^1=\\frac{\\ln{2}}{4}$"
   ]
  },
  {
   "cell_type": "markdown",
   "metadata": {},
   "source": [
    "### 问题3A-6\n",
    "- $\\iint_R{xdA}=0$  \n",
    "$\\iint_R{e^xdA}=2\\int_{R_1}{e^xdA}$ 其中 $R_1$ 是满足 $y \\ge 0$ 的半个单位圆  \n",
    "$\\iint_R{x^2dA}=4\\int_{R_2}{x^2dA}$ 其中 $R_2$ 是在第一象限的 $\\frac{1}{4}$ 个单位圆  \n",
    "$\\iint_R{x^2ydA}=0$  \n",
    "$\\iint_R{(x^2+y)dA}=\\iint_R{x^2dA}+\\iint_R{ydA}=\\iint_R{x^2dA}+0=\\iint_R{x^2dA}=4\\iint_{R_2}{x^2dA}$ 其中 $R_2$ 是在第一象限的 $\\frac{1}{4}$ 个单位圆  \n",
    "$\\iint_R{xy}dA=0$"
   ]
  },
  {
   "cell_type": "markdown",
   "metadata": {},
   "source": [
    "### 问题3A-7\n",
    "- a) $1+x^4+y^4 \\ge 1 \\implies \\frac{1}{1+x^4+y^4} \\le 1 \\implies \\iint_R{\\frac{1}{1+x^4+y^4}dA} \\le \\iint_R{dA}=Area(R)$ 正确\n",
    "- b) $1+x^2+y^2 \\ge 1+x^2, x \\ge 0 \\implies \\frac{x}{1+x^2+y^2} \\le \\frac{x}{1+x^2}\\\\\n",
    "\\implies \\iint_R{\\frac{x}{1+x^2+y^2}dA} \\le \\iint_R{\\frac{x}{1+x^2}dA}=\\int_0^1{\\int_0^1{\\frac{x}{1+x^2}dy}dx}=\\int_0^1{\\left[\\frac{\\ln{(1+x^2)}}{2}\\right]_0^1dx}=\\int_0^1{\\frac{\\ln{2}}{2}dx}=\\frac{\\ln{2}}{2} \\approx 0.3465 \\le 0.35$"
   ]
  },
  {
   "cell_type": "markdown",
   "metadata": {},
   "source": [
    "### 问题3B-1\n",
    "- a) $\\int_{2\\pi/3}^{4\\pi/3}{\\int_1^2{rdr}d\\theta}$"
   ]
  },
  {
   "cell_type": "markdown",
   "metadata": {},
   "source": [
    "### 问题3B-2\n",
    "- d) $\\iint_R{\\frac{dxdy}{\\sqrt{1-x^2-y^2}}}=\\int_0^{\\pi/2}{\\int_0^{\\sin{\\theta}}{\\frac{1}{\\sqrt{1-(\\frac{1}{2})^2}}rdr}d\\theta}=\\int_0^{\\pi/2}{\\int_0^{\\sin{\\theta}}{\\frac{2r}{\\sqrt{3}}dr}d\\theta}=\\int_0^{\\pi/2}{\\left[\\frac{r^2}{\\sqrt{3}}\\right]_0^{\\sin{\\theta}}d\\theta}=\\int_0^{\\pi/2}{\\frac{\\sin^2{\\theta}}{\\sqrt{3}}d\\theta}=\\frac{\\pi}{4\\sqrt{3}}$"
   ]
  },
  {
   "cell_type": "markdown",
   "metadata": {},
   "source": [
    "### 问题3B-3\n",
    "- a) $\\iint_R{\\sqrt{a^2-x^2-y^2}dxdy}=\\int_0^{2\\pi}{\\int_0^a{\\sqrt{a^2-r^2}rdr}d\\theta}=\\int_0^{2\\pi}{\\left[-\\frac{(a^2-r^2)^{3/2}}{3}\\right]_0^ad\\theta}=\\int_0^{2\\pi}{\\frac{a^3}{3}d\\theta}=\\left[\\frac{a^3}{3}\\theta\\right]_0^{2\\pi}=\\frac{2\\pi}{3}a^3$\n",
    "- c) $\\iint_R{\\sqrt{x^2+y^2}dxdy}=\\int_0^{\\pi}{\\int_0^{2\\sin{\\theta}}{r \\cdot rdr}d\\theta}=\\int_0^{\\pi}{\\int_0^{2\\sin{\\theta}}{r^2dr}d\\theta}=\\int_0^{\\pi}{\\left[\\frac{r^3}{3}\\right]_0^{2\\sin{\\theta}}d\\theta}=\\int_0^{\\pi}{\\frac{8\\sin^3{\\theta}}{3}d\\theta}=\\frac{32}{9}$"
   ]
  },
  {
   "cell_type": "markdown",
   "metadata": {},
   "source": [
    "### 问题3B-1\n",
    "- c) $\\iint_R{dA}=\\int_{2\\pi/3}^{4\\pi/3}{\\int_{3/2}^{1-\\cos{\\theta}}{rdr}d\\theta}$\n",
    "- d) $\\int_0^a{\\int_0^a{dy}dx}-\\frac{1}{2}\\int_0^{\\pi/2}{\\int_0^{2a\\cos{\\theta}}{rdr}d\\theta}$"
   ]
  },
  {
   "cell_type": "markdown",
   "metadata": {},
   "source": [
    "### 问题3B-2\n",
    "- b) $\\iint_R{\\frac{dxdy}{1+x^2+y^2}}=\\int_0^{\\pi/2}{\\int_0^a{\\frac{rdr}{1+r^2}}d\\theta}=\\int_0^{\\pi/2}{\\left[\\sqrt{1+r^2}\\right]_0^ad\\theta}=\\int_0^{\\pi/2}{(\\sqrt{1+a^2}-1)d\\theta}=\\frac{\\pi}{2}(\\sqrt{1+a^2}-1)$"
   ]
  },
  {
   "cell_type": "markdown",
   "metadata": {},
   "source": [
    "### 问题3B-3\n",
    "- b) $\\iint_R{xydA}=\\int_0^{\\pi/2}{\\int_0^a{(r\\cos{\\theta})(r\\sin{\\theta})rdr}d\\theta}\\\\\n",
    "=\\int_0^{\\pi/2}{\\int_0^a{r^3\\cos{\\theta}\\sin{\\theta}dr}d\\theta}\\\\\n",
    "=\\int_0^{\\pi/2}{\\int_0^a{r^3 \\cdot \\frac{\\sin{2\\theta}}{2}dr}d\\theta}\\\\\n",
    "=\\int_0^{\\pi/2}{\\left[\\frac{1}{8}r^4\\sin{2\\theta}\\right]_0^ad\\theta}\\\\\n",
    "=\\int_0^{\\pi/2}{\\frac{a^4}{8}\\sin{2\\theta}d\\theta}\\\\\n",
    "=\\left[-\\frac{a^4}{16}\\cos{2\\theta}\\right]_0^{\\pi/2}\\\\\n",
    "=\\frac{a^4}{8}$"
   ]
  },
  {
   "cell_type": "markdown",
   "metadata": {},
   "source": [
    "### 问题3C-1\n",
    "将直角三角形放置在平面直角坐标系中，直角与坐标轴夹角重合，两个直角边分别与两坐标轴正方向重合\n",
    "- a) $I=\\iint_R{\\delta \\cdot x^2dA}=\\int_0^a{\\int_0^{a-x}{x^2dy}dx}=\\int_0^a{\\left[x^2y\\right]_0^{a-x}dx}=\\int_0^a{(ax^2-x^3)dx}=\\left[\\frac{ax^3}{3}-\\frac{x^4}{4}\\right]_0^a=\\frac{a^4}{12}$\n",
    "- b) $I=\\iint_R{\\delta \\cdot (x^2+y^2)dA}=\\int_0^a{\\int_0^{a-x}{(x^2+y^2)dy}dx}$\n",
    "- c) $I=\\iint_R{\\delta \\cdot (\\frac{a-(x+y)}{\\sqrt{2}})^2dA}=\\int_0^a{\\int_0^{a-x}{(\\frac{a-(x+y)}{\\sqrt{2}})^2dy}dx}$"
   ]
  },
  {
   "cell_type": "markdown",
   "metadata": {},
   "source": [
    "### 问题3C-2\n",
    "- a) $Mass=\\iint_R{\\delta \\cdot dA}=\\int_0^{\\pi}{\\int_0^{\\sin{x}}{dy}dx}=\\int_0^{\\pi}{\\left[y\\right]_0^{\\sin{x}}dx}=\\int_0^{\\pi}{\\sin{x}dx}=\\left[-\\cos{x}\\right]_0^{\\pi}=2$  \n",
    "$\\bar{x}=\\frac{1}{Mass}\\iint_R{\\delta \\cdot xdA}\\\\\n",
    "=\\frac{1}{2}\\int_0^{\\pi}{\\int_0^{\\sin{x}}{xdy}dx}\\\\\n",
    "=\\frac{1}{2}\\int_0^{\\pi}{\\left[xy\\right]_0^{\\sin{x}}dx}\\\\\n",
    "=\\frac{1}{2}\\int_0^{\\pi}{x\\sin{x}dx}\\\\\n",
    "=\\frac{1}{2}(\\left[-x\\cos{x}\\right]_0^{\\pi}-\\int_0^{\\pi}{-\\cos{x}dx})\\\\\n",
    "=\\frac{1}{2}(\\pi-\\left[-\\sin{x}\\right]_0^{\\pi})\\\\\n",
    "=\\frac{1}{2}(\\pi-0)\\\\\n",
    "=\\frac{\\pi}{2}$  \n",
    "$\\bar{y}=\\frac{1}{Mass}\\iint_R{\\delta \\cdot ydA}\\\\\n",
    "=\\frac{1}{2}\\int_0^{\\pi}{\\int_0^{\\sin{x}}{ydy}dx}\\\\\n",
    "=\\frac{1}{2}\\int_0^{\\pi}{\\left[\\frac{y^2}{2}\\right]_0^{\\sin{x}}dx}\\\\\n",
    "=\\frac{1}{2}\\int_0^{\\pi}{\\frac{\\sin^2{x}}{2}dx}\\\\\n",
    "=\\frac{1}{2}\\int_0^{\\pi}{\\frac{1-\\cos{2x}}{4}dx}\\\\\n",
    "=\\frac{1}{2}\\left[\\frac{x}{4}-\\frac{\\sin{2x}}{8}\\right]_0^{\\pi}\\\\\n",
    "=\\frac{\\pi}{8}$  \n",
    "质心坐标为 $(\\frac{\\pi}{2}, \\frac{\\pi}{8})$"
   ]
  },
  {
   "cell_type": "markdown",
   "metadata": {},
   "source": [
    "### 问题3C-4\n",
    "- $Mass=\\iint_R{\\delta dA}=\\int_0^{2\\alpha}{\\int_0^a{rdr}d\\theta}=\\int_0^{2\\alpha}{\\left[\\frac{r^2}{2}\\right]_0^ad\\theta}=\\int_0^{2\\alpha}{\\frac{a^2}{2}d\\theta}=\\alpha a^2$  \n",
    "$\\bar{x}=\\frac{1}{Mass}\\iint_R{\\delta \\cdot xdA}\\\\\n",
    "=\\frac{1}{\\alpha a^2}\\int_0^{2\\alpha}{\\int_0^a{r\\cos{\\theta} \\cdot rdr}d\\theta}\\\\\n",
    "=\\frac{1}{\\alpha a^2}\\int_0^{2\\alpha}{\\int_0^a{r^2\\cos{\\theta}dr}d\\theta}\\\\\n",
    "=\\frac{1}{\\alpha a^2}\\int_0^{2\\alpha}{\\left[\\frac{r^3}{3}\\cos{\\theta}\\right]_0^ad\\theta}\\\\\n",
    "=\\frac{1}{\\alpha a^2}\\int_0^{2\\alpha}{\\frac{a^3}{3}\\cos{\\theta}d\\theta}\\\\\n",
    "=\\frac{1}{\\alpha a^2}\\left[\\frac{a^3}{3}\\sin{\\theta}\\right]_0^{2\\alpha}\\\\\n",
    "=\\frac{1}{\\alpha a^2} \\cdot \\frac{a^3}{3}\\sin{2\\alpha}\\\\\n",
    "=\\frac{a\\sin{2\\alpha}}{3\\alpha}$  \n",
    "$\\bar{y}=\\frac{1}{Mass}\\iint_R{\\delta \\cdot ydA}\\\\\n",
    "=\\frac{1}{\\alpha a^2}\\int_0^{2\\alpha}{\\int_0^a{r\\sin{\\theta} \\cdot rdr}d\\theta}\\\\\n",
    "=\\frac{1}{\\alpha a^2}\\int_0^{2\\alpha}{\\int_0^a{r^2\\sin{\\theta}dr}d\\theta}\\\\\n",
    "=\\frac{1}{\\alpha a^2}\\int_0^{2\\alpha}{\\left[\\frac{r^3}{3}\\sin{\\theta}\\right]_0^ad\\theta}\\\\\n",
    "=\\frac{1}{\\alpha a^2}\\int_0^{2\\alpha}{\\frac{a^3}{3}\\sin{\\theta}d\\theta}\\\\\n",
    "=\\frac{1}{\\alpha a^2}\\left[-\\frac{a^3}{3}\\cos{\\theta}\\right]_0^{2\\alpha}\\\\\n",
    "=\\frac{1}{\\alpha a^2}(1-\\frac{a^3}{3}\\cos{2\\alpha})$  \n",
    "重心坐标为 $(\\frac{a\\sin{2\\alpha}}{3\\alpha},\\frac{1}{\\alpha a^2}(1-\\frac{a^3}{3}\\cos{2\\alpha}))$"
   ]
  },
  {
   "cell_type": "markdown",
   "metadata": {},
   "source": [
    "### 问题3C-2\n",
    "- b) $Mass=\\iint_R{\\delta dA}=\\int_0^\\pi{\\int_0^{\\sin{x}}{ydy}dx}=\\int_0^\\pi{\\left[\\frac{y^2}{2}\\right]_0^{\\sin{x}}dx}=\\int_0^\\pi{\\frac{\\sin^2{x}}{2}dx}=\\int_0^\\pi{\\frac{1-\\cos{2x}}{4}dx}=\\left[\\frac{x}{4}-\\frac{\\sin{2x}}{8}\\right]_0^\\pi=\\frac{\\pi}{4}$  \n",
    "$\\bar{x}=\\frac{1}{Mass}\\iint_R{x \\cdot \\delta dA}\\\\\n",
    "=\\frac{4}{\\pi}\\int_0^\\pi{\\int_0^{\\sin{x}}{xydy}dx}\\\\\n",
    "=\\frac{4}{\\pi}\\int_0^\\pi{\\left[\\frac{xy^2}{2}\\right]_0^{\\sin{x}}dx}\\\\\n",
    "=\\frac{4}{\\pi}\\int_0^\\pi{\\frac{x\\sin^2{x}}{2}dx}\\\\\n",
    "=\\frac{2}{\\pi}\\int_0^\\pi{x\\sin^2{x}dx}\\\\\n",
    "=\\frac{2}{\\pi}(\\left[x(\\frac{x}{2}-\\frac{\\sin{2x}}{4})\\right]_0^\\pi-\\int_0^\\pi{(\\frac{x}{2}-\\frac{\\sin{2x}}{4})dx})\\\\\n",
    "=\\frac{2}{\\pi}(\\frac{\\pi^2}{2}-\\left[\\frac{x^2}{4}+\\frac{\\cos{2x}}{8}\\right]_0^\\pi)\\\\\n",
    "=\\frac{2}{\\pi}(\\frac{\\pi^2}{2}-\\frac{\\pi^2}{4})\\\\\n",
    "=\\frac{\\pi}{2}$  \n",
    "$\\bar{y}=\\frac{1}{Mass}\\iint_R{y \\cdot \\delta dA}\\\\\n",
    "=\\frac{4}{\\pi}\\int_0^\\pi{\\int_0^{\\sin{x}}{y^2dy}dx}\\\\\n",
    "=\\frac{4}{\\pi}\\int_0^\\pi{\\left[\\frac{y^3}{3}\\right]_0^{\\sin{x}}dx}\\\\\n",
    "=\\frac{4}{\\pi}\\int_0^\\pi{\\frac{\\sin^3{x}}{3}dx}\\\\\n",
    "=\\frac{4}{3\\pi}\\int_0^\\pi{\\sin{x}(1-\\cos^2{x})dx}$  \n",
    "设 $u=\\cos{x} \\implies du=-\\sin{x}dx \\implies \\sin{x}dx=-du \\implies \\int{\\sin{x}(1-\\cos^2{x})dx}=\\int{(1-u^2) \\cdot -du}=\\int{(u^2-1)du}=\\frac{u^3}{3}-u+C=\\frac{\\cos^3{x}}{3}-\\cos{x}+C$  \n",
    "可得 $\\bar{y}=\\frac{4}{3\\pi}\\left[\\frac{\\cos^3{x}}{3}-\\cos{x}\\right]_0^\\pi=\\frac{16}{9\\pi}$  \n",
    "质心坐标为 $(\\frac{\\pi}{2}, \\frac{16}{9\\pi})$"
   ]
  },
  {
   "cell_type": "markdown",
   "metadata": {},
   "source": [
    "### 问题3C-3\n",
    "- a) $I=\\iint_R{y^2 \\cdot \\delta dA}=\\int_{-\\sqrt{a^2-c^2}}^{\\sqrt{a^2-c^2}}{\\int_c^{\\sqrt{a^2-x^2}}{y^2dy}dx}$\n",
    "- b) $I=\\iint_R{y^2 \\cdot \\delta dA}=\\int_{\\arcsin{\\frac{c}{a}}}^{\\pi -\\arcsin{\\frac{c}{a}}}{\\int_{\\frac{c}{\\sin{\\theta}}}^a{(r\\sin{\\theta})^2rdr}d\\theta}=\\int_{\\arcsin{\\frac{c}{a}}}^{\\pi -\\arcsin{\\frac{c}{a}}}{\\int_{\\frac{c}{\\sin{\\theta}}}^a{r^3\\sin^2{\\theta}dr}d\\theta}$"
   ]
  },
  {
   "cell_type": "markdown",
   "metadata": {},
   "source": [
    "### 问题3D-1\n",
    "- $J=\\frac{\\partial(u, v)}{\\partial(x, y)}=\\begin{vmatrix}u_x&&u_y\\\\v_x&&v_y\\end{vmatrix}=\\begin{vmatrix}1&&-3\\\\2&&1\\end{vmatrix}=7$  \n",
    "$dudv=J \\cdot dxdy=7dxdy \\implies dxdy=\\frac{1}{7}dudv$  \n",
    "区域在 $y=-2x+1$ 和 $y=-2x+4$ 之间，可得 $1 \\le v=2x+y \\le 4$，同理可得 $0 \\le u \\le 7$  \n",
    "综合以上可得 $\\iint_R{\\frac{x-3y}{2x+y}dxdy}=\\int_1^4{\\int_0^7{\\frac{1}{7} \\cdot \\frac{u}{v}du}dv}=\\int_1^4{\\left[\\frac{u^2}{14v}\\right]_0^7dv}=\\int_1^4{\\frac{7}{2v}dx}=\\left[\\frac{7}{2}\\ln|v|\\right]_1^4=7\\ln{2}$"
   ]
  },
  {
   "cell_type": "markdown",
   "metadata": {},
   "source": [
    "### 问题3D-2\n",
    "- $J=\\frac{\\partial{u, v}}{\\partial{x, y}}=\\begin{vmatrix}u_x&&u_y\\\\v_x&&v_y\\end{vmatrix}=\\begin{vmatrix}1&&1\\\\1&&-1\\end{vmatrix}=-2$  \n",
    "$dudv=J \\cdot dxdy=-2dxdy \\implies dxdy=-\\frac{1}{2}dudv$  \n",
    "有原始区域可知 $0 \\le u=x+y \\le 2$，当 $u$ 不变时，$-u \\le v=x-y \\le u$  \n",
    "综合可得 $\\iint_R{\\cos{\\frac{x-y}{x+y}}dxdy}=\\int_0^2{\\int_{-u}^u{-\\frac{1}{2}\\cos{\\frac{v}{u}}dv}du}=\\int_0^2{\\left[-\\frac{1}{2} \\cdot u\\sin{\\frac{v}{u}}\\right]_{-u}^udu}=\\int_0^2{-u\\sin{1}du}=-\\sin{1}\\left[\\frac{u^2}{2}\\right]_0^2=-2\\sin{1}$"
   ]
  },
  {
   "cell_type": "markdown",
   "metadata": {},
   "source": [
    "### 问题3D-4\n",
    "- $J=\\frac{\\partial(u, v)}{\\partial(x, y)}=\\begin{vmatrix}u_x&&u_y\\\\v_x&&v_y\\end{vmatrix}=\\begin{vmatrix}1&&1\\\\2&&-3\\end{vmatrix}=-5$  \n",
    "$dudv=J \\cdot dxdy \\implies dxdy=\\frac{1}{J}dudu=-\\frac{1}{5}dudv$  \n",
    "$0 \\le v=3x-2y \\le 4$，当 $v$ 不变时，由 $v=3x-3y$ 可得其在 $y$ 轴的截距范围是 $[-\\frac{v}{3}, \\frac{v}{2}]$ 可得 $-\\frac{v}{3} \\le u=x+y \\le \\frac{v}{2}$  \n",
    "综合可得 $\\iint_R{(3x-2y)^2(x+y)^2dxdy}=\\int_0^4{\\int_{-v/3}^{v/2}{u^2v^2 \\cdot (-\\frac{1}{5})du}dv}=\\int_0^4{\\left[-\\frac{u^3v^2}{15}\\right]_{-v/3}^{v/2}dv}=\\int_0^4{-\\frac{7}{648}v^5dv}=\\left[-\\frac{7}{648} \\cdot \\frac{v^6}{6}\\right]_0^4=-\\frac{1792}{243}$"
   ]
  },
  {
   "cell_type": "markdown",
   "metadata": {},
   "source": [
    "### 问题3D-3\n",
    "- $J=\\begin{vmatrix}u_x&&u_y\\\\v_x&&v_y\\end{vmatrix}=\\begin{vmatrix}1&&0\\\\0&&2\\end{vmatrix}=2$  \n",
    "$dudv=J \\cdot dxdy \\implies dxdy=\\frac{1}{2}dudv$  \n",
    "$\\iint_R{(16-x^2-4y^2)dxdy}=\\iint_R^{\\prime}{(16-u^2-v^2)\\frac{1}{2}dudv}$ 其中 $R^\\prime$ 可以看作 $uv$ 坐标系中原点为圆心半径为 $4$ 的圆  \n",
    "转化为极坐标形式 $\\iint_R^{\\prime}{(16-u^2-v^2)\\frac{1}{2}dudv}=\\int_0^{2\\pi}{\\int_0^{4}{\\frac{16-r^2}{2}rdr}d\\theta}=\\int_0^{2\\pi}{\\left[4r^2-\\frac{r^4}{8}\\right]_0^4d\\theta}=\\int_0^{2\\pi}{32d\\theta}=64\\pi$"
   ]
  },
  {
   "cell_type": "markdown",
   "metadata": {},
   "source": [
    ">https://ocw.mit.edu/courses/18-02sc-multivariable-calculus-fall-2010/resources/mit18_02sc_pset7/"
   ]
  },
  {
   "cell_type": "markdown",
   "metadata": {},
   "source": [
    "## Part $\\mathrm{II}$"
   ]
  }
 ],
 "metadata": {
  "language_info": {
   "name": "python"
  }
 },
 "nbformat": 4,
 "nbformat_minor": 2
}
