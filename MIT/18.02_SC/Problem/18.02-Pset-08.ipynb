{
 "cells": [
  {
   "cell_type": "markdown",
   "metadata": {},
   "source": [
    ">https://ocw.mit.edu/courses/18-02sc-multivariable-calculus-fall-2010/resources/mit18_02sc_supprob4/"
   ]
  },
  {
   "cell_type": "markdown",
   "metadata": {},
   "source": [
    "## Part $\\mathrm{I}$"
   ]
  },
  {
   "cell_type": "markdown",
   "metadata": {},
   "source": [
    "### 问题4A-1\n",
    "- d) $r=\\sqrt{x^2+y^2}$ 可知 $\\vec{F}=<\\frac{y}{r},-\\frac{x}{r}>$ 为单位向量，且方向为 $<x,y>$ 顺时针旋转 $90^\\circ$ 获得  \n",
    "向量场 $\\vec{F}$ 在除 $(0, 0)$ 点之外的任一点的向量均为与该点所在圆（以原点为圆心）顺时针相切的单位向量  \n",
    "向量场 $\\vec{F}$ 在原点 $(0, 0)$ 处无定义，在除原点外的坐标平面上均连续可导"
   ]
  },
  {
   "cell_type": "markdown",
   "metadata": {},
   "source": [
    "### 问题4A-2\n",
    "- b) $w=\\ln{r}=\\ln{\\sqrt{x^2+y^2}} \\implies \\begin{cases}w_x=\\frac{x}{x^2+y^2}\\\\w_y=\\frac{y}{x^2+y^2}\\end{cases} \\implies \\nabla w=<w_x,w_y>=<\\frac{x}{x^2+y^2},\\frac{y}{x^2+y^2}>$\n",
    "- c) $w=f(r)=f(\\sqrt{x^2+y^2}) \\implies \\begin{cases}w_x=\\frac{f^\\prime(r)x}{\\sqrt{x^2+y^2}}\\\\w_y=\\frac{f^\\prime(r)y}{\\sqrt{x^2+y^2}}\\end{cases} \\implies \\nabla w=<\\frac{f^\\prime(r)x}{\\sqrt{x^2+y^2}},\\frac{f^\\prime(r)y}{\\sqrt{x^2+y^2}}>$"
   ]
  },
  {
   "cell_type": "markdown",
   "metadata": {},
   "source": [
    "### 问题4A-3\n",
    "- b) $\\vec{F}=<-x\\sqrt{x^2+y^2},-y\\sqrt{x^2+y^2}>$\n",
    "- d) $\\vec{F}=<x,x>$"
   ]
  },
  {
   "cell_type": "markdown",
   "metadata": {},
   "source": [
    "### 问题4A-4\n",
    "- $\\vec{F}=<\\frac{-ky}{r^2},\\frac{kx}{r^2}>$"
   ]
  },
  {
   "cell_type": "markdown",
   "metadata": {},
   "source": [
    "### 问题4A-1\n",
    "- b) 向量场中任一点处向量为朝向极点，模长为 $r$ 的向量  \n",
    "在整个二维平面都连续可导"
   ]
  },
  {
   "cell_type": "markdown",
   "metadata": {},
   "source": [
    "### 问题4A-2\n",
    "- a) $\\nabla w=<w_x,w_y>=<a,b>$"
   ]
  },
  {
   "cell_type": "markdown",
   "metadata": {},
   "source": [
    "### 问题4A-3\n",
    "- a) $\\vec{F}=<1,2>$\n",
    "- c) $\\vec{F}=<\\frac{y}{r^3},\\frac{-x}{r^3}>$"
   ]
  },
  {
   "cell_type": "markdown",
   "metadata": {},
   "source": [
    "### 问题4B-1\n",
    "- a) 对于 $C_1$ 可得参数方程 $\\begin{cases}x(t)=-1+t\\\\y=0\\end{cases}, 0 \\le t \\le 2 \\implies \\begin{cases}dx=dt\\\\dy=0\\end{cases} \\implies \\int_{C_1}{(x^2-y)dx+2xdy}=\\int_0^2{(t-1)^2dt}=\\left[\\frac{1}{3}(t-1)^3\\right]_0^2=\\frac{2}{3}$  \n",
    "对于 $C_2$，设 $\\begin{cases}x(t)=t\\\\y(t)=1-t^2\\end{cases}, -1 \\le t \\le 1 \\implies \\begin{cases}dx=dt\\\\dy=-2tdt\\end{cases} \\implies \\int_{C_2}{(x^2-y)dx+2xdy}=\\int_{-1}^1{(t^2-(1-t^2))dt+2t \\cdot (-2tdt)}=\\int_{-1}^1{(-2t^2-1)dt}=\\left[-\\frac{2}{3}t^3-t\\right]_{-1}^1=-\\frac{10}{3}$\n",
    "- b) 设 $\\begin{cases}x(t)=\\cos{t}\\\\y(t)=\\sin{t}\\end{cases} \\implies \\begin{cases}dx=-\\sin{t}dt\\\\dy=\\cos{t}dt\\end{cases}$ 其中 $t$ 由 $\\frac{\\pi}{2}$ 到 $0$  \n",
    "带入得 $\\int_C{xydx-x^2dy}=\\int_{\\pi/2}^0{(\\cos{t}\\sin{t}) \\cdot (-\\sin{t}dt)-(\\cos^2{t}) \\cdot (\\cos{t}dt)}\\\\\n",
    "=\\int_{\\pi/2}^0{(-\\cos{t}\\sin^2{t}-\\cos^3{t})dt}\\\\\n",
    "=\\int_{\\pi/2}^0{-\\cos{t}(\\sin^2{t}+\\cos^2{t})dt}\\\\\n",
    "=\\int_{\\pi/2}^0{-\\cos{t}dt}\\\\\n",
    "=\\left[-\\sin{t}\\right]_{\\pi/2}^0\\\\\n",
    "=1$"
   ]
  },
  {
   "cell_type": "markdown",
   "metadata": {},
   "source": [
    "### 问题4B-2\n",
    "- b) 任意一点处，$\\vec{F}$ 正好为路径方向的反方向，$\\int_C{\\vec{F} \\cdot d\\vec{r}}=\\int_C{\\vec{F} \\cdot \\hat{T}ds}=\\int_C{-|\\vec{F}|ds}=\\int_C{-ads}=-a\\int_C{ds}=-a \\cdot 2\\pi a=-2\\pi a^2$"
   ]
  },
  {
   "cell_type": "markdown",
   "metadata": {},
   "source": [
    "### 问题4B-3\n",
    "- a) 沿着 $\\vec{F}=<1,1>$ 的方向\n",
    "- b) 沿着 $\\vec{F}=<1,1>$ 的反方向，即 $<-1,-1>$ 方向\n",
    "- c) 垂直 $\\vec{F}=<1,1>$ 的方向，即 $<-1,1>$ 或 $<1,-1>$ 方向\n",
    "- d) 最大值为 $\\sqrt{2}$ 最小值为 $-\\sqrt{2}$"
   ]
  },
  {
   "cell_type": "markdown",
   "metadata": {},
   "source": [
    "### 问题4B-1\n",
    "- c) $C_1: (0, 0) \\rightarrow (0, 1)$，$C_2: (0, 1) \\rightarrow (1, 0)$，$C_3: (1, 0) \\rightarrow (0, 0)$  \n",
    "$\\vec{F}=<y,-x>$ 可知 $\\vec{F}$ 与 $C_1, C_3$ 都垂直，对应积分为 $0$，只需要计算 $C_2$ 上的积分即可  \n",
    "针对于 $C_2$，参数方程为 $\\begin{cases}x(t)=t\\\\y(t)=1-t\\end{cases}, 0 \\le t \\le 1 \\implies \\begin{cases}dx=dt\\\\dy=-dt\\end{cases} \\implies \\int_C{\\vec{F} \\cdot d\\vec{r}}=\\int_{C_2}{\\vec{F} \\cdot d\\vec{r}}=\\int_0^1{(1-t)dt-t \\cdot (-dt)}=\\int_0^1{dt}=1$\n",
    "- d) $\\int_C{ydx+0 \\cdot dy}=\\int_C{ydx}=\\int_0^{2\\pi}{\\sin{t} \\cdot (-2\\sin{t}dt)}=\\int_0^{2\\pi}{-2sin^2{t}dt}=\\int_0^{2\\pi}{-2 \\cdot \\frac{1-\\cos{2t}}{2}dt}=\\int_0^{2\\pi}{(\\cos{2t}-1)dt}=\\left[\\frac{\\sin{2t}}{2}-t\\right]_0^{2\\pi}=-2\\pi$"
   ]
  },
  {
   "cell_type": "markdown",
   "metadata": {},
   "source": [
    "### 问题4B-2\n",
    "- a) $\\vec{F}=<x,y>$ 与 $C$ 上任一点处的切线垂直，可知 $\\vec{F} \\cdot d\\vec{r}=\\vec{F} \\cdot \\hat{T}ds=0 \\cdot ds=0 \\implies \\int_C{\\vec{F} \\cdot d\\vec{r}}=0$"
   ]
  },
  {
   "cell_type": "markdown",
   "metadata": {},
   "source": [
    "### 问题4C-1\n",
    "- a) $\\vec{F}=\\nabla f=<f_x,f_y>=<3x^2y,x^3+3y^2>$\n",
    "- b) i) $C$ 的参数化方程 $\\begin{cases}x(t)=t^2\\\\y(t)=t\\end{cases}, -1 \\le t \\le 1 \\implies \\begin{cases}dx=2tdt\\\\dy=dt\\end{cases}\\\\\n",
    "\\implies \\int_C{\\vec{F} \\cdot d\\vec{r}}=\\int_C{3x^2ydx+(x^3+3y^2)dy}=\\int_{-1}^1{3(t^2)^2t \\cdot (2tdt)+((t^2)^3+3t^2)dt}=\\int_{-1}^1{(7t^6+3t^2)dt}=\\left[t^7+t^3\\right]_{-1}^1=4$  \n",
    "ii) $\\vec{F}=\\nabla f$ 可知积分 $\\int_C{\\vec{F} \\cdot d\\vec{r}}$ 不依赖具体路径，取简单路径：线段 $C^\\prime: (1, -1) \\rightarrow (1, 1)$ 得参数方程 $\\begin{cases}x(t)=1\\\\y(t)=t\\end{cases}, -1 \\le t \\le 1 \\implies \\begin{cases}dx=0\\\\dy=dt\\end{cases}\\\\\n",
    "\\implies \\int_C{\\vec{F} \\cdot d\\vec{r}}=\\int_C^\\prime{3x^2y \\cdot 0+(1+3t^2)dt}=\\int_{-1}^1{(1+3t^2)dt}=\\left[t+t^3\\right]_{-1}^1=4$  \n",
    "iii) 根据 FTC 可得 $\\int_C{\\vec{F} \\cdot d\\vec{r}}=f(P_1)-f(P_0)=f(1, 1)-f(1, -1)=2-(-2)=4$"
   ]
  },
  {
   "cell_type": "markdown",
   "metadata": {},
   "source": [
    "### 问题4C-3\n",
    "- a) $\\vec{F}=\\nabla f=<f_x,f_y>=<\\cos{x}\\cos{y},-\\sin{x}\\sin{y}>$\n",
    "- b) 根据 FTC $\\int_C{\\vec{F} \\dot d\\vec{r}}=f(P_1)-f(P_0)=f(x_1, y_1)-f(x_0, y_0)$ 由 $f(x, y)=\\sin{x}\\cos{y} \\implies |f(x, y)|=|\\sin{x}\\cos{y}|=|\\sin{x}||\\cos{y}| \\le 1 \\cdot 1=1 \\implies -1 \\le f(x, y) \\le 1$  \n",
    "可知 $f(x_1, y_1)=1$ 而 $f(x_0, y_0)=-1$ 时可以取得最大值 $2$  \n",
    "可以取 $P_0=(\\frac{\\pi}{2}, \\pi), P_1=(\\frac{\\pi}{2}, 0)$，而由 $(\\frac{\\pi}{2}, \\pi)$ 到 $(\\frac{\\pi}{2}, 0)$ 的任意路径均可满足条件"
   ]
  },
  {
   "cell_type": "markdown",
   "metadata": {},
   "source": [
    "### 问题4C-2\n",
    "- a) $\\vec{F}=\\nabla f=<f_x,f_y>=<e^{xy}+xye^{xy},x^2e^{xy}>$\n",
    "- b) i) 得 $C$ 参数方程 $\\begin{cases}x(t)=t\\\\y(t)=\\frac{1}{t}\\end{cases} \\implies \\begin{cases}dx=dt\\\\dy=-\\frac{1}{t^2}dt\\end{cases}$ $t$ 由 $1$ 到 $0$ 且 $t=0$，另外可知 $xy=1$  \n",
    "带入积分 $\\int_C{\\vec{F} \\cdot d\\vec{r}}=\\int_C{(e^{xy}+xye^{xy})dx+x^2e^{xy}dy}=\\int_1^0{(e^1+1 \\cdot e^1)dt+t^2 \\cdot e^1 \\cdot (-\\frac{1}{t^2})dt}=\\int_1^0{edt}=-e$  \n",
    "ii) 根据 FTC，$\\int_C{\\vec{F} \\cdot d\\vec{r}}=f(P_1)-f(P_0)=f(0, \\infty)-f(1, 1)=0 \\cdot (e^0)^\\infty-1 \\cdot e^{1 \\cdot 1}=0 \\cdot 1^\\infty-e=0-e=-e$"
   ]
  },
  {
   "cell_type": "markdown",
   "metadata": {},
   "source": [
    "### 问题4C-5\n",
    "- a) $\\vec{F}=<M,N>=<y^2+2x,axy> \\implies \\begin{cases}M=y^2+2x\\\\N=axy\\end{cases}$ 由 $M_y=N_x \\implies 2y=ay \\implies a=2$  \n",
    "可得 $\\begin{cases}f_x=y^2+2x\\\\f_y=2xy\\end{cases}$ 由 $f_x=y^2+2x \\implies f=xy^2+x^2+g(y) \\implies f_y=2xy+g^\\prime(y)$ 匹配 $f_y=2xy$ 可得 $g^\\prime(y)=0 \\implies g(y)=C$  \n",
    "因此 $f(x, y)=xy^2+x^2+C$\n",
    "- b) $\\vec{F}=<M,N>=<(x+a)e^{x+y},xe^{x+y}> \\implies \\begin{cases}M=(x+a)e^{x+y}\\\\N=xe^{x+y}\\end{cases}$ 由 $M_y=N_x \\implies (x+a)e^{x+y}=e^{x+y}+xe^{x+y}=(x+1)e^{x+y} \\implies a=1$  \n",
    "可得 $\\begin{cases}f_x=(x+1)e^{x+y}\\\\f_y=xe^{x+y}\\end{cases}$ 由 $f_x=(x+1)e^{x+y} \\implies f=xe^{x+y}+g(y) \\implies f_y=xe^{x+y}+g^\\prime(y)$ 匹配 $f_y=xe^{x+y} \\implies g(y)=C$  \n",
    "因此 $f(x, y)=xe^{x+y}+C$"
   ]
  },
  {
   "cell_type": "markdown",
   "metadata": {},
   "source": [
    "### 问题4C-6\n",
    "- a) $<M,N>=<y,-x> \\implies M_y=1 \\ne -1=N_x$ 因此 $\\vec{F}=<y, -x>$ 不是任何潜在函数的梯度向量\n",
    "- b) $<M,N>=<2xy+y^2,2xy+x^2> \\implies \\begin{cases}M_y=2x+2y\\\\N_x=2y+2x\\end{cases} \\implies M_y=N_x$ 且 $\\vec{F}=<M,N>$ 连续可导，因此 $\\vec{F}$ 是潜在函数的梯度向量  \n",
    "由 $f_x=2xy+y^2 \\implies f=x^2y+xy^2+g(y) \\implies f_y=x^2+2xy+g^\\prime(y)$ 匹配 $f_y=2xy+x^2 \\implies g(y)=C$  \n",
    "得 $f(x, y)=x^2y+xy^2+C$ 因此 $y(2x+y)dx+x(2y+x)dy=d(x^2y+xy^2+C)$"
   ]
  }
 ],
 "metadata": {
  "language_info": {
   "name": "python"
  }
 },
 "nbformat": 4,
 "nbformat_minor": 2
}
