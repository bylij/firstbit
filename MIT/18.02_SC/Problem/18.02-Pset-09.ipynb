{
 "cells": [
  {
   "cell_type": "markdown",
   "metadata": {},
   "source": [
    ">https://ocw.mit.edu/courses/18-02sc-multivariable-calculus-fall-2010/resources/mit18_02sc_supprob4/"
   ]
  },
  {
   "cell_type": "markdown",
   "metadata": {},
   "source": [
    "## Part $\\mathrm{I}$"
   ]
  },
  {
   "cell_type": "markdown",
   "metadata": {},
   "source": [
    "### 问题4D-1\n",
    "- c) i) 直接计算  \n",
    "曲线 $C$ 分为两部分：$C_1: y=x^2$ 及 $C_2: y=x$  \n",
    "针对 $C_1$ 可得参数方程 $\\begin{cases}x(t)=t\\\\y(t)=t^2\\end{cases} \\implies \\begin{cases}dx=dt\\\\dy=2tdt\\end{cases}$ 其中 $t: 0 \\rightarrow 1$  \n",
    "可得 $\\int_{C_1}{\\vec{F} \\cdot d\\vec{r}}=\\int_{C_1}{xydx+y^2dy}=\\int_0^1{t \\cdot t^2dt+(t^2)^2 \\cdot 2tdt}=\\int_0^1{(t^3+2t^5)dt}=\\left[\\frac{t^4}{4}+\\frac{t^6}{3}\\right]_0^1=\\frac{7}{12}$ $\\textcircled{1}$  \n",
    "针对 $C_2$ 可得参数方程 $\\begin{cases}x(t)=t\\\\y(t)=t\\end{cases} \\implies \\begin{cases}dx=dt\\\\dy=dt\\end{cases}$ 其中 $t: 1 \\rightarrow 0$  \n",
    "可得 $\\int_{C_2}{\\vec{F} \\cdot d\\vec{r}}=\\int_{C_1}{xydx+y^2dy}=\\int_1^0{t \\cdot tdt+t^2dt}=\\int_1^0{2t^2dt}=\\left[\\frac{2t^3}{3}\\right]_1^0=-\\frac{2}{3}$ $\\textcircled{1}$  \n",
    "结合 $\\textcircled{1}$ 和 $\\textcircled{2}$ 可得 $\\int_C{\\vec{F} \\cdot d\\vec{r}}=\\int_{C_1}{\\vec{F} \\cdot d\\vec{r}}+\\int_{C_2}{\\vec{F} \\cdot d\\vec{r}}=-\\frac{1}{12}$  \n",
    "ii) 采用格林定理  \n",
    "因为 $\\vec{F}=<xy,y^2>$ 在 $C$ 及其闭合区域 $R$ 内部均连续可导，满足格林定理  \n",
    "可得 $\\oint_C{\\vec{F} \\cdot d\\vec{r}}=\\iint_R{curl(\\vec{F})dA}=\\int_0^1{\\int_{x^2}^x{(-x)dy}dx}=\\int_0^1{\\left[-xy\\right]_{x^2}^xdx}=\\int_0^1{(x^3-x^2)dx}=\\left[\\frac{x^4}{4}-\\frac{x^3}{3}\\right]_0^1=-\\frac{1}{12}$  \n",
    "两种方法结果一致"
   ]
  },
  {
   "cell_type": "markdown",
   "metadata": {},
   "source": [
    "### 问题4D-2\n",
    "- $\\vec{F}=<4x^3y,x^4> \\implies curl(\\vec{F})=N_x-M_y=4x^3-4x^3=0 \\implies M_y=N_x$ 且 $\\vec{F}$ 连续可导，可知 $\\vec{F}=\\nabla f$ 是某个潜在函数 $f$ 的梯度向量  \n",
    "对于任何闭合曲线 $C$ 取其中一点 $P_0$ 作为起点和重点，根据 FTC 可知 $\\oint_C{\\vec{F} \\cdot d\\vec{r}}=f(P_0)-f(P_0)=0$"
   ]
  },
  {
   "cell_type": "markdown",
   "metadata": {},
   "source": [
    "### 问题4D-3\n",
    "- 设 $\\vec{F}=<0,x> \\implies curl(\\vec{F})=N_x-M_y=1$ 且 $\\vec{F}$ 连续可导，满足格林定理  \n",
    "可得 $\\oint_C{\\vec{F} \\cdot d\\vec{r}}=\\iint_R{curl(\\vec{F})dA}=\\iint_R{dA}=Area(R) \\implies Area(R)=\\int_C{0 \\cdot dx+xdy}=\\int_C{xdy}$  \n",
    "由 $\\begin{cases}x=\\cos^3{\\theta}\\\\y=\\sin^3{\\theta}\\end{cases} \\implies dy=3\\sin^2{\\theta}\\cos{\\theta}d\\theta$  \n",
    "带入可得 $Area(R)=\\int_0^{2\\pi}{\\cos^3{\\theta} \\cdot 3\\sin^2{\\theta}\\cos{\\theta}d\\theta}\\\\\n",
    "=3\\int_0^{2\\pi}{\\cos^4{\\theta}\\sin^2{\\theta}d\\theta}\\\\\n",
    "=3\\int_0^{2\\pi}{\\cos^2{\\theta}(\\cos{\\theta}\\sin{\\theta})^2d\\theta}\\\\\n",
    "=3\\int_0^{2\\pi}{\\frac{1+\\cos{2\\theta}}{2}(\\frac{\\sin{2\\theta}}{2})^2d\\theta}\\\\\n",
    "=3\\int_0^{2\\pi}{\\frac{1}{8}(\\sin^2{2\\theta}+\\sin^2{2\\theta}\\cos{2\\theta})d\\theta}\\\\\n",
    "=\\frac{3}{8}\\int_0^{2\\pi}{\\sin^2{2\\theta}d\\theta}+\\frac{3}{8}\\int_0^{2\\pi}{\\sin^2{2\\theta}\\cos{2\\theta}d\\theta}$ $\\textcircled{1}$  \n",
    "针对 $\\int_0^{2\\pi}{\\sin^2{2\\theta}\\cos{2\\theta}d\\theta}$ 进行变量替换，设 $u=\\sin{2\\theta} \\implies du=2\\cos{2\\theta}d\\theta \\implies \\cos{2\\theta}d\\theta=\\frac{du}{2}$  \n",
    "可得 $\\int{\\sin^2{2\\theta}\\cos{2\\theta}d\\theta}=\\int{u^2 \\cdot \\frac{du}{2}}=\\frac{u^3}{6}+C \\implies \\int_0^{2\\pi}{\\sin^2{2\\theta}\\cos{2\\theta}d\\theta}=\\left[\\frac{\\sin^3{2\\theta}}{6}\\right]_0^{2\\pi}=0$  \n",
    "带回 $\\textcircled{1}$ 得 $Area(R)=\\frac{3}{8}\\int_0^{2\\pi}{\\sin^2{2\\theta}d\\theta}+\\frac{3}{8}\\int_0^{2\\pi}{\\sin^2{2\\theta}\\cos{2\\theta}d\\theta}\\\\\n",
    "=\\frac{3}{8}\\int_0^{2\\pi}{\\frac{1-\\cos{2\\theta}}{2}d\\theta}+\\frac{3}{8} \\cdot 0\\\\\n",
    "=\\frac{3}{8}\\left[\\frac{\\theta}{2}-\\frac{\\sin{2\\theta}}{4}\\right]_0^{2\\pi}\\\\\n",
    "=\\frac{3\\pi}{8}$"
   ]
  },
  {
   "cell_type": "markdown",
   "metadata": {},
   "source": [
    "### 问题4D-4\n",
    "- $\\vec{F}=<-y^3,x^3>$ 连续可导，根据格林定理 $\\oint_C{-y^3dx+x^3dy}=\\iint_R{curl(\\vec{F})dA}=\\iint_R{(3x^2-(-3y^2))dA}=\\iint_R{3(x^2+y^2)dA} \\gt 0$"
   ]
  },
  {
   "cell_type": "markdown",
   "metadata": {},
   "source": [
    "### 问题4D-1\n",
    "- a) i) 直接计算，设 $\\begin{cases}x(t)=\\cos{t}\\\\y(t)=\\sin{t}\\end{cases} \\implies \\begin{cases}dx=-\\sin{t}dt\\\\dy=\\cos{t}dt\\end{cases}$ 其中 $t: 0 \\rightarrow 2\\pi$  \n",
    "可得 $\\int_C{\\vec{F} \\cdot d\\vec{r}}=\\int_C{2ydx+xdy}\\\\\n",
    "=\\int_0^{2\\pi}{2\\sin{t} \\cdot (-\\sin{t}dt)+\\cos{t} \\cdot \\cos{t}dt}\\\\\n",
    "=\\int_0^{2\\pi}{(\\cos^2{t}-2\\sin^2{t})dt}\\\\\n",
    "=\\int_0^{2\\pi}{(\\cos^2{t}-2(1-\\cos^2{t}))dt}\\\\\n",
    "=\\int_0^{2\\pi}{(3\\cos^2{t}-2)dt}\\\\\n",
    "=\\int_0^{2\\pi}{(3 \\cdot \\frac{1+\\cos{2t}}{2}-2)dt}\\\\\n",
    "=\\int_0^{2\\pi}{(\\frac{3}{2}\\cos{2t}-\\frac{1}{2})dt}\\\\\n",
    "=\\left[\\frac{3}{4}\\sin{2t}-\\frac{1}{2}t\\right]_0^{2\\pi}\\\\\n",
    "=-\\pi$  \n",
    "ii) 格林定理法，$\\vec{F}=<2y,x>$ 连续可导，满足格林定理  \n",
    "可得 $\\oint_C{\\vec{F} \\cdot d\\vec{r}}=\\iint_R{curl(\\vec{F})dA}=\\iint_R{-dA}=-Area(R)=-\\pi$\n",
    "- b) i) 直接计算，曲线 $C$ 分割为四部分 $C_1: (0, 0) \\rightarrow (2, 0); C_2: (2, 0) \\rightarrow (2, 1); C_3: (2, 1) \\rightarrow (0, 1); C_4: (0, 1) \\rightarrow (0, 0)$  \n",
    "针对 $C_1$ 得参数方程 $\\begin{cases}x(t)=t\\\\y(t)=0\\end{cases} \\implies \\begin{cases}dx=dt\\\\dy=0\\end{cases}$ 其中 $t: 0 \\rightarrow 2$ 可得 $\\int_{C_1}{\\vec{F} \\cdot d\\vec{r}}=\\int_{c_1}{x^2dx+x^2dy}=\\int_0^2{t^2dt}=\\frac{8}{3}$  \n",
    "针对 $C_2$ 得参数方程 $\\begin{cases}x(t)=2\\\\y(t)=t\\end{cases} \\implies \\begin{cases}dx=0\\\\dy=dt\\end{cases}$ 其中 $t: 0 \\rightarrow 1$ 可得 $\\int_{C_2}{\\vec{F} \\cdot d\\vec{r}}=\\int_{c_2}{x^2dx+x^2dy}=\\int_0^1{4dt}=4$  \n",
    "针对 $C_3$ 得参数方程 $\\begin{cases}x(t)=2-t\\\\y(t)=1\\end{cases} \\implies \\begin{cases}dx=-dt\\\\dy=0\\end{cases}$ 其中 $t: 0 \\rightarrow 2$ 可得 $\\int_{C_3}{\\vec{F} \\cdot d\\vec{r}}=\\int_{c_3}{x^2dx+x^2dy}=\\int_0^2{(2-t)^2 \\cdot -dt}=-\\frac{8}{3}$  \n",
    "针对 $C_4$ 得参数方程 $\\begin{cases}x(t)=0\\\\y(t)=1-t\\end{cases} \\implies \\begin{cases}dx=0\\\\dy=-dt\\end{cases}$ 其中 $t: 0 \\rightarrow 1$ 可得 $\\int_{C_4}{\\vec{F} \\cdot d\\vec{r}}=\\int_{c_4}{x^2dx+x^2dy}=\\int_0^1{0 \\cdot -dt}=0$  \n",
    "综上所述 $\\int_C{\\vec{F} \\cdot d\\vec{R}}=\\int_{C_1}{\\vec{F} \\cdot d\\vec{R}}+\\int_{C_2}{\\vec{F} \\cdot d\\vec{R}}+\\int_{C_3}{\\vec{F} \\cdot d\\vec{R}}+\\int_{C_4}{\\vec{F} \\cdot d\\vec{R}}=4$  \n",
    "ii) $\\vec{F}=<x^2,x^2>$ 连续可导，满足格林定理，可得 $\\oint_C{\\vec{F} \\cdot d\\vec{r}}=\\iint_R{curl(\\vec{F})dA}=\\iint_R{2xdA}=\\int_0^2{\\int_0^1{2xdy}dx}=\\int_0^2{\\left[2xy\\right]_0^1dx}=\\int_0^2{2xdx}=\\left[x^2\\right]_0^2=4$"
   ]
  },
  {
   "cell_type": "markdown",
   "metadata": {},
   "source": [
    "### 问题4D-5\n",
    "- $\\vec{F}=<xy^2,x^2y+2x>$ 连续可导，满足格林定理，可得 $\\oint_C{\\vec{F} \\cdot d\\vec{r}}=\\iint_R{curl(\\vec{F})dA}=\\iint_R{2dA}=2Area(R)$ 对于正方形 $C$ 积分值仅与正方形区域面积即正方形尺寸有关"
   ]
  },
  {
   "cell_type": "markdown",
   "metadata": {},
   "source": [
    "### 问题4E-1\n",
    "- a) $\\vec{F}=<-y,x>$ 与 $C$ 上任一点处的法线均垂直，即 $\\vec{F} \\cdot \\hat{n}=0 \\implies \\int_C{\\vec{F} \\dot nds}=\\int_C{0ds}=0$\n",
    "- c) 得到 $C$ 的参数化方程 $\\begin{cases}x(t)=t\\\\y(t)=0\\end{cases} \\implies \\begin{cases}dx=dt\\\\dy=0\\end{cases}$ 其中 $t: 0 \\rightarrow 1$  \n",
    "可得 $Flux=\\int_C{\\vec{F} \\cdot \\hat{n}ds}=\\int_C{<-y,x> \\cdot <dy,-dx>}=\\int_C{-xdx-ydy}=\\int_C{-tdt-0 \\cdot 0}=\\int_0^1{-tdt}=-\\frac{1}{2}$"
   ]
  },
  {
   "cell_type": "markdown",
   "metadata": {},
   "source": [
    "### 问题4E-2\n",
    "- a) 沿着 $<-1,1>$ 方向\n",
    "- b) 沿着 $<1,-1>$ 方向\n",
    "- c) 沿着 $<1,1>$ 或 $<-1,-1>$ 方向\n",
    "- d) 水平的 $<1, 0>$ 方向\n",
    "- e) 最大值 $\\sqrt{2}$，最小值 $-\\sqrt{2}$"
   ]
  },
  {
   "cell_type": "markdown",
   "metadata": {},
   "source": [
    "### 问题4E-4\n",
    "- 由格林定理得 $\\oint_C{\\vec{F} \\cdot \\hat{n}ds}=-\\iint_R{div(\\vec{F})dA}=-\\iint_R{2dA}=-2Area(R)=-2$"
   ]
  },
  {
   "cell_type": "markdown",
   "metadata": {},
   "source": [
    "### 问题4E-5\n",
    "- a) 根据题意可得 $\\vec{F}=<r^{m-1}x,r^{m-1}y> \\implies \\int_C{\\vec{F} \\cdot \\hat{n}ds}=\\int_C{-r^{m-1}ydx+r^{m-1}xdy}$ 其中 $r=\\sqrt{x^2+y^2}$  \n",
    "设 $\\begin{cases}x(t)=a\\cos{t}\\\\y(t)=a\\sin{t}\\end{cases} \\implies \\begin{cases}dx=-a\\sin{t}dt\\\\dy=a\\cos{t}dt\\end{cases}$ 其中 $t: 0 \\rightarrow 2\\pi$  \n",
    "可得 $\\int_C{\\vec{F} \\cdot \\hat{n}ds}=\\int_0^{2\\pi}{-a^{m-1} \\cdot a\\sin{t} \\cdot -a\\sin{t}dt+a^{m-1} \\cdot a\\cos{t} \\cdot a\\cos{t}dt}=a^{m-1} \\cdot a^2\\int_0^{2\\pi}{(\\sin^2{t}+\\cos^2{t})dt}=a^{m+1}\\int_0^{2\\pi}dt=2\\pi a^{m+1}$\n",
    "- b) 当 $m=-1$ 时 $\\int_C{\\vec{F} \\cdot \\hat{n}ds}=2\\pi a^0=2\\pi$ 与 $a$ 无关"
   ]
  },
  {
   "cell_type": "markdown",
   "metadata": {},
   "source": [
    "### 问题4E-1\n",
    "- b) 根据对称性，可知 $(-1,0) \\rightarrow (0,0)$ 与 $(0,0) \\rightarrow (1,0)$ 两段的通量正好抵消，因此总通量为 $0$"
   ]
  },
  {
   "cell_type": "markdown",
   "metadata": {},
   "source": [
    "### 问题4E-3\n",
    "- 设 $\\begin{cases}x(t)=t+1\\\\y(t)=t^2\\end{cases} \\implies \\begin{cases}dx=dt\\\\dy=2tdt\\end{cases}$ 其中 $t: 0 \\rightarrow 1$  \n",
    "计算 $\\int_C{\\vec{F} \\cdot \\hat{n}ds}=\\int_C{-xydx+x^2dy}=\\int_0^1{-(t+1) \\cdot t^2 \\cdot dt+(t+1)^2 \\cdot 2tdt}=\\int_0^1{(t^3+3t^2+2t)dt}=\\left[\\frac{t^4}{4}+t^3+t^2\\right]_0^1=\\frac{9}{4}$"
   ]
  },
  {
   "cell_type": "markdown",
   "metadata": {},
   "source": [
    "### 问题4F-4\n",
    "- $C$ 分为四部分，$C_1: (0,0) \\rightarrow (1,0); C_2: (1,0) \\rightarrow (1,1); C_3: (1,1) \\rightarrow (0,1); C_4: (0,1) \\rightarrow (0,0)$  \n",
    "针对 $C_1$，参数方程为 $\\begin{cases}x(t)=t\\\\y(t)=0\\end{cases} \\implies \\begin{cases}dx=dt\\\\dy=0\\end{cases}$ 其中 $t: 0 \\rightarrow 1$ 可得 $\\int_{C_1}{\\vec{F} \\cdot \\hat{n}ds}=\\int_{C_1}{-xydx+x^2dy}=\\int_{C_1}{0 \\cdot dx+x^2 \\cdot 0}=0$  \n",
    "针对 $C_2$，参数方程为 $\\begin{cases}x(t)=1\\\\y(t)=t\\end{cases} \\implies \\begin{cases}dx=0\\\\dy=dt\\end{cases}$ 其中 $t: 0 \\rightarrow 1$ 可得 $\\int_{C_1}{\\vec{F} \\cdot \\hat{n}ds}=\\int_{C_1}{-xydx+x^2dy}=\\int_0^1{dt}=1$  \n",
    "针对 $C_3$，参数方程为 $\\begin{cases}x(t)=1-t\\\\y(t)=1\\end{cases} \\implies \\begin{cases}dx=-dt\\\\dy=0\\end{cases}$ 其中 $t: 0 \\rightarrow 1$ 可得 $\\int_{C_1}{\\vec{F} \\cdot \\hat{n}ds}=\\int_{C_1}{-xydx+x^2dy}=\\int_0^1{(1-t)dt}=\\frac{1}{2}$  \n",
    "针对 $C_4$，参数方程为 $\\begin{cases}x(t)=0\\\\y(t)=1-t\\end{cases} \\implies \\begin{cases}dx=0\\\\dy=-dt\\end{cases}$ 其中 $t: 0 \\rightarrow 1$ 可得 $\\int_{C_1}{\\vec{F} \\cdot \\hat{n}ds}=\\int_{C_1}{-xydx+x^2dy}=\\int_0^1{0}=0$  \n",
    "可得 $\\oint_C{\\vec{F} \\cdot \\hat{n}ds}=\\int_{C_1}{\\vec{F} \\cdot \\hat{n}ds}+\\int_{C_2}{\\vec{F} \\cdot \\hat{n}ds}+\\int_{C_3}{\\vec{F} \\cdot \\hat{n}ds}+\\int_{C_4}{\\vec{F} \\cdot \\hat{n}ds}=\\frac{3}{2}$  \n",
    "$\\iint_R{div(\\vec{F})dA}=\\iint_R{3xdA}=\\int_0^1{\\int_0^1{3xdy}dx}=\\int_0^1{\\left[3xy\\right]_0^1dx}=\\int_0^1{3xdx}=\\frac{3}{2}$  \n",
    "可得 $\\oint_C{\\vec{F} \\cdot \\hat{n}ds}=\\iint_R{div(\\vec{F})dA}$ 即格林定理成立"
   ]
  },
  {
   "cell_type": "markdown",
   "metadata": {},
   "source": [
    "### 问题4F-2\n",
    "- a) $curl(\\vec{F})=N_x-M_y=w-(-w)=2w$  \n",
    "$div(\\vec{F})=M_x+N_y=0+0=0$\n",
    "- b) 向量场 $\\vec{F}$ 在任一点处均为该点处以原点为圆心的圆在该点处的切线方向，因此在法线方向上不存在分量，而 $div(\\vec{F})$ 代表流体的散度，即向外部扩散的趋势，可知 $div(\\vec{F})=0$ 符合物理意义\n",
    "- c) $curl(\\vec{F})$ 代表流体的旋度，因此 $curl(\\vec{F})=2w$ 符合物理意义"
   ]
  },
  {
   "cell_type": "markdown",
   "metadata": {},
   "source": [
    "### 问题4F-3\n",
    "- $C$ 分为两部分，$C_1: (-1, 0) \\rightarrow (1, 0)$ 的线段，$C_2:$ 原点为圆心的单位圆上部分的逆时针方向  \n",
    "$C_1$ 参数方程 $\\begin{cases}x(t)=t\\\\y(t)=0\\end{cases} \\implies \\begin{cases}dx=dt\\\\dy=0\\end{cases}$ 其中 $-1 \\le t \\le 1$ 可得 $\\int_{C_1}{\\vec{F} \\cdot \\hat{n}ds}=\\int_{C_1}{-ydx+xdy}=\\int_{-1}^1{0}=0$  \n",
    "$C_2$ 参数方程 $\\begin{cases}x(t)=\\cos{\\theta}\\\\y(t)=\\sin{\\theta}\\end{cases} \\implies \\begin{cases}dx=-\\sin{\\theta}\\\\dy=\\cos{\\theta}\\end{cases}$ 其中 $\\theta: 0 \\rightarrow \\pi$ 可得 $\\int_{C_2}{\\vec{F} \\cdot \\hat{n}ds}=\\int_{C_2}{-ydx+xdy}=\\int_0^{\\pi}{-\\sin{\\theta} \\cdot -\\sin{\\theta}d\\theta+\\cos{\\theta} \\cdot \\cos{\\theta}d\\theta}=\\int_0^{\\pi}{d\\theta}=\\pi$  \n",
    "因此 $\\int_C{\\vec{F} \\cdot \\hat{n}ds}=\\int_{C_1}{\\vec{F} \\cdot \\hat{n}ds}+\\int_{C_2}{\\vec{F} \\cdot \\hat{n}ds}=0+\\pi=\\pi$  \n",
    "而 $\\iint_R{div(\\vec{F})dA}=\\iint_R{2dA}=2\\iint_R{dA}=2 \\cdot \\frac{1}{2}\\pi \\cdot 1^2=\\pi$  \n",
    "可得 $\\int_C{\\vec{F} \\cdot \\hat{n}ds}=\\iint_R{div(\\vec{F})dA}$ 即法方向形式的格林定理成立"
   ]
  }
 ],
 "metadata": {
  "language_info": {
   "name": "python"
  }
 },
 "nbformat": 4,
 "nbformat_minor": 2
}
