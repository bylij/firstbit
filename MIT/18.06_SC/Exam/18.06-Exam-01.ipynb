{
 "cells": [
  {
   "cell_type": "markdown",
   "metadata": {},
   "source": [
    ">https://ocw.mit.edu/courses/18-06sc-linear-algebra-fall-2011/resources/mit18_06scf11_ex1/"
   ]
  },
  {
   "cell_type": "markdown",
   "metadata": {},
   "source": [
    "### 问题1\n",
    "- a) 根据题意可知 $m=3$，$A$ 的列向量都在 $R^3$ 空间中  \n",
    "$Ax=b$ 的通解形式为 $x=x_p+x_N$，而 $Ax=\\begin{bmatrix}0\\\\1\\\\0\\end{bmatrix}$ 只有一个解，可以知道 $x_N=0 \\implies $ $A$ 的列向量线性不相关 $\\implies r=n \\le m=3$ $\\textcircled{1}$  \n",
    "由 $Ax=\\begin{bmatrix}1\\\\1\\\\1\\end{bmatrix}$ 无解，可知 $dim C(A) \\lt dim R^m \\implies r \\lt m$ 结合 $\\textcircled{1}$ 可得 $r=n \\lt m=3$\n",
    "- b) $Ax=0$ 只有零解，因为 $Ax=b$ 的通解形式为 $x=x_p+x_N$，而 $Ax=\\begin{bmatrix}0\\\\1\\\\0\\end{bmatrix}$ 只有一个解，可以知道 $x_N=0 \\implies N(A)={0}$\n",
    "- c) 例如 $A=\\begin{bmatrix}1&&0\\\\2&&1\\\\3&&0\\end{bmatrix}$"
   ]
  },
  {
   "cell_type": "markdown",
   "metadata": {},
   "source": [
    "### 问题2\n",
    "- a) $A^{-1}=E_{23}E_{31}E_{21}=\\begin{bmatrix}1&&0&&0\\\\0&&1&&-1\\\\0&&0&&1\\end{bmatrix}\\begin{bmatrix}1&&0&&0\\\\0&&1&&0\\\\-3&&0&&1\\end{bmatrix}\\begin{bmatrix}1&&0&&0\\\\-4&&1&&0\\\\0&&0&&1\\end{bmatrix}=\\begin{bmatrix}1&&0&&0\\\\0&&1&&-1\\\\0&&0&&1\\end{bmatrix}\\begin{bmatrix}0&&1&&0\\\\-4&&1&&0\\\\-3&&0&&1\\end{bmatrix}=\\begin{bmatrix}0&&1&&0\\\\-1&&1&&-1\\\\-3&&0&&1\\end{bmatrix}$\n",
    "- b) $A=(E_{23}E_{31}E_{21})^{-1}=E_{21}^{-1}E_{31}^{-1}E_{23}^{-1}=\\begin{bmatrix}1&&0&&0\\\\4&&1&&0\\\\0&&0&&1\\end{bmatrix}\\begin{bmatrix}1&&0&&0\\\\0&&1&&0\\\\3&&0&&1\\end{bmatrix}\\begin{bmatrix}1&&0&&0\\\\0&&1&&1\\\\0&&0&&1\\end{bmatrix}=\\begin{bmatrix}1&&0&&0\\\\4&&1&&1\\\\3&&0&&1\\end{bmatrix}$\n",
    "- c) 根据 b) 可知 $L=E_{21}^{-1}E_{31}^{-1}=\\begin{bmatrix}1&&0&&0\\\\4&&1&&0\\\\0&&0&&1\\end{bmatrix}\\begin{bmatrix}1&&0&&0\\\\0&&1&&0\\\\3&&0&&1\\end{bmatrix}=\\begin{bmatrix}1&&0&&0\\\\4&&1&&0\\\\3&&0&&1\\end{bmatrix}$"
   ]
  },
  {
   "cell_type": "markdown",
   "metadata": {},
   "source": [
    "### 问题3\n",
    "- a) $A=\\begin{bmatrix}1&&1&&2&&4\\\\3&&c&&2&&8\\\\0&&0&&2&&2\\end{bmatrix} \\rightarrow \\begin{bmatrix}1&&1&&2&&4\\\\0&&c-3&&-4&&-4\\\\0&&0&&2&&2\\end{bmatrix}$  \n",
    "当 $c \\ne 3$ 时，可知 $A$ 的前三列为存在主元，可以取前三列为基 $\\begin{bmatrix}1\\\\3\\\\0\\end{bmatrix}, \\begin{bmatrix}1\\\\c\\\\0\\end{bmatrix}, \\begin{bmatrix}2\\\\2\\\\2\\end{bmatrix}$  \n",
    "当 $c=3$ 时，可以进一步消元得到 $\\begin{bmatrix}1&&1&&2&&4\\\\0&&0&&-4&&-4\\\\0&&0&&0&&0\\end{bmatrix}$，仅一、三列存在主元，取 $A$ 的一、三列为基 $\\begin{bmatrix}1\\\\3\\\\0\\end{bmatrix}, \\begin{bmatrix}2\\\\2\\\\2\\end{bmatrix}$\n",
    "- b) 利用 a) 中结果，当 $c \\ne 3$ 时，第四列存在自由变量，取 $x_4=1$ 反带入消元结果得 $\\begin{cases}x_1+x_2+2x_3+4=0\\\\(c-3)x_2-4x_3-4=0\\\\2x_3+2=0\\end{cases}$ 得到一组基 $\\begin{bmatrix}-2\\\\0\\\\-1\\\\1\\end{bmatrix}$  \n",
    "同理，当 $c=3$ 时，第二、四列存在自由变量，分别取 $x_2=1, x_4=0$ 和 $x_2=0, x_4=1$ 可得到一组基 $\\begin{bmatrix}0\\\\1\\\\0\\\\0\\end{bmatrix}, \\begin{bmatrix}-2\\\\0\\\\-1\\\\1\\end{bmatrix}$\n",
    "- c) 通过观察可得特解 $x_p=\\begin{bmatrix}0\\\\1\\\\0\\\\0\\end{bmatrix}$，利用 b) 中结果，$c \\ne 3$ 时，通解 $x=x_p+x_N=\\begin{bmatrix}0\\\\1\\\\0\\\\0\\end{bmatrix}+d\\begin{bmatrix}-2\\\\0\\\\-1\\\\1\\end{bmatrix}$ (其中d为任意实数)  \n",
    "$c=3$ 时，通解 $x=x_p+x_N=\\begin{bmatrix}0\\\\1\\\\0\\\\0\\end{bmatrix}+d\\begin{bmatrix}0\\\\1\\\\0\\\\0\\end{bmatrix}+e\\begin{bmatrix}-2\\\\0\\\\-1\\\\1\\end{bmatrix}=d^\\prime\\begin{bmatrix}0\\\\1\\\\0\\\\0\\end{bmatrix}+e\\begin{bmatrix}-2\\\\0\\\\-1\\\\1\\end{bmatrix}$ ($d^\\prime$, e为任意实数)"
   ]
  },
  {
   "cell_type": "markdown",
   "metadata": {},
   "source": [
    "### 问题4\n",
    "- (a) $r \\le 3 \\implies dim(N(A))=5-r \\ge 2$ 即 $N(A)$ 的维度至少为 $2$\n",
    "- (b) $R$ 的一、四、五列存在主元，可知 $r=3 \\implies dim(C(A))=3$ 即 $A$ 的列空间维度为 $3$，列空间为 $R^3$，$5$ 个列向量有两个可有其他三个的线性组合得到\n",
    "- (C) $3 \\times 3$ 矩阵的最简行形式共有四种可能：  \n",
    "一、$\\begin{bmatrix}0&&0&&0\\\\0&&0&&0\\\\0&&0&&0\\end{bmatrix}$ 即全零矩阵，对应的子空间为 $S={0}$ 仅包含一个零矩阵  \n",
    "二、$\\begin{bmatrix}1&&0&&c\\\\0&&0&&0\\\\0&&0&&0\\end{bmatrix}$，对应的子空间为二、三行为零元素的矩阵集合  \n",
    "三、$\\begin{bmatrix}1&&0&&d\\\\0&&1&&e\\\\0&&0&&0\\end{bmatrix}$，对应的子空间为第三行为零元素的矩阵集合  \n",
    "四、$\\begin{bmatrix}1&&0&&0\\\\0&&1&&0\\\\0&&0&&1\\end{bmatrix}$，对应的子空间 $S=M$"
   ]
  }
 ],
 "metadata": {
  "language_info": {
   "name": "python"
  }
 },
 "nbformat": 4,
 "nbformat_minor": 2
}
