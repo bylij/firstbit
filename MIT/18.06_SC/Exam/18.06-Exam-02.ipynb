{
 "cells": [
  {
   "cell_type": "markdown",
   "metadata": {},
   "source": [
    ">https://ocw.mit.edu/courses/18-06sc-linear-algebra-fall-2011/resources/mit18_06scf11_ex2/"
   ]
  },
  {
   "cell_type": "markdown",
   "metadata": {},
   "source": [
    "### 问题1\n",
    "- a) $det\\begin{bmatrix}q_1&&q_2&&q_3\\end{bmatrix}=\\pm |q_1||q_2||q_3|$\n",
    "- b) $det\\begin{bmatrix}q_1+q_2&&q_2+q_3&&q_3+q_1\\end{bmatrix}=det\\begin{bmatrix}q_1&&q_2+q_3&&q_3+q_1\\end{bmatrix}+det\\begin{bmatrix}q_2&&q_2+q_3&&q_3+q_1\\end{bmatrix}\\\\\n",
    "=det\\begin{bmatrix}q_1&&q_2&&q_3+q_1\\end{bmatrix}+det\\begin{bmatrix}q_1&&q_3&&q_3+q_1\\end{bmatrix}+det\\begin{bmatrix}q_2&&q_2&&q_3+q_1\\end{bmatrix}+det\\begin{bmatrix}q_2&&q_3&&q_3+q_1\\end{bmatrix}\\\\\n",
    "=det\\begin{bmatrix}q_1&&q_2&&q_3+q_1\\end{bmatrix}+0+0+det\\begin{bmatrix}q_2&&q_3&&q_3+q_1\\end{bmatrix}\\\\\n",
    "=det\\begin{bmatrix}q_1&&q_2&&q_3\\end{bmatrix}+det\\begin{bmatrix}q_1&&q_2&&q_1\\end{bmatrix}+det\\begin{bmatrix}q_2&&q_3&&q_3\\end{bmatrix}+det\\begin{bmatrix}q_2&&q_3&&q_1\\end{bmatrix}\\\\\n",
    "=det\\begin{bmatrix}q_1&&q_2&&q_3\\end{bmatrix}+0+0+det\\begin{bmatrix}q_2&&q_3&&q_1\\end{bmatrix}\\\\\n",
    "=det\\begin{bmatrix}q_1&&q_2&&q_3\\end{bmatrix}+det(\\begin{bmatrix}q_1&&q_2&&q_3\\end{bmatrix}P_{21}P_{32})\\\\\n",
    "=det\\begin{bmatrix}q_1&&q_2&&q_3\\end{bmatrix}+det\\begin{bmatrix}q_1&&q_2&&q_3\\end{bmatrix}\\\\\n",
    "=2det\\begin{bmatrix}q_1&&q_2&&q_3\\end{bmatrix}\\\\\n",
    "=\\pm 2|q_1||q_2||q_3|$\n",
    "- c) $det\\begin{bmatrix}q_1&&q_2&&q_3\\end{bmatrix}det\\begin{bmatrix}q_2&&q_3&&q_1\\end{bmatrix}=det\\begin{bmatrix}q_1&&q_2&&q_3\\end{bmatrix}det(\\begin{bmatrix}q_1&&q_2&&q_3\\end{bmatrix}P_{21}P_{32})\\\\\n",
    "=det\\begin{bmatrix}q_1&&q_2&&q_3\\end{bmatrix}det\\begin{bmatrix}q_1&&q_2&&q_3\\end{bmatrix}\\\\\n",
    "=(det\\begin{bmatrix}q_1&&q_2&&q_3\\end{bmatrix})^2\\\\\n",
    "=|q_1|^2|q_2|^2|q_3|^2$"
   ]
  },
  {
   "cell_type": "markdown",
   "metadata": {},
   "source": [
    "### 问题2\n",
    "- a) $A=\\begin{bmatrix}1&&-10\\\\1&&-9\\\\...\\\\1&&0\\\\...\\\\1&&10\\end{bmatrix}_{21 \\times 2}$ 而 $b=\\begin{bmatrix}0\\\\0\\\\...\\\\b_{11}=1\\\\...\\\\0\\end{bmatrix}_{21 \\times 1}$  \n",
    "根据最小二乘法得 $A^TA\\hat{x}=A^Tb \\implies \\hat{x}=(A^TA)^{-1}A^Tb=(\\begin{bmatrix}1&&1&&...&&1\\\\-10&&-9&&...&&10\\end{bmatrix}\\begin{bmatrix}1&&-10\\\\1&&-9\\\\...\\\\1&&10\\end{bmatrix})^{-1}\\begin{bmatrix}1&&1&&...&&1\\\\-10&&-9&&...&&10\\end{bmatrix}\\begin{bmatrix}0\\\\0\\\\...\\\\b_{11}=1\\\\...\\\\0\\end{bmatrix}\\\\\n",
    "=(\\begin{bmatrix}21&&0\\\\0&&770\\end{bmatrix})^{-1}\\begin{bmatrix}1\\\\0\\end{bmatrix}=\\begin{bmatrix}1/21&&0\\\\0&&1/770\\end{bmatrix}\\begin{bmatrix}1\\\\0\\end{bmatrix}=\\begin{bmatrix}1/21\\\\0\\end{bmatrix}$  \n",
    "最佳拟合直线的方程为 $y=\\frac{1}{21}+0t=\\frac{1}{21}$\n",
    "- b) 最小二乘法将向量 $b$ 映射到矩阵 $A$ 的列空间，可以取 $A$ 的两个列向量作为一组基  \n",
    "$e=b-A\\hat{x}=\\begin{bmatrix}0\\\\0\\\\...\\\\b_{11}=1\\\\...\\\\0\\end{bmatrix}-\\begin{bmatrix}1&&-10\\\\1&&-9\\\\...\\\\1&&0\\\\...\\\\1&&10\\end{bmatrix}\\begin{bmatrix}1/21\\\\0\\end{bmatrix}=\\begin{bmatrix}-1/21\\\\-1/21\\\\...\\\\e_{11}=20/21\\\\...\\\\-1/21\\end{bmatrix}_{21 \\times 1}$"
   ]
  },
  {
   "cell_type": "markdown",
   "metadata": {},
   "source": [
    "### 问题3\n",
    "- a) $P_Q=Q(Q^TQ)^{-1}Q^T=QQ^T$，$P_A=A(A^TA)^{-1}A^T$\n",
    "- b) $P_Q=P_A$ 因为格莱姆施密特法则进行的是列操作，因此 $C(Q)=C(A)$ 因此对应的映射矩阵不变  \n",
    "$P_QQ=(QQ^T)Q=Q(Q^TQ)=Q$  \n",
    "$det(P_Q)=det(QQ^T)=0$\n",
    "- c) 选项 $3$"
   ]
  },
  {
   "cell_type": "markdown",
   "metadata": {},
   "source": [
    "### 问题4\n",
    "- a) 针对 $det(A)$ 先按行展开行列式，之后再按列展开行列式，可得关于 $X$ 的多项式最大次数为 $2$\n",
    "- b) $det(A)=\\begin{vmatrix}X&&X&&X&&X\\\\X&&1&&0&&0\\\\X&&0&&1&&0\\\\X&&0&&0&&1\\end{vmatrix}\\\\\n",
    "=X\\begin{vmatrix}1&&0&&0\\\\0&&1&&0\\\\0&&0&&1\\end{vmatrix}-X\\begin{vmatrix}X&&0&&0\\\\X&&1&&0\\\\X&&0&&1\\end{vmatrix}+X\\begin{vmatrix}X&&1&&0\\\\X&&0&&0\\\\X&&0&&1\\end{vmatrix}-X\\begin{vmatrix}X&&1&&0\\\\X&&0&&1\\\\X&&0&&0\\end{vmatrix}\\\\\n",
    "=X-X \\cdot X+X \\cdot (-X)-X \\cdot X\\\\\n",
    "=X-3X^2\\\\\n",
    "=X(1-3X)$  \n",
    "可知当 $X=0$ 或 $X=\\frac{1}{3}$ 时 $det(A)=0$"
   ]
  }
 ],
 "metadata": {
  "language_info": {
   "name": "python"
  }
 },
 "nbformat": 4,
 "nbformat_minor": 2
}
