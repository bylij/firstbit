{
 "cells": [
  {
   "cell_type": "markdown",
   "metadata": {},
   "source": [
    ">https://ocw.mit.edu/courses/18-06sc-linear-algebra-fall-2011/resources/mit18_06scf11_ses1-1prob/"
   ]
  },
  {
   "cell_type": "markdown",
   "metadata": {},
   "source": [
    "### 问题1.1\n",
    "- dependent\n",
    "- plane"
   ]
  },
  {
   "cell_type": "markdown",
   "metadata": {},
   "source": [
    "### 问题1.2\n",
    "- $\\begin{bmatrix}1&&2&&0\\\\2&&0&&3\\\\4&&1&&1\\end{bmatrix}\\begin{bmatrix}3\\\\-2\\\\1\\end{bmatrix}=3\\begin{bmatrix}1\\\\2\\\\4\\end{bmatrix}-2\\begin{bmatrix}2\\\\0\\\\1\\end{bmatrix}+\\begin{bmatrix}0\\\\3\\\\1\\end{bmatrix}=\\begin{bmatrix}-1\\\\9\\\\11\\end{bmatrix}$"
   ]
  },
  {
   "cell_type": "markdown",
   "metadata": {},
   "source": [
    "### 问题1.3\n",
    "- true"
   ]
  }
 ],
 "metadata": {
  "language_info": {
   "name": "python"
  }
 },
 "nbformat": 4,
 "nbformat_minor": 2
}
