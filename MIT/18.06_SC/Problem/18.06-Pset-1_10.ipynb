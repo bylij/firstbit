{
 "cells": [
  {
   "cell_type": "markdown",
   "metadata": {},
   "source": [
    ">https://ocw.mit.edu/courses/18-06sc-linear-algebra-fall-2011/resources/mit18_06scf11_ses1-10prob/"
   ]
  },
  {
   "cell_type": "markdown",
   "metadata": {},
   "source": [
    "### 问题10.1\n",
    "- a) $r \\le n \\lt m$\n",
    "- b) $dim N(A^T)=m-r \\gt 0$，可知左零空间包含非零向量，即 $A^Ty=0$ 存在非零解"
   ]
  },
  {
   "cell_type": "markdown",
   "metadata": {},
   "source": [
    "### 问题10.2\n",
    "- $C(A^T)$，即行空间\n",
    "- $N(A^T)$"
   ]
  }
 ],
 "metadata": {
  "language_info": {
   "name": "python"
  }
 },
 "nbformat": 4,
 "nbformat_minor": 2
}
