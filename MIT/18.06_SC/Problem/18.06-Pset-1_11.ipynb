{
 "cells": [
  {
   "cell_type": "markdown",
   "metadata": {},
   "source": [
    ">https://ocw.mit.edu/courses/18-06sc-linear-algebra-fall-2011/resources/mit18_06scf11_ses1-11prob/"
   ]
  },
  {
   "cell_type": "markdown",
   "metadata": {},
   "source": [
    "### 问题11.1\n",
    "- $P_1=\\begin{bmatrix}1&&0&&0\\\\0&&0&&1\\\\0&&1&&0\\end{bmatrix}, P_2=\\begin{bmatrix}0&&1&&0\\\\1&&0&&0\\\\0&&0&&1\\end{bmatrix}, P_3=\\begin{bmatrix}0&&0&&1\\\\0&&1&&0\\\\1&&0&&0\\end{bmatrix}, P_4=\\begin{bmatrix}0&&1&&0\\\\0&&0&&1\\\\1&&0&&0\\end{bmatrix}, P_5=\\begin{bmatrix}0&&0&&1\\\\1&&0&&0\\\\0&&1&&0\\end{bmatrix}$  \n",
    "可得 $P_1+P_2+P3=\\begin{bmatrix}1&&1&&1\\\\1&&1&&1\\\\1&&1&&1\\end{bmatrix}, P_4+P_5=\\begin{bmatrix}0&&1&&1\\\\1&&0&&1\\\\1&&1&&0\\end{bmatrix}$  \n",
    "可得 $P_1+P_2+P3-(P_4+P_5)=I$\n",
    "- $c_1P_1+c_2P_2+c_3P_3+c_4P_4+c_5P_5=c_1\\begin{bmatrix}1&&0&&0\\\\0&&0&&1\\\\0&&1&&0\\end{bmatrix}+c_2\\begin{bmatrix}0&&1&&0\\\\1&&0&&0\\\\0&&0&&1\\end{bmatrix}+c_3\\begin{bmatrix}0&&0&&1\\\\0&&1&&0\\\\1&&0&&0\\end{bmatrix}+c_4\\begin{bmatrix}0&&1&&0\\\\0&&0&&1\\\\1&&0&&0\\end{bmatrix}+c_5\\begin{bmatrix}0&&0&&1\\\\1&&0&&0\\\\0&&1&&0\\end{bmatrix}\\\\\n",
    "=\\begin{bmatrix}c_1&&0&&0\\\\0&&0&&c_1\\\\0&&c_1&&0\\end{bmatrix}+\\begin{bmatrix}0&&c_2&&0\\\\c_2&&0&&0\\\\0&&0&&c_2\\end{bmatrix}+\\begin{bmatrix}0&&0&&c_3\\\\0&&c_3&&0\\\\c_3&&0&&0\\end{bmatrix}+\\begin{bmatrix}0&&c_4&&0\\\\0&&0&&c_4\\\\c_4&&0&&0\\end{bmatrix}+\\begin{bmatrix}0&&0&&c_5\\\\c_5&&0&&0\\\\0&&c_5&&0\\end{bmatrix}\\\\\n",
    "=\\begin{bmatrix}c_1&&c_2+c_4&&c_3+c_5\\\\c_2+c_5&&c_3&&c_1+c_4\\\\c_3+c_4&&c_1+c_5&&c_2\\end{bmatrix}\\\\\n",
    "=0\\\\\n",
    "\\implies c_1=c_2=c_3=c_4=c_5=0$ 即 $P_1, P_2, P_3, P_4, P_5$ 线性不相关"
   ]
  },
  {
   "cell_type": "markdown",
   "metadata": {},
   "source": [
    "### 问题11.2\n",
    "- a) $AX=A\\begin{bmatrix}X_1&&X_2&&X_3\\end{bmatrix}=\\begin{bmatrix}AX_1&&AX_2&&AX_3\\end{bmatrix}=0 \\implies \\begin{cases}AX_1=0\\\\AX_2=0\\\\AX_3=0\\end{cases}$，其中 $X_1, X_2, X_3$ 为 $X$ 的三个列向量  \n",
    "由 $A\\begin{bmatrix}1\\\\1\\\\1\\end{bmatrix}=0$ 且 $A$ 有两个主元可知 $N(A)=c\\begin{bmatrix}1\\\\1\\\\1\\end{bmatrix}$ (c为常数)，由 $X_1, X_2, X_3 \\in N(A)$ 可知矩阵 $X$ 为每一列上三个元素均相同的矩阵\n",
    "- b) 另 $Y=AX=\\begin{bmatrix}1&&0&&-1\\\\-1&&1&&0\\\\0&&-1&&1\\end{bmatrix}\\begin{bmatrix}x_{11}&&x_{12}&&x_{13}\\\\x_{21}&&x_{22}&&x_{23}\\\\x_{31}&&x_{32}&&x_{33}\\end{bmatrix}=\\begin{bmatrix}x_{11}-x_{31}&&x_{12}-x_{32}&&x_{13}-x_{33}\\\\x_{21}-x_{11}&&x_{22}-x_{12}&&x_{11}-x_{31}\\\\x_{31}-x_{21}&&x_{32}-x_{22}&&x_{33}-x_{23}\\end{bmatrix}$  \n",
    "观察 $Y$ 的每一列可以发现每一列的三个元素之和为 $0$，因此每一列三个元素和为 $0$ 的 $3 \\times 3$ 矩阵可以表示为 $AX$ 形式\n",
    "- c) 零空间中的矩阵具备 $\\begin{bmatrix}a&&b&&c\\\\a&&b&&c\\\\a&&b&&c\\end{bmatrix}$ 这样的形式，维度为 $3$  \n",
    "列空间中的矩阵具有 $\\begin{bmatrix}a&&b&&c\\\\d&&e&&f\\\\-a-d&&-b-e&&-c-f\\end{bmatrix}$ 的形式，维度为 $6$  \n",
    "而行空间与列空间的维度相同也为 $6$，零空间与行空间或为正交补，它们维度的和为空间 $M$ 的维度 $9$"
   ]
  }
 ],
 "metadata": {
  "language_info": {
   "name": "python"
  }
 },
 "nbformat": 4,
 "nbformat_minor": 2
}
