{
 "cells": [
  {
   "cell_type": "markdown",
   "metadata": {},
   "source": [
    ">https://ocw.mit.edu/courses/18-06sc-linear-algebra-fall-2011/resources/mit18_06scf11_ses1-12prob/"
   ]
  },
  {
   "cell_type": "markdown",
   "metadata": {},
   "source": [
    "### 问题12.1\n",
    "- 由题意可得 $A=\\begin{bmatrix}-1&&1&&0&&0\\\\0&&-1&&1&&0\\\\0&&0&&1&&-1\\\\-1&&0&&0&&1\\end{bmatrix}$\n",
    "- $Ax=0 \\implies \\begin{bmatrix}-1&&1&&0&&0\\\\0&&-1&&1&&0\\\\0&&0&&1&&-1\\\\-1&&0&&0&&1\\end{bmatrix}\\begin{bmatrix}x_1\\\\x_2\\\\x_3\\\\x_4\\end{bmatrix}=0 \\implies \\begin{bmatrix}x_2-x_1\\\\x_3-x_2\\\\x_3-x_4\\\\x_4-x_1\\end{bmatrix}=\\begin{bmatrix}0\\\\0\\\\0\\\\0\\end{bmatrix} \\implies x_1=x_2=x_3=x_4$ 即四个分量都相等的 $4$ 维向量才属于 $A$ 的零空间\n",
    "- $N(A)=c\\begin{bmatrix}1\\\\1\\\\1\\\\1\\end{bmatrix}$ (c是任意实数)，这里取向量 $\\begin{bmatrix}1\\\\1\\\\1\\\\1\\end{bmatrix}$ 与 $(1, 0, 0, 0)$ 求内积得 $\\begin{bmatrix}1&&0&&0&&0\\end{bmatrix}\\begin{bmatrix}1\\\\1\\\\1\\\\1\\end{bmatrix}=1 \\ne 0$  \n",
    "可知向量 $(1, 0, 0, 0)$ 与 $\\begin{bmatrix}1\\\\1\\\\1\\\\1\\end{bmatrix}$ 不正交，这不满足 $C(A^T) \\perp N(A)$ 的关系，因此 $(1, 0, 0, 0)$ 不属于 $C(A^T)$"
   ]
  },
  {
   "cell_type": "markdown",
   "metadata": {},
   "source": [
    "### 问题12.2\n",
    "- $A^TCA=\\begin{bmatrix}2&&-1&&0&&-1\\\\-1&&3&&-2&&0\\\\0&&-2&&4&&-2\\\\-1&&0&&-2&&3\\end{bmatrix}$\n",
    "- $A^TCAx=f \\implies \\begin{bmatrix}2&&-1&&0&&-1\\\\-1&&3&&-2&&0\\\\0&&-2&&4&&-2\\\\-1&&0&&-2&&3\\end{bmatrix}x=\\begin{bmatrix}1\\\\0\\\\-1\\\\0\\end{bmatrix}$  \n",
    "将增广矩阵 $\\begin{bmatrix}A^TCA&&f\\end{bmatrix}$ 进行消元：  \n",
    "$\\begin{bmatrix}2&&-1&&0&&-1&&|&&1\\\\-1&&3&&-2&&0&&|&&0\\\\0&&-2&&4&&-2&&|&&-1\\\\-1&&0&&-2&&3&&|&&0\\end{bmatrix} \\rightarrow \\begin{bmatrix}2&&-1&&0&&-1&&|&&1\\\\0&&5/2&&-2&&-1/2&&|&&1/2\\\\0&&-2&&4&&-2&&|&&-1\\\\0&&-1/2&&-2&&5/2&&|&&1/2\\end{bmatrix} \\rightarrow \\begin{bmatrix}2&&-1&&0&&-1&&|&&1\\\\0&&5/2&&-2&&-1/2&&|&&1/2\\\\0&&0&&12/5&&-12/5&&|&&-3/5\\\\0&&0&&-12/5&&12/5&&|&&3/5\\end{bmatrix} \\rightarrow \\begin{bmatrix}2&&-1&&0&&-1&&|&&1\\\\0&&5/2&&-2&&-1/2&&|&&1/2\\\\0&&0&&12/5&&-12/5&&|&&-3/5\\\\0&&0&&0&&0&&|&&0\\end{bmatrix}$  \n",
    "可得前三列存在主元，第四列为自由变量  \n",
    "$x=\\begin{bmatrix}x_1\\\\x_2\\\\x_3\\\\x_4\\end{bmatrix}$ 中，另 $x_4=0$ 反带入可得 $\\begin{cases}2x_1-x_2=1\\\\\\frac{5}{2}x_2-2x_3=\\frac{1}{2}\\\\\\frac{12}{5}x_3=-\\frac{3}{5}\\end{cases}$ 可得特解 $x_p=\\begin{bmatrix}1/2\\\\0\\\\-1/4\\\\0\\end{bmatrix}$  \n",
    "另 $x_4=1$ 反带入 $Ux=0$ 可得 $\\begin{cases}2x_1-x_2-1=0\\\\\\frac{5}{2}x_2-2x_3-\\frac{1}{2}=0\\\\\\frac{12}{5}x_3-\\frac{12}{5}=0\\end{cases}$ 可得 $A^TCAx=0$ 的通解 $X_N=c\\begin{bmatrix}1\\\\1\\\\1\\\\1\\end{bmatrix}$  \n",
    "综合得 $A^TCAx=f$ 的解 $x=x_p+x_N=\\begin{bmatrix}1/2\\\\0\\\\-1/4\\\\0\\end{bmatrix}+c\\begin{bmatrix}1\\\\1\\\\1\\\\1\\end{bmatrix}$\n",
    "- 取 $x_3=0$ 即节点 $3$ 接地，可得 $c=\\frac{1}{4} \\implies x=\\begin{bmatrix}3/4\\\\1/4\\\\0\\\\1/4\\end{bmatrix} \\implies y=-CAx=-\\begin{bmatrix}1&&0&&0&&0\\\\0&&2&&0&&0\\\\0&&0&&2&&0\\\\0&&0&&0&&1\\end{bmatrix}\\begin{bmatrix}-1&&1&&0&&0\\\\0&&-1&&1&&0\\\\0&&0&&1&&-1\\\\-1&&0&&0&&1\\end{bmatrix}\\begin{bmatrix}3/4\\\\1/4\\\\0\\\\1/4\\end{bmatrix}=\\begin{bmatrix}1/2\\\\1/2\\\\1/2\\\\1/2\\end{bmatrix}$"
   ]
  }
 ],
 "metadata": {
  "language_info": {
   "name": "python"
  }
 },
 "nbformat": 4,
 "nbformat_minor": 2
}
