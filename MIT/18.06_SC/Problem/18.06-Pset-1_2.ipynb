{
 "cells": [
  {
   "cell_type": "markdown",
   "metadata": {},
   "source": [
    ">https://ocw.mit.edu/courses/18-06sc-linear-algebra-fall-2011/resources/mit18_06scf11_ses1-2prob/"
   ]
  },
  {
   "cell_type": "markdown",
   "metadata": {},
   "source": [
    "### 问题2.1\n",
    "- 方程组的矩阵表示为 $\\begin{bmatrix}2&&3\\\\6&&15\\end{bmatrix}\\begin{bmatrix}x\\\\y\\end{bmatrix}=\\begin{bmatrix}5\\\\12\\end{bmatrix}$  \n",
    "第一问：第二行需要减去第一行的 $3$ 倍  \n",
    "应用高斯消元法 $\\begin{bmatrix}2&&3&&|&&5\\\\6&&15&&|&&12\\end{bmatrix} \\rightarrow \\begin{bmatrix}2&&3&&|&&5\\\\0&&6&&|&&-3\\end{bmatrix}$  \n",
    "第二问：主元为 $2$ 和 $6$  \n",
    "反向替换得方程组 $\\begin{cases}2x+3y=5\\\\6y=-3\\end{cases}$  \n",
    "第三问：解得 $\\begin{cases}x=\\frac{13}{4}\\\\y=-\\frac{1}{2}\\end{cases}$"
   ]
  },
  {
   "cell_type": "markdown",
   "metadata": {},
   "source": [
    "### 问题2.2\n",
    "- 通过观察可以看到结果矩阵为通过操作原矩阵的行获得：第二行减去第一行，第三行减去第二行，第四行减去第三行  \n",
    "可得行操作矩阵 $E=\\begin{bmatrix}1&&0&&0&&0\\\\-1&&1&&0&&0\\\\0&&-1&&1&&0\\\\0&&0&&-1&&1\\end{bmatrix}$  \n",
    "通过观察可以看到将第一步的结果矩阵继续进行两组的行操作可以获得单位矩阵 $I$：  \n",
    "第一组：第三行减去第二行，第四行减去第三行，对应的行操作矩阵 $E_1=\\begin{bmatrix}1&&0&&0&&0\\\\0&&1&&0&&0\\\\0&&-1&&1&&0\\\\0&&0&&-1&&1\\end{bmatrix}$  \n",
    "第二组：第四行减去第三行，对应的行操作矩阵 $E_2=\\begin{bmatrix}1&&0&&0&&0\\\\0&&1&&0&&0\\\\0&&0&&1&&0\\\\0&&0&&-1&&1\\end{bmatrix}$  \n",
    "综合可得 $M=E_2E_1E=\\begin{bmatrix}1&&0&&0&&0\\\\0&&1&&0&&0\\\\0&&0&&1&&0\\\\0&&0&&-1&&1\\end{bmatrix}\\begin{bmatrix}1&&0&&0&&0\\\\0&&1&&0&&0\\\\0&&-1&&1&&0\\\\0&&0&&-1&&1\\end{bmatrix}\\begin{bmatrix}1&&0&&0&&0\\\\-1&&1&&0&&0\\\\0&&-1&&1&&0\\\\0&&0&&-1&&1\\end{bmatrix}=\\begin{bmatrix}1&&0&&0&&0\\\\-1&&1&&0&&0\\\\1&&-2&&1&&0\\\\-1&&3&&-3&&1\\end{bmatrix}$"
   ]
  }
 ],
 "metadata": {
  "language_info": {
   "name": "python"
  }
 },
 "nbformat": 4,
 "nbformat_minor": 2
}
