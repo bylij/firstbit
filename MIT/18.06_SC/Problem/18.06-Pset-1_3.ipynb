{
 "cells": [
  {
   "cell_type": "markdown",
   "metadata": {},
   "source": [
    ">https://ocw.mit.edu/courses/18-06sc-linear-algebra-fall-2011/resources/mit18_06scf11_ses1-3prob/"
   ]
  },
  {
   "cell_type": "markdown",
   "metadata": {},
   "source": [
    "### 问题3.1\n",
    "- $AB+AC=\\begin{bmatrix}1&&2\\\\3&&4\\end{bmatrix}\\begin{bmatrix}1&&0\\\\0&&0\\end{bmatrix}+\\begin{bmatrix}1&&2\\\\3&&4\\end{bmatrix}\\begin{bmatrix}0&&0\\\\5&&6\\end{bmatrix}=\\begin{bmatrix}1&&0\\\\3&&0\\end{bmatrix}+\\begin{bmatrix}10&&12\\\\20&&24\\end{bmatrix}=\\begin{bmatrix}11&&12\\\\23&&24\\end{bmatrix}$  \n",
    "$A(B+C)=\\begin{bmatrix}1&&2\\\\3&&4\\end{bmatrix}(\\begin{bmatrix}1&&0\\\\0&&0\\end{bmatrix}+\\begin{bmatrix}0&&0\\\\5&&6\\end{bmatrix})=\\begin{bmatrix}1&&2\\\\3&&4\\end{bmatrix}\\begin{bmatrix}1&&0\\\\5&&6\\end{bmatrix}=\\begin{bmatrix}11&&12\\\\23&&24\\end{bmatrix}$  \n",
    "可得 $AB+AC=A(B+C)$"
   ]
  },
  {
   "cell_type": "markdown",
   "metadata": {},
   "source": [
    "### 问题3.2\n",
    "- $\\begin{bmatrix}U&&I\\end{bmatrix}=\\begin{bmatrix}1&&a&&b&&|&&1&&0&&0\\\\0&&1&&c&&|&&0&&1&&0\\\\0&&0&&1&&|&&0&&0&&1\\end{bmatrix} \\rightarrow \\begin{bmatrix}1&&0&&b-ac&&|&&1&&-a&&0\\\\0&&1&&c&&|&&0&&1&&0\\\\0&&0&&1&&|&&0&&0&&1\\end{bmatrix} \\rightarrow \\begin{bmatrix}1&&0&&0&&|&&1&&-a&&-b+ac\\\\0&&1&&c&&|&&0&&1&&0\\\\0&&0&&1&&|&&0&&0&&1\\end{bmatrix} \\rightarrow \\begin{bmatrix}1&&0&&0&&|&&1&&-a&&-b+ac\\\\0&&1&&0&&|&&0&&1&&-c\\\\0&&0&&1&&|&&0&&0&&1\\end{bmatrix}$  \n",
    "可得 $U^{-1}=\\begin{bmatrix}1&&-a&&-b+ac\\\\0&&1&&-c\\\\0&&0&&1\\end{bmatrix}$"
   ]
  }
 ],
 "metadata": {
  "language_info": {
   "name": "python"
  }
 },
 "nbformat": 4,
 "nbformat_minor": 2
}
