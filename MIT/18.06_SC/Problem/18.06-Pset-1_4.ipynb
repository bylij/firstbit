{
 "cells": [
  {
   "cell_type": "markdown",
   "metadata": {},
   "source": [
    ">https://ocw.mit.edu/courses/18-06sc-linear-algebra-fall-2011/resources/mit18_06scf11_ses1-4prob/"
   ]
  },
  {
   "cell_type": "markdown",
   "metadata": {},
   "source": [
    "### 问题4.1\n",
    "- $E=E_{32}E_{31}E_{21}=\\begin{bmatrix}1&&0&&0\\\\0&&1&&0\\\\0&&-3&&1\\end{bmatrix}\\begin{bmatrix}1&&0&&0\\\\0&&1&&0\\\\-2&&0&&1\\end{bmatrix}\\begin{bmatrix}1&&0&&0\\\\-2&&1&&0\\\\0&&0&&1\\end{bmatrix}=\\begin{bmatrix}1&&0&&0\\\\-2&&1&&0\\\\4&&-3&&1\\end{bmatrix}$  \n",
    "可得 $U=\\begin{bmatrix}1&&3&&0\\\\0&&-2&&0\\\\0&&0&&1\\end{bmatrix}$，$L=\\begin{bmatrix}1&&0&&0\\\\2&&1&&0\\\\2&&3&&1\\end{bmatrix}$，$A=LU=\\begin{bmatrix}1&&0&&0\\\\2&&1&&0\\\\2&&3&&1\\end{bmatrix}\\begin{bmatrix}1&&3&&0\\\\0&&-2&&0\\\\0&&0&&1\\end{bmatrix}$"
   ]
  },
  {
   "cell_type": "markdown",
   "metadata": {},
   "source": [
    "### 问题4.2\n",
    "- $U=\\begin{bmatrix}a&&a&&a&&a\\\\0&&b-a&&b-a&&b-a\\\\0&&0&&c-b&&c-b\\\\0&&0&&0&&d-c\\end{bmatrix}$，$L=E_{21}^{-1}E_{31}^{-1}E_{41}^{-1}E_{32}^{-1}E_{42}^{-1}E_{43}^{-1}=\\begin{bmatrix}1&&0&&0&&0\\\\1&&1&&0&&0\\\\1&&1&&1&&0\\\\1&&1&&1&&1\\end{bmatrix}$  \n",
    "$A$ 有四个主元的四个条件：  \n",
    "1、$a \\ne 0$  \n",
    "2、$a \\ne b$  \n",
    "3、$b \\ne c$  \n",
    "4、$c \\ne d$"
   ]
  }
 ],
 "metadata": {
  "language_info": {
   "name": "python"
  }
 },
 "nbformat": 4,
 "nbformat_minor": 2
}
