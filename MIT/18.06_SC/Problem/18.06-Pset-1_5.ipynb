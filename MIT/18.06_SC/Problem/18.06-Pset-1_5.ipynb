{
 "cells": [
  {
   "cell_type": "markdown",
   "metadata": {},
   "source": [
    ">https://ocw.mit.edu/courses/18-06sc-linear-algebra-fall-2011/resources/mit18_06scf11_ses1-5prob/"
   ]
  },
  {
   "cell_type": "markdown",
   "metadata": {},
   "source": [
    "### 问题5.1\n",
    "- a) $P=\\begin{bmatrix}0&&1&&0\\\\0&&0&&1\\\\1&&0&&0\\end{bmatrix}$  \n",
    "- b) $\\hat{P}=\\begin{bmatrix}0&&0&&1&&0\\\\1&&0&&0&&0\\\\0&&1&&0&&0\\\\0&&0&&0&&1\\end{bmatrix}$"
   ]
  },
  {
   "cell_type": "markdown",
   "metadata": {},
   "source": [
    "### 问题5.2\n",
    "- a) $10$\n",
    "- b) $6$"
   ]
  },
  {
   "cell_type": "markdown",
   "metadata": {},
   "source": [
    "### 问题5.3\n",
    "- a) 正确，$(cA+dB)^T=(cA)^T+(dB)^T=cA^T+dB^T=cA+dB$，因此若 $A, B \\in M$ 则它们的线性组合也在 $M$ 内\n",
    "- b) 正确，$(cA+dB)^T=(cA)^T+(dB)^T=cA^T+dB^T=-cA-dB=-(cA+dB)$，因此若 $A, B \\in M$ 则它们的线性组合也在 $M$ 内\n",
    "- c) 错误，反例 $\\begin{bmatrix}1&&1\\\\0&&0\\end{bmatrix}+\\begin{bmatrix}0&&0\\\\1&&1\\end{bmatrix}=\\begin{bmatrix}1&&1\\\\1&&1\\end{bmatrix}$ 两个非对称矩阵的线性组合为一个对称矩阵"
   ]
  }
 ],
 "metadata": {
  "language_info": {
   "name": "python"
  }
 },
 "nbformat": 4,
 "nbformat_minor": 2
}
