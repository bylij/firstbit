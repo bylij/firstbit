{
 "cells": [
  {
   "cell_type": "markdown",
   "metadata": {},
   "source": [
    ">https://ocw.mit.edu/courses/18-06sc-linear-algebra-fall-2011/resources/mit18_06scf11_ses1-6prob/"
   ]
  },
  {
   "cell_type": "markdown",
   "metadata": {},
   "source": [
    "### 问题6.1\n",
    "- a) 一、针对加法 $(s_1+t_1)+(s_2+t_2)=(s_1+s_2)+(t_1+t_2)$  \n",
    "由于 $S$ 和 $T$ 是子空间，满足对加法封闭，因此 $s_3=s_1+s_2 \\in S$ 且 $t_3=t_1+t_2 \\in T$，根据 $S+T$ 定义可知 $s_3+t_3 \\in S+T$ 因此 $S+T$ 对加法封闭  \n",
    "二、针对标量乘 $c(s+t)=cs+ct$  \n",
    "由于 $S$ 和 $T$ 是子空间，满足对标量乘法封闭，因此 $s^\\prime=cs \\in S$ 且 $t^\\prime=ct \\in T$，根据 $S+T$ 的定义可得 $s^\\prime+t^\\prime \\in S+T$ 因此 $S+T$ 对标量乘法封闭\n",
    "- b) 一、$S \\cup T$ 不是针对加法和标量乘法封闭的子空间，而 $S+T$ 是子空间  \n",
    "二、$S \\cup T$ 即包含所有 $S$ 和 $T$ 向量的集合，由这个集合中向量张成的空间为 $S$ 和 $T$ 这两条直线所在的二维平面，这个平面正好是 $S+T$ 向量空间"
   ]
  },
  {
   "cell_type": "markdown",
   "metadata": {},
   "source": [
    "### 问题6.2\n",
    "- $x-3y-z=12$ 改写为 $Ax=b$ 形式 $\\begin{bmatrix}1&&-3&&-1\\end{bmatrix}\\begin{bmatrix}x\\\\y\\\\z\\end{bmatrix}=\\begin{bmatrix}12\\end{bmatrix}$  \n",
    "这个方程的解为 $x=x_p+x_N$，其中特解 $x_p=\\begin{bmatrix}12\\\\0\\\\0\\end{bmatrix}$，而 $x_N$ 为 $\\begin{bmatrix}1&&-3&&-1\\end{bmatrix}\\begin{bmatrix}x\\\\y\\\\z\\end{bmatrix}=0$ 的通解  \n",
    "矩阵只有一个主元，有两个自由变量，另 $y=1,z=0$ 带入 $Ax=0$ 可得 $x-3-0=0 \\implies x=3$；  \n",
    "同理，另 $y=0,z=1$ 带入得 $x-0-1=0 \\implies x=1$，因此得到一组基 $\\begin{bmatrix}3\\\\1\\\\0\\end{bmatrix}, \\begin{bmatrix}1\\\\0\\\\1\\end{bmatrix}$，得到 $x_N=c\\begin{bmatrix}3\\\\1\\\\0\\end{bmatrix}+d\\begin{bmatrix}1\\\\0\\\\1\\end{bmatrix}$  \n",
    "综合可得原平面方程得解 $x=x_p+x_N \\implies \\begin{bmatrix}x\\\\y\\\\z\\end{bmatrix}=\\begin{bmatrix}12\\\\0\\\\0\\end{bmatrix}+c\\begin{bmatrix}3\\\\1\\\\0\\end{bmatrix}+d\\begin{bmatrix}1\\\\0\\\\1\\end{bmatrix}$ 通过观察第二行和第三行可得 $\\begin{cases}c=y\\\\d=z\\end{cases} \\implies \\begin{bmatrix}x\\\\y\\\\z\\end{bmatrix}=\\begin{bmatrix}12\\\\0\\\\0\\end{bmatrix}+y\\begin{bmatrix}3\\\\1\\\\0\\end{bmatrix}+z\\begin{bmatrix}1\\\\0\\\\1\\end{bmatrix}$  \n",
    "因此，三个空缺处分别填 $12, 3, 1$ 可以满足条件"
   ]
  },
  {
   "cell_type": "markdown",
   "metadata": {},
   "source": [
    "### 问题6.3\n",
    "- $Cx=0 \\implies \\begin{bmatrix}A\\\\B\\end{bmatrix}x=0 \\implies \\begin{cases}Ax=0\\\\Bx=0\\end{cases}$ 即 $x \\in N(A)$ 且 $x \\in N(B)$ 因此 $N(C)=N(A) \\cap N(B)$"
   ]
  }
 ],
 "metadata": {
  "language_info": {
   "name": "python"
  }
 },
 "nbformat": 4,
 "nbformat_minor": 2
}
