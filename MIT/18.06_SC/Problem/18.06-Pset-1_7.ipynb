{
 "cells": [
  {
   "cell_type": "markdown",
   "metadata": {},
   "source": [
    ">https://ocw.mit.edu/courses/18-06sc-linear-algebra-fall-2011/resources/mit18_06scf11_ses1-7prob/"
   ]
  },
  {
   "cell_type": "markdown",
   "metadata": {},
   "source": [
    "### 问题7.1\n",
    "- a) $\\begin{bmatrix}1&&5&&7&&9\\\\0&&4&&1&&7\\\\2&&-2&&11&&-3\\end{bmatrix} \\rightarrow \\begin{bmatrix}1&&5&&7&&9\\\\0&&4&&1&&7\\\\0&&-12&&-3&&-21\\end{bmatrix} \\rightarrow \\begin{bmatrix}1&&5&&7&&9\\\\0&&4&&1&&7\\\\0&&0&&0&&0\\end{bmatrix} \\rightarrow \\begin{bmatrix}1&&5&&7&&9\\\\0&&1&&1/4&&7/4\\\\0&&0&&0&&0\\end{bmatrix} \\rightarrow \\begin{bmatrix}1&&0&&23/4&&1/4\\\\0&&1&&1/4&&7/4\\\\0&&0&&0&&0\\end{bmatrix}$  \n",
    "即 $rref(A)=\\begin{bmatrix}1&&0&&23/4&&1/4\\\\0&&1&&1/4&&7/4\\\\0&&0&&0&&0\\end{bmatrix}$\n",
    "- b) $rank(A)=2$\n",
    "- c) 特解有两个 $\\begin{bmatrix}-23/4\\\\-1/4\\\\1\\\\0\\end{bmatrix}$ 和 $\\begin{bmatrix}-1/4\\\\-7/4\\\\0\\\\1\\end{bmatrix}$"
   ]
  },
  {
   "cell_type": "markdown",
   "metadata": {},
   "source": [
    "### 问题7.2\n",
    "- $A_1$ 为所有 $m \\times 2$ 的非零矩阵，$A_2$ 为 $m \\times 2$ 的零矩阵"
   ]
  }
 ],
 "metadata": {
  "language_info": {
   "name": "python"
  }
 },
 "nbformat": 4,
 "nbformat_minor": 2
}
