{
 "cells": [
  {
   "cell_type": "markdown",
   "metadata": {},
   "source": [
    ">https://ocw.mit.edu/courses/18-06sc-linear-algebra-fall-2011/resources/mit18_06scf11_ses1-8prob/"
   ]
  },
  {
   "cell_type": "markdown",
   "metadata": {},
   "source": [
    "### 问题8.1\n",
    "- a) $x=x_p+x_n$ 其中 $x_p$ 的系数必须为 $1$\n",
    "- b) 取 $N(A)$ 中任意一个解 $x_N$，若 $x_p$ 为特解，则 $x_N+x_p$ 也为特解\n",
    "- c) 永远存在 $x=0$ 这个解"
   ]
  },
  {
   "cell_type": "markdown",
   "metadata": {},
   "source": [
    "### 问题8.2\n",
    "- $\\begin{bmatrix}U&&|&&0\\end{bmatrix}=\\begin{bmatrix}1&&2&&3&&|&&0\\\\0&&0&&4&&|&&0\\end{bmatrix} \\rightarrow \\begin{bmatrix}1&&2&&3&&|&&0\\\\0&&0&&1&&|&&0\\end{bmatrix} \\rightarrow \\begin{bmatrix}1&&2&&0&&|&&0\\\\0&&0&&1&&|&&0\\end{bmatrix}$ 得到 $R=\\begin{bmatrix}1&&2&&0\\\\0&&0&&1\\end{bmatrix}$  \n",
    "解 $Rx=0$，矩阵主元在第一、三列，取自由变量 $x_2=1$ 反带入得方程 $\\begin{cases}x_1+2=0\\\\x_3=0\\end{cases}$ 可得特解 $\\begin{bmatrix}x_1\\\\x_2\\\\x_3\\end{bmatrix}=\\begin{bmatrix}-2\\\\1\\\\0\\end{bmatrix}$ 而通解为 $a\\begin{bmatrix}-2\\\\1\\\\0\\end{bmatrix}$ ($a$ 为任意常数)  \n",
    "验证：将 $\\begin{bmatrix}-2\\\\1\\\\0\\end{bmatrix}$ 带入 $Ux=0 \\implies \\begin{bmatrix}1&&2&&3\\\\0&&0&&4\\end{bmatrix}\\begin{bmatrix}-2\\\\1\\\\0\\end{bmatrix}=\\begin{bmatrix}0\\\\0\\\\0\\end{bmatrix}$ 方程成立  \n",
    "- $\\begin{bmatrix}U&&|&&c\\end{bmatrix}=\\begin{bmatrix}1&&2&&3&&|&&5\\\\0&&0&&4&&|&&8\\end{bmatrix} \\rightarrow \\begin{bmatrix}1&&2&&3&&|&&5\\\\0&&0&&1&&|&&2\\end{bmatrix} \\rightarrow \\begin{bmatrix}1&&2&&0&&|&&-1\\\\0&&0&&1&&|&&2\\end{bmatrix}$ 得到 $d=\\begin{bmatrix}-1\\\\2\\end{bmatrix}$  \n",
    "解 $Rx=d$ 其中特解 $x_p=\\begin{bmatrix}-1\\\\0\\\\2\\end{bmatrix}$，上一步已求得 $x_n=a\\begin{bmatrix}-2\\\\1\\\\0\\end{bmatrix}$，因此 $Rx=d$ 的解为 $x=x_p+x_n=\\begin{bmatrix}-1\\\\0\\\\2\\end{bmatrix}+a\\begin{bmatrix}-2\\\\1\\\\0\\end{bmatrix}$ ($a$ 为任意常数)  \n",
    "验证：将 $\\begin{bmatrix}-1\\\\0\\\\2\\end{bmatrix}$ 带入 $Ux=c$ 可以验证方程成立"
   ]
  },
  {
   "cell_type": "markdown",
   "metadata": {},
   "source": [
    "### 问题8.3\n",
    "- 可知 $A$ 和 $C$ 为相同行数和列数的矩阵，要证明 $A=C$ 只需要证明 $Ay=Cy$ (其中 $y$ 是一个与 $A$ 和 $C$ 相匹配的向量)，因为 $Ay$ 只是向矩阵 $A$ 的列进行展开。假设取任意一个尺寸匹配的向量 $y$ 满足 $Ay=b$，根据题意一定有 $Cy=b$，可得 $Ay=Cy \\implies A=C$"
   ]
  }
 ],
 "metadata": {
  "language_info": {
   "name": "python"
  }
 },
 "nbformat": 4,
 "nbformat_minor": 2
}
