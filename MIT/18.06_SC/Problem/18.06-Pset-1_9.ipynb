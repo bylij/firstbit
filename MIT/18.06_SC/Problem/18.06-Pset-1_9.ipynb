{
 "cells": [
  {
   "cell_type": "markdown",
   "metadata": {},
   "source": [
    ">https://ocw.mit.edu/courses/18-06sc-linear-algebra-fall-2011/resources/mit18_06scf11_ses1-9prob/"
   ]
  },
  {
   "cell_type": "markdown",
   "metadata": {},
   "source": [
    "### 问题9.1\n",
    "- 向量的维度都是 $4$，因此存在于 $R^4$ 空间中，由 $R^4$ 空间中向量作为列向量的矩阵的秩 $\\le 4$  \n",
    "通过观察可知 $\\begin{cases}v_1=v_2-v_4\\\\v_6=v_3-v_2\\\\v_5=v_3+v_4-v_2\\end{cases}$ 即 $v_1, v_5, v_6$ 可由 $v_2, v_3, v_4$ 的线性组合得到，因此最大的线性不相关向量的个数为 $3$"
   ]
  },
  {
   "cell_type": "markdown",
   "metadata": {},
   "source": [
    "### 问题9.2\n",
    "- 平面的一组基 $\\begin{bmatrix}2\\\\1\\\\0\\end{bmatrix}, \\begin{bmatrix}-3\\\\0\\\\1\\end{bmatrix}$\n",
    "- 两平面交线的基 $\\begin{bmatrix}2\\\\1\\\\0\\end{bmatrix}$\n",
    "- 与平面垂直的向量的基 $\\begin{bmatrix}1\\\\-2\\\\3\\end{bmatrix}$"
   ]
  }
 ],
 "metadata": {
  "language_info": {
   "name": "python"
  }
 },
 "nbformat": 4,
 "nbformat_minor": 2
}
