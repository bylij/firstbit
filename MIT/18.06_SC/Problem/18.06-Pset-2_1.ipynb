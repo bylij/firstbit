{
 "cells": [
  {
   "cell_type": "markdown",
   "metadata": {},
   "source": [
    ">https://ocw.mit.edu/courses/18-06sc-linear-algebra-fall-2011/resources/mit18_06scf11_ses2-1prob/"
   ]
  },
  {
   "cell_type": "markdown",
   "metadata": {},
   "source": [
    "### 问题16.1\n",
    "- $\\begin{cases}x_1-x_2=1\\\\x_2-x_3=1\\\\x_1-x_3=1\\end{cases} \\implies \\begin{bmatrix}1&&-1&&0\\\\0&&1&&-1\\\\1&&0&&-1\\end{bmatrix}\\begin{bmatrix}x_1\\\\x_2\\\\x_3\\end{bmatrix}=\\begin{bmatrix}1\\\\1\\\\1\\end{bmatrix}$ 得到 $A=\\begin{bmatrix}1&&-1&&0\\\\0&&1&&-1\\\\1&&0&&-1\\end{bmatrix}, b=\\begin{bmatrix}1\\\\1\\\\1\\end{bmatrix}$  \n",
    "由 $A^Ty=0 \\implies \\begin{bmatrix}1&&0&&1\\\\-1&&1&&0\\\\0&&-1&&-1\\end{bmatrix}\\begin{bmatrix}y_1\\\\y_2\\\\y_3\\end{bmatrix}=\\begin{bmatrix}0\\\\0\\\\0\\end{bmatrix} \\implies \\begin{cases}y_1+y_3=0\\\\-y_1+y_2=0\\\\-y_2-y_3=0\\end{cases}$ $\\textcircled{1}$  \n",
    "由 $y^Tb=1 \\implies \\begin{bmatrix}y_1&&y_2&&y_3\\end{bmatrix}\\begin{bmatrix}1\\\\1\\\\1\\end{bmatrix}=1 \\implies y_1+y_2+y_3=1$ 结合 $\\textcircled{1}$ 解得 $\\begin{cases}y_1=1\\\\y_2=1\\\\y_3=-1\\end{cases}$"
   ]
  },
  {
   "cell_type": "markdown",
   "metadata": {},
   "source": [
    "### 问题16.2\n",
    "- 四个向量均为非零向量，对于 $2 \\times 2$ 矩阵四个向量分别为四个子空间的基，可知 $rank(A)=1$  \n",
    "$r \\in C(A^T)$ 且 $n \\in N(A) \\implies r^T \\perp n$  \n",
    "$c \\in C(A)$ 且 $l \\in N(A^T) \\implies c^T \\perp l$  \n",
    "且 $r$ 和 $c$ 至少有一个相同元素\n",
    "- $A=\\begin{bmatrix}1&&1\\\\2&&2\\end{bmatrix}$，对应可得 $r=\\begin{bmatrix}1\\\\1\\end{bmatrix}, n=\\begin{bmatrix}-1\\\\1\\end{bmatrix}, c=\\begin{bmatrix}1\\\\2\\end{bmatrix}, l=\\begin{bmatrix}-2\\\\1\\end{bmatrix}$"
   ]
  }
 ],
 "metadata": {
  "language_info": {
   "name": "python"
  }
 },
 "nbformat": 4,
 "nbformat_minor": 2
}
