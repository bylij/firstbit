{
 "cells": [
  {
   "cell_type": "markdown",
   "metadata": {},
   "source": [
    ">https://ocw.mit.edu/courses/18-06sc-linear-algebra-fall-2011/resources/mit18_06scf11_ses2-10prob/"
   ]
  },
  {
   "cell_type": "markdown",
   "metadata": {},
   "source": [
    "### 问题23.1\n",
    "- $\\frac{d}{dt}\\|u(t)\\|^2=\\frac{d}{dt}(u_1^2+u_2^2+u_3^2)\\\\\n",
    "=2u_1u_1^\\prime+2u_2u_2^\\prime+2u_3u_3^\\prime\\\\\n",
    "=2u_1(cu_2-bu_3)+2u_2(au_3-cu_1)+2u_3(bu_1-au_2)\\\\\n",
    "=2cu_1u_2-2bu_1bu_3+2au_2u_3-2cu_1u_2+2bu_1u_3-2au_2u_3\\\\\n",
    "=0$  \n",
    "因此 $u(t)$ 长度的变化率为 $0$\n",
    "- $\\frac{d}{dt}\\|u(t)\\|^2=\\frac{d}{dt}(u_1^2+u_2^2+u_3^2)\\\\\n",
    "=2u_1u_1^\\prime+2u_2u_2^\\prime+2u_3u_3^\\prime\\\\\n",
    "=\\begin{bmatrix}2u_1&&2u_2&&2u_3\\end{bmatrix}\\begin{bmatrix}u_1^\\prime\\\\u_2^\\prime\\\\u_3^\\prime\\end{bmatrix}\\\\\n",
    "=2u^T\\frac{du}{dt}\\\\\n",
    "=2u^T(Au)\\\\\n",
    "=2u^T(-A^Tu)\\\\\n",
    "=-2(u^TA^T)u\\\\\n",
    "=-2(Au)^Tu$  \n",
    "由 $\\frac{d}{dt}\\|u(t)\\|^2=0 \\implies (Au)^Tu=0 \\implies u \\in N((Au)^T)$ 即 $u(t)$ 在 $Au$ 的左零空间内"
   ]
  },
  {
   "cell_type": "markdown",
   "metadata": {},
   "source": [
    "### 问题23.2\n",
    "- $A$ 为三角矩阵，直接取对角元素作为特征值 $\\lambda_1=1, \\lambda_2=3$  \n",
    "对于 $\\lambda_1=1$，得 $det(A-I)x=\\begin{vmatrix}0&&1\\\\0&&2\\end{vmatrix}x=0$ 的特解即特征向量 $x_1=\\begin{bmatrix}1\\\\0\\end{bmatrix}$  \n",
    "对于 $\\lambda_2=3$，得 $det(A-3I)x=\\begin{vmatrix}-2&&1\\\\0&&0\\end{vmatrix}x=0$ 得特解即特征向量 $x_2=\\begin{bmatrix}1\\\\2\\end{bmatrix}$  \n",
    "得到 $S=\\begin{bmatrix}x_1&&x_2\\end{bmatrix}=\\begin{bmatrix}1&&1\\\\0&&2\\end{bmatrix} \\implies S^{-1}=\\begin{bmatrix}1&&-1/2\\\\0&&1/2\\end{bmatrix}$，同时 $\\Lambda=\\begin{bmatrix}\\lambda_1&&0\\\\0&&\\lambda_2\\end{bmatrix}=\\begin{bmatrix}1&&0\\\\0&&3\\end{bmatrix}$  \n",
    "因此 $A=S\\Lambda S^{-1}=\\begin{bmatrix}1&&1\\\\0&&2\\end{bmatrix}\\begin{bmatrix}1&&0\\\\0&&3\\end{bmatrix}\\begin{bmatrix}1&&-1/2\\\\0&&1/2\\end{bmatrix}$\n",
    "- $e^{At}=Se^{\\Lambda t}S^{-1}$  \n",
    "当 $t=0$ 时，$e^{At}=I+At+\\frac{(At)^2}{2!}+...=I$，$Se^{\\Lambda t}S^{-1}=S\\begin{bmatrix}e^0&&0\\\\0&&e^3 \\cdot 0\\end{bmatrix}S^{-1}=S\\begin{bmatrix}1&&0\\\\0&&1\\end{bmatrix}S^{-1}=SIS^{-1}=I$ 结论成立  \n",
    "$\\frac{d}{dt}e^{At}=Ae^{At} \\implies \\frac{d}{dt}e^{At}|_{t=0}=Ae^{At}|_{t=0}=AI=A$，而 $\\frac{d}{dt}Se^{\\Lambda t}S^{-1}=S\\frac{d}{dt}e^{\\Lambda t}S^{-1}=S\\Lambda e^{\\Lambda t}S^{-1} \\implies \\frac{d}{dt}Se^{\\Lambda t}S^{-1}|_{t=0}=S\\Lambda S^{-1}=A$ 结论成立"
   ]
  }
 ],
 "metadata": {
  "language_info": {
   "name": "python"
  }
 },
 "nbformat": 4,
 "nbformat_minor": 2
}
