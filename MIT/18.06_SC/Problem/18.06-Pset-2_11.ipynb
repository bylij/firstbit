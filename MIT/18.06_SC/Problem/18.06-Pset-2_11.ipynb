{
 "cells": [
  {
   "cell_type": "markdown",
   "metadata": {},
   "source": [
    ">https://ocw.mit.edu/courses/18-06sc-linear-algebra-fall-2011/resources/mit18_06scf11_ses2-11prob/"
   ]
  },
  {
   "cell_type": "markdown",
   "metadata": {},
   "source": [
    "### 问题24.1\n",
    "- a) 设两个特征值分别为 $\\lambda_1$ 和 $\\lambda_2$  \n",
    "根据已知条件得 $\\lambda_1\\lambda_2=det(A) \\lt 0 \\implies 1-b^2 \\lt 0 \\implies b \\lt -1$ 或 $b \\gt 1$\n",
    "- b) 因为矩阵进行三角化后行列式不变，而三角矩阵的行列式为对角元素（也就是主元）的积，由 a) 中可得行列式 $\\lt 0$，因此可得主元必有一个负数\n",
    "- c) $\\lambda_1+\\lambda_2=trace(A)=2 \\gt 0$，如果两个特征值都为负数则和必然也为负数，与题目不符"
   ]
  },
  {
   "cell_type": "markdown",
   "metadata": {},
   "source": [
    "### 问题24.2\n",
    "- $A$ 可逆，是正交矩阵，非投影矩阵，是置换矩阵，可对角化，是马尔可夫矩阵；$B$ 不可逆，非正交矩阵，是投影矩阵，非置换矩阵，可对角化，是马尔科夫矩阵\n",
    "- $A$ 不可 $LU$ 分解（需要进行置换），可以 $QR$ 分解，可以 $S\\Lambda S^{-1}$ 分解，可以 $Q\\Lambda Q^T$ 分解；$B$ 不可 $LU$ 和 $QR$ 分解，可以 $S\\Lambda S^{-1}$ 和 $Q\\Lambda Q^T$ 分解"
   ]
  },
  {
   "cell_type": "markdown",
   "metadata": {},
   "source": [
    "### 问题24.3\n",
    "- $A=\\begin{bmatrix}.7&&.1&&.2\\\\.1&&.6&&.3\\\\.2&&.3&&.5\\end{bmatrix}$  \n",
    "因为 $A\\begin{bmatrix}1\\\\1\\\\1\\end{bmatrix}=\\begin{bmatrix}1\\\\1\\\\1\\end{bmatrix}$，可知 $\\lambda_1=1$ 是 $A$ 的特征值，对应的特征向量为 $x_1=\\begin{bmatrix}1\\\\1\\\\1\\end{bmatrix}$  \n",
    "根据马尔可夫矩阵的熟悉可知其他特征值 $|\\lambda_i| \\lt 1$，因此 $\\lambda_1=1$ 可以使得矩阵进入问题，对应的稳态特征向量为 $\\begin{bmatrix}1\\\\1\\\\1\\end{bmatrix}$\n",
    "- 因为 $\\lambda=1$ 是马尔可夫矩阵 $M$ 的稳态特征值，而 $(1, 1, ..., 1)$ 是 $M^T$ 的在 $\\lambda=1$ 时对应的特征向量，由于 $M=M^T$ 因此 $(1, 1, ..., 1)$ 也是 $M$ 的特征向量且可以使其进入稳态"
   ]
  }
 ],
 "metadata": {
  "language_info": {
   "name": "python"
  }
 },
 "nbformat": 4,
 "nbformat_minor": 2
}
