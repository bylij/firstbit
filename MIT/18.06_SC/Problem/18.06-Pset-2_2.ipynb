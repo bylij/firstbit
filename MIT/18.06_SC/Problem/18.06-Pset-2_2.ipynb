{
 "cells": [
  {
   "cell_type": "markdown",
   "metadata": {},
   "source": [
    ">https://ocw.mit.edu/courses/18-06sc-linear-algebra-fall-2011/resources/mit18_06scf11_ses2-2prob/"
   ]
  },
  {
   "cell_type": "markdown",
   "metadata": {},
   "source": [
    "### 问题15.1\n",
    "- $A=\\begin{bmatrix}1&&0&&0\\\\0&&1&&0\\\\0&&0&&1\\\\0&&0&&0\\end{bmatrix}$  \n",
    "$P=A(A^TA)^{-1}A^T$，可知 $P$ 是一个 $4 \\times 4$ 的矩阵  \n",
    "$P=\\begin{bmatrix}1&&0&&0\\\\0&&1&&0\\\\0&&0&&1\\\\0&&0&&0\\end{bmatrix}(\\begin{bmatrix}1&&0&&0&&0\\\\0&&1&&0&&0\\\\0&&0&&1&&0\\end{bmatrix}\\begin{bmatrix}1&&0&&0\\\\0&&1&&0\\\\0&&0&&1\\\\0&&0&&0\\end{bmatrix})^{-1}\\begin{bmatrix}1&&0&&0&&0\\\\0&&1&&0&&0\\\\0&&0&&1&&0\\end{bmatrix}=\\begin{bmatrix}1&&0&&0&&0\\\\0&&1&&0&&0\\\\0&&0&&1&&0\\\\0&&0&&0&&0\\end{bmatrix}$"
   ]
  },
  {
   "cell_type": "markdown",
   "metadata": {},
   "source": [
    "### 问题15.2\n",
    "- $(I-P)^2=(I-P)(I-P)=I^2-IP-PI+P^2=I-P-P+P=I-P$\n",
    "- $N(A^T)$"
   ]
  }
 ],
 "metadata": {
  "language_info": {
   "name": "python"
  }
 },
 "nbformat": 4,
 "nbformat_minor": 2
}
