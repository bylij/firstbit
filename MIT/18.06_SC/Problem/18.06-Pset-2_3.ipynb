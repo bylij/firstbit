{
 "cells": [
  {
   "cell_type": "markdown",
   "metadata": {},
   "source": [
    ">https://ocw.mit.edu/courses/18-06sc-linear-algebra-fall-2011/resources/mit18_06scf11_ses2-3prob/"
   ]
  },
  {
   "cell_type": "markdown",
   "metadata": {},
   "source": [
    "### 问题16.1\n",
    "- 方程 $\\begin{cases}C-D=7\\\\C+D=7\\\\C+2D=21\\end{cases} \\implies \\begin{bmatrix}1&&-1\\\\1&&1\\\\1&&2\\end{bmatrix}\\begin{bmatrix}C\\\\D\\end{bmatrix}=\\begin{bmatrix}7\\\\7\\\\21\\end{bmatrix}$  \n",
    "其中取 $A=\\begin{bmatrix}1&&-1\\\\1&&1\\\\1&&2\\end{bmatrix}, b=\\begin{bmatrix}7\\\\7\\\\21\\end{bmatrix}$，采用最小二乘法 $A^TA\\hat{x}=A^Tb\\\\\n",
    "\\implies \\hat{x}=(A^TA)^{-1}A^Tb=(\\begin{bmatrix}1&&1&&1\\\\-1&&1&&2\\end{bmatrix}\\begin{bmatrix}1&&-1\\\\1&&1\\\\1&&2\\end{bmatrix})^{-1}\\begin{bmatrix}1&&1&&1\\\\-1&&1&&2\\end{bmatrix}\\begin{bmatrix}7\\\\7\\\\21\\end{bmatrix}=\\begin{bmatrix}9\\\\4\\end{bmatrix}$"
   ]
  },
  {
   "cell_type": "markdown",
   "metadata": {},
   "source": [
    "### 问题16.2\n",
    "- $e=b-p=b-A\\hat{x}=\\begin{bmatrix}7\\\\7\\\\21\\end{bmatrix}-\\begin{bmatrix}1&&-1\\\\1&&1\\\\1&&2\\end{bmatrix}\\begin{bmatrix}9\\\\4\\end{bmatrix}=\\begin{bmatrix}7\\\\7\\\\21\\end{bmatrix}-\\begin{bmatrix}5\\\\13\\\\17\\end{bmatrix}=\\begin{bmatrix}2\\\\-6\\\\4\\end{bmatrix}$\n",
    "- $P$ 为映射矩阵，将 $b$ 映射到 $C(A)$，而 $e \\in N(A^T)$，$e$ 与 $C(A)$ 正交，所以在 $C(A)$ 中不存在分量，因此 $Pe=0$"
   ]
  },
  {
   "cell_type": "markdown",
   "metadata": {},
   "source": [
    "### 问题16.3\n",
    "- $e=b-A\\hat{x} \\implies A\\hat{x}=b-e \\implies \\begin{bmatrix}1&&-1\\\\1&&1\\\\1&&2\\end{bmatrix}\\hat{x}=\\begin{bmatrix}7\\\\7\\\\21\\end{bmatrix}-\\begin{bmatrix}2\\\\-6\\\\4\\end{bmatrix}=\\begin{bmatrix}5\\\\13\\\\17\\end{bmatrix} \\implies \\begin{cases}x_1-x_2=5\\\\x_1+x_2=13\\\\x_1+2x_2=17\\end{cases}$ 解得 $\\hat{x}=\\begin{bmatrix}x_1\\\\x_2\\end{bmatrix}=\\begin{bmatrix}9\\\\4\\end{bmatrix}$\n",
    "- $C(A)$"
   ]
  },
  {
   "cell_type": "markdown",
   "metadata": {},
   "source": [
    "### 问题16.4\n",
    "- $\\hat{x}=\\begin{bmatrix}9\\\\4\\end{bmatrix}$，$y=9+4t$\n",
    "- $b \\in C(A)$"
   ]
  },
  {
   "cell_type": "markdown",
   "metadata": {},
   "source": [
    "### 问题16.5\n",
    "- $e \\in N(A^T)$\n",
    "- $p \\in C(A)$\n",
    "- $\\hat{x} \\in C(A^T)$\n",
    "- $C(A^T)$ 的正交补"
   ]
  },
  {
   "cell_type": "markdown",
   "metadata": {},
   "source": [
    "### 问题16.6\n",
    "- $A=\\begin{bmatrix}1&&-2\\\\1&&-1\\\\1&&0\\\\1&&1\\\\1&&2\\end{bmatrix}, b=\\begin{bmatrix}4\\\\2\\\\-1\\\\0\\\\0\\end{bmatrix}$，由最小二乘法求 $A^TA\\hat{x}=A^Tb\\\\\n",
    "\\implies \\hat{x}=(A^TA)^{-1}A^Tb=(\\begin{bmatrix}1&&1&&1&&1&&1\\\\-2&&-1&&0&&1&&2\\end{bmatrix}\\begin{bmatrix}1&&-2\\\\1&&-1\\\\1&&0\\\\1&&1\\\\1&&2\\end{bmatrix})^{-1}\\begin{bmatrix}1&&1&&1&&1&&1\\\\-2&&-1&&0&&1&&2\\end{bmatrix}\\begin{bmatrix}4\\\\2\\\\-1\\\\0\\\\0\\end{bmatrix}=\\begin{bmatrix}1\\\\-1\\end{bmatrix}$  \n",
    "最佳的直线为 $y=1-t$"
   ]
  }
 ],
 "metadata": {
  "language_info": {
   "name": "python"
  }
 },
 "nbformat": 4,
 "nbformat_minor": 2
}
