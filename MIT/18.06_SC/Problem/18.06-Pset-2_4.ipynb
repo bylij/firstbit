{
 "cells": [
  {
   "cell_type": "markdown",
   "metadata": {},
   "source": [
    ">https://ocw.mit.edu/courses/18-06sc-linear-algebra-fall-2011/resources/mit18_06scf11_ses2-4prob/"
   ]
  },
  {
   "cell_type": "markdown",
   "metadata": {},
   "source": [
    "### 问题17.1\n",
    "- $Qx=0 \\implies Q^T(Qx)=Q^T(0)=0 \\implies (Q^TQ)x=0$ 由于 $Q^Q=I \\implies Ix=0 \\implies x=0$ 命题成立"
   ]
  },
  {
   "cell_type": "markdown",
   "metadata": {},
   "source": [
    "### 问题 17.2\n",
    "- $A=a=\\begin{bmatrix}1\\\\-1\\\\0\\\\0\\end{bmatrix}$  \n",
    "$B=b-\\frac{A^Tb}{A^TA}A=\\begin{bmatrix}0\\\\1\\\\-1\\\\0\\end{bmatrix}-\\frac{\\begin{bmatrix}1&&-1&&0&&0\\end{bmatrix}\\begin{bmatrix}0\\\\1\\\\-1\\\\0\\end{bmatrix}}{\\begin{bmatrix}1&&-1&&0&&0\\end{bmatrix}\\begin{bmatrix}1\\\\-1\\\\0\\\\0\\end{bmatrix}}\\begin{bmatrix}1\\\\-1\\\\0\\\\0\\end{bmatrix}=\\begin{bmatrix}0\\\\1\\\\-1\\\\0\\end{bmatrix}-(-\\frac{1}{2})\\begin{bmatrix}1\\\\-1\\\\0\\\\0\\end{bmatrix}=\\begin{bmatrix}1/2\\\\1/2\\\\-1\\\\0\\end{bmatrix}$  \n",
    "$C=c-\\frac{A^Tc}{A^TA}A-\\frac{B^Tc}{B^TB}B=\\begin{bmatrix}0\\\\0\\\\1\\\\-1\\end{bmatrix}-\\frac{\\begin{bmatrix}1&&-1&&0&&0\\end{bmatrix}\\begin{bmatrix}0\\\\0\\\\1\\\\-1\\end{bmatrix}}{\\begin{bmatrix}1&&-1&&0&&0\\end{bmatrix}\\begin{bmatrix}1\\\\-1\\\\0\\\\0\\end{bmatrix}}\\begin{bmatrix}1\\\\-1\\\\0\\\\0\\end{bmatrix}-\\frac{\\begin{bmatrix}1/2&&1/2&&-1&&0\\end{bmatrix}\\begin{bmatrix}0\\\\0\\\\1\\\\-1\\end{bmatrix}}{\\begin{bmatrix}1/2&&1/2&&-1&&0\\end{bmatrix}\\begin{bmatrix}1/2\\\\1/2\\\\-1\\\\0\\end{bmatrix}}\\begin{bmatrix}1/2\\\\1/2\\\\-1\\\\0\\end{bmatrix}=\\begin{bmatrix}0\\\\0\\\\1\\\\-1\\end{bmatrix}+\\frac{2}{3}\\begin{bmatrix}1/2\\\\1/2\\\\-1\\\\0\\end{bmatrix}=\\begin{bmatrix}1/3\\\\1/3\\\\1/3\\\\-1\\end{bmatrix}$\n",
    "- $d^T\\begin{bmatrix}a&&b&&c\\end{bmatrix}=\\begin{bmatrix}1&&1&&1&&1\\end{bmatrix}\\begin{bmatrix}1&&0&&0\\\\-1&&1&&0\\\\0&&-1&&1\\\\0&&0&&-1\\end{bmatrix}=\\begin{bmatrix}0&&0&&0\\end{bmatrix} \\implies d \\in N(A^T) \\implies d \\perp C(\\begin{bmatrix}a&&b&&c\\end{bmatrix})$  \n",
    "可知 $a, b, c$ 线性不相关，因此可作为一组基，且它们的张成的列空间与 $d$ 垂直  \n",
    "同理可得 $d \\perp C(\\begin{bmatrix}A&&B&&C\\end{bmatrix})$，且 $A, B, C$ 互相正交，因此 $A, B, C$ 可以作为一组基且它们的张成空间垂直于 $d$"
   ]
  }
 ],
 "metadata": {
  "language_info": {
   "name": "python"
  }
 },
 "nbformat": 4,
 "nbformat_minor": 2
}
