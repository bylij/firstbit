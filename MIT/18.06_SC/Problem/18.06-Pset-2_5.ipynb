{
 "cells": [
  {
   "cell_type": "markdown",
   "metadata": {},
   "source": [
    ">https://ocw.mit.edu/courses/18-06sc-linear-algebra-fall-2011/resources/mit18_06scf11_ses2-5prob/"
   ]
  },
  {
   "cell_type": "markdown",
   "metadata": {},
   "source": [
    "### 问题18.1\n",
    "- 存在元素全为 $1$ 的向量 $x=\\begin{bmatrix}1\\\\...\\\\1\\end{bmatrix}$ 满足 $Ax=0$ 即 $Ax=0$ 存在非零解 $\\implies det A=0$\n",
    "- 如果 $A$ 的每行元素的和均为 $1$ 则 $(A-I)$ 每行元素的和均为零 $\\implies det(A-I)=0$\n",
    "- 不是。例如 $A=\\begin{bmatrix}-1&&0&&2\\\\0&&1&&0\\\\0&&0&&1\\end{bmatrix}$ 满足条件，但 $det A=-1$"
   ]
  },
  {
   "cell_type": "markdown",
   "metadata": {},
   "source": [
    "### 问题18.2\n",
    "- 对矩阵进行对角化 $\\begin{bmatrix}1&&a&&a^2\\\\1&&b&&b^2\\\\1&&c&&c^2\\end{bmatrix} \\rightarrow \\begin{bmatrix}1&&a&&a^2\\\\0&&b-a&&b^2-a^2\\\\0&&c-a&&c^2-a^2\\end{bmatrix}$  \n",
    "若 $a=b$ 矩阵为 $\\begin{bmatrix}1&&a&&a^2\\\\0&&0&&0\\\\0&&c-a&&c^2-a^2\\end{bmatrix} \\implies det=0$，等式右边 $(b-a)(c-a)(c-b)=0$ 等式成立  \n",
    "若 $a \\ne b$ 则继续进行对角化 $\\begin{bmatrix}1&&a&&a^2\\\\0&&b-a&&b^2-a^2\\\\0&&c-a&&c^2-a^2\\end{bmatrix} \\rightarrow \\begin{bmatrix}1&&a&&a^2\\\\0&&b-a&&b^2-a^2\\\\0&&0&&(c^2-a^2)-(b^2-a^2) \\cdot \\frac{c-a}{b-a}\\end{bmatrix}=\\begin{bmatrix}1&&a&&a^2\\\\0&&b-a&&b^2-a^2\\\\0&&0&&(c-a)(c-b)\\end{bmatrix}\\\\\n",
    "\\implies det=1 \\cdot (b-a) \\cdot (c-a)(c-b)=(b-a)(c-a)(c-b)$ 等式成立"
   ]
  }
 ],
 "metadata": {
  "language_info": {
   "name": "python"
  }
 },
 "nbformat": 4,
 "nbformat_minor": 2
}
