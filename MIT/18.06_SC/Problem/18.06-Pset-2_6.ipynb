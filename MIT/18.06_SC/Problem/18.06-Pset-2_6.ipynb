{
 "cells": [
  {
   "cell_type": "markdown",
   "metadata": {},
   "source": [
    ">https://ocw.mit.edu/courses/18-06sc-linear-algebra-fall-2011/resources/mit18_06scf11_ses2-6prob/"
   ]
  },
  {
   "cell_type": "markdown",
   "metadata": {},
   "source": [
    "### 问题19.1\n",
    "- 可知 $P_{43}P_{32}P_{21}A=I$ 即通过三次行交换可以将 $A$ 转化为 $I$，可知 $det(A)=(-1)^3det(I)=-1$"
   ]
  },
  {
   "cell_type": "markdown",
   "metadata": {},
   "source": [
    "### 问题19.2\n",
    "- $det\\begin{bmatrix}1&&1&&1&&1\\\\1&&2&&3&&4\\\\1&&3&&6&&10\\\\1&&4&&10&&19\\end{bmatrix}=det\\begin{bmatrix}1&&1&&1&&1\\\\1&&2&&3&&4\\\\1&&3&&6&&10\\\\1&&4&&10&&20\\end{bmatrix}-det\\begin{bmatrix}1&&1&&1&&1\\\\1&&2&&3&&4\\\\1&&3&&6&&10\\\\0&&0&&0&&1\\end{bmatrix}=1-det\\begin{bmatrix}1&&1&&1&&1\\\\1&&2&&3&&4\\\\1&&3&&6&&10\\\\0&&0&&0&&1\\end{bmatrix}$  \n",
    "对矩阵对角化 $\\begin{bmatrix}1&&1&&1&&1\\\\1&&2&&3&&4\\\\1&&3&&6&&10\\\\0&&0&&0&&1\\end{bmatrix} \\rightarrow \\begin{bmatrix}1&&1&&1&&1\\\\0&&1&&2&&3\\\\0&&2&&5&&9\\\\0&&0&&0&&1\\end{bmatrix} \\rightarrow \\begin{bmatrix}1&&1&&1&&1\\\\0&&1&&2&&3\\\\0&&0&&1&&3\\\\0&&0&&0&&1\\end{bmatrix} \\implies det=1*1*1*1=1$  \n",
    "因此最终结果为 $0$"
   ]
  }
 ],
 "metadata": {
  "language_info": {
   "name": "python"
  }
 },
 "nbformat": 4,
 "nbformat_minor": 2
}
