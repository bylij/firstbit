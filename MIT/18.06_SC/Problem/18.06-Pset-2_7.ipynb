{
 "cells": [
  {
   "cell_type": "markdown",
   "metadata": {},
   "source": [
    ">https://ocw.mit.edu/courses/18-06sc-linear-algebra-fall-2011/resources/mit18_06scf11_ses2-7prob/"
   ]
  },
  {
   "cell_type": "markdown",
   "metadata": {},
   "source": [
    "### 问题20.1\n",
    "- $C=\\begin{bmatrix}6&&-3&&0\\\\3&&1&&-1\\\\-6&&2&&1\\end{bmatrix}$，$AC^T=\\begin{bmatrix}1&&1&&4\\\\1&&2&&2\\\\1&&2&&5\\end{bmatrix}\\begin{bmatrix}6&&3&&-6\\\\-3&&1&&2\\\\0&&-1&&1\\end{bmatrix}=\\begin{bmatrix}3&&0&&0\\\\0&&3&&0\\\\0&&0&&3\\end{bmatrix}=3I_3 \\implies det(A)=3$\n",
    "- $det\\begin{bmatrix}1&&1&&100\\\\1&&2&&2\\\\1&&2&&5\\end{bmatrix}=det\\begin{bmatrix}1&&1&&4\\\\1&&2&&2\\\\1&&2&&5\\end{bmatrix}+det\\begin{bmatrix}0&&0&&96\\\\1&&2&&2\\\\1&&2&&5\\end{bmatrix}$  \n",
    "而 $det\\begin{bmatrix}0&&0&&96\\\\1&&2&&2\\\\1&&2&&5\\end{bmatrix}=96\\begin{vmatrix}1&&2\\\\1&&2\\end{vmatrix}=0 \\implies det\\begin{bmatrix}1&&1&&100\\\\1&&2&&2\\\\1&&2&&5\\end{bmatrix}=det(A)$ 即行列式值不变"
   ]
  },
  {
   "cell_type": "markdown",
   "metadata": {},
   "source": [
    "### 问题20.2\n",
    "- $\\begin{bmatrix}\\partial{x}/\\partial{\\rho}&&\\partial{x}/\\partial{\\phi}&&\\partial{x}/\\partial{\\theta}\\\\\\partial{y}/\\partial{\\rho}&&\\partial{y}/\\partial{\\phi}&&\\partial{y}/\\partial{\\theta}\\\\\\partial{z}/\\partial{\\rho}&&\\partial{z}/\\partial{\\phi}&&\\partial{z}/\\partial{\\theta}\\end{bmatrix}=\\begin{bmatrix}\\sin{\\phi}\\cos{\\theta}&&\\rho\\cos{\\phi}\\cos{\\theta}&&-\\rho\\sin{\\phi}\\sin{\\theta}\\\\\\sin{\\phi}\\sin{\\theta}&&\\rho\\cos{\\phi}\\sin{\\theta}&&\\rho\\sin{\\phi}\\cos{\\theta}\\\\\\cos{\\phi}&&-\\rho\\sin{\\phi}&&0\\end{bmatrix}$\n",
    "- 将矩阵对角化 $\\begin{bmatrix}\\sin{\\phi}\\cos{\\theta}&&\\rho\\cos{\\phi}\\cos{\\theta}&&-\\rho\\sin{\\phi}\\sin{\\theta}\\\\\\sin{\\phi}\\sin{\\theta}&&\\rho\\cos{\\phi}\\sin{\\theta}&&\\rho\\sin{\\phi}\\cos{\\theta}\\\\\\cos{\\phi}&&-\\rho\\sin{\\phi}&&0\\end{bmatrix} \\rightarrow \\begin{bmatrix}\\sin{\\phi}\\cos{\\theta}&&\\rho\\cos{\\phi}\\cos{\\theta}&&-\\rho\\sin{\\phi}\\sin{\\theta}\\\\0&&0&&\\rho\\sin{\\phi}\\sec{\\theta}\\\\0&&-\\rho\\csc{\\phi}&&\\rho\\tan{\\theta}\\cos{\\phi}\\end{bmatrix}$  \n",
    "可得 $J=det=-(\\sin{\\phi}\\cos{\\theta} \\cdot -\\rho\\csc{\\phi} \\cdot \\rho\\sin{\\phi}\\sec{\\theta})=\\rho^2\\sin{\\phi}$"
   ]
  }
 ],
 "metadata": {
  "language_info": {
   "name": "python"
  }
 },
 "nbformat": 4,
 "nbformat_minor": 2
}
