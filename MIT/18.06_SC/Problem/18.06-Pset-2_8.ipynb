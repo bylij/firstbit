{
 "cells": [
  {
   "cell_type": "markdown",
   "metadata": {},
   "source": [
    ">https://ocw.mit.edu/courses/18-06sc-linear-algebra-fall-2011/resources/mit18_06scf11_ses2-8prob/"
   ]
  },
  {
   "cell_type": "markdown",
   "metadata": {},
   "source": [
    "### 问题21.1\n",
    "- a) $B$ 的特征值包含 $0 \\implies det(B)=0 \\implies rank(B) \\le 2$  \n",
    "$B$ 具有两个不同的非零特征值，其非零特征值的代数重数之和为 $1+1=2$，因此 $rank=2$\n",
    "- b) $det(B)=0 \\implies det(B^TB)=det(B^T)det(B)=0$\n",
    "- c) 三个特征值 $\\lambda_1=0, \\lambda_2=1, \\lambda_3=2$ 对应的特征向量分别为 $x_1, x_2, x_3$，可知 $Bx_1=\\lambda_1x_1=0, Bx_2=\\lambda_2x_2=x_2, Bx_3=\\lambda_3x_3=2x_3$  \n",
    "可得 $(B^TB)x_1=B^T(Bx_1)=B^T \\cdot 0=0$ 可知 $\\lambda_1^\\prime=0$ 是 $B^TB$ 的一个特征向量  \n",
    "而 $(B^TB)x_2=B^T(Bx_2)=B^Tx_2$ 这里由于 $x_2$ 并不是 $B^T$ 的特征向量，没法继续推导，同理对于 $x_3$ 的情况也是一样  \n",
    "结论：无法获取 $B^TB$ 的所有特征值\n",
    "- d) 根据 $\\textcircled{1}$ $P(A)x=P(\\lambda)x$ 即 $A$ 的多项式的特征值即为其各个特征值的相同多项式的值，且 $\\textcircled{2}$ $A^{-1}$ 的特征值为 $A$ 特征值的导数  \n",
    "可得 $(B^2+I)^{-1}$ 的特征值为 $\\frac{1}{0^2+1}, \\frac{1}{1^2+1}, \\frac{1}{2^2+1}$ 即 $0, \\frac{1}{2}, \\frac{1}{5}$"
   ]
  },
  {
   "cell_type": "markdown",
   "metadata": {},
   "source": [
    "### 问题21.2\n",
    "- 对于 $A$ 已经是三角矩阵，直接取对角上三个元素得到特征值 $1, 4, 6$\n",
    "- $B-\\lambda I=\\begin{bmatrix}-\\lambda&&0&&1\\\\0&&2-\\lambda&&0\\\\3&&0&&-\\lambda\\end{bmatrix} \\implies det(B-\\lambda I)=-\\lambda(2-\\lambda)(-\\lambda)+1 \\cdot (-3(2-\\lambda))=(2-\\lambda)(\\lambda^2-3)=0$ 解得特征值 $2, \\pm \\sqrt{3}$\n",
    "- $det(C-\\lambda I)=\\begin{vmatrix}2-\\lambda&&2&&2\\\\2&&2-\\lambda&&2\\\\2&&2&&2-\\lambda\\end{vmatrix}=(2-\\lambda)[(2-\\lambda)^2-2^2]-2[2(2-\\lambda)-2^2]+2[2^2-2(2-\\lambda)]=\\lambda^2(6-\\lambda)=0$ 解得特征值 $\\lambda_1=0,\\lambda_2=0,\\lambda_3=6$"
   ]
  }
 ],
 "metadata": {
  "language_info": {
   "name": "python"
  }
 },
 "nbformat": 4,
 "nbformat_minor": 2
}
