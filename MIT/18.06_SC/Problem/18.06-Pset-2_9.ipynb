{
 "cells": [
  {
   "cell_type": "markdown",
   "metadata": {},
   "source": [
    ">https://ocw.mit.edu/courses/18-06sc-linear-algebra-fall-2011/resources/mit18_06scf11_ses2-9prob/"
   ]
  },
  {
   "cell_type": "markdown",
   "metadata": {},
   "source": [
    "### 问题 22.1\n",
    "- $A$ 为三角矩阵，直接取对角元素即为特征值 $\\lambda_1=4, \\lambda_2=2$  \n",
    "对于 $\\lambda_1=4$，$(A-4I)x=\\begin{bmatrix}0&&0\\\\1&&-2\\end{bmatrix}x=0$ 得到特征值 $x_1=\\begin{bmatrix}2\\\\1\\end{bmatrix}$  \n",
    "对于 $\\lambda_2=2$，$(A-2I)x=\\begin{bmatrix}2&&0\\\\1&&0\\end{bmatrix}x=0$ 得到特征值 $x_2=\\begin{bmatrix}0\\\\1\\end{bmatrix}$  \n",
    "因此 $S=\\begin{bmatrix}x_1&&x_2\\end{bmatrix}=\\begin{bmatrix}2&&0\\\\1&&1\\end{bmatrix}$ 可以将 $A$ 对角化，同时 $S=\\begin{bmatrix}x_2&&x_1\\end{bmatrix}=\\begin{bmatrix}0&&2\\\\1&&1\\end{bmatrix}$ 也可以将 $A$ 对角化  \n",
    "- 对角化拆分公式 $A=S\\Lambda S^{-1} \\implies A^{-1}=(S\\Lambda S^{-1})^{-1}=(S^{-1})^{-1}\\Lambda^{-1}S^{-1}=S\\Lambda^{-1}S^{-1}$  \n",
    "因此 $A^{-1}$ 的对角化矩阵与 $A$ 相同"
   ]
  },
  {
   "cell_type": "markdown",
   "metadata": {},
   "source": [
    "### 问题22.2\n",
    "- $det(A-\\lambda I)=\\begin{vmatrix}0.6-\\lambda&&0.9\\\\0.4&&0.1-\\lambda\\end{vmatrix}=(0.6-\\lambda)(0.1-\\lambda)-0.36=(\\lambda-1)(\\lambda+0.3)=0$ 解得特征值 $\\lambda_1=1, \\lambda_2=-0.3$  \n",
    "对于 $\\lambda_1=1$，$(A-I)x=\\begin{bmatrix}-0.4&&0.9\\\\0.4&&-0.9\\end{bmatrix}x=0$ 可得特征向量 $x_1=\\begin{bmatrix}1\\\\1\\end{bmatrix}$  \n",
    "对于 $\\lambda_2=-0.3$，$(A+0.3I)x=\\begin{bmatrix}0.9&&0.9\\\\0.4&&0.4\\end{bmatrix}x=0$ 可得特征向量 $x_2=\\begin{bmatrix}-1\\\\1\\end{bmatrix}$  \n",
    "可得 $S=\\begin{bmatrix}1&&-1\\\\1&&1\\end{bmatrix}, \\Lambda=\\begin{bmatrix}1&&0\\\\0&&-0.3\\end{bmatrix}$\n",
    "- 当 $k \\to \\infty$ 时，$\\Lambda^k$ 的极限为 $\\begin{bmatrix}1&&0\\\\0&&0\\end{bmatrix}$\n",
    "- 当 $k \\to \\infty$ 时，$S\\Lambda^kS^{-1}$ 的极限为 $\\begin{bmatrix}1&&-1\\\\1&&1\\end{bmatrix}\\begin{bmatrix}1&&0\\\\0&&0\\end{bmatrix}\\begin{bmatrix}1&&-1\\\\1&&1\\end{bmatrix}^{-1}=\\begin{bmatrix}1/2&&1/2\\\\1/2&&1/2\\end{bmatrix}$\n",
    "- $\\begin{bmatrix}1/2\\\\1/2\\end{bmatrix}$"
   ]
  }
 ],
 "metadata": {
  "language_info": {
   "name": "python"
  }
 },
 "nbformat": 4,
 "nbformat_minor": 2
}
