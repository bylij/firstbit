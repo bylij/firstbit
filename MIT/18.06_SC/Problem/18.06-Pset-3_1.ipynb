{
 "cells": [
  {
   "cell_type": "markdown",
   "id": "d3cd46cd",
   "metadata": {},
   "source": [
    ">https://ocw.mit.edu/courses/18-06sc-linear-algebra-fall-2011/resources/mit18_06scf11_ses3-1prob/"
   ]
  },
  {
   "cell_type": "markdown",
   "id": "27f0394d",
   "metadata": {},
   "source": [
    "### 问题25.1\n",
    "- $x^Tx=\\begin{bmatrix}i&&1\\end{bmatrix}\\begin{bmatrix}i\\\\1\\end{bmatrix}=i^2+1=-1+1=0$ 因此 $x^Tx$ 作为分母没有意义，因此题目中缺少的假设条件是 $x^Tx \\ne 0$"
   ]
  },
  {
   "cell_type": "markdown",
   "id": "2ffea116",
   "metadata": {},
   "source": [
    "### 问题25.2\n",
    "- a) 矩阵 $A, B$ 为正定矩阵，则 $A^T=A, x^TAx \\gt 0$ 且 $B^T=B, x^TBx \\gt 0$ 即 $A, B$ 为对称矩阵且二次型均为正  \n",
    "而 $(AB)^T=B^TA^T=BA \\ne AB$ 可得 矩阵 $AB$ 不是对称矩阵，因此不满足群的定义\n",
    "- b) 矩阵 $Q_1, Q_2$ 均为正交矩阵，则 $Q_1^TQ_1=I$ 且 $Q_2^TQ_2=I$  \n",
    "而 $(Q_1Q_2)^T(Q_1Q_2)=Q_2^TQ_1^TQ_1Q_2=Q_2^T(Q_1^TQ_1)Q_2=Q_2^TQ_2=I$ 因此矩阵 $Q_1Q_2$ 满足条件 $\\textcircled{1}$  \n",
    "而 $(Q^{-1})^TQ^{-1}=(Q^T)^TQ^{-1}=QQ^{-1}=I$ 因此矩阵 $Q^{-1}$ 满足条件 $\\textcircled{1}$  \n",
    "综合 $\\textcircled{1}$ 和 $\\textcircled{2}$ 可知正交矩阵满足群定义\n",
    "- c) 满足群定义\n",
    "- d) 满足群定义"
   ]
  }
 ],
 "metadata": {
  "language_info": {
   "name": "python"
  }
 },
 "nbformat": 4,
 "nbformat_minor": 5
}
