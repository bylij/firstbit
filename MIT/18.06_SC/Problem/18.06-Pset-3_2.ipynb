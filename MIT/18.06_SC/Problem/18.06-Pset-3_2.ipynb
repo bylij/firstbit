{
 "cells": [
  {
   "cell_type": "markdown",
   "id": "7f4ec0bc",
   "metadata": {},
   "source": [
    ">https://ocw.mit.edu/courses/18-06sc-linear-algebra-fall-2011/resources/mit18_06scf11_ses3-2prob/"
   ]
  },
  {
   "cell_type": "markdown",
   "id": "20cf8fbf",
   "metadata": {},
   "source": [
    "### 问题26.1\n",
    "- $w=e^{2\\pi i/2}=e^{i\\pi}=\\cos{\\pi}+\\sin{\\pi}i=-1 \\implies F_2=\\begin{bmatrix}1&&1\\\\1&&w\\end{bmatrix}=\\begin{bmatrix}1&&1\\\\1&&-1\\end{bmatrix}$"
   ]
  },
  {
   "cell_type": "markdown",
   "id": "5a733e7f",
   "metadata": {},
   "source": [
    "### 问题26.2\n",
    "- $w=e^{2\\pi i/4}=e^{\\pi i/2}=\\cos{\\frac{\\pi}{2}}+i\\sin{\\frac{\\pi}{2}}=i \\implies D=\\begin{bmatrix}1&&0\\\\0&&w\\end{bmatrix}=\\begin{bmatrix}1&&0\\\\0&&i\\end{bmatrix}$  \n",
    "$P=\\begin{bmatrix}1&&0&&0&&0\\\\0&&0&&1&&0\\\\0&&1&&0&&0\\\\0&&0&&0&&1\\end{bmatrix}$  \n",
    "验证: $\\begin{bmatrix}I&&D\\\\I&&-D\\end{bmatrix}\\begin{bmatrix}F_2&&0\\\\0&&F_2\\end{bmatrix}P=\\begin{bmatrix}1&&0&&1&&0\\\\0&&1&&0&&i\\\\1&&0&&-1&&0\\\\0&&1&&0&&-i\\end{bmatrix}\\begin{bmatrix}1&&1&&0&&0\\\\1&&-1&&0&&0\\\\0&&0&&1&&1\\\\0&&0&&1&&-1\\end{bmatrix}\\begin{bmatrix}1&&0&&0&&0\\\\0&&0&&1&&0\\\\0&&1&&0&&0\\\\0&&0&&0&&1\\end{bmatrix}\\\\\n",
    "=\\begin{bmatrix}1&&1&&1&&1\\\\1&&-1&&i&&-i\\\\1&&1&&-1&&-1\\\\1&&-1&&-i&&i\\end{bmatrix}\\begin{bmatrix}1&&0&&0&&0\\\\0&&0&&1&&0\\\\0&&1&&0&&0\\\\0&&0&&0&&1\\end{bmatrix}\\\\\n",
    "=\\begin{bmatrix}1&&1&&1&&1\\\\1&&i&&-1&&-i\\\\1&&-1&&1&&-1\\\\1&&-i&&-1&&i\\end{bmatrix}\\\\\n",
    "=F_4$  \n",
    "验证通过"
   ]
  }
 ],
 "metadata": {
  "language_info": {
   "name": "python"
  }
 },
 "nbformat": 4,
 "nbformat_minor": 5
}
