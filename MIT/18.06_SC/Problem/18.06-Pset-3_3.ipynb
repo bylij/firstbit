{
 "cells": [
  {
   "cell_type": "markdown",
   "id": "ef97574b",
   "metadata": {},
   "source": [
    ">https://ocw.mit.edu/courses/18-06sc-linear-algebra-fall-2011/resources/mit18_06scf11_ses3-3prob/"
   ]
  },
  {
   "cell_type": "markdown",
   "id": "bba6522e",
   "metadata": {},
   "source": [
    "### 问题27.1\n",
    "- $ABx=\\lambda x \\implies (Bx)^TABx=(Bx)^T\\lambda x \\implies (Bx)^TA(Bx)=\\lambda x^TB^Tx=\\lambda x^TBx$  \n",
    "由于 $A, B$ 都是正定矩阵，因此二次型都大于 $0$，可知 $(Bx)^TA(Bx) \\gt 0$ 且 $x^TB^Tx \\gt 0$，所以 $\\lambda =\\frac{(Bx)^TA(Bx)}{x^TBx} \\gt 0$  \n",
    "注意：$Bx$ 是与 $x$ 同样维度的向量"
   ]
  },
  {
   "cell_type": "markdown",
   "id": "04a32b74",
   "metadata": {},
   "source": [
    "### 问题27.2\n",
    "- 二次型 $f(x, y)=\\begin{bmatrix}x&&y\\end{bmatrix}\\begin{bmatrix}1&&5\\\\7&&9\\end{bmatrix}\\begin{bmatrix}x\\\\y\\end{bmatrix}=x^2+12xy+9y^2=(x+6y)^2-27y^2$  \n",
    "可以看到函数 $f(x, y)$ 为平方差的形式，因此根据 $x$ 与 $y$ 的相对关系会出现时而正时而负的现象"
   ]
  }
 ],
 "metadata": {
  "language_info": {
   "name": "python"
  }
 },
 "nbformat": 4,
 "nbformat_minor": 5
}
