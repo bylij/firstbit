{
 "cells": [
  {
   "cell_type": "markdown",
   "metadata": {},
   "source": [
    ">https://ocw.mit.edu/courses/18-06sc-linear-algebra-fall-2011/resources/mit18_06scf11_ses3-4prob/"
   ]
  },
  {
   "cell_type": "markdown",
   "metadata": {},
   "source": [
    "### 问题28.1\n",
    "- 设 $M=\\begin{bmatrix}a&&b&&c&&d\\\\e&&f&&g&&h\\\\i&&j&&k&&l\\\\m&&n&&o&&p\\end{bmatrix} \\implies JM=\\begin{bmatrix}0&&1&&0&&0\\\\0&&0&&0&&0\\\\0&&0&&0&&1\\\\0&&0&&0&&0\\end{bmatrix}\\begin{bmatrix}a&&b&&c&&d\\\\e&&f&&g&&h\\\\i&&j&&k&&l\\\\m&&n&&o&&p\\end{bmatrix}=\\begin{bmatrix}e&&f&&g&&h\\\\0&&0&&0&&0\\\\m&&n&&o&&p\\\\0&&0&&0&&0\\end{bmatrix}, \\\\\n",
    "MK=\\begin{bmatrix}a&&b&&c&&d\\\\e&&f&&g&&h\\\\i&&j&&k&&l\\\\m&&n&&o&&p\\end{bmatrix}\\begin{bmatrix}0&&1&&0&&0\\\\0&&0&&1&&0\\\\0&&0&&0&&0\\\\0&&0&&0&&0\\end{bmatrix}=\\begin{bmatrix}0&&a&&b&&0\\\\0&&e&&f&&0\\\\0&&i&&j&&0\\\\0&&m&&n&&0\\end{bmatrix}$  \n",
    "由 $JM=MK \\implies \\begin{bmatrix}e&&f&&g&&h\\\\0&&0&&0&&0\\\\m&&n&&o&&p\\\\0&&0&&0&&0\\end{bmatrix}=\\begin{bmatrix}0&&a&&b&&0\\\\0&&e&&f&&0\\\\0&&i&&j&&0\\\\0&&m&&n&&0\\end{bmatrix} \\implies \\begin{cases}a=e=f=h=i=m=n=p=0\\\\b=g\\\\j=o\\end{cases}$  \n",
    "可得 $M=\\begin{bmatrix}0&&b&&c&&d\\\\0&&0&&b&&0\\\\0&&j&&k&&l\\\\0&&0&&j&&0\\end{bmatrix} \\implies det(M)=0$ 因此 $M$ 不可逆  \n",
    "因此，由 $JM=MK$ 不能得到 $K=M^{-1}JM$ 的形式，可知 $K$ 与 $J$ 不相似"
   ]
  },
  {
   "cell_type": "markdown",
   "metadata": {},
   "source": [
    "### 问题28.2\n",
    "- a) $A$ 与 $B$ 相似，可知存在矩阵 $M$ 满足 $A=M^{-1}BM \\implies A^2=(M^{-1}BM)(M^{-1}BM)=M^{-1}B(MM^{-1})BM=M^{-1}B^2M$ 可得 $A^2$ 与 $B^2$ 相似\n",
    "- b) 举例：如 $A=\\begin{bmatrix}0&&1\\\\0&&0\\end{bmatrix}, B=\\begin{bmatrix}0&&0\\\\1&&0\\end{bmatrix}$ 可知 $A, B$ 不相似  \n",
    "但是 $A^2=\\begin{bmatrix}0&&0\\\\0&&0\\end{bmatrix}, B^2=\\begin{bmatrix}0&&0\\\\0&&0\\end{bmatrix}$ 可知 $A^2, B^2$ 相似\n",
    "- c) 取 $X=\\begin{bmatrix}1&&1\\\\0&&1\\end{bmatrix}$ 可得 $\\begin{bmatrix}3&&0\\\\0&&4\\end{bmatrix}=X^{-1}\\begin{bmatrix}3&&1\\\\0&&4\\end{bmatrix}X$，因此两矩阵相似\n",
    "- d) 取任意可逆矩阵 $M$ 可得 $M^{-1}\\begin{bmatrix}3&&0\\\\0&&3\\end{bmatrix}M=M^{-1}(3I)M=3(M^{-1}M)=3I=\\begin{bmatrix}3&&0\\\\0&&3\\end{bmatrix}$ 即矩阵本身，永远得不到矩阵 $\\begin{bmatrix}3&&1\\\\0&&3\\end{bmatrix}$，因此两矩阵不相似\n",
    "- e) 设 $P_{21}$ 是交换第一、第二列的列置换矩阵，则 $P_{21}^T$ 为交换第一、二行的行置换矩阵，根据置换矩阵的性质可知 $P_{21}^T=P_{21}^{-1}$  \n",
    "根据题意可知 $B=P_{21}^TAP_{21}=P_{21}^{-1}AP_{21}$ 因此 $A$ 与 $B$ 相似"
   ]
  }
 ],
 "metadata": {
  "language_info": {
   "name": "python"
  }
 },
 "nbformat": 4,
 "nbformat_minor": 2
}
