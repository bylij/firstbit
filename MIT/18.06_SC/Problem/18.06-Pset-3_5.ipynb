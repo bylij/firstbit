{
 "cells": [
  {
   "cell_type": "markdown",
   "metadata": {},
   "source": [
    ">https://ocw.mit.edu/courses/18-06sc-linear-algebra-fall-2011/resources/mit18_06scf11_ses3-5prob/"
   ]
  },
  {
   "cell_type": "markdown",
   "metadata": {},
   "source": [
    "### 问题29.1\n",
    "- $A^TA=\\begin{bmatrix}1&&1\\\\1&&0\\end{bmatrix}\\begin{bmatrix}1&&1\\\\1&&0\\end{bmatrix}=\\begin{bmatrix}2&&1\\\\1&&1\\end{bmatrix} \\implies det(A^TA-\\lambda I)=\\begin{vmatrix}2-\\lambda&&1\\\\1&&1-\\lambda\\end{vmatrix}=(2-\\lambda)(1-\\lambda)-1=\\lambda^2-3\\lambda+1\\\\\n",
    "\\implies \\lambda=\\frac{3 \\pm \\sqrt{5}}{2} \\implies \\sigma_1=\\sqrt{\\lambda_1}=\\sqrt{\\frac{3+\\sqrt{5}}{2}}=\\sqrt{\\frac{6+2\\sqrt{5}}{4}}=\\sqrt{\\frac{(\\sqrt{5}+1)^2}{4}}=\\frac{\\sqrt{5}+1}{2}$ 同理 $\\sigma_2=\\sqrt{\\lambda_2}=\\frac{\\sqrt{5}-1}{2}$  \n",
    "因此 $\\Sigma=\\begin{bmatrix}\\sigma_1&&\\\\&&\\sigma_2\\end{bmatrix}=\\begin{bmatrix}\\frac{\\sqrt{5}+1}{2}&&\\\\&&\\frac{\\sqrt{5}-1}{2}\\end{bmatrix}$"
   ]
  },
  {
   "cell_type": "markdown",
   "metadata": {},
   "source": [
    "### 问题29.2\n",
    "- 根据题意 $w_1^Tw_1=\\sigma_1^2, w_2^Tw_2=\\sigma_2, ..., w_n^Tw_n=\\sigma_n$，假设 $A$ 为 $m \\times n$ 矩阵，由于 $A$ 为正交矩阵，可知 $m \\ge n$  \n",
    "可得 $A^TA=\\begin{bmatrix}w_1^T\\\\w_2^T\\\\...\\\\w_n^T\\end{bmatrix}_{n \\times m}\\begin{bmatrix}w_1&&w_2&&...&&w_n\\end{bmatrix}_{m \\times n}=\\begin{bmatrix}\\sigma_1^2&&&&&&\\\\&&\\sigma_2^2&&&&\\\\&&&&...&&\\\\&&&&&&\\sigma_n^2\\end{bmatrix}_{n \\times n}=V\\begin{bmatrix}\\sigma_1^2&&&&&&\\\\&&\\sigma_2^2&&&&\\\\&&&&...&&\\\\&&&&&&\\sigma_n^2\\end{bmatrix}V^T \\implies V=I_n$  \n",
    "同理 $AA^T=\\begin{bmatrix}w_1&&w_2&&...&&w_n\\end{bmatrix}_{m \\times n}\\begin{bmatrix}w_1^T\\\\w_2^T\\\\...\\\\w_n^T\\end{bmatrix}_{n \\times m}=\\begin{bmatrix}\\sigma_1^2&&&&&&&&\\\\&&\\sigma_2^2&&&&&&\\\\&&&&...&&&&\\\\&&&&&&\\sigma_n^2&&\\\\&&&&&&&&\\end{bmatrix}_{m \\times m}=U\\begin{bmatrix}\\sigma_1^2&&&&&&&&\\\\&&\\sigma_2^2&&&&&&\\\\&&&&...&&&&\\\\&&&&&&\\sigma_n^2&&\\\\&&&&&&&&\\end{bmatrix}_{m \\times m}U^T \\implies U=I_m$  \n",
    "$\\Sigma=\\begin{bmatrix}\\sigma_1&&&&&&\\\\&&\\sigma_2&&&&\\\\&&&&...&&\\\\&&&&&&\\sigma_n\\\\&&&&&&\\end{bmatrix}_{m \\times n}$"
   ]
  }
 ],
 "metadata": {
  "language_info": {
   "name": "python"
  }
 },
 "nbformat": 4,
 "nbformat_minor": 2
}
