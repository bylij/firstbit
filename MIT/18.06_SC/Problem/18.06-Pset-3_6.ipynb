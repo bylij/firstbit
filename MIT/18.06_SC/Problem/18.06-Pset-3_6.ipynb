{
 "cells": [
  {
   "cell_type": "markdown",
   "id": "1356f21f",
   "metadata": {},
   "source": [
    ">https://ocw.mit.edu/courses/18-06sc-linear-algebra-fall-2011/resources/mit18_06scf11_ses3-6prob/"
   ]
  },
  {
   "cell_type": "markdown",
   "id": "d6de8338",
   "metadata": {},
   "source": [
    "### 问题30.1\n",
    "- a) $T$ 是一个线性变换\n",
    "- b) $T(x, y)=(2x, 2y)$\n",
    "- c) $T\\begin{bmatrix}1\\\\1\\end{bmatrix}=\\begin{bmatrix}2\\\\2\\end{bmatrix} \\implies T=\\begin{bmatrix}2&&0\\\\0&&2\\end{bmatrix}$"
   ]
  },
  {
   "cell_type": "markdown",
   "id": "88947525",
   "metadata": {},
   "source": [
    "### 问题30.2\n",
    "- 例如二维平面中的变换 $T(x, y)=(|x|, y)$，即平面上任意一点转换后 $x$ 坐标取绝对值 $y$ 坐标不变  \n",
    "平面中向量 $v_1=<x_1,y_1>, v_2=<x_2,y_2>$，可知 $T(v_1+v_2)=T(x_1+x_2,y_1+y_2)=(|x_1+x_2|, y_1+y_2)$ 而 $T(v_1)=(|x_1|, y_1), T(v_2)=(|x_2|, y_2)$  \n",
    "由于 $|x_1+x_2|=|x_1|+|x_2|$ 当 $x_1$ 和 $x_2$ 符号相反时不成立，此时 $T(v_1+v_2) \\ne T(v_1)+T(v_2)$ 不满足线性变化的条件"
   ]
  }
 ],
 "metadata": {
  "language_info": {
   "name": "python"
  }
 },
 "nbformat": 4,
 "nbformat_minor": 5
}
