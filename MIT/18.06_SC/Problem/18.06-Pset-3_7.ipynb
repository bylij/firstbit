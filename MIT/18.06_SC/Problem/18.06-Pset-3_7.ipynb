{
 "cells": [
  {
   "cell_type": "markdown",
   "id": "ef912bab",
   "metadata": {},
   "source": [
    ">https://ocw.mit.edu/courses/18-06sc-linear-algebra-fall-2011/resources/mit18_06scf11_ses3-7prob/"
   ]
  },
  {
   "cell_type": "markdown",
   "id": "d19e4a75",
   "metadata": {},
   "source": [
    "### 问题31.1\n",
    "- 课程中给出一组 $R^8$ 小波基底：$\\begin{bmatrix}1\\\\1\\\\1\\\\1\\\\1\\\\1\\\\1\\\\1\\end{bmatrix},\\begin{bmatrix}1\\\\1\\\\1\\\\1\\\\-1\\\\-1\\\\-1\\\\-1\\end{bmatrix},\\begin{bmatrix}1\\\\1\\\\-1\\\\-1\\\\0\\\\0\\\\0\\\\0\\end{bmatrix},\\begin{bmatrix}0\\\\0\\\\0\\\\0\\\\1\\\\1\\\\-1\\\\-1\\end{bmatrix},\\begin{bmatrix}1\\\\-1\\\\0\\\\0\\\\0\\\\0\\\\0\\\\0\\end{bmatrix},\\begin{bmatrix}0\\\\0\\\\1\\\\-1\\\\0\\\\0\\\\0\\\\0\\end{bmatrix},\\begin{bmatrix}0\\\\0\\\\0\\\\0\\\\1\\\\-1\\\\0\\\\0\\end{bmatrix},\\begin{bmatrix}0\\\\0\\\\0\\\\0\\\\0\\\\0\\\\1\\\\-1\\end{bmatrix}$ 通过两两进行点积计算可以验证小波基底是一组正交基底\n",
    "- 模态化后变为模态正交基：$\\frac{1}{2\\sqrt{2}}\\begin{bmatrix}1\\\\1\\\\1\\\\1\\\\1\\\\1\\\\1\\\\1\\end{bmatrix},\\frac{1}{2\\sqrt{2}}\\begin{bmatrix}1\\\\1\\\\1\\\\1\\\\-1\\\\-1\\\\-1\\\\-1\\end{bmatrix},\\frac{1}{2}\\begin{bmatrix}1\\\\1\\\\-1\\\\-1\\\\0\\\\0\\\\0\\\\0\\end{bmatrix},\\frac{1}{2}\\begin{bmatrix}0\\\\0\\\\0\\\\0\\\\1\\\\1\\\\-1\\\\-1\\end{bmatrix},\\frac{1}{\\sqrt{2}}\\begin{bmatrix}1\\\\-1\\\\0\\\\0\\\\0\\\\0\\\\0\\\\0\\end{bmatrix},\\frac{1}{\\sqrt{2}}\\begin{bmatrix}0\\\\0\\\\1\\\\-1\\\\0\\\\0\\\\0\\\\0\\end{bmatrix},\\frac{1}{\\sqrt{2}}\\begin{bmatrix}0\\\\0\\\\0\\\\0\\\\1\\\\-1\\\\0\\\\0\\end{bmatrix},\\frac{1}{\\sqrt{2}}\\begin{bmatrix}0\\\\0\\\\0\\\\0\\\\0\\\\0\\\\1\\\\-1\\end{bmatrix}$"
   ]
  },
  {
   "cell_type": "markdown",
   "id": "e3f05c83",
   "metadata": {},
   "source": [
    "### 问题31.2\n",
    "- 第一组基：$\\begin{bmatrix}1&&0\\\\0&&0\\end{bmatrix}, \\begin{bmatrix}0&&1\\\\0&&0\\end{bmatrix}, \\begin{bmatrix}0&&0\\\\1&&0\\end{bmatrix}, \\begin{bmatrix}0&&0\\\\0&&1\\end{bmatrix}$  \n",
    "第二组基：$\\begin{bmatrix}1&&1\\\\1&&1\\end{bmatrix}, \\begin{bmatrix}1&&1\\\\-1&&-1\\end{bmatrix}, \\begin{bmatrix}1&&-1\\\\0&&0\\end{bmatrix}, \\begin{bmatrix}0&&0\\\\1&&-1\\end{bmatrix}$\n",
    "- 针对对角矩阵：第一组基更好（第一组需要两个个参数，第二组需要四个参数）  \n",
    "针对三角矩阵：第一组基更好（第一组需要三个参数，第二组需要四个参数）  \n",
    "针对对称矩阵：两组基相同（都需要四个参数）"
   ]
  }
 ],
 "metadata": {
  "language_info": {
   "name": "python"
  }
 },
 "nbformat": 4,
 "nbformat_minor": 5
}
