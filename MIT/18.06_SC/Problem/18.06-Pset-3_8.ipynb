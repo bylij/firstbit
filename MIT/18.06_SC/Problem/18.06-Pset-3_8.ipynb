{
 "cells": [
  {
   "cell_type": "markdown",
   "id": "62dee109",
   "metadata": {},
   "source": [
    ">https://ocw.mit.edu/courses/18-06sc-linear-algebra-fall-2011/resources/mit18_06scf11_ses3-8prob/"
   ]
  },
  {
   "cell_type": "markdown",
   "id": "24e27af5",
   "metadata": {},
   "source": [
    "### 问题32.1\n",
    "- 矩阵 $A$ 行满秩，存在右逆矩阵 $A_{right}^{-1}=A^T(AA^T)^{-1}=\\begin{bmatrix}1&&0\\\\0&&1\\\\1&&0\\end{bmatrix}(\\begin{bmatrix}1&&0&&1\\\\0&&1&&0\\end{bmatrix}\\begin{bmatrix}1&&0\\\\0&&1\\\\1&&0\\end{bmatrix})^{-1}\\\\\n",
    "=\\begin{bmatrix}1&&0\\\\0&&1\\\\1&&0\\end{bmatrix}(\\begin{bmatrix}2&&0\\\\0&&1\\end{bmatrix})^{-1}\\\\\n",
    "=\\begin{bmatrix}1&&0\\\\0&&1\\\\1&&0\\end{bmatrix}\\begin{bmatrix}1/2&&0\\\\0&&1\\end{bmatrix}\\\\\n",
    "=\\begin{bmatrix}1/2&&0\\\\0&&1\\\\1/2&&0\\end{bmatrix}$"
   ]
  },
  {
   "cell_type": "markdown",
   "id": "3fcfb17b",
   "metadata": {},
   "source": [
    "### 问题32.2\n",
    "- 矩阵 $A$ 不满秩，因此不存在左逆和右逆，但是存在伪逆 $A^\\dagger=V\\Sigma^\\dagger U^T$  \n",
    "先对 $A$ 进行 $SVD$ 分解：\n",
    "$A^TA=\\begin{bmatrix}4&&8\\\\3&&6\\end{bmatrix}\\begin{bmatrix}4&&3\\\\8&&6\\end{bmatrix}=\\begin{bmatrix}80&&60\\\\60&&45\\end{bmatrix}$  \n",
    "可得特征值 $\\lambda_1=125, \\lambda_2=0$ 对应特征向量 $x_1=\\begin{bmatrix}4\\\\3\\end{bmatrix}, x_2=\\begin{bmatrix}-3\\\\4\\end{bmatrix} \\implies V=\\begin{bmatrix}4/5&&-3/5\\\\3/5&&4/5\\end{bmatrix}, \\Sigma=\\begin{bmatrix}5\\sqrt{5}&&\\\\&&0\\end{bmatrix}$  \n",
    "同理，由 $AA^T=\\begin{bmatrix}4&&3\\\\8&&6\\end{bmatrix}\\begin{bmatrix}4&&8\\\\3&&6\\end{bmatrix}=\\begin{bmatrix}25&&50\\\\50&&100\\end{bmatrix}$ 可以求得 $U=\\begin{bmatrix}1/\\sqrt{5}&&-2/\\sqrt{5}\\\\2/\\sqrt{5}&&1/\\sqrt{5}\\end{bmatrix}$  \n",
    "因此 $A^\\dagger=V\\Sigma^\\dagger U^T=\\begin{bmatrix}4/5&&-3/5\\\\3/5&&4/5\\end{bmatrix}\\begin{bmatrix}1/5\\sqrt{5}&&\\\\&&0\\end{bmatrix}\\begin{bmatrix}1/\\sqrt{5}&&2/\\sqrt{5}\\\\-2/\\sqrt{5}&&1/\\sqrt{5}\\end{bmatrix}=\\begin{bmatrix}4/125&&8/125\\\\3/125&&6/125\\end{bmatrix}$"
   ]
  }
 ],
 "metadata": {
  "language_info": {
   "name": "python"
  }
 },
 "nbformat": 4,
 "nbformat_minor": 5
}
